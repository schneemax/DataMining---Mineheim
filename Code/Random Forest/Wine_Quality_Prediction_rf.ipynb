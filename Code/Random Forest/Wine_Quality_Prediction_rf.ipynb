{
 "cells": [
  {
   "cell_type": "markdown",
   "metadata": {
    "id": "GK7TLvAVjfUZ"
   },
   "source": [
    "# University of Mannheim\n",
    "## Data Mining I -- Group Project\n",
    "### Wine Quality Prediction\n",
    "#### Team members:\n",
    "* Anna-Lena Blinken\n",
    "* Max Darmstadt\n",
    "* Nicolas Hautschek\n",
    "* Erik Penther\n",
    "* Nicolas Fürhaupter"
   ]
  },
  {
   "cell_type": "markdown",
   "metadata": {
    "id": "1zQB_uITj-7f"
   },
   "source": [
    "## Importing Libraries and Data"
   ]
  },
  {
   "cell_type": "code",
   "execution_count": 1,
   "metadata": {
    "colab": {
     "base_uri": "https://localhost:8080/"
    },
    "id": "gsbH9QBLkHDX",
    "outputId": "d8c0d3a1-fec4-4a7a-cdaf-010429f18225"
   },
   "outputs": [],
   "source": [
    "#from google.colab import drive\n",
    "#drive.mount('/gdrive')\n",
    "#%cd /gdrive"
   ]
  },
  {
   "cell_type": "code",
   "execution_count": 2,
   "metadata": {
    "id": "hvggVH9Pj-PA"
   },
   "outputs": [],
   "source": [
    "# Import libraries\n",
    "\n",
    "# General libraries\n",
    "import pandas as pd\n",
    "import numpy as np\n",
    "import matplotlib.pyplot as plt\n",
    "import seaborn as sns\n",
    "from sklearn import preprocessing\n",
    "\n",
    "# Libraries for the preprocessing\n",
    "from sklearn.model_selection import train_test_split\n",
    "\n",
    "# Liraries for the model creation\n",
    "from sklearn.ensemble import RandomForestClassifier\n",
    "from sklearn.pipeline import Pipeline\n",
    "\n",
    "# Libraries for the evaluation\n",
    "from sklearn.model_selection import cross_val_score\n",
    "from sklearn.metrics import f1_score, precision_score, recall_score, confusion_matrix\n",
    "import itertools\n",
    "\n",
    "# Libraries for the model adaption\n",
    "from sklearn.model_selection import StratifiedKFold, GridSearchCV\n",
    "from imblearn.over_sampling import SMOTE \n",
    "from collections import Counter\n",
    "from sklearn.inspection import permutation_importance\n",
    "from patsy import dmatrices\n",
    "from statsmodels.stats.outliers_influence import variance_inflation_factor\n",
    "from sklearn.preprocessing import StandardScaler\n",
    "from math import sqrt"
   ]
  },
  {
   "cell_type": "code",
   "execution_count": 3,
   "metadata": {
    "colab": {
     "base_uri": "https://localhost:8080/",
     "height": 204
    },
    "id": "UJRTrgfzn6Km",
    "outputId": "88a8a855-6b22-4498-d107-4044d41ef2d7"
   },
   "outputs": [
    {
     "data": {
      "text/html": [
       "<div>\n",
       "<style scoped>\n",
       "    .dataframe tbody tr th:only-of-type {\n",
       "        vertical-align: middle;\n",
       "    }\n",
       "\n",
       "    .dataframe tbody tr th {\n",
       "        vertical-align: top;\n",
       "    }\n",
       "\n",
       "    .dataframe thead th {\n",
       "        text-align: right;\n",
       "    }\n",
       "</style>\n",
       "<table border=\"1\" class=\"dataframe\">\n",
       "  <thead>\n",
       "    <tr style=\"text-align: right;\">\n",
       "      <th></th>\n",
       "      <th>type</th>\n",
       "      <th>fixed acidity</th>\n",
       "      <th>volatile acidity</th>\n",
       "      <th>citric acid</th>\n",
       "      <th>residual sugar</th>\n",
       "      <th>chlorides</th>\n",
       "      <th>free sulfur dioxide</th>\n",
       "      <th>total sulfur dioxide</th>\n",
       "      <th>density</th>\n",
       "      <th>pH</th>\n",
       "      <th>sulphates</th>\n",
       "      <th>alcohol</th>\n",
       "      <th>quality</th>\n",
       "    </tr>\n",
       "  </thead>\n",
       "  <tbody>\n",
       "    <tr>\n",
       "      <th>0</th>\n",
       "      <td>white</td>\n",
       "      <td>7.0</td>\n",
       "      <td>0.27</td>\n",
       "      <td>0.36</td>\n",
       "      <td>20.7</td>\n",
       "      <td>0.045</td>\n",
       "      <td>45.0</td>\n",
       "      <td>170.0</td>\n",
       "      <td>1.0010</td>\n",
       "      <td>3.00</td>\n",
       "      <td>0.45</td>\n",
       "      <td>8.8</td>\n",
       "      <td>6</td>\n",
       "    </tr>\n",
       "    <tr>\n",
       "      <th>1</th>\n",
       "      <td>white</td>\n",
       "      <td>6.3</td>\n",
       "      <td>0.30</td>\n",
       "      <td>0.34</td>\n",
       "      <td>1.6</td>\n",
       "      <td>0.049</td>\n",
       "      <td>14.0</td>\n",
       "      <td>132.0</td>\n",
       "      <td>0.9940</td>\n",
       "      <td>3.30</td>\n",
       "      <td>0.49</td>\n",
       "      <td>9.5</td>\n",
       "      <td>6</td>\n",
       "    </tr>\n",
       "    <tr>\n",
       "      <th>2</th>\n",
       "      <td>white</td>\n",
       "      <td>8.1</td>\n",
       "      <td>0.28</td>\n",
       "      <td>0.40</td>\n",
       "      <td>6.9</td>\n",
       "      <td>0.050</td>\n",
       "      <td>30.0</td>\n",
       "      <td>97.0</td>\n",
       "      <td>0.9951</td>\n",
       "      <td>3.26</td>\n",
       "      <td>0.44</td>\n",
       "      <td>10.1</td>\n",
       "      <td>6</td>\n",
       "    </tr>\n",
       "    <tr>\n",
       "      <th>3</th>\n",
       "      <td>white</td>\n",
       "      <td>7.2</td>\n",
       "      <td>0.23</td>\n",
       "      <td>0.32</td>\n",
       "      <td>8.5</td>\n",
       "      <td>0.058</td>\n",
       "      <td>47.0</td>\n",
       "      <td>186.0</td>\n",
       "      <td>0.9956</td>\n",
       "      <td>3.19</td>\n",
       "      <td>0.40</td>\n",
       "      <td>9.9</td>\n",
       "      <td>6</td>\n",
       "    </tr>\n",
       "    <tr>\n",
       "      <th>4</th>\n",
       "      <td>white</td>\n",
       "      <td>7.2</td>\n",
       "      <td>0.23</td>\n",
       "      <td>0.32</td>\n",
       "      <td>8.5</td>\n",
       "      <td>0.058</td>\n",
       "      <td>47.0</td>\n",
       "      <td>186.0</td>\n",
       "      <td>0.9956</td>\n",
       "      <td>3.19</td>\n",
       "      <td>0.40</td>\n",
       "      <td>9.9</td>\n",
       "      <td>6</td>\n",
       "    </tr>\n",
       "  </tbody>\n",
       "</table>\n",
       "</div>"
      ],
      "text/plain": [
       "    type  fixed acidity  volatile acidity  citric acid  residual sugar  \\\n",
       "0  white            7.0              0.27         0.36            20.7   \n",
       "1  white            6.3              0.30         0.34             1.6   \n",
       "2  white            8.1              0.28         0.40             6.9   \n",
       "3  white            7.2              0.23         0.32             8.5   \n",
       "4  white            7.2              0.23         0.32             8.5   \n",
       "\n",
       "   chlorides  free sulfur dioxide  total sulfur dioxide  density    pH  \\\n",
       "0      0.045                 45.0                 170.0   1.0010  3.00   \n",
       "1      0.049                 14.0                 132.0   0.9940  3.30   \n",
       "2      0.050                 30.0                  97.0   0.9951  3.26   \n",
       "3      0.058                 47.0                 186.0   0.9956  3.19   \n",
       "4      0.058                 47.0                 186.0   0.9956  3.19   \n",
       "\n",
       "   sulphates  alcohol  quality  \n",
       "0       0.45      8.8        6  \n",
       "1       0.49      9.5        6  \n",
       "2       0.44     10.1        6  \n",
       "3       0.40      9.9        6  \n",
       "4       0.40      9.9        6  "
      ]
     },
     "execution_count": 3,
     "metadata": {},
     "output_type": "execute_result"
    }
   ],
   "source": [
    "# Import wine data\n",
    "\n",
    "wine_data = pd.read_csv('../winequalityN.csv')\n",
    "wine_data.head()"
   ]
  },
  {
   "cell_type": "markdown",
   "metadata": {
    "id": "CuM5oEGmKSuW"
   },
   "source": [
    "## Visualize and Analyse Data"
   ]
  },
  {
   "cell_type": "code",
   "execution_count": 4,
   "metadata": {
    "colab": {
     "base_uri": "https://localhost:8080/"
    },
    "id": "nENObjUBjeya",
    "outputId": "121e0e52-176a-43a0-829b-dcb59454c21e",
    "scrolled": true
   },
   "outputs": [
    {
     "name": "stdout",
     "output_type": "stream",
     "text": [
      "<class 'pandas.core.frame.DataFrame'>\n",
      "RangeIndex: 6497 entries, 0 to 6496\n",
      "Data columns (total 13 columns):\n",
      " #   Column                Non-Null Count  Dtype  \n",
      "---  ------                --------------  -----  \n",
      " 0   type                  6497 non-null   object \n",
      " 1   fixed acidity         6487 non-null   float64\n",
      " 2   volatile acidity      6489 non-null   float64\n",
      " 3   citric acid           6494 non-null   float64\n",
      " 4   residual sugar        6495 non-null   float64\n",
      " 5   chlorides             6495 non-null   float64\n",
      " 6   free sulfur dioxide   6497 non-null   float64\n",
      " 7   total sulfur dioxide  6497 non-null   float64\n",
      " 8   density               6497 non-null   float64\n",
      " 9   pH                    6488 non-null   float64\n",
      " 10  sulphates             6493 non-null   float64\n",
      " 11  alcohol               6497 non-null   float64\n",
      " 12  quality               6497 non-null   int64  \n",
      "dtypes: float64(11), int64(1), object(1)\n",
      "memory usage: 660.0+ KB\n"
     ]
    }
   ],
   "source": [
    "# Print wine data info\n",
    "\n",
    "wine_data.info()"
   ]
  },
  {
   "cell_type": "code",
   "execution_count": 5,
   "metadata": {},
   "outputs": [
    {
     "data": {
      "text/html": [
       "<div>\n",
       "<style scoped>\n",
       "    .dataframe tbody tr th:only-of-type {\n",
       "        vertical-align: middle;\n",
       "    }\n",
       "\n",
       "    .dataframe tbody tr th {\n",
       "        vertical-align: top;\n",
       "    }\n",
       "\n",
       "    .dataframe thead th {\n",
       "        text-align: right;\n",
       "    }\n",
       "</style>\n",
       "<table border=\"1\" class=\"dataframe\">\n",
       "  <thead>\n",
       "    <tr style=\"text-align: right;\">\n",
       "      <th></th>\n",
       "      <th>fixed acidity</th>\n",
       "      <th>volatile acidity</th>\n",
       "      <th>citric acid</th>\n",
       "      <th>residual sugar</th>\n",
       "      <th>chlorides</th>\n",
       "      <th>free sulfur dioxide</th>\n",
       "      <th>total sulfur dioxide</th>\n",
       "      <th>density</th>\n",
       "      <th>pH</th>\n",
       "      <th>sulphates</th>\n",
       "      <th>alcohol</th>\n",
       "      <th>quality</th>\n",
       "    </tr>\n",
       "  </thead>\n",
       "  <tbody>\n",
       "    <tr>\n",
       "      <th>count</th>\n",
       "      <td>6487.000000</td>\n",
       "      <td>6489.000000</td>\n",
       "      <td>6494.000000</td>\n",
       "      <td>6495.000000</td>\n",
       "      <td>6495.000000</td>\n",
       "      <td>6497.000000</td>\n",
       "      <td>6497.000000</td>\n",
       "      <td>6497.000000</td>\n",
       "      <td>6488.000000</td>\n",
       "      <td>6493.000000</td>\n",
       "      <td>6497.000000</td>\n",
       "      <td>6497.000000</td>\n",
       "    </tr>\n",
       "    <tr>\n",
       "      <th>mean</th>\n",
       "      <td>7.216579</td>\n",
       "      <td>0.339691</td>\n",
       "      <td>0.318722</td>\n",
       "      <td>5.444326</td>\n",
       "      <td>0.056042</td>\n",
       "      <td>30.525319</td>\n",
       "      <td>115.744574</td>\n",
       "      <td>0.994697</td>\n",
       "      <td>3.218395</td>\n",
       "      <td>0.531215</td>\n",
       "      <td>10.491801</td>\n",
       "      <td>5.818378</td>\n",
       "    </tr>\n",
       "    <tr>\n",
       "      <th>std</th>\n",
       "      <td>1.296750</td>\n",
       "      <td>0.164649</td>\n",
       "      <td>0.145265</td>\n",
       "      <td>4.758125</td>\n",
       "      <td>0.035036</td>\n",
       "      <td>17.749400</td>\n",
       "      <td>56.521855</td>\n",
       "      <td>0.002999</td>\n",
       "      <td>0.160748</td>\n",
       "      <td>0.148814</td>\n",
       "      <td>1.192712</td>\n",
       "      <td>0.873255</td>\n",
       "    </tr>\n",
       "    <tr>\n",
       "      <th>min</th>\n",
       "      <td>3.800000</td>\n",
       "      <td>0.080000</td>\n",
       "      <td>0.000000</td>\n",
       "      <td>0.600000</td>\n",
       "      <td>0.009000</td>\n",
       "      <td>1.000000</td>\n",
       "      <td>6.000000</td>\n",
       "      <td>0.987110</td>\n",
       "      <td>2.720000</td>\n",
       "      <td>0.220000</td>\n",
       "      <td>8.000000</td>\n",
       "      <td>3.000000</td>\n",
       "    </tr>\n",
       "    <tr>\n",
       "      <th>25%</th>\n",
       "      <td>6.400000</td>\n",
       "      <td>0.230000</td>\n",
       "      <td>0.250000</td>\n",
       "      <td>1.800000</td>\n",
       "      <td>0.038000</td>\n",
       "      <td>17.000000</td>\n",
       "      <td>77.000000</td>\n",
       "      <td>0.992340</td>\n",
       "      <td>3.110000</td>\n",
       "      <td>0.430000</td>\n",
       "      <td>9.500000</td>\n",
       "      <td>5.000000</td>\n",
       "    </tr>\n",
       "    <tr>\n",
       "      <th>50%</th>\n",
       "      <td>7.000000</td>\n",
       "      <td>0.290000</td>\n",
       "      <td>0.310000</td>\n",
       "      <td>3.000000</td>\n",
       "      <td>0.047000</td>\n",
       "      <td>29.000000</td>\n",
       "      <td>118.000000</td>\n",
       "      <td>0.994890</td>\n",
       "      <td>3.210000</td>\n",
       "      <td>0.510000</td>\n",
       "      <td>10.300000</td>\n",
       "      <td>6.000000</td>\n",
       "    </tr>\n",
       "    <tr>\n",
       "      <th>75%</th>\n",
       "      <td>7.700000</td>\n",
       "      <td>0.400000</td>\n",
       "      <td>0.390000</td>\n",
       "      <td>8.100000</td>\n",
       "      <td>0.065000</td>\n",
       "      <td>41.000000</td>\n",
       "      <td>156.000000</td>\n",
       "      <td>0.996990</td>\n",
       "      <td>3.320000</td>\n",
       "      <td>0.600000</td>\n",
       "      <td>11.300000</td>\n",
       "      <td>6.000000</td>\n",
       "    </tr>\n",
       "    <tr>\n",
       "      <th>max</th>\n",
       "      <td>15.900000</td>\n",
       "      <td>1.580000</td>\n",
       "      <td>1.660000</td>\n",
       "      <td>65.800000</td>\n",
       "      <td>0.611000</td>\n",
       "      <td>289.000000</td>\n",
       "      <td>440.000000</td>\n",
       "      <td>1.038980</td>\n",
       "      <td>4.010000</td>\n",
       "      <td>2.000000</td>\n",
       "      <td>14.900000</td>\n",
       "      <td>9.000000</td>\n",
       "    </tr>\n",
       "  </tbody>\n",
       "</table>\n",
       "</div>"
      ],
      "text/plain": [
       "       fixed acidity  volatile acidity  citric acid  residual sugar  \\\n",
       "count    6487.000000       6489.000000  6494.000000     6495.000000   \n",
       "mean        7.216579          0.339691     0.318722        5.444326   \n",
       "std         1.296750          0.164649     0.145265        4.758125   \n",
       "min         3.800000          0.080000     0.000000        0.600000   \n",
       "25%         6.400000          0.230000     0.250000        1.800000   \n",
       "50%         7.000000          0.290000     0.310000        3.000000   \n",
       "75%         7.700000          0.400000     0.390000        8.100000   \n",
       "max        15.900000          1.580000     1.660000       65.800000   \n",
       "\n",
       "         chlorides  free sulfur dioxide  total sulfur dioxide      density  \\\n",
       "count  6495.000000          6497.000000           6497.000000  6497.000000   \n",
       "mean      0.056042            30.525319            115.744574     0.994697   \n",
       "std       0.035036            17.749400             56.521855     0.002999   \n",
       "min       0.009000             1.000000              6.000000     0.987110   \n",
       "25%       0.038000            17.000000             77.000000     0.992340   \n",
       "50%       0.047000            29.000000            118.000000     0.994890   \n",
       "75%       0.065000            41.000000            156.000000     0.996990   \n",
       "max       0.611000           289.000000            440.000000     1.038980   \n",
       "\n",
       "                pH    sulphates      alcohol      quality  \n",
       "count  6488.000000  6493.000000  6497.000000  6497.000000  \n",
       "mean      3.218395     0.531215    10.491801     5.818378  \n",
       "std       0.160748     0.148814     1.192712     0.873255  \n",
       "min       2.720000     0.220000     8.000000     3.000000  \n",
       "25%       3.110000     0.430000     9.500000     5.000000  \n",
       "50%       3.210000     0.510000    10.300000     6.000000  \n",
       "75%       3.320000     0.600000    11.300000     6.000000  \n",
       "max       4.010000     2.000000    14.900000     9.000000  "
      ]
     },
     "execution_count": 5,
     "metadata": {},
     "output_type": "execute_result"
    }
   ],
   "source": [
    "# Analyse the data by its mean etc.\n",
    "\n",
    "wine_data.describe()"
   ]
  },
  {
   "cell_type": "markdown",
   "metadata": {},
   "source": [
    "### Null Values"
   ]
  },
  {
   "cell_type": "code",
   "execution_count": 6,
   "metadata": {
    "colab": {
     "base_uri": "https://localhost:8080/"
    },
    "id": "gVKkVJqGnrWu",
    "outputId": "3243cfc6-695e-4f94-c5f4-9786f6f8a5f6"
   },
   "outputs": [
    {
     "data": {
      "text/plain": [
       "type                     0\n",
       "fixed acidity           10\n",
       "volatile acidity         8\n",
       "citric acid              3\n",
       "residual sugar           2\n",
       "chlorides                2\n",
       "free sulfur dioxide      0\n",
       "total sulfur dioxide     0\n",
       "density                  0\n",
       "pH                       9\n",
       "sulphates                4\n",
       "alcohol                  0\n",
       "quality                  0\n",
       "dtype: int64"
      ]
     },
     "execution_count": 6,
     "metadata": {},
     "output_type": "execute_result"
    }
   ],
   "source": [
    "# Check data for null values\n",
    "\n",
    "wine_data.isnull().sum()"
   ]
  },
  {
   "cell_type": "code",
   "execution_count": 7,
   "metadata": {
    "colab": {
     "base_uri": "https://localhost:8080/"
    },
    "id": "_iS0PBQmnxg0",
    "outputId": "0659d752-153b-4c14-be98-6aac6e65d4ef"
   },
   "outputs": [
    {
     "data": {
      "text/plain": [
       "6    2836\n",
       "5    2138\n",
       "7    1079\n",
       "4     216\n",
       "8     193\n",
       "3      30\n",
       "9       5\n",
       "Name: quality, dtype: int64"
      ]
     },
     "execution_count": 7,
     "metadata": {},
     "output_type": "execute_result"
    }
   ],
   "source": [
    "# Check class distribution\n",
    "\n",
    "wine_data.quality.value_counts()"
   ]
  },
  {
   "cell_type": "markdown",
   "metadata": {},
   "source": [
    "### Class Distribution"
   ]
  },
  {
   "cell_type": "code",
   "execution_count": 8,
   "metadata": {
    "colab": {
     "base_uri": "https://localhost:8080/",
     "height": 279
    },
    "id": "bbZypKLWoPDe",
    "outputId": "165db292-f479-4b0c-e6a8-d4d70fa8c178"
   },
   "outputs": [
    {
     "data": {
      "image/png": "[encoded data removed]",
      "text/plain": [
       "<Figure size 432x288 with 1 Axes>"
      ]
     },
     "metadata": {
      "needs_background": "light"
     },
     "output_type": "display_data"
    }
   ],
   "source": [
    "# Visualize class distribution\n",
    "\n",
    "sns.barplot(x=wine_data.quality.value_counts().index, y=wine_data.quality.value_counts())\n",
    "plt.ylabel('samples')\n",
    "plt.xlabel('quality')\n",
    "plt.show()"
   ]
  },
  {
   "cell_type": "code",
   "execution_count": 9,
   "metadata": {
    "id": "QTp4N3nao1u1"
   },
   "outputs": [],
   "source": [
    "# Turn 10 classes into 3 classes\n",
    "\n",
    "wine_data['quality'] = wine_data.quality.apply(lambda x: 2 if x>6 else (1 if x> 4 else 0))"
   ]
  },
  {
   "cell_type": "code",
   "execution_count": 10,
   "metadata": {
    "colab": {
     "base_uri": "https://localhost:8080/"
    },
    "id": "E4M2D7Yqr0ts",
    "outputId": "aeb671f0-97ad-466b-b0f6-ca92be0efc11"
   },
   "outputs": [
    {
     "data": {
      "text/plain": [
       "1    4974\n",
       "2    1277\n",
       "0     246\n",
       "Name: quality, dtype: int64"
      ]
     },
     "execution_count": 10,
     "metadata": {},
     "output_type": "execute_result"
    }
   ],
   "source": [
    "# Check class distribution\n",
    "\n",
    "wine_data.quality.value_counts()"
   ]
  },
  {
   "cell_type": "code",
   "execution_count": 11,
   "metadata": {
    "colab": {
     "base_uri": "https://localhost:8080/",
     "height": 279
    },
    "id": "Ytp1sF8mrGqV",
    "outputId": "ff5f2c11-ffde-4a77-c481-082c053fad81"
   },
   "outputs": [
    {
     "data": {
      "image/png": "[encoded data removed]",
      "text/plain": [
       "<Figure size 432x288 with 1 Axes>"
      ]
     },
     "metadata": {
      "needs_background": "light"
     },
     "output_type": "display_data"
    }
   ],
   "source": [
    "# Visualize class distribution\n",
    "\n",
    "sns.barplot(x=wine_data.quality.value_counts().index, y=wine_data.quality.value_counts())\n",
    "plt.ylabel('samples')\n",
    "plt.xlabel('quality')\n",
    "plt.show()"
   ]
  },
  {
   "cell_type": "code",
   "execution_count": 12,
   "metadata": {},
   "outputs": [],
   "source": [
    "# Turn 10 classes into 2 classes\n",
    "\n",
    "wine_data_2 = pd.read_csv('../winequalityN.csv')\n",
    "wine_data_2['quality'] = wine_data_2.quality.apply(lambda x: 2 if x>5 else 0)"
   ]
  },
  {
   "cell_type": "code",
   "execution_count": 13,
   "metadata": {},
   "outputs": [
    {
     "data": {
      "text/plain": [
       "2    4113\n",
       "0    2384\n",
       "Name: quality, dtype: int64"
      ]
     },
     "execution_count": 13,
     "metadata": {},
     "output_type": "execute_result"
    }
   ],
   "source": [
    "# Check class distribution\n",
    "\n",
    "wine_data_2.quality.value_counts()"
   ]
  },
  {
   "cell_type": "code",
   "execution_count": 14,
   "metadata": {},
   "outputs": [
    {
     "data": {
      "image/png": "[encoded data removed]",
      "text/plain": [
       "<Figure size 432x288 with 1 Axes>"
      ]
     },
     "metadata": {
      "needs_background": "light"
     },
     "output_type": "display_data"
    }
   ],
   "source": [
    "# Visualize class distribution\n",
    "\n",
    "sns.barplot(x=wine_data_2.quality.value_counts().index, y=wine_data_2.quality.value_counts())\n",
    "plt.ylabel('samples')\n",
    "plt.xlabel('quality')\n",
    "plt.show()"
   ]
  },
  {
   "cell_type": "markdown",
   "metadata": {},
   "source": [
    "### Check duplicates"
   ]
  },
  {
   "cell_type": "code",
   "execution_count": 15,
   "metadata": {},
   "outputs": [
    {
     "data": {
      "text/plain": [
       "6497"
      ]
     },
     "metadata": {},
     "output_type": "display_data"
    },
    {
     "data": {
      "text/plain": [
       "6497"
      ]
     },
     "metadata": {},
     "output_type": "display_data"
    }
   ],
   "source": [
    "# Count duplicates and remove duplicates\n",
    "\n",
    "display(len(wine_data.index))\n",
    "wine_data.drop_duplicates()\n",
    "display(len(wine_data.index))"
   ]
  },
  {
   "cell_type": "markdown",
   "metadata": {},
   "source": [
    "### Unique Values"
   ]
  },
  {
   "cell_type": "code",
   "execution_count": 16,
   "metadata": {},
   "outputs": [
    {
     "data": {
      "text/plain": [
       "type                      2\n",
       "fixed acidity           106\n",
       "volatile acidity        187\n",
       "citric acid              89\n",
       "residual sugar          316\n",
       "chlorides               214\n",
       "free sulfur dioxide     135\n",
       "total sulfur dioxide    276\n",
       "density                 998\n",
       "pH                      108\n",
       "sulphates               111\n",
       "alcohol                 111\n",
       "quality                   3\n",
       "dtype: int64"
      ]
     },
     "execution_count": 16,
     "metadata": {},
     "output_type": "execute_result"
    }
   ],
   "source": [
    "# Count uniques values of each column\n",
    "\n",
    "wine_data.nunique()"
   ]
  },
  {
   "cell_type": "markdown",
   "metadata": {},
   "source": [
    "### Distribution of Values"
   ]
  },
  {
   "cell_type": "code",
   "execution_count": 17,
   "metadata": {},
   "outputs": [
    {
     "data": {
      "text/plain": [
       "<AxesSubplot:>"
      ]
     },
     "execution_count": 17,
     "metadata": {},
     "output_type": "execute_result"
    },
    {
     "data": {
      "image/png": "[encoded data removed]",
      "text/plain": [
       "<Figure size 432x288 with 1 Axes>"
      ]
     },
     "metadata": {
      "needs_background": "light"
     },
     "output_type": "display_data"
    }
   ],
   "source": [
    "# Plot histogram for each categorical column\n",
    "\n",
    "wine_data['type'].value_counts().plot(kind='bar')"
   ]
  },
  {
   "cell_type": "code",
   "execution_count": 18,
   "metadata": {},
   "outputs": [
    {
     "data": {
      "text/plain": [
       "array([[<AxesSubplot:title={'center':'fixed acidity'}>,\n",
       "        <AxesSubplot:title={'center':'volatile acidity'}>,\n",
       "        <AxesSubplot:title={'center':'citric acid'}>],\n",
       "       [<AxesSubplot:title={'center':'residual sugar'}>,\n",
       "        <AxesSubplot:title={'center':'chlorides'}>,\n",
       "        <AxesSubplot:title={'center':'free sulfur dioxide'}>],\n",
       "       [<AxesSubplot:title={'center':'total sulfur dioxide'}>,\n",
       "        <AxesSubplot:title={'center':'density'}>,\n",
       "        <AxesSubplot:title={'center':'pH'}>],\n",
       "       [<AxesSubplot:title={'center':'sulphates'}>,\n",
       "        <AxesSubplot:title={'center':'alcohol'}>,\n",
       "        <AxesSubplot:title={'center':'quality'}>]], dtype=object)"
      ]
     },
     "execution_count": 18,
     "metadata": {},
     "output_type": "execute_result"
    },
    {
     "data": {
      "image/png": "[encoded data removed]",
      "text/plain": [
       "<Figure size 1080x720 with 12 Axes>"
      ]
     },
     "metadata": {
      "needs_background": "light"
     },
     "output_type": "display_data"
    }
   ],
   "source": [
    "# Plot histogram for each numerical column\n",
    "\n",
    "wine_data.hist(figsize=(15, 10))"
   ]
  },
  {
   "cell_type": "code",
   "execution_count": 19,
   "metadata": {},
   "outputs": [
    {
     "data": {
      "image/png": "[encoded data removed]",
      "text/plain": [
       "<Figure size 1080x1080 with 144 Axes>"
      ]
     },
     "metadata": {
      "needs_background": "light"
     },
     "output_type": "display_data"
    }
   ],
   "source": [
    "# Plot scatterplots for all possible combinations of columns\n",
    "\n",
    "pd.plotting.scatter_matrix(wine_data, figsize=(15, 15), s=150);"
   ]
  },
  {
   "cell_type": "markdown",
   "metadata": {},
   "source": [
    "## Data Cleaning"
   ]
  },
  {
   "cell_type": "code",
   "execution_count": 20,
   "metadata": {},
   "outputs": [
    {
     "data": {
      "text/plain": [
       "type                    0\n",
       "fixed acidity           0\n",
       "volatile acidity        0\n",
       "citric acid             0\n",
       "residual sugar          0\n",
       "chlorides               0\n",
       "free sulfur dioxide     0\n",
       "total sulfur dioxide    0\n",
       "density                 0\n",
       "pH                      0\n",
       "sulphates               0\n",
       "alcohol                 0\n",
       "quality                 0\n",
       "dtype: int64"
      ]
     },
     "metadata": {},
     "output_type": "display_data"
    },
    {
     "data": {
      "text/plain": [
       "6463"
      ]
     },
     "metadata": {},
     "output_type": "display_data"
    }
   ],
   "source": [
    "# Delete null-values \n",
    "\n",
    "wine_data = wine_data.dropna(axis=0, how=\"any\", thresh=None, subset=None, inplace=False)\n",
    "display(wine_data.isnull().sum())\n",
    "display(len(wine_data.index))"
   ]
  },
  {
   "cell_type": "code",
   "execution_count": 21,
   "metadata": {},
   "outputs": [
    {
     "data": {
      "text/html": [
       "<div>\n",
       "<style scoped>\n",
       "    .dataframe tbody tr th:only-of-type {\n",
       "        vertical-align: middle;\n",
       "    }\n",
       "\n",
       "    .dataframe tbody tr th {\n",
       "        vertical-align: top;\n",
       "    }\n",
       "\n",
       "    .dataframe thead th {\n",
       "        text-align: right;\n",
       "    }\n",
       "</style>\n",
       "<table border=\"1\" class=\"dataframe\">\n",
       "  <thead>\n",
       "    <tr style=\"text-align: right;\">\n",
       "      <th></th>\n",
       "      <th>type</th>\n",
       "      <th>fixed acidity</th>\n",
       "      <th>volatile acidity</th>\n",
       "      <th>citric acid</th>\n",
       "      <th>residual sugar</th>\n",
       "      <th>chlorides</th>\n",
       "      <th>free sulfur dioxide</th>\n",
       "      <th>total sulfur dioxide</th>\n",
       "      <th>density</th>\n",
       "      <th>pH</th>\n",
       "      <th>sulphates</th>\n",
       "      <th>alcohol</th>\n",
       "      <th>quality</th>\n",
       "    </tr>\n",
       "  </thead>\n",
       "  <tbody>\n",
       "    <tr>\n",
       "      <th>0</th>\n",
       "      <td>white</td>\n",
       "      <td>7.0</td>\n",
       "      <td>0.27</td>\n",
       "      <td>0.36</td>\n",
       "      <td>20.7</td>\n",
       "      <td>0.045</td>\n",
       "      <td>45.0</td>\n",
       "      <td>170.0</td>\n",
       "      <td>1.0010</td>\n",
       "      <td>3.00</td>\n",
       "      <td>0.45</td>\n",
       "      <td>8.8</td>\n",
       "      <td>1</td>\n",
       "    </tr>\n",
       "    <tr>\n",
       "      <th>1</th>\n",
       "      <td>white</td>\n",
       "      <td>6.3</td>\n",
       "      <td>0.30</td>\n",
       "      <td>0.34</td>\n",
       "      <td>1.6</td>\n",
       "      <td>0.049</td>\n",
       "      <td>14.0</td>\n",
       "      <td>132.0</td>\n",
       "      <td>0.9940</td>\n",
       "      <td>3.30</td>\n",
       "      <td>0.49</td>\n",
       "      <td>9.5</td>\n",
       "      <td>1</td>\n",
       "    </tr>\n",
       "    <tr>\n",
       "      <th>2</th>\n",
       "      <td>white</td>\n",
       "      <td>8.1</td>\n",
       "      <td>0.28</td>\n",
       "      <td>0.40</td>\n",
       "      <td>6.9</td>\n",
       "      <td>0.050</td>\n",
       "      <td>30.0</td>\n",
       "      <td>97.0</td>\n",
       "      <td>0.9951</td>\n",
       "      <td>3.26</td>\n",
       "      <td>0.44</td>\n",
       "      <td>10.1</td>\n",
       "      <td>1</td>\n",
       "    </tr>\n",
       "    <tr>\n",
       "      <th>3</th>\n",
       "      <td>white</td>\n",
       "      <td>7.2</td>\n",
       "      <td>0.23</td>\n",
       "      <td>0.32</td>\n",
       "      <td>8.5</td>\n",
       "      <td>0.058</td>\n",
       "      <td>47.0</td>\n",
       "      <td>186.0</td>\n",
       "      <td>0.9956</td>\n",
       "      <td>3.19</td>\n",
       "      <td>0.40</td>\n",
       "      <td>9.9</td>\n",
       "      <td>1</td>\n",
       "    </tr>\n",
       "    <tr>\n",
       "      <th>4</th>\n",
       "      <td>white</td>\n",
       "      <td>7.2</td>\n",
       "      <td>0.23</td>\n",
       "      <td>0.32</td>\n",
       "      <td>8.5</td>\n",
       "      <td>0.058</td>\n",
       "      <td>47.0</td>\n",
       "      <td>186.0</td>\n",
       "      <td>0.9956</td>\n",
       "      <td>3.19</td>\n",
       "      <td>0.40</td>\n",
       "      <td>9.9</td>\n",
       "      <td>1</td>\n",
       "    </tr>\n",
       "  </tbody>\n",
       "</table>\n",
       "</div>"
      ],
      "text/plain": [
       "    type  fixed acidity  volatile acidity  citric acid  residual sugar  \\\n",
       "0  white            7.0              0.27         0.36            20.7   \n",
       "1  white            6.3              0.30         0.34             1.6   \n",
       "2  white            8.1              0.28         0.40             6.9   \n",
       "3  white            7.2              0.23         0.32             8.5   \n",
       "4  white            7.2              0.23         0.32             8.5   \n",
       "\n",
       "   chlorides  free sulfur dioxide  total sulfur dioxide  density    pH  \\\n",
       "0      0.045                 45.0                 170.0   1.0010  3.00   \n",
       "1      0.049                 14.0                 132.0   0.9940  3.30   \n",
       "2      0.050                 30.0                  97.0   0.9951  3.26   \n",
       "3      0.058                 47.0                 186.0   0.9956  3.19   \n",
       "4      0.058                 47.0                 186.0   0.9956  3.19   \n",
       "\n",
       "   sulphates  alcohol  quality  \n",
       "0       0.45      8.8        1  \n",
       "1       0.49      9.5        1  \n",
       "2       0.44     10.1        1  \n",
       "3       0.40      9.9        1  \n",
       "4       0.40      9.9        1  "
      ]
     },
     "metadata": {},
     "output_type": "display_data"
    },
    {
     "data": {
      "text/html": [
       "<div>\n",
       "<style scoped>\n",
       "    .dataframe tbody tr th:only-of-type {\n",
       "        vertical-align: middle;\n",
       "    }\n",
       "\n",
       "    .dataframe tbody tr th {\n",
       "        vertical-align: top;\n",
       "    }\n",
       "\n",
       "    .dataframe thead th {\n",
       "        text-align: right;\n",
       "    }\n",
       "</style>\n",
       "<table border=\"1\" class=\"dataframe\">\n",
       "  <thead>\n",
       "    <tr style=\"text-align: right;\">\n",
       "      <th></th>\n",
       "      <th>type</th>\n",
       "      <th>fixed acidity</th>\n",
       "      <th>volatile acidity</th>\n",
       "      <th>citric acid</th>\n",
       "      <th>residual sugar</th>\n",
       "      <th>chlorides</th>\n",
       "      <th>free sulfur dioxide</th>\n",
       "      <th>total sulfur dioxide</th>\n",
       "      <th>density</th>\n",
       "      <th>pH</th>\n",
       "      <th>sulphates</th>\n",
       "      <th>alcohol</th>\n",
       "      <th>quality</th>\n",
       "    </tr>\n",
       "  </thead>\n",
       "  <tbody>\n",
       "    <tr>\n",
       "      <th>0</th>\n",
       "      <td>1.0</td>\n",
       "      <td>7.0</td>\n",
       "      <td>0.27</td>\n",
       "      <td>0.36</td>\n",
       "      <td>20.7</td>\n",
       "      <td>0.045</td>\n",
       "      <td>45.0</td>\n",
       "      <td>170.0</td>\n",
       "      <td>1.0010</td>\n",
       "      <td>3.00</td>\n",
       "      <td>0.45</td>\n",
       "      <td>8.8</td>\n",
       "      <td>1</td>\n",
       "    </tr>\n",
       "    <tr>\n",
       "      <th>1</th>\n",
       "      <td>1.0</td>\n",
       "      <td>6.3</td>\n",
       "      <td>0.30</td>\n",
       "      <td>0.34</td>\n",
       "      <td>1.6</td>\n",
       "      <td>0.049</td>\n",
       "      <td>14.0</td>\n",
       "      <td>132.0</td>\n",
       "      <td>0.9940</td>\n",
       "      <td>3.30</td>\n",
       "      <td>0.49</td>\n",
       "      <td>9.5</td>\n",
       "      <td>1</td>\n",
       "    </tr>\n",
       "    <tr>\n",
       "      <th>2</th>\n",
       "      <td>1.0</td>\n",
       "      <td>8.1</td>\n",
       "      <td>0.28</td>\n",
       "      <td>0.40</td>\n",
       "      <td>6.9</td>\n",
       "      <td>0.050</td>\n",
       "      <td>30.0</td>\n",
       "      <td>97.0</td>\n",
       "      <td>0.9951</td>\n",
       "      <td>3.26</td>\n",
       "      <td>0.44</td>\n",
       "      <td>10.1</td>\n",
       "      <td>1</td>\n",
       "    </tr>\n",
       "    <tr>\n",
       "      <th>3</th>\n",
       "      <td>1.0</td>\n",
       "      <td>7.2</td>\n",
       "      <td>0.23</td>\n",
       "      <td>0.32</td>\n",
       "      <td>8.5</td>\n",
       "      <td>0.058</td>\n",
       "      <td>47.0</td>\n",
       "      <td>186.0</td>\n",
       "      <td>0.9956</td>\n",
       "      <td>3.19</td>\n",
       "      <td>0.40</td>\n",
       "      <td>9.9</td>\n",
       "      <td>1</td>\n",
       "    </tr>\n",
       "    <tr>\n",
       "      <th>4</th>\n",
       "      <td>1.0</td>\n",
       "      <td>7.2</td>\n",
       "      <td>0.23</td>\n",
       "      <td>0.32</td>\n",
       "      <td>8.5</td>\n",
       "      <td>0.058</td>\n",
       "      <td>47.0</td>\n",
       "      <td>186.0</td>\n",
       "      <td>0.9956</td>\n",
       "      <td>3.19</td>\n",
       "      <td>0.40</td>\n",
       "      <td>9.9</td>\n",
       "      <td>1</td>\n",
       "    </tr>\n",
       "  </tbody>\n",
       "</table>\n",
       "</div>"
      ],
      "text/plain": [
       "   type  fixed acidity  volatile acidity  citric acid  residual sugar  \\\n",
       "0   1.0            7.0              0.27         0.36            20.7   \n",
       "1   1.0            6.3              0.30         0.34             1.6   \n",
       "2   1.0            8.1              0.28         0.40             6.9   \n",
       "3   1.0            7.2              0.23         0.32             8.5   \n",
       "4   1.0            7.2              0.23         0.32             8.5   \n",
       "\n",
       "   chlorides  free sulfur dioxide  total sulfur dioxide  density    pH  \\\n",
       "0      0.045                 45.0                 170.0   1.0010  3.00   \n",
       "1      0.049                 14.0                 132.0   0.9940  3.30   \n",
       "2      0.050                 30.0                  97.0   0.9951  3.26   \n",
       "3      0.058                 47.0                 186.0   0.9956  3.19   \n",
       "4      0.058                 47.0                 186.0   0.9956  3.19   \n",
       "\n",
       "   sulphates  alcohol  quality  \n",
       "0       0.45      8.8        1  \n",
       "1       0.49      9.5        1  \n",
       "2       0.44     10.1        1  \n",
       "3       0.40      9.9        1  \n",
       "4       0.40      9.9        1  "
      ]
     },
     "execution_count": 21,
     "metadata": {},
     "output_type": "execute_result"
    }
   ],
   "source": [
    "# Ordinal Encoder for the attribute type\n",
    "\n",
    "# Show data before preprocessing\n",
    "display(wine_data.head())\n",
    "\n",
    "# Create the OrdinalEncoder\n",
    "ordinal_encoder = preprocessing.OrdinalEncoder()\n",
    "\n",
    "# Preprocess the categorical feature type\n",
    "wine_data[['type']] = ordinal_encoder.fit_transform(wine_data[['type']])\n",
    "\n",
    "# Show the results\n",
    "wine_data.head()"
   ]
  },
  {
   "cell_type": "code",
   "execution_count": 22,
   "metadata": {},
   "outputs": [
    {
     "data": {
      "text/html": [
       "<div>\n",
       "<style scoped>\n",
       "    .dataframe tbody tr th:only-of-type {\n",
       "        vertical-align: middle;\n",
       "    }\n",
       "\n",
       "    .dataframe tbody tr th {\n",
       "        vertical-align: top;\n",
       "    }\n",
       "\n",
       "    .dataframe thead th {\n",
       "        text-align: right;\n",
       "    }\n",
       "</style>\n",
       "<table border=\"1\" class=\"dataframe\">\n",
       "  <thead>\n",
       "    <tr style=\"text-align: right;\">\n",
       "      <th></th>\n",
       "      <th>type</th>\n",
       "      <th>fixed acidity</th>\n",
       "      <th>volatile acidity</th>\n",
       "      <th>citric acid</th>\n",
       "      <th>residual sugar</th>\n",
       "      <th>chlorides</th>\n",
       "      <th>free sulfur dioxide</th>\n",
       "      <th>total sulfur dioxide</th>\n",
       "      <th>density</th>\n",
       "      <th>pH</th>\n",
       "      <th>sulphates</th>\n",
       "      <th>alcohol</th>\n",
       "      <th>quality</th>\n",
       "    </tr>\n",
       "  </thead>\n",
       "  <tbody>\n",
       "    <tr>\n",
       "      <th>0</th>\n",
       "      <td>1.0</td>\n",
       "      <td>7.0</td>\n",
       "      <td>0.27</td>\n",
       "      <td>0.36</td>\n",
       "      <td>20.7</td>\n",
       "      <td>0.045</td>\n",
       "      <td>45.0</td>\n",
       "      <td>170.0</td>\n",
       "      <td>1.0010</td>\n",
       "      <td>3.00</td>\n",
       "      <td>0.45</td>\n",
       "      <td>8.8</td>\n",
       "      <td>1</td>\n",
       "    </tr>\n",
       "    <tr>\n",
       "      <th>1</th>\n",
       "      <td>1.0</td>\n",
       "      <td>6.3</td>\n",
       "      <td>0.30</td>\n",
       "      <td>0.34</td>\n",
       "      <td>1.6</td>\n",
       "      <td>0.049</td>\n",
       "      <td>14.0</td>\n",
       "      <td>132.0</td>\n",
       "      <td>0.9940</td>\n",
       "      <td>3.30</td>\n",
       "      <td>0.49</td>\n",
       "      <td>9.5</td>\n",
       "      <td>1</td>\n",
       "    </tr>\n",
       "    <tr>\n",
       "      <th>2</th>\n",
       "      <td>1.0</td>\n",
       "      <td>8.1</td>\n",
       "      <td>0.28</td>\n",
       "      <td>0.40</td>\n",
       "      <td>6.9</td>\n",
       "      <td>0.050</td>\n",
       "      <td>30.0</td>\n",
       "      <td>97.0</td>\n",
       "      <td>0.9951</td>\n",
       "      <td>3.26</td>\n",
       "      <td>0.44</td>\n",
       "      <td>10.1</td>\n",
       "      <td>1</td>\n",
       "    </tr>\n",
       "    <tr>\n",
       "      <th>3</th>\n",
       "      <td>1.0</td>\n",
       "      <td>7.2</td>\n",
       "      <td>0.23</td>\n",
       "      <td>0.32</td>\n",
       "      <td>8.5</td>\n",
       "      <td>0.058</td>\n",
       "      <td>47.0</td>\n",
       "      <td>186.0</td>\n",
       "      <td>0.9956</td>\n",
       "      <td>3.19</td>\n",
       "      <td>0.40</td>\n",
       "      <td>9.9</td>\n",
       "      <td>1</td>\n",
       "    </tr>\n",
       "    <tr>\n",
       "      <th>4</th>\n",
       "      <td>1.0</td>\n",
       "      <td>7.2</td>\n",
       "      <td>0.23</td>\n",
       "      <td>0.32</td>\n",
       "      <td>8.5</td>\n",
       "      <td>0.058</td>\n",
       "      <td>47.0</td>\n",
       "      <td>186.0</td>\n",
       "      <td>0.9956</td>\n",
       "      <td>3.19</td>\n",
       "      <td>0.40</td>\n",
       "      <td>9.9</td>\n",
       "      <td>1</td>\n",
       "    </tr>\n",
       "  </tbody>\n",
       "</table>\n",
       "</div>"
      ],
      "text/plain": [
       "   type  fixed acidity  volatile acidity  citric acid  residual sugar  \\\n",
       "0   1.0            7.0              0.27         0.36            20.7   \n",
       "1   1.0            6.3              0.30         0.34             1.6   \n",
       "2   1.0            8.1              0.28         0.40             6.9   \n",
       "3   1.0            7.2              0.23         0.32             8.5   \n",
       "4   1.0            7.2              0.23         0.32             8.5   \n",
       "\n",
       "   chlorides  free sulfur dioxide  total sulfur dioxide  density    pH  \\\n",
       "0      0.045                 45.0                 170.0   1.0010  3.00   \n",
       "1      0.049                 14.0                 132.0   0.9940  3.30   \n",
       "2      0.050                 30.0                  97.0   0.9951  3.26   \n",
       "3      0.058                 47.0                 186.0   0.9956  3.19   \n",
       "4      0.058                 47.0                 186.0   0.9956  3.19   \n",
       "\n",
       "   sulphates  alcohol  quality  \n",
       "0       0.45      8.8        1  \n",
       "1       0.49      9.5        1  \n",
       "2       0.44     10.1        1  \n",
       "3       0.40      9.9        1  \n",
       "4       0.40      9.9        1  "
      ]
     },
     "metadata": {},
     "output_type": "display_data"
    },
    {
     "data": {
      "text/html": [
       "<div>\n",
       "<style scoped>\n",
       "    .dataframe tbody tr th:only-of-type {\n",
       "        vertical-align: middle;\n",
       "    }\n",
       "\n",
       "    .dataframe tbody tr th {\n",
       "        vertical-align: top;\n",
       "    }\n",
       "\n",
       "    .dataframe thead th {\n",
       "        text-align: right;\n",
       "    }\n",
       "</style>\n",
       "<table border=\"1\" class=\"dataframe\">\n",
       "  <thead>\n",
       "    <tr style=\"text-align: right;\">\n",
       "      <th></th>\n",
       "      <th>type</th>\n",
       "      <th>fixed acidity</th>\n",
       "      <th>volatile acidity</th>\n",
       "      <th>citric acid</th>\n",
       "      <th>residual sugar</th>\n",
       "      <th>chlorides</th>\n",
       "      <th>free sulfur dioxide</th>\n",
       "      <th>total sulfur dioxide</th>\n",
       "      <th>density</th>\n",
       "      <th>pH</th>\n",
       "      <th>sulphates</th>\n",
       "      <th>alcohol</th>\n",
       "      <th>quality</th>\n",
       "    </tr>\n",
       "  </thead>\n",
       "  <tbody>\n",
       "    <tr>\n",
       "      <th>0</th>\n",
       "      <td>1.0</td>\n",
       "      <td>0.264463</td>\n",
       "      <td>0.126667</td>\n",
       "      <td>0.216867</td>\n",
       "      <td>0.308282</td>\n",
       "      <td>0.059801</td>\n",
       "      <td>0.152778</td>\n",
       "      <td>0.377880</td>\n",
       "      <td>0.267785</td>\n",
       "      <td>0.217054</td>\n",
       "      <td>0.129213</td>\n",
       "      <td>0.115942</td>\n",
       "      <td>1</td>\n",
       "    </tr>\n",
       "    <tr>\n",
       "      <th>1</th>\n",
       "      <td>1.0</td>\n",
       "      <td>0.206612</td>\n",
       "      <td>0.146667</td>\n",
       "      <td>0.204819</td>\n",
       "      <td>0.015337</td>\n",
       "      <td>0.066445</td>\n",
       "      <td>0.045139</td>\n",
       "      <td>0.290323</td>\n",
       "      <td>0.132832</td>\n",
       "      <td>0.449612</td>\n",
       "      <td>0.151685</td>\n",
       "      <td>0.217391</td>\n",
       "      <td>1</td>\n",
       "    </tr>\n",
       "    <tr>\n",
       "      <th>2</th>\n",
       "      <td>1.0</td>\n",
       "      <td>0.355372</td>\n",
       "      <td>0.133333</td>\n",
       "      <td>0.240964</td>\n",
       "      <td>0.096626</td>\n",
       "      <td>0.068106</td>\n",
       "      <td>0.100694</td>\n",
       "      <td>0.209677</td>\n",
       "      <td>0.154039</td>\n",
       "      <td>0.418605</td>\n",
       "      <td>0.123596</td>\n",
       "      <td>0.304348</td>\n",
       "      <td>1</td>\n",
       "    </tr>\n",
       "    <tr>\n",
       "      <th>3</th>\n",
       "      <td>1.0</td>\n",
       "      <td>0.280992</td>\n",
       "      <td>0.100000</td>\n",
       "      <td>0.192771</td>\n",
       "      <td>0.121166</td>\n",
       "      <td>0.081395</td>\n",
       "      <td>0.159722</td>\n",
       "      <td>0.414747</td>\n",
       "      <td>0.163678</td>\n",
       "      <td>0.364341</td>\n",
       "      <td>0.101124</td>\n",
       "      <td>0.275362</td>\n",
       "      <td>1</td>\n",
       "    </tr>\n",
       "    <tr>\n",
       "      <th>4</th>\n",
       "      <td>1.0</td>\n",
       "      <td>0.280992</td>\n",
       "      <td>0.100000</td>\n",
       "      <td>0.192771</td>\n",
       "      <td>0.121166</td>\n",
       "      <td>0.081395</td>\n",
       "      <td>0.159722</td>\n",
       "      <td>0.414747</td>\n",
       "      <td>0.163678</td>\n",
       "      <td>0.364341</td>\n",
       "      <td>0.101124</td>\n",
       "      <td>0.275362</td>\n",
       "      <td>1</td>\n",
       "    </tr>\n",
       "  </tbody>\n",
       "</table>\n",
       "</div>"
      ],
      "text/plain": [
       "   type  fixed acidity  volatile acidity  citric acid  residual sugar  \\\n",
       "0   1.0       0.264463          0.126667     0.216867        0.308282   \n",
       "1   1.0       0.206612          0.146667     0.204819        0.015337   \n",
       "2   1.0       0.355372          0.133333     0.240964        0.096626   \n",
       "3   1.0       0.280992          0.100000     0.192771        0.121166   \n",
       "4   1.0       0.280992          0.100000     0.192771        0.121166   \n",
       "\n",
       "   chlorides  free sulfur dioxide  total sulfur dioxide   density        pH  \\\n",
       "0   0.059801             0.152778              0.377880  0.267785  0.217054   \n",
       "1   0.066445             0.045139              0.290323  0.132832  0.449612   \n",
       "2   0.068106             0.100694              0.209677  0.154039  0.418605   \n",
       "3   0.081395             0.159722              0.414747  0.163678  0.364341   \n",
       "4   0.081395             0.159722              0.414747  0.163678  0.364341   \n",
       "\n",
       "   sulphates   alcohol  quality  \n",
       "0   0.129213  0.115942        1  \n",
       "1   0.151685  0.217391        1  \n",
       "2   0.123596  0.304348        1  \n",
       "3   0.101124  0.275362        1  \n",
       "4   0.101124  0.275362        1  "
      ]
     },
     "metadata": {},
     "output_type": "display_data"
    }
   ],
   "source": [
    "# Normalisation of the numerical values\n",
    "\n",
    "# Show data before preprocessing\n",
    "display(wine_data.head())\n",
    "\n",
    "# Create the normaliser\n",
    "scaler = preprocessing.MinMaxScaler()\n",
    "\n",
    "# Preprocess the all numerical features\n",
    "wine_data[['fixed acidity', 'volatile acidity', 'citric acid', 'residual sugar', 'chlorides', 'free sulfur dioxide', 'total sulfur dioxide', 'density', 'pH', 'sulphates', 'alcohol']] = scaler.fit_transform(wine_data[['fixed acidity', 'volatile acidity', 'citric acid', 'residual sugar', 'chlorides', 'free sulfur dioxide', 'total sulfur dioxide', 'density', 'pH', 'sulphates', 'alcohol']])\n",
    "\n",
    "# Show the results\n",
    "display(wine_data.head())"
   ]
  },
  {
   "cell_type": "code",
   "execution_count": 23,
   "metadata": {},
   "outputs": [
    {
     "data": {
      "text/plain": [
       "type                     0\n",
       "fixed acidity            0\n",
       "volatile acidity         1\n",
       "citric acid              1\n",
       "residual sugar           1\n",
       "chlorides               47\n",
       "free sulfur dioxide      2\n",
       "total sulfur dioxide     0\n",
       "density                  1\n",
       "pH                       0\n",
       "sulphates                8\n",
       "alcohol                  0\n",
       "quality                  0\n",
       "dtype: int64"
      ]
     },
     "metadata": {},
     "output_type": "display_data"
    },
    {
     "data": {
      "text/plain": [
       "type                    0\n",
       "fixed acidity           0\n",
       "volatile acidity        0\n",
       "citric acid             0\n",
       "residual sugar          0\n",
       "chlorides               0\n",
       "free sulfur dioxide     0\n",
       "total sulfur dioxide    0\n",
       "density                 0\n",
       "pH                      0\n",
       "sulphates               0\n",
       "alcohol                 0\n",
       "quality                 0\n",
       "dtype: int64"
      ]
     },
     "metadata": {},
     "output_type": "display_data"
    },
    {
     "data": {
      "text/plain": [
       "6406"
      ]
     },
     "metadata": {},
     "output_type": "display_data"
    }
   ],
   "source": [
    "# Deleting outliers\n",
    "\n",
    "# Defining columns for the outlier detection (type and quality are not included)\n",
    "wine_data_columns = ['fixed acidity',\n",
    " 'volatile acidity',\n",
    " 'citric acid',\n",
    " 'residual sugar',\n",
    " 'chlorides',\n",
    " 'free sulfur dioxide',\n",
    " 'total sulfur dioxide',\n",
    " 'density',\n",
    " 'pH',\n",
    " 'sulphates',\n",
    " 'alcohol']\n",
    "\n",
    "# Identify outliers\n",
    "for x in wine_data_columns:\n",
    "    for y in x:\n",
    "        q75,q25 = np.percentile(wine_data.loc[:,x],[95,5])\n",
    "        intr_qr = q75-q25\n",
    "\n",
    "        max = q75+(1.5*intr_qr)\n",
    "        min = q25-(1.5*intr_qr)\n",
    "\n",
    "        wine_data.loc[wine_data[x] < min,x] = np.nan\n",
    "        wine_data.loc[wine_data[x] > max,x] = np.nan\n",
    "display(wine_data.isnull().sum())\n",
    "\n",
    "# Drop outliers\n",
    "wine_data = wine_data.dropna(axis=0, how=\"any\", thresh=None, subset=None, inplace=False)\n",
    "display(wine_data.isnull().sum())\n",
    "display(len(wine_data.index))"
   ]
  },
  {
   "cell_type": "markdown",
   "metadata": {},
   "source": [
    "### Seperation of features and the target variable and test train split"
   ]
  },
  {
   "cell_type": "code",
   "execution_count": 24,
   "metadata": {},
   "outputs": [
    {
     "data": {
      "text/html": [
       "<div>\n",
       "<style scoped>\n",
       "    .dataframe tbody tr th:only-of-type {\n",
       "        vertical-align: middle;\n",
       "    }\n",
       "\n",
       "    .dataframe tbody tr th {\n",
       "        vertical-align: top;\n",
       "    }\n",
       "\n",
       "    .dataframe thead th {\n",
       "        text-align: right;\n",
       "    }\n",
       "</style>\n",
       "<table border=\"1\" class=\"dataframe\">\n",
       "  <thead>\n",
       "    <tr style=\"text-align: right;\">\n",
       "      <th></th>\n",
       "      <th>type</th>\n",
       "      <th>fixed acidity</th>\n",
       "      <th>volatile acidity</th>\n",
       "      <th>citric acid</th>\n",
       "      <th>residual sugar</th>\n",
       "      <th>chlorides</th>\n",
       "      <th>free sulfur dioxide</th>\n",
       "      <th>total sulfur dioxide</th>\n",
       "      <th>density</th>\n",
       "      <th>pH</th>\n",
       "      <th>sulphates</th>\n",
       "      <th>alcohol</th>\n",
       "    </tr>\n",
       "  </thead>\n",
       "  <tbody>\n",
       "    <tr>\n",
       "      <th>0</th>\n",
       "      <td>1.0</td>\n",
       "      <td>0.264463</td>\n",
       "      <td>0.126667</td>\n",
       "      <td>0.216867</td>\n",
       "      <td>0.308282</td>\n",
       "      <td>0.059801</td>\n",
       "      <td>0.152778</td>\n",
       "      <td>0.377880</td>\n",
       "      <td>0.267785</td>\n",
       "      <td>0.217054</td>\n",
       "      <td>0.129213</td>\n",
       "      <td>0.115942</td>\n",
       "    </tr>\n",
       "    <tr>\n",
       "      <th>1</th>\n",
       "      <td>1.0</td>\n",
       "      <td>0.206612</td>\n",
       "      <td>0.146667</td>\n",
       "      <td>0.204819</td>\n",
       "      <td>0.015337</td>\n",
       "      <td>0.066445</td>\n",
       "      <td>0.045139</td>\n",
       "      <td>0.290323</td>\n",
       "      <td>0.132832</td>\n",
       "      <td>0.449612</td>\n",
       "      <td>0.151685</td>\n",
       "      <td>0.217391</td>\n",
       "    </tr>\n",
       "    <tr>\n",
       "      <th>2</th>\n",
       "      <td>1.0</td>\n",
       "      <td>0.355372</td>\n",
       "      <td>0.133333</td>\n",
       "      <td>0.240964</td>\n",
       "      <td>0.096626</td>\n",
       "      <td>0.068106</td>\n",
       "      <td>0.100694</td>\n",
       "      <td>0.209677</td>\n",
       "      <td>0.154039</td>\n",
       "      <td>0.418605</td>\n",
       "      <td>0.123596</td>\n",
       "      <td>0.304348</td>\n",
       "    </tr>\n",
       "    <tr>\n",
       "      <th>3</th>\n",
       "      <td>1.0</td>\n",
       "      <td>0.280992</td>\n",
       "      <td>0.100000</td>\n",
       "      <td>0.192771</td>\n",
       "      <td>0.121166</td>\n",
       "      <td>0.081395</td>\n",
       "      <td>0.159722</td>\n",
       "      <td>0.414747</td>\n",
       "      <td>0.163678</td>\n",
       "      <td>0.364341</td>\n",
       "      <td>0.101124</td>\n",
       "      <td>0.275362</td>\n",
       "    </tr>\n",
       "    <tr>\n",
       "      <th>4</th>\n",
       "      <td>1.0</td>\n",
       "      <td>0.280992</td>\n",
       "      <td>0.100000</td>\n",
       "      <td>0.192771</td>\n",
       "      <td>0.121166</td>\n",
       "      <td>0.081395</td>\n",
       "      <td>0.159722</td>\n",
       "      <td>0.414747</td>\n",
       "      <td>0.163678</td>\n",
       "      <td>0.364341</td>\n",
       "      <td>0.101124</td>\n",
       "      <td>0.275362</td>\n",
       "    </tr>\n",
       "  </tbody>\n",
       "</table>\n",
       "</div>"
      ],
      "text/plain": [
       "   type  fixed acidity  volatile acidity  citric acid  residual sugar  \\\n",
       "0   1.0       0.264463          0.126667     0.216867        0.308282   \n",
       "1   1.0       0.206612          0.146667     0.204819        0.015337   \n",
       "2   1.0       0.355372          0.133333     0.240964        0.096626   \n",
       "3   1.0       0.280992          0.100000     0.192771        0.121166   \n",
       "4   1.0       0.280992          0.100000     0.192771        0.121166   \n",
       "\n",
       "   chlorides  free sulfur dioxide  total sulfur dioxide   density        pH  \\\n",
       "0   0.059801             0.152778              0.377880  0.267785  0.217054   \n",
       "1   0.066445             0.045139              0.290323  0.132832  0.449612   \n",
       "2   0.068106             0.100694              0.209677  0.154039  0.418605   \n",
       "3   0.081395             0.159722              0.414747  0.163678  0.364341   \n",
       "4   0.081395             0.159722              0.414747  0.163678  0.364341   \n",
       "\n",
       "   sulphates   alcohol  \n",
       "0   0.129213  0.115942  \n",
       "1   0.151685  0.217391  \n",
       "2   0.123596  0.304348  \n",
       "3   0.101124  0.275362  \n",
       "4   0.101124  0.275362  "
      ]
     },
     "metadata": {},
     "output_type": "display_data"
    }
   ],
   "source": [
    "# Seperation of features and the target variable in two different data frames\n",
    "\n",
    "wine_data = wine_data.copy()\n",
    "\n",
    "features = wine_data.drop(columns='quality')\n",
    "display(features.head())\n",
    "\n",
    "target = wine_data.drop(columns=['type', 'fixed acidity', 'volatile acidity', 'citric acid', 'residual sugar', 'chlorides', 'free sulfur dioxide', 'total sulfur dioxide', 'density', 'pH', 'sulphates', 'alcohol'])\n",
    "target = target['quality'].ravel()"
   ]
  },
  {
   "cell_type": "code",
   "execution_count": 25,
   "metadata": {},
   "outputs": [],
   "source": [
    "# Train test split\n",
    "\n",
    "data_train, data_test, target_train, target_test = train_test_split(\n",
    "    features, target, test_size=0.2, random_state=42, stratify=target)"
   ]
  },
  {
   "cell_type": "markdown",
   "metadata": {},
   "source": [
    "## Random Forest"
   ]
  },
  {
   "cell_type": "code",
   "execution_count": 26,
   "metadata": {},
   "outputs": [],
   "source": [
    "# Model Creation\n",
    "\n",
    "# Create estimator and pipeline\n",
    "random_forest = RandomForestClassifier(max_depth=2, random_state=0)\n",
    "pipeline_rf = Pipeline([('estimator', random_forest)])\n",
    "\n",
    "# Fit the model and predict the values for the train data\n",
    "pipeline_rf.fit(data_train, target_train)\n",
    "predictions_train_rf = pipeline_rf.predict(data_train)"
   ]
  },
  {
   "cell_type": "markdown",
   "metadata": {},
   "source": [
    "### Evaluation"
   ]
  },
  {
   "cell_type": "code",
   "execution_count": 27,
   "metadata": {},
   "outputs": [],
   "source": [
    "# Predict values for the test data\n",
    "\n",
    "predictions_test_rf = pipeline_rf.predict(data_test)"
   ]
  },
  {
   "cell_type": "markdown",
   "metadata": {},
   "source": [
    "#### Makro F1-Score, Makro Precision, and Makro Recall"
   ]
  },
  {
   "cell_type": "code",
   "execution_count": 28,
   "metadata": {},
   "outputs": [
    {
     "name": "stdout",
     "output_type": "stream",
     "text": [
      "Makro F1-Score Train Data:\n"
     ]
    },
    {
     "data": {
      "text/plain": [
       "0.28891592023296103"
      ]
     },
     "metadata": {},
     "output_type": "display_data"
    },
    {
     "name": "stdout",
     "output_type": "stream",
     "text": [
      "Makro F1-Score Test Data:\n"
     ]
    },
    {
     "data": {
      "text/plain": [
       "0.2889969067609368"
      ]
     },
     "metadata": {},
     "output_type": "display_data"
    },
    {
     "name": "stdout",
     "output_type": "stream",
     "text": [
      "Makro Precision Train Data:\n"
     ]
    },
    {
     "data": {
      "text/plain": [
       "0.254944054124382"
      ]
     },
     "metadata": {},
     "output_type": "display_data"
    },
    {
     "name": "stdout",
     "output_type": "stream",
     "text": [
      "Makro Precision Test Data:\n"
     ]
    },
    {
     "data": {
      "text/plain": [
       "0.2550702028081123"
      ]
     },
     "metadata": {},
     "output_type": "display_data"
    },
    {
     "name": "stdout",
     "output_type": "stream",
     "text": [
      "Makro Recall Train Data:\n"
     ]
    },
    {
     "data": {
      "text/plain": [
       "0.3333333333333333"
      ]
     },
     "metadata": {},
     "output_type": "display_data"
    },
    {
     "name": "stdout",
     "output_type": "stream",
     "text": [
      "Makro Recall Test Data:\n"
     ]
    },
    {
     "data": {
      "text/plain": [
       "0.3333333333333333"
      ]
     },
     "metadata": {},
     "output_type": "display_data"
    }
   ],
   "source": [
    "# Makro F1-Score\n",
    "print(\"Makro F1-Score Train Data:\")\n",
    "f1_score_train_rf = f1_score(target_train, predictions_train_rf, average='macro')\n",
    "display(f1_score_train_rf)\n",
    "\n",
    "print(\"Makro F1-Score Test Data:\")\n",
    "f1_score_test_rf = f1_score(target_test, predictions_test_rf, average='macro')\n",
    "display(f1_score_test_rf)\n",
    "\n",
    "# Makro Precision Score\n",
    "print(\"Makro Precision Train Data:\")\n",
    "precision_train_rf = precision_score(target_train, predictions_train_rf, average='macro', zero_division = 0)\n",
    "display(precision_train_rf)\n",
    "\n",
    "print(\"Makro Precision Test Data:\")\n",
    "precision_test_rf = precision_score(target_test, predictions_test_rf, average='macro', zero_division = 0)\n",
    "display(precision_test_rf)\n",
    "\n",
    "# Makro Recall Score\n",
    "print(\"Makro Recall Train Data:\")\n",
    "recall_train_rf = recall_score(target_train, predictions_train_rf, average='macro')\n",
    "display(recall_train_rf)\n",
    "\n",
    "print(\"Makro Recall Test Data:\")\n",
    "recall_test_rf = recall_score(target_test, predictions_test_rf, average='macro')\n",
    "display(recall_test_rf)"
   ]
  },
  {
   "cell_type": "markdown",
   "metadata": {},
   "source": [
    "#### Confusion Matrix"
   ]
  },
  {
   "cell_type": "code",
   "execution_count": 29,
   "metadata": {},
   "outputs": [],
   "source": [
    "# Function to plot a confusion matrix\n",
    "\n",
    "def plot_confusion_matrix(cm, classes,\n",
    "                          normalize=False,\n",
    "                          title='Confusion matrix',\n",
    "                          cmap=plt.cm.Blues):\n",
    "    \"\"\"\n",
    "    This function prints and plots the confusion matrix.\n",
    "    Normalization can be applied by setting `normalize=True`.\n",
    "    \"\"\"\n",
    "    if normalize:\n",
    "        cm = cm.astype('float') / cm.sum(axis=1)[:, np.newaxis]\n",
    "\n",
    "    plt.imshow(cm, interpolation='nearest', cmap=cmap)\n",
    "    plt.title(title)\n",
    "    plt.colorbar()\n",
    "    tick_marks = np.arange(len(classes))\n",
    "    plt.xticks(tick_marks, classes, rotation=45)\n",
    "    plt.yticks(tick_marks, classes)\n",
    "\n",
    "    fmt = '.2f' if normalize else 'd'\n",
    "    thresh = cm.max() / 2.\n",
    "    for i, j in itertools.product(range(cm.shape[0]), range(cm.shape[1])):\n",
    "        plt.text(j, i, format(cm[i, j], fmt),\n",
    "                 horizontalalignment=\"center\",\n",
    "                 color=\"white\" if cm[i, j] > thresh else \"black\")\n",
    "\n",
    "    plt.ylabel('True label')\n",
    "    plt.xlabel('Predicted label')\n",
    "    plt.tight_layout()"
   ]
  },
  {
   "cell_type": "code",
   "execution_count": 30,
   "metadata": {},
   "outputs": [
    {
     "name": "stdout",
     "output_type": "stream",
     "text": [
      "Confusion Matrix Train Data:\n"
     ]
    },
    {
     "data": {
      "image/png": "[encoded data removed]",
      "text/plain": [
       "<Figure size 432x288 with 2 Axes>"
      ]
     },
     "metadata": {
      "needs_background": "light"
     },
     "output_type": "display_data"
    }
   ],
   "source": [
    "# Confusion Matrix for the training data\n",
    "\n",
    "cnf_matrix_train_rf = confusion_matrix(target_train, predictions_train_rf)\n",
    "np.set_printoptions(precision=2)\n",
    "print(\"Confusion Matrix Train Data:\")\n",
    "plot_confusion_matrix(cnf_matrix_train_rf, classes=np.array([0,1,2]))"
   ]
  },
  {
   "cell_type": "code",
   "execution_count": 31,
   "metadata": {},
   "outputs": [
    {
     "name": "stdout",
     "output_type": "stream",
     "text": [
      "Confusion Matrix Test Data:\n"
     ]
    },
    {
     "data": {
      "text/plain": [
       "None"
      ]
     },
     "metadata": {},
     "output_type": "display_data"
    },
    {
     "data": {
      "image/png": "[encoded data removed]",
      "text/plain": [
       "<Figure size 432x288 with 2 Axes>"
      ]
     },
     "metadata": {
      "needs_background": "light"
     },
     "output_type": "display_data"
    }
   ],
   "source": [
    "# Confusion Matrix for the test data\n",
    "\n",
    "cnf_matrix_test_rf = confusion_matrix(target_test, predictions_test_rf)\n",
    "np.set_printoptions(precision=2)\n",
    "print(\"Confusion Matrix Test Data:\")\n",
    "display(plot_confusion_matrix(cnf_matrix_test_rf, classes=np.array([0,1,2])))"
   ]
  },
  {
   "cell_type": "markdown",
   "metadata": {},
   "source": [
    "## Adoption of the Mode \n",
    "1. First Hyperparameter Tuning\n",
    "2. Oversampling\n",
    "3. Feature Selection\n",
    "4. Second Hyperparameter Tuning\n",
    "\n",
    "In each step the best model, which was achieved until that stage, is utilized."
   ]
  },
  {
   "cell_type": "markdown",
   "metadata": {},
   "source": [
    "### First Hyperparameter Tuning"
   ]
  },
  {
   "cell_type": "code",
   "execution_count": 32,
   "metadata": {},
   "outputs": [
    {
     "name": "stdout",
     "output_type": "stream",
     "text": [
      "Fitting 10 folds for each of 9 candidates, totalling 90 fits\n"
     ]
    },
    {
     "data": {
      "text/html": [
       "<div>\n",
       "<style scoped>\n",
       "    .dataframe tbody tr th:only-of-type {\n",
       "        vertical-align: middle;\n",
       "    }\n",
       "\n",
       "    .dataframe tbody tr th {\n",
       "        vertical-align: top;\n",
       "    }\n",
       "\n",
       "    .dataframe thead th {\n",
       "        text-align: right;\n",
       "    }\n",
       "</style>\n",
       "<table border=\"1\" class=\"dataframe\">\n",
       "  <thead>\n",
       "    <tr style=\"text-align: right;\">\n",
       "      <th></th>\n",
       "      <th>mean_fit_time</th>\n",
       "      <th>std_fit_time</th>\n",
       "      <th>mean_score_time</th>\n",
       "      <th>std_score_time</th>\n",
       "      <th>param_min_samples_leaf</th>\n",
       "      <th>param_min_samples_split</th>\n",
       "      <th>params</th>\n",
       "      <th>split0_test_score</th>\n",
       "      <th>split1_test_score</th>\n",
       "      <th>split2_test_score</th>\n",
       "      <th>split3_test_score</th>\n",
       "      <th>split4_test_score</th>\n",
       "      <th>split5_test_score</th>\n",
       "      <th>split6_test_score</th>\n",
       "      <th>split7_test_score</th>\n",
       "      <th>split8_test_score</th>\n",
       "      <th>split9_test_score</th>\n",
       "      <th>mean_test_score</th>\n",
       "      <th>std_test_score</th>\n",
       "      <th>rank_test_score</th>\n",
       "    </tr>\n",
       "  </thead>\n",
       "  <tbody>\n",
       "    <tr>\n",
       "      <th>0</th>\n",
       "      <td>1.081444</td>\n",
       "      <td>0.029371</td>\n",
       "      <td>0.048779</td>\n",
       "      <td>0.037269</td>\n",
       "      <td>3</td>\n",
       "      <td>8</td>\n",
       "      <td>{'min_samples_leaf': 3, 'min_samples_split': 8}</td>\n",
       "      <td>0.502238</td>\n",
       "      <td>0.473270</td>\n",
       "      <td>0.500567</td>\n",
       "      <td>0.512192</td>\n",
       "      <td>0.474542</td>\n",
       "      <td>0.525544</td>\n",
       "      <td>0.527017</td>\n",
       "      <td>0.487442</td>\n",
       "      <td>0.479193</td>\n",
       "      <td>0.518775</td>\n",
       "      <td>0.500078</td>\n",
       "      <td>0.019601</td>\n",
       "      <td>1</td>\n",
       "    </tr>\n",
       "    <tr>\n",
       "      <th>1</th>\n",
       "      <td>1.096113</td>\n",
       "      <td>0.025561</td>\n",
       "      <td>0.033619</td>\n",
       "      <td>0.006486</td>\n",
       "      <td>3</td>\n",
       "      <td>10</td>\n",
       "      <td>{'min_samples_leaf': 3, 'min_samples_split': 10}</td>\n",
       "      <td>0.495721</td>\n",
       "      <td>0.472903</td>\n",
       "      <td>0.517950</td>\n",
       "      <td>0.478767</td>\n",
       "      <td>0.479193</td>\n",
       "      <td>0.522406</td>\n",
       "      <td>0.502102</td>\n",
       "      <td>0.487340</td>\n",
       "      <td>0.485725</td>\n",
       "      <td>0.518775</td>\n",
       "      <td>0.496088</td>\n",
       "      <td>0.017403</td>\n",
       "      <td>2</td>\n",
       "    </tr>\n",
       "    <tr>\n",
       "      <th>2</th>\n",
       "      <td>1.075140</td>\n",
       "      <td>0.016803</td>\n",
       "      <td>0.029860</td>\n",
       "      <td>0.002641</td>\n",
       "      <td>3</td>\n",
       "      <td>12</td>\n",
       "      <td>{'min_samples_leaf': 3, 'min_samples_split': 12}</td>\n",
       "      <td>0.492400</td>\n",
       "      <td>0.488208</td>\n",
       "      <td>0.499101</td>\n",
       "      <td>0.472903</td>\n",
       "      <td>0.479723</td>\n",
       "      <td>0.487518</td>\n",
       "      <td>0.506937</td>\n",
       "      <td>0.482359</td>\n",
       "      <td>0.477092</td>\n",
       "      <td>0.505177</td>\n",
       "      <td>0.489142</td>\n",
       "      <td>0.011094</td>\n",
       "      <td>6</td>\n",
       "    </tr>\n",
       "    <tr>\n",
       "      <th>3</th>\n",
       "      <td>1.090201</td>\n",
       "      <td>0.023957</td>\n",
       "      <td>0.036353</td>\n",
       "      <td>0.009348</td>\n",
       "      <td>4</td>\n",
       "      <td>8</td>\n",
       "      <td>{'min_samples_leaf': 4, 'min_samples_split': 8}</td>\n",
       "      <td>0.495715</td>\n",
       "      <td>0.477634</td>\n",
       "      <td>0.510064</td>\n",
       "      <td>0.468291</td>\n",
       "      <td>0.484363</td>\n",
       "      <td>0.483159</td>\n",
       "      <td>0.504509</td>\n",
       "      <td>0.498916</td>\n",
       "      <td>0.486635</td>\n",
       "      <td>0.517483</td>\n",
       "      <td>0.492677</td>\n",
       "      <td>0.014570</td>\n",
       "      <td>3</td>\n",
       "    </tr>\n",
       "    <tr>\n",
       "      <th>4</th>\n",
       "      <td>1.042677</td>\n",
       "      <td>0.015209</td>\n",
       "      <td>0.032838</td>\n",
       "      <td>0.005280</td>\n",
       "      <td>4</td>\n",
       "      <td>10</td>\n",
       "      <td>{'min_samples_leaf': 4, 'min_samples_split': 10}</td>\n",
       "      <td>0.505447</td>\n",
       "      <td>0.486444</td>\n",
       "      <td>0.500752</td>\n",
       "      <td>0.471353</td>\n",
       "      <td>0.476313</td>\n",
       "      <td>0.479399</td>\n",
       "      <td>0.509422</td>\n",
       "      <td>0.490611</td>\n",
       "      <td>0.473185</td>\n",
       "      <td>0.523451</td>\n",
       "      <td>0.491638</td>\n",
       "      <td>0.016634</td>\n",
       "      <td>4</td>\n",
       "    </tr>\n",
       "    <tr>\n",
       "      <th>5</th>\n",
       "      <td>1.005231</td>\n",
       "      <td>0.013238</td>\n",
       "      <td>0.030687</td>\n",
       "      <td>0.005133</td>\n",
       "      <td>4</td>\n",
       "      <td>12</td>\n",
       "      <td>{'min_samples_leaf': 4, 'min_samples_split': 12}</td>\n",
       "      <td>0.489137</td>\n",
       "      <td>0.465822</td>\n",
       "      <td>0.488934</td>\n",
       "      <td>0.468129</td>\n",
       "      <td>0.473016</td>\n",
       "      <td>0.482684</td>\n",
       "      <td>0.498305</td>\n",
       "      <td>0.488968</td>\n",
       "      <td>0.448827</td>\n",
       "      <td>0.513088</td>\n",
       "      <td>0.481691</td>\n",
       "      <td>0.017363</td>\n",
       "      <td>9</td>\n",
       "    </tr>\n",
       "    <tr>\n",
       "      <th>6</th>\n",
       "      <td>1.033138</td>\n",
       "      <td>0.010910</td>\n",
       "      <td>0.030170</td>\n",
       "      <td>0.001927</td>\n",
       "      <td>5</td>\n",
       "      <td>8</td>\n",
       "      <td>{'min_samples_leaf': 5, 'min_samples_split': 8}</td>\n",
       "      <td>0.484044</td>\n",
       "      <td>0.486595</td>\n",
       "      <td>0.494018</td>\n",
       "      <td>0.460712</td>\n",
       "      <td>0.465902</td>\n",
       "      <td>0.485934</td>\n",
       "      <td>0.507194</td>\n",
       "      <td>0.485579</td>\n",
       "      <td>0.458343</td>\n",
       "      <td>0.509988</td>\n",
       "      <td>0.483831</td>\n",
       "      <td>0.016895</td>\n",
       "      <td>8</td>\n",
       "    </tr>\n",
       "    <tr>\n",
       "      <th>7</th>\n",
       "      <td>1.068841</td>\n",
       "      <td>0.027152</td>\n",
       "      <td>0.033861</td>\n",
       "      <td>0.004040</td>\n",
       "      <td>5</td>\n",
       "      <td>10</td>\n",
       "      <td>{'min_samples_leaf': 5, 'min_samples_split': 10}</td>\n",
       "      <td>0.495715</td>\n",
       "      <td>0.483016</td>\n",
       "      <td>0.490691</td>\n",
       "      <td>0.477463</td>\n",
       "      <td>0.476079</td>\n",
       "      <td>0.480961</td>\n",
       "      <td>0.511245</td>\n",
       "      <td>0.495636</td>\n",
       "      <td>0.483962</td>\n",
       "      <td>0.497254</td>\n",
       "      <td>0.489202</td>\n",
       "      <td>0.010394</td>\n",
       "      <td>5</td>\n",
       "    </tr>\n",
       "    <tr>\n",
       "      <th>8</th>\n",
       "      <td>0.893528</td>\n",
       "      <td>0.157725</td>\n",
       "      <td>0.023739</td>\n",
       "      <td>0.004786</td>\n",
       "      <td>5</td>\n",
       "      <td>12</td>\n",
       "      <td>{'min_samples_leaf': 5, 'min_samples_split': 12}</td>\n",
       "      <td>0.494018</td>\n",
       "      <td>0.463743</td>\n",
       "      <td>0.497379</td>\n",
       "      <td>0.480629</td>\n",
       "      <td>0.477850</td>\n",
       "      <td>0.476079</td>\n",
       "      <td>0.508293</td>\n",
       "      <td>0.485579</td>\n",
       "      <td>0.477092</td>\n",
       "      <td>0.484124</td>\n",
       "      <td>0.484479</td>\n",
       "      <td>0.011999</td>\n",
       "      <td>7</td>\n",
       "    </tr>\n",
       "  </tbody>\n",
       "</table>\n",
       "</div>"
      ],
      "text/plain": [
       "   mean_fit_time  std_fit_time  mean_score_time  std_score_time  \\\n",
       "0       1.081444      0.029371         0.048779        0.037269   \n",
       "1       1.096113      0.025561         0.033619        0.006486   \n",
       "2       1.075140      0.016803         0.029860        0.002641   \n",
       "3       1.090201      0.023957         0.036353        0.009348   \n",
       "4       1.042677      0.015209         0.032838        0.005280   \n",
       "5       1.005231      0.013238         0.030687        0.005133   \n",
       "6       1.033138      0.010910         0.030170        0.001927   \n",
       "7       1.068841      0.027152         0.033861        0.004040   \n",
       "8       0.893528      0.157725         0.023739        0.004786   \n",
       "\n",
       "  param_min_samples_leaf param_min_samples_split  \\\n",
       "0                      3                       8   \n",
       "1                      3                      10   \n",
       "2                      3                      12   \n",
       "3                      4                       8   \n",
       "4                      4                      10   \n",
       "5                      4                      12   \n",
       "6                      5                       8   \n",
       "7                      5                      10   \n",
       "8                      5                      12   \n",
       "\n",
       "                                             params  split0_test_score  \\\n",
       "0   {'min_samples_leaf': 3, 'min_samples_split': 8}           0.502238   \n",
       "1  {'min_samples_leaf': 3, 'min_samples_split': 10}           0.495721   \n",
       "2  {'min_samples_leaf': 3, 'min_samples_split': 12}           0.492400   \n",
       "3   {'min_samples_leaf': 4, 'min_samples_split': 8}           0.495715   \n",
       "4  {'min_samples_leaf': 4, 'min_samples_split': 10}           0.505447   \n",
       "5  {'min_samples_leaf': 4, 'min_samples_split': 12}           0.489137   \n",
       "6   {'min_samples_leaf': 5, 'min_samples_split': 8}           0.484044   \n",
       "7  {'min_samples_leaf': 5, 'min_samples_split': 10}           0.495715   \n",
       "8  {'min_samples_leaf': 5, 'min_samples_split': 12}           0.494018   \n",
       "\n",
       "   split1_test_score  split2_test_score  split3_test_score  split4_test_score  \\\n",
       "0           0.473270           0.500567           0.512192           0.474542   \n",
       "1           0.472903           0.517950           0.478767           0.479193   \n",
       "2           0.488208           0.499101           0.472903           0.479723   \n",
       "3           0.477634           0.510064           0.468291           0.484363   \n",
       "4           0.486444           0.500752           0.471353           0.476313   \n",
       "5           0.465822           0.488934           0.468129           0.473016   \n",
       "6           0.486595           0.494018           0.460712           0.465902   \n",
       "7           0.483016           0.490691           0.477463           0.476079   \n",
       "8           0.463743           0.497379           0.480629           0.477850   \n",
       "\n",
       "   split5_test_score  split6_test_score  split7_test_score  split8_test_score  \\\n",
       "0           0.525544           0.527017           0.487442           0.479193   \n",
       "1           0.522406           0.502102           0.487340           0.485725   \n",
       "2           0.487518           0.506937           0.482359           0.477092   \n",
       "3           0.483159           0.504509           0.498916           0.486635   \n",
       "4           0.479399           0.509422           0.490611           0.473185   \n",
       "5           0.482684           0.498305           0.488968           0.448827   \n",
       "6           0.485934           0.507194           0.485579           0.458343   \n",
       "7           0.480961           0.511245           0.495636           0.483962   \n",
       "8           0.476079           0.508293           0.485579           0.477092   \n",
       "\n",
       "   split9_test_score  mean_test_score  std_test_score  rank_test_score  \n",
       "0           0.518775         0.500078        0.019601                1  \n",
       "1           0.518775         0.496088        0.017403                2  \n",
       "2           0.505177         0.489142        0.011094                6  \n",
       "3           0.517483         0.492677        0.014570                3  \n",
       "4           0.523451         0.491638        0.016634                4  \n",
       "5           0.513088         0.481691        0.017363                9  \n",
       "6           0.509988         0.483831        0.016895                8  \n",
       "7           0.497254         0.489202        0.010394                5  \n",
       "8           0.484124         0.484479        0.011999                7  "
      ]
     },
     "metadata": {},
     "output_type": "display_data"
    },
    {
     "name": "stdout",
     "output_type": "stream",
     "text": [
      "best score is 0.5000778430439152 with params {'min_samples_leaf': 3, 'min_samples_split': 8}\n"
     ]
    }
   ],
   "source": [
    "# Create an estimator\n",
    "random_forest = RandomForestClassifier()\n",
    "\n",
    "# Specify the parameter grid\n",
    "parameters = {\n",
    "    #'max_depth': range(5, 14),\n",
    "    #'n_estimators': [100, 300, 500, 700],\n",
    "    #'max_features': [None, sqrt, 0.3, 2],\n",
    "    'min_samples_leaf': [3, 4, 5],\n",
    "    'min_samples_split': [8, 10, 12],\n",
    "    \n",
    "}\n",
    "\n",
    "# Specify the cross validation\n",
    "stratified_10_fold_cv = StratifiedKFold(n_splits=10, shuffle=True, random_state=42)\n",
    "\n",
    "# Create the grid search instance\n",
    "grid_search_estimator = GridSearchCV(random_forest, parameters, scoring='f1_macro', cv=stratified_10_fold_cv, n_jobs = -1, verbose = 2, return_train_score=False)\n",
    "\n",
    "# Run the grid search\n",
    "grid_search_estimator.fit(data_train, target_train)\n",
    "\n",
    "# Print the results of all hyper-parameter combinations\n",
    "results = pd.DataFrame(grid_search_estimator.cv_results_)\n",
    "display(results)\n",
    "    \n",
    "# Print the best parameter setting\n",
    "print(\"best score is {} with params {}\".format(grid_search_estimator.best_score_, grid_search_estimator.best_params_))"
   ]
  },
  {
   "cell_type": "markdown",
   "metadata": {},
   "source": [
    "#### Model with Hyperparameter Tuning\n",
    "As a basis the model without the feature type is used, as this model creates the best outcome for both train and test data and reduces the difference between train and test data."
   ]
  },
  {
   "cell_type": "code",
   "execution_count": 33,
   "metadata": {},
   "outputs": [
    {
     "name": "stdout",
     "output_type": "stream",
     "text": [
      "Makro F1-Score Train Data:\n"
     ]
    },
    {
     "data": {
      "text/plain": [
       "0.629831210898244"
      ]
     },
     "metadata": {},
     "output_type": "display_data"
    },
    {
     "name": "stdout",
     "output_type": "stream",
     "text": [
      "Makro F1-Score Test Data:\n"
     ]
    },
    {
     "data": {
      "text/plain": [
       "0.4925005447174681"
      ]
     },
     "metadata": {},
     "output_type": "display_data"
    },
    {
     "name": "stdout",
     "output_type": "stream",
     "text": [
      "Makro Precision Train Data:\n"
     ]
    },
    {
     "data": {
      "text/plain": [
       "0.9538051750380517"
      ]
     },
     "metadata": {},
     "output_type": "display_data"
    },
    {
     "name": "stdout",
     "output_type": "stream",
     "text": [
      "Makro Precision Test Data:\n"
     ]
    },
    {
     "data": {
      "text/plain": [
       "0.5314773433693443"
      ]
     },
     "metadata": {},
     "output_type": "display_data"
    },
    {
     "name": "stdout",
     "output_type": "stream",
     "text": [
      "Makro Recall Train Data:\n"
     ]
    },
    {
     "data": {
      "text/plain": [
       "0.5890343451081796"
      ]
     },
     "metadata": {},
     "output_type": "display_data"
    },
    {
     "name": "stdout",
     "output_type": "stream",
     "text": [
      "Makro Recall Test Data:\n"
     ]
    },
    {
     "data": {
      "text/plain": [
       "0.4779016537305925"
      ]
     },
     "metadata": {},
     "output_type": "display_data"
    },
    {
     "name": "stdout",
     "output_type": "stream",
     "text": [
      "Confusion Matrix Train Data:\n"
     ]
    },
    {
     "data": {
      "text/plain": [
       "None"
      ]
     },
     "metadata": {},
     "output_type": "display_data"
    },
    {
     "data": {
      "image/png": "[encoded data removed]",
      "text/plain": [
       "<Figure size 432x288 with 2 Axes>"
      ]
     },
     "metadata": {
      "needs_background": "light"
     },
     "output_type": "display_data"
    }
   ],
   "source": [
    "# Changing Hyperparameters\n",
    "\n",
    "# Creation of the RandomForest and the pipeline\n",
    "random_forest = RandomForestClassifier(random_state=0, max_depth = 11, n_estimators = 500, max_features=0.3, min_samples_leaf=3,\n",
    "    min_samples_split=8)\n",
    "pipeline_rf = Pipeline([('estimator', random_forest)])\n",
    "\n",
    "# Fit the model and predict the values for the train data\n",
    "pipeline_rf.fit(data_train, target_train)\n",
    "predictions_train_rf = pipeline_rf.predict(data_train)\n",
    "\n",
    "# Predict values for the test data\n",
    "predictions_test_rf = pipeline_rf.predict(data_test)\n",
    "\n",
    "# Makro F1-Score\n",
    "print(\"Makro F1-Score Train Data:\")\n",
    "f1_score_train_rf = f1_score(target_train, predictions_train_rf, average='macro')\n",
    "display(f1_score_train_rf)\n",
    "\n",
    "print(\"Makro F1-Score Test Data:\")\n",
    "f1_score_test_rf = f1_score(target_test, predictions_test_rf, average='macro')\n",
    "display(f1_score_test_rf)\n",
    "\n",
    "# Makro Precision Score\n",
    "print(\"Makro Precision Train Data:\")\n",
    "precision_train_rf = precision_score(target_train, predictions_train_rf, average='macro', zero_division = 0)\n",
    "display(precision_train_rf)\n",
    "\n",
    "print(\"Makro Precision Test Data:\")\n",
    "precision_test_rf = precision_score(target_test, predictions_test_rf, average='macro', zero_division = 0)\n",
    "display(precision_test_rf)\n",
    "\n",
    "# Makro Recall Score\n",
    "print(\"Makro Recall Train Data:\")\n",
    "recall_train_rf = recall_score(target_train, predictions_train_rf, average='macro')\n",
    "display(recall_train_rf)\n",
    "\n",
    "print(\"Makro Recall Test Data:\")\n",
    "recall_test_rf = recall_score(target_test, predictions_test_rf, average='macro')\n",
    "display(recall_test_rf)\n",
    "\n",
    "# Confusion Matrix for the training data\n",
    "cnf_matrix_train_rf = confusion_matrix(target_train, predictions_train_rf)\n",
    "np.set_printoptions(precision=2)\n",
    "print(\"Confusion Matrix Train Data:\")\n",
    "display(plot_confusion_matrix(cnf_matrix_train_rf, classes=np.array([0,1,2])))"
   ]
  },
  {
   "cell_type": "code",
   "execution_count": 34,
   "metadata": {},
   "outputs": [
    {
     "name": "stdout",
     "output_type": "stream",
     "text": [
      "Confusion Matrix Train Data:\n"
     ]
    },
    {
     "data": {
      "text/plain": [
       "None"
      ]
     },
     "metadata": {},
     "output_type": "display_data"
    },
    {
     "data": {
      "image/png": "[encoded data removed]",
      "text/plain": [
       "<Figure size 432x288 with 2 Axes>"
      ]
     },
     "metadata": {
      "needs_background": "light"
     },
     "output_type": "display_data"
    }
   ],
   "source": [
    "# Confusion Matrix for the training data\n",
    "\n",
    "cnf_matrix_test_rf = confusion_matrix(target_test, predictions_test_rf)\n",
    "np.set_printoptions(precision=2)\n",
    "print(\"Confusion Matrix Train Data:\")\n",
    "display(plot_confusion_matrix(cnf_matrix_test_rf, classes=np.array([0,1,2])))"
   ]
  },
  {
   "cell_type": "markdown",
   "metadata": {},
   "source": [
    "### Oversampling\n",
    "On the basis of the model with the hypertuning of the parameters."
   ]
  },
  {
   "cell_type": "code",
   "execution_count": 35,
   "metadata": {},
   "outputs": [
    {
     "name": "stdout",
     "output_type": "stream",
     "text": [
      "Makro F1-Score Train Data:\n"
     ]
    },
    {
     "data": {
      "text/plain": [
       "0.9344379842148247"
      ]
     },
     "metadata": {},
     "output_type": "display_data"
    },
    {
     "name": "stdout",
     "output_type": "stream",
     "text": [
      "Makro F1-Score Test Data:\n"
     ]
    },
    {
     "data": {
      "text/plain": [
       "0.6096806232236647"
      ]
     },
     "metadata": {},
     "output_type": "display_data"
    },
    {
     "name": "stdout",
     "output_type": "stream",
     "text": [
      "Makro Precision Train Data:\n"
     ]
    },
    {
     "data": {
      "text/plain": [
       "0.9360941483269579"
      ]
     },
     "metadata": {},
     "output_type": "display_data"
    },
    {
     "name": "stdout",
     "output_type": "stream",
     "text": [
      "Makro Precision Test Data:\n"
     ]
    },
    {
     "data": {
      "text/plain": [
       "0.5745525793279441"
      ]
     },
     "metadata": {},
     "output_type": "display_data"
    },
    {
     "name": "stdout",
     "output_type": "stream",
     "text": [
      "Makro Recall Train Data:\n"
     ]
    },
    {
     "data": {
      "text/plain": [
       "0.9351875478438377"
      ]
     },
     "metadata": {},
     "output_type": "display_data"
    },
    {
     "name": "stdout",
     "output_type": "stream",
     "text": [
      "Makro Recall Test Data:\n"
     ]
    },
    {
     "data": {
      "text/plain": [
       "0.7078814217778376"
      ]
     },
     "metadata": {},
     "output_type": "display_data"
    },
    {
     "name": "stdout",
     "output_type": "stream",
     "text": [
      "Confusion Matrix Train Data:\n"
     ]
    },
    {
     "data": {
      "text/plain": [
       "None"
      ]
     },
     "metadata": {},
     "output_type": "display_data"
    },
    {
     "data": {
      "image/png": "[encoded data removed]",
      "text/plain": [
       "<Figure size 432x288 with 2 Axes>"
      ]
     },
     "metadata": {
      "needs_background": "light"
     },
     "output_type": "display_data"
    }
   ],
   "source": [
    "# Oversampling\n",
    "data_train_smt = data_train.copy() \n",
    "target_train_smt = target_train.copy() \n",
    "\n",
    "smt = SMOTE(random_state=42)\n",
    "data_train, target_train = smt.fit_resample(data_train_smt, target_train_smt)\n",
    "\n",
    "# Create estimator and pipeline\n",
    "random_forest = RandomForestClassifier(random_state=0, max_depth = 11, n_estimators = 500, max_features=0.3, min_samples_leaf=3,\n",
    "    min_samples_split=8)\n",
    "pipeline_rf = Pipeline([('estimator', random_forest)])\n",
    "\n",
    "# Fit the model and predict the values for the train data\n",
    "pipeline_rf.fit(data_train, target_train)\n",
    "predictions_train_rf = pipeline_rf.predict(data_train)\n",
    "\n",
    "# Predict values for the test data\n",
    "predictions_test_rf = pipeline_rf.predict(data_test)\n",
    "\n",
    "# Makro F1-Score\n",
    "print(\"Makro F1-Score Train Data:\")\n",
    "f1_score_train_rf = f1_score(target_train, predictions_train_rf, average='macro')\n",
    "display(f1_score_train_rf)\n",
    "\n",
    "print(\"Makro F1-Score Test Data:\")\n",
    "f1_score_test_rf = f1_score(target_test, predictions_test_rf, average='macro')\n",
    "display(f1_score_test_rf)\n",
    "\n",
    "# Makro Precision Score\n",
    "print(\"Makro Precision Train Data:\")\n",
    "precision_train_rf = precision_score(target_train, predictions_train_rf, average='macro', zero_division = 0)\n",
    "display(precision_train_rf)\n",
    "\n",
    "print(\"Makro Precision Test Data:\")\n",
    "precision_test_rf = precision_score(target_test, predictions_test_rf, average='macro', zero_division = 0)\n",
    "display(precision_test_rf)\n",
    "\n",
    "# Makro Recall Score\n",
    "print(\"Makro Recall Train Data:\")\n",
    "recall_train_rf = recall_score(target_train, predictions_train_rf, average='macro')\n",
    "display(recall_train_rf)\n",
    "\n",
    "print(\"Makro Recall Test Data:\")\n",
    "recall_test_rf = recall_score(target_test, predictions_test_rf, average='macro')\n",
    "display(recall_test_rf)\n",
    "\n",
    "# Confusion Matrix for the training data\n",
    "cnf_matrix_train_rf = confusion_matrix(target_train, predictions_train_rf)\n",
    "np.set_printoptions(precision=2)\n",
    "print(\"Confusion Matrix Train Data:\")\n",
    "display(plot_confusion_matrix(cnf_matrix_train_rf, classes=np.array([0,1,2])))"
   ]
  },
  {
   "cell_type": "code",
   "execution_count": 36,
   "metadata": {},
   "outputs": [
    {
     "name": "stdout",
     "output_type": "stream",
     "text": [
      "Confusion Matrix Test Data:\n"
     ]
    },
    {
     "data": {
      "text/plain": [
       "None"
      ]
     },
     "metadata": {},
     "output_type": "display_data"
    },
    {
     "data": {
      "image/png": "[encoded data removed]",
      "text/plain": [
       "<Figure size 432x288 with 2 Axes>"
      ]
     },
     "metadata": {
      "needs_background": "light"
     },
     "output_type": "display_data"
    }
   ],
   "source": [
    "# Confusion Matrix for the test data\n",
    "\n",
    "cnf_matrix_test_rf = confusion_matrix(target_test, predictions_test_rf)\n",
    "np.set_printoptions(precision=2)\n",
    "print(\"Confusion Matrix Test Data:\")\n",
    "display(plot_confusion_matrix(cnf_matrix_test_rf, classes=np.array([0,1,2])))"
   ]
  },
  {
   "cell_type": "markdown",
   "metadata": {},
   "source": [
    "### Feature Selection\n",
    "On the basis of the model with the hypertuning of the parameters and the oversampling."
   ]
  },
  {
   "cell_type": "code",
   "execution_count": 37,
   "metadata": {},
   "outputs": [
    {
     "name": "stdout",
     "output_type": "stream",
     "text": [
      "[0.01 0.06 0.11 0.08 0.07 0.07 0.13 0.08 0.09 0.05 0.08 0.16]\n"
     ]
    },
    {
     "data": {
      "image/png": "[encoded data removed]",
      "text/plain": [
       "<Figure size 432x288 with 1 Axes>"
      ]
     },
     "metadata": {
      "needs_background": "light"
     },
     "output_type": "display_data"
    }
   ],
   "source": [
    "# Feature Importance\n",
    "\n",
    "print(random_forest.feature_importances_) \n",
    "feat_importances = pd.Series(random_forest.feature_importances_, index=features.columns)\n",
    "feat_importances.plot(kind='barh')\n",
    "plt.show()"
   ]
  },
  {
   "cell_type": "code",
   "execution_count": 38,
   "metadata": {},
   "outputs": [
    {
     "data": {
      "text/plain": [
       "Text(0.5, 0, 'Permutation Importance')"
      ]
     },
     "execution_count": 38,
     "metadata": {},
     "output_type": "execute_result"
    },
    {
     "data": {
      "image/png": "[encoded data removed]",
      "text/plain": [
       "<Figure size 432x288 with 1 Axes>"
      ]
     },
     "metadata": {
      "needs_background": "light"
     },
     "output_type": "display_data"
    }
   ],
   "source": [
    "# Permutation Importance\n",
    "\n",
    "perm_importance = permutation_importance(random_forest, data_test, target_test)\n",
    "feature_list = list(features)\n",
    "plt.barh(feature_list, perm_importance.importances_mean)\n",
    "plt.xlabel(\"Permutation Importance\")"
   ]
  },
  {
   "cell_type": "code",
   "execution_count": 39,
   "metadata": {},
   "outputs": [
    {
     "data": {
      "text/html": [
       "<div>\n",
       "<style scoped>\n",
       "    .dataframe tbody tr th:only-of-type {\n",
       "        vertical-align: middle;\n",
       "    }\n",
       "\n",
       "    .dataframe tbody tr th {\n",
       "        vertical-align: top;\n",
       "    }\n",
       "\n",
       "    .dataframe thead th {\n",
       "        text-align: right;\n",
       "    }\n",
       "</style>\n",
       "<table border=\"1\" class=\"dataframe\">\n",
       "  <thead>\n",
       "    <tr style=\"text-align: right;\">\n",
       "      <th></th>\n",
       "      <th>VIF Factor</th>\n",
       "      <th>features</th>\n",
       "    </tr>\n",
       "  </thead>\n",
       "  <tbody>\n",
       "    <tr>\n",
       "      <th>0</th>\n",
       "      <td>1.000000</td>\n",
       "      <td>Intercept</td>\n",
       "    </tr>\n",
       "    <tr>\n",
       "      <th>13</th>\n",
       "      <td>1.243562</td>\n",
       "      <td>quality</td>\n",
       "    </tr>\n",
       "    <tr>\n",
       "      <th>11</th>\n",
       "      <td>1.559567</td>\n",
       "      <td>sulphates</td>\n",
       "    </tr>\n",
       "    <tr>\n",
       "      <th>4</th>\n",
       "      <td>1.617980</td>\n",
       "      <td>citric_acid</td>\n",
       "    </tr>\n",
       "    <tr>\n",
       "      <th>6</th>\n",
       "      <td>1.969709</td>\n",
       "      <td>chlorides</td>\n",
       "    </tr>\n",
       "    <tr>\n",
       "      <th>3</th>\n",
       "      <td>2.219198</td>\n",
       "      <td>volatile_acidity</td>\n",
       "    </tr>\n",
       "    <tr>\n",
       "      <th>7</th>\n",
       "      <td>2.253225</td>\n",
       "      <td>free_sulfur_dioxide</td>\n",
       "    </tr>\n",
       "    <tr>\n",
       "      <th>10</th>\n",
       "      <td>2.740514</td>\n",
       "      <td>pH</td>\n",
       "    </tr>\n",
       "    <tr>\n",
       "      <th>8</th>\n",
       "      <td>4.037936</td>\n",
       "      <td>total_sulfur_dioxide</td>\n",
       "    </tr>\n",
       "    <tr>\n",
       "      <th>2</th>\n",
       "      <td>5.750609</td>\n",
       "      <td>fixed_acidity</td>\n",
       "    </tr>\n",
       "    <tr>\n",
       "      <th>12</th>\n",
       "      <td>6.805802</td>\n",
       "      <td>alcohol</td>\n",
       "    </tr>\n",
       "    <tr>\n",
       "      <th>1</th>\n",
       "      <td>7.866808</td>\n",
       "      <td>type</td>\n",
       "    </tr>\n",
       "    <tr>\n",
       "      <th>5</th>\n",
       "      <td>11.069827</td>\n",
       "      <td>residual_sugar</td>\n",
       "    </tr>\n",
       "    <tr>\n",
       "      <th>9</th>\n",
       "      <td>27.542614</td>\n",
       "      <td>density</td>\n",
       "    </tr>\n",
       "  </tbody>\n",
       "</table>\n",
       "</div>"
      ],
      "text/plain": [
       "    VIF Factor              features\n",
       "0     1.000000             Intercept\n",
       "13    1.243562               quality\n",
       "11    1.559567             sulphates\n",
       "4     1.617980           citric_acid\n",
       "6     1.969709             chlorides\n",
       "3     2.219198      volatile_acidity\n",
       "7     2.253225   free_sulfur_dioxide\n",
       "10    2.740514                    pH\n",
       "8     4.037936  total_sulfur_dioxide\n",
       "2     5.750609         fixed_acidity\n",
       "12    6.805802               alcohol\n",
       "1     7.866808                  type\n",
       "5    11.069827        residual_sugar\n",
       "9    27.542614               density"
      ]
     },
     "metadata": {},
     "output_type": "display_data"
    }
   ],
   "source": [
    "# Feature correlation\n",
    "\n",
    "wines = wine_data.copy()\n",
    "y_ql = wines.drop(columns=['type', 'fixed acidity', 'volatile acidity', 'citric acid', 'residual sugar', 'chlorides', 'free sulfur dioxide', 'total sulfur dioxide', 'density', 'pH', 'sulphates', 'alcohol'])\n",
    "\n",
    "def VRF(predict, data, y):\n",
    "   \n",
    "    scale = StandardScaler(with_std=False)\n",
    "    df = pd.DataFrame(scale.fit_transform(data), columns= cols)\n",
    "    features = \"+\".join(cols)\n",
    "    df['quality_label'] = y.values\n",
    "\n",
    "    # Get y and X dataframes based on this regression:\n",
    "    y, X = dmatrices(predict + ' ~' + features, data = df, return_type='dataframe')\n",
    "\n",
    "    # Calculate VIF Factors: For each X, calculate VIF and save it in the dataframe\n",
    "    vif = pd.DataFrame()\n",
    "    vif[\"VIF Factor\"] = [variance_inflation_factor(X.values, i) for i in range(X.shape[1])]\n",
    "    vif[\"features\"] = X.columns\n",
    "\n",
    "    # Inspect VIF Factors\n",
    "    display(vif.sort_values('VIF Factor'))\n",
    "    return vif\n",
    "\n",
    "cols = wines.columns.str.replace(' ', '_')\n",
    "df = wines.copy()\n",
    "df.columns = cols\n",
    "\n",
    "vif = VRF('quality', df.loc[:, cols], y_ql)"
   ]
  },
  {
   "cell_type": "markdown",
   "metadata": {},
   "source": [
    "####  Feature Importance: Model without type"
   ]
  },
  {
   "cell_type": "code",
   "execution_count": 41,
   "metadata": {},
   "outputs": [
    {
     "name": "stdout",
     "output_type": "stream",
     "text": [
      "Makro F1-Score Train Data:\n"
     ]
    },
    {
     "data": {
      "text/plain": [
       "0.9380449313121125"
      ]
     },
     "metadata": {},
     "output_type": "display_data"
    },
    {
     "name": "stdout",
     "output_type": "stream",
     "text": [
      "Makro F1-Score Test Data:\n"
     ]
    },
    {
     "data": {
      "text/plain": [
       "0.6094263998365771"
      ]
     },
     "metadata": {},
     "output_type": "display_data"
    },
    {
     "name": "stdout",
     "output_type": "stream",
     "text": [
      "Makro Precision Train Data:\n"
     ]
    },
    {
     "data": {
      "text/plain": [
       "0.9393587555109436"
      ]
     },
     "metadata": {},
     "output_type": "display_data"
    },
    {
     "name": "stdout",
     "output_type": "stream",
     "text": [
      "Makro Precision Test Data:\n"
     ]
    },
    {
     "data": {
      "text/plain": [
       "0.5742439622721313"
      ]
     },
     "metadata": {},
     "output_type": "display_data"
    },
    {
     "name": "stdout",
     "output_type": "stream",
     "text": [
      "Makro Recall Train Data:\n"
     ]
    },
    {
     "data": {
      "text/plain": [
       "0.9386748320149697"
      ]
     },
     "metadata": {},
     "output_type": "display_data"
    },
    {
     "name": "stdout",
     "output_type": "stream",
     "text": [
      "Makro Recall Test Data:\n"
     ]
    },
    {
     "data": {
      "text/plain": [
       "0.704963781895667"
      ]
     },
     "metadata": {},
     "output_type": "display_data"
    },
    {
     "name": "stdout",
     "output_type": "stream",
     "text": [
      "Confusion Matrix Train Data:\n"
     ]
    },
    {
     "data": {
      "text/plain": [
       "None"
      ]
     },
     "metadata": {},
     "output_type": "display_data"
    },
    {
     "data": {
      "image/png": "[encoded data removed]",
      "text/plain": [
       "<Figure size 432x288 with 2 Axes>"
      ]
     },
     "metadata": {
      "needs_background": "light"
     },
     "output_type": "display_data"
    }
   ],
   "source": [
    "# Seperation of features and the target variable in two different data frames and dropping column type\n",
    "features = wine_data.drop(columns=['quality', 'type'])\n",
    "target = wine_data.drop(columns=['type', 'fixed acidity', 'volatile acidity', 'citric acid', 'residual sugar', 'chlorides', 'free sulfur dioxide', 'total sulfur dioxide', 'density', 'pH', 'sulphates', 'alcohol'])\n",
    "target = target['quality'].ravel()\n",
    "\n",
    "# Train test split\n",
    "data_train, data_test, target_train, target_test = train_test_split(\n",
    "    features, target, test_size=0.2, random_state=42, stratify=target)\n",
    "\n",
    "# Oversampling\n",
    "data_train_smt = data_train.copy() \n",
    "target_train_smt = target_train.copy() \n",
    "\n",
    "smt = SMOTE(random_state=42)\n",
    "data_train, target_train = smt.fit_resample(data_train_smt, target_train_smt)\n",
    "\n",
    "# Create estimator and pipeline\n",
    "random_forest = RandomForestClassifier(random_state=0, max_depth = 11, n_estimators = 500, max_features=0.3, min_samples_leaf=3,\n",
    "    min_samples_split=8)\n",
    "pipeline_rf = Pipeline([('estimator', random_forest)])\n",
    "\n",
    "# Fit the model and predict the values for the train data\n",
    "pipeline_rf.fit(data_train, target_train)\n",
    "predictions_train_rf = pipeline_rf.predict(data_train)\n",
    "\n",
    "# Predict values for the test data\n",
    "predictions_test_rf = pipeline_rf.predict(data_test)\n",
    "\n",
    "# Makro F1-Score\n",
    "print(\"Makro F1-Score Train Data:\")\n",
    "f1_score_train_rf = f1_score(target_train, predictions_train_rf, average='macro')\n",
    "display(f1_score_train_rf)\n",
    "\n",
    "print(\"Makro F1-Score Test Data:\")\n",
    "f1_score_test_rf = f1_score(target_test, predictions_test_rf, average='macro')\n",
    "display(f1_score_test_rf)\n",
    "\n",
    "# Makro Precision Score\n",
    "print(\"Makro Precision Train Data:\")\n",
    "precision_train_rf = precision_score(target_train, predictions_train_rf, average='macro', zero_division = 0)\n",
    "display(precision_train_rf)\n",
    "\n",
    "print(\"Makro Precision Test Data:\")\n",
    "precision_test_rf = precision_score(target_test, predictions_test_rf, average='macro', zero_division = 0)\n",
    "display(precision_test_rf)\n",
    "\n",
    "# Makro Recall Score\n",
    "print(\"Makro Recall Train Data:\")\n",
    "recall_train_rf = recall_score(target_train, predictions_train_rf, average='macro')\n",
    "display(recall_train_rf)\n",
    "\n",
    "print(\"Makro Recall Test Data:\")\n",
    "recall_test_rf = recall_score(target_test, predictions_test_rf, average='macro')\n",
    "display(recall_test_rf)\n",
    "\n",
    "# Confusion Matrix for the training data\n",
    "cnf_matrix_train_rf = confusion_matrix(target_train, predictions_train_rf)\n",
    "np.set_printoptions(precision=2)\n",
    "print(\"Confusion Matrix Train Data:\")\n",
    "display(plot_confusion_matrix(cnf_matrix_train_rf, classes=np.array([0,1,2])))"
   ]
  },
  {
   "cell_type": "code",
   "execution_count": 42,
   "metadata": {},
   "outputs": [
    {
     "name": "stdout",
     "output_type": "stream",
     "text": [
      "Confusion Matrix Test Data:\n"
     ]
    },
    {
     "data": {
      "text/plain": [
       "None"
      ]
     },
     "metadata": {},
     "output_type": "display_data"
    },
    {
     "data": {
      "image/png": "[encoded data removed]",
      "text/plain": [
       "<Figure size 432x288 with 2 Axes>"
      ]
     },
     "metadata": {
      "needs_background": "light"
     },
     "output_type": "display_data"
    }
   ],
   "source": [
    "# Confusion Matrix for the test data\n",
    "\n",
    "cnf_matrix_test_rf = confusion_matrix(target_test, predictions_test_rf)\n",
    "np.set_printoptions(precision=2)\n",
    "print(\"Confusion Matrix Test Data:\")\n",
    "display(plot_confusion_matrix(cnf_matrix_test_rf, classes=np.array([0,1,2])))"
   ]
  },
  {
   "cell_type": "markdown",
   "metadata": {},
   "source": [
    "#### Feature Permutation: Model without pH and density "
   ]
  },
  {
   "cell_type": "code",
   "execution_count": 50,
   "metadata": {},
   "outputs": [
    {
     "data": {
      "text/html": [
       "<div>\n",
       "<style scoped>\n",
       "    .dataframe tbody tr th:only-of-type {\n",
       "        vertical-align: middle;\n",
       "    }\n",
       "\n",
       "    .dataframe tbody tr th {\n",
       "        vertical-align: top;\n",
       "    }\n",
       "\n",
       "    .dataframe thead th {\n",
       "        text-align: right;\n",
       "    }\n",
       "</style>\n",
       "<table border=\"1\" class=\"dataframe\">\n",
       "  <thead>\n",
       "    <tr style=\"text-align: right;\">\n",
       "      <th></th>\n",
       "      <th>type</th>\n",
       "      <th>fixed acidity</th>\n",
       "      <th>volatile acidity</th>\n",
       "      <th>citric acid</th>\n",
       "      <th>residual sugar</th>\n",
       "      <th>chlorides</th>\n",
       "      <th>free sulfur dioxide</th>\n",
       "      <th>total sulfur dioxide</th>\n",
       "      <th>sulphates</th>\n",
       "      <th>alcohol</th>\n",
       "    </tr>\n",
       "  </thead>\n",
       "  <tbody>\n",
       "    <tr>\n",
       "      <th>0</th>\n",
       "      <td>1.0</td>\n",
       "      <td>0.264463</td>\n",
       "      <td>0.126667</td>\n",
       "      <td>0.216867</td>\n",
       "      <td>0.308282</td>\n",
       "      <td>0.059801</td>\n",
       "      <td>0.152778</td>\n",
       "      <td>0.377880</td>\n",
       "      <td>0.129213</td>\n",
       "      <td>0.115942</td>\n",
       "    </tr>\n",
       "    <tr>\n",
       "      <th>1</th>\n",
       "      <td>1.0</td>\n",
       "      <td>0.206612</td>\n",
       "      <td>0.146667</td>\n",
       "      <td>0.204819</td>\n",
       "      <td>0.015337</td>\n",
       "      <td>0.066445</td>\n",
       "      <td>0.045139</td>\n",
       "      <td>0.290323</td>\n",
       "      <td>0.151685</td>\n",
       "      <td>0.217391</td>\n",
       "    </tr>\n",
       "    <tr>\n",
       "      <th>2</th>\n",
       "      <td>1.0</td>\n",
       "      <td>0.355372</td>\n",
       "      <td>0.133333</td>\n",
       "      <td>0.240964</td>\n",
       "      <td>0.096626</td>\n",
       "      <td>0.068106</td>\n",
       "      <td>0.100694</td>\n",
       "      <td>0.209677</td>\n",
       "      <td>0.123596</td>\n",
       "      <td>0.304348</td>\n",
       "    </tr>\n",
       "    <tr>\n",
       "      <th>3</th>\n",
       "      <td>1.0</td>\n",
       "      <td>0.280992</td>\n",
       "      <td>0.100000</td>\n",
       "      <td>0.192771</td>\n",
       "      <td>0.121166</td>\n",
       "      <td>0.081395</td>\n",
       "      <td>0.159722</td>\n",
       "      <td>0.414747</td>\n",
       "      <td>0.101124</td>\n",
       "      <td>0.275362</td>\n",
       "    </tr>\n",
       "    <tr>\n",
       "      <th>4</th>\n",
       "      <td>1.0</td>\n",
       "      <td>0.280992</td>\n",
       "      <td>0.100000</td>\n",
       "      <td>0.192771</td>\n",
       "      <td>0.121166</td>\n",
       "      <td>0.081395</td>\n",
       "      <td>0.159722</td>\n",
       "      <td>0.414747</td>\n",
       "      <td>0.101124</td>\n",
       "      <td>0.275362</td>\n",
       "    </tr>\n",
       "  </tbody>\n",
       "</table>\n",
       "</div>"
      ],
      "text/plain": [
       "   type  fixed acidity  volatile acidity  citric acid  residual sugar  \\\n",
       "0   1.0       0.264463          0.126667     0.216867        0.308282   \n",
       "1   1.0       0.206612          0.146667     0.204819        0.015337   \n",
       "2   1.0       0.355372          0.133333     0.240964        0.096626   \n",
       "3   1.0       0.280992          0.100000     0.192771        0.121166   \n",
       "4   1.0       0.280992          0.100000     0.192771        0.121166   \n",
       "\n",
       "   chlorides  free sulfur dioxide  total sulfur dioxide  sulphates   alcohol  \n",
       "0   0.059801             0.152778              0.377880   0.129213  0.115942  \n",
       "1   0.066445             0.045139              0.290323   0.151685  0.217391  \n",
       "2   0.068106             0.100694              0.209677   0.123596  0.304348  \n",
       "3   0.081395             0.159722              0.414747   0.101124  0.275362  \n",
       "4   0.081395             0.159722              0.414747   0.101124  0.275362  "
      ]
     },
     "metadata": {},
     "output_type": "display_data"
    },
    {
     "name": "stdout",
     "output_type": "stream",
     "text": [
      "Makro F1-Score Train Data:\n"
     ]
    },
    {
     "data": {
      "text/plain": [
       "0.9309293886332775"
      ]
     },
     "metadata": {},
     "output_type": "display_data"
    },
    {
     "name": "stdout",
     "output_type": "stream",
     "text": [
      "Makro F1-Score Test Data:\n"
     ]
    },
    {
     "data": {
      "text/plain": [
       "0.6094741307753999"
      ]
     },
     "metadata": {},
     "output_type": "display_data"
    },
    {
     "name": "stdout",
     "output_type": "stream",
     "text": [
      "Makro Precision Train Data:\n"
     ]
    },
    {
     "data": {
      "text/plain": [
       "0.9328232589173133"
      ]
     },
     "metadata": {},
     "output_type": "display_data"
    },
    {
     "name": "stdout",
     "output_type": "stream",
     "text": [
      "Makro Precision Test Data:\n"
     ]
    },
    {
     "data": {
      "text/plain": [
       "0.5739622662462389"
      ]
     },
     "metadata": {},
     "output_type": "display_data"
    },
    {
     "name": "stdout",
     "output_type": "stream",
     "text": [
      "Makro Recall Train Data:\n"
     ]
    },
    {
     "data": {
      "text/plain": [
       "0.9316152079612147"
      ]
     },
     "metadata": {},
     "output_type": "display_data"
    },
    {
     "name": "stdout",
     "output_type": "stream",
     "text": [
      "Makro Recall Test Data:\n"
     ]
    },
    {
     "data": {
      "text/plain": [
       "0.704623992565052"
      ]
     },
     "metadata": {},
     "output_type": "display_data"
    },
    {
     "name": "stdout",
     "output_type": "stream",
     "text": [
      "Confusion Matrix Train Data:\n"
     ]
    },
    {
     "data": {
      "text/plain": [
       "None"
      ]
     },
     "metadata": {},
     "output_type": "display_data"
    },
    {
     "data": {
      "image/png": "[encoded data removed]",
      "text/plain": [
       "<Figure size 432x288 with 2 Axes>"
      ]
     },
     "metadata": {
      "needs_background": "light"
     },
     "output_type": "display_data"
    }
   ],
   "source": [
    "# Seperation of features and the target variable in two different data frames and dropping the columns quality, pH, and density\n",
    "features = wine_data.drop(columns=['quality', 'pH', 'density'])\n",
    "display(features.head())\n",
    "target = wine_data.drop(columns=['type', 'fixed acidity', 'volatile acidity', 'citric acid', 'residual sugar', 'chlorides', 'free sulfur dioxide', 'total sulfur dioxide', 'density', 'pH', 'sulphates', 'alcohol'])\n",
    "target = target['quality'].ravel()\n",
    "\n",
    "# Train test split\n",
    "data_train, data_test, target_train, target_test = train_test_split(\n",
    "    features, target, test_size=0.2, random_state=42, stratify=target)\n",
    "\n",
    "# Oversampling\n",
    "data_train_smt = data_train.copy() \n",
    "target_train_smt = target_train.copy() \n",
    "\n",
    "smt = SMOTE(random_state=42)\n",
    "data_train, target_train = smt.fit_resample(data_train_smt, target_train_smt)\n",
    "\n",
    "# Create estimator and pipeline\n",
    "random_forest = RandomForestClassifier(random_state=0, max_depth = 11, n_estimators = 500, max_features=0.3, min_samples_leaf=3,\n",
    "    min_samples_split=8)\n",
    "pipeline_rf = Pipeline([('estimator', random_forest)])\n",
    "\n",
    "# Fit the model and predict the values for the train data\n",
    "pipeline_rf.fit(data_train, target_train)\n",
    "predictions_train_rf = pipeline_rf.predict(data_train)\n",
    "\n",
    "# Predict values for the test data\n",
    "predictions_test_rf = pipeline_rf.predict(data_test)\n",
    "\n",
    "# Makro F1-Score\n",
    "print(\"Makro F1-Score Train Data:\")\n",
    "f1_score_train_rf = f1_score(target_train, predictions_train_rf, average='macro')\n",
    "display(f1_score_train_rf)\n",
    "\n",
    "print(\"Makro F1-Score Test Data:\")\n",
    "f1_score_test_rf = f1_score(target_test, predictions_test_rf, average='macro')\n",
    "display(f1_score_test_rf)\n",
    "\n",
    "# Makro Precision Score\n",
    "print(\"Makro Precision Train Data:\")\n",
    "precision_train_rf = precision_score(target_train, predictions_train_rf, average='macro', zero_division = 0)\n",
    "display(precision_train_rf)\n",
    "\n",
    "print(\"Makro Precision Test Data:\")\n",
    "precision_test_rf = precision_score(target_test, predictions_test_rf, average='macro', zero_division = 0)\n",
    "display(precision_test_rf)\n",
    "\n",
    "# Makro Recall Score\n",
    "print(\"Makro Recall Train Data:\")\n",
    "recall_train_rf = recall_score(target_train, predictions_train_rf, average='macro')\n",
    "display(recall_train_rf)\n",
    "\n",
    "print(\"Makro Recall Test Data:\")\n",
    "recall_test_rf = recall_score(target_test, predictions_test_rf, average='macro')\n",
    "display(recall_test_rf)\n",
    "\n",
    "# Confusion Matrix for the training data\n",
    "cnf_matrix_train_rf = confusion_matrix(target_train, predictions_train_rf)\n",
    "np.set_printoptions(precision=2)\n",
    "print(\"Confusion Matrix Train Data:\")\n",
    "display(plot_confusion_matrix(cnf_matrix_train_rf, classes=np.array([0,1,2])))"
   ]
  },
  {
   "cell_type": "code",
   "execution_count": 44,
   "metadata": {},
   "outputs": [
    {
     "name": "stdout",
     "output_type": "stream",
     "text": [
      "Confusion Matrix Test Data:\n"
     ]
    },
    {
     "data": {
      "text/plain": [
       "None"
      ]
     },
     "metadata": {},
     "output_type": "display_data"
    },
    {
     "data": {
      "image/png": "[encoded data removed]",
      "text/plain": [
       "<Figure size 432x288 with 2 Axes>"
      ]
     },
     "metadata": {
      "needs_background": "light"
     },
     "output_type": "display_data"
    }
   ],
   "source": [
    "# Confusion Matrix for the test data\n",
    "\n",
    "cnf_matrix_test_rf = confusion_matrix(target_test, predictions_test_rf)\n",
    "np.set_printoptions(precision=2)\n",
    "print(\"Confusion Matrix Test Data:\")\n",
    "display(plot_confusion_matrix(cnf_matrix_test_rf, classes=np.array([0,1,2])))"
   ]
  },
  {
   "cell_type": "markdown",
   "metadata": {},
   "source": [
    "#### Feature Correlation: Model without fixed acidity, alcohol, type, residual sugar, and density"
   ]
  },
  {
   "cell_type": "code",
   "execution_count": 45,
   "metadata": {},
   "outputs": [
    {
     "data": {
      "text/html": [
       "<div>\n",
       "<style scoped>\n",
       "    .dataframe tbody tr th:only-of-type {\n",
       "        vertical-align: middle;\n",
       "    }\n",
       "\n",
       "    .dataframe tbody tr th {\n",
       "        vertical-align: top;\n",
       "    }\n",
       "\n",
       "    .dataframe thead th {\n",
       "        text-align: right;\n",
       "    }\n",
       "</style>\n",
       "<table border=\"1\" class=\"dataframe\">\n",
       "  <thead>\n",
       "    <tr style=\"text-align: right;\">\n",
       "      <th></th>\n",
       "      <th>volatile acidity</th>\n",
       "      <th>citric acid</th>\n",
       "      <th>chlorides</th>\n",
       "      <th>free sulfur dioxide</th>\n",
       "      <th>total sulfur dioxide</th>\n",
       "      <th>pH</th>\n",
       "      <th>sulphates</th>\n",
       "    </tr>\n",
       "  </thead>\n",
       "  <tbody>\n",
       "    <tr>\n",
       "      <th>0</th>\n",
       "      <td>0.126667</td>\n",
       "      <td>0.216867</td>\n",
       "      <td>0.059801</td>\n",
       "      <td>0.152778</td>\n",
       "      <td>0.377880</td>\n",
       "      <td>0.217054</td>\n",
       "      <td>0.129213</td>\n",
       "    </tr>\n",
       "    <tr>\n",
       "      <th>1</th>\n",
       "      <td>0.146667</td>\n",
       "      <td>0.204819</td>\n",
       "      <td>0.066445</td>\n",
       "      <td>0.045139</td>\n",
       "      <td>0.290323</td>\n",
       "      <td>0.449612</td>\n",
       "      <td>0.151685</td>\n",
       "    </tr>\n",
       "    <tr>\n",
       "      <th>2</th>\n",
       "      <td>0.133333</td>\n",
       "      <td>0.240964</td>\n",
       "      <td>0.068106</td>\n",
       "      <td>0.100694</td>\n",
       "      <td>0.209677</td>\n",
       "      <td>0.418605</td>\n",
       "      <td>0.123596</td>\n",
       "    </tr>\n",
       "    <tr>\n",
       "      <th>3</th>\n",
       "      <td>0.100000</td>\n",
       "      <td>0.192771</td>\n",
       "      <td>0.081395</td>\n",
       "      <td>0.159722</td>\n",
       "      <td>0.414747</td>\n",
       "      <td>0.364341</td>\n",
       "      <td>0.101124</td>\n",
       "    </tr>\n",
       "    <tr>\n",
       "      <th>4</th>\n",
       "      <td>0.100000</td>\n",
       "      <td>0.192771</td>\n",
       "      <td>0.081395</td>\n",
       "      <td>0.159722</td>\n",
       "      <td>0.414747</td>\n",
       "      <td>0.364341</td>\n",
       "      <td>0.101124</td>\n",
       "    </tr>\n",
       "  </tbody>\n",
       "</table>\n",
       "</div>"
      ],
      "text/plain": [
       "   volatile acidity  citric acid  chlorides  free sulfur dioxide  \\\n",
       "0          0.126667     0.216867   0.059801             0.152778   \n",
       "1          0.146667     0.204819   0.066445             0.045139   \n",
       "2          0.133333     0.240964   0.068106             0.100694   \n",
       "3          0.100000     0.192771   0.081395             0.159722   \n",
       "4          0.100000     0.192771   0.081395             0.159722   \n",
       "\n",
       "   total sulfur dioxide        pH  sulphates  \n",
       "0              0.377880  0.217054   0.129213  \n",
       "1              0.290323  0.449612   0.151685  \n",
       "2              0.209677  0.418605   0.123596  \n",
       "3              0.414747  0.364341   0.101124  \n",
       "4              0.414747  0.364341   0.101124  "
      ]
     },
     "metadata": {},
     "output_type": "display_data"
    },
    {
     "name": "stdout",
     "output_type": "stream",
     "text": [
      "Makro F1-Score Train Data:\n"
     ]
    },
    {
     "data": {
      "text/plain": [
       "0.9073728816353824"
      ]
     },
     "metadata": {},
     "output_type": "display_data"
    },
    {
     "name": "stdout",
     "output_type": "stream",
     "text": [
      "Makro F1-Score Test Data:\n"
     ]
    },
    {
     "data": {
      "text/plain": [
       "0.5792151680448895"
      ]
     },
     "metadata": {},
     "output_type": "display_data"
    },
    {
     "name": "stdout",
     "output_type": "stream",
     "text": [
      "Makro Precision Train Data:\n"
     ]
    },
    {
     "data": {
      "text/plain": [
       "0.9098332454047456"
      ]
     },
     "metadata": {},
     "output_type": "display_data"
    },
    {
     "name": "stdout",
     "output_type": "stream",
     "text": [
      "Makro Precision Test Data:\n"
     ]
    },
    {
     "data": {
      "text/plain": [
       "0.5484952960674363"
      ]
     },
     "metadata": {},
     "output_type": "display_data"
    },
    {
     "name": "stdout",
     "output_type": "stream",
     "text": [
      "Makro Recall Train Data:\n"
     ]
    },
    {
     "data": {
      "text/plain": [
       "0.9084800544356554"
      ]
     },
     "metadata": {},
     "output_type": "display_data"
    },
    {
     "name": "stdout",
     "output_type": "stream",
     "text": [
      "Makro Recall Test Data:\n"
     ]
    },
    {
     "data": {
      "text/plain": [
       "0.7014237167260203"
      ]
     },
     "metadata": {},
     "output_type": "display_data"
    },
    {
     "name": "stdout",
     "output_type": "stream",
     "text": [
      "Confusion Matrix Train Data:\n"
     ]
    },
    {
     "data": {
      "text/plain": [
       "None"
      ]
     },
     "metadata": {},
     "output_type": "display_data"
    },
    {
     "data": {
      "image/png": "[encoded data removed]",
      "text/plain": [
       "<Figure size 432x288 with 2 Axes>"
      ]
     },
     "metadata": {
      "needs_background": "light"
     },
     "output_type": "display_data"
    }
   ],
   "source": [
    "# Seperation of features and the target variable in two different data frames and dropping the columns fixed acidity, alcohol, type, residual sugar, and density\n",
    "features = wine_data.drop(columns=['quality', 'type', 'fixed acidity', 'alcohol', 'density', 'residual sugar'])\n",
    "display(features.head())\n",
    "target = wine_data.drop(columns=['type', 'fixed acidity', 'volatile acidity', 'citric acid', 'residual sugar', 'chlorides', 'free sulfur dioxide', 'total sulfur dioxide', 'density', 'pH', 'sulphates', 'alcohol'])\n",
    "target = target['quality'].ravel()\n",
    "\n",
    "# Train test split\n",
    "data_train, data_test, target_train, target_test = train_test_split(\n",
    "    features, target, test_size=0.2, random_state=42, stratify=target)\n",
    "\n",
    "# Oversampling\n",
    "data_train_smt = data_train.copy() \n",
    "target_train_smt = target_train.copy() \n",
    "\n",
    "smt = SMOTE(random_state=42)\n",
    "data_train, target_train = smt.fit_resample(data_train_smt, target_train_smt)\n",
    "\n",
    "# Create estimator and pipeline\n",
    "random_forest = RandomForestClassifier(random_state=0, max_depth = 11, n_estimators = 500, max_features=0.3, min_samples_leaf=3,\n",
    "    min_samples_split=8)\n",
    "pipeline_rf = Pipeline([('estimator', random_forest)])\n",
    "\n",
    "# Fit the model and predict the values for the train data\n",
    "pipeline_rf.fit(data_train, target_train)\n",
    "predictions_train_rf = pipeline_rf.predict(data_train)\n",
    "\n",
    "# Predict values for the test data\n",
    "predictions_test_rf = pipeline_rf.predict(data_test)\n",
    "\n",
    "# Makro F1-Score\n",
    "print(\"Makro F1-Score Train Data:\")\n",
    "f1_score_train_rf = f1_score(target_train, predictions_train_rf, average='macro')\n",
    "display(f1_score_train_rf)\n",
    "\n",
    "print(\"Makro F1-Score Test Data:\")\n",
    "f1_score_test_rf = f1_score(target_test, predictions_test_rf, average='macro')\n",
    "display(f1_score_test_rf)\n",
    "\n",
    "# Makro Precision Score\n",
    "print(\"Makro Precision Train Data:\")\n",
    "precision_train_rf = precision_score(target_train, predictions_train_rf, average='macro', zero_division = 0)\n",
    "display(precision_train_rf)\n",
    "\n",
    "print(\"Makro Precision Test Data:\")\n",
    "precision_test_rf = precision_score(target_test, predictions_test_rf, average='macro', zero_division = 0)\n",
    "display(precision_test_rf)\n",
    "\n",
    "# Makro Recall Score\n",
    "print(\"Makro Recall Train Data:\")\n",
    "recall_train_rf = recall_score(target_train, predictions_train_rf, average='macro')\n",
    "display(recall_train_rf)\n",
    "\n",
    "print(\"Makro Recall Test Data:\")\n",
    "recall_test_rf = recall_score(target_test, predictions_test_rf, average='macro')\n",
    "display(recall_test_rf)\n",
    "\n",
    "# Confusion Matrix for the training data\n",
    "cnf_matrix_train_rf = confusion_matrix(target_train, predictions_train_rf)\n",
    "np.set_printoptions(precision=2)\n",
    "print(\"Confusion Matrix Train Data:\")\n",
    "display(plot_confusion_matrix(cnf_matrix_train_rf, classes=np.array([0,1,2])))"
   ]
  },
  {
   "cell_type": "code",
   "execution_count": 46,
   "metadata": {},
   "outputs": [
    {
     "name": "stdout",
     "output_type": "stream",
     "text": [
      "Confusion Matrix Test Data:\n"
     ]
    },
    {
     "data": {
      "text/plain": [
       "None"
      ]
     },
     "metadata": {},
     "output_type": "display_data"
    },
    {
     "data": {
      "image/png": "[encoded data removed]",
      "text/plain": [
       "<Figure size 432x288 with 2 Axes>"
      ]
     },
     "metadata": {
      "needs_background": "light"
     },
     "output_type": "display_data"
    }
   ],
   "source": [
    "# Confusion Matrix for the test data\n",
    "\n",
    "cnf_matrix_test_rf = confusion_matrix(target_test, predictions_test_rf)\n",
    "np.set_printoptions(precision=2)\n",
    "print(\"Confusion Matrix Test Data:\")\n",
    "display(plot_confusion_matrix(cnf_matrix_test_rf, classes=np.array([0,1,2])))"
   ]
  },
  {
   "cell_type": "markdown",
   "metadata": {},
   "source": [
    "### Second Hyperparameter Tuning"
   ]
  },
  {
   "cell_type": "code",
   "execution_count": 49,
   "metadata": {},
   "outputs": [
    {
     "name": "stdout",
     "output_type": "stream",
     "text": [
      "Fitting 10 folds for each of 12 candidates, totalling 120 fits\n"
     ]
    },
    {
     "name": "stderr",
     "output_type": "stream",
     "text": [
      "/Users/I500970/opt/anaconda3/lib/python3.8/site-packages/sklearn/model_selection/_search.py:918: UserWarning: One or more of the test scores are non-finite: [0.91 0.9  0.9   nan  nan  nan 0.92 0.91 0.9  0.92 0.91 0.9 ]\n",
      "  warnings.warn(\n"
     ]
    },
    {
     "data": {
      "text/html": [
       "<div>\n",
       "<style scoped>\n",
       "    .dataframe tbody tr th:only-of-type {\n",
       "        vertical-align: middle;\n",
       "    }\n",
       "\n",
       "    .dataframe tbody tr th {\n",
       "        vertical-align: top;\n",
       "    }\n",
       "\n",
       "    .dataframe thead th {\n",
       "        text-align: right;\n",
       "    }\n",
       "</style>\n",
       "<table border=\"1\" class=\"dataframe\">\n",
       "  <thead>\n",
       "    <tr style=\"text-align: right;\">\n",
       "      <th></th>\n",
       "      <th>mean_fit_time</th>\n",
       "      <th>std_fit_time</th>\n",
       "      <th>mean_score_time</th>\n",
       "      <th>std_score_time</th>\n",
       "      <th>param_max_features</th>\n",
       "      <th>param_min_samples_leaf</th>\n",
       "      <th>params</th>\n",
       "      <th>split0_test_score</th>\n",
       "      <th>split1_test_score</th>\n",
       "      <th>split2_test_score</th>\n",
       "      <th>split3_test_score</th>\n",
       "      <th>split4_test_score</th>\n",
       "      <th>split5_test_score</th>\n",
       "      <th>split6_test_score</th>\n",
       "      <th>split7_test_score</th>\n",
       "      <th>split8_test_score</th>\n",
       "      <th>split9_test_score</th>\n",
       "      <th>mean_test_score</th>\n",
       "      <th>std_test_score</th>\n",
       "      <th>rank_test_score</th>\n",
       "    </tr>\n",
       "  </thead>\n",
       "  <tbody>\n",
       "    <tr>\n",
       "      <th>0</th>\n",
       "      <td>10.889375</td>\n",
       "      <td>0.166888</td>\n",
       "      <td>0.052727</td>\n",
       "      <td>0.006922</td>\n",
       "      <td>None</td>\n",
       "      <td>3</td>\n",
       "      <td>{'max_features': None, 'min_samples_leaf': 3}</td>\n",
       "      <td>0.923855</td>\n",
       "      <td>0.915269</td>\n",
       "      <td>0.912010</td>\n",
       "      <td>0.916162</td>\n",
       "      <td>0.900017</td>\n",
       "      <td>0.918042</td>\n",
       "      <td>0.904768</td>\n",
       "      <td>0.905987</td>\n",
       "      <td>0.905444</td>\n",
       "      <td>0.906041</td>\n",
       "      <td>0.910759</td>\n",
       "      <td>0.007073</td>\n",
       "      <td>3</td>\n",
       "    </tr>\n",
       "    <tr>\n",
       "      <th>1</th>\n",
       "      <td>11.281850</td>\n",
       "      <td>0.416982</td>\n",
       "      <td>0.058735</td>\n",
       "      <td>0.010129</td>\n",
       "      <td>None</td>\n",
       "      <td>4</td>\n",
       "      <td>{'max_features': None, 'min_samples_leaf': 4}</td>\n",
       "      <td>0.921974</td>\n",
       "      <td>0.913443</td>\n",
       "      <td>0.899128</td>\n",
       "      <td>0.910974</td>\n",
       "      <td>0.887979</td>\n",
       "      <td>0.907642</td>\n",
       "      <td>0.893668</td>\n",
       "      <td>0.901794</td>\n",
       "      <td>0.899716</td>\n",
       "      <td>0.904295</td>\n",
       "      <td>0.904061</td>\n",
       "      <td>0.009405</td>\n",
       "      <td>6</td>\n",
       "    </tr>\n",
       "    <tr>\n",
       "      <th>2</th>\n",
       "      <td>11.580477</td>\n",
       "      <td>0.260047</td>\n",
       "      <td>0.055284</td>\n",
       "      <td>0.010652</td>\n",
       "      <td>None</td>\n",
       "      <td>5</td>\n",
       "      <td>{'max_features': None, 'min_samples_leaf': 5}</td>\n",
       "      <td>0.914447</td>\n",
       "      <td>0.905688</td>\n",
       "      <td>0.893678</td>\n",
       "      <td>0.902292</td>\n",
       "      <td>0.882538</td>\n",
       "      <td>0.902333</td>\n",
       "      <td>0.888986</td>\n",
       "      <td>0.889802</td>\n",
       "      <td>0.887629</td>\n",
       "      <td>0.887892</td>\n",
       "      <td>0.895528</td>\n",
       "      <td>0.009600</td>\n",
       "      <td>9</td>\n",
       "    </tr>\n",
       "    <tr>\n",
       "      <th>3</th>\n",
       "      <td>0.066689</td>\n",
       "      <td>0.006941</td>\n",
       "      <td>0.000000</td>\n",
       "      <td>0.000000</td>\n",
       "      <td>&lt;built-in function sqrt&gt;</td>\n",
       "      <td>3</td>\n",
       "      <td>{'max_features': &lt;built-in function sqrt&gt;, 'mi...</td>\n",
       "      <td>NaN</td>\n",
       "      <td>NaN</td>\n",
       "      <td>NaN</td>\n",
       "      <td>NaN</td>\n",
       "      <td>NaN</td>\n",
       "      <td>NaN</td>\n",
       "      <td>NaN</td>\n",
       "      <td>NaN</td>\n",
       "      <td>NaN</td>\n",
       "      <td>NaN</td>\n",
       "      <td>NaN</td>\n",
       "      <td>NaN</td>\n",
       "      <td>10</td>\n",
       "    </tr>\n",
       "    <tr>\n",
       "      <th>4</th>\n",
       "      <td>0.084747</td>\n",
       "      <td>0.019007</td>\n",
       "      <td>0.000000</td>\n",
       "      <td>0.000000</td>\n",
       "      <td>&lt;built-in function sqrt&gt;</td>\n",
       "      <td>4</td>\n",
       "      <td>{'max_features': &lt;built-in function sqrt&gt;, 'mi...</td>\n",
       "      <td>NaN</td>\n",
       "      <td>NaN</td>\n",
       "      <td>NaN</td>\n",
       "      <td>NaN</td>\n",
       "      <td>NaN</td>\n",
       "      <td>NaN</td>\n",
       "      <td>NaN</td>\n",
       "      <td>NaN</td>\n",
       "      <td>NaN</td>\n",
       "      <td>NaN</td>\n",
       "      <td>NaN</td>\n",
       "      <td>NaN</td>\n",
       "      <td>11</td>\n",
       "    </tr>\n",
       "    <tr>\n",
       "      <th>5</th>\n",
       "      <td>0.077427</td>\n",
       "      <td>0.010021</td>\n",
       "      <td>0.000000</td>\n",
       "      <td>0.000000</td>\n",
       "      <td>&lt;built-in function sqrt&gt;</td>\n",
       "      <td>5</td>\n",
       "      <td>{'max_features': &lt;built-in function sqrt&gt;, 'mi...</td>\n",
       "      <td>NaN</td>\n",
       "      <td>NaN</td>\n",
       "      <td>NaN</td>\n",
       "      <td>NaN</td>\n",
       "      <td>NaN</td>\n",
       "      <td>NaN</td>\n",
       "      <td>NaN</td>\n",
       "      <td>NaN</td>\n",
       "      <td>NaN</td>\n",
       "      <td>NaN</td>\n",
       "      <td>NaN</td>\n",
       "      <td>NaN</td>\n",
       "      <td>12</td>\n",
       "    </tr>\n",
       "    <tr>\n",
       "      <th>6</th>\n",
       "      <td>3.631860</td>\n",
       "      <td>0.076739</td>\n",
       "      <td>0.056491</td>\n",
       "      <td>0.012121</td>\n",
       "      <td>0.3</td>\n",
       "      <td>3</td>\n",
       "      <td>{'max_features': 0.3, 'min_samples_leaf': 3}</td>\n",
       "      <td>0.934273</td>\n",
       "      <td>0.925370</td>\n",
       "      <td>0.911435</td>\n",
       "      <td>0.922132</td>\n",
       "      <td>0.908892</td>\n",
       "      <td>0.926077</td>\n",
       "      <td>0.917920</td>\n",
       "      <td>0.917485</td>\n",
       "      <td>0.917066</td>\n",
       "      <td>0.907651</td>\n",
       "      <td>0.918830</td>\n",
       "      <td>0.007930</td>\n",
       "      <td>1</td>\n",
       "    </tr>\n",
       "    <tr>\n",
       "      <th>7</th>\n",
       "      <td>3.548573</td>\n",
       "      <td>0.088696</td>\n",
       "      <td>0.053995</td>\n",
       "      <td>0.005843</td>\n",
       "      <td>0.3</td>\n",
       "      <td>4</td>\n",
       "      <td>{'max_features': 0.3, 'min_samples_leaf': 4}</td>\n",
       "      <td>0.927602</td>\n",
       "      <td>0.925450</td>\n",
       "      <td>0.895302</td>\n",
       "      <td>0.903963</td>\n",
       "      <td>0.896690</td>\n",
       "      <td>0.915658</td>\n",
       "      <td>0.909793</td>\n",
       "      <td>0.912242</td>\n",
       "      <td>0.914482</td>\n",
       "      <td>0.902647</td>\n",
       "      <td>0.910383</td>\n",
       "      <td>0.010431</td>\n",
       "      <td>4</td>\n",
       "    </tr>\n",
       "    <tr>\n",
       "      <th>8</th>\n",
       "      <td>3.580796</td>\n",
       "      <td>0.018524</td>\n",
       "      <td>0.056469</td>\n",
       "      <td>0.009258</td>\n",
       "      <td>0.3</td>\n",
       "      <td>5</td>\n",
       "      <td>{'max_features': 0.3, 'min_samples_leaf': 5}</td>\n",
       "      <td>0.919839</td>\n",
       "      <td>0.907918</td>\n",
       "      <td>0.889927</td>\n",
       "      <td>0.898220</td>\n",
       "      <td>0.886058</td>\n",
       "      <td>0.906143</td>\n",
       "      <td>0.896014</td>\n",
       "      <td>0.897111</td>\n",
       "      <td>0.900313</td>\n",
       "      <td>0.897941</td>\n",
       "      <td>0.899948</td>\n",
       "      <td>0.009064</td>\n",
       "      <td>7</td>\n",
       "    </tr>\n",
       "    <tr>\n",
       "      <th>9</th>\n",
       "      <td>2.757141</td>\n",
       "      <td>0.036859</td>\n",
       "      <td>0.072278</td>\n",
       "      <td>0.015794</td>\n",
       "      <td>2</td>\n",
       "      <td>3</td>\n",
       "      <td>{'max_features': 2, 'min_samples_leaf': 3}</td>\n",
       "      <td>0.938557</td>\n",
       "      <td>0.931458</td>\n",
       "      <td>0.913451</td>\n",
       "      <td>0.911787</td>\n",
       "      <td>0.911185</td>\n",
       "      <td>0.919111</td>\n",
       "      <td>0.920646</td>\n",
       "      <td>0.910730</td>\n",
       "      <td>0.913436</td>\n",
       "      <td>0.913860</td>\n",
       "      <td>0.918422</td>\n",
       "      <td>0.008982</td>\n",
       "      <td>2</td>\n",
       "    </tr>\n",
       "    <tr>\n",
       "      <th>10</th>\n",
       "      <td>2.601683</td>\n",
       "      <td>0.048835</td>\n",
       "      <td>0.051532</td>\n",
       "      <td>0.007692</td>\n",
       "      <td>2</td>\n",
       "      <td>4</td>\n",
       "      <td>{'max_features': 2, 'min_samples_leaf': 4}</td>\n",
       "      <td>0.930884</td>\n",
       "      <td>0.919248</td>\n",
       "      <td>0.905515</td>\n",
       "      <td>0.906634</td>\n",
       "      <td>0.893072</td>\n",
       "      <td>0.916560</td>\n",
       "      <td>0.911029</td>\n",
       "      <td>0.902173</td>\n",
       "      <td>0.909091</td>\n",
       "      <td>0.898978</td>\n",
       "      <td>0.909318</td>\n",
       "      <td>0.010309</td>\n",
       "      <td>5</td>\n",
       "    </tr>\n",
       "    <tr>\n",
       "      <th>11</th>\n",
       "      <td>2.083597</td>\n",
       "      <td>0.374067</td>\n",
       "      <td>0.042073</td>\n",
       "      <td>0.010310</td>\n",
       "      <td>2</td>\n",
       "      <td>5</td>\n",
       "      <td>{'max_features': 2, 'min_samples_leaf': 5}</td>\n",
       "      <td>0.928349</td>\n",
       "      <td>0.907080</td>\n",
       "      <td>0.891664</td>\n",
       "      <td>0.899590</td>\n",
       "      <td>0.883044</td>\n",
       "      <td>0.904265</td>\n",
       "      <td>0.895026</td>\n",
       "      <td>0.892091</td>\n",
       "      <td>0.900629</td>\n",
       "      <td>0.889336</td>\n",
       "      <td>0.899107</td>\n",
       "      <td>0.011927</td>\n",
       "      <td>8</td>\n",
       "    </tr>\n",
       "  </tbody>\n",
       "</table>\n",
       "</div>"
      ],
      "text/plain": [
       "    mean_fit_time  std_fit_time  mean_score_time  std_score_time  \\\n",
       "0       10.889375      0.166888         0.052727        0.006922   \n",
       "1       11.281850      0.416982         0.058735        0.010129   \n",
       "2       11.580477      0.260047         0.055284        0.010652   \n",
       "3        0.066689      0.006941         0.000000        0.000000   \n",
       "4        0.084747      0.019007         0.000000        0.000000   \n",
       "5        0.077427      0.010021         0.000000        0.000000   \n",
       "6        3.631860      0.076739         0.056491        0.012121   \n",
       "7        3.548573      0.088696         0.053995        0.005843   \n",
       "8        3.580796      0.018524         0.056469        0.009258   \n",
       "9        2.757141      0.036859         0.072278        0.015794   \n",
       "10       2.601683      0.048835         0.051532        0.007692   \n",
       "11       2.083597      0.374067         0.042073        0.010310   \n",
       "\n",
       "          param_max_features param_min_samples_leaf  \\\n",
       "0                       None                      3   \n",
       "1                       None                      4   \n",
       "2                       None                      5   \n",
       "3   <built-in function sqrt>                      3   \n",
       "4   <built-in function sqrt>                      4   \n",
       "5   <built-in function sqrt>                      5   \n",
       "6                        0.3                      3   \n",
       "7                        0.3                      4   \n",
       "8                        0.3                      5   \n",
       "9                          2                      3   \n",
       "10                         2                      4   \n",
       "11                         2                      5   \n",
       "\n",
       "                                               params  split0_test_score  \\\n",
       "0       {'max_features': None, 'min_samples_leaf': 3}           0.923855   \n",
       "1       {'max_features': None, 'min_samples_leaf': 4}           0.921974   \n",
       "2       {'max_features': None, 'min_samples_leaf': 5}           0.914447   \n",
       "3   {'max_features': <built-in function sqrt>, 'mi...                NaN   \n",
       "4   {'max_features': <built-in function sqrt>, 'mi...                NaN   \n",
       "5   {'max_features': <built-in function sqrt>, 'mi...                NaN   \n",
       "6        {'max_features': 0.3, 'min_samples_leaf': 3}           0.934273   \n",
       "7        {'max_features': 0.3, 'min_samples_leaf': 4}           0.927602   \n",
       "8        {'max_features': 0.3, 'min_samples_leaf': 5}           0.919839   \n",
       "9          {'max_features': 2, 'min_samples_leaf': 3}           0.938557   \n",
       "10         {'max_features': 2, 'min_samples_leaf': 4}           0.930884   \n",
       "11         {'max_features': 2, 'min_samples_leaf': 5}           0.928349   \n",
       "\n",
       "    split1_test_score  split2_test_score  split3_test_score  \\\n",
       "0            0.915269           0.912010           0.916162   \n",
       "1            0.913443           0.899128           0.910974   \n",
       "2            0.905688           0.893678           0.902292   \n",
       "3                 NaN                NaN                NaN   \n",
       "4                 NaN                NaN                NaN   \n",
       "5                 NaN                NaN                NaN   \n",
       "6            0.925370           0.911435           0.922132   \n",
       "7            0.925450           0.895302           0.903963   \n",
       "8            0.907918           0.889927           0.898220   \n",
       "9            0.931458           0.913451           0.911787   \n",
       "10           0.919248           0.905515           0.906634   \n",
       "11           0.907080           0.891664           0.899590   \n",
       "\n",
       "    split4_test_score  split5_test_score  split6_test_score  \\\n",
       "0            0.900017           0.918042           0.904768   \n",
       "1            0.887979           0.907642           0.893668   \n",
       "2            0.882538           0.902333           0.888986   \n",
       "3                 NaN                NaN                NaN   \n",
       "4                 NaN                NaN                NaN   \n",
       "5                 NaN                NaN                NaN   \n",
       "6            0.908892           0.926077           0.917920   \n",
       "7            0.896690           0.915658           0.909793   \n",
       "8            0.886058           0.906143           0.896014   \n",
       "9            0.911185           0.919111           0.920646   \n",
       "10           0.893072           0.916560           0.911029   \n",
       "11           0.883044           0.904265           0.895026   \n",
       "\n",
       "    split7_test_score  split8_test_score  split9_test_score  mean_test_score  \\\n",
       "0            0.905987           0.905444           0.906041         0.910759   \n",
       "1            0.901794           0.899716           0.904295         0.904061   \n",
       "2            0.889802           0.887629           0.887892         0.895528   \n",
       "3                 NaN                NaN                NaN              NaN   \n",
       "4                 NaN                NaN                NaN              NaN   \n",
       "5                 NaN                NaN                NaN              NaN   \n",
       "6            0.917485           0.917066           0.907651         0.918830   \n",
       "7            0.912242           0.914482           0.902647         0.910383   \n",
       "8            0.897111           0.900313           0.897941         0.899948   \n",
       "9            0.910730           0.913436           0.913860         0.918422   \n",
       "10           0.902173           0.909091           0.898978         0.909318   \n",
       "11           0.892091           0.900629           0.889336         0.899107   \n",
       "\n",
       "    std_test_score  rank_test_score  \n",
       "0         0.007073                3  \n",
       "1         0.009405                6  \n",
       "2         0.009600                9  \n",
       "3              NaN               10  \n",
       "4              NaN               11  \n",
       "5              NaN               12  \n",
       "6         0.007930                1  \n",
       "7         0.010431                4  \n",
       "8         0.009064                7  \n",
       "9         0.008982                2  \n",
       "10        0.010309                5  \n",
       "11        0.011927                8  "
      ]
     },
     "metadata": {},
     "output_type": "display_data"
    },
    {
     "name": "stdout",
     "output_type": "stream",
     "text": [
      "best score is 0.9188301358674004 with params {'max_features': 0.3, 'min_samples_leaf': 3}\n"
     ]
    }
   ],
   "source": [
    "# Seperation of features and the target variable in two different data frames\n",
    "features = wine_data.drop(columns=['quality'])\n",
    "target = wine_data.drop(columns=['type', 'fixed acidity', 'volatile acidity', 'citric acid', 'residual sugar', 'chlorides', 'free sulfur dioxide', 'total sulfur dioxide', 'density', 'pH', 'sulphates', 'alcohol'])\n",
    "target = target['quality'].ravel()\n",
    "\n",
    "# Train test split\n",
    "data_train, data_test, target_train, target_test = train_test_split(\n",
    "    features, target, test_size=0.2, random_state=42, stratify=target)\n",
    "\n",
    "# Oversampling\n",
    "data_train_smt = data_train.copy() \n",
    "target_train_smt = target_train.copy() \n",
    "\n",
    "smt = SMOTE(random_state=42)\n",
    "data_train, target_train = smt.fit_resample(data_train_smt, target_train_smt)\n",
    "\n",
    "# Create an estimator\n",
    "random_forest = RandomForestClassifier()\n",
    "\n",
    "# Specify the parameter grid\n",
    "parameters = {\n",
    "    #'max_depth': range(5, 14),\n",
    "    #'n_estimators': [100, 300, 500, 700],\n",
    "    'max_features': [None, sqrt, 0.3, 2],\n",
    "    'min_samples_leaf': [3, 4, 5],\n",
    "    #'min_samples_split': [8, 10, 12],\n",
    "    \n",
    "}\n",
    "\n",
    "# Specify the cross validation\n",
    "stratified_10_fold_cv = StratifiedKFold(n_splits=10, shuffle=True, random_state=42)\n",
    "\n",
    "# Create the grid search instance\n",
    "grid_search_estimator = GridSearchCV(random_forest, parameters, scoring='f1_macro', cv=stratified_10_fold_cv, n_jobs = -1, verbose = 2, return_train_score=False)\n",
    "\n",
    "# Run the grid search\n",
    "grid_search_estimator.fit(data_train, target_train)\n",
    "\n",
    "# Print the results of all hyper-parameter combinations\n",
    "results = pd.DataFrame(grid_search_estimator.cv_results_)\n",
    "display(results)\n",
    "    \n",
    "# Print the best parameter setting\n",
    "print(\"best score is {} with params {}\".format(grid_search_estimator.best_score_, grid_search_estimator.best_params_))"
   ]
  },
  {
   "cell_type": "markdown",
   "metadata": {},
   "source": [
    "#### Model with Hyperparameter Tuning"
   ]
  },
  {
   "cell_type": "code",
   "execution_count": 53,
   "metadata": {},
   "outputs": [
    {
     "name": "stdout",
     "output_type": "stream",
     "text": [
      "Makro F1-Score Train Data:\n"
     ]
    },
    {
     "data": {
      "text/plain": [
       "0.9604063614101962"
      ]
     },
     "metadata": {},
     "output_type": "display_data"
    },
    {
     "name": "stdout",
     "output_type": "stream",
     "text": [
      "Makro F1-Score Test Data:\n"
     ]
    },
    {
     "data": {
      "text/plain": [
       "0.6320363916208224"
      ]
     },
     "metadata": {},
     "output_type": "display_data"
    },
    {
     "name": "stdout",
     "output_type": "stream",
     "text": [
      "Makro Precision Train Data:\n"
     ]
    },
    {
     "data": {
      "text/plain": [
       "0.9614345287769598"
      ]
     },
     "metadata": {},
     "output_type": "display_data"
    },
    {
     "name": "stdout",
     "output_type": "stream",
     "text": [
      "Makro Precision Test Data:\n"
     ]
    },
    {
     "data": {
      "text/plain": [
       "0.59614663772345"
      ]
     },
     "metadata": {},
     "output_type": "display_data"
    },
    {
     "name": "stdout",
     "output_type": "stream",
     "text": [
      "Makro Recall Train Data:\n"
     ]
    },
    {
     "data": {
      "text/plain": [
       "0.9606192055796546"
      ]
     },
     "metadata": {},
     "output_type": "display_data"
    },
    {
     "name": "stdout",
     "output_type": "stream",
     "text": [
      "Makro Recall Test Data:\n"
     ]
    },
    {
     "data": {
      "text/plain": [
       "0.7045148660536112"
      ]
     },
     "metadata": {},
     "output_type": "display_data"
    },
    {
     "name": "stdout",
     "output_type": "stream",
     "text": [
      "Confusion Matrix Train Data:\n"
     ]
    },
    {
     "data": {
      "text/plain": [
       "None"
      ]
     },
     "metadata": {},
     "output_type": "display_data"
    },
    {
     "data": {
      "image/png": "[encoded data removed]",
      "text/plain": [
       "<Figure size 432x288 with 2 Axes>"
      ]
     },
     "metadata": {
      "needs_background": "light"
     },
     "output_type": "display_data"
    }
   ],
   "source": [
    "# Changing hyperparameters \n",
    "\n",
    "# Create estimator and pipeline\n",
    "random_forest = RandomForestClassifier(random_state=0, max_depth = 13, n_estimators = 700, max_features=0.3, min_samples_leaf=3,\n",
    "    min_samples_split=8)\n",
    "pipeline_rf = Pipeline([('estimator', random_forest)])\n",
    "\n",
    "# Fit the model and predict the values for the train data\n",
    "pipeline_rf.fit(data_train, target_train)\n",
    "predictions_train_rf = pipeline_rf.predict(data_train)\n",
    "\n",
    "# Predict values for the test data\n",
    "predictions_test_rf = pipeline_rf.predict(data_test)\n",
    "\n",
    "# Makro F1-Score\n",
    "print(\"Makro F1-Score Train Data:\")\n",
    "f1_score_train_rf = f1_score(target_train, predictions_train_rf, average='macro')\n",
    "display(f1_score_train_rf)\n",
    "\n",
    "print(\"Makro F1-Score Test Data:\")\n",
    "f1_score_test_rf = f1_score(target_test, predictions_test_rf, average='macro')\n",
    "display(f1_score_test_rf)\n",
    "\n",
    "# Makro Precision Score\n",
    "print(\"Makro Precision Train Data:\")\n",
    "precision_train_rf = precision_score(target_train, predictions_train_rf, average='macro', zero_division = 0)\n",
    "display(precision_train_rf)\n",
    "\n",
    "print(\"Makro Precision Test Data:\")\n",
    "precision_test_rf = precision_score(target_test, predictions_test_rf, average='macro', zero_division = 0)\n",
    "display(precision_test_rf)\n",
    "\n",
    "# Makro Recall Score\n",
    "print(\"Makro Recall Train Data:\")\n",
    "recall_train_rf = recall_score(target_train, predictions_train_rf, average='macro')\n",
    "display(recall_train_rf)\n",
    "\n",
    "print(\"Makro Recall Test Data:\")\n",
    "recall_test_rf = recall_score(target_test, predictions_test_rf, average='macro')\n",
    "display(recall_test_rf)\n",
    "\n",
    "# Confusion Matrix for the training data\n",
    "cnf_matrix_train_rf = confusion_matrix(target_train, predictions_train_rf)\n",
    "np.set_printoptions(precision=2)\n",
    "print(\"Confusion Matrix Train Data:\")\n",
    "display(plot_confusion_matrix(cnf_matrix_train_rf, classes=np.array([0,1,2])))"
   ]
  },
  {
   "cell_type": "code",
   "execution_count": 52,
   "metadata": {},
   "outputs": [
    {
     "name": "stdout",
     "output_type": "stream",
     "text": [
      "Makro F1-Score Train Data:\n"
     ]
    },
    {
     "data": {
      "text/plain": [
       "0.9581963988395562"
      ]
     },
     "metadata": {},
     "output_type": "display_data"
    },
    {
     "name": "stdout",
     "output_type": "stream",
     "text": [
      "Makro F1-Score Test Data:\n"
     ]
    },
    {
     "data": {
      "text/plain": [
       "0.6324892821452037"
      ]
     },
     "metadata": {},
     "output_type": "display_data"
    },
    {
     "name": "stdout",
     "output_type": "stream",
     "text": [
      "Makro Precision Train Data:\n"
     ]
    },
    {
     "data": {
      "text/plain": [
       "0.9592377488442492"
      ]
     },
     "metadata": {},
     "output_type": "display_data"
    },
    {
     "name": "stdout",
     "output_type": "stream",
     "text": [
      "Makro Precision Test Data:\n"
     ]
    },
    {
     "data": {
      "text/plain": [
       "0.595174495738426"
      ]
     },
     "metadata": {},
     "output_type": "display_data"
    },
    {
     "name": "stdout",
     "output_type": "stream",
     "text": [
      "Makro Recall Train Data:\n"
     ]
    },
    {
     "data": {
      "text/plain": [
       "0.958407757080888"
      ]
     },
     "metadata": {},
     "output_type": "display_data"
    },
    {
     "name": "stdout",
     "output_type": "stream",
     "text": [
      "Makro Recall Test Data:\n"
     ]
    },
    {
     "data": {
      "text/plain": [
       "0.7144778831528874"
      ]
     },
     "metadata": {},
     "output_type": "display_data"
    },
    {
     "name": "stdout",
     "output_type": "stream",
     "text": [
      "Confusion Matrix Train Data:\n"
     ]
    },
    {
     "data": {
      "text/plain": [
       "None"
      ]
     },
     "metadata": {},
     "output_type": "display_data"
    },
    {
     "data": {
      "image/png": "[encoded data removed]",
      "text/plain": [
       "<Figure size 432x288 with 2 Axes>"
      ]
     },
     "metadata": {
      "needs_background": "light"
     },
     "output_type": "display_data"
    }
   ],
   "source": [
    "# Changing hyperparameters \n",
    "\n",
    "# Create estimator and pipeline\n",
    "random_forest = RandomForestClassifier(random_state=0, max_depth = 13, n_estimators = 700, max_features=2, min_samples_leaf=3,\n",
    "    min_samples_split=8)\n",
    "pipeline_rf = Pipeline([('estimator', random_forest)])\n",
    "\n",
    "# Fit the model and predict the values for the train data\n",
    "pipeline_rf.fit(data_train, target_train)\n",
    "predictions_train_rf = pipeline_rf.predict(data_train)\n",
    "\n",
    "# Predict values for the test data\n",
    "predictions_test_rf = pipeline_rf.predict(data_test)\n",
    "\n",
    "# Makro F1-Score\n",
    "print(\"Makro F1-Score Train Data:\")\n",
    "f1_score_train_rf = f1_score(target_train, predictions_train_rf, average='macro')\n",
    "display(f1_score_train_rf)\n",
    "\n",
    "print(\"Makro F1-Score Test Data:\")\n",
    "f1_score_test_rf = f1_score(target_test, predictions_test_rf, average='macro')\n",
    "display(f1_score_test_rf)\n",
    "\n",
    "# Makro Precision Score\n",
    "print(\"Makro Precision Train Data:\")\n",
    "precision_train_rf = precision_score(target_train, predictions_train_rf, average='macro', zero_division = 0)\n",
    "display(precision_train_rf)\n",
    "\n",
    "print(\"Makro Precision Test Data:\")\n",
    "precision_test_rf = precision_score(target_test, predictions_test_rf, average='macro', zero_division = 0)\n",
    "display(precision_test_rf)\n",
    "\n",
    "# Makro Recall Score\n",
    "print(\"Makro Recall Train Data:\")\n",
    "recall_train_rf = recall_score(target_train, predictions_train_rf, average='macro')\n",
    "display(recall_train_rf)\n",
    "\n",
    "print(\"Makro Recall Test Data:\")\n",
    "recall_test_rf = recall_score(target_test, predictions_test_rf, average='macro')\n",
    "display(recall_test_rf)\n",
    "\n",
    "# Confusion Matrix for the training data\n",
    "cnf_matrix_train_rf = confusion_matrix(target_train, predictions_train_rf)\n",
    "np.set_printoptions(precision=2)\n",
    "print(\"Confusion Matrix Train Data:\")\n",
    "display(plot_confusion_matrix(cnf_matrix_train_rf, classes=np.array([0,1,2])))"
   ]
  },
  {
   "cell_type": "code",
   "execution_count": 54,
   "metadata": {},
   "outputs": [
    {
     "name": "stdout",
     "output_type": "stream",
     "text": [
      "Confusion Matrix Test Data:\n"
     ]
    },
    {
     "data": {
      "text/plain": [
       "None"
      ]
     },
     "metadata": {},
     "output_type": "display_data"
    },
    {
     "data": {
      "image/png": "[encoded data removed]",
      "text/plain": [
       "<Figure size 432x288 with 2 Axes>"
      ]
     },
     "metadata": {
      "needs_background": "light"
     },
     "output_type": "display_data"
    }
   ],
   "source": [
    "# Confusion Matrix for the test data\n",
    "\n",
    "cnf_matrix_test_rf = confusion_matrix(target_test, predictions_test_rf)\n",
    "np.set_printoptions(precision=2)\n",
    "print(\"Confusion Matrix Test Data:\")\n",
    "display(plot_confusion_matrix(cnf_matrix_test_rf, classes=np.array([0,1,2])))"
   ]
  }
 ],
 "metadata": {
  "colab": {
   "name": "Wine_Quality_Prediction.ipynb",
   "provenance": []
  },
  "kernelspec": {
   "display_name": "Python 3",
   "language": "python",
   "name": "python3"
  },
  "language_info": {
   "codemirror_mode": {
    "name": "ipython",
    "version": 3
   },
   "file_extension": ".py",
   "mimetype": "text/x-python",
   "name": "python",
   "nbconvert_exporter": "python",
   "pygments_lexer": "ipython3",
   "version": "3.8.8"
  }
 },
 "nbformat": 4,
 "nbformat_minor": 1
}
