{
 "cells": [
  {
   "cell_type": "markdown",
   "metadata": {
    "id": "GK7TLvAVjfUZ"
   },
   "source": [
    "# University of Mannheim\n",
    "## Data Mining I -- Group Project\n",
    "### Wine Quality Prediction\n",
    "#### Team members:\n",
    "* Anna-Lena Blinken\n",
    "* Max Darmstadt\n",
    "* Nicolas Hautschek\n",
    "* Erik Penther\n",
    "* Nicolas Fürhaupter"
   ]
  },
  {
   "cell_type": "markdown",
   "metadata": {
    "id": "1zQB_uITj-7f"
   },
   "source": [
    "## Importing Libraries and Data"
   ]
  },
  {
   "cell_type": "code",
   "execution_count": 1,
   "metadata": {
    "colab": {
     "base_uri": "https://localhost:8080/"
    },
    "id": "gsbH9QBLkHDX",
    "outputId": "d8c0d3a1-fec4-4a7a-cdaf-010429f18225"
   },
   "outputs": [
    {
     "ename": "ModuleNotFoundError",
     "evalue": "No module named 'google'",
     "output_type": "error",
     "traceback": [
      "\u001b[0;31m---------------------------------------------------------------------------\u001b[0m",
      "\u001b[0;31mModuleNotFoundError\u001b[0m                       Traceback (most recent call last)",
      "\u001b[0;32m<ipython-input-1-6bcb8909ac2b>\u001b[0m in \u001b[0;36m<module>\u001b[0;34m\u001b[0m\n\u001b[0;32m----> 1\u001b[0;31m \u001b[0;32mfrom\u001b[0m \u001b[0mgoogle\u001b[0m\u001b[0;34m.\u001b[0m\u001b[0mcolab\u001b[0m \u001b[0;32mimport\u001b[0m \u001b[0mdrive\u001b[0m\u001b[0;34m\u001b[0m\u001b[0;34m\u001b[0m\u001b[0m\n\u001b[0m\u001b[1;32m      2\u001b[0m \u001b[0mdrive\u001b[0m\u001b[0;34m.\u001b[0m\u001b[0mmount\u001b[0m\u001b[0;34m(\u001b[0m\u001b[0;34m'/gdrive'\u001b[0m\u001b[0;34m)\u001b[0m\u001b[0;34m\u001b[0m\u001b[0;34m\u001b[0m\u001b[0m\n\u001b[1;32m      3\u001b[0m \u001b[0mget_ipython\u001b[0m\u001b[0;34m(\u001b[0m\u001b[0;34m)\u001b[0m\u001b[0;34m.\u001b[0m\u001b[0mrun_line_magic\u001b[0m\u001b[0;34m(\u001b[0m\u001b[0;34m'cd'\u001b[0m\u001b[0;34m,\u001b[0m \u001b[0;34m'/gdrive'\u001b[0m\u001b[0;34m)\u001b[0m\u001b[0;34m\u001b[0m\u001b[0;34m\u001b[0m\u001b[0m\n",
      "\u001b[0;31mModuleNotFoundError\u001b[0m: No module named 'google'"
     ]
    }
   ],
   "source": [
    "from google.colab import drive\n",
    "drive.mount('/gdrive')\n",
    "%cd /gdrive"
   ]
  },
  {
   "cell_type": "code",
   "execution_count": 2,
   "metadata": {
    "id": "hvggVH9Pj-PA"
   },
   "outputs": [],
   "source": [
    "# Import libraries\n",
    "\n",
    "import pandas as pd\n",
    "import numpy as np\n",
    "import matplotlib.pyplot as plt\n",
    "import seaborn as sns"
   ]
  },
  {
   "cell_type": "code",
   "execution_count": 3,
   "metadata": {
    "colab": {
     "base_uri": "https://localhost:8080/",
     "height": 204
    },
    "id": "UJRTrgfzn6Km",
    "outputId": "88a8a855-6b22-4498-d107-4044d41ef2d7"
   },
   "outputs": [
    {
     "data": {
      "text/html": [
       "<div>\n",
       "<style scoped>\n",
       "    .dataframe tbody tr th:only-of-type {\n",
       "        vertical-align: middle;\n",
       "    }\n",
       "\n",
       "    .dataframe tbody tr th {\n",
       "        vertical-align: top;\n",
       "    }\n",
       "\n",
       "    .dataframe thead th {\n",
       "        text-align: right;\n",
       "    }\n",
       "</style>\n",
       "<table border=\"1\" class=\"dataframe\">\n",
       "  <thead>\n",
       "    <tr style=\"text-align: right;\">\n",
       "      <th></th>\n",
       "      <th>type</th>\n",
       "      <th>fixed acidity</th>\n",
       "      <th>volatile acidity</th>\n",
       "      <th>citric acid</th>\n",
       "      <th>residual sugar</th>\n",
       "      <th>chlorides</th>\n",
       "      <th>free sulfur dioxide</th>\n",
       "      <th>total sulfur dioxide</th>\n",
       "      <th>density</th>\n",
       "      <th>pH</th>\n",
       "      <th>sulphates</th>\n",
       "      <th>alcohol</th>\n",
       "      <th>quality</th>\n",
       "    </tr>\n",
       "  </thead>\n",
       "  <tbody>\n",
       "    <tr>\n",
       "      <th>0</th>\n",
       "      <td>white</td>\n",
       "      <td>7.0</td>\n",
       "      <td>0.27</td>\n",
       "      <td>0.36</td>\n",
       "      <td>20.7</td>\n",
       "      <td>0.045</td>\n",
       "      <td>45.0</td>\n",
       "      <td>170.0</td>\n",
       "      <td>1.0010</td>\n",
       "      <td>3.00</td>\n",
       "      <td>0.45</td>\n",
       "      <td>8.8</td>\n",
       "      <td>6</td>\n",
       "    </tr>\n",
       "    <tr>\n",
       "      <th>1</th>\n",
       "      <td>white</td>\n",
       "      <td>6.3</td>\n",
       "      <td>0.30</td>\n",
       "      <td>0.34</td>\n",
       "      <td>1.6</td>\n",
       "      <td>0.049</td>\n",
       "      <td>14.0</td>\n",
       "      <td>132.0</td>\n",
       "      <td>0.9940</td>\n",
       "      <td>3.30</td>\n",
       "      <td>0.49</td>\n",
       "      <td>9.5</td>\n",
       "      <td>6</td>\n",
       "    </tr>\n",
       "    <tr>\n",
       "      <th>2</th>\n",
       "      <td>white</td>\n",
       "      <td>8.1</td>\n",
       "      <td>0.28</td>\n",
       "      <td>0.40</td>\n",
       "      <td>6.9</td>\n",
       "      <td>0.050</td>\n",
       "      <td>30.0</td>\n",
       "      <td>97.0</td>\n",
       "      <td>0.9951</td>\n",
       "      <td>3.26</td>\n",
       "      <td>0.44</td>\n",
       "      <td>10.1</td>\n",
       "      <td>6</td>\n",
       "    </tr>\n",
       "    <tr>\n",
       "      <th>3</th>\n",
       "      <td>white</td>\n",
       "      <td>7.2</td>\n",
       "      <td>0.23</td>\n",
       "      <td>0.32</td>\n",
       "      <td>8.5</td>\n",
       "      <td>0.058</td>\n",
       "      <td>47.0</td>\n",
       "      <td>186.0</td>\n",
       "      <td>0.9956</td>\n",
       "      <td>3.19</td>\n",
       "      <td>0.40</td>\n",
       "      <td>9.9</td>\n",
       "      <td>6</td>\n",
       "    </tr>\n",
       "    <tr>\n",
       "      <th>4</th>\n",
       "      <td>white</td>\n",
       "      <td>7.2</td>\n",
       "      <td>0.23</td>\n",
       "      <td>0.32</td>\n",
       "      <td>8.5</td>\n",
       "      <td>0.058</td>\n",
       "      <td>47.0</td>\n",
       "      <td>186.0</td>\n",
       "      <td>0.9956</td>\n",
       "      <td>3.19</td>\n",
       "      <td>0.40</td>\n",
       "      <td>9.9</td>\n",
       "      <td>6</td>\n",
       "    </tr>\n",
       "  </tbody>\n",
       "</table>\n",
       "</div>"
      ],
      "text/plain": [
       "    type  fixed acidity  volatile acidity  citric acid  residual sugar  \\\n",
       "0  white            7.0              0.27         0.36            20.7   \n",
       "1  white            6.3              0.30         0.34             1.6   \n",
       "2  white            8.1              0.28         0.40             6.9   \n",
       "3  white            7.2              0.23         0.32             8.5   \n",
       "4  white            7.2              0.23         0.32             8.5   \n",
       "\n",
       "   chlorides  free sulfur dioxide  total sulfur dioxide  density    pH  \\\n",
       "0      0.045                 45.0                 170.0   1.0010  3.00   \n",
       "1      0.049                 14.0                 132.0   0.9940  3.30   \n",
       "2      0.050                 30.0                  97.0   0.9951  3.26   \n",
       "3      0.058                 47.0                 186.0   0.9956  3.19   \n",
       "4      0.058                 47.0                 186.0   0.9956  3.19   \n",
       "\n",
       "   sulphates  alcohol  quality  \n",
       "0       0.45      8.8        6  \n",
       "1       0.49      9.5        6  \n",
       "2       0.44     10.1        6  \n",
       "3       0.40      9.9        6  \n",
       "4       0.40      9.9        6  "
      ]
     },
     "execution_count": 3,
     "metadata": {},
     "output_type": "execute_result"
    }
   ],
   "source": [
    "# Import wine data\n",
    "\n",
    "wine_data_raw = pd.read_csv('../winequalityN.csv')\n",
    "wine_data_raw.head()"
   ]
  },
  {
   "cell_type": "markdown",
   "metadata": {
    "id": "CuM5oEGmKSuW"
   },
   "source": [
    "## Visualize and Analyse Data"
   ]
  },
  {
   "cell_type": "code",
   "execution_count": 4,
   "metadata": {
    "colab": {
     "base_uri": "https://localhost:8080/"
    },
    "id": "nENObjUBjeya",
    "outputId": "121e0e52-176a-43a0-829b-dcb59454c21e",
    "scrolled": true
   },
   "outputs": [
    {
     "name": "stdout",
     "output_type": "stream",
     "text": [
      "<class 'pandas.core.frame.DataFrame'>\n",
      "RangeIndex: 6497 entries, 0 to 6496\n",
      "Data columns (total 13 columns):\n",
      " #   Column                Non-Null Count  Dtype  \n",
      "---  ------                --------------  -----  \n",
      " 0   type                  6497 non-null   object \n",
      " 1   fixed acidity         6487 non-null   float64\n",
      " 2   volatile acidity      6489 non-null   float64\n",
      " 3   citric acid           6494 non-null   float64\n",
      " 4   residual sugar        6495 non-null   float64\n",
      " 5   chlorides             6495 non-null   float64\n",
      " 6   free sulfur dioxide   6497 non-null   float64\n",
      " 7   total sulfur dioxide  6497 non-null   float64\n",
      " 8   density               6497 non-null   float64\n",
      " 9   pH                    6488 non-null   float64\n",
      " 10  sulphates             6493 non-null   float64\n",
      " 11  alcohol               6497 non-null   float64\n",
      " 12  quality               6497 non-null   int64  \n",
      "dtypes: float64(11), int64(1), object(1)\n",
      "memory usage: 660.0+ KB\n"
     ]
    }
   ],
   "source": [
    "# Print wine data info\n",
    "\n",
    "wine_data_raw.info()"
   ]
  },
  {
   "cell_type": "code",
   "execution_count": 5,
   "metadata": {},
   "outputs": [
    {
     "data": {
      "text/html": [
       "<div>\n",
       "<style scoped>\n",
       "    .dataframe tbody tr th:only-of-type {\n",
       "        vertical-align: middle;\n",
       "    }\n",
       "\n",
       "    .dataframe tbody tr th {\n",
       "        vertical-align: top;\n",
       "    }\n",
       "\n",
       "    .dataframe thead th {\n",
       "        text-align: right;\n",
       "    }\n",
       "</style>\n",
       "<table border=\"1\" class=\"dataframe\">\n",
       "  <thead>\n",
       "    <tr style=\"text-align: right;\">\n",
       "      <th></th>\n",
       "      <th>fixed acidity</th>\n",
       "      <th>volatile acidity</th>\n",
       "      <th>citric acid</th>\n",
       "      <th>residual sugar</th>\n",
       "      <th>chlorides</th>\n",
       "      <th>free sulfur dioxide</th>\n",
       "      <th>total sulfur dioxide</th>\n",
       "      <th>density</th>\n",
       "      <th>pH</th>\n",
       "      <th>sulphates</th>\n",
       "      <th>alcohol</th>\n",
       "      <th>quality</th>\n",
       "    </tr>\n",
       "  </thead>\n",
       "  <tbody>\n",
       "    <tr>\n",
       "      <th>count</th>\n",
       "      <td>6487.000000</td>\n",
       "      <td>6489.000000</td>\n",
       "      <td>6494.000000</td>\n",
       "      <td>6495.000000</td>\n",
       "      <td>6495.000000</td>\n",
       "      <td>6497.000000</td>\n",
       "      <td>6497.000000</td>\n",
       "      <td>6497.000000</td>\n",
       "      <td>6488.000000</td>\n",
       "      <td>6493.000000</td>\n",
       "      <td>6497.000000</td>\n",
       "      <td>6497.000000</td>\n",
       "    </tr>\n",
       "    <tr>\n",
       "      <th>mean</th>\n",
       "      <td>7.216579</td>\n",
       "      <td>0.339691</td>\n",
       "      <td>0.318722</td>\n",
       "      <td>5.444326</td>\n",
       "      <td>0.056042</td>\n",
       "      <td>30.525319</td>\n",
       "      <td>115.744574</td>\n",
       "      <td>0.994697</td>\n",
       "      <td>3.218395</td>\n",
       "      <td>0.531215</td>\n",
       "      <td>10.491801</td>\n",
       "      <td>5.818378</td>\n",
       "    </tr>\n",
       "    <tr>\n",
       "      <th>std</th>\n",
       "      <td>1.296750</td>\n",
       "      <td>0.164649</td>\n",
       "      <td>0.145265</td>\n",
       "      <td>4.758125</td>\n",
       "      <td>0.035036</td>\n",
       "      <td>17.749400</td>\n",
       "      <td>56.521855</td>\n",
       "      <td>0.002999</td>\n",
       "      <td>0.160748</td>\n",
       "      <td>0.148814</td>\n",
       "      <td>1.192712</td>\n",
       "      <td>0.873255</td>\n",
       "    </tr>\n",
       "    <tr>\n",
       "      <th>min</th>\n",
       "      <td>3.800000</td>\n",
       "      <td>0.080000</td>\n",
       "      <td>0.000000</td>\n",
       "      <td>0.600000</td>\n",
       "      <td>0.009000</td>\n",
       "      <td>1.000000</td>\n",
       "      <td>6.000000</td>\n",
       "      <td>0.987110</td>\n",
       "      <td>2.720000</td>\n",
       "      <td>0.220000</td>\n",
       "      <td>8.000000</td>\n",
       "      <td>3.000000</td>\n",
       "    </tr>\n",
       "    <tr>\n",
       "      <th>25%</th>\n",
       "      <td>6.400000</td>\n",
       "      <td>0.230000</td>\n",
       "      <td>0.250000</td>\n",
       "      <td>1.800000</td>\n",
       "      <td>0.038000</td>\n",
       "      <td>17.000000</td>\n",
       "      <td>77.000000</td>\n",
       "      <td>0.992340</td>\n",
       "      <td>3.110000</td>\n",
       "      <td>0.430000</td>\n",
       "      <td>9.500000</td>\n",
       "      <td>5.000000</td>\n",
       "    </tr>\n",
       "    <tr>\n",
       "      <th>50%</th>\n",
       "      <td>7.000000</td>\n",
       "      <td>0.290000</td>\n",
       "      <td>0.310000</td>\n",
       "      <td>3.000000</td>\n",
       "      <td>0.047000</td>\n",
       "      <td>29.000000</td>\n",
       "      <td>118.000000</td>\n",
       "      <td>0.994890</td>\n",
       "      <td>3.210000</td>\n",
       "      <td>0.510000</td>\n",
       "      <td>10.300000</td>\n",
       "      <td>6.000000</td>\n",
       "    </tr>\n",
       "    <tr>\n",
       "      <th>75%</th>\n",
       "      <td>7.700000</td>\n",
       "      <td>0.400000</td>\n",
       "      <td>0.390000</td>\n",
       "      <td>8.100000</td>\n",
       "      <td>0.065000</td>\n",
       "      <td>41.000000</td>\n",
       "      <td>156.000000</td>\n",
       "      <td>0.996990</td>\n",
       "      <td>3.320000</td>\n",
       "      <td>0.600000</td>\n",
       "      <td>11.300000</td>\n",
       "      <td>6.000000</td>\n",
       "    </tr>\n",
       "    <tr>\n",
       "      <th>max</th>\n",
       "      <td>15.900000</td>\n",
       "      <td>1.580000</td>\n",
       "      <td>1.660000</td>\n",
       "      <td>65.800000</td>\n",
       "      <td>0.611000</td>\n",
       "      <td>289.000000</td>\n",
       "      <td>440.000000</td>\n",
       "      <td>1.038980</td>\n",
       "      <td>4.010000</td>\n",
       "      <td>2.000000</td>\n",
       "      <td>14.900000</td>\n",
       "      <td>9.000000</td>\n",
       "    </tr>\n",
       "  </tbody>\n",
       "</table>\n",
       "</div>"
      ],
      "text/plain": [
       "       fixed acidity  volatile acidity  citric acid  residual sugar  \\\n",
       "count    6487.000000       6489.000000  6494.000000     6495.000000   \n",
       "mean        7.216579          0.339691     0.318722        5.444326   \n",
       "std         1.296750          0.164649     0.145265        4.758125   \n",
       "min         3.800000          0.080000     0.000000        0.600000   \n",
       "25%         6.400000          0.230000     0.250000        1.800000   \n",
       "50%         7.000000          0.290000     0.310000        3.000000   \n",
       "75%         7.700000          0.400000     0.390000        8.100000   \n",
       "max        15.900000          1.580000     1.660000       65.800000   \n",
       "\n",
       "         chlorides  free sulfur dioxide  total sulfur dioxide      density  \\\n",
       "count  6495.000000          6497.000000           6497.000000  6497.000000   \n",
       "mean      0.056042            30.525319            115.744574     0.994697   \n",
       "std       0.035036            17.749400             56.521855     0.002999   \n",
       "min       0.009000             1.000000              6.000000     0.987110   \n",
       "25%       0.038000            17.000000             77.000000     0.992340   \n",
       "50%       0.047000            29.000000            118.000000     0.994890   \n",
       "75%       0.065000            41.000000            156.000000     0.996990   \n",
       "max       0.611000           289.000000            440.000000     1.038980   \n",
       "\n",
       "                pH    sulphates      alcohol      quality  \n",
       "count  6488.000000  6493.000000  6497.000000  6497.000000  \n",
       "mean      3.218395     0.531215    10.491801     5.818378  \n",
       "std       0.160748     0.148814     1.192712     0.873255  \n",
       "min       2.720000     0.220000     8.000000     3.000000  \n",
       "25%       3.110000     0.430000     9.500000     5.000000  \n",
       "50%       3.210000     0.510000    10.300000     6.000000  \n",
       "75%       3.320000     0.600000    11.300000     6.000000  \n",
       "max       4.010000     2.000000    14.900000     9.000000  "
      ]
     },
     "execution_count": 5,
     "metadata": {},
     "output_type": "execute_result"
    }
   ],
   "source": [
    "# Analyse the data by its mean etc.\n",
    "\n",
    "wine_data_raw.describe()"
   ]
  },
  {
   "cell_type": "markdown",
   "metadata": {},
   "source": [
    "### Null Values"
   ]
  },
  {
   "cell_type": "code",
   "execution_count": 6,
   "metadata": {
    "colab": {
     "base_uri": "https://localhost:8080/"
    },
    "id": "gVKkVJqGnrWu",
    "outputId": "3243cfc6-695e-4f94-c5f4-9786f6f8a5f6"
   },
   "outputs": [
    {
     "data": {
      "text/plain": [
       "type                     0\n",
       "fixed acidity           10\n",
       "volatile acidity         8\n",
       "citric acid              3\n",
       "residual sugar           2\n",
       "chlorides                2\n",
       "free sulfur dioxide      0\n",
       "total sulfur dioxide     0\n",
       "density                  0\n",
       "pH                       9\n",
       "sulphates                4\n",
       "alcohol                  0\n",
       "quality                  0\n",
       "dtype: int64"
      ]
     },
     "execution_count": 6,
     "metadata": {},
     "output_type": "execute_result"
    }
   ],
   "source": [
    "# Check data for null values\n",
    "\n",
    "wine_data_raw.isnull().sum()"
   ]
  },
  {
   "cell_type": "code",
   "execution_count": 7,
   "metadata": {
    "colab": {
     "base_uri": "https://localhost:8080/"
    },
    "id": "_iS0PBQmnxg0",
    "outputId": "0659d752-153b-4c14-be98-6aac6e65d4ef"
   },
   "outputs": [
    {
     "data": {
      "text/plain": [
       "6    2836\n",
       "5    2138\n",
       "7    1079\n",
       "4     216\n",
       "8     193\n",
       "3      30\n",
       "9       5\n",
       "Name: quality, dtype: int64"
      ]
     },
     "execution_count": 7,
     "metadata": {},
     "output_type": "execute_result"
    }
   ],
   "source": [
    "# Check class distribution\n",
    "\n",
    "wine_data_raw.quality.value_counts()"
   ]
  },
  {
   "cell_type": "markdown",
   "metadata": {},
   "source": [
    "### Class Distribution"
   ]
  },
  {
   "cell_type": "code",
   "execution_count": 9,
   "metadata": {
    "colab": {
     "base_uri": "https://localhost:8080/",
     "height": 279
    },
    "id": "bbZypKLWoPDe",
    "outputId": "165db292-f479-4b0c-e6a8-d4d70fa8c178"
   },
   "outputs": [
    {
     "data": {
      "image/png": "[encoded data removed]",
      "text/plain": [
       "<Figure size 432x288 with 1 Axes>"
      ]
     },
     "metadata": {
      "needs_background": "light"
     },
     "output_type": "display_data"
    }
   ],
   "source": [
    "# Visualize class distribution\n",
    "\n",
    "sns.barplot(x=wine_data_raw.quality.value_counts().index, y=wine_data_raw.quality.value_counts())\n",
    "plt.ylabel('samples')\n",
    "plt.xlabel('quality')\n",
    "plt.show()"
   ]
  },
  {
   "cell_type": "code",
   "execution_count": 10,
   "metadata": {
    "id": "QTp4N3nao1u1"
   },
   "outputs": [],
   "source": [
    "# Turn 10 classes into 3 classes\n",
    "\n",
    "wine_data_raw['quality'] = wine_data_raw.quality.apply(lambda x: 2 if x>6 else (1 if x> 4 else 0))"
   ]
  },
  {
   "cell_type": "code",
   "execution_count": 11,
   "metadata": {
    "colab": {
     "base_uri": "https://localhost:8080/"
    },
    "id": "E4M2D7Yqr0ts",
    "outputId": "aeb671f0-97ad-466b-b0f6-ca92be0efc11"
   },
   "outputs": [
    {
     "data": {
      "text/plain": [
       "1    4974\n",
       "2    1277\n",
       "0     246\n",
       "Name: quality, dtype: int64"
      ]
     },
     "execution_count": 11,
     "metadata": {},
     "output_type": "execute_result"
    }
   ],
   "source": [
    "# Check class distribution\n",
    "\n",
    "wine_data_raw.quality.value_counts()"
   ]
  },
  {
   "cell_type": "code",
   "execution_count": 12,
   "metadata": {
    "colab": {
     "base_uri": "https://localhost:8080/",
     "height": 279
    },
    "id": "Ytp1sF8mrGqV",
    "outputId": "ff5f2c11-ffde-4a77-c481-082c053fad81"
   },
   "outputs": [
    {
     "data": {
      "image/png": "[encoded data removed]",
      "text/plain": [
       "<Figure size 432x288 with 1 Axes>"
      ]
     },
     "metadata": {
      "needs_background": "light"
     },
     "output_type": "display_data"
    }
   ],
   "source": [
    "# Visualize class distribution\n",
    "\n",
    "sns.barplot(x=wine_data_raw.quality.value_counts().index, y=wine_data_raw.quality.value_counts())\n",
    "plt.ylabel('samples')\n",
    "plt.xlabel('quality')\n",
    "plt.show()"
   ]
  },
  {
   "cell_type": "code",
   "execution_count": 13,
   "metadata": {},
   "outputs": [],
   "source": [
    "# Turn 10 classes into 2 classes\n",
    "\n",
    "wine_data_2 = pd.read_csv('../winequalityN.csv')\n",
    "wine_data_2['quality'] = wine_data_2.quality.apply(lambda x: 2 if x>5 else 0)"
   ]
  },
  {
   "cell_type": "code",
   "execution_count": 14,
   "metadata": {},
   "outputs": [
    {
     "data": {
      "text/plain": [
       "2    4113\n",
       "0    2384\n",
       "Name: quality, dtype: int64"
      ]
     },
     "execution_count": 14,
     "metadata": {},
     "output_type": "execute_result"
    }
   ],
   "source": [
    "# Check class distribution\n",
    "\n",
    "wine_data_2.quality.value_counts()"
   ]
  },
  {
   "cell_type": "code",
   "execution_count": 15,
   "metadata": {},
   "outputs": [
    {
     "data": {
      "image/png": "[encoded data removed]",
      "text/plain": [
       "<Figure size 432x288 with 1 Axes>"
      ]
     },
     "metadata": {
      "needs_background": "light"
     },
     "output_type": "display_data"
    }
   ],
   "source": [
    "# Visualize class distribution\n",
    "\n",
    "sns.barplot(x=wine_data_2.quality.value_counts().index, y=wine_data_2.quality.value_counts())\n",
    "plt.ylabel('samples')\n",
    "plt.xlabel('quality')\n",
    "plt.show()"
   ]
  },
  {
   "cell_type": "markdown",
   "metadata": {},
   "source": [
    "### Check duplicates"
   ]
  },
  {
   "cell_type": "code",
   "execution_count": 16,
   "metadata": {},
   "outputs": [
    {
     "data": {
      "text/plain": [
       "6497"
      ]
     },
     "metadata": {},
     "output_type": "display_data"
    },
    {
     "data": {
      "text/plain": [
       "6497"
      ]
     },
     "metadata": {},
     "output_type": "display_data"
    }
   ],
   "source": [
    "# Count duplicates and remove duplicates\n",
    "display(len(wine_data_raw.index))\n",
    "wine_data_raw.drop_duplicates()\n",
    "display(len(wine_data_raw.index))"
   ]
  },
  {
   "cell_type": "markdown",
   "metadata": {},
   "source": [
    "### Unique Values"
   ]
  },
  {
   "cell_type": "code",
   "execution_count": 17,
   "metadata": {},
   "outputs": [
    {
     "data": {
      "text/plain": [
       "type                      2\n",
       "fixed acidity           106\n",
       "volatile acidity        187\n",
       "citric acid              89\n",
       "residual sugar          316\n",
       "chlorides               214\n",
       "free sulfur dioxide     135\n",
       "total sulfur dioxide    276\n",
       "density                 998\n",
       "pH                      108\n",
       "sulphates               111\n",
       "alcohol                 111\n",
       "quality                   3\n",
       "dtype: int64"
      ]
     },
     "execution_count": 17,
     "metadata": {},
     "output_type": "execute_result"
    }
   ],
   "source": [
    "# Count uniques values of each column\n",
    "wine_data_raw.nunique()"
   ]
  },
  {
   "cell_type": "markdown",
   "metadata": {},
   "source": [
    "### Distribution of Values"
   ]
  },
  {
   "cell_type": "code",
   "execution_count": 20,
   "metadata": {},
   "outputs": [
    {
     "data": {
      "text/plain": [
       "<AxesSubplot:>"
      ]
     },
     "execution_count": 20,
     "metadata": {},
     "output_type": "execute_result"
    },
    {
     "data": {
      "image/png": "[encoded data removed]",
      "text/plain": [
       "<Figure size 432x288 with 1 Axes>"
      ]
     },
     "metadata": {
      "needs_background": "light"
     },
     "output_type": "display_data"
    }
   ],
   "source": [
    "# Plot histogram for each categorical column\n",
    "\n",
    "wine_data_raw['type'].value_counts().plot(kind='bar')"
   ]
  },
  {
   "cell_type": "code",
   "execution_count": 21,
   "metadata": {},
   "outputs": [
    {
     "data": {
      "text/plain": [
       "array([[<AxesSubplot:title={'center':'fixed acidity'}>,\n",
       "        <AxesSubplot:title={'center':'volatile acidity'}>,\n",
       "        <AxesSubplot:title={'center':'citric acid'}>],\n",
       "       [<AxesSubplot:title={'center':'residual sugar'}>,\n",
       "        <AxesSubplot:title={'center':'chlorides'}>,\n",
       "        <AxesSubplot:title={'center':'free sulfur dioxide'}>],\n",
       "       [<AxesSubplot:title={'center':'total sulfur dioxide'}>,\n",
       "        <AxesSubplot:title={'center':'density'}>,\n",
       "        <AxesSubplot:title={'center':'pH'}>],\n",
       "       [<AxesSubplot:title={'center':'sulphates'}>,\n",
       "        <AxesSubplot:title={'center':'alcohol'}>,\n",
       "        <AxesSubplot:title={'center':'quality'}>]], dtype=object)"
      ]
     },
     "execution_count": 21,
     "metadata": {},
     "output_type": "execute_result"
    },
    {
     "data": {
      "image/png": "[encoded data removed]",
      "text/plain": [
       "<Figure size 1080x720 with 12 Axes>"
      ]
     },
     "metadata": {
      "needs_background": "light"
     },
     "output_type": "display_data"
    }
   ],
   "source": [
    "# Plot histogram for each numerical column\n",
    "\n",
    "wine_data_raw.hist(figsize=(15, 10))"
   ]
  },
  {
   "cell_type": "code",
   "execution_count": 22,
   "metadata": {},
   "outputs": [
    {
     "data": {
      "image/png": "[encoded data removed]",
      "text/plain": [
       "<Figure size 1080x1080 with 144 Axes>"
      ]
     },
     "metadata": {
      "needs_background": "light"
     },
     "output_type": "display_data"
    }
   ],
   "source": [
    "# Scatterplots\n",
    "\n",
    "pd.plotting.scatter_matrix(wine_data_raw, figsize=(15, 15), s=150);"
   ]
  },
  {
   "cell_type": "markdown",
   "metadata": {},
   "source": [
    "## Data Cleaning"
   ]
  },
  {
   "cell_type": "code",
   "execution_count": 23,
   "metadata": {},
   "outputs": [
    {
     "data": {
      "text/plain": [
       "type                    0\n",
       "fixed acidity           0\n",
       "volatile acidity        0\n",
       "citric acid             0\n",
       "residual sugar          0\n",
       "chlorides               0\n",
       "free sulfur dioxide     0\n",
       "total sulfur dioxide    0\n",
       "density                 0\n",
       "pH                      0\n",
       "sulphates               0\n",
       "alcohol                 0\n",
       "quality                 0\n",
       "dtype: int64"
      ]
     },
     "metadata": {},
     "output_type": "display_data"
    },
    {
     "data": {
      "text/plain": [
       "6463"
      ]
     },
     "metadata": {},
     "output_type": "display_data"
    }
   ],
   "source": [
    "# Delete Null-Values \n",
    "\n",
    "wine_data_raw = wine_data_raw.dropna(axis=0, how=\"any\", thresh=None, subset=None, inplace=False)\n",
    "display(wine_data_raw.isnull().sum())\n",
    "display(len(wine_data_raw.index))"
   ]
  },
  {
   "cell_type": "code",
   "execution_count": 25,
   "metadata": {},
   "outputs": [
    {
     "data": {
      "text/html": [
       "<div>\n",
       "<style scoped>\n",
       "    .dataframe tbody tr th:only-of-type {\n",
       "        vertical-align: middle;\n",
       "    }\n",
       "\n",
       "    .dataframe tbody tr th {\n",
       "        vertical-align: top;\n",
       "    }\n",
       "\n",
       "    .dataframe thead th {\n",
       "        text-align: right;\n",
       "    }\n",
       "</style>\n",
       "<table border=\"1\" class=\"dataframe\">\n",
       "  <thead>\n",
       "    <tr style=\"text-align: right;\">\n",
       "      <th></th>\n",
       "      <th>type</th>\n",
       "      <th>fixed acidity</th>\n",
       "      <th>volatile acidity</th>\n",
       "      <th>citric acid</th>\n",
       "      <th>residual sugar</th>\n",
       "      <th>chlorides</th>\n",
       "      <th>free sulfur dioxide</th>\n",
       "      <th>total sulfur dioxide</th>\n",
       "      <th>density</th>\n",
       "      <th>pH</th>\n",
       "      <th>sulphates</th>\n",
       "      <th>alcohol</th>\n",
       "      <th>quality</th>\n",
       "    </tr>\n",
       "  </thead>\n",
       "  <tbody>\n",
       "    <tr>\n",
       "      <th>0</th>\n",
       "      <td>white</td>\n",
       "      <td>7.0</td>\n",
       "      <td>0.27</td>\n",
       "      <td>0.36</td>\n",
       "      <td>20.7</td>\n",
       "      <td>0.045</td>\n",
       "      <td>45.0</td>\n",
       "      <td>170.0</td>\n",
       "      <td>1.0010</td>\n",
       "      <td>3.00</td>\n",
       "      <td>0.45</td>\n",
       "      <td>8.8</td>\n",
       "      <td>1</td>\n",
       "    </tr>\n",
       "    <tr>\n",
       "      <th>1</th>\n",
       "      <td>white</td>\n",
       "      <td>6.3</td>\n",
       "      <td>0.30</td>\n",
       "      <td>0.34</td>\n",
       "      <td>1.6</td>\n",
       "      <td>0.049</td>\n",
       "      <td>14.0</td>\n",
       "      <td>132.0</td>\n",
       "      <td>0.9940</td>\n",
       "      <td>3.30</td>\n",
       "      <td>0.49</td>\n",
       "      <td>9.5</td>\n",
       "      <td>1</td>\n",
       "    </tr>\n",
       "    <tr>\n",
       "      <th>2</th>\n",
       "      <td>white</td>\n",
       "      <td>8.1</td>\n",
       "      <td>0.28</td>\n",
       "      <td>0.40</td>\n",
       "      <td>6.9</td>\n",
       "      <td>0.050</td>\n",
       "      <td>30.0</td>\n",
       "      <td>97.0</td>\n",
       "      <td>0.9951</td>\n",
       "      <td>3.26</td>\n",
       "      <td>0.44</td>\n",
       "      <td>10.1</td>\n",
       "      <td>1</td>\n",
       "    </tr>\n",
       "    <tr>\n",
       "      <th>3</th>\n",
       "      <td>white</td>\n",
       "      <td>7.2</td>\n",
       "      <td>0.23</td>\n",
       "      <td>0.32</td>\n",
       "      <td>8.5</td>\n",
       "      <td>0.058</td>\n",
       "      <td>47.0</td>\n",
       "      <td>186.0</td>\n",
       "      <td>0.9956</td>\n",
       "      <td>3.19</td>\n",
       "      <td>0.40</td>\n",
       "      <td>9.9</td>\n",
       "      <td>1</td>\n",
       "    </tr>\n",
       "    <tr>\n",
       "      <th>4</th>\n",
       "      <td>white</td>\n",
       "      <td>7.2</td>\n",
       "      <td>0.23</td>\n",
       "      <td>0.32</td>\n",
       "      <td>8.5</td>\n",
       "      <td>0.058</td>\n",
       "      <td>47.0</td>\n",
       "      <td>186.0</td>\n",
       "      <td>0.9956</td>\n",
       "      <td>3.19</td>\n",
       "      <td>0.40</td>\n",
       "      <td>9.9</td>\n",
       "      <td>1</td>\n",
       "    </tr>\n",
       "  </tbody>\n",
       "</table>\n",
       "</div>"
      ],
      "text/plain": [
       "    type  fixed acidity  volatile acidity  citric acid  residual sugar  \\\n",
       "0  white            7.0              0.27         0.36            20.7   \n",
       "1  white            6.3              0.30         0.34             1.6   \n",
       "2  white            8.1              0.28         0.40             6.9   \n",
       "3  white            7.2              0.23         0.32             8.5   \n",
       "4  white            7.2              0.23         0.32             8.5   \n",
       "\n",
       "   chlorides  free sulfur dioxide  total sulfur dioxide  density    pH  \\\n",
       "0      0.045                 45.0                 170.0   1.0010  3.00   \n",
       "1      0.049                 14.0                 132.0   0.9940  3.30   \n",
       "2      0.050                 30.0                  97.0   0.9951  3.26   \n",
       "3      0.058                 47.0                 186.0   0.9956  3.19   \n",
       "4      0.058                 47.0                 186.0   0.9956  3.19   \n",
       "\n",
       "   sulphates  alcohol  quality  \n",
       "0       0.45      8.8        1  \n",
       "1       0.49      9.5        1  \n",
       "2       0.44     10.1        1  \n",
       "3       0.40      9.9        1  \n",
       "4       0.40      9.9        1  "
      ]
     },
     "metadata": {},
     "output_type": "display_data"
    },
    {
     "data": {
      "text/html": [
       "<div>\n",
       "<style scoped>\n",
       "    .dataframe tbody tr th:only-of-type {\n",
       "        vertical-align: middle;\n",
       "    }\n",
       "\n",
       "    .dataframe tbody tr th {\n",
       "        vertical-align: top;\n",
       "    }\n",
       "\n",
       "    .dataframe thead th {\n",
       "        text-align: right;\n",
       "    }\n",
       "</style>\n",
       "<table border=\"1\" class=\"dataframe\">\n",
       "  <thead>\n",
       "    <tr style=\"text-align: right;\">\n",
       "      <th></th>\n",
       "      <th>type</th>\n",
       "      <th>fixed acidity</th>\n",
       "      <th>volatile acidity</th>\n",
       "      <th>citric acid</th>\n",
       "      <th>residual sugar</th>\n",
       "      <th>chlorides</th>\n",
       "      <th>free sulfur dioxide</th>\n",
       "      <th>total sulfur dioxide</th>\n",
       "      <th>density</th>\n",
       "      <th>pH</th>\n",
       "      <th>sulphates</th>\n",
       "      <th>alcohol</th>\n",
       "      <th>quality</th>\n",
       "    </tr>\n",
       "  </thead>\n",
       "  <tbody>\n",
       "    <tr>\n",
       "      <th>0</th>\n",
       "      <td>1.0</td>\n",
       "      <td>7.0</td>\n",
       "      <td>0.27</td>\n",
       "      <td>0.36</td>\n",
       "      <td>20.7</td>\n",
       "      <td>0.045</td>\n",
       "      <td>45.0</td>\n",
       "      <td>170.0</td>\n",
       "      <td>1.0010</td>\n",
       "      <td>3.00</td>\n",
       "      <td>0.45</td>\n",
       "      <td>8.8</td>\n",
       "      <td>1</td>\n",
       "    </tr>\n",
       "    <tr>\n",
       "      <th>1</th>\n",
       "      <td>1.0</td>\n",
       "      <td>6.3</td>\n",
       "      <td>0.30</td>\n",
       "      <td>0.34</td>\n",
       "      <td>1.6</td>\n",
       "      <td>0.049</td>\n",
       "      <td>14.0</td>\n",
       "      <td>132.0</td>\n",
       "      <td>0.9940</td>\n",
       "      <td>3.30</td>\n",
       "      <td>0.49</td>\n",
       "      <td>9.5</td>\n",
       "      <td>1</td>\n",
       "    </tr>\n",
       "    <tr>\n",
       "      <th>2</th>\n",
       "      <td>1.0</td>\n",
       "      <td>8.1</td>\n",
       "      <td>0.28</td>\n",
       "      <td>0.40</td>\n",
       "      <td>6.9</td>\n",
       "      <td>0.050</td>\n",
       "      <td>30.0</td>\n",
       "      <td>97.0</td>\n",
       "      <td>0.9951</td>\n",
       "      <td>3.26</td>\n",
       "      <td>0.44</td>\n",
       "      <td>10.1</td>\n",
       "      <td>1</td>\n",
       "    </tr>\n",
       "    <tr>\n",
       "      <th>3</th>\n",
       "      <td>1.0</td>\n",
       "      <td>7.2</td>\n",
       "      <td>0.23</td>\n",
       "      <td>0.32</td>\n",
       "      <td>8.5</td>\n",
       "      <td>0.058</td>\n",
       "      <td>47.0</td>\n",
       "      <td>186.0</td>\n",
       "      <td>0.9956</td>\n",
       "      <td>3.19</td>\n",
       "      <td>0.40</td>\n",
       "      <td>9.9</td>\n",
       "      <td>1</td>\n",
       "    </tr>\n",
       "    <tr>\n",
       "      <th>4</th>\n",
       "      <td>1.0</td>\n",
       "      <td>7.2</td>\n",
       "      <td>0.23</td>\n",
       "      <td>0.32</td>\n",
       "      <td>8.5</td>\n",
       "      <td>0.058</td>\n",
       "      <td>47.0</td>\n",
       "      <td>186.0</td>\n",
       "      <td>0.9956</td>\n",
       "      <td>3.19</td>\n",
       "      <td>0.40</td>\n",
       "      <td>9.9</td>\n",
       "      <td>1</td>\n",
       "    </tr>\n",
       "  </tbody>\n",
       "</table>\n",
       "</div>"
      ],
      "text/plain": [
       "   type  fixed acidity  volatile acidity  citric acid  residual sugar  \\\n",
       "0   1.0            7.0              0.27         0.36            20.7   \n",
       "1   1.0            6.3              0.30         0.34             1.6   \n",
       "2   1.0            8.1              0.28         0.40             6.9   \n",
       "3   1.0            7.2              0.23         0.32             8.5   \n",
       "4   1.0            7.2              0.23         0.32             8.5   \n",
       "\n",
       "   chlorides  free sulfur dioxide  total sulfur dioxide  density    pH  \\\n",
       "0      0.045                 45.0                 170.0   1.0010  3.00   \n",
       "1      0.049                 14.0                 132.0   0.9940  3.30   \n",
       "2      0.050                 30.0                  97.0   0.9951  3.26   \n",
       "3      0.058                 47.0                 186.0   0.9956  3.19   \n",
       "4      0.058                 47.0                 186.0   0.9956  3.19   \n",
       "\n",
       "   sulphates  alcohol  quality  \n",
       "0       0.45      8.8        1  \n",
       "1       0.49      9.5        1  \n",
       "2       0.44     10.1        1  \n",
       "3       0.40      9.9        1  \n",
       "4       0.40      9.9        1  "
      ]
     },
     "execution_count": 25,
     "metadata": {},
     "output_type": "execute_result"
    }
   ],
   "source": [
    "# One Hot Encoder for the attribute type\n",
    "\n",
    "from sklearn import preprocessing\n",
    "\n",
    "# show data before preprocessing\n",
    "display(wine_data_raw.head())\n",
    "\n",
    "# create the OrdinalEncoder\n",
    "ordinal_encoder = preprocessing.OrdinalEncoder()\n",
    "\n",
    "# preprocess the features Product and ZipCode\n",
    "wine_data_raw[['type']] = ordinal_encoder.fit_transform(wine_data_raw[['type']])\n",
    "\n",
    "# show the results\n",
    "wine_data_raw.head()"
   ]
  },
  {
   "cell_type": "code",
   "execution_count": 27,
   "metadata": {},
   "outputs": [
    {
     "data": {
      "text/html": [
       "<div>\n",
       "<style scoped>\n",
       "    .dataframe tbody tr th:only-of-type {\n",
       "        vertical-align: middle;\n",
       "    }\n",
       "\n",
       "    .dataframe tbody tr th {\n",
       "        vertical-align: top;\n",
       "    }\n",
       "\n",
       "    .dataframe thead th {\n",
       "        text-align: right;\n",
       "    }\n",
       "</style>\n",
       "<table border=\"1\" class=\"dataframe\">\n",
       "  <thead>\n",
       "    <tr style=\"text-align: right;\">\n",
       "      <th></th>\n",
       "      <th>type</th>\n",
       "      <th>fixed acidity</th>\n",
       "      <th>volatile acidity</th>\n",
       "      <th>citric acid</th>\n",
       "      <th>residual sugar</th>\n",
       "      <th>chlorides</th>\n",
       "      <th>free sulfur dioxide</th>\n",
       "      <th>total sulfur dioxide</th>\n",
       "      <th>density</th>\n",
       "      <th>pH</th>\n",
       "      <th>sulphates</th>\n",
       "      <th>alcohol</th>\n",
       "      <th>quality</th>\n",
       "    </tr>\n",
       "  </thead>\n",
       "  <tbody>\n",
       "    <tr>\n",
       "      <th>0</th>\n",
       "      <td>1.0</td>\n",
       "      <td>7.0</td>\n",
       "      <td>0.27</td>\n",
       "      <td>0.36</td>\n",
       "      <td>20.7</td>\n",
       "      <td>0.045</td>\n",
       "      <td>45.0</td>\n",
       "      <td>170.0</td>\n",
       "      <td>1.0010</td>\n",
       "      <td>3.00</td>\n",
       "      <td>0.45</td>\n",
       "      <td>8.8</td>\n",
       "      <td>1</td>\n",
       "    </tr>\n",
       "    <tr>\n",
       "      <th>1</th>\n",
       "      <td>1.0</td>\n",
       "      <td>6.3</td>\n",
       "      <td>0.30</td>\n",
       "      <td>0.34</td>\n",
       "      <td>1.6</td>\n",
       "      <td>0.049</td>\n",
       "      <td>14.0</td>\n",
       "      <td>132.0</td>\n",
       "      <td>0.9940</td>\n",
       "      <td>3.30</td>\n",
       "      <td>0.49</td>\n",
       "      <td>9.5</td>\n",
       "      <td>1</td>\n",
       "    </tr>\n",
       "    <tr>\n",
       "      <th>2</th>\n",
       "      <td>1.0</td>\n",
       "      <td>8.1</td>\n",
       "      <td>0.28</td>\n",
       "      <td>0.40</td>\n",
       "      <td>6.9</td>\n",
       "      <td>0.050</td>\n",
       "      <td>30.0</td>\n",
       "      <td>97.0</td>\n",
       "      <td>0.9951</td>\n",
       "      <td>3.26</td>\n",
       "      <td>0.44</td>\n",
       "      <td>10.1</td>\n",
       "      <td>1</td>\n",
       "    </tr>\n",
       "    <tr>\n",
       "      <th>3</th>\n",
       "      <td>1.0</td>\n",
       "      <td>7.2</td>\n",
       "      <td>0.23</td>\n",
       "      <td>0.32</td>\n",
       "      <td>8.5</td>\n",
       "      <td>0.058</td>\n",
       "      <td>47.0</td>\n",
       "      <td>186.0</td>\n",
       "      <td>0.9956</td>\n",
       "      <td>3.19</td>\n",
       "      <td>0.40</td>\n",
       "      <td>9.9</td>\n",
       "      <td>1</td>\n",
       "    </tr>\n",
       "    <tr>\n",
       "      <th>4</th>\n",
       "      <td>1.0</td>\n",
       "      <td>7.2</td>\n",
       "      <td>0.23</td>\n",
       "      <td>0.32</td>\n",
       "      <td>8.5</td>\n",
       "      <td>0.058</td>\n",
       "      <td>47.0</td>\n",
       "      <td>186.0</td>\n",
       "      <td>0.9956</td>\n",
       "      <td>3.19</td>\n",
       "      <td>0.40</td>\n",
       "      <td>9.9</td>\n",
       "      <td>1</td>\n",
       "    </tr>\n",
       "  </tbody>\n",
       "</table>\n",
       "</div>"
      ],
      "text/plain": [
       "   type  fixed acidity  volatile acidity  citric acid  residual sugar  \\\n",
       "0   1.0            7.0              0.27         0.36            20.7   \n",
       "1   1.0            6.3              0.30         0.34             1.6   \n",
       "2   1.0            8.1              0.28         0.40             6.9   \n",
       "3   1.0            7.2              0.23         0.32             8.5   \n",
       "4   1.0            7.2              0.23         0.32             8.5   \n",
       "\n",
       "   chlorides  free sulfur dioxide  total sulfur dioxide  density    pH  \\\n",
       "0      0.045                 45.0                 170.0   1.0010  3.00   \n",
       "1      0.049                 14.0                 132.0   0.9940  3.30   \n",
       "2      0.050                 30.0                  97.0   0.9951  3.26   \n",
       "3      0.058                 47.0                 186.0   0.9956  3.19   \n",
       "4      0.058                 47.0                 186.0   0.9956  3.19   \n",
       "\n",
       "   sulphates  alcohol  quality  \n",
       "0       0.45      8.8        1  \n",
       "1       0.49      9.5        1  \n",
       "2       0.44     10.1        1  \n",
       "3       0.40      9.9        1  \n",
       "4       0.40      9.9        1  "
      ]
     },
     "metadata": {},
     "output_type": "display_data"
    },
    {
     "data": {
      "text/html": [
       "<div>\n",
       "<style scoped>\n",
       "    .dataframe tbody tr th:only-of-type {\n",
       "        vertical-align: middle;\n",
       "    }\n",
       "\n",
       "    .dataframe tbody tr th {\n",
       "        vertical-align: top;\n",
       "    }\n",
       "\n",
       "    .dataframe thead th {\n",
       "        text-align: right;\n",
       "    }\n",
       "</style>\n",
       "<table border=\"1\" class=\"dataframe\">\n",
       "  <thead>\n",
       "    <tr style=\"text-align: right;\">\n",
       "      <th></th>\n",
       "      <th>type</th>\n",
       "      <th>fixed acidity</th>\n",
       "      <th>volatile acidity</th>\n",
       "      <th>citric acid</th>\n",
       "      <th>residual sugar</th>\n",
       "      <th>chlorides</th>\n",
       "      <th>free sulfur dioxide</th>\n",
       "      <th>total sulfur dioxide</th>\n",
       "      <th>density</th>\n",
       "      <th>pH</th>\n",
       "      <th>sulphates</th>\n",
       "      <th>alcohol</th>\n",
       "      <th>quality</th>\n",
       "    </tr>\n",
       "  </thead>\n",
       "  <tbody>\n",
       "    <tr>\n",
       "      <th>0</th>\n",
       "      <td>1.0</td>\n",
       "      <td>0.264463</td>\n",
       "      <td>0.126667</td>\n",
       "      <td>0.216867</td>\n",
       "      <td>0.308282</td>\n",
       "      <td>0.059801</td>\n",
       "      <td>0.152778</td>\n",
       "      <td>0.377880</td>\n",
       "      <td>0.267785</td>\n",
       "      <td>0.217054</td>\n",
       "      <td>0.129213</td>\n",
       "      <td>0.115942</td>\n",
       "      <td>1</td>\n",
       "    </tr>\n",
       "    <tr>\n",
       "      <th>1</th>\n",
       "      <td>1.0</td>\n",
       "      <td>0.206612</td>\n",
       "      <td>0.146667</td>\n",
       "      <td>0.204819</td>\n",
       "      <td>0.015337</td>\n",
       "      <td>0.066445</td>\n",
       "      <td>0.045139</td>\n",
       "      <td>0.290323</td>\n",
       "      <td>0.132832</td>\n",
       "      <td>0.449612</td>\n",
       "      <td>0.151685</td>\n",
       "      <td>0.217391</td>\n",
       "      <td>1</td>\n",
       "    </tr>\n",
       "    <tr>\n",
       "      <th>2</th>\n",
       "      <td>1.0</td>\n",
       "      <td>0.355372</td>\n",
       "      <td>0.133333</td>\n",
       "      <td>0.240964</td>\n",
       "      <td>0.096626</td>\n",
       "      <td>0.068106</td>\n",
       "      <td>0.100694</td>\n",
       "      <td>0.209677</td>\n",
       "      <td>0.154039</td>\n",
       "      <td>0.418605</td>\n",
       "      <td>0.123596</td>\n",
       "      <td>0.304348</td>\n",
       "      <td>1</td>\n",
       "    </tr>\n",
       "    <tr>\n",
       "      <th>3</th>\n",
       "      <td>1.0</td>\n",
       "      <td>0.280992</td>\n",
       "      <td>0.100000</td>\n",
       "      <td>0.192771</td>\n",
       "      <td>0.121166</td>\n",
       "      <td>0.081395</td>\n",
       "      <td>0.159722</td>\n",
       "      <td>0.414747</td>\n",
       "      <td>0.163678</td>\n",
       "      <td>0.364341</td>\n",
       "      <td>0.101124</td>\n",
       "      <td>0.275362</td>\n",
       "      <td>1</td>\n",
       "    </tr>\n",
       "    <tr>\n",
       "      <th>4</th>\n",
       "      <td>1.0</td>\n",
       "      <td>0.280992</td>\n",
       "      <td>0.100000</td>\n",
       "      <td>0.192771</td>\n",
       "      <td>0.121166</td>\n",
       "      <td>0.081395</td>\n",
       "      <td>0.159722</td>\n",
       "      <td>0.414747</td>\n",
       "      <td>0.163678</td>\n",
       "      <td>0.364341</td>\n",
       "      <td>0.101124</td>\n",
       "      <td>0.275362</td>\n",
       "      <td>1</td>\n",
       "    </tr>\n",
       "  </tbody>\n",
       "</table>\n",
       "</div>"
      ],
      "text/plain": [
       "   type  fixed acidity  volatile acidity  citric acid  residual sugar  \\\n",
       "0   1.0       0.264463          0.126667     0.216867        0.308282   \n",
       "1   1.0       0.206612          0.146667     0.204819        0.015337   \n",
       "2   1.0       0.355372          0.133333     0.240964        0.096626   \n",
       "3   1.0       0.280992          0.100000     0.192771        0.121166   \n",
       "4   1.0       0.280992          0.100000     0.192771        0.121166   \n",
       "\n",
       "   chlorides  free sulfur dioxide  total sulfur dioxide   density        pH  \\\n",
       "0   0.059801             0.152778              0.377880  0.267785  0.217054   \n",
       "1   0.066445             0.045139              0.290323  0.132832  0.449612   \n",
       "2   0.068106             0.100694              0.209677  0.154039  0.418605   \n",
       "3   0.081395             0.159722              0.414747  0.163678  0.364341   \n",
       "4   0.081395             0.159722              0.414747  0.163678  0.364341   \n",
       "\n",
       "   sulphates   alcohol  quality  \n",
       "0   0.129213  0.115942        1  \n",
       "1   0.151685  0.217391        1  \n",
       "2   0.123596  0.304348        1  \n",
       "3   0.101124  0.275362        1  \n",
       "4   0.101124  0.275362        1  "
      ]
     },
     "metadata": {},
     "output_type": "display_data"
    }
   ],
   "source": [
    "# Normalisation of numerical values\n",
    "\n",
    "# show data before preprocessing\n",
    "display(wine_data_raw.head())\n",
    "\n",
    "# create the normaliser\n",
    "scaler = preprocessing.MinMaxScaler()\n",
    "\n",
    "# preprocess the features ItemsBought and ItemsReturned\n",
    "wine_data_raw[['fixed acidity', 'volatile acidity', 'citric acid', 'residual sugar', 'chlorides', 'free sulfur dioxide', 'total sulfur dioxide', 'density', 'pH', 'sulphates', 'alcohol']] = scaler.fit_transform(wine_data_raw[['fixed acidity', 'volatile acidity', 'citric acid', 'residual sugar', 'chlorides', 'free sulfur dioxide', 'total sulfur dioxide', 'density', 'pH', 'sulphates', 'alcohol']])\n",
    "\n",
    "# show the results\n",
    "display(wine_data_raw.head())"
   ]
  },
  {
   "cell_type": "markdown",
   "metadata": {},
   "source": [
    "### Seperation of features and the target variable and test train split"
   ]
  },
  {
   "cell_type": "code",
   "execution_count": 28,
   "metadata": {},
   "outputs": [
    {
     "data": {
      "text/html": [
       "<div>\n",
       "<style scoped>\n",
       "    .dataframe tbody tr th:only-of-type {\n",
       "        vertical-align: middle;\n",
       "    }\n",
       "\n",
       "    .dataframe tbody tr th {\n",
       "        vertical-align: top;\n",
       "    }\n",
       "\n",
       "    .dataframe thead th {\n",
       "        text-align: right;\n",
       "    }\n",
       "</style>\n",
       "<table border=\"1\" class=\"dataframe\">\n",
       "  <thead>\n",
       "    <tr style=\"text-align: right;\">\n",
       "      <th></th>\n",
       "      <th>type</th>\n",
       "      <th>fixed acidity</th>\n",
       "      <th>volatile acidity</th>\n",
       "      <th>citric acid</th>\n",
       "      <th>residual sugar</th>\n",
       "      <th>chlorides</th>\n",
       "      <th>free sulfur dioxide</th>\n",
       "      <th>total sulfur dioxide</th>\n",
       "      <th>density</th>\n",
       "      <th>pH</th>\n",
       "      <th>sulphates</th>\n",
       "      <th>alcohol</th>\n",
       "    </tr>\n",
       "  </thead>\n",
       "  <tbody>\n",
       "    <tr>\n",
       "      <th>0</th>\n",
       "      <td>1.0</td>\n",
       "      <td>0.264463</td>\n",
       "      <td>0.126667</td>\n",
       "      <td>0.216867</td>\n",
       "      <td>0.308282</td>\n",
       "      <td>0.059801</td>\n",
       "      <td>0.152778</td>\n",
       "      <td>0.377880</td>\n",
       "      <td>0.267785</td>\n",
       "      <td>0.217054</td>\n",
       "      <td>0.129213</td>\n",
       "      <td>0.115942</td>\n",
       "    </tr>\n",
       "    <tr>\n",
       "      <th>1</th>\n",
       "      <td>1.0</td>\n",
       "      <td>0.206612</td>\n",
       "      <td>0.146667</td>\n",
       "      <td>0.204819</td>\n",
       "      <td>0.015337</td>\n",
       "      <td>0.066445</td>\n",
       "      <td>0.045139</td>\n",
       "      <td>0.290323</td>\n",
       "      <td>0.132832</td>\n",
       "      <td>0.449612</td>\n",
       "      <td>0.151685</td>\n",
       "      <td>0.217391</td>\n",
       "    </tr>\n",
       "    <tr>\n",
       "      <th>2</th>\n",
       "      <td>1.0</td>\n",
       "      <td>0.355372</td>\n",
       "      <td>0.133333</td>\n",
       "      <td>0.240964</td>\n",
       "      <td>0.096626</td>\n",
       "      <td>0.068106</td>\n",
       "      <td>0.100694</td>\n",
       "      <td>0.209677</td>\n",
       "      <td>0.154039</td>\n",
       "      <td>0.418605</td>\n",
       "      <td>0.123596</td>\n",
       "      <td>0.304348</td>\n",
       "    </tr>\n",
       "    <tr>\n",
       "      <th>3</th>\n",
       "      <td>1.0</td>\n",
       "      <td>0.280992</td>\n",
       "      <td>0.100000</td>\n",
       "      <td>0.192771</td>\n",
       "      <td>0.121166</td>\n",
       "      <td>0.081395</td>\n",
       "      <td>0.159722</td>\n",
       "      <td>0.414747</td>\n",
       "      <td>0.163678</td>\n",
       "      <td>0.364341</td>\n",
       "      <td>0.101124</td>\n",
       "      <td>0.275362</td>\n",
       "    </tr>\n",
       "    <tr>\n",
       "      <th>4</th>\n",
       "      <td>1.0</td>\n",
       "      <td>0.280992</td>\n",
       "      <td>0.100000</td>\n",
       "      <td>0.192771</td>\n",
       "      <td>0.121166</td>\n",
       "      <td>0.081395</td>\n",
       "      <td>0.159722</td>\n",
       "      <td>0.414747</td>\n",
       "      <td>0.163678</td>\n",
       "      <td>0.364341</td>\n",
       "      <td>0.101124</td>\n",
       "      <td>0.275362</td>\n",
       "    </tr>\n",
       "  </tbody>\n",
       "</table>\n",
       "</div>"
      ],
      "text/plain": [
       "   type  fixed acidity  volatile acidity  citric acid  residual sugar  \\\n",
       "0   1.0       0.264463          0.126667     0.216867        0.308282   \n",
       "1   1.0       0.206612          0.146667     0.204819        0.015337   \n",
       "2   1.0       0.355372          0.133333     0.240964        0.096626   \n",
       "3   1.0       0.280992          0.100000     0.192771        0.121166   \n",
       "4   1.0       0.280992          0.100000     0.192771        0.121166   \n",
       "\n",
       "   chlorides  free sulfur dioxide  total sulfur dioxide   density        pH  \\\n",
       "0   0.059801             0.152778              0.377880  0.267785  0.217054   \n",
       "1   0.066445             0.045139              0.290323  0.132832  0.449612   \n",
       "2   0.068106             0.100694              0.209677  0.154039  0.418605   \n",
       "3   0.081395             0.159722              0.414747  0.163678  0.364341   \n",
       "4   0.081395             0.159722              0.414747  0.163678  0.364341   \n",
       "\n",
       "   sulphates   alcohol  \n",
       "0   0.129213  0.115942  \n",
       "1   0.151685  0.217391  \n",
       "2   0.123596  0.304348  \n",
       "3   0.101124  0.275362  \n",
       "4   0.101124  0.275362  "
      ]
     },
     "metadata": {},
     "output_type": "display_data"
    }
   ],
   "source": [
    "# Seperation of features and the target variable in two different data frames\n",
    "wine_data = wine_data_raw.copy()\n",
    "\n",
    "features = wine_data.drop(columns='quality')\n",
    "display(features.head())\n",
    "\n",
    "target = wine_data.drop(columns=['type', 'fixed acidity', 'volatile acidity', 'citric acid', 'residual sugar', 'chlorides', 'free sulfur dioxide', 'total sulfur dioxide', 'density', 'pH', 'sulphates', 'alcohol'])\n",
    "target = target['quality'].ravel()"
   ]
  },
  {
   "cell_type": "code",
   "execution_count": 29,
   "metadata": {},
   "outputs": [],
   "source": [
    "# Train test split\n",
    "\n",
    "from sklearn.model_selection import train_test_split\n",
    "\n",
    "data_train, data_test, target_train, target_test = train_test_split(\n",
    "    features, target,test_size=0.35, random_state=42, stratify=target)"
   ]
  },
  {
   "cell_type": "markdown",
   "metadata": {},
   "source": [
    "## Random Forest"
   ]
  },
  {
   "cell_type": "code",
   "execution_count": 30,
   "metadata": {},
   "outputs": [],
   "source": [
    "from sklearn.model_selection import cross_val_score\n",
    "from sklearn.ensemble import RandomForestClassifier\n",
    "from sklearn.pipeline import Pipeline\n",
    "\n",
    "# Create estimator and pipeline\n",
    "random_forest = RandomForestClassifier(max_depth=2, random_state=0)\n",
    "pipeline_rf = Pipeline([('estimator', random_forest)])\n",
    "\n",
    "# Fit the model and predict the values for the train data\n",
    "pipeline_rf.fit(data_train, target_train)\n",
    "predictions_train_rf = pipeline_rf.predict(data_train)"
   ]
  },
  {
   "cell_type": "markdown",
   "metadata": {},
   "source": [
    "### Evaluation"
   ]
  },
  {
   "cell_type": "code",
   "execution_count": 31,
   "metadata": {},
   "outputs": [],
   "source": [
    "from sklearn.metrics import mean_squared_error, r2_score\n",
    "from math import sqrt\n",
    "from sklearn.model_selection import cross_val_score\n",
    "\n",
    "# Predict values for the test data\n",
    "predictions_test_rf = pipeline_rf.predict(data_test)"
   ]
  },
  {
   "cell_type": "markdown",
   "metadata": {},
   "source": [
    "#### Makro F1-Score, Makro Precision, Makro Recall and Accuracy"
   ]
  },
  {
   "cell_type": "code",
   "execution_count": 33,
   "metadata": {},
   "outputs": [
    {
     "name": "stdout",
     "output_type": "stream",
     "text": [
      "Makro F1-Score Train Data:\n"
     ]
    },
    {
     "data": {
      "text/plain": [
       "0.28905371993706447"
      ]
     },
     "metadata": {},
     "output_type": "display_data"
    },
    {
     "name": "stdout",
     "output_type": "stream",
     "text": [
      "Makro F1-Score Test Data:\n"
     ]
    },
    {
     "data": {
      "text/plain": [
       "0.2891224557891225"
      ]
     },
     "metadata": {},
     "output_type": "display_data"
    },
    {
     "name": "stdout",
     "output_type": "stream",
     "text": [
      "Makro Precision Train Data:\n"
     ]
    },
    {
     "data": {
      "text/plain": [
       "0.25515873015873014"
      ]
     },
     "metadata": {},
     "output_type": "display_data"
    },
    {
     "name": "stdout",
     "output_type": "stream",
     "text": [
      "Makro Precision Test Data:\n"
     ]
    },
    {
     "data": {
      "text/plain": [
       "0.25526587126233613"
      ]
     },
     "metadata": {},
     "output_type": "display_data"
    },
    {
     "name": "stdout",
     "output_type": "stream",
     "text": [
      "Makro Recall Train Data:\n"
     ]
    },
    {
     "data": {
      "text/plain": [
       "0.3333333333333333"
      ]
     },
     "metadata": {},
     "output_type": "display_data"
    },
    {
     "name": "stdout",
     "output_type": "stream",
     "text": [
      "Makro Recall Test Data:\n"
     ]
    },
    {
     "data": {
      "text/plain": [
       "0.3333333333333333"
      ]
     },
     "metadata": {},
     "output_type": "display_data"
    },
    {
     "name": "stdout",
     "output_type": "stream",
     "text": [
      "Accuracy Score Train Data:\n"
     ]
    },
    {
     "data": {
      "text/plain": [
       "0.7654761904761904"
      ]
     },
     "metadata": {},
     "output_type": "display_data"
    },
    {
     "name": "stdout",
     "output_type": "stream",
     "text": [
      "Accuracy Score Test Data:\n"
     ]
    },
    {
     "data": {
      "text/plain": [
       "0.7657973392721092"
      ]
     },
     "metadata": {},
     "output_type": "display_data"
    }
   ],
   "source": [
    "from sklearn.metrics import f1_score\n",
    "\n",
    "# Makro F1-Score\n",
    "print(\"Makro F1-Score Train Data:\")\n",
    "f1_score_train_rf = f1_score(target_train, predictions_train_rf, average='macro')\n",
    "display(f1_score_train_rf)\n",
    "\n",
    "print(\"Makro F1-Score Test Data:\")\n",
    "f1_score_test_rf = f1_score(target_test, predictions_test_rf, average='macro')\n",
    "display(f1_score_test_rf)\n",
    "\n",
    "# Makro Precision Score\n",
    "from sklearn.metrics import precision_score\n",
    "print(\"Makro Precision Train Data:\")\n",
    "precision_train_rf = precision_score(target_train, predictions_train_rf, average='macro', zero_division = 0)\n",
    "display(precision_train_rf)\n",
    "\n",
    "print(\"Makro Precision Test Data:\")\n",
    "precision_test_rf = precision_score(target_test, predictions_test_rf, average='macro', zero_division = 0)\n",
    "display(precision_test_rf)\n",
    "\n",
    "# Makro Recall Score\n",
    "from sklearn.metrics import recall_score\n",
    "print(\"Makro Recall Train Data:\")\n",
    "recall_train_rf = recall_score(target_train, predictions_train_rf, average='macro')\n",
    "display(recall_train_rf)\n",
    "\n",
    "print(\"Makro Recall Test Data:\")\n",
    "recall_test_rf = recall_score(target_test, predictions_test_rf, average='macro')\n",
    "display(recall_test_rf)\n",
    "\n",
    "# Accuracy Score for the train data\n",
    "print(\"Accuracy Score Train Data:\")\n",
    "accuracy_score_train_rf = cross_val_score(random_forest, data_train, target_train, cv=5, scoring=\"accuracy\").mean()\n",
    "display(accuracy_score_train_rf)\n",
    "\n",
    "# Accuracy Score for the test data\n",
    "print(\"Accuracy Score Test Data:\")\n",
    "accuracy_score_test_rf = cross_val_score(random_forest, data_test, target_test, cv=5, scoring=\"accuracy\").mean()\n",
    "display(accuracy_score_test_rf)"
   ]
  },
  {
   "cell_type": "markdown",
   "metadata": {},
   "source": [
    "#### Confusion Matrix"
   ]
  },
  {
   "cell_type": "code",
   "execution_count": 34,
   "metadata": {},
   "outputs": [],
   "source": [
    "from sklearn.metrics import confusion_matrix\n",
    "import itertools\n",
    "\n",
    "# Function to plot a confusion matrix\n",
    "def plot_confusion_matrix(cm, classes,\n",
    "                          normalize=False,\n",
    "                          title='Confusion matrix',\n",
    "                          cmap=plt.cm.Blues):\n",
    "    \"\"\"\n",
    "    This function prints and plots the confusion matrix.\n",
    "    Normalization can be applied by setting `normalize=True`.\n",
    "    \"\"\"\n",
    "    if normalize:\n",
    "        cm = cm.astype('float') / cm.sum(axis=1)[:, np.newaxis]\n",
    "\n",
    "    plt.imshow(cm, interpolation='nearest', cmap=cmap)\n",
    "    plt.title(title)\n",
    "    plt.colorbar()\n",
    "    tick_marks = np.arange(len(classes))\n",
    "    plt.xticks(tick_marks, classes, rotation=45)\n",
    "    plt.yticks(tick_marks, classes)\n",
    "\n",
    "    fmt = '.2f' if normalize else 'd'\n",
    "    thresh = cm.max() / 2.\n",
    "    for i, j in itertools.product(range(cm.shape[0]), range(cm.shape[1])):\n",
    "        plt.text(j, i, format(cm[i, j], fmt),\n",
    "                 horizontalalignment=\"center\",\n",
    "                 color=\"white\" if cm[i, j] > thresh else \"black\")\n",
    "\n",
    "    plt.ylabel('True label')\n",
    "    plt.xlabel('Predicted label')\n",
    "    plt.tight_layout()"
   ]
  },
  {
   "cell_type": "code",
   "execution_count": 35,
   "metadata": {},
   "outputs": [
    {
     "name": "stdout",
     "output_type": "stream",
     "text": [
      "Confusion Matrix Train Data:\n"
     ]
    },
    {
     "data": {
      "image/png": "[encoded data removed]",
      "text/plain": [
       "<Figure size 432x288 with 2 Axes>"
      ]
     },
     "metadata": {
      "needs_background": "light"
     },
     "output_type": "display_data"
    }
   ],
   "source": [
    "# Confusion Matrix for the training data\n",
    "cnf_matrix_train_rf = confusion_matrix(target_train, predictions_train_rf)\n",
    "np.set_printoptions(precision=2)\n",
    "print(\"Confusion Matrix Train Data:\")\n",
    "plot_confusion_matrix(cnf_matrix_train_rf, classes=np.array([0,1,2]))"
   ]
  },
  {
   "cell_type": "code",
   "execution_count": 36,
   "metadata": {},
   "outputs": [
    {
     "name": "stdout",
     "output_type": "stream",
     "text": [
      "Confusion Matrix Test Data:\n"
     ]
    },
    {
     "data": {
      "text/plain": [
       "None"
      ]
     },
     "metadata": {},
     "output_type": "display_data"
    },
    {
     "data": {
      "image/png": "[encoded data removed]",
      "text/plain": [
       "<Figure size 432x288 with 2 Axes>"
      ]
     },
     "metadata": {
      "needs_background": "light"
     },
     "output_type": "display_data"
    }
   ],
   "source": [
    "# Confusion Matrix for the test data\n",
    "cnf_matrix_test_rf = confusion_matrix(target_test, predictions_test_rf)\n",
    "np.set_printoptions(precision=2)\n",
    "print(\"Confusion Matrix Test Data:\")\n",
    "display(plot_confusion_matrix(cnf_matrix_test_rf, classes=np.array([0,1,2])))"
   ]
  },
  {
   "cell_type": "markdown",
   "metadata": {},
   "source": [
    "## Adoption of the Mode\n",
    "1. Hyperparameter Tuning\n",
    "2. Oversampling\n",
    "3. Removing Outliers\n",
    "4. Feature Selection\n",
    "5. Reducing Train Data\n",
    "\n",
    "In each step the best model, which was achieved until that stage, is utilized."
   ]
  },
  {
   "cell_type": "markdown",
   "metadata": {},
   "source": [
    "### Hyperparameter Tuning"
   ]
  },
  {
   "cell_type": "code",
   "execution_count": null,
   "metadata": {},
   "outputs": [],
   "source": [
    "from sklearn.neighbors import KNeighborsClassifier\n",
    "from sklearn.model_selection import StratifiedKFold\n",
    "from sklearn.model_selection import GridSearchCV\n",
    "\n",
    "# Create an estimator\n",
    "random_forest = RandomForestClassifier()\n",
    "\n",
    "# Specify the parameter grid\n",
    "parameters = {\n",
    "    'bootstrap': [True],\n",
    "    #'max_depth': range(5, 14),\n",
    "    #'n_estimators': [100, 300, 500, 700],\n",
    "    #'max_features': [None, sqrt, 0.3, 2],\n",
    "    #'criterion': ['gini', 'entropy']\n",
    "    'min_samples_leaf': [3, 4, 5],\n",
    "    'min_samples_split': [8, 10, 12],\n",
    "    \n",
    "}\n",
    "\n",
    "# Specify the cross validation\n",
    "stratified_10_fold_cv = StratifiedKFold(n_splits=10, shuffle=True, random_state=42)\n",
    "\n",
    "# Create the grid search instance\n",
    "#grid_search_estimator = GridSearchCV(knn_estimator, parameters, scoring='accuracy', cv=stratified_10_fold_cv, return_train_score=False)\n",
    "grid_search_estimator = GridSearchCV(random_forest, parameters, scoring='f1-macro', cv=stratified_10_fold_cv, n_jobs = -1, verbose = 2, return_train_score=False)\n",
    "\n",
    "# Run the grid search\n",
    "grid_search_estimator.fit(data_train, target_train)\n",
    "\n",
    "# Print the results of all hyper-parameter combinations\n",
    "results = pd.DataFrame(grid_search_estimator.cv_results_)\n",
    "#display(results)\n",
    "    \n",
    "# Print the best parameter setting\n",
    "print(\"best score is {} with params {}\".format(grid_search_estimator.best_score_, grid_search_estimator.best_params_))"
   ]
  },
  {
   "cell_type": "markdown",
   "metadata": {},
   "source": [
    "#### Model with Hyperparameter Tuning"
   ]
  },
  {
   "cell_type": "code",
   "execution_count": 37,
   "metadata": {},
   "outputs": [
    {
     "name": "stdout",
     "output_type": "stream",
     "text": [
      "Makro F1-Score Train Data:\n"
     ]
    },
    {
     "data": {
      "text/plain": [
       "0.6385721072781774"
      ]
     },
     "metadata": {},
     "output_type": "display_data"
    },
    {
     "name": "stdout",
     "output_type": "stream",
     "text": [
      "Makro F1-Score Test Data:\n"
     ]
    },
    {
     "data": {
      "text/plain": [
       "0.48637215209620144"
      ]
     },
     "metadata": {},
     "output_type": "display_data"
    },
    {
     "name": "stdout",
     "output_type": "stream",
     "text": [
      "Makro Precision Train Data:\n"
     ]
    },
    {
     "data": {
      "text/plain": [
       "0.9504390009822226"
      ]
     },
     "metadata": {},
     "output_type": "display_data"
    },
    {
     "name": "stdout",
     "output_type": "stream",
     "text": [
      "Makro Precision Test Data:\n"
     ]
    },
    {
     "data": {
      "text/plain": [
       "0.5197280825128926"
      ]
     },
     "metadata": {},
     "output_type": "display_data"
    },
    {
     "name": "stdout",
     "output_type": "stream",
     "text": [
      "Makro Recall Train Data:\n"
     ]
    },
    {
     "data": {
      "text/plain": [
       "0.5959727134825274"
      ]
     },
     "metadata": {},
     "output_type": "display_data"
    },
    {
     "name": "stdout",
     "output_type": "stream",
     "text": [
      "Makro Recall Test Data:\n"
     ]
    },
    {
     "data": {
      "text/plain": [
       "0.47375100224546207"
      ]
     },
     "metadata": {},
     "output_type": "display_data"
    },
    {
     "name": "stdout",
     "output_type": "stream",
     "text": [
      "Accuracy Score Train Data:\n"
     ]
    },
    {
     "data": {
      "text/plain": [
       "0.8145238095238095"
      ]
     },
     "metadata": {},
     "output_type": "display_data"
    },
    {
     "name": "stdout",
     "output_type": "stream",
     "text": [
      "Accuracy Score Test Data:\n"
     ]
    },
    {
     "data": {
      "text/plain": [
       "0.8051202406767078"
      ]
     },
     "metadata": {},
     "output_type": "display_data"
    },
    {
     "name": "stdout",
     "output_type": "stream",
     "text": [
      "Confusion Matrix Train Data:\n"
     ]
    },
    {
     "data": {
      "text/plain": [
       "None"
      ]
     },
     "metadata": {},
     "output_type": "display_data"
    },
    {
     "data": {
      "image/png": "[encoded data removed]",
      "text/plain": [
       "<Figure size 432x288 with 2 Axes>"
      ]
     },
     "metadata": {
      "needs_background": "light"
     },
     "output_type": "display_data"
    }
   ],
   "source": [
    "# Changing Hyperparameters\n",
    "# Seperation of features and the target variable in two different data frames\n",
    "random_forest = RandomForestClassifier(random_state=0, max_depth = 11, n_estimators = 500, max_features=0.3, min_samples_leaf=3,\n",
    "    min_samples_split=8)\n",
    "\n",
    "pipeline_rf = Pipeline([('estimator', random_forest)])\n",
    "\n",
    "# Fit the model and predict the values for the train data\n",
    "pipeline_rf.fit(data_train, target_train)\n",
    "predictions_train_rf = pipeline_rf.predict(data_train)\n",
    "\n",
    "# Predict values for the test data\n",
    "predictions_test_rf = pipeline_rf.predict(data_test)\n",
    "\n",
    "from sklearn.metrics import f1_score\n",
    "\n",
    "# Makro F1-Score\n",
    "print(\"Makro F1-Score Train Data:\")\n",
    "f1_score_train_rf = f1_score(target_train, predictions_train_rf, average='macro')\n",
    "display(f1_score_train_rf)\n",
    "\n",
    "print(\"Makro F1-Score Test Data:\")\n",
    "f1_score_test_rf = f1_score(target_test, predictions_test_rf, average='macro')\n",
    "display(f1_score_test_rf)\n",
    "\n",
    "# Makro Precision Score\n",
    "from sklearn.metrics import precision_score\n",
    "print(\"Makro Precision Train Data:\")\n",
    "precision_train_rf = precision_score(target_train, predictions_train_rf, average='macro', zero_division = 0)\n",
    "display(precision_train_rf)\n",
    "\n",
    "print(\"Makro Precision Test Data:\")\n",
    "precision_test_rf = precision_score(target_test, predictions_test_rf, average='macro', zero_division = 0)\n",
    "display(precision_test_rf)\n",
    "\n",
    "# Makro Recall Score\n",
    "from sklearn.metrics import recall_score\n",
    "print(\"Makro Recall Train Data:\")\n",
    "recall_train_rf = recall_score(target_train, predictions_train_rf, average='macro')\n",
    "display(recall_train_rf)\n",
    "\n",
    "print(\"Makro Recall Test Data:\")\n",
    "recall_test_rf = recall_score(target_test, predictions_test_rf, average='macro')\n",
    "display(recall_test_rf)\n",
    "\n",
    "# Accuracy Score for the train data\n",
    "print(\"Accuracy Score Train Data:\")\n",
    "accuracy_score_train_rf = cross_val_score(random_forest, data_train, target_train, cv=5, scoring=\"accuracy\").mean()\n",
    "display(accuracy_score_train_rf)\n",
    "\n",
    "# Accuracy Score for the test data\n",
    "print(\"Accuracy Score Test Data:\")\n",
    "accuracy_score_test_rf = cross_val_score(random_forest, data_test, target_test, cv=5, scoring=\"accuracy\").mean()\n",
    "display(accuracy_score_test_rf)\n",
    "\n",
    "# Confusion Matrix for the training data\n",
    "cnf_matrix_train_rf = confusion_matrix(target_train, predictions_train_rf)\n",
    "np.set_printoptions(precision=2)\n",
    "print(\"Confusion Matrix Train Data:\")\n",
    "display(plot_confusion_matrix(cnf_matrix_train_rf, classes=np.array([0,1,2])))"
   ]
  },
  {
   "cell_type": "code",
   "execution_count": 38,
   "metadata": {},
   "outputs": [
    {
     "name": "stdout",
     "output_type": "stream",
     "text": [
      "Confusion Matrix Train Data:\n"
     ]
    },
    {
     "data": {
      "text/plain": [
       "None"
      ]
     },
     "metadata": {},
     "output_type": "display_data"
    },
    {
     "data": {
      "image/png": "[encoded data removed]",
      "text/plain": [
       "<Figure size 432x288 with 2 Axes>"
      ]
     },
     "metadata": {
      "needs_background": "light"
     },
     "output_type": "display_data"
    }
   ],
   "source": [
    "# Confusion Matrix for the training data\n",
    "cnf_matrix_test_rf = confusion_matrix(target_test, predictions_test_rf)\n",
    "np.set_printoptions(precision=2)\n",
    "print(\"Confusion Matrix Train Data:\")\n",
    "display(plot_confusion_matrix(cnf_matrix_test_rf, classes=np.array([0,1,2])))"
   ]
  },
  {
   "cell_type": "markdown",
   "metadata": {},
   "source": [
    "### Oversampling\n",
    "On the basis of the model with the hypertuning of the parameters."
   ]
  },
  {
   "cell_type": "code",
   "execution_count": 39,
   "metadata": {},
   "outputs": [
    {
     "name": "stdout",
     "output_type": "stream",
     "text": [
      "Makro F1-Score Train Data:\n"
     ]
    },
    {
     "data": {
      "text/plain": [
       "0.9332328877612123"
      ]
     },
     "metadata": {},
     "output_type": "display_data"
    },
    {
     "name": "stdout",
     "output_type": "stream",
     "text": [
      "Makro F1-Score Test Data:\n"
     ]
    },
    {
     "data": {
      "text/plain": [
       "0.5797378289271955"
      ]
     },
     "metadata": {},
     "output_type": "display_data"
    },
    {
     "name": "stdout",
     "output_type": "stream",
     "text": [
      "Makro Precision Train Data:\n"
     ]
    },
    {
     "data": {
      "text/plain": [
       "0.9347445518965753"
      ]
     },
     "metadata": {},
     "output_type": "display_data"
    },
    {
     "name": "stdout",
     "output_type": "stream",
     "text": [
      "Makro Precision Test Data:\n"
     ]
    },
    {
     "data": {
      "text/plain": [
       "0.5500464429313742"
      ]
     },
     "metadata": {},
     "output_type": "display_data"
    },
    {
     "name": "stdout",
     "output_type": "stream",
     "text": [
      "Makro Recall Train Data:\n"
     ]
    },
    {
     "data": {
      "text/plain": [
       "0.9338049519959576"
      ]
     },
     "metadata": {},
     "output_type": "display_data"
    },
    {
     "name": "stdout",
     "output_type": "stream",
     "text": [
      "Makro Recall Test Data:\n"
     ]
    },
    {
     "data": {
      "text/plain": [
       "0.6586873610495658"
      ]
     },
     "metadata": {},
     "output_type": "display_data"
    },
    {
     "name": "stdout",
     "output_type": "stream",
     "text": [
      "Accuracy Score Train Data:\n"
     ]
    },
    {
     "data": {
      "text/plain": [
       "0.8727478916330421"
      ]
     },
     "metadata": {},
     "output_type": "display_data"
    },
    {
     "name": "stdout",
     "output_type": "stream",
     "text": [
      "Accuracy Score Test Data:\n"
     ]
    },
    {
     "data": {
      "text/plain": [
       "0.792732932267816"
      ]
     },
     "metadata": {},
     "output_type": "display_data"
    },
    {
     "name": "stdout",
     "output_type": "stream",
     "text": [
      "Confusion Matrix Train Data:\n"
     ]
    },
    {
     "data": {
      "text/plain": [
       "None"
      ]
     },
     "metadata": {},
     "output_type": "display_data"
    },
    {
     "data": {
      "image/png": "[encoded data removed]",
      "text/plain": [
       "<Figure size 432x288 with 2 Axes>"
      ]
     },
     "metadata": {
      "needs_background": "light"
     },
     "output_type": "display_data"
    }
   ],
   "source": [
    "# Seperation of features and the target variable in two different data frames\n",
    "features = wine_data.drop(columns=['quality'])\n",
    "display(features.head())\n",
    "target = wine_data.drop(columns=['type', 'fixed acidity', 'volatile acidity', 'citric acid', 'residual sugar', 'chlorides', 'free sulfur dioxide', 'total sulfur dioxide', 'density', 'pH', 'sulphates', 'alcohol'])\n",
    "target = target['quality'].ravel()\n",
    "\n",
    "# Train test split\n",
    "from sklearn.model_selection import train_test_split\n",
    "\n",
    "data_train, data_test, target_train, target_test = train_test_split(\n",
    "    features, target,test_size=0.2, random_state=42, stratify=target)\n",
    "\n",
    "# Oversampling\n",
    "from imblearn.over_sampling import SMOTE \n",
    "from collections import Counter\n",
    "\n",
    "data_train_smt = data_train.copy() # necessary? \n",
    "target_train_smt = target_train.copy() # necessary?\n",
    "\n",
    "smt = SMOTE(random_state=42)\n",
    "data_train, target_train = smt.fit_resample(data_train_smt, target_train_smt)\n",
    "\n",
    "# Create estimator and pipeline\n",
    "random_forest = RandomForestClassifier(random_state=0, max_depth = 11, n_estimators = 500, max_features=0.3, min_samples_leaf=3,\n",
    "    min_samples_split=8)\n",
    "pipeline_rf = Pipeline([('estimator', random_forest)])\n",
    "\n",
    "# Fit the model and predict the values for the train data\n",
    "pipeline_rf.fit(data_train, target_train)\n",
    "predictions_train_rf = pipeline_rf.predict(data_train)\n",
    "\n",
    "# Predict values for the test data\n",
    "predictions_test_rf = pipeline_rf.predict(data_test)\n",
    "\n",
    "from sklearn.metrics import f1_score\n",
    "\n",
    "# Makro F1-Score\n",
    "print(\"Makro F1-Score Train Data:\")\n",
    "f1_score_train_rf = f1_score(target_train, predictions_train_rf, average='macro')\n",
    "display(f1_score_train_rf)\n",
    "\n",
    "print(\"Makro F1-Score Test Data:\")\n",
    "f1_score_test_rf = f1_score(target_test, predictions_test_rf, average='macro')\n",
    "display(f1_score_test_rf)\n",
    "\n",
    "# Makro Precision Score\n",
    "from sklearn.metrics import precision_score\n",
    "print(\"Makro Precision Train Data:\")\n",
    "precision_train_rf = precision_score(target_train, predictions_train_rf, average='macro', zero_division = 0)\n",
    "display(precision_train_rf)\n",
    "\n",
    "print(\"Makro Precision Test Data:\")\n",
    "precision_test_rf = precision_score(target_test, predictions_test_rf, average='macro', zero_division = 0)\n",
    "display(precision_test_rf)\n",
    "\n",
    "# Makro Recall Score\n",
    "from sklearn.metrics import recall_score\n",
    "print(\"Makro Recall Train Data:\")\n",
    "recall_train_rf = recall_score(target_train, predictions_train_rf, average='macro')\n",
    "display(recall_train_rf)\n",
    "\n",
    "print(\"Makro Recall Test Data:\")\n",
    "recall_test_rf = recall_score(target_test, predictions_test_rf, average='macro')\n",
    "display(recall_test_rf)\n",
    "\n",
    "# Accuracy Score for the train data\n",
    "print(\"Accuracy Score Train Data:\")\n",
    "accuracy_score_train_rf = cross_val_score(random_forest, data_train, target_train, cv=5, scoring=\"accuracy\").mean()\n",
    "display(accuracy_score_train_rf)\n",
    "\n",
    "# Accuracy Score for the test data\n",
    "print(\"Accuracy Score Test Data:\")\n",
    "accuracy_score_test_rf = cross_val_score(random_forest, data_test, target_test, cv=5, scoring=\"accuracy\").mean()\n",
    "display(accuracy_score_test_rf)\n",
    "\n",
    "# Confusion Matrix for the training data\n",
    "cnf_matrix_train_rf = confusion_matrix(target_train, predictions_train_rf)\n",
    "np.set_printoptions(precision=2)\n",
    "print(\"Confusion Matrix Train Data:\")\n",
    "display(plot_confusion_matrix(cnf_matrix_train_rf, classes=np.array([0,1,2])))"
   ]
  },
  {
   "cell_type": "code",
   "execution_count": 40,
   "metadata": {},
   "outputs": [
    {
     "name": "stdout",
     "output_type": "stream",
     "text": [
      "Confusion Matrix Test Data:\n"
     ]
    },
    {
     "data": {
      "text/plain": [
       "None"
      ]
     },
     "metadata": {},
     "output_type": "display_data"
    },
    {
     "data": {
      "image/png": "[encoded data removed]",
      "text/plain": [
       "<Figure size 432x288 with 2 Axes>"
      ]
     },
     "metadata": {
      "needs_background": "light"
     },
     "output_type": "display_data"
    }
   ],
   "source": [
    "# Confusion Matrix for the test data\n",
    "cnf_matrix_test_rf = confusion_matrix(target_test, predictions_test_rf)\n",
    "np.set_printoptions(precision=2)\n",
    "print(\"Confusion Matrix Test Data:\")\n",
    "display(plot_confusion_matrix(cnf_matrix_test_rf, classes=np.array([0,1,2])))"
   ]
  },
  {
   "cell_type": "markdown",
   "metadata": {},
   "source": [
    "### Removing Outliers\n",
    "On the basis of the model with the hypertuning of the parameters and oversampling."
   ]
  },
  {
   "cell_type": "code",
   "execution_count": 44,
   "metadata": {},
   "outputs": [
    {
     "data": {
      "text/plain": [
       "type                     0\n",
       "fixed acidity            0\n",
       "volatile acidity         1\n",
       "citric acid              1\n",
       "residual sugar           1\n",
       "chlorides               47\n",
       "free sulfur dioxide      2\n",
       "total sulfur dioxide     0\n",
       "density                  1\n",
       "pH                       0\n",
       "sulphates                8\n",
       "alcohol                  0\n",
       "quality                  0\n",
       "dtype: int64"
      ]
     },
     "metadata": {},
     "output_type": "display_data"
    },
    {
     "data": {
      "text/plain": [
       "type                    0\n",
       "fixed acidity           0\n",
       "volatile acidity        0\n",
       "citric acid             0\n",
       "residual sugar          0\n",
       "chlorides               0\n",
       "free sulfur dioxide     0\n",
       "total sulfur dioxide    0\n",
       "density                 0\n",
       "pH                      0\n",
       "sulphates               0\n",
       "alcohol                 0\n",
       "quality                 0\n",
       "dtype: int64"
      ]
     },
     "metadata": {},
     "output_type": "display_data"
    },
    {
     "data": {
      "text/plain": [
       "6406"
      ]
     },
     "metadata": {},
     "output_type": "display_data"
    }
   ],
   "source": [
    "# Deleting outliers\n",
    "wine_data_outliers = wine_data_raw.copy()\n",
    "wine_data_columns = ['fixed acidity',\n",
    " 'volatile acidity',\n",
    " 'citric acid',\n",
    " 'residual sugar',\n",
    " 'chlorides',\n",
    " 'free sulfur dioxide',\n",
    " 'total sulfur dioxide',\n",
    " 'density',\n",
    " 'pH',\n",
    " 'sulphates',\n",
    " 'alcohol']\n",
    "\n",
    "# Identify outliers\n",
    "for x in wine_data_columns:\n",
    "    for y in x:\n",
    "        q75,q25 = np.percentile(wine_data_outliers.loc[:,x],[95,5])\n",
    "        intr_qr = q75-q25\n",
    "\n",
    "        max = q75+(1.5*intr_qr)\n",
    "        min = q25-(1.5*intr_qr)\n",
    "\n",
    "        wine_data_outliers.loc[wine_data[x] < min,x] = np.nan\n",
    "        wine_data_outliers.loc[wine_data[x] > max,x] = np.nan\n",
    "        \n",
    "display(wine_data_outliers.isnull().sum())\n",
    "\n",
    "# Drop outliers\n",
    "wine_data_outliers = wine_data_outliers.dropna(axis=0, how=\"any\", thresh=None, subset=None, inplace=False)\n",
    "display(wine_data_outliers.isnull().sum())\n",
    "display(len(wine_data_outliers.index))"
   ]
  },
  {
   "cell_type": "code",
   "execution_count": 50,
   "metadata": {},
   "outputs": [
    {
     "name": "stdout",
     "output_type": "stream",
     "text": [
      "Makro F1-Score Train Data:\n"
     ]
    },
    {
     "data": {
      "text/plain": [
       "0.9344379842148247"
      ]
     },
     "metadata": {},
     "output_type": "display_data"
    },
    {
     "name": "stdout",
     "output_type": "stream",
     "text": [
      "Makro F1-Score Test Data:\n"
     ]
    },
    {
     "data": {
      "text/plain": [
       "0.6096806232236647"
      ]
     },
     "metadata": {},
     "output_type": "display_data"
    },
    {
     "name": "stdout",
     "output_type": "stream",
     "text": [
      "Makro Precision Train Data:\n"
     ]
    },
    {
     "data": {
      "text/plain": [
       "0.9360941483269579"
      ]
     },
     "metadata": {},
     "output_type": "display_data"
    },
    {
     "name": "stdout",
     "output_type": "stream",
     "text": [
      "Makro Precision Test Data:\n"
     ]
    },
    {
     "data": {
      "text/plain": [
       "0.5745525793279441"
      ]
     },
     "metadata": {},
     "output_type": "display_data"
    },
    {
     "name": "stdout",
     "output_type": "stream",
     "text": [
      "Makro Recall Train Data:\n"
     ]
    },
    {
     "data": {
      "text/plain": [
       "0.9351875478438377"
      ]
     },
     "metadata": {},
     "output_type": "display_data"
    },
    {
     "name": "stdout",
     "output_type": "stream",
     "text": [
      "Makro Recall Test Data:\n"
     ]
    },
    {
     "data": {
      "text/plain": [
       "0.7078814217778376"
      ]
     },
     "metadata": {},
     "output_type": "display_data"
    },
    {
     "name": "stdout",
     "output_type": "stream",
     "text": [
      "Accuracy Score Train Data:\n"
     ]
    },
    {
     "data": {
      "text/plain": [
       "0.8729271015084044"
      ]
     },
     "metadata": {},
     "output_type": "display_data"
    },
    {
     "name": "stdout",
     "output_type": "stream",
     "text": [
      "Accuracy Score Test Data:\n"
     ]
    },
    {
     "data": {
      "text/plain": [
       "0.8049762889105058"
      ]
     },
     "metadata": {},
     "output_type": "display_data"
    },
    {
     "name": "stdout",
     "output_type": "stream",
     "text": [
      "Confusion Matrix Train Data:\n"
     ]
    },
    {
     "data": {
      "text/plain": [
       "None"
      ]
     },
     "metadata": {},
     "output_type": "display_data"
    },
    {
     "data": {
      "image/png": "[encoded data removed]",
      "text/plain": [
       "<Figure size 432x288 with 2 Axes>"
      ]
     },
     "metadata": {
      "needs_background": "light"
     },
     "output_type": "display_data"
    }
   ],
   "source": [
    "# Seperation of features and the target variable in two different data frames\n",
    "features = wine_data_outliers.drop(columns=['quality'])\n",
    "display(features.head())\n",
    "target = wine_data_outliers.drop(columns=['type', 'fixed acidity', 'volatile acidity', 'citric acid', 'residual sugar', 'chlorides', 'free sulfur dioxide', 'total sulfur dioxide', 'density', 'pH', 'sulphates', 'alcohol'])\n",
    "target = target['quality'].ravel()\n",
    "\n",
    "# Train test split\n",
    "from sklearn.model_selection import train_test_split\n",
    "\n",
    "data_train, data_test, target_train, target_test = train_test_split(\n",
    "    features, target,test_size=0.2, random_state=42, stratify=target)\n",
    "\n",
    "# Oversampling\n",
    "from imblearn.over_sampling import SMOTE \n",
    "from collections import Counter\n",
    "\n",
    "data_train_smt = data_train.copy() # necessary? \n",
    "target_train_smt = target_train.copy() # necessary?\n",
    "\n",
    "smt = SMOTE(random_state=42)\n",
    "data_train, target_train = smt.fit_resample(data_train_smt, target_train_smt)\n",
    "\n",
    "# Create estimator and pipeline\n",
    "random_forest = RandomForestClassifier(random_state=0, max_depth = 11, n_estimators = 500, max_features=0.3, min_samples_leaf=3,\n",
    "    min_samples_split=8)\n",
    "pipeline_rf = Pipeline([('estimator', random_forest)])\n",
    "\n",
    "# Fit the model and predict the values for the train data\n",
    "pipeline_rf.fit(data_train, target_train)\n",
    "predictions_train_rf = pipeline_rf.predict(data_train)\n",
    "\n",
    "# Predict values for the test data\n",
    "predictions_test_rf = pipeline_rf.predict(data_test)\n",
    "\n",
    "from sklearn.metrics import f1_score\n",
    "\n",
    "# Makro F1-Score\n",
    "print(\"Makro F1-Score Train Data:\")\n",
    "f1_score_train_rf = f1_score(target_train, predictions_train_rf, average='macro')\n",
    "display(f1_score_train_rf)\n",
    "\n",
    "print(\"Makro F1-Score Test Data:\")\n",
    "f1_score_test_rf = f1_score(target_test, predictions_test_rf, average='macro')\n",
    "display(f1_score_test_rf)\n",
    "\n",
    "# Makro Precision Score\n",
    "from sklearn.metrics import precision_score\n",
    "print(\"Makro Precision Train Data:\")\n",
    "precision_train_rf = precision_score(target_train, predictions_train_rf, average='macro', zero_division = 0)\n",
    "display(precision_train_rf)\n",
    "\n",
    "print(\"Makro Precision Test Data:\")\n",
    "precision_test_rf = precision_score(target_test, predictions_test_rf, average='macro', zero_division = 0)\n",
    "display(precision_test_rf)\n",
    "\n",
    "# Makro Recall Score\n",
    "from sklearn.metrics import recall_score\n",
    "print(\"Makro Recall Train Data:\")\n",
    "recall_train_rf = recall_score(target_train, predictions_train_rf, average='macro')\n",
    "display(recall_train_rf)\n",
    "\n",
    "print(\"Makro Recall Test Data:\")\n",
    "recall_test_rf = recall_score(target_test, predictions_test_rf, average='macro')\n",
    "display(recall_test_rf)\n",
    "\n",
    "# Accuracy Score for the train data\n",
    "print(\"Accuracy Score Train Data:\")\n",
    "accuracy_score_train_rf = cross_val_score(random_forest, data_train, target_train, cv=5, scoring=\"accuracy\").mean()\n",
    "display(accuracy_score_train_rf)\n",
    "\n",
    "# Accuracy Score for the test data\n",
    "print(\"Accuracy Score Test Data:\")\n",
    "accuracy_score_test_rf = cross_val_score(random_forest, data_test, target_test, cv=5, scoring=\"accuracy\").mean()\n",
    "display(accuracy_score_test_rf)\n",
    "\n",
    "# Confusion Matrix for the training data\n",
    "cnf_matrix_train_rf = confusion_matrix(target_train, predictions_train_rf)\n",
    "np.set_printoptions(precision=2)\n",
    "print(\"Confusion Matrix Train Data:\")\n",
    "display(plot_confusion_matrix(cnf_matrix_train_rf, classes=np.array([0,1,2])))"
   ]
  },
  {
   "cell_type": "code",
   "execution_count": 51,
   "metadata": {},
   "outputs": [
    {
     "name": "stdout",
     "output_type": "stream",
     "text": [
      "Confusion Matrix Test Data:\n"
     ]
    },
    {
     "data": {
      "text/plain": [
       "None"
      ]
     },
     "metadata": {},
     "output_type": "display_data"
    },
    {
     "data": {
      "image/png": "[encoded data removed]",
      "text/plain": [
       "<Figure size 432x288 with 2 Axes>"
      ]
     },
     "metadata": {
      "needs_background": "light"
     },
     "output_type": "display_data"
    }
   ],
   "source": [
    "# Confusion Matrix for the test data\n",
    "cnf_matrix_test_rf = confusion_matrix(target_test, predictions_test_rf)\n",
    "np.set_printoptions(precision=2)\n",
    "print(\"Confusion Matrix Test Data:\")\n",
    "display(plot_confusion_matrix(cnf_matrix_test_rf, classes=np.array([0,1,2])))"
   ]
  },
  {
   "cell_type": "markdown",
   "metadata": {},
   "source": [
    "### Feature Selection\n",
    "On the basis of the model with the hypertuning of the parameters, oversampling and without outliers."
   ]
  },
  {
   "cell_type": "code",
   "execution_count": 52,
   "metadata": {},
   "outputs": [
    {
     "name": "stdout",
     "output_type": "stream",
     "text": [
      "[0.01 0.06 0.11 0.08 0.07 0.07 0.13 0.08 0.09 0.05 0.08 0.16]\n"
     ]
    },
    {
     "data": {
      "image/png": "[encoded data removed]",
      "text/plain": [
       "<Figure size 432x288 with 1 Axes>"
      ]
     },
     "metadata": {
      "needs_background": "light"
     },
     "output_type": "display_data"
    }
   ],
   "source": [
    "# Feature Importance\n",
    "\n",
    "print(random_forest.feature_importances_) #use inbuilt class feature_importances of tree based classifiers\n",
    "#plot graph of feature importances for better visualization\n",
    "feat_importances = pd.Series(random_forest.feature_importances_, index=features.columns)\n",
    "feat_importances.plot(kind='barh')\n",
    "plt.show()"
   ]
  },
  {
   "cell_type": "code",
   "execution_count": 53,
   "metadata": {},
   "outputs": [
    {
     "data": {
      "text/plain": [
       "Text(0.5, 0, 'Permutation Importance')"
      ]
     },
     "execution_count": 53,
     "metadata": {},
     "output_type": "execute_result"
    },
    {
     "data": {
      "image/png": "[encoded data removed]",
      "text/plain": [
       "<Figure size 432x288 with 1 Axes>"
      ]
     },
     "metadata": {
      "needs_background": "light"
     },
     "output_type": "display_data"
    }
   ],
   "source": [
    "# Permutation Importance\n",
    "\n",
    "from sklearn.inspection import permutation_importance\n",
    "perm_importance = permutation_importance(random_forest, data_test, target_test)\n",
    "\n",
    "feature_list = list(features)\n",
    "plt.barh(feature_list, perm_importance.importances_mean)\n",
    "plt.xlabel(\"Permutation Importance\")"
   ]
  },
  {
   "cell_type": "code",
   "execution_count": 54,
   "metadata": {},
   "outputs": [
    {
     "data": {
      "text/html": [
       "<div>\n",
       "<style scoped>\n",
       "    .dataframe tbody tr th:only-of-type {\n",
       "        vertical-align: middle;\n",
       "    }\n",
       "\n",
       "    .dataframe tbody tr th {\n",
       "        vertical-align: top;\n",
       "    }\n",
       "\n",
       "    .dataframe thead th {\n",
       "        text-align: right;\n",
       "    }\n",
       "</style>\n",
       "<table border=\"1\" class=\"dataframe\">\n",
       "  <thead>\n",
       "    <tr style=\"text-align: right;\">\n",
       "      <th></th>\n",
       "      <th>VIF Factor</th>\n",
       "      <th>features</th>\n",
       "    </tr>\n",
       "  </thead>\n",
       "  <tbody>\n",
       "    <tr>\n",
       "      <th>0</th>\n",
       "      <td>1.000000</td>\n",
       "      <td>Intercept</td>\n",
       "    </tr>\n",
       "    <tr>\n",
       "      <th>13</th>\n",
       "      <td>1.241384</td>\n",
       "      <td>quality</td>\n",
       "    </tr>\n",
       "    <tr>\n",
       "      <th>11</th>\n",
       "      <td>1.570609</td>\n",
       "      <td>sulphates</td>\n",
       "    </tr>\n",
       "    <tr>\n",
       "      <th>4</th>\n",
       "      <td>1.621567</td>\n",
       "      <td>citric_acid</td>\n",
       "    </tr>\n",
       "    <tr>\n",
       "      <th>6</th>\n",
       "      <td>1.660250</td>\n",
       "      <td>chlorides</td>\n",
       "    </tr>\n",
       "    <tr>\n",
       "      <th>3</th>\n",
       "      <td>2.225207</td>\n",
       "      <td>volatile_acidity</td>\n",
       "    </tr>\n",
       "    <tr>\n",
       "      <th>7</th>\n",
       "      <td>2.246250</td>\n",
       "      <td>free_sulfur_dioxide</td>\n",
       "    </tr>\n",
       "    <tr>\n",
       "      <th>10</th>\n",
       "      <td>2.570668</td>\n",
       "      <td>pH</td>\n",
       "    </tr>\n",
       "    <tr>\n",
       "      <th>8</th>\n",
       "      <td>4.047711</td>\n",
       "      <td>total_sulfur_dioxide</td>\n",
       "    </tr>\n",
       "    <tr>\n",
       "      <th>2</th>\n",
       "      <td>5.085770</td>\n",
       "      <td>fixed_acidity</td>\n",
       "    </tr>\n",
       "    <tr>\n",
       "      <th>12</th>\n",
       "      <td>5.667100</td>\n",
       "      <td>alcohol</td>\n",
       "    </tr>\n",
       "    <tr>\n",
       "      <th>1</th>\n",
       "      <td>7.281107</td>\n",
       "      <td>type</td>\n",
       "    </tr>\n",
       "    <tr>\n",
       "      <th>5</th>\n",
       "      <td>9.777386</td>\n",
       "      <td>residual_sugar</td>\n",
       "    </tr>\n",
       "    <tr>\n",
       "      <th>9</th>\n",
       "      <td>22.565289</td>\n",
       "      <td>density</td>\n",
       "    </tr>\n",
       "  </tbody>\n",
       "</table>\n",
       "</div>"
      ],
      "text/plain": [
       "    VIF Factor              features\n",
       "0     1.000000             Intercept\n",
       "13    1.241384               quality\n",
       "11    1.570609             sulphates\n",
       "4     1.621567           citric_acid\n",
       "6     1.660250             chlorides\n",
       "3     2.225207      volatile_acidity\n",
       "7     2.246250   free_sulfur_dioxide\n",
       "10    2.570668                    pH\n",
       "8     4.047711  total_sulfur_dioxide\n",
       "2     5.085770         fixed_acidity\n",
       "12    5.667100               alcohol\n",
       "1     7.281107                  type\n",
       "5     9.777386        residual_sugar\n",
       "9    22.565289               density"
      ]
     },
     "metadata": {},
     "output_type": "display_data"
    }
   ],
   "source": [
    "# Feature correlation\n",
    "\n",
    "from patsy import dmatrices\n",
    "from statsmodels.stats.outliers_influence import variance_inflation_factor\n",
    "from sklearn.preprocessing import StandardScaler\n",
    "\n",
    "wines = wine_data.copy()\n",
    "y_ql = wines.drop(columns=['type', 'fixed acidity', 'volatile acidity', 'citric acid', 'residual sugar', 'chlorides', 'free sulfur dioxide', 'total sulfur dioxide', 'density', 'pH', 'sulphates', 'alcohol'])\n",
    "#scale = StandardScaler()\n",
    "\n",
    "def VRF(predict, data, y):\n",
    "   \n",
    "    scale = StandardScaler(with_std=False)\n",
    "    df = pd.DataFrame(scale.fit_transform(data), columns= cols)\n",
    "    features = \"+\".join(cols)\n",
    "    df['quality_label'] = y.values\n",
    "\n",
    "    # get y and X dataframes based on this regression:\n",
    "    y, X = dmatrices(predict + ' ~' + features, data = df, return_type='dataframe')\n",
    "\n",
    "   # Calculate VIF Factors\n",
    "    # For each X, calculate VIF and save in dataframe\n",
    "    vif = pd.DataFrame()\n",
    "    vif[\"VIF Factor\"] = [variance_inflation_factor(X.values, i) for i in range(X.shape[1])]\n",
    "    vif[\"features\"] = X.columns\n",
    "\n",
    "    # Inspect VIF Factors\n",
    "    display(vif.sort_values('VIF Factor'))\n",
    "    return vif\n",
    "\n",
    "cols = wines.columns.str.replace(' ', '_')\n",
    "df = wines.copy()\n",
    "df.columns = cols\n",
    "# Remove the not applied to the qualty classification task\n",
    "#cols = list(cols.drop(['type', 'quality', 'quality']))\n",
    "\n",
    "vif = VRF('quality', df.loc[:, cols], y_ql)"
   ]
  },
  {
   "cell_type": "markdown",
   "metadata": {},
   "source": [
    "####  Feature Importance: Model without type"
   ]
  },
  {
   "cell_type": "code",
   "execution_count": 55,
   "metadata": {},
   "outputs": [
    {
     "name": "stdout",
     "output_type": "stream",
     "text": [
      "Makro F1-Score Train Data:\n"
     ]
    },
    {
     "data": {
      "text/plain": [
       "0.9380449313121125"
      ]
     },
     "metadata": {},
     "output_type": "display_data"
    },
    {
     "name": "stdout",
     "output_type": "stream",
     "text": [
      "Makro F1-Score Test Data:\n"
     ]
    },
    {
     "data": {
      "text/plain": [
       "0.6094263998365771"
      ]
     },
     "metadata": {},
     "output_type": "display_data"
    },
    {
     "name": "stdout",
     "output_type": "stream",
     "text": [
      "Makro Precision Train Data:\n"
     ]
    },
    {
     "data": {
      "text/plain": [
       "0.9393587555109436"
      ]
     },
     "metadata": {},
     "output_type": "display_data"
    },
    {
     "name": "stdout",
     "output_type": "stream",
     "text": [
      "Makro Precision Test Data:\n"
     ]
    },
    {
     "data": {
      "text/plain": [
       "0.5742439622721313"
      ]
     },
     "metadata": {},
     "output_type": "display_data"
    },
    {
     "name": "stdout",
     "output_type": "stream",
     "text": [
      "Makro Recall Train Data:\n"
     ]
    },
    {
     "data": {
      "text/plain": [
       "0.9386748320149697"
      ]
     },
     "metadata": {},
     "output_type": "display_data"
    },
    {
     "name": "stdout",
     "output_type": "stream",
     "text": [
      "Makro Recall Test Data:\n"
     ]
    },
    {
     "data": {
      "text/plain": [
       "0.704963781895667"
      ]
     },
     "metadata": {},
     "output_type": "display_data"
    },
    {
     "name": "stdout",
     "output_type": "stream",
     "text": [
      "Accuracy Score Train Data:\n"
     ]
    },
    {
     "data": {
      "text/plain": [
       "0.876754970384581"
      ]
     },
     "metadata": {},
     "output_type": "display_data"
    },
    {
     "name": "stdout",
     "output_type": "stream",
     "text": [
      "Accuracy Score Test Data:\n"
     ]
    },
    {
     "data": {
      "text/plain": [
       "0.8073169990272373"
      ]
     },
     "metadata": {},
     "output_type": "display_data"
    },
    {
     "name": "stdout",
     "output_type": "stream",
     "text": [
      "Confusion Matrix Train Data:\n"
     ]
    },
    {
     "data": {
      "text/plain": [
       "None"
      ]
     },
     "metadata": {},
     "output_type": "display_data"
    },
    {
     "data": {
      "image/png": "[encoded data removed]",
      "text/plain": [
       "<Figure size 432x288 with 2 Axes>"
      ]
     },
     "metadata": {
      "needs_background": "light"
     },
     "output_type": "display_data"
    }
   ],
   "source": [
    "# Seperation of features and the target variable in two different data frames\n",
    "features = wine_data_outliers.drop(columns=['quality', 'type'])\n",
    "target = wine_data_outliers.drop(columns=['type', 'fixed acidity', 'volatile acidity', 'citric acid', 'residual sugar', 'chlorides', 'free sulfur dioxide', 'total sulfur dioxide', 'density', 'pH', 'sulphates', 'alcohol'])\n",
    "target = target['quality'].ravel()\n",
    "\n",
    "# Train test split\n",
    "from sklearn.model_selection import train_test_split\n",
    "\n",
    "data_train, data_test, target_train, target_test = train_test_split(\n",
    "    features, target,test_size=0.2, random_state=42, stratify=target)\n",
    "\n",
    "# Oversampling\n",
    "from imblearn.over_sampling import SMOTE \n",
    "from collections import Counter\n",
    "\n",
    "data_train_smt = data_train.copy() # necessary? \n",
    "target_train_smt = target_train.copy() # necessary?\n",
    "\n",
    "smt = SMOTE(random_state=42)\n",
    "data_train, target_train = smt.fit_resample(data_train_smt, target_train_smt)\n",
    "\n",
    "# Create estimator and pipeline\n",
    "random_forest = RandomForestClassifier(random_state=0, max_depth = 11, n_estimators = 500, max_features=0.3, min_samples_leaf=3,\n",
    "    min_samples_split=8)\n",
    "pipeline_rf = Pipeline([('estimator', random_forest)])\n",
    "\n",
    "# Fit the model and predict the values for the train data\n",
    "pipeline_rf.fit(data_train, target_train)\n",
    "predictions_train_rf = pipeline_rf.predict(data_train)\n",
    "\n",
    "# Predict values for the test data\n",
    "predictions_test_rf = pipeline_rf.predict(data_test)\n",
    "\n",
    "from sklearn.metrics import f1_score\n",
    "\n",
    "# Makro F1-Score\n",
    "print(\"Makro F1-Score Train Data:\")\n",
    "f1_score_train_rf = f1_score(target_train, predictions_train_rf, average='macro')\n",
    "display(f1_score_train_rf)\n",
    "\n",
    "print(\"Makro F1-Score Test Data:\")\n",
    "f1_score_test_rf = f1_score(target_test, predictions_test_rf, average='macro')\n",
    "display(f1_score_test_rf)\n",
    "\n",
    "# Makro Precision Score\n",
    "from sklearn.metrics import precision_score\n",
    "print(\"Makro Precision Train Data:\")\n",
    "precision_train_rf = precision_score(target_train, predictions_train_rf, average='macro', zero_division = 0)\n",
    "display(precision_train_rf)\n",
    "\n",
    "print(\"Makro Precision Test Data:\")\n",
    "precision_test_rf = precision_score(target_test, predictions_test_rf, average='macro', zero_division = 0)\n",
    "display(precision_test_rf)\n",
    "\n",
    "# Makro Recall Score\n",
    "from sklearn.metrics import recall_score\n",
    "print(\"Makro Recall Train Data:\")\n",
    "recall_train_rf = recall_score(target_train, predictions_train_rf, average='macro')\n",
    "display(recall_train_rf)\n",
    "\n",
    "print(\"Makro Recall Test Data:\")\n",
    "recall_test_rf = recall_score(target_test, predictions_test_rf, average='macro')\n",
    "display(recall_test_rf)\n",
    "\n",
    "# Accuracy Score for the train data\n",
    "print(\"Accuracy Score Train Data:\")\n",
    "accuracy_score_train_rf = cross_val_score(random_forest, data_train, target_train, cv=5, scoring=\"accuracy\").mean()\n",
    "display(accuracy_score_train_rf)\n",
    "\n",
    "# Accuracy Score for the test data\n",
    "print(\"Accuracy Score Test Data:\")\n",
    "accuracy_score_test_rf = cross_val_score(random_forest, data_test, target_test, cv=5, scoring=\"accuracy\").mean()\n",
    "display(accuracy_score_test_rf)\n",
    "\n",
    "# Confusion Matrix for the training data\n",
    "cnf_matrix_train_rf = confusion_matrix(target_train, predictions_train_rf)\n",
    "np.set_printoptions(precision=2)\n",
    "print(\"Confusion Matrix Train Data:\")\n",
    "display(plot_confusion_matrix(cnf_matrix_train_rf, classes=np.array([0,1,2])))"
   ]
  },
  {
   "cell_type": "code",
   "execution_count": 56,
   "metadata": {},
   "outputs": [
    {
     "name": "stdout",
     "output_type": "stream",
     "text": [
      "Confusion Matrix Test Data:\n"
     ]
    },
    {
     "data": {
      "text/plain": [
       "None"
      ]
     },
     "metadata": {},
     "output_type": "display_data"
    },
    {
     "data": {
      "image/png": "[encoded data removed]",
      "text/plain": [
       "<Figure size 432x288 with 2 Axes>"
      ]
     },
     "metadata": {
      "needs_background": "light"
     },
     "output_type": "display_data"
    }
   ],
   "source": [
    "# Confusion Matrix for the test data\n",
    "cnf_matrix_test_rf = confusion_matrix(target_test, predictions_test_rf)\n",
    "np.set_printoptions(precision=2)\n",
    "print(\"Confusion Matrix Test Data:\")\n",
    "display(plot_confusion_matrix(cnf_matrix_test_rf, classes=np.array([0,1,2])))"
   ]
  },
  {
   "cell_type": "markdown",
   "metadata": {},
   "source": [
    "#### Feature Permutation: Model without ph, density and total sulfur dioxide"
   ]
  },
  {
   "cell_type": "code",
   "execution_count": 58,
   "metadata": {},
   "outputs": [
    {
     "name": "stdout",
     "output_type": "stream",
     "text": [
      "Makro F1-Score Train Data:\n"
     ]
    },
    {
     "data": {
      "text/plain": [
       "0.9223243867169595"
      ]
     },
     "metadata": {},
     "output_type": "display_data"
    },
    {
     "name": "stdout",
     "output_type": "stream",
     "text": [
      "Makro F1-Score Test Data:\n"
     ]
    },
    {
     "data": {
      "text/plain": [
       "0.6073639702421912"
      ]
     },
     "metadata": {},
     "output_type": "display_data"
    },
    {
     "name": "stdout",
     "output_type": "stream",
     "text": [
      "Makro Precision Train Data:\n"
     ]
    },
    {
     "data": {
      "text/plain": [
       "0.9241210298855252"
      ]
     },
     "metadata": {},
     "output_type": "display_data"
    },
    {
     "name": "stdout",
     "output_type": "stream",
     "text": [
      "Makro Precision Test Data:\n"
     ]
    },
    {
     "data": {
      "text/plain": [
       "0.5721087790994014"
      ]
     },
     "metadata": {},
     "output_type": "display_data"
    },
    {
     "name": "stdout",
     "output_type": "stream",
     "text": [
      "Makro Recall Train Data:\n"
     ]
    },
    {
     "data": {
      "text/plain": [
       "0.923109636812112"
      ]
     },
     "metadata": {},
     "output_type": "display_data"
    },
    {
     "name": "stdout",
     "output_type": "stream",
     "text": [
      "Makro Recall Test Data:\n"
     ]
    },
    {
     "data": {
      "text/plain": [
       "0.7080721512387567"
      ]
     },
     "metadata": {},
     "output_type": "display_data"
    },
    {
     "name": "stdout",
     "output_type": "stream",
     "text": [
      "Accuracy Score Train Data:\n"
     ]
    },
    {
     "data": {
      "text/plain": [
       "0.863061455973287"
      ]
     },
     "metadata": {},
     "output_type": "display_data"
    },
    {
     "name": "stdout",
     "output_type": "stream",
     "text": [
      "Accuracy Score Test Data:\n"
     ]
    },
    {
     "data": {
      "text/plain": [
       "0.8057605787937743"
      ]
     },
     "metadata": {},
     "output_type": "display_data"
    },
    {
     "name": "stdout",
     "output_type": "stream",
     "text": [
      "Confusion Matrix Train Data:\n"
     ]
    },
    {
     "data": {
      "text/plain": [
       "None"
      ]
     },
     "metadata": {},
     "output_type": "display_data"
    },
    {
     "data": {
      "image/png": "[encoded data removed]",
      "text/plain": [
       "<Figure size 432x288 with 2 Axes>"
      ]
     },
     "metadata": {
      "needs_background": "light"
     },
     "output_type": "display_data"
    }
   ],
   "source": [
    "# Seperation of features and the target variable in two different data frames\n",
    "features = wine_data_outliers.drop(columns=['quality', 'type', 'fixed acidity', 'pH', 'density'])\n",
    "target = wine_data_outliers.drop(columns=['type', 'fixed acidity', 'volatile acidity', 'citric acid', 'residual sugar', 'chlorides', 'free sulfur dioxide', 'total sulfur dioxide', 'density', 'pH', 'sulphates', 'alcohol'])\n",
    "target = target['quality'].ravel()\n",
    "\n",
    "# Train test split\n",
    "from sklearn.model_selection import train_test_split\n",
    "\n",
    "data_train, data_test, target_train, target_test = train_test_split(\n",
    "    features, target,test_size=0.2, random_state=42, stratify=target)\n",
    "\n",
    "# Oversampling\n",
    "from imblearn.over_sampling import SMOTE \n",
    "from collections import Counter\n",
    "\n",
    "data_train_smt = data_train.copy() # necessary? \n",
    "target_train_smt = target_train.copy() # necessary?\n",
    "\n",
    "smt = SMOTE(random_state=42)\n",
    "data_train, target_train = smt.fit_resample(data_train_smt, target_train_smt)\n",
    "\n",
    "# Create estimator and pipeline\n",
    "random_forest = RandomForestClassifier(random_state=0, max_depth = 11, n_estimators = 500, max_features=0.3, min_samples_leaf=3,\n",
    "    min_samples_split=8)\n",
    "pipeline_rf = Pipeline([('estimator', random_forest)])\n",
    "\n",
    "# Fit the model and predict the values for the train data\n",
    "pipeline_rf.fit(data_train, target_train)\n",
    "predictions_train_rf = pipeline_rf.predict(data_train)\n",
    "\n",
    "# Predict values for the test data\n",
    "predictions_test_rf = pipeline_rf.predict(data_test)\n",
    "\n",
    "from sklearn.metrics import f1_score\n",
    "\n",
    "# Makro F1-Score\n",
    "print(\"Makro F1-Score Train Data:\")\n",
    "f1_score_train_rf = f1_score(target_train, predictions_train_rf, average='macro')\n",
    "display(f1_score_train_rf)\n",
    "\n",
    "print(\"Makro F1-Score Test Data:\")\n",
    "f1_score_test_rf = f1_score(target_test, predictions_test_rf, average='macro')\n",
    "display(f1_score_test_rf)\n",
    "\n",
    "# Makro Precision Score\n",
    "from sklearn.metrics import precision_score\n",
    "print(\"Makro Precision Train Data:\")\n",
    "precision_train_rf = precision_score(target_train, predictions_train_rf, average='macro', zero_division = 0)\n",
    "display(precision_train_rf)\n",
    "\n",
    "print(\"Makro Precision Test Data:\")\n",
    "precision_test_rf = precision_score(target_test, predictions_test_rf, average='macro', zero_division = 0)\n",
    "display(precision_test_rf)\n",
    "\n",
    "# Makro Recall Score\n",
    "from sklearn.metrics import recall_score\n",
    "print(\"Makro Recall Train Data:\")\n",
    "recall_train_rf = recall_score(target_train, predictions_train_rf, average='macro')\n",
    "display(recall_train_rf)\n",
    "\n",
    "print(\"Makro Recall Test Data:\")\n",
    "recall_test_rf = recall_score(target_test, predictions_test_rf, average='macro')\n",
    "display(recall_test_rf)\n",
    "\n",
    "# Accuracy Score for the train data\n",
    "print(\"Accuracy Score Train Data:\")\n",
    "accuracy_score_train_rf = cross_val_score(random_forest, data_train, target_train, cv=5, scoring=\"accuracy\").mean()\n",
    "display(accuracy_score_train_rf)\n",
    "\n",
    "# Accuracy Score for the test data\n",
    "print(\"Accuracy Score Test Data:\")\n",
    "accuracy_score_test_rf = cross_val_score(random_forest, data_test, target_test, cv=5, scoring=\"accuracy\").mean()\n",
    "display(accuracy_score_test_rf)\n",
    "\n",
    "# Confusion Matrix for the training data\n",
    "cnf_matrix_train_rf = confusion_matrix(target_train, predictions_train_rf)\n",
    "np.set_printoptions(precision=2)\n",
    "print(\"Confusion Matrix Train Data:\")\n",
    "display(plot_confusion_matrix(cnf_matrix_train_rf, classes=np.array([0,1,2])))"
   ]
  },
  {
   "cell_type": "code",
   "execution_count": 59,
   "metadata": {},
   "outputs": [
    {
     "name": "stdout",
     "output_type": "stream",
     "text": [
      "Confusion Matrix Test Data:\n"
     ]
    },
    {
     "data": {
      "text/plain": [
       "None"
      ]
     },
     "metadata": {},
     "output_type": "display_data"
    },
    {
     "data": {
      "image/png": "[encoded data removed]",
      "text/plain": [
       "<Figure size 432x288 with 2 Axes>"
      ]
     },
     "metadata": {
      "needs_background": "light"
     },
     "output_type": "display_data"
    }
   ],
   "source": [
    "# Confusion Matrix for the test data\n",
    "cnf_matrix_test_rf = confusion_matrix(target_test, predictions_test_rf)\n",
    "np.set_printoptions(precision=2)\n",
    "print(\"Confusion Matrix Test Data:\")\n",
    "display(plot_confusion_matrix(cnf_matrix_test_rf, classes=np.array([0,1,2])))"
   ]
  },
  {
   "cell_type": "markdown",
   "metadata": {},
   "source": [
    "#### Feature Correlation: Model without fixed acidity, alcohol, type, residual sugar and density"
   ]
  },
  {
   "cell_type": "code",
   "execution_count": 60,
   "metadata": {},
   "outputs": [
    {
     "data": {
      "text/html": [
       "<div>\n",
       "<style scoped>\n",
       "    .dataframe tbody tr th:only-of-type {\n",
       "        vertical-align: middle;\n",
       "    }\n",
       "\n",
       "    .dataframe tbody tr th {\n",
       "        vertical-align: top;\n",
       "    }\n",
       "\n",
       "    .dataframe thead th {\n",
       "        text-align: right;\n",
       "    }\n",
       "</style>\n",
       "<table border=\"1\" class=\"dataframe\">\n",
       "  <thead>\n",
       "    <tr style=\"text-align: right;\">\n",
       "      <th></th>\n",
       "      <th>volatile acidity</th>\n",
       "      <th>citric acid</th>\n",
       "      <th>chlorides</th>\n",
       "      <th>free sulfur dioxide</th>\n",
       "      <th>total sulfur dioxide</th>\n",
       "      <th>pH</th>\n",
       "      <th>sulphates</th>\n",
       "    </tr>\n",
       "  </thead>\n",
       "  <tbody>\n",
       "    <tr>\n",
       "      <th>0</th>\n",
       "      <td>0.126667</td>\n",
       "      <td>0.216867</td>\n",
       "      <td>0.059801</td>\n",
       "      <td>0.152778</td>\n",
       "      <td>0.377880</td>\n",
       "      <td>0.217054</td>\n",
       "      <td>0.129213</td>\n",
       "    </tr>\n",
       "    <tr>\n",
       "      <th>1</th>\n",
       "      <td>0.146667</td>\n",
       "      <td>0.204819</td>\n",
       "      <td>0.066445</td>\n",
       "      <td>0.045139</td>\n",
       "      <td>0.290323</td>\n",
       "      <td>0.449612</td>\n",
       "      <td>0.151685</td>\n",
       "    </tr>\n",
       "    <tr>\n",
       "      <th>2</th>\n",
       "      <td>0.133333</td>\n",
       "      <td>0.240964</td>\n",
       "      <td>0.068106</td>\n",
       "      <td>0.100694</td>\n",
       "      <td>0.209677</td>\n",
       "      <td>0.418605</td>\n",
       "      <td>0.123596</td>\n",
       "    </tr>\n",
       "    <tr>\n",
       "      <th>3</th>\n",
       "      <td>0.100000</td>\n",
       "      <td>0.192771</td>\n",
       "      <td>0.081395</td>\n",
       "      <td>0.159722</td>\n",
       "      <td>0.414747</td>\n",
       "      <td>0.364341</td>\n",
       "      <td>0.101124</td>\n",
       "    </tr>\n",
       "    <tr>\n",
       "      <th>4</th>\n",
       "      <td>0.100000</td>\n",
       "      <td>0.192771</td>\n",
       "      <td>0.081395</td>\n",
       "      <td>0.159722</td>\n",
       "      <td>0.414747</td>\n",
       "      <td>0.364341</td>\n",
       "      <td>0.101124</td>\n",
       "    </tr>\n",
       "  </tbody>\n",
       "</table>\n",
       "</div>"
      ],
      "text/plain": [
       "   volatile acidity  citric acid  chlorides  free sulfur dioxide  \\\n",
       "0          0.126667     0.216867   0.059801             0.152778   \n",
       "1          0.146667     0.204819   0.066445             0.045139   \n",
       "2          0.133333     0.240964   0.068106             0.100694   \n",
       "3          0.100000     0.192771   0.081395             0.159722   \n",
       "4          0.100000     0.192771   0.081395             0.159722   \n",
       "\n",
       "   total sulfur dioxide        pH  sulphates  \n",
       "0              0.377880  0.217054   0.129213  \n",
       "1              0.290323  0.449612   0.151685  \n",
       "2              0.209677  0.418605   0.123596  \n",
       "3              0.414747  0.364341   0.101124  \n",
       "4              0.414747  0.364341   0.101124  "
      ]
     },
     "metadata": {},
     "output_type": "display_data"
    },
    {
     "name": "stdout",
     "output_type": "stream",
     "text": [
      "Makro F1-Score Train Data:\n"
     ]
    },
    {
     "data": {
      "text/plain": [
       "0.9073728816353824"
      ]
     },
     "metadata": {},
     "output_type": "display_data"
    },
    {
     "name": "stdout",
     "output_type": "stream",
     "text": [
      "Makro F1-Score Test Data:\n"
     ]
    },
    {
     "data": {
      "text/plain": [
       "0.5792151680448895"
      ]
     },
     "metadata": {},
     "output_type": "display_data"
    },
    {
     "name": "stdout",
     "output_type": "stream",
     "text": [
      "Makro Precision Train Data:\n"
     ]
    },
    {
     "data": {
      "text/plain": [
       "0.9098332454047456"
      ]
     },
     "metadata": {},
     "output_type": "display_data"
    },
    {
     "name": "stdout",
     "output_type": "stream",
     "text": [
      "Makro Precision Test Data:\n"
     ]
    },
    {
     "data": {
      "text/plain": [
       "0.5484952960674363"
      ]
     },
     "metadata": {},
     "output_type": "display_data"
    },
    {
     "name": "stdout",
     "output_type": "stream",
     "text": [
      "Makro Recall Train Data:\n"
     ]
    },
    {
     "data": {
      "text/plain": [
       "0.9084800544356554"
      ]
     },
     "metadata": {},
     "output_type": "display_data"
    },
    {
     "name": "stdout",
     "output_type": "stream",
     "text": [
      "Makro Recall Test Data:\n"
     ]
    },
    {
     "data": {
      "text/plain": [
       "0.7014237167260203"
      ]
     },
     "metadata": {},
     "output_type": "display_data"
    },
    {
     "name": "stdout",
     "output_type": "stream",
     "text": [
      "Accuracy Score Train Data:\n"
     ]
    },
    {
     "data": {
      "text/plain": [
       "0.8382254113895666"
      ]
     },
     "metadata": {},
     "output_type": "display_data"
    },
    {
     "name": "stdout",
     "output_type": "stream",
     "text": [
      "Accuracy Score Test Data:\n"
     ]
    },
    {
     "data": {
      "text/plain": [
       "0.785484557392996"
      ]
     },
     "metadata": {},
     "output_type": "display_data"
    },
    {
     "name": "stdout",
     "output_type": "stream",
     "text": [
      "Confusion Matrix Train Data:\n"
     ]
    },
    {
     "data": {
      "text/plain": [
       "None"
      ]
     },
     "metadata": {},
     "output_type": "display_data"
    },
    {
     "data": {
      "image/png": "[encoded data removed]",
      "text/plain": [
       "<Figure size 432x288 with 2 Axes>"
      ]
     },
     "metadata": {
      "needs_background": "light"
     },
     "output_type": "display_data"
    }
   ],
   "source": [
    "# Seperation of features and the target variable in two different data frames\n",
    "features = wine_data_outliers.drop(columns=['quality', 'type', 'fixed acidity', 'alcohol', 'density', 'residual sugar'])\n",
    "display(features.head())\n",
    "target = wine_data_outliers.drop(columns=['type', 'fixed acidity', 'volatile acidity', 'citric acid', 'residual sugar', 'chlorides', 'free sulfur dioxide', 'total sulfur dioxide', 'density', 'pH', 'sulphates', 'alcohol'])\n",
    "target = target['quality'].ravel()\n",
    "\n",
    "# Train test split\n",
    "from sklearn.model_selection import train_test_split\n",
    "\n",
    "data_train, data_test, target_train, target_test = train_test_split(\n",
    "    features, target,test_size=0.2, random_state=42, stratify=target)\n",
    "\n",
    "# Oversampling\n",
    "from imblearn.over_sampling import SMOTE \n",
    "from collections import Counter\n",
    "\n",
    "data_train_smt = data_train.copy() # necessary? \n",
    "target_train_smt = target_train.copy() # necessary?\n",
    "\n",
    "smt = SMOTE(random_state=42)\n",
    "data_train, target_train = smt.fit_resample(data_train_smt, target_train_smt)\n",
    "\n",
    "# Create estimator and pipeline\n",
    "random_forest = RandomForestClassifier(random_state=0, max_depth = 11, n_estimators = 500, max_features=0.3, min_samples_leaf=3,\n",
    "    min_samples_split=8)\n",
    "pipeline_rf = Pipeline([('estimator', random_forest)])\n",
    "\n",
    "# Fit the model and predict the values for the train data\n",
    "pipeline_rf.fit(data_train, target_train)\n",
    "predictions_train_rf = pipeline_rf.predict(data_train)\n",
    "\n",
    "# Predict values for the test data\n",
    "predictions_test_rf = pipeline_rf.predict(data_test)\n",
    "\n",
    "from sklearn.metrics import f1_score\n",
    "\n",
    "# Makro F1-Score\n",
    "print(\"Makro F1-Score Train Data:\")\n",
    "f1_score_train_rf = f1_score(target_train, predictions_train_rf, average='macro')\n",
    "display(f1_score_train_rf)\n",
    "\n",
    "print(\"Makro F1-Score Test Data:\")\n",
    "f1_score_test_rf = f1_score(target_test, predictions_test_rf, average='macro')\n",
    "display(f1_score_test_rf)\n",
    "\n",
    "# Makro Precision Score\n",
    "from sklearn.metrics import precision_score\n",
    "print(\"Makro Precision Train Data:\")\n",
    "precision_train_rf = precision_score(target_train, predictions_train_rf, average='macro', zero_division = 0)\n",
    "display(precision_train_rf)\n",
    "\n",
    "print(\"Makro Precision Test Data:\")\n",
    "precision_test_rf = precision_score(target_test, predictions_test_rf, average='macro', zero_division = 0)\n",
    "display(precision_test_rf)\n",
    "\n",
    "# Makro Recall Score\n",
    "from sklearn.metrics import recall_score\n",
    "print(\"Makro Recall Train Data:\")\n",
    "recall_train_rf = recall_score(target_train, predictions_train_rf, average='macro')\n",
    "display(recall_train_rf)\n",
    "\n",
    "print(\"Makro Recall Test Data:\")\n",
    "recall_test_rf = recall_score(target_test, predictions_test_rf, average='macro')\n",
    "display(recall_test_rf)\n",
    "\n",
    "# Accuracy Score for the train data\n",
    "print(\"Accuracy Score Train Data:\")\n",
    "accuracy_score_train_rf = cross_val_score(random_forest, data_train, target_train, cv=5, scoring=\"accuracy\").mean()\n",
    "display(accuracy_score_train_rf)\n",
    "\n",
    "# Accuracy Score for the test data\n",
    "print(\"Accuracy Score Test Data:\")\n",
    "accuracy_score_test_rf = cross_val_score(random_forest, data_test, target_test, cv=5, scoring=\"accuracy\").mean()\n",
    "display(accuracy_score_test_rf)\n",
    "\n",
    "# Confusion Matrix for the training data\n",
    "cnf_matrix_train_rf = confusion_matrix(target_train, predictions_train_rf)\n",
    "np.set_printoptions(precision=2)\n",
    "print(\"Confusion Matrix Train Data:\")\n",
    "display(plot_confusion_matrix(cnf_matrix_train_rf, classes=np.array([0,1,2])))"
   ]
  },
  {
   "cell_type": "code",
   "execution_count": 61,
   "metadata": {},
   "outputs": [
    {
     "name": "stdout",
     "output_type": "stream",
     "text": [
      "Confusion Matrix Test Data:\n"
     ]
    },
    {
     "data": {
      "text/plain": [
       "None"
      ]
     },
     "metadata": {},
     "output_type": "display_data"
    },
    {
     "data": {
      "image/png": "[encoded data removed]",
      "text/plain": [
       "<Figure size 432x288 with 2 Axes>"
      ]
     },
     "metadata": {
      "needs_background": "light"
     },
     "output_type": "display_data"
    }
   ],
   "source": [
    "# Confusion Matrix for the test data\n",
    "cnf_matrix_test_rf = confusion_matrix(target_test, predictions_test_rf)\n",
    "np.set_printoptions(precision=2)\n",
    "print(\"Confusion Matrix Test Data:\")\n",
    "display(plot_confusion_matrix(cnf_matrix_test_rf, classes=np.array([0,1,2])))"
   ]
  },
  {
   "cell_type": "markdown",
   "metadata": {},
   "source": [
    "### Reducing Test Data\n",
    "On the basis of the model with the hypertuning of the parameters, oversampling and without outliers."
   ]
  },
  {
   "cell_type": "code",
   "execution_count": 62,
   "metadata": {},
   "outputs": [
    {
     "data": {
      "text/html": [
       "<div>\n",
       "<style scoped>\n",
       "    .dataframe tbody tr th:only-of-type {\n",
       "        vertical-align: middle;\n",
       "    }\n",
       "\n",
       "    .dataframe tbody tr th {\n",
       "        vertical-align: top;\n",
       "    }\n",
       "\n",
       "    .dataframe thead th {\n",
       "        text-align: right;\n",
       "    }\n",
       "</style>\n",
       "<table border=\"1\" class=\"dataframe\">\n",
       "  <thead>\n",
       "    <tr style=\"text-align: right;\">\n",
       "      <th></th>\n",
       "      <th>type</th>\n",
       "      <th>fixed acidity</th>\n",
       "      <th>volatile acidity</th>\n",
       "      <th>citric acid</th>\n",
       "      <th>residual sugar</th>\n",
       "      <th>chlorides</th>\n",
       "      <th>free sulfur dioxide</th>\n",
       "      <th>total sulfur dioxide</th>\n",
       "      <th>density</th>\n",
       "      <th>pH</th>\n",
       "      <th>sulphates</th>\n",
       "      <th>alcohol</th>\n",
       "    </tr>\n",
       "  </thead>\n",
       "  <tbody>\n",
       "    <tr>\n",
       "      <th>0</th>\n",
       "      <td>1.0</td>\n",
       "      <td>0.264463</td>\n",
       "      <td>0.126667</td>\n",
       "      <td>0.216867</td>\n",
       "      <td>0.308282</td>\n",
       "      <td>0.059801</td>\n",
       "      <td>0.152778</td>\n",
       "      <td>0.377880</td>\n",
       "      <td>0.267785</td>\n",
       "      <td>0.217054</td>\n",
       "      <td>0.129213</td>\n",
       "      <td>0.115942</td>\n",
       "    </tr>\n",
       "    <tr>\n",
       "      <th>1</th>\n",
       "      <td>1.0</td>\n",
       "      <td>0.206612</td>\n",
       "      <td>0.146667</td>\n",
       "      <td>0.204819</td>\n",
       "      <td>0.015337</td>\n",
       "      <td>0.066445</td>\n",
       "      <td>0.045139</td>\n",
       "      <td>0.290323</td>\n",
       "      <td>0.132832</td>\n",
       "      <td>0.449612</td>\n",
       "      <td>0.151685</td>\n",
       "      <td>0.217391</td>\n",
       "    </tr>\n",
       "    <tr>\n",
       "      <th>2</th>\n",
       "      <td>1.0</td>\n",
       "      <td>0.355372</td>\n",
       "      <td>0.133333</td>\n",
       "      <td>0.240964</td>\n",
       "      <td>0.096626</td>\n",
       "      <td>0.068106</td>\n",
       "      <td>0.100694</td>\n",
       "      <td>0.209677</td>\n",
       "      <td>0.154039</td>\n",
       "      <td>0.418605</td>\n",
       "      <td>0.123596</td>\n",
       "      <td>0.304348</td>\n",
       "    </tr>\n",
       "    <tr>\n",
       "      <th>3</th>\n",
       "      <td>1.0</td>\n",
       "      <td>0.280992</td>\n",
       "      <td>0.100000</td>\n",
       "      <td>0.192771</td>\n",
       "      <td>0.121166</td>\n",
       "      <td>0.081395</td>\n",
       "      <td>0.159722</td>\n",
       "      <td>0.414747</td>\n",
       "      <td>0.163678</td>\n",
       "      <td>0.364341</td>\n",
       "      <td>0.101124</td>\n",
       "      <td>0.275362</td>\n",
       "    </tr>\n",
       "    <tr>\n",
       "      <th>4</th>\n",
       "      <td>1.0</td>\n",
       "      <td>0.280992</td>\n",
       "      <td>0.100000</td>\n",
       "      <td>0.192771</td>\n",
       "      <td>0.121166</td>\n",
       "      <td>0.081395</td>\n",
       "      <td>0.159722</td>\n",
       "      <td>0.414747</td>\n",
       "      <td>0.163678</td>\n",
       "      <td>0.364341</td>\n",
       "      <td>0.101124</td>\n",
       "      <td>0.275362</td>\n",
       "    </tr>\n",
       "  </tbody>\n",
       "</table>\n",
       "</div>"
      ],
      "text/plain": [
       "   type  fixed acidity  volatile acidity  citric acid  residual sugar  \\\n",
       "0   1.0       0.264463          0.126667     0.216867        0.308282   \n",
       "1   1.0       0.206612          0.146667     0.204819        0.015337   \n",
       "2   1.0       0.355372          0.133333     0.240964        0.096626   \n",
       "3   1.0       0.280992          0.100000     0.192771        0.121166   \n",
       "4   1.0       0.280992          0.100000     0.192771        0.121166   \n",
       "\n",
       "   chlorides  free sulfur dioxide  total sulfur dioxide   density        pH  \\\n",
       "0   0.059801             0.152778              0.377880  0.267785  0.217054   \n",
       "1   0.066445             0.045139              0.290323  0.132832  0.449612   \n",
       "2   0.068106             0.100694              0.209677  0.154039  0.418605   \n",
       "3   0.081395             0.159722              0.414747  0.163678  0.364341   \n",
       "4   0.081395             0.159722              0.414747  0.163678  0.364341   \n",
       "\n",
       "   sulphates   alcohol  \n",
       "0   0.129213  0.115942  \n",
       "1   0.151685  0.217391  \n",
       "2   0.123596  0.304348  \n",
       "3   0.101124  0.275362  \n",
       "4   0.101124  0.275362  "
      ]
     },
     "metadata": {},
     "output_type": "display_data"
    },
    {
     "name": "stdout",
     "output_type": "stream",
     "text": [
      "Makro F1-Score Train Data:\n"
     ]
    },
    {
     "data": {
      "text/plain": [
       "0.9342069078082362"
      ]
     },
     "metadata": {},
     "output_type": "display_data"
    },
    {
     "name": "stdout",
     "output_type": "stream",
     "text": [
      "Makro F1-Score Test Data:\n"
     ]
    },
    {
     "data": {
      "text/plain": [
       "0.6174281826863953"
      ]
     },
     "metadata": {},
     "output_type": "display_data"
    },
    {
     "name": "stdout",
     "output_type": "stream",
     "text": [
      "Makro Precision Train Data:\n"
     ]
    },
    {
     "data": {
      "text/plain": [
       "0.9354649505731295"
      ]
     },
     "metadata": {},
     "output_type": "display_data"
    },
    {
     "name": "stdout",
     "output_type": "stream",
     "text": [
      "Makro Precision Test Data:\n"
     ]
    },
    {
     "data": {
      "text/plain": [
       "0.5799569101118949"
      ]
     },
     "metadata": {},
     "output_type": "display_data"
    },
    {
     "name": "stdout",
     "output_type": "stream",
     "text": [
      "Makro Recall Train Data:\n"
     ]
    },
    {
     "data": {
      "text/plain": [
       "0.9347739095638254"
      ]
     },
     "metadata": {},
     "output_type": "display_data"
    },
    {
     "name": "stdout",
     "output_type": "stream",
     "text": [
      "Makro Recall Test Data:\n"
     ]
    },
    {
     "data": {
      "text/plain": [
       "0.7242789513466206"
      ]
     },
     "metadata": {},
     "output_type": "display_data"
    },
    {
     "name": "stdout",
     "output_type": "stream",
     "text": [
      "Accuracy Score Train Data:\n"
     ]
    },
    {
     "data": {
      "text/plain": [
       "0.8723489395758304"
      ]
     },
     "metadata": {},
     "output_type": "display_data"
    },
    {
     "name": "stdout",
     "output_type": "stream",
     "text": [
      "Accuracy Score Test Data:\n"
     ]
    },
    {
     "data": {
      "text/plain": [
       "0.8002158894645941"
      ]
     },
     "metadata": {},
     "output_type": "display_data"
    },
    {
     "name": "stdout",
     "output_type": "stream",
     "text": [
      "Confusion Matrix Train Data:\n"
     ]
    },
    {
     "data": {
      "text/plain": [
       "None"
      ]
     },
     "metadata": {},
     "output_type": "display_data"
    },
    {
     "data": {
      "image/png": "[encoded data removed]",
      "text/plain": [
       "<Figure size 432x288 with 2 Axes>"
      ]
     },
     "metadata": {
      "needs_background": "light"
     },
     "output_type": "display_data"
    }
   ],
   "source": [
    "# Seperation of features and the target variable in two different data frames\n",
    "features = wine_data_outliers.drop(columns=['quality'])\n",
    "display(features.head())\n",
    "target = wine_data_outliers.drop(columns=['type', 'fixed acidity', 'volatile acidity', 'citric acid', 'residual sugar', 'chlorides', 'free sulfur dioxide', 'total sulfur dioxide', 'density', 'pH', 'sulphates', 'alcohol'])\n",
    "target = target['quality'].ravel()\n",
    "\n",
    "# Train test split\n",
    "from sklearn.model_selection import train_test_split\n",
    "\n",
    "data_train, data_test, target_train, target_test = train_test_split(\n",
    "    features, target,test_size=0.15, random_state=42, stratify=target)\n",
    "\n",
    "# Oversampling\n",
    "from imblearn.over_sampling import SMOTE \n",
    "from collections import Counter\n",
    "\n",
    "data_train_smt = data_train.copy() \n",
    "target_train_smt = target_train.copy()\n",
    "\n",
    "smt = SMOTE(random_state=42)\n",
    "data_train, target_train = smt.fit_resample(data_train_smt, target_train_smt)\n",
    "\n",
    "# Create estimator and pipeline\n",
    "random_forest = RandomForestClassifier(random_state=0, max_depth = 11, n_estimators = 500, max_features=0.3, min_samples_leaf=3,\n",
    "    min_samples_split=8)\n",
    "pipeline_rf = Pipeline([('estimator', random_forest)])\n",
    "\n",
    "# Fit the model and predict the values for the train data\n",
    "pipeline_rf.fit(data_train, target_train)\n",
    "predictions_train_rf = pipeline_rf.predict(data_train)\n",
    "\n",
    "# Predict values for the test data\n",
    "predictions_test_rf = pipeline_rf.predict(data_test)\n",
    "\n",
    "from sklearn.metrics import f1_score\n",
    "\n",
    "# Makro F1-Score\n",
    "print(\"Makro F1-Score Train Data:\")\n",
    "f1_score_train_rf = f1_score(target_train, predictions_train_rf, average='macro')\n",
    "display(f1_score_train_rf)\n",
    "\n",
    "print(\"Makro F1-Score Test Data:\")\n",
    "f1_score_test_rf = f1_score(target_test, predictions_test_rf, average='macro')\n",
    "display(f1_score_test_rf)\n",
    "\n",
    "# Makro Precision Score\n",
    "from sklearn.metrics import precision_score\n",
    "print(\"Makro Precision Train Data:\")\n",
    "precision_train_rf = precision_score(target_train, predictions_train_rf, average='macro', zero_division = 0)\n",
    "display(precision_train_rf)\n",
    "\n",
    "print(\"Makro Precision Test Data:\")\n",
    "precision_test_rf = precision_score(target_test, predictions_test_rf, average='macro', zero_division = 0)\n",
    "display(precision_test_rf)\n",
    "\n",
    "# Makro Recall Score\n",
    "from sklearn.metrics import recall_score\n",
    "print(\"Makro Recall Train Data:\")\n",
    "recall_train_rf = recall_score(target_train, predictions_train_rf, average='macro')\n",
    "display(recall_train_rf)\n",
    "\n",
    "print(\"Makro Recall Test Data:\")\n",
    "recall_test_rf = recall_score(target_test, predictions_test_rf, average='macro')\n",
    "display(recall_test_rf)\n",
    "\n",
    "# Accuracy Score for the train data\n",
    "print(\"Accuracy Score Train Data:\")\n",
    "accuracy_score_train_rf = cross_val_score(random_forest, data_train, target_train, cv=5, scoring=\"accuracy\").mean()\n",
    "display(accuracy_score_train_rf)\n",
    "\n",
    "# Accuracy Score for the test data\n",
    "print(\"Accuracy Score Test Data:\")\n",
    "accuracy_score_test_rf = cross_val_score(random_forest, data_test, target_test, cv=5, scoring=\"accuracy\").mean()\n",
    "display(accuracy_score_test_rf)\n",
    "\n",
    "# Confusion Matrix for the training data\n",
    "cnf_matrix_train_rf = confusion_matrix(target_train, predictions_train_rf)\n",
    "np.set_printoptions(precision=2)\n",
    "print(\"Confusion Matrix Train Data:\")\n",
    "display(plot_confusion_matrix(cnf_matrix_train_rf, classes=np.array([0,1,2])))"
   ]
  },
  {
   "cell_type": "code",
   "execution_count": 63,
   "metadata": {},
   "outputs": [
    {
     "name": "stdout",
     "output_type": "stream",
     "text": [
      "Confusion Matrix Test Data:\n"
     ]
    },
    {
     "data": {
      "text/plain": [
       "None"
      ]
     },
     "metadata": {},
     "output_type": "display_data"
    },
    {
     "data": {
      "image/png": "[encoded data removed]",
      "text/plain": [
       "<Figure size 432x288 with 2 Axes>"
      ]
     },
     "metadata": {
      "needs_background": "light"
     },
     "output_type": "display_data"
    }
   ],
   "source": [
    "# Confusion Matrix for the test data\n",
    "cnf_matrix_test_rf = confusion_matrix(target_test, predictions_test_rf)\n",
    "np.set_printoptions(precision=2)\n",
    "print(\"Confusion Matrix Test Data:\")\n",
    "display(plot_confusion_matrix(cnf_matrix_test_rf, classes=np.array([0,1,2])))"
   ]
  },
  {
   "cell_type": "code",
   "execution_count": null,
   "metadata": {},
   "outputs": [],
   "source": []
  }
 ],
 "metadata": {
  "colab": {
   "name": "Wine_Quality_Prediction.ipynb",
   "provenance": []
  },
  "kernelspec": {
   "display_name": "Python 3",
   "language": "python",
   "name": "python3"
  },
  "language_info": {
   "codemirror_mode": {
    "name": "ipython",
    "version": 3
   },
   "file_extension": ".py",
   "mimetype": "text/x-python",
   "name": "python",
   "nbconvert_exporter": "python",
   "pygments_lexer": "ipython3",
   "version": "3.8.8"
  }
 },
 "nbformat": 4,
 "nbformat_minor": 1
}
