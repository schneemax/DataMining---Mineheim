{
 "cells": [
  {
   "cell_type": "markdown",
   "metadata": {
    "id": "GK7TLvAVjfUZ"
   },
   "source": [
    "# University of Mannheim\n",
    "## Data Mining I -- Group Project\n",
    "### Wine Quality Prediction\n",
    "#### Team members:\n",
    "* Anna-Lena Blinken\n",
    "* Max Darmstadt\n",
    "* Nicolas Hautschek\n",
    "* Erik Penther\n",
    "* Nicolas Fürhaupter"
   ]
  },
  {
   "cell_type": "markdown",
   "metadata": {
    "id": "1zQB_uITj-7f"
   },
   "source": [
    "## Importing Libraries and Data"
   ]
  },
  {
   "cell_type": "code",
   "execution_count": 1,
   "metadata": {
    "colab": {
     "base_uri": "https://localhost:8080/"
    },
    "id": "gsbH9QBLkHDX",
    "outputId": "d8c0d3a1-fec4-4a7a-cdaf-010429f18225"
   },
   "outputs": [],
   "source": [
    "#from google.colab import drive\n",
    "#drive.mount('/gdrive')\n",
    "#%cd /gdrive"
   ]
  },
  {
   "cell_type": "code",
   "execution_count": 2,
   "metadata": {
    "id": "hvggVH9Pj-PA"
   },
   "outputs": [],
   "source": [
    "# Import libraries\n",
    "\n",
    "# General libraries\n",
    "import pandas as pd\n",
    "import numpy as np\n",
    "import matplotlib.pyplot as plt\n",
    "import seaborn as sns\n",
    "from sklearn import preprocessing\n",
    "\n",
    "# Libraries for the preprocessing\n",
    "from sklearn.model_selection import train_test_split\n",
    "from sklearn.impute import SimpleImputer\n",
    "\n",
    "# Liraries for the model creation\n",
    "from sklearn.ensemble import RandomForestClassifier\n",
    "from sklearn.pipeline import Pipeline\n",
    "\n",
    "# Libraries for the evaluation\n",
    "from sklearn.model_selection import cross_val_score\n",
    "from sklearn.metrics import f1_score, precision_score, recall_score, confusion_matrix\n",
    "import itertools\n",
    "\n",
    "# Libraries for the model adaption\n",
    "from sklearn.model_selection import StratifiedKFold, GridSearchCV\n",
    "from imblearn.over_sampling import SMOTE \n",
    "from collections import Counter\n",
    "from sklearn.inspection import permutation_importance\n",
    "from patsy import dmatrices\n",
    "from statsmodels.stats.outliers_influence import variance_inflation_factor\n",
    "from sklearn.preprocessing import StandardScaler\n",
    "from math import sqrt"
   ]
  },
  {
   "cell_type": "code",
   "execution_count": 3,
   "metadata": {
    "colab": {
     "base_uri": "https://localhost:8080/",
     "height": 204
    },
    "id": "UJRTrgfzn6Km",
    "outputId": "88a8a855-6b22-4498-d107-4044d41ef2d7"
   },
   "outputs": [
    {
     "data": {
      "text/html": [
       "<div>\n",
       "<style scoped>\n",
       "    .dataframe tbody tr th:only-of-type {\n",
       "        vertical-align: middle;\n",
       "    }\n",
       "\n",
       "    .dataframe tbody tr th {\n",
       "        vertical-align: top;\n",
       "    }\n",
       "\n",
       "    .dataframe thead th {\n",
       "        text-align: right;\n",
       "    }\n",
       "</style>\n",
       "<table border=\"1\" class=\"dataframe\">\n",
       "  <thead>\n",
       "    <tr style=\"text-align: right;\">\n",
       "      <th></th>\n",
       "      <th>type</th>\n",
       "      <th>fixed acidity</th>\n",
       "      <th>volatile acidity</th>\n",
       "      <th>citric acid</th>\n",
       "      <th>residual sugar</th>\n",
       "      <th>chlorides</th>\n",
       "      <th>free sulfur dioxide</th>\n",
       "      <th>total sulfur dioxide</th>\n",
       "      <th>density</th>\n",
       "      <th>pH</th>\n",
       "      <th>sulphates</th>\n",
       "      <th>alcohol</th>\n",
       "      <th>quality</th>\n",
       "    </tr>\n",
       "  </thead>\n",
       "  <tbody>\n",
       "    <tr>\n",
       "      <th>0</th>\n",
       "      <td>white</td>\n",
       "      <td>7.0</td>\n",
       "      <td>0.27</td>\n",
       "      <td>0.36</td>\n",
       "      <td>20.7</td>\n",
       "      <td>0.045</td>\n",
       "      <td>45.0</td>\n",
       "      <td>170.0</td>\n",
       "      <td>1.0010</td>\n",
       "      <td>3.00</td>\n",
       "      <td>0.45</td>\n",
       "      <td>8.8</td>\n",
       "      <td>6</td>\n",
       "    </tr>\n",
       "    <tr>\n",
       "      <th>1</th>\n",
       "      <td>white</td>\n",
       "      <td>6.3</td>\n",
       "      <td>0.30</td>\n",
       "      <td>0.34</td>\n",
       "      <td>1.6</td>\n",
       "      <td>0.049</td>\n",
       "      <td>14.0</td>\n",
       "      <td>132.0</td>\n",
       "      <td>0.9940</td>\n",
       "      <td>3.30</td>\n",
       "      <td>0.49</td>\n",
       "      <td>9.5</td>\n",
       "      <td>6</td>\n",
       "    </tr>\n",
       "    <tr>\n",
       "      <th>2</th>\n",
       "      <td>white</td>\n",
       "      <td>8.1</td>\n",
       "      <td>0.28</td>\n",
       "      <td>0.40</td>\n",
       "      <td>6.9</td>\n",
       "      <td>0.050</td>\n",
       "      <td>30.0</td>\n",
       "      <td>97.0</td>\n",
       "      <td>0.9951</td>\n",
       "      <td>3.26</td>\n",
       "      <td>0.44</td>\n",
       "      <td>10.1</td>\n",
       "      <td>6</td>\n",
       "    </tr>\n",
       "    <tr>\n",
       "      <th>3</th>\n",
       "      <td>white</td>\n",
       "      <td>7.2</td>\n",
       "      <td>0.23</td>\n",
       "      <td>0.32</td>\n",
       "      <td>8.5</td>\n",
       "      <td>0.058</td>\n",
       "      <td>47.0</td>\n",
       "      <td>186.0</td>\n",
       "      <td>0.9956</td>\n",
       "      <td>3.19</td>\n",
       "      <td>0.40</td>\n",
       "      <td>9.9</td>\n",
       "      <td>6</td>\n",
       "    </tr>\n",
       "    <tr>\n",
       "      <th>4</th>\n",
       "      <td>white</td>\n",
       "      <td>7.2</td>\n",
       "      <td>0.23</td>\n",
       "      <td>0.32</td>\n",
       "      <td>8.5</td>\n",
       "      <td>0.058</td>\n",
       "      <td>47.0</td>\n",
       "      <td>186.0</td>\n",
       "      <td>0.9956</td>\n",
       "      <td>3.19</td>\n",
       "      <td>0.40</td>\n",
       "      <td>9.9</td>\n",
       "      <td>6</td>\n",
       "    </tr>\n",
       "  </tbody>\n",
       "</table>\n",
       "</div>"
      ],
      "text/plain": [
       "    type  fixed acidity  volatile acidity  citric acid  residual sugar  \\\n",
       "0  white            7.0              0.27         0.36            20.7   \n",
       "1  white            6.3              0.30         0.34             1.6   \n",
       "2  white            8.1              0.28         0.40             6.9   \n",
       "3  white            7.2              0.23         0.32             8.5   \n",
       "4  white            7.2              0.23         0.32             8.5   \n",
       "\n",
       "   chlorides  free sulfur dioxide  total sulfur dioxide  density    pH  \\\n",
       "0      0.045                 45.0                 170.0   1.0010  3.00   \n",
       "1      0.049                 14.0                 132.0   0.9940  3.30   \n",
       "2      0.050                 30.0                  97.0   0.9951  3.26   \n",
       "3      0.058                 47.0                 186.0   0.9956  3.19   \n",
       "4      0.058                 47.0                 186.0   0.9956  3.19   \n",
       "\n",
       "   sulphates  alcohol  quality  \n",
       "0       0.45      8.8        6  \n",
       "1       0.49      9.5        6  \n",
       "2       0.44     10.1        6  \n",
       "3       0.40      9.9        6  \n",
       "4       0.40      9.9        6  "
      ]
     },
     "execution_count": 3,
     "metadata": {},
     "output_type": "execute_result"
    }
   ],
   "source": [
    "# Import wine data\n",
    "\n",
    "wine_data = pd.read_csv('../winequalityN.csv')\n",
    "wine_data.head()"
   ]
  },
  {
   "cell_type": "markdown",
   "metadata": {
    "id": "CuM5oEGmKSuW"
   },
   "source": [
    "## Visualize and Analyse Data"
   ]
  },
  {
   "cell_type": "code",
   "execution_count": 4,
   "metadata": {
    "colab": {
     "base_uri": "https://localhost:8080/"
    },
    "id": "nENObjUBjeya",
    "outputId": "121e0e52-176a-43a0-829b-dcb59454c21e",
    "scrolled": true
   },
   "outputs": [
    {
     "name": "stdout",
     "output_type": "stream",
     "text": [
      "<class 'pandas.core.frame.DataFrame'>\n",
      "RangeIndex: 6497 entries, 0 to 6496\n",
      "Data columns (total 13 columns):\n",
      " #   Column                Non-Null Count  Dtype  \n",
      "---  ------                --------------  -----  \n",
      " 0   type                  6497 non-null   object \n",
      " 1   fixed acidity         6487 non-null   float64\n",
      " 2   volatile acidity      6489 non-null   float64\n",
      " 3   citric acid           6494 non-null   float64\n",
      " 4   residual sugar        6495 non-null   float64\n",
      " 5   chlorides             6495 non-null   float64\n",
      " 6   free sulfur dioxide   6497 non-null   float64\n",
      " 7   total sulfur dioxide  6497 non-null   float64\n",
      " 8   density               6497 non-null   float64\n",
      " 9   pH                    6488 non-null   float64\n",
      " 10  sulphates             6493 non-null   float64\n",
      " 11  alcohol               6497 non-null   float64\n",
      " 12  quality               6497 non-null   int64  \n",
      "dtypes: float64(11), int64(1), object(1)\n",
      "memory usage: 660.0+ KB\n"
     ]
    }
   ],
   "source": [
    "# Print wine data info\n",
    "\n",
    "wine_data.info()"
   ]
  },
  {
   "cell_type": "code",
   "execution_count": 5,
   "metadata": {},
   "outputs": [
    {
     "data": {
      "text/html": [
       "<div>\n",
       "<style scoped>\n",
       "    .dataframe tbody tr th:only-of-type {\n",
       "        vertical-align: middle;\n",
       "    }\n",
       "\n",
       "    .dataframe tbody tr th {\n",
       "        vertical-align: top;\n",
       "    }\n",
       "\n",
       "    .dataframe thead th {\n",
       "        text-align: right;\n",
       "    }\n",
       "</style>\n",
       "<table border=\"1\" class=\"dataframe\">\n",
       "  <thead>\n",
       "    <tr style=\"text-align: right;\">\n",
       "      <th></th>\n",
       "      <th>fixed acidity</th>\n",
       "      <th>volatile acidity</th>\n",
       "      <th>citric acid</th>\n",
       "      <th>residual sugar</th>\n",
       "      <th>chlorides</th>\n",
       "      <th>free sulfur dioxide</th>\n",
       "      <th>total sulfur dioxide</th>\n",
       "      <th>density</th>\n",
       "      <th>pH</th>\n",
       "      <th>sulphates</th>\n",
       "      <th>alcohol</th>\n",
       "      <th>quality</th>\n",
       "    </tr>\n",
       "  </thead>\n",
       "  <tbody>\n",
       "    <tr>\n",
       "      <th>count</th>\n",
       "      <td>6487.000000</td>\n",
       "      <td>6489.000000</td>\n",
       "      <td>6494.000000</td>\n",
       "      <td>6495.000000</td>\n",
       "      <td>6495.000000</td>\n",
       "      <td>6497.000000</td>\n",
       "      <td>6497.000000</td>\n",
       "      <td>6497.000000</td>\n",
       "      <td>6488.000000</td>\n",
       "      <td>6493.000000</td>\n",
       "      <td>6497.000000</td>\n",
       "      <td>6497.000000</td>\n",
       "    </tr>\n",
       "    <tr>\n",
       "      <th>mean</th>\n",
       "      <td>7.216579</td>\n",
       "      <td>0.339691</td>\n",
       "      <td>0.318722</td>\n",
       "      <td>5.444326</td>\n",
       "      <td>0.056042</td>\n",
       "      <td>30.525319</td>\n",
       "      <td>115.744574</td>\n",
       "      <td>0.994697</td>\n",
       "      <td>3.218395</td>\n",
       "      <td>0.531215</td>\n",
       "      <td>10.491801</td>\n",
       "      <td>5.818378</td>\n",
       "    </tr>\n",
       "    <tr>\n",
       "      <th>std</th>\n",
       "      <td>1.296750</td>\n",
       "      <td>0.164649</td>\n",
       "      <td>0.145265</td>\n",
       "      <td>4.758125</td>\n",
       "      <td>0.035036</td>\n",
       "      <td>17.749400</td>\n",
       "      <td>56.521855</td>\n",
       "      <td>0.002999</td>\n",
       "      <td>0.160748</td>\n",
       "      <td>0.148814</td>\n",
       "      <td>1.192712</td>\n",
       "      <td>0.873255</td>\n",
       "    </tr>\n",
       "    <tr>\n",
       "      <th>min</th>\n",
       "      <td>3.800000</td>\n",
       "      <td>0.080000</td>\n",
       "      <td>0.000000</td>\n",
       "      <td>0.600000</td>\n",
       "      <td>0.009000</td>\n",
       "      <td>1.000000</td>\n",
       "      <td>6.000000</td>\n",
       "      <td>0.987110</td>\n",
       "      <td>2.720000</td>\n",
       "      <td>0.220000</td>\n",
       "      <td>8.000000</td>\n",
       "      <td>3.000000</td>\n",
       "    </tr>\n",
       "    <tr>\n",
       "      <th>25%</th>\n",
       "      <td>6.400000</td>\n",
       "      <td>0.230000</td>\n",
       "      <td>0.250000</td>\n",
       "      <td>1.800000</td>\n",
       "      <td>0.038000</td>\n",
       "      <td>17.000000</td>\n",
       "      <td>77.000000</td>\n",
       "      <td>0.992340</td>\n",
       "      <td>3.110000</td>\n",
       "      <td>0.430000</td>\n",
       "      <td>9.500000</td>\n",
       "      <td>5.000000</td>\n",
       "    </tr>\n",
       "    <tr>\n",
       "      <th>50%</th>\n",
       "      <td>7.000000</td>\n",
       "      <td>0.290000</td>\n",
       "      <td>0.310000</td>\n",
       "      <td>3.000000</td>\n",
       "      <td>0.047000</td>\n",
       "      <td>29.000000</td>\n",
       "      <td>118.000000</td>\n",
       "      <td>0.994890</td>\n",
       "      <td>3.210000</td>\n",
       "      <td>0.510000</td>\n",
       "      <td>10.300000</td>\n",
       "      <td>6.000000</td>\n",
       "    </tr>\n",
       "    <tr>\n",
       "      <th>75%</th>\n",
       "      <td>7.700000</td>\n",
       "      <td>0.400000</td>\n",
       "      <td>0.390000</td>\n",
       "      <td>8.100000</td>\n",
       "      <td>0.065000</td>\n",
       "      <td>41.000000</td>\n",
       "      <td>156.000000</td>\n",
       "      <td>0.996990</td>\n",
       "      <td>3.320000</td>\n",
       "      <td>0.600000</td>\n",
       "      <td>11.300000</td>\n",
       "      <td>6.000000</td>\n",
       "    </tr>\n",
       "    <tr>\n",
       "      <th>max</th>\n",
       "      <td>15.900000</td>\n",
       "      <td>1.580000</td>\n",
       "      <td>1.660000</td>\n",
       "      <td>65.800000</td>\n",
       "      <td>0.611000</td>\n",
       "      <td>289.000000</td>\n",
       "      <td>440.000000</td>\n",
       "      <td>1.038980</td>\n",
       "      <td>4.010000</td>\n",
       "      <td>2.000000</td>\n",
       "      <td>14.900000</td>\n",
       "      <td>9.000000</td>\n",
       "    </tr>\n",
       "  </tbody>\n",
       "</table>\n",
       "</div>"
      ],
      "text/plain": [
       "       fixed acidity  volatile acidity  citric acid  residual sugar  \\\n",
       "count    6487.000000       6489.000000  6494.000000     6495.000000   \n",
       "mean        7.216579          0.339691     0.318722        5.444326   \n",
       "std         1.296750          0.164649     0.145265        4.758125   \n",
       "min         3.800000          0.080000     0.000000        0.600000   \n",
       "25%         6.400000          0.230000     0.250000        1.800000   \n",
       "50%         7.000000          0.290000     0.310000        3.000000   \n",
       "75%         7.700000          0.400000     0.390000        8.100000   \n",
       "max        15.900000          1.580000     1.660000       65.800000   \n",
       "\n",
       "         chlorides  free sulfur dioxide  total sulfur dioxide      density  \\\n",
       "count  6495.000000          6497.000000           6497.000000  6497.000000   \n",
       "mean      0.056042            30.525319            115.744574     0.994697   \n",
       "std       0.035036            17.749400             56.521855     0.002999   \n",
       "min       0.009000             1.000000              6.000000     0.987110   \n",
       "25%       0.038000            17.000000             77.000000     0.992340   \n",
       "50%       0.047000            29.000000            118.000000     0.994890   \n",
       "75%       0.065000            41.000000            156.000000     0.996990   \n",
       "max       0.611000           289.000000            440.000000     1.038980   \n",
       "\n",
       "                pH    sulphates      alcohol      quality  \n",
       "count  6488.000000  6493.000000  6497.000000  6497.000000  \n",
       "mean      3.218395     0.531215    10.491801     5.818378  \n",
       "std       0.160748     0.148814     1.192712     0.873255  \n",
       "min       2.720000     0.220000     8.000000     3.000000  \n",
       "25%       3.110000     0.430000     9.500000     5.000000  \n",
       "50%       3.210000     0.510000    10.300000     6.000000  \n",
       "75%       3.320000     0.600000    11.300000     6.000000  \n",
       "max       4.010000     2.000000    14.900000     9.000000  "
      ]
     },
     "execution_count": 5,
     "metadata": {},
     "output_type": "execute_result"
    }
   ],
   "source": [
    "# Analyse the data by its mean etc.\n",
    "\n",
    "wine_data.describe()"
   ]
  },
  {
   "cell_type": "markdown",
   "metadata": {},
   "source": [
    "### Null Values"
   ]
  },
  {
   "cell_type": "code",
   "execution_count": 6,
   "metadata": {
    "colab": {
     "base_uri": "https://localhost:8080/"
    },
    "id": "gVKkVJqGnrWu",
    "outputId": "3243cfc6-695e-4f94-c5f4-9786f6f8a5f6"
   },
   "outputs": [
    {
     "data": {
      "text/plain": [
       "type                     0\n",
       "fixed acidity           10\n",
       "volatile acidity         8\n",
       "citric acid              3\n",
       "residual sugar           2\n",
       "chlorides                2\n",
       "free sulfur dioxide      0\n",
       "total sulfur dioxide     0\n",
       "density                  0\n",
       "pH                       9\n",
       "sulphates                4\n",
       "alcohol                  0\n",
       "quality                  0\n",
       "dtype: int64"
      ]
     },
     "execution_count": 6,
     "metadata": {},
     "output_type": "execute_result"
    }
   ],
   "source": [
    "# Check data for null values\n",
    "\n",
    "wine_data.isnull().sum()"
   ]
  },
  {
   "cell_type": "code",
   "execution_count": 7,
   "metadata": {
    "colab": {
     "base_uri": "https://localhost:8080/"
    },
    "id": "_iS0PBQmnxg0",
    "outputId": "0659d752-153b-4c14-be98-6aac6e65d4ef"
   },
   "outputs": [
    {
     "data": {
      "text/plain": [
       "6    2836\n",
       "5    2138\n",
       "7    1079\n",
       "4     216\n",
       "8     193\n",
       "3      30\n",
       "9       5\n",
       "Name: quality, dtype: int64"
      ]
     },
     "execution_count": 7,
     "metadata": {},
     "output_type": "execute_result"
    }
   ],
   "source": [
    "# Check class distribution\n",
    "\n",
    "wine_data.quality.value_counts()"
   ]
  },
  {
   "cell_type": "markdown",
   "metadata": {},
   "source": [
    "### Class Distribution"
   ]
  },
  {
   "cell_type": "code",
   "execution_count": 8,
   "metadata": {
    "colab": {
     "base_uri": "https://localhost:8080/",
     "height": 279
    },
    "id": "bbZypKLWoPDe",
    "outputId": "165db292-f479-4b0c-e6a8-d4d70fa8c178"
   },
   "outputs": [
    {
     "data": {
      "image/png": "[encoded data removed]",
      "text/plain": [
       "<Figure size 432x288 with 1 Axes>"
      ]
     },
     "metadata": {
      "needs_background": "light"
     },
     "output_type": "display_data"
    }
   ],
   "source": [
    "# Visualize class distribution\n",
    "\n",
    "sns.barplot(x=wine_data.quality.value_counts().index, y=wine_data.quality.value_counts())\n",
    "plt.ylabel('samples')\n",
    "plt.xlabel('quality')\n",
    "plt.show()"
   ]
  },
  {
   "cell_type": "code",
   "execution_count": 9,
   "metadata": {
    "id": "QTp4N3nao1u1"
   },
   "outputs": [],
   "source": [
    "# Turn 10 classes into 3 classes\n",
    "\n",
    "wine_data['quality'] = wine_data.quality.apply(lambda x: 2 if x>6 else (1 if x> 4 else 0))"
   ]
  },
  {
   "cell_type": "code",
   "execution_count": 10,
   "metadata": {
    "colab": {
     "base_uri": "https://localhost:8080/"
    },
    "id": "E4M2D7Yqr0ts",
    "outputId": "aeb671f0-97ad-466b-b0f6-ca92be0efc11"
   },
   "outputs": [
    {
     "data": {
      "text/plain": [
       "1    4974\n",
       "2    1277\n",
       "0     246\n",
       "Name: quality, dtype: int64"
      ]
     },
     "execution_count": 10,
     "metadata": {},
     "output_type": "execute_result"
    }
   ],
   "source": [
    "# Check class distribution\n",
    "\n",
    "wine_data.quality.value_counts()"
   ]
  },
  {
   "cell_type": "code",
   "execution_count": 11,
   "metadata": {
    "colab": {
     "base_uri": "https://localhost:8080/",
     "height": 279
    },
    "id": "Ytp1sF8mrGqV",
    "outputId": "ff5f2c11-ffde-4a77-c481-082c053fad81"
   },
   "outputs": [
    {
     "data": {
      "image/png": "[encoded data removed]",
      "text/plain": [
       "<Figure size 432x288 with 1 Axes>"
      ]
     },
     "metadata": {
      "needs_background": "light"
     },
     "output_type": "display_data"
    }
   ],
   "source": [
    "# Visualize class distribution\n",
    "\n",
    "sns.barplot(x=wine_data.quality.value_counts().index, y=wine_data.quality.value_counts())\n",
    "plt.ylabel('samples')\n",
    "plt.xlabel('quality')\n",
    "plt.show()"
   ]
  },
  {
   "cell_type": "code",
   "execution_count": 12,
   "metadata": {},
   "outputs": [],
   "source": [
    "# Turn 10 classes into 2 classes\n",
    "\n",
    "wine_data_2 = pd.read_csv('../winequalityN.csv')\n",
    "wine_data_2['quality'] = wine_data_2.quality.apply(lambda x: 2 if x>5 else 0)"
   ]
  },
  {
   "cell_type": "code",
   "execution_count": 13,
   "metadata": {},
   "outputs": [
    {
     "data": {
      "text/plain": [
       "2    4113\n",
       "0    2384\n",
       "Name: quality, dtype: int64"
      ]
     },
     "execution_count": 13,
     "metadata": {},
     "output_type": "execute_result"
    }
   ],
   "source": [
    "# Check class distribution\n",
    "\n",
    "wine_data_2.quality.value_counts()"
   ]
  },
  {
   "cell_type": "code",
   "execution_count": 14,
   "metadata": {},
   "outputs": [
    {
     "data": {
      "image/png": "[encoded data removed]",
      "text/plain": [
       "<Figure size 432x288 with 1 Axes>"
      ]
     },
     "metadata": {
      "needs_background": "light"
     },
     "output_type": "display_data"
    }
   ],
   "source": [
    "# Visualize class distribution\n",
    "\n",
    "sns.barplot(x=wine_data_2.quality.value_counts().index, y=wine_data_2.quality.value_counts())\n",
    "plt.ylabel('samples')\n",
    "plt.xlabel('quality')\n",
    "plt.show()"
   ]
  },
  {
   "cell_type": "markdown",
   "metadata": {},
   "source": [
    "### Unique Values"
   ]
  },
  {
   "cell_type": "code",
   "execution_count": 15,
   "metadata": {},
   "outputs": [
    {
     "data": {
      "text/plain": [
       "type                      2\n",
       "fixed acidity           106\n",
       "volatile acidity        187\n",
       "citric acid              89\n",
       "residual sugar          316\n",
       "chlorides               214\n",
       "free sulfur dioxide     135\n",
       "total sulfur dioxide    276\n",
       "density                 998\n",
       "pH                      108\n",
       "sulphates               111\n",
       "alcohol                 111\n",
       "quality                   3\n",
       "dtype: int64"
      ]
     },
     "execution_count": 15,
     "metadata": {},
     "output_type": "execute_result"
    }
   ],
   "source": [
    "# Count uniques values of each column\n",
    "\n",
    "wine_data.nunique()"
   ]
  },
  {
   "cell_type": "markdown",
   "metadata": {},
   "source": [
    "### Distribution of Values"
   ]
  },
  {
   "cell_type": "code",
   "execution_count": 16,
   "metadata": {},
   "outputs": [
    {
     "data": {
      "text/plain": [
       "<AxesSubplot:>"
      ]
     },
     "execution_count": 16,
     "metadata": {},
     "output_type": "execute_result"
    },
    {
     "data": {
      "image/png": "[encoded data removed]",
      "text/plain": [
       "<Figure size 432x288 with 1 Axes>"
      ]
     },
     "metadata": {
      "needs_background": "light"
     },
     "output_type": "display_data"
    }
   ],
   "source": [
    "# Plot histogram for each categorical column\n",
    "\n",
    "wine_data['type'].value_counts().plot(kind='bar')"
   ]
  },
  {
   "cell_type": "code",
   "execution_count": 17,
   "metadata": {},
   "outputs": [
    {
     "data": {
      "text/plain": [
       "array([[<AxesSubplot:title={'center':'fixed acidity'}>,\n",
       "        <AxesSubplot:title={'center':'volatile acidity'}>,\n",
       "        <AxesSubplot:title={'center':'citric acid'}>],\n",
       "       [<AxesSubplot:title={'center':'residual sugar'}>,\n",
       "        <AxesSubplot:title={'center':'chlorides'}>,\n",
       "        <AxesSubplot:title={'center':'free sulfur dioxide'}>],\n",
       "       [<AxesSubplot:title={'center':'total sulfur dioxide'}>,\n",
       "        <AxesSubplot:title={'center':'density'}>,\n",
       "        <AxesSubplot:title={'center':'pH'}>],\n",
       "       [<AxesSubplot:title={'center':'sulphates'}>,\n",
       "        <AxesSubplot:title={'center':'alcohol'}>,\n",
       "        <AxesSubplot:title={'center':'quality'}>]], dtype=object)"
      ]
     },
     "execution_count": 17,
     "metadata": {},
     "output_type": "execute_result"
    },
    {
     "data": {
      "image/png": "[encoded data removed]",
      "text/plain": [
       "<Figure size 1080x720 with 12 Axes>"
      ]
     },
     "metadata": {
      "needs_background": "light"
     },
     "output_type": "display_data"
    }
   ],
   "source": [
    "# Plot histogram for each numerical column\n",
    "\n",
    "wine_data.hist(figsize=(15, 10))"
   ]
  },
  {
   "cell_type": "code",
   "execution_count": 18,
   "metadata": {},
   "outputs": [
    {
     "data": {
      "image/png": "[encoded data removed]",
      "text/plain": [
       "<Figure size 1080x1080 with 144 Axes>"
      ]
     },
     "metadata": {
      "needs_background": "light"
     },
     "output_type": "display_data"
    }
   ],
   "source": [
    "# Plot scatterplots for all possible combinations of columns\n",
    "\n",
    "pd.plotting.scatter_matrix(wine_data, figsize=(15, 15), s=150);"
   ]
  },
  {
   "cell_type": "markdown",
   "metadata": {},
   "source": [
    "## Data Cleaning"
   ]
  },
  {
   "cell_type": "code",
   "execution_count": 19,
   "metadata": {},
   "outputs": [
    {
     "data": {
      "text/plain": [
       "6497"
      ]
     },
     "metadata": {},
     "output_type": "display_data"
    },
    {
     "data": {
      "text/plain": [
       "6497"
      ]
     },
     "metadata": {},
     "output_type": "display_data"
    }
   ],
   "source": [
    "# Count duplicates and remove duplicates\n",
    "\n",
    "display(len(wine_data.index))\n",
    "wine_data.drop_duplicates()\n",
    "display(len(wine_data.index))"
   ]
  },
  {
   "cell_type": "code",
   "execution_count": 20,
   "metadata": {},
   "outputs": [
    {
     "data": {
      "text/html": [
       "<div>\n",
       "<style scoped>\n",
       "    .dataframe tbody tr th:only-of-type {\n",
       "        vertical-align: middle;\n",
       "    }\n",
       "\n",
       "    .dataframe tbody tr th {\n",
       "        vertical-align: top;\n",
       "    }\n",
       "\n",
       "    .dataframe thead th {\n",
       "        text-align: right;\n",
       "    }\n",
       "</style>\n",
       "<table border=\"1\" class=\"dataframe\">\n",
       "  <thead>\n",
       "    <tr style=\"text-align: right;\">\n",
       "      <th></th>\n",
       "      <th>type</th>\n",
       "      <th>fixed acidity</th>\n",
       "      <th>volatile acidity</th>\n",
       "      <th>citric acid</th>\n",
       "      <th>residual sugar</th>\n",
       "      <th>chlorides</th>\n",
       "      <th>free sulfur dioxide</th>\n",
       "      <th>total sulfur dioxide</th>\n",
       "      <th>density</th>\n",
       "      <th>pH</th>\n",
       "      <th>sulphates</th>\n",
       "      <th>alcohol</th>\n",
       "      <th>quality</th>\n",
       "    </tr>\n",
       "  </thead>\n",
       "  <tbody>\n",
       "    <tr>\n",
       "      <th>0</th>\n",
       "      <td>white</td>\n",
       "      <td>7.0</td>\n",
       "      <td>0.27</td>\n",
       "      <td>0.36</td>\n",
       "      <td>20.7</td>\n",
       "      <td>0.045</td>\n",
       "      <td>45.0</td>\n",
       "      <td>170.0</td>\n",
       "      <td>1.0010</td>\n",
       "      <td>3.00</td>\n",
       "      <td>0.45</td>\n",
       "      <td>8.8</td>\n",
       "      <td>1</td>\n",
       "    </tr>\n",
       "    <tr>\n",
       "      <th>1</th>\n",
       "      <td>white</td>\n",
       "      <td>6.3</td>\n",
       "      <td>0.30</td>\n",
       "      <td>0.34</td>\n",
       "      <td>1.6</td>\n",
       "      <td>0.049</td>\n",
       "      <td>14.0</td>\n",
       "      <td>132.0</td>\n",
       "      <td>0.9940</td>\n",
       "      <td>3.30</td>\n",
       "      <td>0.49</td>\n",
       "      <td>9.5</td>\n",
       "      <td>1</td>\n",
       "    </tr>\n",
       "    <tr>\n",
       "      <th>2</th>\n",
       "      <td>white</td>\n",
       "      <td>8.1</td>\n",
       "      <td>0.28</td>\n",
       "      <td>0.40</td>\n",
       "      <td>6.9</td>\n",
       "      <td>0.050</td>\n",
       "      <td>30.0</td>\n",
       "      <td>97.0</td>\n",
       "      <td>0.9951</td>\n",
       "      <td>3.26</td>\n",
       "      <td>0.44</td>\n",
       "      <td>10.1</td>\n",
       "      <td>1</td>\n",
       "    </tr>\n",
       "    <tr>\n",
       "      <th>3</th>\n",
       "      <td>white</td>\n",
       "      <td>7.2</td>\n",
       "      <td>0.23</td>\n",
       "      <td>0.32</td>\n",
       "      <td>8.5</td>\n",
       "      <td>0.058</td>\n",
       "      <td>47.0</td>\n",
       "      <td>186.0</td>\n",
       "      <td>0.9956</td>\n",
       "      <td>3.19</td>\n",
       "      <td>0.40</td>\n",
       "      <td>9.9</td>\n",
       "      <td>1</td>\n",
       "    </tr>\n",
       "    <tr>\n",
       "      <th>4</th>\n",
       "      <td>white</td>\n",
       "      <td>7.2</td>\n",
       "      <td>0.23</td>\n",
       "      <td>0.32</td>\n",
       "      <td>8.5</td>\n",
       "      <td>0.058</td>\n",
       "      <td>47.0</td>\n",
       "      <td>186.0</td>\n",
       "      <td>0.9956</td>\n",
       "      <td>3.19</td>\n",
       "      <td>0.40</td>\n",
       "      <td>9.9</td>\n",
       "      <td>1</td>\n",
       "    </tr>\n",
       "  </tbody>\n",
       "</table>\n",
       "</div>"
      ],
      "text/plain": [
       "    type  fixed acidity  volatile acidity  citric acid  residual sugar  \\\n",
       "0  white            7.0              0.27         0.36            20.7   \n",
       "1  white            6.3              0.30         0.34             1.6   \n",
       "2  white            8.1              0.28         0.40             6.9   \n",
       "3  white            7.2              0.23         0.32             8.5   \n",
       "4  white            7.2              0.23         0.32             8.5   \n",
       "\n",
       "   chlorides  free sulfur dioxide  total sulfur dioxide  density    pH  \\\n",
       "0      0.045                 45.0                 170.0   1.0010  3.00   \n",
       "1      0.049                 14.0                 132.0   0.9940  3.30   \n",
       "2      0.050                 30.0                  97.0   0.9951  3.26   \n",
       "3      0.058                 47.0                 186.0   0.9956  3.19   \n",
       "4      0.058                 47.0                 186.0   0.9956  3.19   \n",
       "\n",
       "   sulphates  alcohol  quality  \n",
       "0       0.45      8.8        1  \n",
       "1       0.49      9.5        1  \n",
       "2       0.44     10.1        1  \n",
       "3       0.40      9.9        1  \n",
       "4       0.40      9.9        1  "
      ]
     },
     "metadata": {},
     "output_type": "display_data"
    },
    {
     "data": {
      "text/html": [
       "<div>\n",
       "<style scoped>\n",
       "    .dataframe tbody tr th:only-of-type {\n",
       "        vertical-align: middle;\n",
       "    }\n",
       "\n",
       "    .dataframe tbody tr th {\n",
       "        vertical-align: top;\n",
       "    }\n",
       "\n",
       "    .dataframe thead th {\n",
       "        text-align: right;\n",
       "    }\n",
       "</style>\n",
       "<table border=\"1\" class=\"dataframe\">\n",
       "  <thead>\n",
       "    <tr style=\"text-align: right;\">\n",
       "      <th></th>\n",
       "      <th>type</th>\n",
       "      <th>fixed acidity</th>\n",
       "      <th>volatile acidity</th>\n",
       "      <th>citric acid</th>\n",
       "      <th>residual sugar</th>\n",
       "      <th>chlorides</th>\n",
       "      <th>free sulfur dioxide</th>\n",
       "      <th>total sulfur dioxide</th>\n",
       "      <th>density</th>\n",
       "      <th>pH</th>\n",
       "      <th>sulphates</th>\n",
       "      <th>alcohol</th>\n",
       "      <th>quality</th>\n",
       "    </tr>\n",
       "  </thead>\n",
       "  <tbody>\n",
       "    <tr>\n",
       "      <th>0</th>\n",
       "      <td>1.0</td>\n",
       "      <td>7.0</td>\n",
       "      <td>0.27</td>\n",
       "      <td>0.36</td>\n",
       "      <td>20.7</td>\n",
       "      <td>0.045</td>\n",
       "      <td>45.0</td>\n",
       "      <td>170.0</td>\n",
       "      <td>1.0010</td>\n",
       "      <td>3.00</td>\n",
       "      <td>0.45</td>\n",
       "      <td>8.8</td>\n",
       "      <td>1</td>\n",
       "    </tr>\n",
       "    <tr>\n",
       "      <th>1</th>\n",
       "      <td>1.0</td>\n",
       "      <td>6.3</td>\n",
       "      <td>0.30</td>\n",
       "      <td>0.34</td>\n",
       "      <td>1.6</td>\n",
       "      <td>0.049</td>\n",
       "      <td>14.0</td>\n",
       "      <td>132.0</td>\n",
       "      <td>0.9940</td>\n",
       "      <td>3.30</td>\n",
       "      <td>0.49</td>\n",
       "      <td>9.5</td>\n",
       "      <td>1</td>\n",
       "    </tr>\n",
       "    <tr>\n",
       "      <th>2</th>\n",
       "      <td>1.0</td>\n",
       "      <td>8.1</td>\n",
       "      <td>0.28</td>\n",
       "      <td>0.40</td>\n",
       "      <td>6.9</td>\n",
       "      <td>0.050</td>\n",
       "      <td>30.0</td>\n",
       "      <td>97.0</td>\n",
       "      <td>0.9951</td>\n",
       "      <td>3.26</td>\n",
       "      <td>0.44</td>\n",
       "      <td>10.1</td>\n",
       "      <td>1</td>\n",
       "    </tr>\n",
       "    <tr>\n",
       "      <th>3</th>\n",
       "      <td>1.0</td>\n",
       "      <td>7.2</td>\n",
       "      <td>0.23</td>\n",
       "      <td>0.32</td>\n",
       "      <td>8.5</td>\n",
       "      <td>0.058</td>\n",
       "      <td>47.0</td>\n",
       "      <td>186.0</td>\n",
       "      <td>0.9956</td>\n",
       "      <td>3.19</td>\n",
       "      <td>0.40</td>\n",
       "      <td>9.9</td>\n",
       "      <td>1</td>\n",
       "    </tr>\n",
       "    <tr>\n",
       "      <th>4</th>\n",
       "      <td>1.0</td>\n",
       "      <td>7.2</td>\n",
       "      <td>0.23</td>\n",
       "      <td>0.32</td>\n",
       "      <td>8.5</td>\n",
       "      <td>0.058</td>\n",
       "      <td>47.0</td>\n",
       "      <td>186.0</td>\n",
       "      <td>0.9956</td>\n",
       "      <td>3.19</td>\n",
       "      <td>0.40</td>\n",
       "      <td>9.9</td>\n",
       "      <td>1</td>\n",
       "    </tr>\n",
       "  </tbody>\n",
       "</table>\n",
       "</div>"
      ],
      "text/plain": [
       "   type  fixed acidity  volatile acidity  citric acid  residual sugar  \\\n",
       "0   1.0            7.0              0.27         0.36            20.7   \n",
       "1   1.0            6.3              0.30         0.34             1.6   \n",
       "2   1.0            8.1              0.28         0.40             6.9   \n",
       "3   1.0            7.2              0.23         0.32             8.5   \n",
       "4   1.0            7.2              0.23         0.32             8.5   \n",
       "\n",
       "   chlorides  free sulfur dioxide  total sulfur dioxide  density    pH  \\\n",
       "0      0.045                 45.0                 170.0   1.0010  3.00   \n",
       "1      0.049                 14.0                 132.0   0.9940  3.30   \n",
       "2      0.050                 30.0                  97.0   0.9951  3.26   \n",
       "3      0.058                 47.0                 186.0   0.9956  3.19   \n",
       "4      0.058                 47.0                 186.0   0.9956  3.19   \n",
       "\n",
       "   sulphates  alcohol  quality  \n",
       "0       0.45      8.8        1  \n",
       "1       0.49      9.5        1  \n",
       "2       0.44     10.1        1  \n",
       "3       0.40      9.9        1  \n",
       "4       0.40      9.9        1  "
      ]
     },
     "execution_count": 20,
     "metadata": {},
     "output_type": "execute_result"
    }
   ],
   "source": [
    "# Ordinal Encoder for the attribute type\n",
    "\n",
    "# Show data before preprocessing\n",
    "display(wine_data.head())\n",
    "\n",
    "# Create the OrdinalEncoder\n",
    "ordinal_encoder = preprocessing.OrdinalEncoder()\n",
    "\n",
    "# Preprocess the categorical feature type\n",
    "wine_data[['type']] = ordinal_encoder.fit_transform(wine_data[['type']])\n",
    "\n",
    "# Show the results\n",
    "wine_data.head()"
   ]
  },
  {
   "cell_type": "code",
   "execution_count": 21,
   "metadata": {},
   "outputs": [
    {
     "data": {
      "text/html": [
       "<div>\n",
       "<style scoped>\n",
       "    .dataframe tbody tr th:only-of-type {\n",
       "        vertical-align: middle;\n",
       "    }\n",
       "\n",
       "    .dataframe tbody tr th {\n",
       "        vertical-align: top;\n",
       "    }\n",
       "\n",
       "    .dataframe thead th {\n",
       "        text-align: right;\n",
       "    }\n",
       "</style>\n",
       "<table border=\"1\" class=\"dataframe\">\n",
       "  <thead>\n",
       "    <tr style=\"text-align: right;\">\n",
       "      <th></th>\n",
       "      <th>type</th>\n",
       "      <th>fixed acidity</th>\n",
       "      <th>volatile acidity</th>\n",
       "      <th>citric acid</th>\n",
       "      <th>residual sugar</th>\n",
       "      <th>chlorides</th>\n",
       "      <th>free sulfur dioxide</th>\n",
       "      <th>total sulfur dioxide</th>\n",
       "      <th>density</th>\n",
       "      <th>pH</th>\n",
       "      <th>sulphates</th>\n",
       "      <th>alcohol</th>\n",
       "      <th>quality</th>\n",
       "    </tr>\n",
       "  </thead>\n",
       "  <tbody>\n",
       "    <tr>\n",
       "      <th>0</th>\n",
       "      <td>1.0</td>\n",
       "      <td>7.0</td>\n",
       "      <td>0.27</td>\n",
       "      <td>0.36</td>\n",
       "      <td>20.7</td>\n",
       "      <td>0.045</td>\n",
       "      <td>45.0</td>\n",
       "      <td>170.0</td>\n",
       "      <td>1.0010</td>\n",
       "      <td>3.00</td>\n",
       "      <td>0.45</td>\n",
       "      <td>8.8</td>\n",
       "      <td>1</td>\n",
       "    </tr>\n",
       "    <tr>\n",
       "      <th>1</th>\n",
       "      <td>1.0</td>\n",
       "      <td>6.3</td>\n",
       "      <td>0.30</td>\n",
       "      <td>0.34</td>\n",
       "      <td>1.6</td>\n",
       "      <td>0.049</td>\n",
       "      <td>14.0</td>\n",
       "      <td>132.0</td>\n",
       "      <td>0.9940</td>\n",
       "      <td>3.30</td>\n",
       "      <td>0.49</td>\n",
       "      <td>9.5</td>\n",
       "      <td>1</td>\n",
       "    </tr>\n",
       "    <tr>\n",
       "      <th>2</th>\n",
       "      <td>1.0</td>\n",
       "      <td>8.1</td>\n",
       "      <td>0.28</td>\n",
       "      <td>0.40</td>\n",
       "      <td>6.9</td>\n",
       "      <td>0.050</td>\n",
       "      <td>30.0</td>\n",
       "      <td>97.0</td>\n",
       "      <td>0.9951</td>\n",
       "      <td>3.26</td>\n",
       "      <td>0.44</td>\n",
       "      <td>10.1</td>\n",
       "      <td>1</td>\n",
       "    </tr>\n",
       "    <tr>\n",
       "      <th>3</th>\n",
       "      <td>1.0</td>\n",
       "      <td>7.2</td>\n",
       "      <td>0.23</td>\n",
       "      <td>0.32</td>\n",
       "      <td>8.5</td>\n",
       "      <td>0.058</td>\n",
       "      <td>47.0</td>\n",
       "      <td>186.0</td>\n",
       "      <td>0.9956</td>\n",
       "      <td>3.19</td>\n",
       "      <td>0.40</td>\n",
       "      <td>9.9</td>\n",
       "      <td>1</td>\n",
       "    </tr>\n",
       "    <tr>\n",
       "      <th>4</th>\n",
       "      <td>1.0</td>\n",
       "      <td>7.2</td>\n",
       "      <td>0.23</td>\n",
       "      <td>0.32</td>\n",
       "      <td>8.5</td>\n",
       "      <td>0.058</td>\n",
       "      <td>47.0</td>\n",
       "      <td>186.0</td>\n",
       "      <td>0.9956</td>\n",
       "      <td>3.19</td>\n",
       "      <td>0.40</td>\n",
       "      <td>9.9</td>\n",
       "      <td>1</td>\n",
       "    </tr>\n",
       "  </tbody>\n",
       "</table>\n",
       "</div>"
      ],
      "text/plain": [
       "   type  fixed acidity  volatile acidity  citric acid  residual sugar  \\\n",
       "0   1.0            7.0              0.27         0.36            20.7   \n",
       "1   1.0            6.3              0.30         0.34             1.6   \n",
       "2   1.0            8.1              0.28         0.40             6.9   \n",
       "3   1.0            7.2              0.23         0.32             8.5   \n",
       "4   1.0            7.2              0.23         0.32             8.5   \n",
       "\n",
       "   chlorides  free sulfur dioxide  total sulfur dioxide  density    pH  \\\n",
       "0      0.045                 45.0                 170.0   1.0010  3.00   \n",
       "1      0.049                 14.0                 132.0   0.9940  3.30   \n",
       "2      0.050                 30.0                  97.0   0.9951  3.26   \n",
       "3      0.058                 47.0                 186.0   0.9956  3.19   \n",
       "4      0.058                 47.0                 186.0   0.9956  3.19   \n",
       "\n",
       "   sulphates  alcohol  quality  \n",
       "0       0.45      8.8        1  \n",
       "1       0.49      9.5        1  \n",
       "2       0.44     10.1        1  \n",
       "3       0.40      9.9        1  \n",
       "4       0.40      9.9        1  "
      ]
     },
     "metadata": {},
     "output_type": "display_data"
    },
    {
     "data": {
      "text/html": [
       "<div>\n",
       "<style scoped>\n",
       "    .dataframe tbody tr th:only-of-type {\n",
       "        vertical-align: middle;\n",
       "    }\n",
       "\n",
       "    .dataframe tbody tr th {\n",
       "        vertical-align: top;\n",
       "    }\n",
       "\n",
       "    .dataframe thead th {\n",
       "        text-align: right;\n",
       "    }\n",
       "</style>\n",
       "<table border=\"1\" class=\"dataframe\">\n",
       "  <thead>\n",
       "    <tr style=\"text-align: right;\">\n",
       "      <th></th>\n",
       "      <th>type</th>\n",
       "      <th>fixed acidity</th>\n",
       "      <th>volatile acidity</th>\n",
       "      <th>citric acid</th>\n",
       "      <th>residual sugar</th>\n",
       "      <th>chlorides</th>\n",
       "      <th>free sulfur dioxide</th>\n",
       "      <th>total sulfur dioxide</th>\n",
       "      <th>density</th>\n",
       "      <th>pH</th>\n",
       "      <th>sulphates</th>\n",
       "      <th>alcohol</th>\n",
       "      <th>quality</th>\n",
       "    </tr>\n",
       "  </thead>\n",
       "  <tbody>\n",
       "    <tr>\n",
       "      <th>0</th>\n",
       "      <td>1.0</td>\n",
       "      <td>0.264463</td>\n",
       "      <td>0.126667</td>\n",
       "      <td>0.216867</td>\n",
       "      <td>0.308282</td>\n",
       "      <td>0.059801</td>\n",
       "      <td>0.152778</td>\n",
       "      <td>0.377880</td>\n",
       "      <td>0.267785</td>\n",
       "      <td>0.217054</td>\n",
       "      <td>0.129213</td>\n",
       "      <td>0.115942</td>\n",
       "      <td>1</td>\n",
       "    </tr>\n",
       "    <tr>\n",
       "      <th>1</th>\n",
       "      <td>1.0</td>\n",
       "      <td>0.206612</td>\n",
       "      <td>0.146667</td>\n",
       "      <td>0.204819</td>\n",
       "      <td>0.015337</td>\n",
       "      <td>0.066445</td>\n",
       "      <td>0.045139</td>\n",
       "      <td>0.290323</td>\n",
       "      <td>0.132832</td>\n",
       "      <td>0.449612</td>\n",
       "      <td>0.151685</td>\n",
       "      <td>0.217391</td>\n",
       "      <td>1</td>\n",
       "    </tr>\n",
       "    <tr>\n",
       "      <th>2</th>\n",
       "      <td>1.0</td>\n",
       "      <td>0.355372</td>\n",
       "      <td>0.133333</td>\n",
       "      <td>0.240964</td>\n",
       "      <td>0.096626</td>\n",
       "      <td>0.068106</td>\n",
       "      <td>0.100694</td>\n",
       "      <td>0.209677</td>\n",
       "      <td>0.154039</td>\n",
       "      <td>0.418605</td>\n",
       "      <td>0.123596</td>\n",
       "      <td>0.304348</td>\n",
       "      <td>1</td>\n",
       "    </tr>\n",
       "    <tr>\n",
       "      <th>3</th>\n",
       "      <td>1.0</td>\n",
       "      <td>0.280992</td>\n",
       "      <td>0.100000</td>\n",
       "      <td>0.192771</td>\n",
       "      <td>0.121166</td>\n",
       "      <td>0.081395</td>\n",
       "      <td>0.159722</td>\n",
       "      <td>0.414747</td>\n",
       "      <td>0.163678</td>\n",
       "      <td>0.364341</td>\n",
       "      <td>0.101124</td>\n",
       "      <td>0.275362</td>\n",
       "      <td>1</td>\n",
       "    </tr>\n",
       "    <tr>\n",
       "      <th>4</th>\n",
       "      <td>1.0</td>\n",
       "      <td>0.280992</td>\n",
       "      <td>0.100000</td>\n",
       "      <td>0.192771</td>\n",
       "      <td>0.121166</td>\n",
       "      <td>0.081395</td>\n",
       "      <td>0.159722</td>\n",
       "      <td>0.414747</td>\n",
       "      <td>0.163678</td>\n",
       "      <td>0.364341</td>\n",
       "      <td>0.101124</td>\n",
       "      <td>0.275362</td>\n",
       "      <td>1</td>\n",
       "    </tr>\n",
       "  </tbody>\n",
       "</table>\n",
       "</div>"
      ],
      "text/plain": [
       "   type  fixed acidity  volatile acidity  citric acid  residual sugar  \\\n",
       "0   1.0       0.264463          0.126667     0.216867        0.308282   \n",
       "1   1.0       0.206612          0.146667     0.204819        0.015337   \n",
       "2   1.0       0.355372          0.133333     0.240964        0.096626   \n",
       "3   1.0       0.280992          0.100000     0.192771        0.121166   \n",
       "4   1.0       0.280992          0.100000     0.192771        0.121166   \n",
       "\n",
       "   chlorides  free sulfur dioxide  total sulfur dioxide   density        pH  \\\n",
       "0   0.059801             0.152778              0.377880  0.267785  0.217054   \n",
       "1   0.066445             0.045139              0.290323  0.132832  0.449612   \n",
       "2   0.068106             0.100694              0.209677  0.154039  0.418605   \n",
       "3   0.081395             0.159722              0.414747  0.163678  0.364341   \n",
       "4   0.081395             0.159722              0.414747  0.163678  0.364341   \n",
       "\n",
       "   sulphates   alcohol  quality  \n",
       "0   0.129213  0.115942        1  \n",
       "1   0.151685  0.217391        1  \n",
       "2   0.123596  0.304348        1  \n",
       "3   0.101124  0.275362        1  \n",
       "4   0.101124  0.275362        1  "
      ]
     },
     "metadata": {},
     "output_type": "display_data"
    }
   ],
   "source": [
    "# Normalisation of the numerical values\n",
    "\n",
    "# Show data before preprocessing\n",
    "display(wine_data.head())\n",
    "\n",
    "# Create the normaliser\n",
    "scaler = preprocessing.MinMaxScaler()\n",
    "\n",
    "# Preprocess the all numerical features\n",
    "wine_data[['fixed acidity', 'volatile acidity', 'citric acid', 'residual sugar', 'chlorides', 'free sulfur dioxide', 'total sulfur dioxide', 'density', 'pH', 'sulphates', 'alcohol']] = scaler.fit_transform(wine_data[['fixed acidity', 'volatile acidity', 'citric acid', 'residual sugar', 'chlorides', 'free sulfur dioxide', 'total sulfur dioxide', 'density', 'pH', 'sulphates', 'alcohol']])\n",
    "\n",
    "# Show the results\n",
    "display(wine_data.head())"
   ]
  },
  {
   "cell_type": "code",
   "execution_count": 22,
   "metadata": {},
   "outputs": [
    {
     "data": {
      "text/plain": [
       "type                     0\n",
       "fixed acidity           10\n",
       "volatile acidity         8\n",
       "citric acid              3\n",
       "residual sugar           2\n",
       "chlorides                2\n",
       "free sulfur dioxide      0\n",
       "total sulfur dioxide     0\n",
       "density                  0\n",
       "pH                       9\n",
       "sulphates                4\n",
       "alcohol                  0\n",
       "quality                  0\n",
       "dtype: int64"
      ]
     },
     "metadata": {},
     "output_type": "display_data"
    },
    {
     "data": {
      "text/plain": [
       "6497"
      ]
     },
     "metadata": {},
     "output_type": "display_data"
    },
    {
     "data": {
      "text/plain": [
       "type                    0\n",
       "fixed acidity           0\n",
       "volatile acidity        0\n",
       "citric acid             0\n",
       "residual sugar          0\n",
       "chlorides               0\n",
       "free sulfur dioxide     0\n",
       "total sulfur dioxide    0\n",
       "density                 0\n",
       "pH                      0\n",
       "sulphates               0\n",
       "alcohol                 0\n",
       "quality                 0\n",
       "dtype: int64"
      ]
     },
     "metadata": {},
     "output_type": "display_data"
    },
    {
     "data": {
      "text/plain": [
       "6497"
      ]
     },
     "metadata": {},
     "output_type": "display_data"
    }
   ],
   "source": [
    "# Replacing null-values \n",
    "\n",
    "# Get column names\n",
    "column_names = wine_data.columns\n",
    "\n",
    "# Count null-values\n",
    "display(wine_data.isnull().sum())\n",
    "display(len(wine_data.index))\n",
    "\n",
    "# Data imputation\n",
    "imp = SimpleImputer(strategy=\"mean\")\n",
    "wine_data = imp.fit_transform(wine_data)\n",
    "\n",
    "# Create dataframe from numpy array\n",
    "wine_data = pd.DataFrame(data=wine_data, columns=column_names)\n",
    "display(wine_data.isnull().sum())\n",
    "display(len(wine_data.index))"
   ]
  },
  {
   "cell_type": "markdown",
   "metadata": {},
   "source": [
    "### Seperation of features and the target variable and test train split"
   ]
  },
  {
   "cell_type": "code",
   "execution_count": 23,
   "metadata": {},
   "outputs": [
    {
     "data": {
      "text/html": [
       "<div>\n",
       "<style scoped>\n",
       "    .dataframe tbody tr th:only-of-type {\n",
       "        vertical-align: middle;\n",
       "    }\n",
       "\n",
       "    .dataframe tbody tr th {\n",
       "        vertical-align: top;\n",
       "    }\n",
       "\n",
       "    .dataframe thead th {\n",
       "        text-align: right;\n",
       "    }\n",
       "</style>\n",
       "<table border=\"1\" class=\"dataframe\">\n",
       "  <thead>\n",
       "    <tr style=\"text-align: right;\">\n",
       "      <th></th>\n",
       "      <th>type</th>\n",
       "      <th>fixed acidity</th>\n",
       "      <th>volatile acidity</th>\n",
       "      <th>citric acid</th>\n",
       "      <th>residual sugar</th>\n",
       "      <th>chlorides</th>\n",
       "      <th>free sulfur dioxide</th>\n",
       "      <th>total sulfur dioxide</th>\n",
       "      <th>density</th>\n",
       "      <th>pH</th>\n",
       "      <th>sulphates</th>\n",
       "      <th>alcohol</th>\n",
       "    </tr>\n",
       "  </thead>\n",
       "  <tbody>\n",
       "    <tr>\n",
       "      <th>0</th>\n",
       "      <td>1.0</td>\n",
       "      <td>0.264463</td>\n",
       "      <td>0.126667</td>\n",
       "      <td>0.216867</td>\n",
       "      <td>0.308282</td>\n",
       "      <td>0.059801</td>\n",
       "      <td>0.152778</td>\n",
       "      <td>0.377880</td>\n",
       "      <td>0.267785</td>\n",
       "      <td>0.217054</td>\n",
       "      <td>0.129213</td>\n",
       "      <td>0.115942</td>\n",
       "    </tr>\n",
       "    <tr>\n",
       "      <th>1</th>\n",
       "      <td>1.0</td>\n",
       "      <td>0.206612</td>\n",
       "      <td>0.146667</td>\n",
       "      <td>0.204819</td>\n",
       "      <td>0.015337</td>\n",
       "      <td>0.066445</td>\n",
       "      <td>0.045139</td>\n",
       "      <td>0.290323</td>\n",
       "      <td>0.132832</td>\n",
       "      <td>0.449612</td>\n",
       "      <td>0.151685</td>\n",
       "      <td>0.217391</td>\n",
       "    </tr>\n",
       "    <tr>\n",
       "      <th>2</th>\n",
       "      <td>1.0</td>\n",
       "      <td>0.355372</td>\n",
       "      <td>0.133333</td>\n",
       "      <td>0.240964</td>\n",
       "      <td>0.096626</td>\n",
       "      <td>0.068106</td>\n",
       "      <td>0.100694</td>\n",
       "      <td>0.209677</td>\n",
       "      <td>0.154039</td>\n",
       "      <td>0.418605</td>\n",
       "      <td>0.123596</td>\n",
       "      <td>0.304348</td>\n",
       "    </tr>\n",
       "    <tr>\n",
       "      <th>3</th>\n",
       "      <td>1.0</td>\n",
       "      <td>0.280992</td>\n",
       "      <td>0.100000</td>\n",
       "      <td>0.192771</td>\n",
       "      <td>0.121166</td>\n",
       "      <td>0.081395</td>\n",
       "      <td>0.159722</td>\n",
       "      <td>0.414747</td>\n",
       "      <td>0.163678</td>\n",
       "      <td>0.364341</td>\n",
       "      <td>0.101124</td>\n",
       "      <td>0.275362</td>\n",
       "    </tr>\n",
       "    <tr>\n",
       "      <th>4</th>\n",
       "      <td>1.0</td>\n",
       "      <td>0.280992</td>\n",
       "      <td>0.100000</td>\n",
       "      <td>0.192771</td>\n",
       "      <td>0.121166</td>\n",
       "      <td>0.081395</td>\n",
       "      <td>0.159722</td>\n",
       "      <td>0.414747</td>\n",
       "      <td>0.163678</td>\n",
       "      <td>0.364341</td>\n",
       "      <td>0.101124</td>\n",
       "      <td>0.275362</td>\n",
       "    </tr>\n",
       "  </tbody>\n",
       "</table>\n",
       "</div>"
      ],
      "text/plain": [
       "   type  fixed acidity  volatile acidity  citric acid  residual sugar  \\\n",
       "0   1.0       0.264463          0.126667     0.216867        0.308282   \n",
       "1   1.0       0.206612          0.146667     0.204819        0.015337   \n",
       "2   1.0       0.355372          0.133333     0.240964        0.096626   \n",
       "3   1.0       0.280992          0.100000     0.192771        0.121166   \n",
       "4   1.0       0.280992          0.100000     0.192771        0.121166   \n",
       "\n",
       "   chlorides  free sulfur dioxide  total sulfur dioxide   density        pH  \\\n",
       "0   0.059801             0.152778              0.377880  0.267785  0.217054   \n",
       "1   0.066445             0.045139              0.290323  0.132832  0.449612   \n",
       "2   0.068106             0.100694              0.209677  0.154039  0.418605   \n",
       "3   0.081395             0.159722              0.414747  0.163678  0.364341   \n",
       "4   0.081395             0.159722              0.414747  0.163678  0.364341   \n",
       "\n",
       "   sulphates   alcohol  \n",
       "0   0.129213  0.115942  \n",
       "1   0.151685  0.217391  \n",
       "2   0.123596  0.304348  \n",
       "3   0.101124  0.275362  \n",
       "4   0.101124  0.275362  "
      ]
     },
     "metadata": {},
     "output_type": "display_data"
    }
   ],
   "source": [
    "# Seperation of features and the target variable in two different data frames\n",
    "\n",
    "wine_data = wine_data.copy()\n",
    "\n",
    "features = wine_data.drop(columns='quality')\n",
    "display(features.head())\n",
    "\n",
    "target = wine_data.drop(columns=['type', 'fixed acidity', 'volatile acidity', 'citric acid', 'residual sugar', 'chlorides', 'free sulfur dioxide', 'total sulfur dioxide', 'density', 'pH', 'sulphates', 'alcohol'])\n",
    "target = target['quality'].ravel()"
   ]
  },
  {
   "cell_type": "code",
   "execution_count": 24,
   "metadata": {},
   "outputs": [],
   "source": [
    "# Train test split\n",
    "\n",
    "data_train, data_test, target_train, target_test = train_test_split(\n",
    "    features, target, test_size=0.2, random_state=42, stratify=target)"
   ]
  },
  {
   "cell_type": "markdown",
   "metadata": {},
   "source": [
    "## Random Forest"
   ]
  },
  {
   "cell_type": "code",
   "execution_count": 25,
   "metadata": {},
   "outputs": [],
   "source": [
    "# Model Creation\n",
    "\n",
    "# Create estimator and pipeline\n",
    "random_forest = RandomForestClassifier(random_state=0)\n",
    "pipeline_rf = Pipeline([('estimator', random_forest)])\n",
    "\n",
    "# Fit the model and predict the values for the train data\n",
    "pipeline_rf.fit(data_train, target_train)\n",
    "predictions_train_rf = pipeline_rf.predict(data_train)"
   ]
  },
  {
   "cell_type": "markdown",
   "metadata": {},
   "source": [
    "### Evaluation"
   ]
  },
  {
   "cell_type": "code",
   "execution_count": 26,
   "metadata": {},
   "outputs": [],
   "source": [
    "# Predict values for the test data\n",
    "\n",
    "predictions_test_rf = pipeline_rf.predict(data_test)"
   ]
  },
  {
   "cell_type": "markdown",
   "metadata": {},
   "source": [
    "#### Makro F1-Score, Makro Precision, and Makro Recall"
   ]
  },
  {
   "cell_type": "code",
   "execution_count": 27,
   "metadata": {},
   "outputs": [
    {
     "name": "stdout",
     "output_type": "stream",
     "text": [
      "Makro F1-Score Train Data:\n"
     ]
    },
    {
     "data": {
      "text/plain": [
       "1.0"
      ]
     },
     "metadata": {},
     "output_type": "display_data"
    },
    {
     "name": "stdout",
     "output_type": "stream",
     "text": [
      "Makro F1-Score Test Data:\n"
     ]
    },
    {
     "data": {
      "text/plain": [
       "0.5956199538817564"
      ]
     },
     "metadata": {},
     "output_type": "display_data"
    },
    {
     "name": "stdout",
     "output_type": "stream",
     "text": [
      "Makro Precision Train Data:\n"
     ]
    },
    {
     "data": {
      "text/plain": [
       "1.0"
      ]
     },
     "metadata": {},
     "output_type": "display_data"
    },
    {
     "name": "stdout",
     "output_type": "stream",
     "text": [
      "Makro Precision Test Data:\n"
     ]
    },
    {
     "data": {
      "text/plain": [
       "0.8782390602944142"
      ]
     },
     "metadata": {},
     "output_type": "display_data"
    },
    {
     "name": "stdout",
     "output_type": "stream",
     "text": [
      "Makro Recall Train Data:\n"
     ]
    },
    {
     "data": {
      "text/plain": [
       "1.0"
      ]
     },
     "metadata": {},
     "output_type": "display_data"
    },
    {
     "name": "stdout",
     "output_type": "stream",
     "text": [
      "Makro Recall Test Data:\n"
     ]
    },
    {
     "data": {
      "text/plain": [
       "0.5524526330632755"
      ]
     },
     "metadata": {},
     "output_type": "display_data"
    }
   ],
   "source": [
    "# Makro F1-Score\n",
    "print(\"Makro F1-Score Train Data:\")\n",
    "f1_score_train_rf = f1_score(target_train, predictions_train_rf, average='macro')\n",
    "display(f1_score_train_rf)\n",
    "\n",
    "print(\"Makro F1-Score Test Data:\")\n",
    "f1_score_test_rf = f1_score(target_test, predictions_test_rf, average='macro')\n",
    "display(f1_score_test_rf)\n",
    "\n",
    "# Makro Precision Score\n",
    "print(\"Makro Precision Train Data:\")\n",
    "precision_train_rf = precision_score(target_train, predictions_train_rf, average='macro', zero_division = 0)\n",
    "display(precision_train_rf)\n",
    "\n",
    "print(\"Makro Precision Test Data:\")\n",
    "precision_test_rf = precision_score(target_test, predictions_test_rf, average='macro', zero_division = 0)\n",
    "display(precision_test_rf)\n",
    "\n",
    "# Makro Recall Score\n",
    "print(\"Makro Recall Train Data:\")\n",
    "recall_train_rf = recall_score(target_train, predictions_train_rf, average='macro')\n",
    "display(recall_train_rf)\n",
    "\n",
    "print(\"Makro Recall Test Data:\")\n",
    "recall_test_rf = recall_score(target_test, predictions_test_rf, average='macro')\n",
    "display(recall_test_rf)"
   ]
  },
  {
   "cell_type": "markdown",
   "metadata": {},
   "source": [
    "#### Confusion Matrix"
   ]
  },
  {
   "cell_type": "code",
   "execution_count": 28,
   "metadata": {},
   "outputs": [],
   "source": [
    "# Function to plot a confusion matrix\n",
    "\n",
    "def plot_confusion_matrix(cm, classes,\n",
    "                          normalize=False,\n",
    "                          title='Confusion matrix',\n",
    "                          cmap=plt.cm.Blues):\n",
    "    \"\"\"\n",
    "    This function prints and plots the confusion matrix.\n",
    "    Normalization can be applied by setting `normalize=True`.\n",
    "    \"\"\"\n",
    "    if normalize:\n",
    "        cm = cm.astype('float') / cm.sum(axis=1)[:, np.newaxis]\n",
    "\n",
    "    plt.imshow(cm, interpolation='nearest', cmap=cmap)\n",
    "    plt.title(title)\n",
    "    plt.colorbar()\n",
    "    tick_marks = np.arange(len(classes))\n",
    "    plt.xticks(tick_marks, classes, rotation=45)\n",
    "    plt.yticks(tick_marks, classes)\n",
    "\n",
    "    fmt = '.2f' if normalize else 'd'\n",
    "    thresh = cm.max() / 2.\n",
    "    for i, j in itertools.product(range(cm.shape[0]), range(cm.shape[1])):\n",
    "        plt.text(j, i, format(cm[i, j], fmt),\n",
    "                 horizontalalignment=\"center\",\n",
    "                 color=\"white\" if cm[i, j] > thresh else \"black\")\n",
    "\n",
    "    plt.ylabel('True label')\n",
    "    plt.xlabel('Predicted label')\n",
    "    plt.tight_layout()"
   ]
  },
  {
   "cell_type": "code",
   "execution_count": 29,
   "metadata": {},
   "outputs": [
    {
     "name": "stdout",
     "output_type": "stream",
     "text": [
      "Confusion Matrix Train Data:\n"
     ]
    },
    {
     "data": {
      "image/png": "[encoded data removed]",
      "text/plain": [
       "<Figure size 432x288 with 2 Axes>"
      ]
     },
     "metadata": {
      "needs_background": "light"
     },
     "output_type": "display_data"
    }
   ],
   "source": [
    "# Confusion Matrix for the training data\n",
    "\n",
    "cnf_matrix_train_rf = confusion_matrix(target_train, predictions_train_rf)\n",
    "np.set_printoptions(precision=2)\n",
    "print(\"Confusion Matrix Train Data:\")\n",
    "plot_confusion_matrix(cnf_matrix_train_rf, classes=np.array([0,1,2]))"
   ]
  },
  {
   "cell_type": "code",
   "execution_count": 30,
   "metadata": {},
   "outputs": [
    {
     "name": "stdout",
     "output_type": "stream",
     "text": [
      "Confusion Matrix Test Data:\n"
     ]
    },
    {
     "data": {
      "text/plain": [
       "None"
      ]
     },
     "metadata": {},
     "output_type": "display_data"
    },
    {
     "data": {
      "image/png": "[encoded data removed]",
      "text/plain": [
       "<Figure size 432x288 with 2 Axes>"
      ]
     },
     "metadata": {
      "needs_background": "light"
     },
     "output_type": "display_data"
    }
   ],
   "source": [
    "# Confusion Matrix for the test data\n",
    "\n",
    "cnf_matrix_test_rf = confusion_matrix(target_test, predictions_test_rf)\n",
    "np.set_printoptions(precision=2)\n",
    "print(\"Confusion Matrix Test Data:\")\n",
    "display(plot_confusion_matrix(cnf_matrix_test_rf, classes=np.array([0,1,2])))"
   ]
  },
  {
   "cell_type": "markdown",
   "metadata": {},
   "source": [
    "## Adoption of the Mode \n",
    "1. First Hyperparameter Tuning\n",
    "2. Oversampling\n",
    "3. Feature Selection\n",
    "4. Second Hyperparameter Tuning\n",
    "\n",
    "In each step the best model, which was achieved until that stage, is utilized."
   ]
  },
  {
   "cell_type": "markdown",
   "metadata": {},
   "source": [
    "### First Hyperparameter Tuning"
   ]
  },
  {
   "cell_type": "code",
   "execution_count": 31,
   "metadata": {},
   "outputs": [
    {
     "name": "stdout",
     "output_type": "stream",
     "text": [
      "Fitting 10 folds for each of 4 candidates, totalling 40 fits\n"
     ]
    },
    {
     "name": "stderr",
     "output_type": "stream",
     "text": [
      "/Users/I500970/opt/anaconda3/lib/python3.8/site-packages/sklearn/model_selection/_search.py:918: UserWarning: One or more of the test scores are non-finite: [0.57  nan 0.56 0.56]\n",
      "  warnings.warn(\n"
     ]
    },
    {
     "data": {
      "text/html": [
       "<div>\n",
       "<style scoped>\n",
       "    .dataframe tbody tr th:only-of-type {\n",
       "        vertical-align: middle;\n",
       "    }\n",
       "\n",
       "    .dataframe tbody tr th {\n",
       "        vertical-align: top;\n",
       "    }\n",
       "\n",
       "    .dataframe thead th {\n",
       "        text-align: right;\n",
       "    }\n",
       "</style>\n",
       "<table border=\"1\" class=\"dataframe\">\n",
       "  <thead>\n",
       "    <tr style=\"text-align: right;\">\n",
       "      <th></th>\n",
       "      <th>mean_fit_time</th>\n",
       "      <th>std_fit_time</th>\n",
       "      <th>mean_score_time</th>\n",
       "      <th>std_score_time</th>\n",
       "      <th>param_max_features</th>\n",
       "      <th>params</th>\n",
       "      <th>split0_test_score</th>\n",
       "      <th>split1_test_score</th>\n",
       "      <th>split2_test_score</th>\n",
       "      <th>split3_test_score</th>\n",
       "      <th>split4_test_score</th>\n",
       "      <th>split5_test_score</th>\n",
       "      <th>split6_test_score</th>\n",
       "      <th>split7_test_score</th>\n",
       "      <th>split8_test_score</th>\n",
       "      <th>split9_test_score</th>\n",
       "      <th>mean_test_score</th>\n",
       "      <th>std_test_score</th>\n",
       "      <th>rank_test_score</th>\n",
       "    </tr>\n",
       "  </thead>\n",
       "  <tbody>\n",
       "    <tr>\n",
       "      <th>0</th>\n",
       "      <td>3.441787</td>\n",
       "      <td>0.043319</td>\n",
       "      <td>0.040692</td>\n",
       "      <td>0.008268</td>\n",
       "      <td>None</td>\n",
       "      <td>{'max_features': None}</td>\n",
       "      <td>0.565094</td>\n",
       "      <td>0.577515</td>\n",
       "      <td>0.558180</td>\n",
       "      <td>0.536058</td>\n",
       "      <td>0.582482</td>\n",
       "      <td>0.554142</td>\n",
       "      <td>0.534282</td>\n",
       "      <td>0.614504</td>\n",
       "      <td>0.611660</td>\n",
       "      <td>0.539264</td>\n",
       "      <td>0.567318</td>\n",
       "      <td>0.027648</td>\n",
       "      <td>1</td>\n",
       "    </tr>\n",
       "    <tr>\n",
       "      <th>1</th>\n",
       "      <td>0.084592</td>\n",
       "      <td>0.007035</td>\n",
       "      <td>0.000000</td>\n",
       "      <td>0.000000</td>\n",
       "      <td>&lt;built-in function sqrt&gt;</td>\n",
       "      <td>{'max_features': &lt;built-in function sqrt&gt;}</td>\n",
       "      <td>NaN</td>\n",
       "      <td>NaN</td>\n",
       "      <td>NaN</td>\n",
       "      <td>NaN</td>\n",
       "      <td>NaN</td>\n",
       "      <td>NaN</td>\n",
       "      <td>NaN</td>\n",
       "      <td>NaN</td>\n",
       "      <td>NaN</td>\n",
       "      <td>NaN</td>\n",
       "      <td>NaN</td>\n",
       "      <td>NaN</td>\n",
       "      <td>4</td>\n",
       "    </tr>\n",
       "    <tr>\n",
       "      <th>2</th>\n",
       "      <td>1.171834</td>\n",
       "      <td>0.101503</td>\n",
       "      <td>0.029517</td>\n",
       "      <td>0.003385</td>\n",
       "      <td>0.3</td>\n",
       "      <td>{'max_features': 0.3}</td>\n",
       "      <td>0.555339</td>\n",
       "      <td>0.560241</td>\n",
       "      <td>0.555915</td>\n",
       "      <td>0.543955</td>\n",
       "      <td>0.581525</td>\n",
       "      <td>0.549987</td>\n",
       "      <td>0.508713</td>\n",
       "      <td>0.601949</td>\n",
       "      <td>0.554252</td>\n",
       "      <td>0.542720</td>\n",
       "      <td>0.555460</td>\n",
       "      <td>0.023184</td>\n",
       "      <td>3</td>\n",
       "    </tr>\n",
       "    <tr>\n",
       "      <th>3</th>\n",
       "      <td>0.870183</td>\n",
       "      <td>0.133385</td>\n",
       "      <td>0.031327</td>\n",
       "      <td>0.005994</td>\n",
       "      <td>2</td>\n",
       "      <td>{'max_features': 2}</td>\n",
       "      <td>0.545373</td>\n",
       "      <td>0.547334</td>\n",
       "      <td>0.559279</td>\n",
       "      <td>0.550132</td>\n",
       "      <td>0.600964</td>\n",
       "      <td>0.552085</td>\n",
       "      <td>0.539223</td>\n",
       "      <td>0.574183</td>\n",
       "      <td>0.551303</td>\n",
       "      <td>0.577366</td>\n",
       "      <td>0.559724</td>\n",
       "      <td>0.017951</td>\n",
       "      <td>2</td>\n",
       "    </tr>\n",
       "  </tbody>\n",
       "</table>\n",
       "</div>"
      ],
      "text/plain": [
       "   mean_fit_time  std_fit_time  mean_score_time  std_score_time  \\\n",
       "0       3.441787      0.043319         0.040692        0.008268   \n",
       "1       0.084592      0.007035         0.000000        0.000000   \n",
       "2       1.171834      0.101503         0.029517        0.003385   \n",
       "3       0.870183      0.133385         0.031327        0.005994   \n",
       "\n",
       "         param_max_features                                      params  \\\n",
       "0                      None                      {'max_features': None}   \n",
       "1  <built-in function sqrt>  {'max_features': <built-in function sqrt>}   \n",
       "2                       0.3                       {'max_features': 0.3}   \n",
       "3                         2                         {'max_features': 2}   \n",
       "\n",
       "   split0_test_score  split1_test_score  split2_test_score  split3_test_score  \\\n",
       "0           0.565094           0.577515           0.558180           0.536058   \n",
       "1                NaN                NaN                NaN                NaN   \n",
       "2           0.555339           0.560241           0.555915           0.543955   \n",
       "3           0.545373           0.547334           0.559279           0.550132   \n",
       "\n",
       "   split4_test_score  split5_test_score  split6_test_score  split7_test_score  \\\n",
       "0           0.582482           0.554142           0.534282           0.614504   \n",
       "1                NaN                NaN                NaN                NaN   \n",
       "2           0.581525           0.549987           0.508713           0.601949   \n",
       "3           0.600964           0.552085           0.539223           0.574183   \n",
       "\n",
       "   split8_test_score  split9_test_score  mean_test_score  std_test_score  \\\n",
       "0           0.611660           0.539264         0.567318        0.027648   \n",
       "1                NaN                NaN              NaN             NaN   \n",
       "2           0.554252           0.542720         0.555460        0.023184   \n",
       "3           0.551303           0.577366         0.559724        0.017951   \n",
       "\n",
       "   rank_test_score  \n",
       "0                1  \n",
       "1                4  \n",
       "2                3  \n",
       "3                2  "
      ]
     },
     "metadata": {},
     "output_type": "display_data"
    },
    {
     "name": "stdout",
     "output_type": "stream",
     "text": [
      "best score is 0.5673183196332705 with params {'max_features': None}\n"
     ]
    }
   ],
   "source": [
    "# Create an estimator\n",
    "random_forest = RandomForestClassifier()\n",
    "\n",
    "# Specify the parameter grid\n",
    "parameters = {\n",
    "    #'max_depth': range(5, 14),\n",
    "    #'n_estimators': [100, 300, 500, 700],\n",
    "    'max_features': [None, sqrt, 0.3, 2],\n",
    "    #'min_samples_leaf': [3, 4, 5],\n",
    "    #'min_samples_split': [8, 10, 12],\n",
    "    \n",
    "}\n",
    "\n",
    "# Specify the cross validation\n",
    "stratified_10_fold_cv = StratifiedKFold(n_splits=10, shuffle=True, random_state=42)\n",
    "\n",
    "# Create the grid search instance\n",
    "grid_search_estimator = GridSearchCV(random_forest, parameters, scoring='f1_macro', cv=stratified_10_fold_cv, n_jobs = -1, verbose = 2, return_train_score=False)\n",
    "\n",
    "# Run the grid search\n",
    "grid_search_estimator.fit(data_train, target_train)\n",
    "\n",
    "# Print the results of all hyper-parameter combinations\n",
    "results = pd.DataFrame(grid_search_estimator.cv_results_)\n",
    "display(results)\n",
    "    \n",
    "# Print the best parameter setting\n",
    "print(\"best score is {} with params {}\".format(grid_search_estimator.best_score_, grid_search_estimator.best_params_))"
   ]
  },
  {
   "cell_type": "markdown",
   "metadata": {},
   "source": [
    "#### Model with Hyperparameter Tuning\n",
    "As a basis the model without the feature type is used, as this model creates the best outcome for both train and test data and reduces the difference between train and test data."
   ]
  },
  {
   "cell_type": "code",
   "execution_count": 32,
   "metadata": {},
   "outputs": [
    {
     "name": "stdout",
     "output_type": "stream",
     "text": [
      "Makro F1-Score Train Data:\n"
     ]
    },
    {
     "data": {
      "text/plain": [
       "0.6661373227162263"
      ]
     },
     "metadata": {},
     "output_type": "display_data"
    },
    {
     "name": "stdout",
     "output_type": "stream",
     "text": [
      "Makro F1-Score Test Data:\n"
     ]
    },
    {
     "data": {
      "text/plain": [
       "0.4889295368077602"
      ]
     },
     "metadata": {},
     "output_type": "display_data"
    },
    {
     "name": "stdout",
     "output_type": "stream",
     "text": [
      "Makro Precision Train Data:\n"
     ]
    },
    {
     "data": {
      "text/plain": [
       "0.9615622800089367"
      ]
     },
     "metadata": {},
     "output_type": "display_data"
    },
    {
     "name": "stdout",
     "output_type": "stream",
     "text": [
      "Makro Precision Test Data:\n"
     ]
    },
    {
     "data": {
      "text/plain": [
       "0.5247889811562376"
      ]
     },
     "metadata": {},
     "output_type": "display_data"
    },
    {
     "name": "stdout",
     "output_type": "stream",
     "text": [
      "Makro Recall Train Data:\n"
     ]
    },
    {
     "data": {
      "text/plain": [
       "0.6216928513099437"
      ]
     },
     "metadata": {},
     "output_type": "display_data"
    },
    {
     "name": "stdout",
     "output_type": "stream",
     "text": [
      "Makro Recall Test Data:\n"
     ]
    },
    {
     "data": {
      "text/plain": [
       "0.47551298157453936"
      ]
     },
     "metadata": {},
     "output_type": "display_data"
    },
    {
     "name": "stdout",
     "output_type": "stream",
     "text": [
      "Confusion Matrix Train Data:\n"
     ]
    },
    {
     "data": {
      "text/plain": [
       "None"
      ]
     },
     "metadata": {},
     "output_type": "display_data"
    },
    {
     "data": {
      "image/png": "[encoded data removed]",
      "text/plain": [
       "<Figure size 432x288 with 2 Axes>"
      ]
     },
     "metadata": {
      "needs_background": "light"
     },
     "output_type": "display_data"
    }
   ],
   "source": [
    "# Changing Hyperparameters\n",
    "\n",
    "# Creation of the RandomForest and the pipeline\n",
    "random_forest = RandomForestClassifier(random_state=0, max_depth = 13, n_estimators = 700, max_features=0.3, min_samples_leaf=3,\n",
    "    min_samples_split=8)\n",
    "\n",
    "pipeline_rf = Pipeline([('estimator', random_forest)])\n",
    "\n",
    "# Fit the model and predict the values for the train data\n",
    "pipeline_rf.fit(data_train, target_train)\n",
    "predictions_train_rf = pipeline_rf.predict(data_train)\n",
    "\n",
    "# Predict values for the test data\n",
    "predictions_test_rf = pipeline_rf.predict(data_test)\n",
    "\n",
    "# Makro F1-Score\n",
    "print(\"Makro F1-Score Train Data:\")\n",
    "f1_score_train_rf = f1_score(target_train, predictions_train_rf, average='macro')\n",
    "display(f1_score_train_rf)\n",
    "\n",
    "print(\"Makro F1-Score Test Data:\")\n",
    "f1_score_test_rf = f1_score(target_test, predictions_test_rf, average='macro')\n",
    "display(f1_score_test_rf)\n",
    "\n",
    "# Makro Precision Score\n",
    "print(\"Makro Precision Train Data:\")\n",
    "precision_train_rf = precision_score(target_train, predictions_train_rf, average='macro', zero_division = 0)\n",
    "display(precision_train_rf)\n",
    "\n",
    "print(\"Makro Precision Test Data:\")\n",
    "precision_test_rf = precision_score(target_test, predictions_test_rf, average='macro', zero_division = 0)\n",
    "display(precision_test_rf)\n",
    "\n",
    "# Makro Recall Score\n",
    "print(\"Makro Recall Train Data:\")\n",
    "recall_train_rf = recall_score(target_train, predictions_train_rf, average='macro')\n",
    "display(recall_train_rf)\n",
    "\n",
    "print(\"Makro Recall Test Data:\")\n",
    "recall_test_rf = recall_score(target_test, predictions_test_rf, average='macro')\n",
    "display(recall_test_rf)\n",
    "\n",
    "# Confusion Matrix for the training data\n",
    "cnf_matrix_train_rf = confusion_matrix(target_train, predictions_train_rf)\n",
    "np.set_printoptions(precision=2)\n",
    "print(\"Confusion Matrix Train Data:\")\n",
    "display(plot_confusion_matrix(cnf_matrix_train_rf, classes=np.array([0,1,2])))"
   ]
  },
  {
   "cell_type": "code",
   "execution_count": 33,
   "metadata": {},
   "outputs": [
    {
     "name": "stdout",
     "output_type": "stream",
     "text": [
      "Confusion Matrix Train Data:\n"
     ]
    },
    {
     "data": {
      "text/plain": [
       "None"
      ]
     },
     "metadata": {},
     "output_type": "display_data"
    },
    {
     "data": {
      "image/png": "[encoded data removed]",
      "text/plain": [
       "<Figure size 432x288 with 2 Axes>"
      ]
     },
     "metadata": {
      "needs_background": "light"
     },
     "output_type": "display_data"
    }
   ],
   "source": [
    "# Confusion Matrix for the test data\n",
    "\n",
    "cnf_matrix_test_rf = confusion_matrix(target_test, predictions_test_rf)\n",
    "np.set_printoptions(precision=2)\n",
    "print(\"Confusion Matrix Train Data:\")\n",
    "display(plot_confusion_matrix(cnf_matrix_test_rf, classes=np.array([0,1,2])))"
   ]
  },
  {
   "cell_type": "markdown",
   "metadata": {},
   "source": [
    "### Oversampling\n",
    "On the basis of the model with the hypertuning of the parameters."
   ]
  },
  {
   "cell_type": "code",
   "execution_count": 34,
   "metadata": {},
   "outputs": [
    {
     "name": "stdout",
     "output_type": "stream",
     "text": [
      "Makro F1-Score Train Data:\n"
     ]
    },
    {
     "data": {
      "text/plain": [
       "0.9655337169257847"
      ]
     },
     "metadata": {},
     "output_type": "display_data"
    },
    {
     "name": "stdout",
     "output_type": "stream",
     "text": [
      "Makro F1-Score Test Data:\n"
     ]
    },
    {
     "data": {
      "text/plain": [
       "0.6106912566606539"
      ]
     },
     "metadata": {},
     "output_type": "display_data"
    },
    {
     "name": "stdout",
     "output_type": "stream",
     "text": [
      "Makro Precision Train Data:\n"
     ]
    },
    {
     "data": {
      "text/plain": [
       "0.9663980551087811"
      ]
     },
     "metadata": {},
     "output_type": "display_data"
    },
    {
     "name": "stdout",
     "output_type": "stream",
     "text": [
      "Makro Precision Test Data:\n"
     ]
    },
    {
     "data": {
      "text/plain": [
       "0.5788475219977814"
      ]
     },
     "metadata": {},
     "output_type": "display_data"
    },
    {
     "name": "stdout",
     "output_type": "stream",
     "text": [
      "Makro Recall Train Data:\n"
     ]
    },
    {
     "data": {
      "text/plain": [
       "0.9657367847867974"
      ]
     },
     "metadata": {},
     "output_type": "display_data"
    },
    {
     "name": "stdout",
     "output_type": "stream",
     "text": [
      "Makro Recall Test Data:\n"
     ]
    },
    {
     "data": {
      "text/plain": [
       "0.6746904430742147"
      ]
     },
     "metadata": {},
     "output_type": "display_data"
    },
    {
     "name": "stdout",
     "output_type": "stream",
     "text": [
      "Confusion Matrix Train Data:\n"
     ]
    },
    {
     "data": {
      "text/plain": [
       "None"
      ]
     },
     "metadata": {},
     "output_type": "display_data"
    },
    {
     "data": {
      "image/png": "[encoded data removed]",
      "text/plain": [
       "<Figure size 432x288 with 2 Axes>"
      ]
     },
     "metadata": {
      "needs_background": "light"
     },
     "output_type": "display_data"
    }
   ],
   "source": [
    "# Oversampling\n",
    "data_train_smt = data_train.copy() \n",
    "target_train_smt = target_train.copy() \n",
    "\n",
    "smt = SMOTE(random_state=42)\n",
    "data_train, target_train = smt.fit_resample(data_train_smt, target_train_smt)\n",
    "\n",
    "# Create estimator and pipeline\n",
    "random_forest = RandomForestClassifier(random_state=0, max_depth = 13, n_estimators = 700, max_features=0.3, min_samples_leaf=3,\n",
    "    min_samples_split=8)\n",
    "pipeline_rf = Pipeline([('estimator', random_forest)])\n",
    "\n",
    "# Fit the model and predict the values for the train data\n",
    "pipeline_rf.fit(data_train, target_train)\n",
    "predictions_train_rf = pipeline_rf.predict(data_train)\n",
    "\n",
    "# Predict values for the test data\n",
    "predictions_test_rf = pipeline_rf.predict(data_test)\n",
    "\n",
    "# Makro F1-Score\n",
    "print(\"Makro F1-Score Train Data:\")\n",
    "f1_score_train_rf = f1_score(target_train, predictions_train_rf, average='macro')\n",
    "display(f1_score_train_rf)\n",
    "\n",
    "print(\"Makro F1-Score Test Data:\")\n",
    "f1_score_test_rf = f1_score(target_test, predictions_test_rf, average='macro')\n",
    "display(f1_score_test_rf)\n",
    "\n",
    "# Makro Precision Score\n",
    "print(\"Makro Precision Train Data:\")\n",
    "precision_train_rf = precision_score(target_train, predictions_train_rf, average='macro', zero_division = 0)\n",
    "display(precision_train_rf)\n",
    "\n",
    "print(\"Makro Precision Test Data:\")\n",
    "precision_test_rf = precision_score(target_test, predictions_test_rf, average='macro', zero_division = 0)\n",
    "display(precision_test_rf)\n",
    "\n",
    "# Makro Recall Score\n",
    "print(\"Makro Recall Train Data:\")\n",
    "recall_train_rf = recall_score(target_train, predictions_train_rf, average='macro')\n",
    "display(recall_train_rf)\n",
    "\n",
    "print(\"Makro Recall Test Data:\")\n",
    "recall_test_rf = recall_score(target_test, predictions_test_rf, average='macro')\n",
    "display(recall_test_rf)\n",
    "\n",
    "# Confusion Matrix for the training data\n",
    "cnf_matrix_train_rf = confusion_matrix(target_train, predictions_train_rf)\n",
    "np.set_printoptions(precision=2)\n",
    "print(\"Confusion Matrix Train Data:\")\n",
    "display(plot_confusion_matrix(cnf_matrix_train_rf, classes=np.array([0,1,2])))"
   ]
  },
  {
   "cell_type": "code",
   "execution_count": 35,
   "metadata": {},
   "outputs": [
    {
     "name": "stdout",
     "output_type": "stream",
     "text": [
      "Confusion Matrix Test Data:\n"
     ]
    },
    {
     "data": {
      "text/plain": [
       "None"
      ]
     },
     "metadata": {},
     "output_type": "display_data"
    },
    {
     "data": {
      "image/png": "[encoded data removed]",
      "text/plain": [
       "<Figure size 432x288 with 2 Axes>"
      ]
     },
     "metadata": {
      "needs_background": "light"
     },
     "output_type": "display_data"
    }
   ],
   "source": [
    "# Confusion Matrix for the test data\n",
    "\n",
    "cnf_matrix_test_rf = confusion_matrix(target_test, predictions_test_rf)\n",
    "np.set_printoptions(precision=2)\n",
    "print(\"Confusion Matrix Test Data:\")\n",
    "display(plot_confusion_matrix(cnf_matrix_test_rf, classes=np.array([0,1,2])))"
   ]
  },
  {
   "cell_type": "markdown",
   "metadata": {},
   "source": [
    "### Feature Selection\n",
    "On the basis of the model with the hypertuning of the parameters and the oversampling."
   ]
  },
  {
   "cell_type": "code",
   "execution_count": 36,
   "metadata": {},
   "outputs": [
    {
     "name": "stdout",
     "output_type": "stream",
     "text": [
      "[0.01 0.06 0.1  0.07 0.07 0.09 0.14 0.08 0.09 0.06 0.08 0.14]\n"
     ]
    },
    {
     "data": {
      "image/png": "[encoded data removed]",
      "text/plain": [
       "<Figure size 432x288 with 1 Axes>"
      ]
     },
     "metadata": {
      "needs_background": "light"
     },
     "output_type": "display_data"
    }
   ],
   "source": [
    "# Feature Importance\n",
    "\n",
    "print(random_forest.feature_importances_) \n",
    "feat_importances = pd.Series(random_forest.feature_importances_, index=features.columns)\n",
    "feat_importances.plot(kind='barh')\n",
    "plt.show()"
   ]
  },
  {
   "cell_type": "code",
   "execution_count": 37,
   "metadata": {},
   "outputs": [
    {
     "data": {
      "text/plain": [
       "Text(0.5, 0, 'Permutation Importance')"
      ]
     },
     "execution_count": 37,
     "metadata": {},
     "output_type": "execute_result"
    },
    {
     "data": {
      "image/png": "[encoded data removed]",
      "text/plain": [
       "<Figure size 432x288 with 1 Axes>"
      ]
     },
     "metadata": {
      "needs_background": "light"
     },
     "output_type": "display_data"
    }
   ],
   "source": [
    "# Permutation Importance\n",
    "\n",
    "perm_importance = permutation_importance(random_forest, data_test, target_test)\n",
    "feature_list = list(features)\n",
    "plt.barh(feature_list, perm_importance.importances_mean)\n",
    "plt.xlabel(\"Permutation Importance\")"
   ]
  },
  {
   "cell_type": "code",
   "execution_count": 38,
   "metadata": {},
   "outputs": [
    {
     "data": {
      "text/html": [
       "<div>\n",
       "<style scoped>\n",
       "    .dataframe tbody tr th:only-of-type {\n",
       "        vertical-align: middle;\n",
       "    }\n",
       "\n",
       "    .dataframe tbody tr th {\n",
       "        vertical-align: top;\n",
       "    }\n",
       "\n",
       "    .dataframe thead th {\n",
       "        text-align: right;\n",
       "    }\n",
       "</style>\n",
       "<table border=\"1\" class=\"dataframe\">\n",
       "  <thead>\n",
       "    <tr style=\"text-align: right;\">\n",
       "      <th></th>\n",
       "      <th>VIF Factor</th>\n",
       "      <th>features</th>\n",
       "    </tr>\n",
       "  </thead>\n",
       "  <tbody>\n",
       "    <tr>\n",
       "      <th>0</th>\n",
       "      <td>1.000000</td>\n",
       "      <td>Intercept</td>\n",
       "    </tr>\n",
       "    <tr>\n",
       "      <th>13</th>\n",
       "      <td>1.239882</td>\n",
       "      <td>quality</td>\n",
       "    </tr>\n",
       "    <tr>\n",
       "      <th>11</th>\n",
       "      <td>1.569112</td>\n",
       "      <td>sulphates</td>\n",
       "    </tr>\n",
       "    <tr>\n",
       "      <th>4</th>\n",
       "      <td>1.620315</td>\n",
       "      <td>citric_acid</td>\n",
       "    </tr>\n",
       "    <tr>\n",
       "      <th>6</th>\n",
       "      <td>1.659194</td>\n",
       "      <td>chlorides</td>\n",
       "    </tr>\n",
       "    <tr>\n",
       "      <th>3</th>\n",
       "      <td>2.215939</td>\n",
       "      <td>volatile_acidity</td>\n",
       "    </tr>\n",
       "    <tr>\n",
       "      <th>7</th>\n",
       "      <td>2.243876</td>\n",
       "      <td>free_sulfur_dioxide</td>\n",
       "    </tr>\n",
       "    <tr>\n",
       "      <th>10</th>\n",
       "      <td>2.554538</td>\n",
       "      <td>pH</td>\n",
       "    </tr>\n",
       "    <tr>\n",
       "      <th>8</th>\n",
       "      <td>4.045689</td>\n",
       "      <td>total_sulfur_dioxide</td>\n",
       "    </tr>\n",
       "    <tr>\n",
       "      <th>2</th>\n",
       "      <td>5.034653</td>\n",
       "      <td>fixed_acidity</td>\n",
       "    </tr>\n",
       "    <tr>\n",
       "      <th>12</th>\n",
       "      <td>5.633620</td>\n",
       "      <td>alcohol</td>\n",
       "    </tr>\n",
       "    <tr>\n",
       "      <th>1</th>\n",
       "      <td>7.285434</td>\n",
       "      <td>type</td>\n",
       "    </tr>\n",
       "    <tr>\n",
       "      <th>5</th>\n",
       "      <td>9.737945</td>\n",
       "      <td>residual_sugar</td>\n",
       "    </tr>\n",
       "    <tr>\n",
       "      <th>9</th>\n",
       "      <td>22.433197</td>\n",
       "      <td>density</td>\n",
       "    </tr>\n",
       "  </tbody>\n",
       "</table>\n",
       "</div>"
      ],
      "text/plain": [
       "    VIF Factor              features\n",
       "0     1.000000             Intercept\n",
       "13    1.239882               quality\n",
       "11    1.569112             sulphates\n",
       "4     1.620315           citric_acid\n",
       "6     1.659194             chlorides\n",
       "3     2.215939      volatile_acidity\n",
       "7     2.243876   free_sulfur_dioxide\n",
       "10    2.554538                    pH\n",
       "8     4.045689  total_sulfur_dioxide\n",
       "2     5.034653         fixed_acidity\n",
       "12    5.633620               alcohol\n",
       "1     7.285434                  type\n",
       "5     9.737945        residual_sugar\n",
       "9    22.433197               density"
      ]
     },
     "metadata": {},
     "output_type": "display_data"
    }
   ],
   "source": [
    "# Feature correlation\n",
    "\n",
    "wines = wine_data.copy()\n",
    "y_ql = wines.drop(columns=['type', 'fixed acidity', 'volatile acidity', 'citric acid', 'residual sugar', 'chlorides', 'free sulfur dioxide', 'total sulfur dioxide', 'density', 'pH', 'sulphates', 'alcohol'])\n",
    "\n",
    "def VRF(predict, data, y):\n",
    "   \n",
    "    scale = StandardScaler(with_std=False)\n",
    "    df = pd.DataFrame(scale.fit_transform(data), columns= cols)\n",
    "    features = \"+\".join(cols)\n",
    "    df['quality_label'] = y.values\n",
    "\n",
    "    # Get y and X dataframes based on this regression:\n",
    "    y, X = dmatrices(predict + ' ~' + features, data = df, return_type='dataframe')\n",
    "\n",
    "    # Calculate VIF Factors: For each X, calculate VIF and save it in the dataframe\n",
    "    vif = pd.DataFrame()\n",
    "    vif[\"VIF Factor\"] = [variance_inflation_factor(X.values, i) for i in range(X.shape[1])]\n",
    "    vif[\"features\"] = X.columns\n",
    "\n",
    "    # Inspect VIF Factors\n",
    "    display(vif.sort_values('VIF Factor'))\n",
    "    return vif\n",
    "\n",
    "cols = wines.columns.str.replace(' ', '_')\n",
    "df = wines.copy()\n",
    "df.columns = cols\n",
    "\n",
    "vif = VRF('quality', df.loc[:, cols], y_ql)"
   ]
  },
  {
   "cell_type": "markdown",
   "metadata": {},
   "source": [
    "####  Feature Importance: Model without type"
   ]
  },
  {
   "cell_type": "code",
   "execution_count": 39,
   "metadata": {},
   "outputs": [
    {
     "name": "stdout",
     "output_type": "stream",
     "text": [
      "Makro F1-Score Train Data:\n"
     ]
    },
    {
     "data": {
      "text/plain": [
       "0.9664583784338382"
      ]
     },
     "metadata": {},
     "output_type": "display_data"
    },
    {
     "name": "stdout",
     "output_type": "stream",
     "text": [
      "Makro F1-Score Test Data:\n"
     ]
    },
    {
     "data": {
      "text/plain": [
       "0.5847776136183854"
      ]
     },
     "metadata": {},
     "output_type": "display_data"
    },
    {
     "name": "stdout",
     "output_type": "stream",
     "text": [
      "Makro Precision Train Data:\n"
     ]
    },
    {
     "data": {
      "text/plain": [
       "0.967318072724292"
      ]
     },
     "metadata": {},
     "output_type": "display_data"
    },
    {
     "name": "stdout",
     "output_type": "stream",
     "text": [
      "Makro Precision Test Data:\n"
     ]
    },
    {
     "data": {
      "text/plain": [
       "0.5579623428252601"
      ]
     },
     "metadata": {},
     "output_type": "display_data"
    },
    {
     "name": "stdout",
     "output_type": "stream",
     "text": [
      "Makro Recall Train Data:\n"
     ]
    },
    {
     "data": {
      "text/plain": [
       "0.9666582893524337"
      ]
     },
     "metadata": {},
     "output_type": "display_data"
    },
    {
     "name": "stdout",
     "output_type": "stream",
     "text": [
      "Makro Recall Test Data:\n"
     ]
    },
    {
     "data": {
      "text/plain": [
       "0.6438324167606742"
      ]
     },
     "metadata": {},
     "output_type": "display_data"
    },
    {
     "name": "stdout",
     "output_type": "stream",
     "text": [
      "Confusion Matrix Train Data:\n"
     ]
    },
    {
     "data": {
      "text/plain": [
       "None"
      ]
     },
     "metadata": {},
     "output_type": "display_data"
    },
    {
     "data": {
      "image/png": "[encoded data removed]",
      "text/plain": [
       "<Figure size 432x288 with 2 Axes>"
      ]
     },
     "metadata": {
      "needs_background": "light"
     },
     "output_type": "display_data"
    }
   ],
   "source": [
    "# Seperation of features and the target variable in two different data frames and dropping column type\n",
    "features = wine_data.drop(columns=['quality', 'type'])\n",
    "target = wine_data.drop(columns=['type', 'fixed acidity', 'volatile acidity', 'citric acid', 'residual sugar', 'chlorides', 'free sulfur dioxide', 'total sulfur dioxide', 'density', 'pH', 'sulphates', 'alcohol'])\n",
    "target = target['quality'].ravel()\n",
    "\n",
    "# Train test split\n",
    "data_train, data_test, target_train, target_test = train_test_split(\n",
    "    features, target, test_size=0.2, random_state=42, stratify=target)\n",
    "\n",
    "# Oversampling\n",
    "data_train_smt = data_train.copy() \n",
    "target_train_smt = target_train.copy() \n",
    "\n",
    "smt = SMOTE(random_state=42)\n",
    "data_train, target_train = smt.fit_resample(data_train_smt, target_train_smt)\n",
    "\n",
    "# Create estimator and pipeline\n",
    "random_forest = RandomForestClassifier(random_state=0, max_depth = 13, n_estimators = 700, max_features=0.3, min_samples_leaf=3,\n",
    "    min_samples_split=8)\n",
    "pipeline_rf = Pipeline([('estimator', random_forest)])\n",
    "\n",
    "# Fit the model and predict the values for the train data\n",
    "pipeline_rf.fit(data_train, target_train)\n",
    "predictions_train_rf = pipeline_rf.predict(data_train)\n",
    "\n",
    "# Predict values for the test data\n",
    "predictions_test_rf = pipeline_rf.predict(data_test)\n",
    "\n",
    "# Makro F1-Score\n",
    "print(\"Makro F1-Score Train Data:\")\n",
    "f1_score_train_rf = f1_score(target_train, predictions_train_rf, average='macro')\n",
    "display(f1_score_train_rf)\n",
    "\n",
    "print(\"Makro F1-Score Test Data:\")\n",
    "f1_score_test_rf = f1_score(target_test, predictions_test_rf, average='macro')\n",
    "display(f1_score_test_rf)\n",
    "\n",
    "# Makro Precision Score\n",
    "print(\"Makro Precision Train Data:\")\n",
    "precision_train_rf = precision_score(target_train, predictions_train_rf, average='macro', zero_division = 0)\n",
    "display(precision_train_rf)\n",
    "\n",
    "print(\"Makro Precision Test Data:\")\n",
    "precision_test_rf = precision_score(target_test, predictions_test_rf, average='macro', zero_division = 0)\n",
    "display(precision_test_rf)\n",
    "\n",
    "# Makro Recall Score\n",
    "print(\"Makro Recall Train Data:\")\n",
    "recall_train_rf = recall_score(target_train, predictions_train_rf, average='macro')\n",
    "display(recall_train_rf)\n",
    "\n",
    "print(\"Makro Recall Test Data:\")\n",
    "recall_test_rf = recall_score(target_test, predictions_test_rf, average='macro')\n",
    "display(recall_test_rf)\n",
    "\n",
    "# Confusion Matrix for the training data\n",
    "cnf_matrix_train_rf = confusion_matrix(target_train, predictions_train_rf)\n",
    "np.set_printoptions(precision=2)\n",
    "print(\"Confusion Matrix Train Data:\")\n",
    "display(plot_confusion_matrix(cnf_matrix_train_rf, classes=np.array([0,1,2])))"
   ]
  },
  {
   "cell_type": "code",
   "execution_count": 40,
   "metadata": {},
   "outputs": [
    {
     "name": "stdout",
     "output_type": "stream",
     "text": [
      "Confusion Matrix Test Data:\n"
     ]
    },
    {
     "data": {
      "text/plain": [
       "None"
      ]
     },
     "metadata": {},
     "output_type": "display_data"
    },
    {
     "data": {
      "image/png": "[encoded data removed]",
      "text/plain": [
       "<Figure size 432x288 with 2 Axes>"
      ]
     },
     "metadata": {
      "needs_background": "light"
     },
     "output_type": "display_data"
    }
   ],
   "source": [
    "# Confusion Matrix for the test data\n",
    "\n",
    "cnf_matrix_test_rf = confusion_matrix(target_test, predictions_test_rf)\n",
    "np.set_printoptions(precision=2)\n",
    "print(\"Confusion Matrix Test Data:\")\n",
    "display(plot_confusion_matrix(cnf_matrix_test_rf, classes=np.array([0,1,2])))"
   ]
  },
  {
   "cell_type": "markdown",
   "metadata": {},
   "source": [
    "#### Feature Permutation: Model without sulphates, total sulfur dioxide, citric acid, and density "
   ]
  },
  {
   "cell_type": "code",
   "execution_count": 41,
   "metadata": {},
   "outputs": [
    {
     "data": {
      "text/html": [
       "<div>\n",
       "<style scoped>\n",
       "    .dataframe tbody tr th:only-of-type {\n",
       "        vertical-align: middle;\n",
       "    }\n",
       "\n",
       "    .dataframe tbody tr th {\n",
       "        vertical-align: top;\n",
       "    }\n",
       "\n",
       "    .dataframe thead th {\n",
       "        text-align: right;\n",
       "    }\n",
       "</style>\n",
       "<table border=\"1\" class=\"dataframe\">\n",
       "  <thead>\n",
       "    <tr style=\"text-align: right;\">\n",
       "      <th></th>\n",
       "      <th>type</th>\n",
       "      <th>fixed acidity</th>\n",
       "      <th>volatile acidity</th>\n",
       "      <th>residual sugar</th>\n",
       "      <th>chlorides</th>\n",
       "      <th>free sulfur dioxide</th>\n",
       "      <th>pH</th>\n",
       "      <th>alcohol</th>\n",
       "    </tr>\n",
       "  </thead>\n",
       "  <tbody>\n",
       "    <tr>\n",
       "      <th>0</th>\n",
       "      <td>1.0</td>\n",
       "      <td>0.264463</td>\n",
       "      <td>0.126667</td>\n",
       "      <td>0.308282</td>\n",
       "      <td>0.059801</td>\n",
       "      <td>0.152778</td>\n",
       "      <td>0.217054</td>\n",
       "      <td>0.115942</td>\n",
       "    </tr>\n",
       "    <tr>\n",
       "      <th>1</th>\n",
       "      <td>1.0</td>\n",
       "      <td>0.206612</td>\n",
       "      <td>0.146667</td>\n",
       "      <td>0.015337</td>\n",
       "      <td>0.066445</td>\n",
       "      <td>0.045139</td>\n",
       "      <td>0.449612</td>\n",
       "      <td>0.217391</td>\n",
       "    </tr>\n",
       "    <tr>\n",
       "      <th>2</th>\n",
       "      <td>1.0</td>\n",
       "      <td>0.355372</td>\n",
       "      <td>0.133333</td>\n",
       "      <td>0.096626</td>\n",
       "      <td>0.068106</td>\n",
       "      <td>0.100694</td>\n",
       "      <td>0.418605</td>\n",
       "      <td>0.304348</td>\n",
       "    </tr>\n",
       "    <tr>\n",
       "      <th>3</th>\n",
       "      <td>1.0</td>\n",
       "      <td>0.280992</td>\n",
       "      <td>0.100000</td>\n",
       "      <td>0.121166</td>\n",
       "      <td>0.081395</td>\n",
       "      <td>0.159722</td>\n",
       "      <td>0.364341</td>\n",
       "      <td>0.275362</td>\n",
       "    </tr>\n",
       "    <tr>\n",
       "      <th>4</th>\n",
       "      <td>1.0</td>\n",
       "      <td>0.280992</td>\n",
       "      <td>0.100000</td>\n",
       "      <td>0.121166</td>\n",
       "      <td>0.081395</td>\n",
       "      <td>0.159722</td>\n",
       "      <td>0.364341</td>\n",
       "      <td>0.275362</td>\n",
       "    </tr>\n",
       "  </tbody>\n",
       "</table>\n",
       "</div>"
      ],
      "text/plain": [
       "   type  fixed acidity  volatile acidity  residual sugar  chlorides  \\\n",
       "0   1.0       0.264463          0.126667        0.308282   0.059801   \n",
       "1   1.0       0.206612          0.146667        0.015337   0.066445   \n",
       "2   1.0       0.355372          0.133333        0.096626   0.068106   \n",
       "3   1.0       0.280992          0.100000        0.121166   0.081395   \n",
       "4   1.0       0.280992          0.100000        0.121166   0.081395   \n",
       "\n",
       "   free sulfur dioxide        pH   alcohol  \n",
       "0             0.152778  0.217054  0.115942  \n",
       "1             0.045139  0.449612  0.217391  \n",
       "2             0.100694  0.418605  0.304348  \n",
       "3             0.159722  0.364341  0.275362  \n",
       "4             0.159722  0.364341  0.275362  "
      ]
     },
     "metadata": {},
     "output_type": "display_data"
    },
    {
     "name": "stdout",
     "output_type": "stream",
     "text": [
      "Makro F1-Score Train Data:\n"
     ]
    },
    {
     "data": {
      "text/plain": [
       "0.9523931543084524"
      ]
     },
     "metadata": {},
     "output_type": "display_data"
    },
    {
     "name": "stdout",
     "output_type": "stream",
     "text": [
      "Makro F1-Score Test Data:\n"
     ]
    },
    {
     "data": {
      "text/plain": [
       "0.5937101726068921"
      ]
     },
     "metadata": {},
     "output_type": "display_data"
    },
    {
     "name": "stdout",
     "output_type": "stream",
     "text": [
      "Makro Precision Train Data:\n"
     ]
    },
    {
     "data": {
      "text/plain": [
       "0.9535064980065456"
      ]
     },
     "metadata": {},
     "output_type": "display_data"
    },
    {
     "name": "stdout",
     "output_type": "stream",
     "text": [
      "Makro Precision Test Data:\n"
     ]
    },
    {
     "data": {
      "text/plain": [
       "0.5626290165912418"
      ]
     },
     "metadata": {},
     "output_type": "display_data"
    },
    {
     "name": "stdout",
     "output_type": "stream",
     "text": [
      "Makro Recall Train Data:\n"
     ]
    },
    {
     "data": {
      "text/plain": [
       "0.9526681745832285"
      ]
     },
     "metadata": {},
     "output_type": "display_data"
    },
    {
     "name": "stdout",
     "output_type": "stream",
     "text": [
      "Makro Recall Test Data:\n"
     ]
    },
    {
     "data": {
      "text/plain": [
       "0.6695894171110656"
      ]
     },
     "metadata": {},
     "output_type": "display_data"
    },
    {
     "name": "stdout",
     "output_type": "stream",
     "text": [
      "Confusion Matrix Train Data:\n"
     ]
    },
    {
     "data": {
      "text/plain": [
       "None"
      ]
     },
     "metadata": {},
     "output_type": "display_data"
    },
    {
     "data": {
      "image/png": "[encoded data removed]",
      "text/plain": [
       "<Figure size 432x288 with 2 Axes>"
      ]
     },
     "metadata": {
      "needs_background": "light"
     },
     "output_type": "display_data"
    }
   ],
   "source": [
    "# Seperation of features and the target variable in two different data frames and dropping the columns quality, pH, and density\n",
    "features = wine_data.drop(columns=['quality', 'sulphates', 'total sulfur dioxide', 'density', 'citric acid', ])\n",
    "display(features.head())\n",
    "target = wine_data.drop(columns=['type', 'fixed acidity', 'volatile acidity', 'citric acid', 'residual sugar', 'chlorides', 'free sulfur dioxide', 'total sulfur dioxide', 'density', 'pH', 'sulphates', 'alcohol'])\n",
    "target = target['quality'].ravel()\n",
    "\n",
    "# Train test split\n",
    "data_train, data_test, target_train, target_test = train_test_split(\n",
    "    features, target, test_size=0.2, random_state=42, stratify=target)\n",
    "\n",
    "# Oversampling\n",
    "data_train_smt = data_train.copy() \n",
    "target_train_smt = target_train.copy() \n",
    "\n",
    "smt = SMOTE(random_state=42)\n",
    "data_train, target_train = smt.fit_resample(data_train_smt, target_train_smt)\n",
    "\n",
    "# Create estimator and pipeline\n",
    "random_forest = RandomForestClassifier(random_state=0, max_depth = 13, n_estimators = 700, max_features=0.3, min_samples_leaf=3,\n",
    "    min_samples_split=8)\n",
    "pipeline_rf = Pipeline([('estimator', random_forest)])\n",
    "\n",
    "# Fit the model and predict the values for the train data\n",
    "pipeline_rf.fit(data_train, target_train)\n",
    "predictions_train_rf = pipeline_rf.predict(data_train)\n",
    "\n",
    "# Predict values for the test data\n",
    "predictions_test_rf = pipeline_rf.predict(data_test)\n",
    "\n",
    "# Makro F1-Score\n",
    "print(\"Makro F1-Score Train Data:\")\n",
    "f1_score_train_rf = f1_score(target_train, predictions_train_rf, average='macro')\n",
    "display(f1_score_train_rf)\n",
    "\n",
    "print(\"Makro F1-Score Test Data:\")\n",
    "f1_score_test_rf = f1_score(target_test, predictions_test_rf, average='macro')\n",
    "display(f1_score_test_rf)\n",
    "\n",
    "# Makro Precision Score\n",
    "print(\"Makro Precision Train Data:\")\n",
    "precision_train_rf = precision_score(target_train, predictions_train_rf, average='macro', zero_division = 0)\n",
    "display(precision_train_rf)\n",
    "\n",
    "print(\"Makro Precision Test Data:\")\n",
    "precision_test_rf = precision_score(target_test, predictions_test_rf, average='macro', zero_division = 0)\n",
    "display(precision_test_rf)\n",
    "\n",
    "# Makro Recall Score\n",
    "print(\"Makro Recall Train Data:\")\n",
    "recall_train_rf = recall_score(target_train, predictions_train_rf, average='macro')\n",
    "display(recall_train_rf)\n",
    "\n",
    "print(\"Makro Recall Test Data:\")\n",
    "recall_test_rf = recall_score(target_test, predictions_test_rf, average='macro')\n",
    "display(recall_test_rf)\n",
    "\n",
    "# Confusion Matrix for the training data\n",
    "cnf_matrix_train_rf = confusion_matrix(target_train, predictions_train_rf)\n",
    "np.set_printoptions(precision=2)\n",
    "print(\"Confusion Matrix Train Data:\")\n",
    "display(plot_confusion_matrix(cnf_matrix_train_rf, classes=np.array([0,1,2])))"
   ]
  },
  {
   "cell_type": "code",
   "execution_count": 42,
   "metadata": {},
   "outputs": [
    {
     "name": "stdout",
     "output_type": "stream",
     "text": [
      "Confusion Matrix Test Data:\n"
     ]
    },
    {
     "data": {
      "text/plain": [
       "None"
      ]
     },
     "metadata": {},
     "output_type": "display_data"
    },
    {
     "data": {
      "image/png": "[encoded data removed]",
      "text/plain": [
       "<Figure size 432x288 with 2 Axes>"
      ]
     },
     "metadata": {
      "needs_background": "light"
     },
     "output_type": "display_data"
    }
   ],
   "source": [
    "# Confusion Matrix for the test data\n",
    "\n",
    "cnf_matrix_test_rf = confusion_matrix(target_test, predictions_test_rf)\n",
    "np.set_printoptions(precision=2)\n",
    "print(\"Confusion Matrix Test Data:\")\n",
    "display(plot_confusion_matrix(cnf_matrix_test_rf, classes=np.array([0,1,2])))"
   ]
  },
  {
   "cell_type": "markdown",
   "metadata": {},
   "source": [
    "#### Feature Correlation: Model without fixed acidity, alcohol, type, residual sugar, and density"
   ]
  },
  {
   "cell_type": "code",
   "execution_count": 43,
   "metadata": {},
   "outputs": [
    {
     "data": {
      "text/html": [
       "<div>\n",
       "<style scoped>\n",
       "    .dataframe tbody tr th:only-of-type {\n",
       "        vertical-align: middle;\n",
       "    }\n",
       "\n",
       "    .dataframe tbody tr th {\n",
       "        vertical-align: top;\n",
       "    }\n",
       "\n",
       "    .dataframe thead th {\n",
       "        text-align: right;\n",
       "    }\n",
       "</style>\n",
       "<table border=\"1\" class=\"dataframe\">\n",
       "  <thead>\n",
       "    <tr style=\"text-align: right;\">\n",
       "      <th></th>\n",
       "      <th>volatile acidity</th>\n",
       "      <th>citric acid</th>\n",
       "      <th>chlorides</th>\n",
       "      <th>free sulfur dioxide</th>\n",
       "      <th>total sulfur dioxide</th>\n",
       "      <th>pH</th>\n",
       "      <th>sulphates</th>\n",
       "    </tr>\n",
       "  </thead>\n",
       "  <tbody>\n",
       "    <tr>\n",
       "      <th>0</th>\n",
       "      <td>0.126667</td>\n",
       "      <td>0.216867</td>\n",
       "      <td>0.059801</td>\n",
       "      <td>0.152778</td>\n",
       "      <td>0.377880</td>\n",
       "      <td>0.217054</td>\n",
       "      <td>0.129213</td>\n",
       "    </tr>\n",
       "    <tr>\n",
       "      <th>1</th>\n",
       "      <td>0.146667</td>\n",
       "      <td>0.204819</td>\n",
       "      <td>0.066445</td>\n",
       "      <td>0.045139</td>\n",
       "      <td>0.290323</td>\n",
       "      <td>0.449612</td>\n",
       "      <td>0.151685</td>\n",
       "    </tr>\n",
       "    <tr>\n",
       "      <th>2</th>\n",
       "      <td>0.133333</td>\n",
       "      <td>0.240964</td>\n",
       "      <td>0.068106</td>\n",
       "      <td>0.100694</td>\n",
       "      <td>0.209677</td>\n",
       "      <td>0.418605</td>\n",
       "      <td>0.123596</td>\n",
       "    </tr>\n",
       "    <tr>\n",
       "      <th>3</th>\n",
       "      <td>0.100000</td>\n",
       "      <td>0.192771</td>\n",
       "      <td>0.081395</td>\n",
       "      <td>0.159722</td>\n",
       "      <td>0.414747</td>\n",
       "      <td>0.364341</td>\n",
       "      <td>0.101124</td>\n",
       "    </tr>\n",
       "    <tr>\n",
       "      <th>4</th>\n",
       "      <td>0.100000</td>\n",
       "      <td>0.192771</td>\n",
       "      <td>0.081395</td>\n",
       "      <td>0.159722</td>\n",
       "      <td>0.414747</td>\n",
       "      <td>0.364341</td>\n",
       "      <td>0.101124</td>\n",
       "    </tr>\n",
       "  </tbody>\n",
       "</table>\n",
       "</div>"
      ],
      "text/plain": [
       "   volatile acidity  citric acid  chlorides  free sulfur dioxide  \\\n",
       "0          0.126667     0.216867   0.059801             0.152778   \n",
       "1          0.146667     0.204819   0.066445             0.045139   \n",
       "2          0.133333     0.240964   0.068106             0.100694   \n",
       "3          0.100000     0.192771   0.081395             0.159722   \n",
       "4          0.100000     0.192771   0.081395             0.159722   \n",
       "\n",
       "   total sulfur dioxide        pH  sulphates  \n",
       "0              0.377880  0.217054   0.129213  \n",
       "1              0.290323  0.449612   0.151685  \n",
       "2              0.209677  0.418605   0.123596  \n",
       "3              0.414747  0.364341   0.101124  \n",
       "4              0.414747  0.364341   0.101124  "
      ]
     },
     "metadata": {},
     "output_type": "display_data"
    },
    {
     "name": "stdout",
     "output_type": "stream",
     "text": [
      "Makro F1-Score Train Data:\n"
     ]
    },
    {
     "data": {
      "text/plain": [
       "0.940501732975012"
      ]
     },
     "metadata": {},
     "output_type": "display_data"
    },
    {
     "name": "stdout",
     "output_type": "stream",
     "text": [
      "Makro F1-Score Test Data:\n"
     ]
    },
    {
     "data": {
      "text/plain": [
       "0.5599905114925142"
      ]
     },
     "metadata": {},
     "output_type": "display_data"
    },
    {
     "name": "stdout",
     "output_type": "stream",
     "text": [
      "Makro Precision Train Data:\n"
     ]
    },
    {
     "data": {
      "text/plain": [
       "0.942436753162155"
      ]
     },
     "metadata": {},
     "output_type": "display_data"
    },
    {
     "name": "stdout",
     "output_type": "stream",
     "text": [
      "Makro Precision Test Data:\n"
     ]
    },
    {
     "data": {
      "text/plain": [
       "0.5338284016821514"
      ]
     },
     "metadata": {},
     "output_type": "display_data"
    },
    {
     "name": "stdout",
     "output_type": "stream",
     "text": [
      "Makro Recall Train Data:\n"
     ]
    },
    {
     "data": {
      "text/plain": [
       "0.940939934656949"
      ]
     },
     "metadata": {},
     "output_type": "display_data"
    },
    {
     "name": "stdout",
     "output_type": "stream",
     "text": [
      "Makro Recall Test Data:\n"
     ]
    },
    {
     "data": {
      "text/plain": [
       "0.6300591232095853"
      ]
     },
     "metadata": {},
     "output_type": "display_data"
    },
    {
     "name": "stdout",
     "output_type": "stream",
     "text": [
      "Confusion Matrix Train Data:\n"
     ]
    },
    {
     "data": {
      "text/plain": [
       "None"
      ]
     },
     "metadata": {},
     "output_type": "display_data"
    },
    {
     "data": {
      "image/png": "[encoded data removed]",
      "text/plain": [
       "<Figure size 432x288 with 2 Axes>"
      ]
     },
     "metadata": {
      "needs_background": "light"
     },
     "output_type": "display_data"
    }
   ],
   "source": [
    "# Seperation of features and the target variable in two different data frames and dropping the columns fixed acidity, alcohol, type, residual sugar, and density\n",
    "features = wine_data.drop(columns=['quality', 'type', 'fixed acidity', 'alcohol', 'density', 'residual sugar'])\n",
    "display(features.head())\n",
    "target = wine_data.drop(columns=['type', 'fixed acidity', 'volatile acidity', 'citric acid', 'residual sugar', 'chlorides', 'free sulfur dioxide', 'total sulfur dioxide', 'density', 'pH', 'sulphates', 'alcohol'])\n",
    "target = target['quality'].ravel()\n",
    "\n",
    "# Train test split\n",
    "data_train, data_test, target_train, target_test = train_test_split(\n",
    "    features, target, test_size=0.2, random_state=42, stratify=target)\n",
    "\n",
    "# Oversampling\n",
    "data_train_smt = data_train.copy() \n",
    "target_train_smt = target_train.copy() \n",
    "\n",
    "smt = SMOTE(random_state=42)\n",
    "data_train, target_train = smt.fit_resample(data_train_smt, target_train_smt)\n",
    "\n",
    "# Create estimator and pipeline\n",
    "random_forest = RandomForestClassifier(random_state=0, max_depth = 13, n_estimators = 700, max_features=0.3, min_samples_leaf=3,\n",
    "    min_samples_split=8)\n",
    "pipeline_rf = Pipeline([('estimator', random_forest)])\n",
    "\n",
    "# Fit the model and predict the values for the train data\n",
    "pipeline_rf.fit(data_train, target_train)\n",
    "predictions_train_rf = pipeline_rf.predict(data_train)\n",
    "\n",
    "# Predict values for the test data\n",
    "predictions_test_rf = pipeline_rf.predict(data_test)\n",
    "\n",
    "# Makro F1-Score\n",
    "print(\"Makro F1-Score Train Data:\")\n",
    "f1_score_train_rf = f1_score(target_train, predictions_train_rf, average='macro')\n",
    "display(f1_score_train_rf)\n",
    "\n",
    "print(\"Makro F1-Score Test Data:\")\n",
    "f1_score_test_rf = f1_score(target_test, predictions_test_rf, average='macro')\n",
    "display(f1_score_test_rf)\n",
    "\n",
    "# Makro Precision Score\n",
    "print(\"Makro Precision Train Data:\")\n",
    "precision_train_rf = precision_score(target_train, predictions_train_rf, average='macro', zero_division = 0)\n",
    "display(precision_train_rf)\n",
    "\n",
    "print(\"Makro Precision Test Data:\")\n",
    "precision_test_rf = precision_score(target_test, predictions_test_rf, average='macro', zero_division = 0)\n",
    "display(precision_test_rf)\n",
    "\n",
    "# Makro Recall Score\n",
    "print(\"Makro Recall Train Data:\")\n",
    "recall_train_rf = recall_score(target_train, predictions_train_rf, average='macro')\n",
    "display(recall_train_rf)\n",
    "\n",
    "print(\"Makro Recall Test Data:\")\n",
    "recall_test_rf = recall_score(target_test, predictions_test_rf, average='macro')\n",
    "display(recall_test_rf)\n",
    "\n",
    "# Confusion Matrix for the training data\n",
    "cnf_matrix_train_rf = confusion_matrix(target_train, predictions_train_rf)\n",
    "np.set_printoptions(precision=2)\n",
    "print(\"Confusion Matrix Train Data:\")\n",
    "display(plot_confusion_matrix(cnf_matrix_train_rf, classes=np.array([0,1,2])))"
   ]
  },
  {
   "cell_type": "code",
   "execution_count": 44,
   "metadata": {},
   "outputs": [
    {
     "name": "stdout",
     "output_type": "stream",
     "text": [
      "Confusion Matrix Test Data:\n"
     ]
    },
    {
     "data": {
      "text/plain": [
       "None"
      ]
     },
     "metadata": {},
     "output_type": "display_data"
    },
    {
     "data": {
      "image/png": "[encoded data removed]",
      "text/plain": [
       "<Figure size 432x288 with 2 Axes>"
      ]
     },
     "metadata": {
      "needs_background": "light"
     },
     "output_type": "display_data"
    }
   ],
   "source": [
    "# Confusion Matrix for the test data\n",
    "\n",
    "cnf_matrix_test_rf = confusion_matrix(target_test, predictions_test_rf)\n",
    "np.set_printoptions(precision=2)\n",
    "print(\"Confusion Matrix Test Data:\")\n",
    "display(plot_confusion_matrix(cnf_matrix_test_rf, classes=np.array([0,1,2])))"
   ]
  },
  {
   "cell_type": "markdown",
   "metadata": {},
   "source": [
    "#### Feature Selection: Model without type, and density\n",
    "Combining all models from above and therefore, only deleting columns, which are rated negatively by at least two of the three methods."
   ]
  },
  {
   "cell_type": "code",
   "execution_count": 45,
   "metadata": {},
   "outputs": [
    {
     "data": {
      "text/html": [
       "<div>\n",
       "<style scoped>\n",
       "    .dataframe tbody tr th:only-of-type {\n",
       "        vertical-align: middle;\n",
       "    }\n",
       "\n",
       "    .dataframe tbody tr th {\n",
       "        vertical-align: top;\n",
       "    }\n",
       "\n",
       "    .dataframe thead th {\n",
       "        text-align: right;\n",
       "    }\n",
       "</style>\n",
       "<table border=\"1\" class=\"dataframe\">\n",
       "  <thead>\n",
       "    <tr style=\"text-align: right;\">\n",
       "      <th></th>\n",
       "      <th>fixed acidity</th>\n",
       "      <th>volatile acidity</th>\n",
       "      <th>citric acid</th>\n",
       "      <th>residual sugar</th>\n",
       "      <th>chlorides</th>\n",
       "      <th>free sulfur dioxide</th>\n",
       "      <th>total sulfur dioxide</th>\n",
       "      <th>pH</th>\n",
       "      <th>sulphates</th>\n",
       "      <th>alcohol</th>\n",
       "    </tr>\n",
       "  </thead>\n",
       "  <tbody>\n",
       "    <tr>\n",
       "      <th>0</th>\n",
       "      <td>0.264463</td>\n",
       "      <td>0.126667</td>\n",
       "      <td>0.216867</td>\n",
       "      <td>0.308282</td>\n",
       "      <td>0.059801</td>\n",
       "      <td>0.152778</td>\n",
       "      <td>0.377880</td>\n",
       "      <td>0.217054</td>\n",
       "      <td>0.129213</td>\n",
       "      <td>0.115942</td>\n",
       "    </tr>\n",
       "    <tr>\n",
       "      <th>1</th>\n",
       "      <td>0.206612</td>\n",
       "      <td>0.146667</td>\n",
       "      <td>0.204819</td>\n",
       "      <td>0.015337</td>\n",
       "      <td>0.066445</td>\n",
       "      <td>0.045139</td>\n",
       "      <td>0.290323</td>\n",
       "      <td>0.449612</td>\n",
       "      <td>0.151685</td>\n",
       "      <td>0.217391</td>\n",
       "    </tr>\n",
       "    <tr>\n",
       "      <th>2</th>\n",
       "      <td>0.355372</td>\n",
       "      <td>0.133333</td>\n",
       "      <td>0.240964</td>\n",
       "      <td>0.096626</td>\n",
       "      <td>0.068106</td>\n",
       "      <td>0.100694</td>\n",
       "      <td>0.209677</td>\n",
       "      <td>0.418605</td>\n",
       "      <td>0.123596</td>\n",
       "      <td>0.304348</td>\n",
       "    </tr>\n",
       "    <tr>\n",
       "      <th>3</th>\n",
       "      <td>0.280992</td>\n",
       "      <td>0.100000</td>\n",
       "      <td>0.192771</td>\n",
       "      <td>0.121166</td>\n",
       "      <td>0.081395</td>\n",
       "      <td>0.159722</td>\n",
       "      <td>0.414747</td>\n",
       "      <td>0.364341</td>\n",
       "      <td>0.101124</td>\n",
       "      <td>0.275362</td>\n",
       "    </tr>\n",
       "    <tr>\n",
       "      <th>4</th>\n",
       "      <td>0.280992</td>\n",
       "      <td>0.100000</td>\n",
       "      <td>0.192771</td>\n",
       "      <td>0.121166</td>\n",
       "      <td>0.081395</td>\n",
       "      <td>0.159722</td>\n",
       "      <td>0.414747</td>\n",
       "      <td>0.364341</td>\n",
       "      <td>0.101124</td>\n",
       "      <td>0.275362</td>\n",
       "    </tr>\n",
       "  </tbody>\n",
       "</table>\n",
       "</div>"
      ],
      "text/plain": [
       "   fixed acidity  volatile acidity  citric acid  residual sugar  chlorides  \\\n",
       "0       0.264463          0.126667     0.216867        0.308282   0.059801   \n",
       "1       0.206612          0.146667     0.204819        0.015337   0.066445   \n",
       "2       0.355372          0.133333     0.240964        0.096626   0.068106   \n",
       "3       0.280992          0.100000     0.192771        0.121166   0.081395   \n",
       "4       0.280992          0.100000     0.192771        0.121166   0.081395   \n",
       "\n",
       "   free sulfur dioxide  total sulfur dioxide        pH  sulphates   alcohol  \n",
       "0             0.152778              0.377880  0.217054   0.129213  0.115942  \n",
       "1             0.045139              0.290323  0.449612   0.151685  0.217391  \n",
       "2             0.100694              0.209677  0.418605   0.123596  0.304348  \n",
       "3             0.159722              0.414747  0.364341   0.101124  0.275362  \n",
       "4             0.159722              0.414747  0.364341   0.101124  0.275362  "
      ]
     },
     "metadata": {},
     "output_type": "display_data"
    },
    {
     "name": "stdout",
     "output_type": "stream",
     "text": [
      "Makro F1-Score Train Data:\n"
     ]
    },
    {
     "data": {
      "text/plain": [
       "0.9638242894567085"
      ]
     },
     "metadata": {},
     "output_type": "display_data"
    },
    {
     "name": "stdout",
     "output_type": "stream",
     "text": [
      "Makro F1-Score Test Data:\n"
     ]
    },
    {
     "data": {
      "text/plain": [
       "0.6036666362497017"
      ]
     },
     "metadata": {},
     "output_type": "display_data"
    },
    {
     "name": "stdout",
     "output_type": "stream",
     "text": [
      "Makro Precision Train Data:\n"
     ]
    },
    {
     "data": {
      "text/plain": [
       "0.9648476141564695"
      ]
     },
     "metadata": {},
     "output_type": "display_data"
    },
    {
     "name": "stdout",
     "output_type": "stream",
     "text": [
      "Makro Precision Test Data:\n"
     ]
    },
    {
     "data": {
      "text/plain": [
       "0.5730939554131288"
      ]
     },
     "metadata": {},
     "output_type": "display_data"
    },
    {
     "name": "stdout",
     "output_type": "stream",
     "text": [
      "Makro Recall Train Data:\n"
     ]
    },
    {
     "data": {
      "text/plain": [
       "0.964061321940186"
      ]
     },
     "metadata": {},
     "output_type": "display_data"
    },
    {
     "name": "stdout",
     "output_type": "stream",
     "text": [
      "Makro Recall Test Data:\n"
     ]
    },
    {
     "data": {
      "text/plain": [
       "0.6659156219020271"
      ]
     },
     "metadata": {},
     "output_type": "display_data"
    },
    {
     "name": "stdout",
     "output_type": "stream",
     "text": [
      "Confusion Matrix Train Data:\n"
     ]
    },
    {
     "data": {
      "text/plain": [
       "None"
      ]
     },
     "metadata": {},
     "output_type": "display_data"
    },
    {
     "data": {
      "image/png": "[encoded data removed]",
      "text/plain": [
       "<Figure size 432x288 with 2 Axes>"
      ]
     },
     "metadata": {
      "needs_background": "light"
     },
     "output_type": "display_data"
    }
   ],
   "source": [
    "# Seperation of features and the target variable in two different data frames and dropping the columns fixed acidity, alcohol, type, residual sugar, and density\n",
    "features = wine_data.drop(columns=['quality', 'density', 'type'])\n",
    "display(features.head())\n",
    "target = wine_data.drop(columns=['type', 'fixed acidity', 'volatile acidity', 'citric acid', 'residual sugar', 'chlorides', 'free sulfur dioxide', 'total sulfur dioxide', 'density', 'pH', 'sulphates', 'alcohol'])\n",
    "target = target['quality'].ravel()\n",
    "\n",
    "# Train test split\n",
    "data_train, data_test, target_train, target_test = train_test_split(\n",
    "    features, target, test_size=0.2, random_state=42, stratify=target)\n",
    "\n",
    "# Oversampling\n",
    "data_train_smt = data_train.copy() \n",
    "target_train_smt = target_train.copy() \n",
    "\n",
    "smt = SMOTE(random_state=42)\n",
    "data_train, target_train = smt.fit_resample(data_train_smt, target_train_smt)\n",
    "\n",
    "# Create estimator and pipeline\n",
    "random_forest = RandomForestClassifier(random_state=0, max_depth = 13, n_estimators = 700, max_features=0.3, min_samples_leaf=3,\n",
    "    min_samples_split=8)\n",
    "pipeline_rf = Pipeline([('estimator', random_forest)])\n",
    "\n",
    "# Fit the model and predict the values for the train data\n",
    "pipeline_rf.fit(data_train, target_train)\n",
    "predictions_train_rf = pipeline_rf.predict(data_train)\n",
    "\n",
    "# Predict values for the test data\n",
    "predictions_test_rf = pipeline_rf.predict(data_test)\n",
    "\n",
    "# Makro F1-Score\n",
    "print(\"Makro F1-Score Train Data:\")\n",
    "f1_score_train_rf = f1_score(target_train, predictions_train_rf, average='macro')\n",
    "display(f1_score_train_rf)\n",
    "\n",
    "print(\"Makro F1-Score Test Data:\")\n",
    "f1_score_test_rf = f1_score(target_test, predictions_test_rf, average='macro')\n",
    "display(f1_score_test_rf)\n",
    "\n",
    "# Makro Precision Score\n",
    "print(\"Makro Precision Train Data:\")\n",
    "precision_train_rf = precision_score(target_train, predictions_train_rf, average='macro', zero_division = 0)\n",
    "display(precision_train_rf)\n",
    "\n",
    "print(\"Makro Precision Test Data:\")\n",
    "precision_test_rf = precision_score(target_test, predictions_test_rf, average='macro', zero_division = 0)\n",
    "display(precision_test_rf)\n",
    "\n",
    "# Makro Recall Score\n",
    "print(\"Makro Recall Train Data:\")\n",
    "recall_train_rf = recall_score(target_train, predictions_train_rf, average='macro')\n",
    "display(recall_train_rf)\n",
    "\n",
    "print(\"Makro Recall Test Data:\")\n",
    "recall_test_rf = recall_score(target_test, predictions_test_rf, average='macro')\n",
    "display(recall_test_rf)\n",
    "\n",
    "# Confusion Matrix for the training data\n",
    "cnf_matrix_train_rf = confusion_matrix(target_train, predictions_train_rf)\n",
    "np.set_printoptions(precision=2)\n",
    "print(\"Confusion Matrix Train Data:\")\n",
    "display(plot_confusion_matrix(cnf_matrix_train_rf, classes=np.array([0,1,2])))"
   ]
  },
  {
   "cell_type": "code",
   "execution_count": 46,
   "metadata": {},
   "outputs": [
    {
     "name": "stdout",
     "output_type": "stream",
     "text": [
      "Confusion Matrix Test Data:\n"
     ]
    },
    {
     "data": {
      "text/plain": [
       "None"
      ]
     },
     "metadata": {},
     "output_type": "display_data"
    },
    {
     "data": {
      "image/png": "[encoded data removed]",
      "text/plain": [
       "<Figure size 432x288 with 2 Axes>"
      ]
     },
     "metadata": {
      "needs_background": "light"
     },
     "output_type": "display_data"
    }
   ],
   "source": [
    "# Confusion Matrix for the test data\n",
    "\n",
    "cnf_matrix_test_rf = confusion_matrix(target_test, predictions_test_rf)\n",
    "np.set_printoptions(precision=2)\n",
    "print(\"Confusion Matrix Test Data:\")\n",
    "display(plot_confusion_matrix(cnf_matrix_test_rf, classes=np.array([0,1,2])))"
   ]
  },
  {
   "cell_type": "markdown",
   "metadata": {},
   "source": [
    "### Second Hyperparameter Tuning"
   ]
  },
  {
   "cell_type": "code",
   "execution_count": 47,
   "metadata": {},
   "outputs": [
    {
     "name": "stdout",
     "output_type": "stream",
     "text": [
      "Fitting 10 folds for each of 9 candidates, totalling 90 fits\n"
     ]
    },
    {
     "data": {
      "text/html": [
       "<div>\n",
       "<style scoped>\n",
       "    .dataframe tbody tr th:only-of-type {\n",
       "        vertical-align: middle;\n",
       "    }\n",
       "\n",
       "    .dataframe tbody tr th {\n",
       "        vertical-align: top;\n",
       "    }\n",
       "\n",
       "    .dataframe thead th {\n",
       "        text-align: right;\n",
       "    }\n",
       "</style>\n",
       "<table border=\"1\" class=\"dataframe\">\n",
       "  <thead>\n",
       "    <tr style=\"text-align: right;\">\n",
       "      <th></th>\n",
       "      <th>mean_fit_time</th>\n",
       "      <th>std_fit_time</th>\n",
       "      <th>mean_score_time</th>\n",
       "      <th>std_score_time</th>\n",
       "      <th>param_min_samples_leaf</th>\n",
       "      <th>param_min_samples_split</th>\n",
       "      <th>params</th>\n",
       "      <th>split0_test_score</th>\n",
       "      <th>split1_test_score</th>\n",
       "      <th>split2_test_score</th>\n",
       "      <th>split3_test_score</th>\n",
       "      <th>split4_test_score</th>\n",
       "      <th>split5_test_score</th>\n",
       "      <th>split6_test_score</th>\n",
       "      <th>split7_test_score</th>\n",
       "      <th>split8_test_score</th>\n",
       "      <th>split9_test_score</th>\n",
       "      <th>mean_test_score</th>\n",
       "      <th>std_test_score</th>\n",
       "      <th>rank_test_score</th>\n",
       "    </tr>\n",
       "  </thead>\n",
       "  <tbody>\n",
       "    <tr>\n",
       "      <th>0</th>\n",
       "      <td>2.699239</td>\n",
       "      <td>0.017335</td>\n",
       "      <td>0.050858</td>\n",
       "      <td>0.003839</td>\n",
       "      <td>3</td>\n",
       "      <td>8</td>\n",
       "      <td>{'min_samples_leaf': 3, 'min_samples_split': 8}</td>\n",
       "      <td>0.917693</td>\n",
       "      <td>0.912083</td>\n",
       "      <td>0.930020</td>\n",
       "      <td>0.909544</td>\n",
       "      <td>0.897073</td>\n",
       "      <td>0.909553</td>\n",
       "      <td>0.912896</td>\n",
       "      <td>0.913067</td>\n",
       "      <td>0.909181</td>\n",
       "      <td>0.914547</td>\n",
       "      <td>0.912566</td>\n",
       "      <td>0.007779</td>\n",
       "      <td>1</td>\n",
       "    </tr>\n",
       "    <tr>\n",
       "      <th>1</th>\n",
       "      <td>2.793141</td>\n",
       "      <td>0.062712</td>\n",
       "      <td>0.051819</td>\n",
       "      <td>0.010018</td>\n",
       "      <td>3</td>\n",
       "      <td>10</td>\n",
       "      <td>{'min_samples_leaf': 3, 'min_samples_split': 10}</td>\n",
       "      <td>0.906827</td>\n",
       "      <td>0.909722</td>\n",
       "      <td>0.926782</td>\n",
       "      <td>0.907124</td>\n",
       "      <td>0.900534</td>\n",
       "      <td>0.908049</td>\n",
       "      <td>0.904388</td>\n",
       "      <td>0.903885</td>\n",
       "      <td>0.900654</td>\n",
       "      <td>0.905814</td>\n",
       "      <td>0.907378</td>\n",
       "      <td>0.007060</td>\n",
       "      <td>2</td>\n",
       "    </tr>\n",
       "    <tr>\n",
       "      <th>2</th>\n",
       "      <td>2.975839</td>\n",
       "      <td>0.136651</td>\n",
       "      <td>0.046822</td>\n",
       "      <td>0.005202</td>\n",
       "      <td>3</td>\n",
       "      <td>12</td>\n",
       "      <td>{'min_samples_leaf': 3, 'min_samples_split': 12}</td>\n",
       "      <td>0.906820</td>\n",
       "      <td>0.909682</td>\n",
       "      <td>0.917509</td>\n",
       "      <td>0.902782</td>\n",
       "      <td>0.897380</td>\n",
       "      <td>0.905289</td>\n",
       "      <td>0.901181</td>\n",
       "      <td>0.899363</td>\n",
       "      <td>0.902552</td>\n",
       "      <td>0.901226</td>\n",
       "      <td>0.904378</td>\n",
       "      <td>0.005545</td>\n",
       "      <td>4</td>\n",
       "    </tr>\n",
       "    <tr>\n",
       "      <th>3</th>\n",
       "      <td>3.080245</td>\n",
       "      <td>0.027650</td>\n",
       "      <td>0.048905</td>\n",
       "      <td>0.005618</td>\n",
       "      <td>4</td>\n",
       "      <td>8</td>\n",
       "      <td>{'min_samples_leaf': 4, 'min_samples_split': 8}</td>\n",
       "      <td>0.906060</td>\n",
       "      <td>0.907741</td>\n",
       "      <td>0.920193</td>\n",
       "      <td>0.906228</td>\n",
       "      <td>0.897134</td>\n",
       "      <td>0.904339</td>\n",
       "      <td>0.903763</td>\n",
       "      <td>0.902922</td>\n",
       "      <td>0.901632</td>\n",
       "      <td>0.908473</td>\n",
       "      <td>0.905849</td>\n",
       "      <td>0.005704</td>\n",
       "      <td>3</td>\n",
       "    </tr>\n",
       "    <tr>\n",
       "      <th>4</th>\n",
       "      <td>3.082027</td>\n",
       "      <td>0.040507</td>\n",
       "      <td>0.047122</td>\n",
       "      <td>0.002393</td>\n",
       "      <td>4</td>\n",
       "      <td>10</td>\n",
       "      <td>{'min_samples_leaf': 4, 'min_samples_split': 10}</td>\n",
       "      <td>0.907532</td>\n",
       "      <td>0.902030</td>\n",
       "      <td>0.922717</td>\n",
       "      <td>0.909629</td>\n",
       "      <td>0.893787</td>\n",
       "      <td>0.902780</td>\n",
       "      <td>0.903473</td>\n",
       "      <td>0.896863</td>\n",
       "      <td>0.891503</td>\n",
       "      <td>0.901685</td>\n",
       "      <td>0.903200</td>\n",
       "      <td>0.008429</td>\n",
       "      <td>5</td>\n",
       "    </tr>\n",
       "    <tr>\n",
       "      <th>5</th>\n",
       "      <td>3.004789</td>\n",
       "      <td>0.016647</td>\n",
       "      <td>0.043967</td>\n",
       "      <td>0.002188</td>\n",
       "      <td>4</td>\n",
       "      <td>12</td>\n",
       "      <td>{'min_samples_leaf': 4, 'min_samples_split': 12}</td>\n",
       "      <td>0.908673</td>\n",
       "      <td>0.908818</td>\n",
       "      <td>0.914305</td>\n",
       "      <td>0.901283</td>\n",
       "      <td>0.899784</td>\n",
       "      <td>0.900998</td>\n",
       "      <td>0.892457</td>\n",
       "      <td>0.893322</td>\n",
       "      <td>0.894748</td>\n",
       "      <td>0.896579</td>\n",
       "      <td>0.901097</td>\n",
       "      <td>0.006993</td>\n",
       "      <td>6</td>\n",
       "    </tr>\n",
       "    <tr>\n",
       "      <th>6</th>\n",
       "      <td>2.958306</td>\n",
       "      <td>0.019926</td>\n",
       "      <td>0.048061</td>\n",
       "      <td>0.003337</td>\n",
       "      <td>5</td>\n",
       "      <td>8</td>\n",
       "      <td>{'min_samples_leaf': 5, 'min_samples_split': 8}</td>\n",
       "      <td>0.904172</td>\n",
       "      <td>0.906976</td>\n",
       "      <td>0.909937</td>\n",
       "      <td>0.892435</td>\n",
       "      <td>0.887025</td>\n",
       "      <td>0.897604</td>\n",
       "      <td>0.892280</td>\n",
       "      <td>0.895865</td>\n",
       "      <td>0.887768</td>\n",
       "      <td>0.901759</td>\n",
       "      <td>0.897582</td>\n",
       "      <td>0.007531</td>\n",
       "      <td>8</td>\n",
       "    </tr>\n",
       "    <tr>\n",
       "      <th>7</th>\n",
       "      <td>2.937677</td>\n",
       "      <td>0.022932</td>\n",
       "      <td>0.045877</td>\n",
       "      <td>0.002043</td>\n",
       "      <td>5</td>\n",
       "      <td>10</td>\n",
       "      <td>{'min_samples_leaf': 5, 'min_samples_split': 10}</td>\n",
       "      <td>0.903544</td>\n",
       "      <td>0.906835</td>\n",
       "      <td>0.914075</td>\n",
       "      <td>0.899544</td>\n",
       "      <td>0.895513</td>\n",
       "      <td>0.900112</td>\n",
       "      <td>0.894918</td>\n",
       "      <td>0.898123</td>\n",
       "      <td>0.887252</td>\n",
       "      <td>0.903299</td>\n",
       "      <td>0.900321</td>\n",
       "      <td>0.006924</td>\n",
       "      <td>7</td>\n",
       "    </tr>\n",
       "    <tr>\n",
       "      <th>8</th>\n",
       "      <td>2.355209</td>\n",
       "      <td>0.469023</td>\n",
       "      <td>0.035357</td>\n",
       "      <td>0.007361</td>\n",
       "      <td>5</td>\n",
       "      <td>12</td>\n",
       "      <td>{'min_samples_leaf': 5, 'min_samples_split': 12}</td>\n",
       "      <td>0.897731</td>\n",
       "      <td>0.901060</td>\n",
       "      <td>0.914052</td>\n",
       "      <td>0.895959</td>\n",
       "      <td>0.888528</td>\n",
       "      <td>0.902831</td>\n",
       "      <td>0.892473</td>\n",
       "      <td>0.887506</td>\n",
       "      <td>0.884002</td>\n",
       "      <td>0.894062</td>\n",
       "      <td>0.895821</td>\n",
       "      <td>0.008300</td>\n",
       "      <td>9</td>\n",
       "    </tr>\n",
       "  </tbody>\n",
       "</table>\n",
       "</div>"
      ],
      "text/plain": [
       "   mean_fit_time  std_fit_time  mean_score_time  std_score_time  \\\n",
       "0       2.699239      0.017335         0.050858        0.003839   \n",
       "1       2.793141      0.062712         0.051819        0.010018   \n",
       "2       2.975839      0.136651         0.046822        0.005202   \n",
       "3       3.080245      0.027650         0.048905        0.005618   \n",
       "4       3.082027      0.040507         0.047122        0.002393   \n",
       "5       3.004789      0.016647         0.043967        0.002188   \n",
       "6       2.958306      0.019926         0.048061        0.003337   \n",
       "7       2.937677      0.022932         0.045877        0.002043   \n",
       "8       2.355209      0.469023         0.035357        0.007361   \n",
       "\n",
       "  param_min_samples_leaf param_min_samples_split  \\\n",
       "0                      3                       8   \n",
       "1                      3                      10   \n",
       "2                      3                      12   \n",
       "3                      4                       8   \n",
       "4                      4                      10   \n",
       "5                      4                      12   \n",
       "6                      5                       8   \n",
       "7                      5                      10   \n",
       "8                      5                      12   \n",
       "\n",
       "                                             params  split0_test_score  \\\n",
       "0   {'min_samples_leaf': 3, 'min_samples_split': 8}           0.917693   \n",
       "1  {'min_samples_leaf': 3, 'min_samples_split': 10}           0.906827   \n",
       "2  {'min_samples_leaf': 3, 'min_samples_split': 12}           0.906820   \n",
       "3   {'min_samples_leaf': 4, 'min_samples_split': 8}           0.906060   \n",
       "4  {'min_samples_leaf': 4, 'min_samples_split': 10}           0.907532   \n",
       "5  {'min_samples_leaf': 4, 'min_samples_split': 12}           0.908673   \n",
       "6   {'min_samples_leaf': 5, 'min_samples_split': 8}           0.904172   \n",
       "7  {'min_samples_leaf': 5, 'min_samples_split': 10}           0.903544   \n",
       "8  {'min_samples_leaf': 5, 'min_samples_split': 12}           0.897731   \n",
       "\n",
       "   split1_test_score  split2_test_score  split3_test_score  split4_test_score  \\\n",
       "0           0.912083           0.930020           0.909544           0.897073   \n",
       "1           0.909722           0.926782           0.907124           0.900534   \n",
       "2           0.909682           0.917509           0.902782           0.897380   \n",
       "3           0.907741           0.920193           0.906228           0.897134   \n",
       "4           0.902030           0.922717           0.909629           0.893787   \n",
       "5           0.908818           0.914305           0.901283           0.899784   \n",
       "6           0.906976           0.909937           0.892435           0.887025   \n",
       "7           0.906835           0.914075           0.899544           0.895513   \n",
       "8           0.901060           0.914052           0.895959           0.888528   \n",
       "\n",
       "   split5_test_score  split6_test_score  split7_test_score  split8_test_score  \\\n",
       "0           0.909553           0.912896           0.913067           0.909181   \n",
       "1           0.908049           0.904388           0.903885           0.900654   \n",
       "2           0.905289           0.901181           0.899363           0.902552   \n",
       "3           0.904339           0.903763           0.902922           0.901632   \n",
       "4           0.902780           0.903473           0.896863           0.891503   \n",
       "5           0.900998           0.892457           0.893322           0.894748   \n",
       "6           0.897604           0.892280           0.895865           0.887768   \n",
       "7           0.900112           0.894918           0.898123           0.887252   \n",
       "8           0.902831           0.892473           0.887506           0.884002   \n",
       "\n",
       "   split9_test_score  mean_test_score  std_test_score  rank_test_score  \n",
       "0           0.914547         0.912566        0.007779                1  \n",
       "1           0.905814         0.907378        0.007060                2  \n",
       "2           0.901226         0.904378        0.005545                4  \n",
       "3           0.908473         0.905849        0.005704                3  \n",
       "4           0.901685         0.903200        0.008429                5  \n",
       "5           0.896579         0.901097        0.006993                6  \n",
       "6           0.901759         0.897582        0.007531                8  \n",
       "7           0.903299         0.900321        0.006924                7  \n",
       "8           0.894062         0.895821        0.008300                9  "
      ]
     },
     "metadata": {},
     "output_type": "display_data"
    },
    {
     "name": "stdout",
     "output_type": "stream",
     "text": [
      "best score is 0.9125655578002231 with params {'min_samples_leaf': 3, 'min_samples_split': 8}\n"
     ]
    }
   ],
   "source": [
    "# Seperation of features and the target variable in two different data frames\n",
    "features = wine_data.drop(columns=['quality'])\n",
    "target = wine_data.drop(columns=['type', 'fixed acidity', 'volatile acidity', 'citric acid', 'residual sugar', 'chlorides', 'free sulfur dioxide', 'total sulfur dioxide', 'density', 'pH', 'sulphates', 'alcohol'])\n",
    "target = target['quality'].ravel()\n",
    "\n",
    "# Train test split\n",
    "data_train, data_test, target_train, target_test = train_test_split(\n",
    "    features, target, test_size=0.2, random_state=42, stratify=target)\n",
    "\n",
    "# Oversampling\n",
    "data_train_smt = data_train.copy() \n",
    "target_train_smt = target_train.copy() \n",
    "\n",
    "smt = SMOTE(random_state=42)\n",
    "data_train, target_train = smt.fit_resample(data_train_smt, target_train_smt)\n",
    "\n",
    "# Create an estimator\n",
    "random_forest = RandomForestClassifier()\n",
    "\n",
    "# Specify the parameter grid\n",
    "parameters = {\n",
    "    #'max_depth': range(5, 14),\n",
    "    #'n_estimators': [100, 300, 500, 700],\n",
    "    #'max_features': [None, sqrt, 0.3, 2],\n",
    "    'min_samples_leaf': [3, 4, 5],\n",
    "    'min_samples_split': [8, 10, 12],\n",
    "    \n",
    "}\n",
    "\n",
    "# Specify the cross validation\n",
    "stratified_10_fold_cv = StratifiedKFold(n_splits=10, shuffle=True, random_state=42)\n",
    "\n",
    "# Create the grid search instance\n",
    "grid_search_estimator = GridSearchCV(random_forest, parameters, scoring='f1_macro', cv=stratified_10_fold_cv, n_jobs = -1, verbose = 2, return_train_score=False)\n",
    "\n",
    "# Run the grid search\n",
    "grid_search_estimator.fit(data_train, target_train)\n",
    "\n",
    "# Print the results of all hyper-parameter combinations\n",
    "results = pd.DataFrame(grid_search_estimator.cv_results_)\n",
    "display(results)\n",
    "    \n",
    "# Print the best parameter setting\n",
    "print(\"best score is {} with params {}\".format(grid_search_estimator.best_score_, grid_search_estimator.best_params_))"
   ]
  },
  {
   "cell_type": "markdown",
   "metadata": {},
   "source": [
    "#### Model with Hyperparameter Tuning"
   ]
  },
  {
   "cell_type": "code",
   "execution_count": 48,
   "metadata": {},
   "outputs": [
    {
     "name": "stdout",
     "output_type": "stream",
     "text": [
      "Makro F1-Score Train Data:\n"
     ]
    },
    {
     "data": {
      "text/plain": [
       "0.965104878055809"
      ]
     },
     "metadata": {},
     "output_type": "display_data"
    },
    {
     "name": "stdout",
     "output_type": "stream",
     "text": [
      "Makro F1-Score Test Data:\n"
     ]
    },
    {
     "data": {
      "text/plain": [
       "0.6071734643606517"
      ]
     },
     "metadata": {},
     "output_type": "display_data"
    },
    {
     "name": "stdout",
     "output_type": "stream",
     "text": [
      "Makro Precision Train Data:\n"
     ]
    },
    {
     "data": {
      "text/plain": [
       "0.965998554154198"
      ]
     },
     "metadata": {},
     "output_type": "display_data"
    },
    {
     "name": "stdout",
     "output_type": "stream",
     "text": [
      "Makro Precision Test Data:\n"
     ]
    },
    {
     "data": {
      "text/plain": [
       "0.5767794437164236"
      ]
     },
     "metadata": {},
     "output_type": "display_data"
    },
    {
     "name": "stdout",
     "output_type": "stream",
     "text": [
      "Makro Recall Train Data:\n"
     ]
    },
    {
     "data": {
      "text/plain": [
       "0.9653179190751445"
      ]
     },
     "metadata": {},
     "output_type": "display_data"
    },
    {
     "name": "stdout",
     "output_type": "stream",
     "text": [
      "Makro Recall Test Data:\n"
     ]
    },
    {
     "data": {
      "text/plain": [
       "0.6666235888199501"
      ]
     },
     "metadata": {},
     "output_type": "display_data"
    },
    {
     "name": "stdout",
     "output_type": "stream",
     "text": [
      "Confusion Matrix Train Data:\n"
     ]
    },
    {
     "data": {
      "text/plain": [
       "None"
      ]
     },
     "metadata": {},
     "output_type": "display_data"
    },
    {
     "data": {
      "image/png": "[encoded data removed]",
      "text/plain": [
       "<Figure size 432x288 with 2 Axes>"
      ]
     },
     "metadata": {
      "needs_background": "light"
     },
     "output_type": "display_data"
    }
   ],
   "source": [
    "# Changing hyperparameters \n",
    "\n",
    "# Create estimator and pipeline\n",
    "random_forest = RandomForestClassifier(random_state=0, max_depth = 13, n_estimators = 500, max_features=0.3, min_samples_leaf=3,\n",
    "    min_samples_split=8)\n",
    "pipeline_rf = Pipeline([('estimator', random_forest)])\n",
    "\n",
    "# Fit the model and predict the values for the train data\n",
    "pipeline_rf.fit(data_train, target_train)\n",
    "predictions_train_rf = pipeline_rf.predict(data_train)\n",
    "\n",
    "# Predict values for the test data\n",
    "predictions_test_rf = pipeline_rf.predict(data_test)\n",
    "\n",
    "# Makro F1-Score\n",
    "print(\"Makro F1-Score Train Data:\")\n",
    "f1_score_train_rf = f1_score(target_train, predictions_train_rf, average='macro')\n",
    "display(f1_score_train_rf)\n",
    "\n",
    "print(\"Makro F1-Score Test Data:\")\n",
    "f1_score_test_rf = f1_score(target_test, predictions_test_rf, average='macro')\n",
    "display(f1_score_test_rf)\n",
    "\n",
    "# Makro Precision Score\n",
    "print(\"Makro Precision Train Data:\")\n",
    "precision_train_rf = precision_score(target_train, predictions_train_rf, average='macro', zero_division = 0)\n",
    "display(precision_train_rf)\n",
    "\n",
    "print(\"Makro Precision Test Data:\")\n",
    "precision_test_rf = precision_score(target_test, predictions_test_rf, average='macro', zero_division = 0)\n",
    "display(precision_test_rf)\n",
    "\n",
    "# Makro Recall Score\n",
    "print(\"Makro Recall Train Data:\")\n",
    "recall_train_rf = recall_score(target_train, predictions_train_rf, average='macro')\n",
    "display(recall_train_rf)\n",
    "\n",
    "print(\"Makro Recall Test Data:\")\n",
    "recall_test_rf = recall_score(target_test, predictions_test_rf, average='macro')\n",
    "display(recall_test_rf)\n",
    "\n",
    "# Confusion Matrix for the training data\n",
    "cnf_matrix_train_rf = confusion_matrix(target_train, predictions_train_rf)\n",
    "np.set_printoptions(precision=2)\n",
    "print(\"Confusion Matrix Train Data:\")\n",
    "display(plot_confusion_matrix(cnf_matrix_train_rf, classes=np.array([0,1,2])))"
   ]
  },
  {
   "cell_type": "code",
   "execution_count": 49,
   "metadata": {},
   "outputs": [
    {
     "name": "stdout",
     "output_type": "stream",
     "text": [
      "Confusion Matrix Test Data:\n"
     ]
    },
    {
     "data": {
      "text/plain": [
       "None"
      ]
     },
     "metadata": {},
     "output_type": "display_data"
    },
    {
     "data": {
      "image/png": "[encoded data removed]",
      "text/plain": [
       "<Figure size 432x288 with 2 Axes>"
      ]
     },
     "metadata": {
      "needs_background": "light"
     },
     "output_type": "display_data"
    }
   ],
   "source": [
    "# Confusion Matrix for the test data\n",
    "\n",
    "cnf_matrix_test_rf = confusion_matrix(target_test, predictions_test_rf)\n",
    "np.set_printoptions(precision=2)\n",
    "print(\"Confusion Matrix Test Data:\")\n",
    "display(plot_confusion_matrix(cnf_matrix_test_rf, classes=np.array([0,1,2])))"
   ]
  },
  {
   "cell_type": "code",
   "execution_count": null,
   "metadata": {},
   "outputs": [],
   "source": []
  }
 ],
 "metadata": {
  "colab": {
   "name": "Wine_Quality_Prediction.ipynb",
   "provenance": []
  },
  "kernelspec": {
   "display_name": "Python 3",
   "language": "python",
   "name": "python3"
  },
  "language_info": {
   "codemirror_mode": {
    "name": "ipython",
    "version": 3
   },
   "file_extension": ".py",
   "mimetype": "text/x-python",
   "name": "python",
   "nbconvert_exporter": "python",
   "pygments_lexer": "ipython3",
   "version": "3.8.8"
  }
 },
 "nbformat": 4,
 "nbformat_minor": 1
}
