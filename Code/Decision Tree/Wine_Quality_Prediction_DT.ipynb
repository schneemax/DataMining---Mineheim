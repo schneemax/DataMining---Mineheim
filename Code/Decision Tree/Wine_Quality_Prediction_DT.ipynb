{
 "cells": [
  {
   "cell_type": "markdown",
   "metadata": {
    "id": "GK7TLvAVjfUZ"
   },
   "source": [
    "# University of Mannheim\n",
    "## Data Mining I -- Group Project\n",
    "### Wine Quality Prediction\n",
    "#### Team members:\n",
    "* Anna-Lena Blinken\n",
    "* Max Darmstadt\n",
    "* Nicolas Hautschek\n",
    "* Erik Penther\n",
    "* Nicolas Fürhaupter"
   ]
  },
  {
   "cell_type": "markdown",
   "metadata": {
    "id": "1zQB_uITj-7f"
   },
   "source": [
    "## Importing Libraries and Data"
   ]
  },
  {
   "cell_type": "code",
   "execution_count": 81,
   "metadata": {
    "colab": {
     "base_uri": "https://localhost:8080/"
    },
    "id": "gsbH9QBLkHDX",
    "outputId": "d8c0d3a1-fec4-4a7a-cdaf-010429f18225"
   },
   "outputs": [],
   "source": [
    "#from google.colab import drive\n",
    "#drive.mount('/gdrive')\n",
    "#%cd /gdrive"
   ]
  },
  {
   "cell_type": "code",
   "execution_count": 82,
   "metadata": {
    "id": "hvggVH9Pj-PA"
   },
   "outputs": [],
   "source": [
    "# Import libraries\n",
    "\n",
    "import pandas as pd\n",
    "import numpy as np\n",
    "import matplotlib.pyplot as plt\n",
    "import seaborn as sns\n",
    "\n",
    "from sklearn.model_selection import train_test_split\n",
    "\n",
    "from sklearn.tree import DecisionTreeClassifier\n",
    "from sklearn.pipeline import Pipeline\n",
    "\n",
    "from sklearn.metrics import mean_squared_error, r2_score\n",
    "from sklearn.metrics import classification_report\n",
    "from math import sqrt\n",
    "from sklearn.model_selection import cross_val_score\n",
    "from sklearn.metrics import f1_score\n",
    "from sklearn.metrics import precision_score\n",
    "from sklearn.metrics import recall_score\n",
    "\n",
    "from sklearn.metrics import confusion_matrix\n",
    "import itertools\n",
    "\n",
    "# Imports\n",
    "from sklearn.metrics import make_scorer\n",
    "from sklearn.metrics import accuracy_score\n",
    "from sklearn.model_selection import StratifiedKFold\n",
    "from sklearn.model_selection import GridSearchCV\n",
    "from sklearn.model_selection import cross_val_predict\n",
    "\n",
    "from imblearn.over_sampling import SMOTE \n",
    "from collections import Counter"
   ]
  },
  {
   "cell_type": "code",
   "execution_count": 83,
   "metadata": {
    "colab": {
     "base_uri": "https://localhost:8080/",
     "height": 204
    },
    "id": "UJRTrgfzn6Km",
    "outputId": "88a8a855-6b22-4498-d107-4044d41ef2d7"
   },
   "outputs": [
    {
     "data": {
      "text/html": [
       "<div>\n",
       "<style scoped>\n",
       "    .dataframe tbody tr th:only-of-type {\n",
       "        vertical-align: middle;\n",
       "    }\n",
       "\n",
       "    .dataframe tbody tr th {\n",
       "        vertical-align: top;\n",
       "    }\n",
       "\n",
       "    .dataframe thead th {\n",
       "        text-align: right;\n",
       "    }\n",
       "</style>\n",
       "<table border=\"1\" class=\"dataframe\">\n",
       "  <thead>\n",
       "    <tr style=\"text-align: right;\">\n",
       "      <th></th>\n",
       "      <th>type</th>\n",
       "      <th>fixed acidity</th>\n",
       "      <th>volatile acidity</th>\n",
       "      <th>citric acid</th>\n",
       "      <th>residual sugar</th>\n",
       "      <th>chlorides</th>\n",
       "      <th>free sulfur dioxide</th>\n",
       "      <th>total sulfur dioxide</th>\n",
       "      <th>density</th>\n",
       "      <th>pH</th>\n",
       "      <th>sulphates</th>\n",
       "      <th>alcohol</th>\n",
       "      <th>quality</th>\n",
       "    </tr>\n",
       "  </thead>\n",
       "  <tbody>\n",
       "    <tr>\n",
       "      <th>0</th>\n",
       "      <td>white</td>\n",
       "      <td>7.0</td>\n",
       "      <td>0.27</td>\n",
       "      <td>0.36</td>\n",
       "      <td>20.7</td>\n",
       "      <td>0.045</td>\n",
       "      <td>45.0</td>\n",
       "      <td>170.0</td>\n",
       "      <td>1.0010</td>\n",
       "      <td>3.00</td>\n",
       "      <td>0.45</td>\n",
       "      <td>8.8</td>\n",
       "      <td>6</td>\n",
       "    </tr>\n",
       "    <tr>\n",
       "      <th>1</th>\n",
       "      <td>white</td>\n",
       "      <td>6.3</td>\n",
       "      <td>0.30</td>\n",
       "      <td>0.34</td>\n",
       "      <td>1.6</td>\n",
       "      <td>0.049</td>\n",
       "      <td>14.0</td>\n",
       "      <td>132.0</td>\n",
       "      <td>0.9940</td>\n",
       "      <td>3.30</td>\n",
       "      <td>0.49</td>\n",
       "      <td>9.5</td>\n",
       "      <td>6</td>\n",
       "    </tr>\n",
       "    <tr>\n",
       "      <th>2</th>\n",
       "      <td>white</td>\n",
       "      <td>8.1</td>\n",
       "      <td>0.28</td>\n",
       "      <td>0.40</td>\n",
       "      <td>6.9</td>\n",
       "      <td>0.050</td>\n",
       "      <td>30.0</td>\n",
       "      <td>97.0</td>\n",
       "      <td>0.9951</td>\n",
       "      <td>3.26</td>\n",
       "      <td>0.44</td>\n",
       "      <td>10.1</td>\n",
       "      <td>6</td>\n",
       "    </tr>\n",
       "    <tr>\n",
       "      <th>3</th>\n",
       "      <td>white</td>\n",
       "      <td>7.2</td>\n",
       "      <td>0.23</td>\n",
       "      <td>0.32</td>\n",
       "      <td>8.5</td>\n",
       "      <td>0.058</td>\n",
       "      <td>47.0</td>\n",
       "      <td>186.0</td>\n",
       "      <td>0.9956</td>\n",
       "      <td>3.19</td>\n",
       "      <td>0.40</td>\n",
       "      <td>9.9</td>\n",
       "      <td>6</td>\n",
       "    </tr>\n",
       "    <tr>\n",
       "      <th>4</th>\n",
       "      <td>white</td>\n",
       "      <td>7.2</td>\n",
       "      <td>0.23</td>\n",
       "      <td>0.32</td>\n",
       "      <td>8.5</td>\n",
       "      <td>0.058</td>\n",
       "      <td>47.0</td>\n",
       "      <td>186.0</td>\n",
       "      <td>0.9956</td>\n",
       "      <td>3.19</td>\n",
       "      <td>0.40</td>\n",
       "      <td>9.9</td>\n",
       "      <td>6</td>\n",
       "    </tr>\n",
       "  </tbody>\n",
       "</table>\n",
       "</div>"
      ],
      "text/plain": [
       "    type  fixed acidity  volatile acidity  citric acid  residual sugar  \\\n",
       "0  white            7.0              0.27         0.36            20.7   \n",
       "1  white            6.3              0.30         0.34             1.6   \n",
       "2  white            8.1              0.28         0.40             6.9   \n",
       "3  white            7.2              0.23         0.32             8.5   \n",
       "4  white            7.2              0.23         0.32             8.5   \n",
       "\n",
       "   chlorides  free sulfur dioxide  total sulfur dioxide  density    pH  \\\n",
       "0      0.045                 45.0                 170.0   1.0010  3.00   \n",
       "1      0.049                 14.0                 132.0   0.9940  3.30   \n",
       "2      0.050                 30.0                  97.0   0.9951  3.26   \n",
       "3      0.058                 47.0                 186.0   0.9956  3.19   \n",
       "4      0.058                 47.0                 186.0   0.9956  3.19   \n",
       "\n",
       "   sulphates  alcohol  quality  \n",
       "0       0.45      8.8        6  \n",
       "1       0.49      9.5        6  \n",
       "2       0.44     10.1        6  \n",
       "3       0.40      9.9        6  \n",
       "4       0.40      9.9        6  "
      ]
     },
     "execution_count": 83,
     "metadata": {},
     "output_type": "execute_result"
    }
   ],
   "source": [
    "# Import wine data\n",
    "\n",
    "wine_data = pd.read_csv('../winequalityN.csv')\n",
    "wine_data.head()"
   ]
  },
  {
   "cell_type": "code",
   "execution_count": 84,
   "metadata": {},
   "outputs": [],
   "source": [
    "def get_scores_train(target, predictions):\n",
    "    print(\"Makro F1-Score Train Data:\")\n",
    "    f1_score_train_knn = f1_score(target, predictions, average='macro')\n",
    "    display(f1_score_train_knn)\n",
    "    print(\"Makro Precision Train Data:\")\n",
    "    precision_train_knn = precision_score(target, predictions, average='macro', zero_division = 0)\n",
    "    display(precision_train_knn)\n",
    "    print(\"Makro Recall Train Data:\")\n",
    "    recall_train_knn = recall_score(target, predictions, average='macro')\n",
    "    display(recall_train_knn)\n",
    "\n",
    "def get_scores_test(target, predictions):\n",
    "    print(\"Makro F1-Score Test Data:\")\n",
    "    f1_score_test_knn = f1_score(target, predictions, average='macro')\n",
    "    display(f1_score_test_knn)\n",
    "    print(\"Makro Precision Test Data:\")\n",
    "    precision_test_knn = precision_score(target, predictions, average='macro', zero_division = 0)\n",
    "    display(precision_test_knn)\n",
    "    print(\"Makro Recall Test Data:\")\n",
    "    recall_test_knn = recall_score(target, predictions, average='macro')\n",
    "    display(recall_test_knn)\n",
    "    \n",
    "\n",
    "# Function to plot a confusion matrix\n",
    "def plot_confusion_matrix(cm, classes,\n",
    "                          normalize=False,\n",
    "                          title='Confusion matrix',\n",
    "                          cmap=plt.cm.Blues):\n",
    "    \"\"\"\n",
    "    This function prints and plots the confusion matrix.\n",
    "    Normalization can be applied by setting `normalize=True`.\n",
    "    \"\"\"\n",
    "    if normalize:\n",
    "        cm = cm.astype('float') / cm.sum(axis=1)[:, np.newaxis]\n",
    "\n",
    "    plt.imshow(cm, interpolation='nearest', cmap=cmap)\n",
    "    plt.title(title)\n",
    "    plt.colorbar()\n",
    "    tick_marks = np.arange(len(classes))\n",
    "    plt.xticks(tick_marks, classes, rotation=45)\n",
    "    plt.yticks(tick_marks, classes)\n",
    "\n",
    "    fmt = '.2f' if normalize else 'd'\n",
    "    thresh = cm.max() / 2.\n",
    "    for i, j in itertools.product(range(cm.shape[0]), range(cm.shape[1])):\n",
    "        plt.text(j, i, format(cm[i, j], fmt),\n",
    "                 horizontalalignment=\"center\",\n",
    "                 color=\"white\" if cm[i, j] > thresh else \"black\")\n",
    "\n",
    "    plt.ylabel('True label')\n",
    "    plt.xlabel('Predicted label')\n",
    "    plt.tight_layout()"
   ]
  },
  {
   "cell_type": "markdown",
   "metadata": {
    "id": "CuM5oEGmKSuW"
   },
   "source": [
    "## Visualize and Analyse Data"
   ]
  },
  {
   "cell_type": "code",
   "execution_count": 85,
   "metadata": {
    "colab": {
     "base_uri": "https://localhost:8080/"
    },
    "id": "nENObjUBjeya",
    "outputId": "121e0e52-176a-43a0-829b-dcb59454c21e",
    "scrolled": true
   },
   "outputs": [
    {
     "name": "stdout",
     "output_type": "stream",
     "text": [
      "<class 'pandas.core.frame.DataFrame'>\n",
      "RangeIndex: 6497 entries, 0 to 6496\n",
      "Data columns (total 13 columns):\n",
      " #   Column                Non-Null Count  Dtype  \n",
      "---  ------                --------------  -----  \n",
      " 0   type                  6497 non-null   object \n",
      " 1   fixed acidity         6487 non-null   float64\n",
      " 2   volatile acidity      6489 non-null   float64\n",
      " 3   citric acid           6494 non-null   float64\n",
      " 4   residual sugar        6495 non-null   float64\n",
      " 5   chlorides             6495 non-null   float64\n",
      " 6   free sulfur dioxide   6497 non-null   float64\n",
      " 7   total sulfur dioxide  6497 non-null   float64\n",
      " 8   density               6497 non-null   float64\n",
      " 9   pH                    6488 non-null   float64\n",
      " 10  sulphates             6493 non-null   float64\n",
      " 11  alcohol               6497 non-null   float64\n",
      " 12  quality               6497 non-null   int64  \n",
      "dtypes: float64(11), int64(1), object(1)\n",
      "memory usage: 660.0+ KB\n"
     ]
    }
   ],
   "source": [
    "# Print wine data info\n",
    "\n",
    "wine_data.info()"
   ]
  },
  {
   "cell_type": "code",
   "execution_count": 86,
   "metadata": {},
   "outputs": [
    {
     "data": {
      "text/html": [
       "<div>\n",
       "<style scoped>\n",
       "    .dataframe tbody tr th:only-of-type {\n",
       "        vertical-align: middle;\n",
       "    }\n",
       "\n",
       "    .dataframe tbody tr th {\n",
       "        vertical-align: top;\n",
       "    }\n",
       "\n",
       "    .dataframe thead th {\n",
       "        text-align: right;\n",
       "    }\n",
       "</style>\n",
       "<table border=\"1\" class=\"dataframe\">\n",
       "  <thead>\n",
       "    <tr style=\"text-align: right;\">\n",
       "      <th></th>\n",
       "      <th>fixed acidity</th>\n",
       "      <th>volatile acidity</th>\n",
       "      <th>citric acid</th>\n",
       "      <th>residual sugar</th>\n",
       "      <th>chlorides</th>\n",
       "      <th>free sulfur dioxide</th>\n",
       "      <th>total sulfur dioxide</th>\n",
       "      <th>density</th>\n",
       "      <th>pH</th>\n",
       "      <th>sulphates</th>\n",
       "      <th>alcohol</th>\n",
       "      <th>quality</th>\n",
       "    </tr>\n",
       "  </thead>\n",
       "  <tbody>\n",
       "    <tr>\n",
       "      <th>count</th>\n",
       "      <td>6487.000000</td>\n",
       "      <td>6489.000000</td>\n",
       "      <td>6494.000000</td>\n",
       "      <td>6495.000000</td>\n",
       "      <td>6495.000000</td>\n",
       "      <td>6497.000000</td>\n",
       "      <td>6497.000000</td>\n",
       "      <td>6497.000000</td>\n",
       "      <td>6488.000000</td>\n",
       "      <td>6493.000000</td>\n",
       "      <td>6497.000000</td>\n",
       "      <td>6497.000000</td>\n",
       "    </tr>\n",
       "    <tr>\n",
       "      <th>mean</th>\n",
       "      <td>7.216579</td>\n",
       "      <td>0.339691</td>\n",
       "      <td>0.318722</td>\n",
       "      <td>5.444326</td>\n",
       "      <td>0.056042</td>\n",
       "      <td>30.525319</td>\n",
       "      <td>115.744574</td>\n",
       "      <td>0.994697</td>\n",
       "      <td>3.218395</td>\n",
       "      <td>0.531215</td>\n",
       "      <td>10.491801</td>\n",
       "      <td>5.818378</td>\n",
       "    </tr>\n",
       "    <tr>\n",
       "      <th>std</th>\n",
       "      <td>1.296750</td>\n",
       "      <td>0.164649</td>\n",
       "      <td>0.145265</td>\n",
       "      <td>4.758125</td>\n",
       "      <td>0.035036</td>\n",
       "      <td>17.749400</td>\n",
       "      <td>56.521855</td>\n",
       "      <td>0.002999</td>\n",
       "      <td>0.160748</td>\n",
       "      <td>0.148814</td>\n",
       "      <td>1.192712</td>\n",
       "      <td>0.873255</td>\n",
       "    </tr>\n",
       "    <tr>\n",
       "      <th>min</th>\n",
       "      <td>3.800000</td>\n",
       "      <td>0.080000</td>\n",
       "      <td>0.000000</td>\n",
       "      <td>0.600000</td>\n",
       "      <td>0.009000</td>\n",
       "      <td>1.000000</td>\n",
       "      <td>6.000000</td>\n",
       "      <td>0.987110</td>\n",
       "      <td>2.720000</td>\n",
       "      <td>0.220000</td>\n",
       "      <td>8.000000</td>\n",
       "      <td>3.000000</td>\n",
       "    </tr>\n",
       "    <tr>\n",
       "      <th>25%</th>\n",
       "      <td>6.400000</td>\n",
       "      <td>0.230000</td>\n",
       "      <td>0.250000</td>\n",
       "      <td>1.800000</td>\n",
       "      <td>0.038000</td>\n",
       "      <td>17.000000</td>\n",
       "      <td>77.000000</td>\n",
       "      <td>0.992340</td>\n",
       "      <td>3.110000</td>\n",
       "      <td>0.430000</td>\n",
       "      <td>9.500000</td>\n",
       "      <td>5.000000</td>\n",
       "    </tr>\n",
       "    <tr>\n",
       "      <th>50%</th>\n",
       "      <td>7.000000</td>\n",
       "      <td>0.290000</td>\n",
       "      <td>0.310000</td>\n",
       "      <td>3.000000</td>\n",
       "      <td>0.047000</td>\n",
       "      <td>29.000000</td>\n",
       "      <td>118.000000</td>\n",
       "      <td>0.994890</td>\n",
       "      <td>3.210000</td>\n",
       "      <td>0.510000</td>\n",
       "      <td>10.300000</td>\n",
       "      <td>6.000000</td>\n",
       "    </tr>\n",
       "    <tr>\n",
       "      <th>75%</th>\n",
       "      <td>7.700000</td>\n",
       "      <td>0.400000</td>\n",
       "      <td>0.390000</td>\n",
       "      <td>8.100000</td>\n",
       "      <td>0.065000</td>\n",
       "      <td>41.000000</td>\n",
       "      <td>156.000000</td>\n",
       "      <td>0.996990</td>\n",
       "      <td>3.320000</td>\n",
       "      <td>0.600000</td>\n",
       "      <td>11.300000</td>\n",
       "      <td>6.000000</td>\n",
       "    </tr>\n",
       "    <tr>\n",
       "      <th>max</th>\n",
       "      <td>15.900000</td>\n",
       "      <td>1.580000</td>\n",
       "      <td>1.660000</td>\n",
       "      <td>65.800000</td>\n",
       "      <td>0.611000</td>\n",
       "      <td>289.000000</td>\n",
       "      <td>440.000000</td>\n",
       "      <td>1.038980</td>\n",
       "      <td>4.010000</td>\n",
       "      <td>2.000000</td>\n",
       "      <td>14.900000</td>\n",
       "      <td>9.000000</td>\n",
       "    </tr>\n",
       "  </tbody>\n",
       "</table>\n",
       "</div>"
      ],
      "text/plain": [
       "       fixed acidity  volatile acidity  citric acid  residual sugar  \\\n",
       "count    6487.000000       6489.000000  6494.000000     6495.000000   \n",
       "mean        7.216579          0.339691     0.318722        5.444326   \n",
       "std         1.296750          0.164649     0.145265        4.758125   \n",
       "min         3.800000          0.080000     0.000000        0.600000   \n",
       "25%         6.400000          0.230000     0.250000        1.800000   \n",
       "50%         7.000000          0.290000     0.310000        3.000000   \n",
       "75%         7.700000          0.400000     0.390000        8.100000   \n",
       "max        15.900000          1.580000     1.660000       65.800000   \n",
       "\n",
       "         chlorides  free sulfur dioxide  total sulfur dioxide      density  \\\n",
       "count  6495.000000          6497.000000           6497.000000  6497.000000   \n",
       "mean      0.056042            30.525319            115.744574     0.994697   \n",
       "std       0.035036            17.749400             56.521855     0.002999   \n",
       "min       0.009000             1.000000              6.000000     0.987110   \n",
       "25%       0.038000            17.000000             77.000000     0.992340   \n",
       "50%       0.047000            29.000000            118.000000     0.994890   \n",
       "75%       0.065000            41.000000            156.000000     0.996990   \n",
       "max       0.611000           289.000000            440.000000     1.038980   \n",
       "\n",
       "                pH    sulphates      alcohol      quality  \n",
       "count  6488.000000  6493.000000  6497.000000  6497.000000  \n",
       "mean      3.218395     0.531215    10.491801     5.818378  \n",
       "std       0.160748     0.148814     1.192712     0.873255  \n",
       "min       2.720000     0.220000     8.000000     3.000000  \n",
       "25%       3.110000     0.430000     9.500000     5.000000  \n",
       "50%       3.210000     0.510000    10.300000     6.000000  \n",
       "75%       3.320000     0.600000    11.300000     6.000000  \n",
       "max       4.010000     2.000000    14.900000     9.000000  "
      ]
     },
     "execution_count": 86,
     "metadata": {},
     "output_type": "execute_result"
    }
   ],
   "source": [
    "# Analyse the data by its mean etc.\n",
    "\n",
    "wine_data.describe()"
   ]
  },
  {
   "cell_type": "markdown",
   "metadata": {},
   "source": [
    "### Null Values"
   ]
  },
  {
   "cell_type": "code",
   "execution_count": 87,
   "metadata": {
    "colab": {
     "base_uri": "https://localhost:8080/"
    },
    "id": "gVKkVJqGnrWu",
    "outputId": "3243cfc6-695e-4f94-c5f4-9786f6f8a5f6"
   },
   "outputs": [
    {
     "data": {
      "text/plain": [
       "type                     0\n",
       "fixed acidity           10\n",
       "volatile acidity         8\n",
       "citric acid              3\n",
       "residual sugar           2\n",
       "chlorides                2\n",
       "free sulfur dioxide      0\n",
       "total sulfur dioxide     0\n",
       "density                  0\n",
       "pH                       9\n",
       "sulphates                4\n",
       "alcohol                  0\n",
       "quality                  0\n",
       "dtype: int64"
      ]
     },
     "execution_count": 87,
     "metadata": {},
     "output_type": "execute_result"
    }
   ],
   "source": [
    "# Check data for null values\n",
    "\n",
    "wine_data.isnull().sum()"
   ]
  },
  {
   "cell_type": "code",
   "execution_count": 88,
   "metadata": {
    "colab": {
     "base_uri": "https://localhost:8080/"
    },
    "id": "_iS0PBQmnxg0",
    "outputId": "0659d752-153b-4c14-be98-6aac6e65d4ef"
   },
   "outputs": [
    {
     "data": {
      "text/plain": [
       "6    2836\n",
       "5    2138\n",
       "7    1079\n",
       "4     216\n",
       "8     193\n",
       "3      30\n",
       "9       5\n",
       "Name: quality, dtype: int64"
      ]
     },
     "execution_count": 88,
     "metadata": {},
     "output_type": "execute_result"
    }
   ],
   "source": [
    "# Check class distribution\n",
    "\n",
    "wine_data.quality.value_counts()"
   ]
  },
  {
   "cell_type": "markdown",
   "metadata": {},
   "source": [
    "### Class Distribution"
   ]
  },
  {
   "cell_type": "code",
   "execution_count": 89,
   "metadata": {
    "colab": {
     "base_uri": "https://localhost:8080/",
     "height": 279
    },
    "id": "bbZypKLWoPDe",
    "outputId": "165db292-f479-4b0c-e6a8-d4d70fa8c178"
   },
   "outputs": [
    {
     "data": {
      "image/png": "[encoded data removed]",
      "text/plain": [
       "<Figure size 432x288 with 1 Axes>"
      ]
     },
     "metadata": {
      "needs_background": "light"
     },
     "output_type": "display_data"
    }
   ],
   "source": [
    "# Visualize class distribution\n",
    "\n",
    "sns.barplot(x=wine_data.quality.value_counts().index, y=wine_data.quality.value_counts())\n",
    "plt.ylabel('samples')\n",
    "plt.xlabel('quality')\n",
    "plt.show()"
   ]
  },
  {
   "cell_type": "code",
   "execution_count": 90,
   "metadata": {
    "id": "QTp4N3nao1u1"
   },
   "outputs": [],
   "source": [
    "# Turn 10 classes into 3 classes\n",
    "\n",
    "wine_data['quality'] = wine_data.quality.apply(lambda x: 2 if x>6 else (1 if x> 4 else 0))"
   ]
  },
  {
   "cell_type": "code",
   "execution_count": 91,
   "metadata": {
    "colab": {
     "base_uri": "https://localhost:8080/"
    },
    "id": "E4M2D7Yqr0ts",
    "outputId": "aeb671f0-97ad-466b-b0f6-ca92be0efc11"
   },
   "outputs": [
    {
     "data": {
      "text/plain": [
       "1    4974\n",
       "2    1277\n",
       "0     246\n",
       "Name: quality, dtype: int64"
      ]
     },
     "execution_count": 91,
     "metadata": {},
     "output_type": "execute_result"
    }
   ],
   "source": [
    "# Check class distribution\n",
    "\n",
    "wine_data.quality.value_counts()"
   ]
  },
  {
   "cell_type": "code",
   "execution_count": 92,
   "metadata": {
    "colab": {
     "base_uri": "https://localhost:8080/",
     "height": 279
    },
    "id": "Ytp1sF8mrGqV",
    "outputId": "ff5f2c11-ffde-4a77-c481-082c053fad81"
   },
   "outputs": [
    {
     "data": {
      "image/png": "[encoded data removed]",
      "text/plain": [
       "<Figure size 432x288 with 1 Axes>"
      ]
     },
     "metadata": {
      "needs_background": "light"
     },
     "output_type": "display_data"
    }
   ],
   "source": [
    "# Visualize class distribution\n",
    "\n",
    "sns.barplot(x=wine_data.quality.value_counts().index, y=wine_data.quality.value_counts())\n",
    "plt.ylabel('samples')\n",
    "plt.xlabel('quality')\n",
    "plt.show()"
   ]
  },
  {
   "cell_type": "code",
   "execution_count": 93,
   "metadata": {},
   "outputs": [],
   "source": [
    "# Turn 10 classes into 2 classes\n",
    "\n",
    "wine_data_2 = pd.read_csv('../winequalityN.csv')\n",
    "wine_data_2['quality'] = wine_data_2.quality.apply(lambda x: 2 if x>5 else 0)"
   ]
  },
  {
   "cell_type": "code",
   "execution_count": 94,
   "metadata": {},
   "outputs": [
    {
     "data": {
      "text/plain": [
       "2    4113\n",
       "0    2384\n",
       "Name: quality, dtype: int64"
      ]
     },
     "execution_count": 94,
     "metadata": {},
     "output_type": "execute_result"
    }
   ],
   "source": [
    "# Check class distribution\n",
    "\n",
    "wine_data_2.quality.value_counts()"
   ]
  },
  {
   "cell_type": "code",
   "execution_count": 95,
   "metadata": {},
   "outputs": [
    {
     "data": {
      "image/png": "[encoded data removed]",
      "text/plain": [
       "<Figure size 432x288 with 1 Axes>"
      ]
     },
     "metadata": {
      "needs_background": "light"
     },
     "output_type": "display_data"
    }
   ],
   "source": [
    "# Visualize class distribution\n",
    "\n",
    "sns.barplot(x=wine_data_2.quality.value_counts().index, y=wine_data_2.quality.value_counts())\n",
    "plt.ylabel('samples')\n",
    "plt.xlabel('quality')\n",
    "plt.show()"
   ]
  },
  {
   "cell_type": "markdown",
   "metadata": {},
   "source": [
    "### Check duplicates"
   ]
  },
  {
   "cell_type": "code",
   "execution_count": 96,
   "metadata": {},
   "outputs": [
    {
     "data": {
      "text/plain": [
       "6497"
      ]
     },
     "metadata": {},
     "output_type": "display_data"
    },
    {
     "data": {
      "text/plain": [
       "6497"
      ]
     },
     "metadata": {},
     "output_type": "display_data"
    }
   ],
   "source": [
    "# Count duplicates and remove duplicates\n",
    "display(len(wine_data.index))\n",
    "wine_data.drop_duplicates()\n",
    "display(len(wine_data.index))"
   ]
  },
  {
   "cell_type": "markdown",
   "metadata": {},
   "source": [
    "### Unique Values"
   ]
  },
  {
   "cell_type": "code",
   "execution_count": 97,
   "metadata": {},
   "outputs": [
    {
     "data": {
      "text/plain": [
       "type                      2\n",
       "fixed acidity           106\n",
       "volatile acidity        187\n",
       "citric acid              89\n",
       "residual sugar          316\n",
       "chlorides               214\n",
       "free sulfur dioxide     135\n",
       "total sulfur dioxide    276\n",
       "density                 998\n",
       "pH                      108\n",
       "sulphates               111\n",
       "alcohol                 111\n",
       "quality                   3\n",
       "dtype: int64"
      ]
     },
     "execution_count": 97,
     "metadata": {},
     "output_type": "execute_result"
    }
   ],
   "source": [
    "# Count uniques values of each column\n",
    "wine_data.nunique()"
   ]
  },
  {
   "cell_type": "markdown",
   "metadata": {},
   "source": [
    "### Distribution of Values"
   ]
  },
  {
   "cell_type": "code",
   "execution_count": 98,
   "metadata": {},
   "outputs": [
    {
     "data": {
      "text/plain": [
       "<AxesSubplot:>"
      ]
     },
     "execution_count": 98,
     "metadata": {},
     "output_type": "execute_result"
    },
    {
     "data": {
      "image/png": "[encoded data removed]",
      "text/plain": [
       "<Figure size 432x288 with 1 Axes>"
      ]
     },
     "metadata": {
      "needs_background": "light"
     },
     "output_type": "display_data"
    }
   ],
   "source": [
    "# Plot histogram for each categorical column\n",
    "\n",
    "wine_data['type'].value_counts().plot(kind='bar')"
   ]
  },
  {
   "cell_type": "code",
   "execution_count": 99,
   "metadata": {},
   "outputs": [
    {
     "data": {
      "text/plain": [
       "array([[<AxesSubplot:title={'center':'fixed acidity'}>,\n",
       "        <AxesSubplot:title={'center':'volatile acidity'}>,\n",
       "        <AxesSubplot:title={'center':'citric acid'}>],\n",
       "       [<AxesSubplot:title={'center':'residual sugar'}>,\n",
       "        <AxesSubplot:title={'center':'chlorides'}>,\n",
       "        <AxesSubplot:title={'center':'free sulfur dioxide'}>],\n",
       "       [<AxesSubplot:title={'center':'total sulfur dioxide'}>,\n",
       "        <AxesSubplot:title={'center':'density'}>,\n",
       "        <AxesSubplot:title={'center':'pH'}>],\n",
       "       [<AxesSubplot:title={'center':'sulphates'}>,\n",
       "        <AxesSubplot:title={'center':'alcohol'}>,\n",
       "        <AxesSubplot:title={'center':'quality'}>]], dtype=object)"
      ]
     },
     "execution_count": 99,
     "metadata": {},
     "output_type": "execute_result"
    },
    {
     "data": {
      "image/png": "[encoded data removed]",
      "text/plain": [
       "<Figure size 1080x720 with 12 Axes>"
      ]
     },
     "metadata": {
      "needs_background": "light"
     },
     "output_type": "display_data"
    }
   ],
   "source": [
    "# Plot histogram for each numerical column\n",
    "\n",
    "wine_data.hist(figsize=(15, 10))"
   ]
  },
  {
   "cell_type": "code",
   "execution_count": 100,
   "metadata": {},
   "outputs": [
    {
     "data": {
      "image/png": "[encoded data removed]",
      "text/plain": [
       "<Figure size 1080x1080 with 144 Axes>"
      ]
     },
     "metadata": {
      "needs_background": "light"
     },
     "output_type": "display_data"
    }
   ],
   "source": [
    "# Scatterplots\n",
    "\n",
    "pd.plotting.scatter_matrix(wine_data, figsize=(15, 15), s=150);"
   ]
  },
  {
   "cell_type": "markdown",
   "metadata": {},
   "source": [
    "## Data Cleaning"
   ]
  },
  {
   "cell_type": "code",
   "execution_count": 101,
   "metadata": {},
   "outputs": [
    {
     "data": {
      "text/plain": [
       "type                    0\n",
       "fixed acidity           0\n",
       "volatile acidity        0\n",
       "citric acid             0\n",
       "residual sugar          0\n",
       "chlorides               0\n",
       "free sulfur dioxide     0\n",
       "total sulfur dioxide    0\n",
       "density                 0\n",
       "pH                      0\n",
       "sulphates               0\n",
       "alcohol                 0\n",
       "quality                 0\n",
       "dtype: int64"
      ]
     },
     "metadata": {},
     "output_type": "display_data"
    },
    {
     "data": {
      "text/plain": [
       "6463"
      ]
     },
     "metadata": {},
     "output_type": "display_data"
    }
   ],
   "source": [
    "# Delete Null-Values \n",
    "\n",
    "wine_data = wine_data.dropna(axis=0, how=\"any\", thresh=None, subset=None, inplace=False)\n",
    "display(wine_data.isnull().sum())\n",
    "display(len(wine_data.index))"
   ]
  },
  {
   "cell_type": "code",
   "execution_count": 102,
   "metadata": {},
   "outputs": [
    {
     "data": {
      "text/html": [
       "<div>\n",
       "<style scoped>\n",
       "    .dataframe tbody tr th:only-of-type {\n",
       "        vertical-align: middle;\n",
       "    }\n",
       "\n",
       "    .dataframe tbody tr th {\n",
       "        vertical-align: top;\n",
       "    }\n",
       "\n",
       "    .dataframe thead th {\n",
       "        text-align: right;\n",
       "    }\n",
       "</style>\n",
       "<table border=\"1\" class=\"dataframe\">\n",
       "  <thead>\n",
       "    <tr style=\"text-align: right;\">\n",
       "      <th></th>\n",
       "      <th>type</th>\n",
       "      <th>fixed acidity</th>\n",
       "      <th>volatile acidity</th>\n",
       "      <th>citric acid</th>\n",
       "      <th>residual sugar</th>\n",
       "      <th>chlorides</th>\n",
       "      <th>free sulfur dioxide</th>\n",
       "      <th>total sulfur dioxide</th>\n",
       "      <th>density</th>\n",
       "      <th>pH</th>\n",
       "      <th>sulphates</th>\n",
       "      <th>alcohol</th>\n",
       "      <th>quality</th>\n",
       "    </tr>\n",
       "  </thead>\n",
       "  <tbody>\n",
       "    <tr>\n",
       "      <th>0</th>\n",
       "      <td>white</td>\n",
       "      <td>7.0</td>\n",
       "      <td>0.27</td>\n",
       "      <td>0.36</td>\n",
       "      <td>20.7</td>\n",
       "      <td>0.045</td>\n",
       "      <td>45.0</td>\n",
       "      <td>170.0</td>\n",
       "      <td>1.0010</td>\n",
       "      <td>3.00</td>\n",
       "      <td>0.45</td>\n",
       "      <td>8.8</td>\n",
       "      <td>1</td>\n",
       "    </tr>\n",
       "    <tr>\n",
       "      <th>1</th>\n",
       "      <td>white</td>\n",
       "      <td>6.3</td>\n",
       "      <td>0.30</td>\n",
       "      <td>0.34</td>\n",
       "      <td>1.6</td>\n",
       "      <td>0.049</td>\n",
       "      <td>14.0</td>\n",
       "      <td>132.0</td>\n",
       "      <td>0.9940</td>\n",
       "      <td>3.30</td>\n",
       "      <td>0.49</td>\n",
       "      <td>9.5</td>\n",
       "      <td>1</td>\n",
       "    </tr>\n",
       "    <tr>\n",
       "      <th>2</th>\n",
       "      <td>white</td>\n",
       "      <td>8.1</td>\n",
       "      <td>0.28</td>\n",
       "      <td>0.40</td>\n",
       "      <td>6.9</td>\n",
       "      <td>0.050</td>\n",
       "      <td>30.0</td>\n",
       "      <td>97.0</td>\n",
       "      <td>0.9951</td>\n",
       "      <td>3.26</td>\n",
       "      <td>0.44</td>\n",
       "      <td>10.1</td>\n",
       "      <td>1</td>\n",
       "    </tr>\n",
       "    <tr>\n",
       "      <th>3</th>\n",
       "      <td>white</td>\n",
       "      <td>7.2</td>\n",
       "      <td>0.23</td>\n",
       "      <td>0.32</td>\n",
       "      <td>8.5</td>\n",
       "      <td>0.058</td>\n",
       "      <td>47.0</td>\n",
       "      <td>186.0</td>\n",
       "      <td>0.9956</td>\n",
       "      <td>3.19</td>\n",
       "      <td>0.40</td>\n",
       "      <td>9.9</td>\n",
       "      <td>1</td>\n",
       "    </tr>\n",
       "    <tr>\n",
       "      <th>4</th>\n",
       "      <td>white</td>\n",
       "      <td>7.2</td>\n",
       "      <td>0.23</td>\n",
       "      <td>0.32</td>\n",
       "      <td>8.5</td>\n",
       "      <td>0.058</td>\n",
       "      <td>47.0</td>\n",
       "      <td>186.0</td>\n",
       "      <td>0.9956</td>\n",
       "      <td>3.19</td>\n",
       "      <td>0.40</td>\n",
       "      <td>9.9</td>\n",
       "      <td>1</td>\n",
       "    </tr>\n",
       "  </tbody>\n",
       "</table>\n",
       "</div>"
      ],
      "text/plain": [
       "    type  fixed acidity  volatile acidity  citric acid  residual sugar  \\\n",
       "0  white            7.0              0.27         0.36            20.7   \n",
       "1  white            6.3              0.30         0.34             1.6   \n",
       "2  white            8.1              0.28         0.40             6.9   \n",
       "3  white            7.2              0.23         0.32             8.5   \n",
       "4  white            7.2              0.23         0.32             8.5   \n",
       "\n",
       "   chlorides  free sulfur dioxide  total sulfur dioxide  density    pH  \\\n",
       "0      0.045                 45.0                 170.0   1.0010  3.00   \n",
       "1      0.049                 14.0                 132.0   0.9940  3.30   \n",
       "2      0.050                 30.0                  97.0   0.9951  3.26   \n",
       "3      0.058                 47.0                 186.0   0.9956  3.19   \n",
       "4      0.058                 47.0                 186.0   0.9956  3.19   \n",
       "\n",
       "   sulphates  alcohol  quality  \n",
       "0       0.45      8.8        1  \n",
       "1       0.49      9.5        1  \n",
       "2       0.44     10.1        1  \n",
       "3       0.40      9.9        1  \n",
       "4       0.40      9.9        1  "
      ]
     },
     "metadata": {},
     "output_type": "display_data"
    },
    {
     "data": {
      "text/html": [
       "<div>\n",
       "<style scoped>\n",
       "    .dataframe tbody tr th:only-of-type {\n",
       "        vertical-align: middle;\n",
       "    }\n",
       "\n",
       "    .dataframe tbody tr th {\n",
       "        vertical-align: top;\n",
       "    }\n",
       "\n",
       "    .dataframe thead th {\n",
       "        text-align: right;\n",
       "    }\n",
       "</style>\n",
       "<table border=\"1\" class=\"dataframe\">\n",
       "  <thead>\n",
       "    <tr style=\"text-align: right;\">\n",
       "      <th></th>\n",
       "      <th>type</th>\n",
       "      <th>fixed acidity</th>\n",
       "      <th>volatile acidity</th>\n",
       "      <th>citric acid</th>\n",
       "      <th>residual sugar</th>\n",
       "      <th>chlorides</th>\n",
       "      <th>free sulfur dioxide</th>\n",
       "      <th>total sulfur dioxide</th>\n",
       "      <th>density</th>\n",
       "      <th>pH</th>\n",
       "      <th>sulphates</th>\n",
       "      <th>alcohol</th>\n",
       "      <th>quality</th>\n",
       "    </tr>\n",
       "  </thead>\n",
       "  <tbody>\n",
       "    <tr>\n",
       "      <th>0</th>\n",
       "      <td>1.0</td>\n",
       "      <td>7.0</td>\n",
       "      <td>0.27</td>\n",
       "      <td>0.36</td>\n",
       "      <td>20.7</td>\n",
       "      <td>0.045</td>\n",
       "      <td>45.0</td>\n",
       "      <td>170.0</td>\n",
       "      <td>1.0010</td>\n",
       "      <td>3.00</td>\n",
       "      <td>0.45</td>\n",
       "      <td>8.8</td>\n",
       "      <td>1</td>\n",
       "    </tr>\n",
       "    <tr>\n",
       "      <th>1</th>\n",
       "      <td>1.0</td>\n",
       "      <td>6.3</td>\n",
       "      <td>0.30</td>\n",
       "      <td>0.34</td>\n",
       "      <td>1.6</td>\n",
       "      <td>0.049</td>\n",
       "      <td>14.0</td>\n",
       "      <td>132.0</td>\n",
       "      <td>0.9940</td>\n",
       "      <td>3.30</td>\n",
       "      <td>0.49</td>\n",
       "      <td>9.5</td>\n",
       "      <td>1</td>\n",
       "    </tr>\n",
       "    <tr>\n",
       "      <th>2</th>\n",
       "      <td>1.0</td>\n",
       "      <td>8.1</td>\n",
       "      <td>0.28</td>\n",
       "      <td>0.40</td>\n",
       "      <td>6.9</td>\n",
       "      <td>0.050</td>\n",
       "      <td>30.0</td>\n",
       "      <td>97.0</td>\n",
       "      <td>0.9951</td>\n",
       "      <td>3.26</td>\n",
       "      <td>0.44</td>\n",
       "      <td>10.1</td>\n",
       "      <td>1</td>\n",
       "    </tr>\n",
       "    <tr>\n",
       "      <th>3</th>\n",
       "      <td>1.0</td>\n",
       "      <td>7.2</td>\n",
       "      <td>0.23</td>\n",
       "      <td>0.32</td>\n",
       "      <td>8.5</td>\n",
       "      <td>0.058</td>\n",
       "      <td>47.0</td>\n",
       "      <td>186.0</td>\n",
       "      <td>0.9956</td>\n",
       "      <td>3.19</td>\n",
       "      <td>0.40</td>\n",
       "      <td>9.9</td>\n",
       "      <td>1</td>\n",
       "    </tr>\n",
       "    <tr>\n",
       "      <th>4</th>\n",
       "      <td>1.0</td>\n",
       "      <td>7.2</td>\n",
       "      <td>0.23</td>\n",
       "      <td>0.32</td>\n",
       "      <td>8.5</td>\n",
       "      <td>0.058</td>\n",
       "      <td>47.0</td>\n",
       "      <td>186.0</td>\n",
       "      <td>0.9956</td>\n",
       "      <td>3.19</td>\n",
       "      <td>0.40</td>\n",
       "      <td>9.9</td>\n",
       "      <td>1</td>\n",
       "    </tr>\n",
       "  </tbody>\n",
       "</table>\n",
       "</div>"
      ],
      "text/plain": [
       "   type  fixed acidity  volatile acidity  citric acid  residual sugar  \\\n",
       "0   1.0            7.0              0.27         0.36            20.7   \n",
       "1   1.0            6.3              0.30         0.34             1.6   \n",
       "2   1.0            8.1              0.28         0.40             6.9   \n",
       "3   1.0            7.2              0.23         0.32             8.5   \n",
       "4   1.0            7.2              0.23         0.32             8.5   \n",
       "\n",
       "   chlorides  free sulfur dioxide  total sulfur dioxide  density    pH  \\\n",
       "0      0.045                 45.0                 170.0   1.0010  3.00   \n",
       "1      0.049                 14.0                 132.0   0.9940  3.30   \n",
       "2      0.050                 30.0                  97.0   0.9951  3.26   \n",
       "3      0.058                 47.0                 186.0   0.9956  3.19   \n",
       "4      0.058                 47.0                 186.0   0.9956  3.19   \n",
       "\n",
       "   sulphates  alcohol  quality  \n",
       "0       0.45      8.8        1  \n",
       "1       0.49      9.5        1  \n",
       "2       0.44     10.1        1  \n",
       "3       0.40      9.9        1  \n",
       "4       0.40      9.9        1  "
      ]
     },
     "execution_count": 102,
     "metadata": {},
     "output_type": "execute_result"
    }
   ],
   "source": [
    "# One Hot Encoder for the attribute type\n",
    "\n",
    "from sklearn import preprocessing\n",
    "\n",
    "# show data before preprocessing\n",
    "display(wine_data.head())\n",
    "\n",
    "# create the OrdinalEncoder\n",
    "ordinal_encoder = preprocessing.OrdinalEncoder()\n",
    "\n",
    "# preprocess the features Product and ZipCode\n",
    "wine_data = wine_data.copy()\n",
    "wine_data[['type']] = ordinal_encoder.fit_transform(wine_data[['type']])\n",
    "\n",
    "# show the results\n",
    "wine_data.head()"
   ]
  },
  {
   "cell_type": "code",
   "execution_count": 103,
   "metadata": {
    "scrolled": true
   },
   "outputs": [
    {
     "data": {
      "text/html": [
       "<div>\n",
       "<style scoped>\n",
       "    .dataframe tbody tr th:only-of-type {\n",
       "        vertical-align: middle;\n",
       "    }\n",
       "\n",
       "    .dataframe tbody tr th {\n",
       "        vertical-align: top;\n",
       "    }\n",
       "\n",
       "    .dataframe thead th {\n",
       "        text-align: right;\n",
       "    }\n",
       "</style>\n",
       "<table border=\"1\" class=\"dataframe\">\n",
       "  <thead>\n",
       "    <tr style=\"text-align: right;\">\n",
       "      <th></th>\n",
       "      <th>type</th>\n",
       "      <th>fixed acidity</th>\n",
       "      <th>volatile acidity</th>\n",
       "      <th>citric acid</th>\n",
       "      <th>residual sugar</th>\n",
       "      <th>chlorides</th>\n",
       "      <th>free sulfur dioxide</th>\n",
       "      <th>total sulfur dioxide</th>\n",
       "      <th>density</th>\n",
       "      <th>pH</th>\n",
       "      <th>sulphates</th>\n",
       "      <th>alcohol</th>\n",
       "      <th>quality</th>\n",
       "    </tr>\n",
       "  </thead>\n",
       "  <tbody>\n",
       "    <tr>\n",
       "      <th>0</th>\n",
       "      <td>1.0</td>\n",
       "      <td>7.0</td>\n",
       "      <td>0.27</td>\n",
       "      <td>0.36</td>\n",
       "      <td>20.7</td>\n",
       "      <td>0.045</td>\n",
       "      <td>45.0</td>\n",
       "      <td>170.0</td>\n",
       "      <td>1.0010</td>\n",
       "      <td>3.00</td>\n",
       "      <td>0.45</td>\n",
       "      <td>8.8</td>\n",
       "      <td>1</td>\n",
       "    </tr>\n",
       "    <tr>\n",
       "      <th>1</th>\n",
       "      <td>1.0</td>\n",
       "      <td>6.3</td>\n",
       "      <td>0.30</td>\n",
       "      <td>0.34</td>\n",
       "      <td>1.6</td>\n",
       "      <td>0.049</td>\n",
       "      <td>14.0</td>\n",
       "      <td>132.0</td>\n",
       "      <td>0.9940</td>\n",
       "      <td>3.30</td>\n",
       "      <td>0.49</td>\n",
       "      <td>9.5</td>\n",
       "      <td>1</td>\n",
       "    </tr>\n",
       "    <tr>\n",
       "      <th>2</th>\n",
       "      <td>1.0</td>\n",
       "      <td>8.1</td>\n",
       "      <td>0.28</td>\n",
       "      <td>0.40</td>\n",
       "      <td>6.9</td>\n",
       "      <td>0.050</td>\n",
       "      <td>30.0</td>\n",
       "      <td>97.0</td>\n",
       "      <td>0.9951</td>\n",
       "      <td>3.26</td>\n",
       "      <td>0.44</td>\n",
       "      <td>10.1</td>\n",
       "      <td>1</td>\n",
       "    </tr>\n",
       "    <tr>\n",
       "      <th>3</th>\n",
       "      <td>1.0</td>\n",
       "      <td>7.2</td>\n",
       "      <td>0.23</td>\n",
       "      <td>0.32</td>\n",
       "      <td>8.5</td>\n",
       "      <td>0.058</td>\n",
       "      <td>47.0</td>\n",
       "      <td>186.0</td>\n",
       "      <td>0.9956</td>\n",
       "      <td>3.19</td>\n",
       "      <td>0.40</td>\n",
       "      <td>9.9</td>\n",
       "      <td>1</td>\n",
       "    </tr>\n",
       "    <tr>\n",
       "      <th>4</th>\n",
       "      <td>1.0</td>\n",
       "      <td>7.2</td>\n",
       "      <td>0.23</td>\n",
       "      <td>0.32</td>\n",
       "      <td>8.5</td>\n",
       "      <td>0.058</td>\n",
       "      <td>47.0</td>\n",
       "      <td>186.0</td>\n",
       "      <td>0.9956</td>\n",
       "      <td>3.19</td>\n",
       "      <td>0.40</td>\n",
       "      <td>9.9</td>\n",
       "      <td>1</td>\n",
       "    </tr>\n",
       "  </tbody>\n",
       "</table>\n",
       "</div>"
      ],
      "text/plain": [
       "   type  fixed acidity  volatile acidity  citric acid  residual sugar  \\\n",
       "0   1.0            7.0              0.27         0.36            20.7   \n",
       "1   1.0            6.3              0.30         0.34             1.6   \n",
       "2   1.0            8.1              0.28         0.40             6.9   \n",
       "3   1.0            7.2              0.23         0.32             8.5   \n",
       "4   1.0            7.2              0.23         0.32             8.5   \n",
       "\n",
       "   chlorides  free sulfur dioxide  total sulfur dioxide  density    pH  \\\n",
       "0      0.045                 45.0                 170.0   1.0010  3.00   \n",
       "1      0.049                 14.0                 132.0   0.9940  3.30   \n",
       "2      0.050                 30.0                  97.0   0.9951  3.26   \n",
       "3      0.058                 47.0                 186.0   0.9956  3.19   \n",
       "4      0.058                 47.0                 186.0   0.9956  3.19   \n",
       "\n",
       "   sulphates  alcohol  quality  \n",
       "0       0.45      8.8        1  \n",
       "1       0.49      9.5        1  \n",
       "2       0.44     10.1        1  \n",
       "3       0.40      9.9        1  \n",
       "4       0.40      9.9        1  "
      ]
     },
     "metadata": {},
     "output_type": "display_data"
    },
    {
     "data": {
      "text/html": [
       "<div>\n",
       "<style scoped>\n",
       "    .dataframe tbody tr th:only-of-type {\n",
       "        vertical-align: middle;\n",
       "    }\n",
       "\n",
       "    .dataframe tbody tr th {\n",
       "        vertical-align: top;\n",
       "    }\n",
       "\n",
       "    .dataframe thead th {\n",
       "        text-align: right;\n",
       "    }\n",
       "</style>\n",
       "<table border=\"1\" class=\"dataframe\">\n",
       "  <thead>\n",
       "    <tr style=\"text-align: right;\">\n",
       "      <th></th>\n",
       "      <th>type</th>\n",
       "      <th>fixed acidity</th>\n",
       "      <th>volatile acidity</th>\n",
       "      <th>citric acid</th>\n",
       "      <th>residual sugar</th>\n",
       "      <th>chlorides</th>\n",
       "      <th>free sulfur dioxide</th>\n",
       "      <th>total sulfur dioxide</th>\n",
       "      <th>density</th>\n",
       "      <th>pH</th>\n",
       "      <th>sulphates</th>\n",
       "      <th>alcohol</th>\n",
       "      <th>quality</th>\n",
       "    </tr>\n",
       "  </thead>\n",
       "  <tbody>\n",
       "    <tr>\n",
       "      <th>0</th>\n",
       "      <td>1.0</td>\n",
       "      <td>0.264463</td>\n",
       "      <td>0.126667</td>\n",
       "      <td>0.216867</td>\n",
       "      <td>0.308282</td>\n",
       "      <td>0.059801</td>\n",
       "      <td>0.152778</td>\n",
       "      <td>0.377880</td>\n",
       "      <td>0.267785</td>\n",
       "      <td>0.217054</td>\n",
       "      <td>0.129213</td>\n",
       "      <td>0.115942</td>\n",
       "      <td>1</td>\n",
       "    </tr>\n",
       "    <tr>\n",
       "      <th>1</th>\n",
       "      <td>1.0</td>\n",
       "      <td>0.206612</td>\n",
       "      <td>0.146667</td>\n",
       "      <td>0.204819</td>\n",
       "      <td>0.015337</td>\n",
       "      <td>0.066445</td>\n",
       "      <td>0.045139</td>\n",
       "      <td>0.290323</td>\n",
       "      <td>0.132832</td>\n",
       "      <td>0.449612</td>\n",
       "      <td>0.151685</td>\n",
       "      <td>0.217391</td>\n",
       "      <td>1</td>\n",
       "    </tr>\n",
       "    <tr>\n",
       "      <th>2</th>\n",
       "      <td>1.0</td>\n",
       "      <td>0.355372</td>\n",
       "      <td>0.133333</td>\n",
       "      <td>0.240964</td>\n",
       "      <td>0.096626</td>\n",
       "      <td>0.068106</td>\n",
       "      <td>0.100694</td>\n",
       "      <td>0.209677</td>\n",
       "      <td>0.154039</td>\n",
       "      <td>0.418605</td>\n",
       "      <td>0.123596</td>\n",
       "      <td>0.304348</td>\n",
       "      <td>1</td>\n",
       "    </tr>\n",
       "    <tr>\n",
       "      <th>3</th>\n",
       "      <td>1.0</td>\n",
       "      <td>0.280992</td>\n",
       "      <td>0.100000</td>\n",
       "      <td>0.192771</td>\n",
       "      <td>0.121166</td>\n",
       "      <td>0.081395</td>\n",
       "      <td>0.159722</td>\n",
       "      <td>0.414747</td>\n",
       "      <td>0.163678</td>\n",
       "      <td>0.364341</td>\n",
       "      <td>0.101124</td>\n",
       "      <td>0.275362</td>\n",
       "      <td>1</td>\n",
       "    </tr>\n",
       "    <tr>\n",
       "      <th>4</th>\n",
       "      <td>1.0</td>\n",
       "      <td>0.280992</td>\n",
       "      <td>0.100000</td>\n",
       "      <td>0.192771</td>\n",
       "      <td>0.121166</td>\n",
       "      <td>0.081395</td>\n",
       "      <td>0.159722</td>\n",
       "      <td>0.414747</td>\n",
       "      <td>0.163678</td>\n",
       "      <td>0.364341</td>\n",
       "      <td>0.101124</td>\n",
       "      <td>0.275362</td>\n",
       "      <td>1</td>\n",
       "    </tr>\n",
       "  </tbody>\n",
       "</table>\n",
       "</div>"
      ],
      "text/plain": [
       "   type  fixed acidity  volatile acidity  citric acid  residual sugar  \\\n",
       "0   1.0       0.264463          0.126667     0.216867        0.308282   \n",
       "1   1.0       0.206612          0.146667     0.204819        0.015337   \n",
       "2   1.0       0.355372          0.133333     0.240964        0.096626   \n",
       "3   1.0       0.280992          0.100000     0.192771        0.121166   \n",
       "4   1.0       0.280992          0.100000     0.192771        0.121166   \n",
       "\n",
       "   chlorides  free sulfur dioxide  total sulfur dioxide   density        pH  \\\n",
       "0   0.059801             0.152778              0.377880  0.267785  0.217054   \n",
       "1   0.066445             0.045139              0.290323  0.132832  0.449612   \n",
       "2   0.068106             0.100694              0.209677  0.154039  0.418605   \n",
       "3   0.081395             0.159722              0.414747  0.163678  0.364341   \n",
       "4   0.081395             0.159722              0.414747  0.163678  0.364341   \n",
       "\n",
       "   sulphates   alcohol  quality  \n",
       "0   0.129213  0.115942        1  \n",
       "1   0.151685  0.217391        1  \n",
       "2   0.123596  0.304348        1  \n",
       "3   0.101124  0.275362        1  \n",
       "4   0.101124  0.275362        1  "
      ]
     },
     "metadata": {},
     "output_type": "display_data"
    }
   ],
   "source": [
    "# Normalisation of numerical values\n",
    "\n",
    "# show data before preprocessing\n",
    "display(wine_data.head())\n",
    "\n",
    "# create the normaliser\n",
    "scaler = preprocessing.MinMaxScaler()\n",
    "\n",
    "# preprocess the features ItemsBought and ItemsReturned\n",
    "wine_data = wine_data.copy()\n",
    "wine_data[['fixed acidity', 'volatile acidity', 'citric acid', 'residual sugar', 'chlorides', 'free sulfur dioxide', 'total sulfur dioxide', 'density', 'pH', 'sulphates', 'alcohol']] = scaler.fit_transform(wine_data[['fixed acidity', 'volatile acidity', 'citric acid', 'residual sugar', 'chlorides', 'free sulfur dioxide', 'total sulfur dioxide', 'density', 'pH', 'sulphates', 'alcohol']])\n",
    "\n",
    "# show the results\n",
    "display(wine_data.head())"
   ]
  },
  {
   "cell_type": "code",
   "execution_count": 104,
   "metadata": {},
   "outputs": [
    {
     "data": {
      "text/plain": [
       "type                     0\n",
       "fixed acidity            0\n",
       "volatile acidity         1\n",
       "citric acid              1\n",
       "residual sugar           1\n",
       "chlorides               47\n",
       "free sulfur dioxide      2\n",
       "total sulfur dioxide     0\n",
       "density                  1\n",
       "pH                       0\n",
       "sulphates                8\n",
       "alcohol                  0\n",
       "quality                  0\n",
       "dtype: int64"
      ]
     },
     "metadata": {},
     "output_type": "display_data"
    },
    {
     "data": {
      "text/plain": [
       "type                    0\n",
       "fixed acidity           0\n",
       "volatile acidity        0\n",
       "citric acid             0\n",
       "residual sugar          0\n",
       "chlorides               0\n",
       "free sulfur dioxide     0\n",
       "total sulfur dioxide    0\n",
       "density                 0\n",
       "pH                      0\n",
       "sulphates               0\n",
       "alcohol                 0\n",
       "quality                 0\n",
       "dtype: int64"
      ]
     },
     "metadata": {},
     "output_type": "display_data"
    },
    {
     "data": {
      "text/plain": [
       "6406"
      ]
     },
     "metadata": {},
     "output_type": "display_data"
    },
    {
     "data": {
      "text/plain": [
       "57"
      ]
     },
     "execution_count": 104,
     "metadata": {},
     "output_type": "execute_result"
    }
   ],
   "source": [
    "# Deleting outliers\n",
    "\n",
    "# Defining columns for the outlier detection (type and quality are not included)\n",
    "wine_data_columns = ['fixed acidity',\n",
    " 'volatile acidity',\n",
    " 'citric acid',\n",
    " 'residual sugar',\n",
    " 'chlorides',\n",
    " 'free sulfur dioxide',\n",
    " 'total sulfur dioxide',\n",
    " 'density',\n",
    " 'pH',\n",
    " 'sulphates',\n",
    " 'alcohol']\n",
    "\n",
    "# Identify outliers\n",
    "for x in wine_data_columns:\n",
    "    for y in x:\n",
    "        q75,q25 = np.percentile(wine_data.loc[:,x],[95,5])\n",
    "        intr_qr = q75-q25\n",
    "\n",
    "        max = q75+(1.5*intr_qr)\n",
    "        min = q25-(1.5*intr_qr)\n",
    "\n",
    "        wine_data.loc[wine_data[x] < min,x] = np.nan\n",
    "        wine_data.loc[wine_data[x] > max,x] = np.nan\n",
    "display(wine_data.isnull().sum())\n",
    "\n",
    "# Drop outliers\n",
    "wine_data = wine_data.dropna(axis=0, how=\"any\", thresh=None, subset=None, inplace=False)\n",
    "display(wine_data.isnull().sum())\n",
    "display(len(wine_data.index))\n",
    "\n",
    "6497 - 6406 - 34"
   ]
  },
  {
   "cell_type": "markdown",
   "metadata": {},
   "source": [
    "## Separation of Features and Target Variable and Train/Test Split"
   ]
  },
  {
   "cell_type": "code",
   "execution_count": 105,
   "metadata": {},
   "outputs": [
    {
     "data": {
      "text/html": [
       "<div>\n",
       "<style scoped>\n",
       "    .dataframe tbody tr th:only-of-type {\n",
       "        vertical-align: middle;\n",
       "    }\n",
       "\n",
       "    .dataframe tbody tr th {\n",
       "        vertical-align: top;\n",
       "    }\n",
       "\n",
       "    .dataframe thead th {\n",
       "        text-align: right;\n",
       "    }\n",
       "</style>\n",
       "<table border=\"1\" class=\"dataframe\">\n",
       "  <thead>\n",
       "    <tr style=\"text-align: right;\">\n",
       "      <th></th>\n",
       "      <th>type</th>\n",
       "      <th>fixed acidity</th>\n",
       "      <th>volatile acidity</th>\n",
       "      <th>citric acid</th>\n",
       "      <th>residual sugar</th>\n",
       "      <th>chlorides</th>\n",
       "      <th>free sulfur dioxide</th>\n",
       "      <th>total sulfur dioxide</th>\n",
       "      <th>density</th>\n",
       "      <th>pH</th>\n",
       "      <th>sulphates</th>\n",
       "      <th>alcohol</th>\n",
       "    </tr>\n",
       "  </thead>\n",
       "  <tbody>\n",
       "    <tr>\n",
       "      <th>0</th>\n",
       "      <td>1.0</td>\n",
       "      <td>0.264463</td>\n",
       "      <td>0.126667</td>\n",
       "      <td>0.216867</td>\n",
       "      <td>0.308282</td>\n",
       "      <td>0.059801</td>\n",
       "      <td>0.152778</td>\n",
       "      <td>0.377880</td>\n",
       "      <td>0.267785</td>\n",
       "      <td>0.217054</td>\n",
       "      <td>0.129213</td>\n",
       "      <td>0.115942</td>\n",
       "    </tr>\n",
       "    <tr>\n",
       "      <th>1</th>\n",
       "      <td>1.0</td>\n",
       "      <td>0.206612</td>\n",
       "      <td>0.146667</td>\n",
       "      <td>0.204819</td>\n",
       "      <td>0.015337</td>\n",
       "      <td>0.066445</td>\n",
       "      <td>0.045139</td>\n",
       "      <td>0.290323</td>\n",
       "      <td>0.132832</td>\n",
       "      <td>0.449612</td>\n",
       "      <td>0.151685</td>\n",
       "      <td>0.217391</td>\n",
       "    </tr>\n",
       "    <tr>\n",
       "      <th>2</th>\n",
       "      <td>1.0</td>\n",
       "      <td>0.355372</td>\n",
       "      <td>0.133333</td>\n",
       "      <td>0.240964</td>\n",
       "      <td>0.096626</td>\n",
       "      <td>0.068106</td>\n",
       "      <td>0.100694</td>\n",
       "      <td>0.209677</td>\n",
       "      <td>0.154039</td>\n",
       "      <td>0.418605</td>\n",
       "      <td>0.123596</td>\n",
       "      <td>0.304348</td>\n",
       "    </tr>\n",
       "    <tr>\n",
       "      <th>3</th>\n",
       "      <td>1.0</td>\n",
       "      <td>0.280992</td>\n",
       "      <td>0.100000</td>\n",
       "      <td>0.192771</td>\n",
       "      <td>0.121166</td>\n",
       "      <td>0.081395</td>\n",
       "      <td>0.159722</td>\n",
       "      <td>0.414747</td>\n",
       "      <td>0.163678</td>\n",
       "      <td>0.364341</td>\n",
       "      <td>0.101124</td>\n",
       "      <td>0.275362</td>\n",
       "    </tr>\n",
       "    <tr>\n",
       "      <th>4</th>\n",
       "      <td>1.0</td>\n",
       "      <td>0.280992</td>\n",
       "      <td>0.100000</td>\n",
       "      <td>0.192771</td>\n",
       "      <td>0.121166</td>\n",
       "      <td>0.081395</td>\n",
       "      <td>0.159722</td>\n",
       "      <td>0.414747</td>\n",
       "      <td>0.163678</td>\n",
       "      <td>0.364341</td>\n",
       "      <td>0.101124</td>\n",
       "      <td>0.275362</td>\n",
       "    </tr>\n",
       "  </tbody>\n",
       "</table>\n",
       "</div>"
      ],
      "text/plain": [
       "   type  fixed acidity  volatile acidity  citric acid  residual sugar  \\\n",
       "0   1.0       0.264463          0.126667     0.216867        0.308282   \n",
       "1   1.0       0.206612          0.146667     0.204819        0.015337   \n",
       "2   1.0       0.355372          0.133333     0.240964        0.096626   \n",
       "3   1.0       0.280992          0.100000     0.192771        0.121166   \n",
       "4   1.0       0.280992          0.100000     0.192771        0.121166   \n",
       "\n",
       "   chlorides  free sulfur dioxide  total sulfur dioxide   density        pH  \\\n",
       "0   0.059801             0.152778              0.377880  0.267785  0.217054   \n",
       "1   0.066445             0.045139              0.290323  0.132832  0.449612   \n",
       "2   0.068106             0.100694              0.209677  0.154039  0.418605   \n",
       "3   0.081395             0.159722              0.414747  0.163678  0.364341   \n",
       "4   0.081395             0.159722              0.414747  0.163678  0.364341   \n",
       "\n",
       "   sulphates   alcohol  \n",
       "0   0.129213  0.115942  \n",
       "1   0.151685  0.217391  \n",
       "2   0.123596  0.304348  \n",
       "3   0.101124  0.275362  \n",
       "4   0.101124  0.275362  "
      ]
     },
     "metadata": {},
     "output_type": "display_data"
    }
   ],
   "source": [
    "# Seperation of features and the target variable in two different data frames\n",
    "'''\n",
    "features = wine_data.drop(columns=['quality'])\n",
    "display(features.head())\n",
    "\n",
    "target = wine_data.drop(columns=['type', 'fixed acidity', 'volatile acidity', 'citric acid', 'residual sugar', 'chlorides', 'free sulfur dioxide', 'total sulfur dioxide', 'density', 'pH', 'sulphates', 'alcohol'])\n",
    "display(target.head())\n",
    "target = target['quality'].ravel()\n",
    "'''\n",
    "wine_data = wine_data.copy()\n",
    "\n",
    "features = wine_data.drop(columns='quality')\n",
    "display(features.head())\n",
    "\n",
    "target = wine_data.drop(columns=['type', 'fixed acidity', 'volatile acidity', 'citric acid', 'residual sugar', 'chlorides', 'free sulfur dioxide', 'total sulfur dioxide', 'density', 'pH', 'sulphates', 'alcohol'])\n",
    "target = target['quality'].ravel()"
   ]
  },
  {
   "cell_type": "code",
   "execution_count": 106,
   "metadata": {},
   "outputs": [],
   "source": [
    "# Train test split\n",
    "data_train, data_test, target_train, target_test = train_test_split(\n",
    "    features, target,test_size=0.2, random_state=42, stratify=target)"
   ]
  },
  {
   "cell_type": "markdown",
   "metadata": {},
   "source": [
    "## Decision Tree (unbalanced)"
   ]
  },
  {
   "cell_type": "code",
   "execution_count": 107,
   "metadata": {},
   "outputs": [],
   "source": [
    "#Create estimator & pipeline\n",
    "dt = DecisionTreeClassifier() # with default settings\n",
    "pipeline_dt = Pipeline([('estimator', dt)])\n",
    "\n",
    "#Fit model and predict values for the train data\n",
    "pipeline_dt.fit(data_train, target_train)\n",
    "predictions_train_dt = pipeline_dt.predict(data_train)"
   ]
  },
  {
   "cell_type": "markdown",
   "metadata": {},
   "source": [
    "### Visualization"
   ]
  },
  {
   "cell_type": "code",
   "execution_count": 108,
   "metadata": {},
   "outputs": [],
   "source": [
    "#import matplotlib.pyplot as plt\n",
    "#from sklearn import tree\n",
    "#plt.figure(figsize=(15,10))\n",
    "#tree.plot_tree(dt)\n",
    "#plt.show()"
   ]
  },
  {
   "cell_type": "markdown",
   "metadata": {},
   "source": [
    "## Evaluation "
   ]
  },
  {
   "cell_type": "code",
   "execution_count": 109,
   "metadata": {},
   "outputs": [],
   "source": [
    "predictions_test_dt = pipeline_dt.predict(data_test)"
   ]
  },
  {
   "cell_type": "code",
   "execution_count": 110,
   "metadata": {
    "scrolled": true
   },
   "outputs": [],
   "source": [
    "#accuracy = cross_val_score(pipeline_dt, data_train, target_train, cv=10, scoring='accuracy')\n",
    "#print(\"Fitted a decision tree with {} nodes. Cross-validated accuracy is {}%\".format(dt.tree_.node_count, accuracy.mean() * 100))\n",
    "\n",
    "#target_names = ['low', 'medium', 'high']\n",
    "#print(\"Train Data:\")\n",
    "#print(classification_report(target_train, predictions_train_dt, target_names=target_names))\n",
    "#print(\"Test Data:\")\n",
    "#print(classification_report(target_test, predictions_test_dt, target_names=target_names))"
   ]
  },
  {
   "cell_type": "code",
   "execution_count": 111,
   "metadata": {},
   "outputs": [
    {
     "name": "stdout",
     "output_type": "stream",
     "text": [
      "Makro F1-Score Train Data:\n"
     ]
    },
    {
     "data": {
      "text/plain": [
       "1.0"
      ]
     },
     "metadata": {},
     "output_type": "display_data"
    },
    {
     "name": "stdout",
     "output_type": "stream",
     "text": [
      "Makro Precision Train Data:\n"
     ]
    },
    {
     "data": {
      "text/plain": [
       "1.0"
      ]
     },
     "metadata": {},
     "output_type": "display_data"
    },
    {
     "name": "stdout",
     "output_type": "stream",
     "text": [
      "Makro Recall Train Data:\n"
     ]
    },
    {
     "data": {
      "text/plain": [
       "1.0"
      ]
     },
     "metadata": {},
     "output_type": "display_data"
    },
    {
     "name": "stdout",
     "output_type": "stream",
     "text": [
      "Makro F1-Score Test Data:\n"
     ]
    },
    {
     "data": {
      "text/plain": [
       "0.5873305306213784"
      ]
     },
     "metadata": {},
     "output_type": "display_data"
    },
    {
     "name": "stdout",
     "output_type": "stream",
     "text": [
      "Makro Precision Test Data:\n"
     ]
    },
    {
     "data": {
      "text/plain": [
       "0.594983409837193"
      ]
     },
     "metadata": {},
     "output_type": "display_data"
    },
    {
     "name": "stdout",
     "output_type": "stream",
     "text": [
      "Makro Recall Test Data:\n"
     ]
    },
    {
     "data": {
      "text/plain": [
       "0.5846828844488005"
      ]
     },
     "metadata": {},
     "output_type": "display_data"
    }
   ],
   "source": [
    "get_scores_train(target_train, predictions_train_dt)\n",
    "get_scores_test(target_test, predictions_test_dt)"
   ]
  },
  {
   "cell_type": "markdown",
   "metadata": {},
   "source": [
    "### ROC Curve & ROC AUC"
   ]
  },
  {
   "cell_type": "code",
   "execution_count": 112,
   "metadata": {},
   "outputs": [
    {
     "data": {
      "text/plain": [
       "'\\nfrom sklearn.metrics import roc_curve, auc\\nfrom sklearn.metrics import roc_auc_score\\nfrom sklearn.preprocessing import label_binarize\\nfrom scipy import interp\\nfrom itertools import cycle\\n\\ny_target = label_binarize(target, classes=[0, 1, 2])\\nn_classes = y_target.shape[1]\\nX_train, X_test, y_train, y_test = train_test_split(features, y_target,test_size=0.2, random_state=42)\\n\\ndt_2 = DecisionTreeClassifier()\\n\\n# classifier score with test data\\ny_score = dt_2.fit(X_train, y_train).predict(X_test)\\n\\n# Compute ROC curve and ROC area for each class\\nfpr = dict()\\ntpr = dict()\\nroc_auc = dict()\\n\\nfor i in range(n_classes):\\n    fpr[i], tpr[i], _ = roc_curve(y_test[:, i], y_score[:, i])\\n    roc_auc[i] = auc(fpr[i], tpr[i])\\n\\n# Compute micro-average ROC curve and ROC area\\nfpr[\"micro\"], tpr[\"micro\"], _ = roc_curve(y_test.ravel(), y_score.ravel())\\nroc_auc[\"micro\"] = auc(fpr[\"micro\"], tpr[\"micro\"])\\n\\n# First aggregate all false positive rates\\nall_fpr = np.unique(np.concatenate([fpr[i] for i in range(n_classes)]))\\n\\n# Then interpolate all ROC curves at this points\\nmean_tpr = np.zeros_like(all_fpr)\\nfor i in range(n_classes):\\n    mean_tpr += interp(all_fpr, fpr[i], tpr[i])\\n\\n# Finally average it and compute AUC\\nmean_tpr /= n_classes\\n\\nlw = 2\\nfpr[\"macro\"] = all_fpr\\ntpr[\"macro\"] = mean_tpr\\nroc_auc[\"macro\"] = auc(fpr[\"macro\"], tpr[\"macro\"])\\n\\n# Plot all ROC curves\\nplt.figure()\\nplt.plot(\\n    fpr[\"micro\"],\\n    tpr[\"micro\"],\\n    label=\"micro-average ROC curve (area = {0:0.2f})\".format(roc_auc[\"micro\"]),\\n    color=\"deeppink\",\\n    linestyle=\":\",\\n    linewidth=4,\\n)\\n\\nplt.plot(\\n    fpr[\"macro\"],\\n    tpr[\"macro\"],\\n    label=\"macro-average ROC curve (area = {0:0.2f})\".format(roc_auc[\"macro\"]),\\n    color=\"navy\",\\n    linestyle=\":\",\\n    linewidth=4,\\n)\\n\\ncolors = cycle([\"aqua\", \"darkorange\", \"cornflowerblue\"])\\nfor i, color in zip(range(n_classes), colors):\\n    plt.plot(\\n        fpr[i],\\n        tpr[i],\\n        color=color,\\n        lw=lw,\\n        label=\"ROC curve of class {0} (area = {1:0.2f})\".format(i, roc_auc[i]),\\n    )\\n\\nplt.plot([0, 1], [0, 1], \"k--\", lw=lw)\\nplt.xlim([0.0, 1.0])\\nplt.ylim([0.0, 1.05])\\nplt.xlabel(\"False Positive Rate\")\\nplt.ylabel(\"True Positive Rate\")\\nplt.title(\"Some extension of Receiver operating characteristic to multiclass\")\\nplt.legend(loc=\"lower right\")\\nplt.show()\\n'"
      ]
     },
     "execution_count": 112,
     "metadata": {},
     "output_type": "execute_result"
    }
   ],
   "source": [
    "'''\n",
    "from sklearn.metrics import roc_curve, auc\n",
    "from sklearn.metrics import roc_auc_score\n",
    "from sklearn.preprocessing import label_binarize\n",
    "from scipy import interp\n",
    "from itertools import cycle\n",
    "\n",
    "y_target = label_binarize(target, classes=[0, 1, 2])\n",
    "n_classes = y_target.shape[1]\n",
    "X_train, X_test, y_train, y_test = train_test_split(features, y_target,test_size=0.2, random_state=42)\n",
    "\n",
    "dt_2 = DecisionTreeClassifier()\n",
    "\n",
    "# classifier score with test data\n",
    "y_score = dt_2.fit(X_train, y_train).predict(X_test)\n",
    "\n",
    "# Compute ROC curve and ROC area for each class\n",
    "fpr = dict()\n",
    "tpr = dict()\n",
    "roc_auc = dict()\n",
    "\n",
    "for i in range(n_classes):\n",
    "    fpr[i], tpr[i], _ = roc_curve(y_test[:, i], y_score[:, i])\n",
    "    roc_auc[i] = auc(fpr[i], tpr[i])\n",
    "\n",
    "# Compute micro-average ROC curve and ROC area\n",
    "fpr[\"micro\"], tpr[\"micro\"], _ = roc_curve(y_test.ravel(), y_score.ravel())\n",
    "roc_auc[\"micro\"] = auc(fpr[\"micro\"], tpr[\"micro\"])\n",
    "\n",
    "# First aggregate all false positive rates\n",
    "all_fpr = np.unique(np.concatenate([fpr[i] for i in range(n_classes)]))\n",
    "\n",
    "# Then interpolate all ROC curves at this points\n",
    "mean_tpr = np.zeros_like(all_fpr)\n",
    "for i in range(n_classes):\n",
    "    mean_tpr += interp(all_fpr, fpr[i], tpr[i])\n",
    "\n",
    "# Finally average it and compute AUC\n",
    "mean_tpr /= n_classes\n",
    "\n",
    "lw = 2\n",
    "fpr[\"macro\"] = all_fpr\n",
    "tpr[\"macro\"] = mean_tpr\n",
    "roc_auc[\"macro\"] = auc(fpr[\"macro\"], tpr[\"macro\"])\n",
    "\n",
    "# Plot all ROC curves\n",
    "plt.figure()\n",
    "plt.plot(\n",
    "    fpr[\"micro\"],\n",
    "    tpr[\"micro\"],\n",
    "    label=\"micro-average ROC curve (area = {0:0.2f})\".format(roc_auc[\"micro\"]),\n",
    "    color=\"deeppink\",\n",
    "    linestyle=\":\",\n",
    "    linewidth=4,\n",
    ")\n",
    "\n",
    "plt.plot(\n",
    "    fpr[\"macro\"],\n",
    "    tpr[\"macro\"],\n",
    "    label=\"macro-average ROC curve (area = {0:0.2f})\".format(roc_auc[\"macro\"]),\n",
    "    color=\"navy\",\n",
    "    linestyle=\":\",\n",
    "    linewidth=4,\n",
    ")\n",
    "\n",
    "colors = cycle([\"aqua\", \"darkorange\", \"cornflowerblue\"])\n",
    "for i, color in zip(range(n_classes), colors):\n",
    "    plt.plot(\n",
    "        fpr[i],\n",
    "        tpr[i],\n",
    "        color=color,\n",
    "        lw=lw,\n",
    "        label=\"ROC curve of class {0} (area = {1:0.2f})\".format(i, roc_auc[i]),\n",
    "    )\n",
    "\n",
    "plt.plot([0, 1], [0, 1], \"k--\", lw=lw)\n",
    "plt.xlim([0.0, 1.0])\n",
    "plt.ylim([0.0, 1.05])\n",
    "plt.xlabel(\"False Positive Rate\")\n",
    "plt.ylabel(\"True Positive Rate\")\n",
    "plt.title(\"Some extension of Receiver operating characteristic to multiclass\")\n",
    "plt.legend(loc=\"lower right\")\n",
    "plt.show()\n",
    "'''"
   ]
  },
  {
   "cell_type": "markdown",
   "metadata": {},
   "source": [
    "## Confusion Matrix"
   ]
  },
  {
   "cell_type": "code",
   "execution_count": 113,
   "metadata": {},
   "outputs": [
    {
     "name": "stdout",
     "output_type": "stream",
     "text": [
      "Confusion Matrix Train Data:\n"
     ]
    },
    {
     "data": {
      "image/png": "[encoded data removed]",
      "text/plain": [
       "<Figure size 432x288 with 2 Axes>"
      ]
     },
     "metadata": {
      "needs_background": "light"
     },
     "output_type": "display_data"
    }
   ],
   "source": [
    "# Confusion Matrix for the training data\n",
    "cnf_matrix_train_dt = confusion_matrix(target_train, predictions_train_dt)\n",
    "np.set_printoptions(precision=2)\n",
    "print(\"Confusion Matrix Train Data:\")\n",
    "plot_confusion_matrix(cnf_matrix_train_dt, classes=np.array([0,1,2]))"
   ]
  },
  {
   "cell_type": "code",
   "execution_count": 114,
   "metadata": {},
   "outputs": [
    {
     "name": "stdout",
     "output_type": "stream",
     "text": [
      "Confusion Matrix Test Data:\n"
     ]
    },
    {
     "data": {
      "text/plain": [
       "None"
      ]
     },
     "metadata": {},
     "output_type": "display_data"
    },
    {
     "data": {
      "image/png": "[encoded data removed]",
      "text/plain": [
       "<Figure size 432x288 with 2 Axes>"
      ]
     },
     "metadata": {
      "needs_background": "light"
     },
     "output_type": "display_data"
    }
   ],
   "source": [
    "# Confusion Matrix for the test data\n",
    "cnf_matrix_test_dt = confusion_matrix(target_test, predictions_test_dt)\n",
    "np.set_printoptions(precision=2)\n",
    "print(\"Confusion Matrix Test Data:\")\n",
    "display(plot_confusion_matrix(cnf_matrix_test_dt, classes=np.array([0,1,2])))"
   ]
  },
  {
   "cell_type": "markdown",
   "metadata": {},
   "source": [
    "## Adoption of the Mode \n",
    "1. First Hyperparameter Tuning\n",
    "2. Oversampling\n",
    "3. Feature Selection\n",
    "4. Second Hyperparameter Tuning\n",
    "\n",
    "In each step the best model, which was achieved until that stage, is utilized."
   ]
  },
  {
   "cell_type": "markdown",
   "metadata": {},
   "source": [
    "### First Hyperparameter Tuning"
   ]
  },
  {
   "cell_type": "code",
   "execution_count": 115,
   "metadata": {
    "scrolled": true
   },
   "outputs": [
    {
     "name": "stdout",
     "output_type": "stream",
     "text": [
      "Fitting 10 folds for each of 288 candidates, totalling 2880 fits\n"
     ]
    },
    {
     "data": {
      "text/html": [
       "<div>\n",
       "<style scoped>\n",
       "    .dataframe tbody tr th:only-of-type {\n",
       "        vertical-align: middle;\n",
       "    }\n",
       "\n",
       "    .dataframe tbody tr th {\n",
       "        vertical-align: top;\n",
       "    }\n",
       "\n",
       "    .dataframe thead th {\n",
       "        text-align: right;\n",
       "    }\n",
       "</style>\n",
       "<table border=\"1\" class=\"dataframe\">\n",
       "  <thead>\n",
       "    <tr style=\"text-align: right;\">\n",
       "      <th></th>\n",
       "      <th>mean_fit_time</th>\n",
       "      <th>std_fit_time</th>\n",
       "      <th>mean_score_time</th>\n",
       "      <th>std_score_time</th>\n",
       "      <th>param_criterion</th>\n",
       "      <th>param_max_depth</th>\n",
       "      <th>param_min_samples_leaf</th>\n",
       "      <th>param_min_samples_split</th>\n",
       "      <th>param_splitter</th>\n",
       "      <th>params</th>\n",
       "      <th>...</th>\n",
       "      <th>split3_test_score</th>\n",
       "      <th>split4_test_score</th>\n",
       "      <th>split5_test_score</th>\n",
       "      <th>split6_test_score</th>\n",
       "      <th>split7_test_score</th>\n",
       "      <th>split8_test_score</th>\n",
       "      <th>split9_test_score</th>\n",
       "      <th>mean_test_score</th>\n",
       "      <th>std_test_score</th>\n",
       "      <th>rank_test_score</th>\n",
       "    </tr>\n",
       "  </thead>\n",
       "  <tbody>\n",
       "    <tr>\n",
       "      <th>0</th>\n",
       "      <td>0.008000</td>\n",
       "      <td>0.000315</td>\n",
       "      <td>0.002600</td>\n",
       "      <td>0.000200</td>\n",
       "      <td>gini</td>\n",
       "      <td>2</td>\n",
       "      <td>2</td>\n",
       "      <td>2</td>\n",
       "      <td>best</td>\n",
       "      <td>{'criterion': 'gini', 'max_depth': 2, 'min_sam...</td>\n",
       "      <td>...</td>\n",
       "      <td>0.425593</td>\n",
       "      <td>0.409927</td>\n",
       "      <td>0.429303</td>\n",
       "      <td>0.406101</td>\n",
       "      <td>0.289086</td>\n",
       "      <td>0.402668</td>\n",
       "      <td>0.354534</td>\n",
       "      <td>0.399458</td>\n",
       "      <td>0.047776</td>\n",
       "      <td>257</td>\n",
       "    </tr>\n",
       "    <tr>\n",
       "      <th>1</th>\n",
       "      <td>0.007950</td>\n",
       "      <td>0.000415</td>\n",
       "      <td>0.002751</td>\n",
       "      <td>0.000250</td>\n",
       "      <td>gini</td>\n",
       "      <td>2</td>\n",
       "      <td>2</td>\n",
       "      <td>3</td>\n",
       "      <td>best</td>\n",
       "      <td>{'criterion': 'gini', 'max_depth': 2, 'min_sam...</td>\n",
       "      <td>...</td>\n",
       "      <td>0.425593</td>\n",
       "      <td>0.409927</td>\n",
       "      <td>0.429303</td>\n",
       "      <td>0.406101</td>\n",
       "      <td>0.289086</td>\n",
       "      <td>0.402668</td>\n",
       "      <td>0.354534</td>\n",
       "      <td>0.399458</td>\n",
       "      <td>0.047776</td>\n",
       "      <td>257</td>\n",
       "    </tr>\n",
       "    <tr>\n",
       "      <th>2</th>\n",
       "      <td>0.008200</td>\n",
       "      <td>0.000900</td>\n",
       "      <td>0.002800</td>\n",
       "      <td>0.000400</td>\n",
       "      <td>gini</td>\n",
       "      <td>2</td>\n",
       "      <td>2</td>\n",
       "      <td>4</td>\n",
       "      <td>best</td>\n",
       "      <td>{'criterion': 'gini', 'max_depth': 2, 'min_sam...</td>\n",
       "      <td>...</td>\n",
       "      <td>0.425593</td>\n",
       "      <td>0.409927</td>\n",
       "      <td>0.429303</td>\n",
       "      <td>0.406101</td>\n",
       "      <td>0.289086</td>\n",
       "      <td>0.402668</td>\n",
       "      <td>0.354534</td>\n",
       "      <td>0.399458</td>\n",
       "      <td>0.047776</td>\n",
       "      <td>257</td>\n",
       "    </tr>\n",
       "    <tr>\n",
       "      <th>3</th>\n",
       "      <td>0.008199</td>\n",
       "      <td>0.000400</td>\n",
       "      <td>0.002700</td>\n",
       "      <td>0.000245</td>\n",
       "      <td>gini</td>\n",
       "      <td>2</td>\n",
       "      <td>2</td>\n",
       "      <td>5</td>\n",
       "      <td>best</td>\n",
       "      <td>{'criterion': 'gini', 'max_depth': 2, 'min_sam...</td>\n",
       "      <td>...</td>\n",
       "      <td>0.425593</td>\n",
       "      <td>0.409927</td>\n",
       "      <td>0.429303</td>\n",
       "      <td>0.406101</td>\n",
       "      <td>0.289086</td>\n",
       "      <td>0.402668</td>\n",
       "      <td>0.354534</td>\n",
       "      <td>0.399458</td>\n",
       "      <td>0.047776</td>\n",
       "      <td>257</td>\n",
       "    </tr>\n",
       "    <tr>\n",
       "      <th>4</th>\n",
       "      <td>0.008099</td>\n",
       "      <td>0.000861</td>\n",
       "      <td>0.002450</td>\n",
       "      <td>0.000150</td>\n",
       "      <td>gini</td>\n",
       "      <td>2</td>\n",
       "      <td>3</td>\n",
       "      <td>2</td>\n",
       "      <td>best</td>\n",
       "      <td>{'criterion': 'gini', 'max_depth': 2, 'min_sam...</td>\n",
       "      <td>...</td>\n",
       "      <td>0.425593</td>\n",
       "      <td>0.409927</td>\n",
       "      <td>0.429303</td>\n",
       "      <td>0.406101</td>\n",
       "      <td>0.289086</td>\n",
       "      <td>0.402668</td>\n",
       "      <td>0.354534</td>\n",
       "      <td>0.399458</td>\n",
       "      <td>0.047776</td>\n",
       "      <td>257</td>\n",
       "    </tr>\n",
       "    <tr>\n",
       "      <th>...</th>\n",
       "      <td>...</td>\n",
       "      <td>...</td>\n",
       "      <td>...</td>\n",
       "      <td>...</td>\n",
       "      <td>...</td>\n",
       "      <td>...</td>\n",
       "      <td>...</td>\n",
       "      <td>...</td>\n",
       "      <td>...</td>\n",
       "      <td>...</td>\n",
       "      <td>...</td>\n",
       "      <td>...</td>\n",
       "      <td>...</td>\n",
       "      <td>...</td>\n",
       "      <td>...</td>\n",
       "      <td>...</td>\n",
       "      <td>...</td>\n",
       "      <td>...</td>\n",
       "      <td>...</td>\n",
       "      <td>...</td>\n",
       "      <td>...</td>\n",
       "    </tr>\n",
       "    <tr>\n",
       "      <th>283</th>\n",
       "      <td>0.033449</td>\n",
       "      <td>0.004623</td>\n",
       "      <td>0.002351</td>\n",
       "      <td>0.000450</td>\n",
       "      <td>entropy</td>\n",
       "      <td>10</td>\n",
       "      <td>4</td>\n",
       "      <td>5</td>\n",
       "      <td>best</td>\n",
       "      <td>{'criterion': 'entropy', 'max_depth': 10, 'min...</td>\n",
       "      <td>...</td>\n",
       "      <td>0.562784</td>\n",
       "      <td>0.466567</td>\n",
       "      <td>0.533648</td>\n",
       "      <td>0.561093</td>\n",
       "      <td>0.528414</td>\n",
       "      <td>0.483876</td>\n",
       "      <td>0.466545</td>\n",
       "      <td>0.506827</td>\n",
       "      <td>0.038109</td>\n",
       "      <td>52</td>\n",
       "    </tr>\n",
       "    <tr>\n",
       "      <th>284</th>\n",
       "      <td>0.038050</td>\n",
       "      <td>0.002832</td>\n",
       "      <td>0.002800</td>\n",
       "      <td>0.000460</td>\n",
       "      <td>entropy</td>\n",
       "      <td>10</td>\n",
       "      <td>5</td>\n",
       "      <td>2</td>\n",
       "      <td>best</td>\n",
       "      <td>{'criterion': 'entropy', 'max_depth': 10, 'min...</td>\n",
       "      <td>...</td>\n",
       "      <td>0.571150</td>\n",
       "      <td>0.451237</td>\n",
       "      <td>0.515779</td>\n",
       "      <td>0.552695</td>\n",
       "      <td>0.536741</td>\n",
       "      <td>0.484376</td>\n",
       "      <td>0.466625</td>\n",
       "      <td>0.508450</td>\n",
       "      <td>0.037133</td>\n",
       "      <td>46</td>\n",
       "    </tr>\n",
       "    <tr>\n",
       "      <th>285</th>\n",
       "      <td>0.039400</td>\n",
       "      <td>0.002010</td>\n",
       "      <td>0.002700</td>\n",
       "      <td>0.000510</td>\n",
       "      <td>entropy</td>\n",
       "      <td>10</td>\n",
       "      <td>5</td>\n",
       "      <td>3</td>\n",
       "      <td>best</td>\n",
       "      <td>{'criterion': 'entropy', 'max_depth': 10, 'min...</td>\n",
       "      <td>...</td>\n",
       "      <td>0.566395</td>\n",
       "      <td>0.451237</td>\n",
       "      <td>0.541175</td>\n",
       "      <td>0.548027</td>\n",
       "      <td>0.538185</td>\n",
       "      <td>0.491544</td>\n",
       "      <td>0.485545</td>\n",
       "      <td>0.514517</td>\n",
       "      <td>0.033214</td>\n",
       "      <td>20</td>\n",
       "    </tr>\n",
       "    <tr>\n",
       "      <th>286</th>\n",
       "      <td>0.037800</td>\n",
       "      <td>0.004383</td>\n",
       "      <td>0.002701</td>\n",
       "      <td>0.000332</td>\n",
       "      <td>entropy</td>\n",
       "      <td>10</td>\n",
       "      <td>5</td>\n",
       "      <td>4</td>\n",
       "      <td>best</td>\n",
       "      <td>{'criterion': 'entropy', 'max_depth': 10, 'min...</td>\n",
       "      <td>...</td>\n",
       "      <td>0.570413</td>\n",
       "      <td>0.451237</td>\n",
       "      <td>0.515779</td>\n",
       "      <td>0.557670</td>\n",
       "      <td>0.517979</td>\n",
       "      <td>0.487372</td>\n",
       "      <td>0.485545</td>\n",
       "      <td>0.509978</td>\n",
       "      <td>0.034191</td>\n",
       "      <td>39</td>\n",
       "    </tr>\n",
       "    <tr>\n",
       "      <th>287</th>\n",
       "      <td>0.034450</td>\n",
       "      <td>0.001555</td>\n",
       "      <td>0.002349</td>\n",
       "      <td>0.000229</td>\n",
       "      <td>entropy</td>\n",
       "      <td>10</td>\n",
       "      <td>5</td>\n",
       "      <td>5</td>\n",
       "      <td>best</td>\n",
       "      <td>{'criterion': 'entropy', 'max_depth': 10, 'min...</td>\n",
       "      <td>...</td>\n",
       "      <td>0.569064</td>\n",
       "      <td>0.451237</td>\n",
       "      <td>0.518771</td>\n",
       "      <td>0.549467</td>\n",
       "      <td>0.516533</td>\n",
       "      <td>0.488757</td>\n",
       "      <td>0.463725</td>\n",
       "      <td>0.506809</td>\n",
       "      <td>0.035511</td>\n",
       "      <td>53</td>\n",
       "    </tr>\n",
       "  </tbody>\n",
       "</table>\n",
       "<p>288 rows × 23 columns</p>\n",
       "</div>"
      ],
      "text/plain": [
       "     mean_fit_time  std_fit_time  mean_score_time  std_score_time  \\\n",
       "0         0.008000      0.000315         0.002600        0.000200   \n",
       "1         0.007950      0.000415         0.002751        0.000250   \n",
       "2         0.008200      0.000900         0.002800        0.000400   \n",
       "3         0.008199      0.000400         0.002700        0.000245   \n",
       "4         0.008099      0.000861         0.002450        0.000150   \n",
       "..             ...           ...              ...             ...   \n",
       "283       0.033449      0.004623         0.002351        0.000450   \n",
       "284       0.038050      0.002832         0.002800        0.000460   \n",
       "285       0.039400      0.002010         0.002700        0.000510   \n",
       "286       0.037800      0.004383         0.002701        0.000332   \n",
       "287       0.034450      0.001555         0.002349        0.000229   \n",
       "\n",
       "    param_criterion param_max_depth param_min_samples_leaf  \\\n",
       "0              gini               2                      2   \n",
       "1              gini               2                      2   \n",
       "2              gini               2                      2   \n",
       "3              gini               2                      2   \n",
       "4              gini               2                      3   \n",
       "..              ...             ...                    ...   \n",
       "283         entropy              10                      4   \n",
       "284         entropy              10                      5   \n",
       "285         entropy              10                      5   \n",
       "286         entropy              10                      5   \n",
       "287         entropy              10                      5   \n",
       "\n",
       "    param_min_samples_split param_splitter  \\\n",
       "0                         2           best   \n",
       "1                         3           best   \n",
       "2                         4           best   \n",
       "3                         5           best   \n",
       "4                         2           best   \n",
       "..                      ...            ...   \n",
       "283                       5           best   \n",
       "284                       2           best   \n",
       "285                       3           best   \n",
       "286                       4           best   \n",
       "287                       5           best   \n",
       "\n",
       "                                                params  ...  \\\n",
       "0    {'criterion': 'gini', 'max_depth': 2, 'min_sam...  ...   \n",
       "1    {'criterion': 'gini', 'max_depth': 2, 'min_sam...  ...   \n",
       "2    {'criterion': 'gini', 'max_depth': 2, 'min_sam...  ...   \n",
       "3    {'criterion': 'gini', 'max_depth': 2, 'min_sam...  ...   \n",
       "4    {'criterion': 'gini', 'max_depth': 2, 'min_sam...  ...   \n",
       "..                                                 ...  ...   \n",
       "283  {'criterion': 'entropy', 'max_depth': 10, 'min...  ...   \n",
       "284  {'criterion': 'entropy', 'max_depth': 10, 'min...  ...   \n",
       "285  {'criterion': 'entropy', 'max_depth': 10, 'min...  ...   \n",
       "286  {'criterion': 'entropy', 'max_depth': 10, 'min...  ...   \n",
       "287  {'criterion': 'entropy', 'max_depth': 10, 'min...  ...   \n",
       "\n",
       "     split3_test_score  split4_test_score  split5_test_score  \\\n",
       "0             0.425593           0.409927           0.429303   \n",
       "1             0.425593           0.409927           0.429303   \n",
       "2             0.425593           0.409927           0.429303   \n",
       "3             0.425593           0.409927           0.429303   \n",
       "4             0.425593           0.409927           0.429303   \n",
       "..                 ...                ...                ...   \n",
       "283           0.562784           0.466567           0.533648   \n",
       "284           0.571150           0.451237           0.515779   \n",
       "285           0.566395           0.451237           0.541175   \n",
       "286           0.570413           0.451237           0.515779   \n",
       "287           0.569064           0.451237           0.518771   \n",
       "\n",
       "     split6_test_score  split7_test_score  split8_test_score  \\\n",
       "0             0.406101           0.289086           0.402668   \n",
       "1             0.406101           0.289086           0.402668   \n",
       "2             0.406101           0.289086           0.402668   \n",
       "3             0.406101           0.289086           0.402668   \n",
       "4             0.406101           0.289086           0.402668   \n",
       "..                 ...                ...                ...   \n",
       "283           0.561093           0.528414           0.483876   \n",
       "284           0.552695           0.536741           0.484376   \n",
       "285           0.548027           0.538185           0.491544   \n",
       "286           0.557670           0.517979           0.487372   \n",
       "287           0.549467           0.516533           0.488757   \n",
       "\n",
       "     split9_test_score  mean_test_score  std_test_score  rank_test_score  \n",
       "0             0.354534         0.399458        0.047776              257  \n",
       "1             0.354534         0.399458        0.047776              257  \n",
       "2             0.354534         0.399458        0.047776              257  \n",
       "3             0.354534         0.399458        0.047776              257  \n",
       "4             0.354534         0.399458        0.047776              257  \n",
       "..                 ...              ...             ...              ...  \n",
       "283           0.466545         0.506827        0.038109               52  \n",
       "284           0.466625         0.508450        0.037133               46  \n",
       "285           0.485545         0.514517        0.033214               20  \n",
       "286           0.485545         0.509978        0.034191               39  \n",
       "287           0.463725         0.506809        0.035511               53  \n",
       "\n",
       "[288 rows x 23 columns]"
      ]
     },
     "metadata": {},
     "output_type": "display_data"
    },
    {
     "name": "stdout",
     "output_type": "stream",
     "text": [
      "best score is 0.5291545497872921 with params {'criterion': 'entropy', 'max_depth': 10, 'min_samples_leaf': 2, 'min_samples_split': 4, 'splitter': 'best'}\n"
     ]
    }
   ],
   "source": [
    "# Create an estimator\n",
    "decision_tree = DecisionTreeClassifier()\n",
    "\n",
    "# Specify the parameter grid\n",
    "\n",
    "parameters = {\n",
    "    'criterion':['gini', 'entropy'], \n",
    "    'splitter':['best'],\n",
    "    'max_depth':[ 2, 3, 4, 5, 6, 7, 8, 9, 10],\n",
    "    'min_samples_split' :[2,3,4,5],\n",
    "    'min_samples_leaf':[2,3,4,5]\n",
    "}\n",
    "\n",
    "\n",
    "# define the folds for the cross validation\n",
    "stratified_10_fold_cv = StratifiedKFold(n_splits=10, shuffle=True, random_state=42)\n",
    "\n",
    "# create the grid search estimator\n",
    "grid_search_estimator = GridSearchCV(decision_tree, parameters, scoring='f1_macro', cv=stratified_10_fold_cv, n_jobs = -1, verbose = 2, return_train_score=False)\n",
    "\n",
    "# Run the grid search\n",
    "grid_search_estimator.fit(data_train, target_train)\n",
    "\n",
    "# Print the results of all hyper-parameter combinations\n",
    "results = pd.DataFrame(grid_search_estimator.cv_results_)\n",
    "display(results)\n",
    "\n",
    "print(\"best score is {} with params {}\".format(grid_search_estimator.best_score_, grid_search_estimator.best_params_))\n"
   ]
  },
  {
   "cell_type": "markdown",
   "metadata": {},
   "source": [
    "## Decision Tree with tuned parameters"
   ]
  },
  {
   "cell_type": "code",
   "execution_count": 116,
   "metadata": {
    "scrolled": false
   },
   "outputs": [],
   "source": [
    "dt_tuned = DecisionTreeClassifier(criterion=\"entropy\", max_depth=10, min_samples_leaf=2, min_samples_split=2, splitter=\"best\")\n",
    "dt_tuned.fit(data_train, target_train)\n",
    "predictions_dt_tuned_train = dt_tuned.predict(data_train)\n",
    "predictions_dt_tuned_test = dt_tuned.predict(data_test)\n",
    "#print(\"Train Data:\")\n",
    "#print(classification_report(target_train, dt_tuned_train, target_names=target_names))\n",
    "#print(\"Test Data:\")\n",
    "#print(classification_report(target_test, dt_tuned_test, target_names=target_names))\n",
    "\n"
   ]
  },
  {
   "cell_type": "code",
   "execution_count": 117,
   "metadata": {},
   "outputs": [
    {
     "name": "stdout",
     "output_type": "stream",
     "text": [
      "Makro F1-Score Train Data:\n"
     ]
    },
    {
     "data": {
      "text/plain": [
       "0.7597339309253037"
      ]
     },
     "metadata": {},
     "output_type": "display_data"
    },
    {
     "name": "stdout",
     "output_type": "stream",
     "text": [
      "Makro Precision Train Data:\n"
     ]
    },
    {
     "data": {
      "text/plain": [
       "0.8282600556219064"
      ]
     },
     "metadata": {},
     "output_type": "display_data"
    },
    {
     "name": "stdout",
     "output_type": "stream",
     "text": [
      "Makro Recall Train Data:\n"
     ]
    },
    {
     "data": {
      "text/plain": [
       "0.7140688475815544"
      ]
     },
     "metadata": {},
     "output_type": "display_data"
    },
    {
     "name": "stdout",
     "output_type": "stream",
     "text": [
      "Makro F1-Score Test Data:\n"
     ]
    },
    {
     "data": {
      "text/plain": [
       "0.5380496242212732"
      ]
     },
     "metadata": {},
     "output_type": "display_data"
    },
    {
     "name": "stdout",
     "output_type": "stream",
     "text": [
      "Makro Precision Test Data:\n"
     ]
    },
    {
     "data": {
      "text/plain": [
       "0.5628735047339698"
      ]
     },
     "metadata": {},
     "output_type": "display_data"
    },
    {
     "name": "stdout",
     "output_type": "stream",
     "text": [
      "Makro Recall Test Data:\n"
     ]
    },
    {
     "data": {
      "text/plain": [
       "0.5226701646353026"
      ]
     },
     "metadata": {},
     "output_type": "display_data"
    }
   ],
   "source": [
    "get_scores_train(target_train, predictions_dt_tuned_train)\n",
    "get_scores_test(target_test, predictions_dt_tuned_test)"
   ]
  },
  {
   "cell_type": "code",
   "execution_count": 118,
   "metadata": {},
   "outputs": [
    {
     "name": "stdout",
     "output_type": "stream",
     "text": [
      "Confusion Matrix Train Data:\n"
     ]
    },
    {
     "data": {
      "image/png": "[encoded data removed]",
      "text/plain": [
       "<Figure size 432x288 with 2 Axes>"
      ]
     },
     "metadata": {
      "needs_background": "light"
     },
     "output_type": "display_data"
    }
   ],
   "source": [
    "# Confusion Matrix for the training data\n",
    "cnf_matrix_train_dt = confusion_matrix(target_train, predictions_dt_tuned_train)\n",
    "np.set_printoptions(precision=2)\n",
    "print(\"Confusion Matrix Train Data:\")\n",
    "plot_confusion_matrix(cnf_matrix_train_dt, classes=np.array([0,1,2]))"
   ]
  },
  {
   "cell_type": "code",
   "execution_count": 119,
   "metadata": {
    "scrolled": true
   },
   "outputs": [
    {
     "name": "stdout",
     "output_type": "stream",
     "text": [
      "Confusion Matrix Test Data:\n"
     ]
    },
    {
     "data": {
      "text/plain": [
       "None"
      ]
     },
     "metadata": {},
     "output_type": "display_data"
    },
    {
     "data": {
      "image/png": "[encoded data removed]",
      "text/plain": [
       "<Figure size 432x288 with 2 Axes>"
      ]
     },
     "metadata": {
      "needs_background": "light"
     },
     "output_type": "display_data"
    }
   ],
   "source": [
    "# Confusion Matrix for the test data\n",
    "cnf_matrix_test_dt = confusion_matrix(target_test, predictions_dt_tuned_test)\n",
    "np.set_printoptions(precision=2)\n",
    "print(\"Confusion Matrix Test Data:\")\n",
    "display(plot_confusion_matrix(cnf_matrix_test_dt, classes=np.array([0,1,2])))"
   ]
  },
  {
   "cell_type": "markdown",
   "metadata": {},
   "source": [
    "### Oversampling\n",
    "On the basis of the model with the hypertuning of the parameters."
   ]
  },
  {
   "cell_type": "code",
   "execution_count": 120,
   "metadata": {
    "scrolled": true
   },
   "outputs": [
    {
     "name": "stdout",
     "output_type": "stream",
     "text": [
      "Original Train Dataset:\n",
      "Length of data_train:\n"
     ]
    },
    {
     "data": {
      "text/plain": [
       "5124"
      ]
     },
     "metadata": {},
     "output_type": "display_data"
    },
    {
     "name": "stdout",
     "output_type": "stream",
     "text": [
      "Length of target_train:\n"
     ]
    },
    {
     "data": {
      "text/plain": [
       "5124"
      ]
     },
     "metadata": {},
     "output_type": "display_data"
    },
    {
     "name": "stdout",
     "output_type": "stream",
     "text": [
      "Class Distribution: Counter({1: 3919, 2: 1015, 0: 190})\n",
      "\n",
      "Balanced Train Dataset:\n",
      "Length of data_train:\n"
     ]
    },
    {
     "data": {
      "text/plain": [
       "11757"
      ]
     },
     "metadata": {},
     "output_type": "display_data"
    },
    {
     "name": "stdout",
     "output_type": "stream",
     "text": [
      "Length of target_train:\n"
     ]
    },
    {
     "data": {
      "text/plain": [
       "11757"
      ]
     },
     "metadata": {},
     "output_type": "display_data"
    },
    {
     "name": "stdout",
     "output_type": "stream",
     "text": [
      "Class Distribution: Counter({1: 3919, 2: 3919, 0: 3919})\n"
     ]
    }
   ],
   "source": [
    "# Oversampling the minority class by duplicating examples --> doesn't add new information to the model --> not used\n",
    "# Therefore, we use SMOTE to synthesize new examples in the minority class of the train data from the existing examples \n",
    "\n",
    "\n",
    "\n",
    "# Print the Class Distribution before SMOTE\n",
    "print('Original Train Dataset:')\n",
    "print('Length of data_train:')\n",
    "display(len(data_train.index))\n",
    "print('Length of target_train:')\n",
    "display(target_train.size)\n",
    "print('Class Distribution: %s' % Counter(target_train))\n",
    "\n",
    "data_train_smt = data_train.copy() \n",
    "target_train_smt = target_train.copy()\n",
    "\n",
    "smt = SMOTE(random_state=42)\n",
    "data_train_oversampled, target_train_oversampled = smt.fit_resample(data_train_smt, target_train_smt)\n",
    "\n",
    "# Print the new Class Distribution after SMOTE\n",
    "print('\\nBalanced Train Dataset:')\n",
    "print('Length of data_train:')\n",
    "display(len(data_train_oversampled.index))\n",
    "print('Length of target_train:')\n",
    "display(target_train_oversampled.size)\n",
    "print('Class Distribution: %s' % Counter(target_train_oversampled))"
   ]
  },
  {
   "cell_type": "markdown",
   "metadata": {},
   "source": [
    "#### Decision tree with default parameters"
   ]
  },
  {
   "cell_type": "code",
   "execution_count": 121,
   "metadata": {
    "scrolled": false
   },
   "outputs": [
    {
     "name": "stdout",
     "output_type": "stream",
     "text": [
      "Makro F1-Score Train Data:\n"
     ]
    },
    {
     "data": {
      "text/plain": [
       "1.0"
      ]
     },
     "metadata": {},
     "output_type": "display_data"
    },
    {
     "name": "stdout",
     "output_type": "stream",
     "text": [
      "Makro Precision Train Data:\n"
     ]
    },
    {
     "data": {
      "text/plain": [
       "1.0"
      ]
     },
     "metadata": {},
     "output_type": "display_data"
    },
    {
     "name": "stdout",
     "output_type": "stream",
     "text": [
      "Makro Recall Train Data:\n"
     ]
    },
    {
     "data": {
      "text/plain": [
       "1.0"
      ]
     },
     "metadata": {},
     "output_type": "display_data"
    },
    {
     "name": "stdout",
     "output_type": "stream",
     "text": [
      "Makro F1-Score Test Data:\n"
     ]
    },
    {
     "data": {
      "text/plain": [
       "0.5569778981869286"
      ]
     },
     "metadata": {},
     "output_type": "display_data"
    },
    {
     "name": "stdout",
     "output_type": "stream",
     "text": [
      "Makro Precision Test Data:\n"
     ]
    },
    {
     "data": {
      "text/plain": [
       "0.535317487148001"
      ]
     },
     "metadata": {},
     "output_type": "display_data"
    },
    {
     "name": "stdout",
     "output_type": "stream",
     "text": [
      "Makro Recall Test Data:\n"
     ]
    },
    {
     "data": {
      "text/plain": [
       "0.6243996689886079"
      ]
     },
     "metadata": {},
     "output_type": "display_data"
    }
   ],
   "source": [
    "dt_oversampled = DecisionTreeClassifier()\n",
    "dt_oversampled.fit(data_train_oversampled, target_train_oversampled)\n",
    "predictions_dt_oversampled_train = dt_oversampled.predict(data_train_oversampled)\n",
    "predictions_dt_oversampled_test = dt_oversampled.predict(data_test)\n",
    "\n",
    "get_scores_train(target_train_oversampled, predictions_dt_oversampled_train)\n",
    "get_scores_test(target_test, predictions_dt_oversampled_test)"
   ]
  },
  {
   "cell_type": "code",
   "execution_count": 122,
   "metadata": {},
   "outputs": [
    {
     "name": "stdout",
     "output_type": "stream",
     "text": [
      "Confusion Matrix Train Data:\n"
     ]
    },
    {
     "data": {
      "image/png": "[encoded data removed]",
      "text/plain": [
       "<Figure size 432x288 with 2 Axes>"
      ]
     },
     "metadata": {
      "needs_background": "light"
     },
     "output_type": "display_data"
    }
   ],
   "source": [
    "# Confusion Matrix for the training data\n",
    "cnf_matrix_train_dt = confusion_matrix(target_train_oversampled, predictions_dt_oversampled_train)\n",
    "np.set_printoptions(precision=2)\n",
    "print(\"Confusion Matrix Train Data:\")\n",
    "plot_confusion_matrix(cnf_matrix_train_dt, classes=np.array([0,1,2]))"
   ]
  },
  {
   "cell_type": "code",
   "execution_count": 123,
   "metadata": {},
   "outputs": [
    {
     "name": "stdout",
     "output_type": "stream",
     "text": [
      "Confusion Matrix Test Data:\n"
     ]
    },
    {
     "data": {
      "text/plain": [
       "None"
      ]
     },
     "metadata": {},
     "output_type": "display_data"
    },
    {
     "data": {
      "image/png": "[encoded data removed]",
      "text/plain": [
       "<Figure size 432x288 with 2 Axes>"
      ]
     },
     "metadata": {
      "needs_background": "light"
     },
     "output_type": "display_data"
    }
   ],
   "source": [
    "# Confusion Matrix for the test data\n",
    "cnf_matrix_test_dt = confusion_matrix(target_test, predictions_dt_oversampled_test)\n",
    "np.set_printoptions(precision=2)\n",
    "print(\"Confusion Matrix Test Data:\")\n",
    "display(plot_confusion_matrix(cnf_matrix_test_dt, classes=np.array([0,1,2])))"
   ]
  },
  {
   "cell_type": "markdown",
   "metadata": {},
   "source": [
    "#### Decision tree with tuned parameters"
   ]
  },
  {
   "cell_type": "code",
   "execution_count": 124,
   "metadata": {},
   "outputs": [
    {
     "name": "stdout",
     "output_type": "stream",
     "text": [
      "Makro F1-Score Train Data:\n"
     ]
    },
    {
     "data": {
      "text/plain": [
       "0.852453960757826"
      ]
     },
     "metadata": {},
     "output_type": "display_data"
    },
    {
     "name": "stdout",
     "output_type": "stream",
     "text": [
      "Makro Precision Train Data:\n"
     ]
    },
    {
     "data": {
      "text/plain": [
       "0.8545682436466517"
      ]
     },
     "metadata": {},
     "output_type": "display_data"
    },
    {
     "name": "stdout",
     "output_type": "stream",
     "text": [
      "Makro Recall Train Data:\n"
     ]
    },
    {
     "data": {
      "text/plain": [
       "0.8548949561963086"
      ]
     },
     "metadata": {},
     "output_type": "display_data"
    },
    {
     "name": "stdout",
     "output_type": "stream",
     "text": [
      "Makro F1-Score Test Data:\n"
     ]
    },
    {
     "data": {
      "text/plain": [
       "0.5095352638163065"
      ]
     },
     "metadata": {},
     "output_type": "display_data"
    },
    {
     "name": "stdout",
     "output_type": "stream",
     "text": [
      "Makro Precision Test Data:\n"
     ]
    },
    {
     "data": {
      "text/plain": [
       "0.5026732095526038"
      ]
     },
     "metadata": {},
     "output_type": "display_data"
    },
    {
     "name": "stdout",
     "output_type": "stream",
     "text": [
      "Makro Recall Test Data:\n"
     ]
    },
    {
     "data": {
      "text/plain": [
       "0.6401975958353634"
      ]
     },
     "metadata": {},
     "output_type": "display_data"
    }
   ],
   "source": [
    "dt_oversampled_tuned = DecisionTreeClassifier(criterion=\"entropy\", max_depth=10, min_samples_leaf=2, min_samples_split=2, splitter=\"best\")\n",
    "dt_oversampled_tuned.fit(data_train_oversampled, target_train_oversampled)\n",
    "predictions_dt_tuned_oversampled_train = dt_oversampled_tuned.predict(data_train_oversampled)\n",
    "predictions_dt_tuned_oversampled_test = dt_oversampled_tuned.predict(data_test)\n",
    "\n",
    "get_scores_train(target_train_oversampled, predictions_dt_tuned_oversampled_train)\n",
    "get_scores_test(target_test, predictions_dt_tuned_oversampled_test)"
   ]
  },
  {
   "cell_type": "code",
   "execution_count": 125,
   "metadata": {},
   "outputs": [
    {
     "name": "stdout",
     "output_type": "stream",
     "text": [
      "Confusion Matrix Train Data:\n"
     ]
    },
    {
     "data": {
      "image/png": "[encoded data removed]",
      "text/plain": [
       "<Figure size 432x288 with 2 Axes>"
      ]
     },
     "metadata": {
      "needs_background": "light"
     },
     "output_type": "display_data"
    }
   ],
   "source": [
    "# Confusion Matrix for the training data\n",
    "cnf_matrix_train_dt = confusion_matrix(target_train_oversampled, predictions_dt_tuned_oversampled_train)\n",
    "np.set_printoptions(precision=2)\n",
    "print(\"Confusion Matrix Train Data:\")\n",
    "plot_confusion_matrix(cnf_matrix_train_dt, classes=np.array([0,1,2]))"
   ]
  },
  {
   "cell_type": "code",
   "execution_count": 126,
   "metadata": {},
   "outputs": [
    {
     "name": "stdout",
     "output_type": "stream",
     "text": [
      "Confusion Matrix Test Data:\n"
     ]
    },
    {
     "data": {
      "text/plain": [
       "None"
      ]
     },
     "metadata": {},
     "output_type": "display_data"
    },
    {
     "data": {
      "image/png": "[encoded data removed]",
      "text/plain": [
       "<Figure size 432x288 with 2 Axes>"
      ]
     },
     "metadata": {
      "needs_background": "light"
     },
     "output_type": "display_data"
    }
   ],
   "source": [
    "# Confusion Matrix for the test data\n",
    "cnf_matrix_test_dt = confusion_matrix(target_test, predictions_dt_tuned_oversampled_test)\n",
    "np.set_printoptions(precision=2)\n",
    "print(\"Confusion Matrix Test Data:\")\n",
    "display(plot_confusion_matrix(cnf_matrix_test_dt, classes=np.array([0,1,2])))"
   ]
  },
  {
   "cell_type": "markdown",
   "metadata": {},
   "source": [
    "### Feature Selection\n",
    "On the basis of the model with the hypertuning of the parameters and the oversampling."
   ]
  },
  {
   "cell_type": "code",
   "execution_count": 127,
   "metadata": {
    "scrolled": false
   },
   "outputs": [
    {
     "name": "stdout",
     "output_type": "stream",
     "text": [
      "Feature: 0, Score: 0.00138\n",
      "Feature: 1, Score: 0.08165\n",
      "Feature: 2, Score: 0.12008\n",
      "Feature: 3, Score: 0.06243\n",
      "Feature: 4, Score: 0.06721\n",
      "Feature: 5, Score: 0.05089\n",
      "Feature: 6, Score: 0.11771\n",
      "Feature: 7, Score: 0.07538\n",
      "Feature: 8, Score: 0.07081\n",
      "Feature: 9, Score: 0.07296\n",
      "Feature: 10, Score: 0.12029\n",
      "Feature: 11, Score: 0.15920\n"
     ]
    },
    {
     "data": {
      "text/plain": [
       "<BarContainer object of 12 artists>"
      ]
     },
     "execution_count": 127,
     "metadata": {},
     "output_type": "execute_result"
    },
    {
     "data": {
      "image/png": "[encoded data removed]",
      "text/plain": [
       "<Figure size 432x288 with 1 Axes>"
      ]
     },
     "metadata": {
      "needs_background": "light"
     },
     "output_type": "display_data"
    }
   ],
   "source": [
    "# get importance\n",
    "importance = dt_oversampled.feature_importances_\n",
    "# summarize feature importance\n",
    "for i,v in enumerate(importance):\n",
    "    print('Feature: %0d, Score: %.5f' % (i,v))\n",
    "# plot feature importance\n",
    "\n",
    "feature_list = list(features)\n",
    "plt.barh(feature_list, importance)"
   ]
  },
  {
   "cell_type": "code",
   "execution_count": 128,
   "metadata": {},
   "outputs": [
    {
     "data": {
      "text/plain": [
       "Text(0.5, 0, 'Permutation Importance')"
      ]
     },
     "execution_count": 128,
     "metadata": {},
     "output_type": "execute_result"
    },
    {
     "data": {
      "image/png": "[encoded data removed]",
      "text/plain": [
       "<Figure size 432x288 with 1 Axes>"
      ]
     },
     "metadata": {
      "needs_background": "light"
     },
     "output_type": "display_data"
    }
   ],
   "source": [
    "# Permutation Importance\n",
    "from sklearn.inspection import permutation_importance\n",
    "perm_importance = permutation_importance(dt_oversampled, data_test, target_test)\n",
    "feature_list = list(features)\n",
    "plt.barh(feature_list, perm_importance.importances_mean)\n",
    "plt.xlabel(\"Permutation Importance\")"
   ]
  },
  {
   "cell_type": "markdown",
   "metadata": {},
   "source": [
    "### Drop \"type\" feature"
   ]
  },
  {
   "cell_type": "code",
   "execution_count": 129,
   "metadata": {
    "scrolled": true
   },
   "outputs": [
    {
     "data": {
      "text/html": [
       "<div>\n",
       "<style scoped>\n",
       "    .dataframe tbody tr th:only-of-type {\n",
       "        vertical-align: middle;\n",
       "    }\n",
       "\n",
       "    .dataframe tbody tr th {\n",
       "        vertical-align: top;\n",
       "    }\n",
       "\n",
       "    .dataframe thead th {\n",
       "        text-align: right;\n",
       "    }\n",
       "</style>\n",
       "<table border=\"1\" class=\"dataframe\">\n",
       "  <thead>\n",
       "    <tr style=\"text-align: right;\">\n",
       "      <th></th>\n",
       "      <th>fixed acidity</th>\n",
       "      <th>volatile acidity</th>\n",
       "      <th>citric acid</th>\n",
       "      <th>residual sugar</th>\n",
       "      <th>chlorides</th>\n",
       "      <th>free sulfur dioxide</th>\n",
       "      <th>total sulfur dioxide</th>\n",
       "      <th>density</th>\n",
       "      <th>pH</th>\n",
       "      <th>sulphates</th>\n",
       "      <th>alcohol</th>\n",
       "    </tr>\n",
       "  </thead>\n",
       "  <tbody>\n",
       "    <tr>\n",
       "      <th>0</th>\n",
       "      <td>0.264463</td>\n",
       "      <td>0.126667</td>\n",
       "      <td>0.216867</td>\n",
       "      <td>0.308282</td>\n",
       "      <td>0.059801</td>\n",
       "      <td>0.152778</td>\n",
       "      <td>0.377880</td>\n",
       "      <td>0.267785</td>\n",
       "      <td>0.217054</td>\n",
       "      <td>0.129213</td>\n",
       "      <td>0.115942</td>\n",
       "    </tr>\n",
       "    <tr>\n",
       "      <th>1</th>\n",
       "      <td>0.206612</td>\n",
       "      <td>0.146667</td>\n",
       "      <td>0.204819</td>\n",
       "      <td>0.015337</td>\n",
       "      <td>0.066445</td>\n",
       "      <td>0.045139</td>\n",
       "      <td>0.290323</td>\n",
       "      <td>0.132832</td>\n",
       "      <td>0.449612</td>\n",
       "      <td>0.151685</td>\n",
       "      <td>0.217391</td>\n",
       "    </tr>\n",
       "    <tr>\n",
       "      <th>2</th>\n",
       "      <td>0.355372</td>\n",
       "      <td>0.133333</td>\n",
       "      <td>0.240964</td>\n",
       "      <td>0.096626</td>\n",
       "      <td>0.068106</td>\n",
       "      <td>0.100694</td>\n",
       "      <td>0.209677</td>\n",
       "      <td>0.154039</td>\n",
       "      <td>0.418605</td>\n",
       "      <td>0.123596</td>\n",
       "      <td>0.304348</td>\n",
       "    </tr>\n",
       "    <tr>\n",
       "      <th>3</th>\n",
       "      <td>0.280992</td>\n",
       "      <td>0.100000</td>\n",
       "      <td>0.192771</td>\n",
       "      <td>0.121166</td>\n",
       "      <td>0.081395</td>\n",
       "      <td>0.159722</td>\n",
       "      <td>0.414747</td>\n",
       "      <td>0.163678</td>\n",
       "      <td>0.364341</td>\n",
       "      <td>0.101124</td>\n",
       "      <td>0.275362</td>\n",
       "    </tr>\n",
       "    <tr>\n",
       "      <th>4</th>\n",
       "      <td>0.280992</td>\n",
       "      <td>0.100000</td>\n",
       "      <td>0.192771</td>\n",
       "      <td>0.121166</td>\n",
       "      <td>0.081395</td>\n",
       "      <td>0.159722</td>\n",
       "      <td>0.414747</td>\n",
       "      <td>0.163678</td>\n",
       "      <td>0.364341</td>\n",
       "      <td>0.101124</td>\n",
       "      <td>0.275362</td>\n",
       "    </tr>\n",
       "  </tbody>\n",
       "</table>\n",
       "</div>"
      ],
      "text/plain": [
       "   fixed acidity  volatile acidity  citric acid  residual sugar  chlorides  \\\n",
       "0       0.264463          0.126667     0.216867        0.308282   0.059801   \n",
       "1       0.206612          0.146667     0.204819        0.015337   0.066445   \n",
       "2       0.355372          0.133333     0.240964        0.096626   0.068106   \n",
       "3       0.280992          0.100000     0.192771        0.121166   0.081395   \n",
       "4       0.280992          0.100000     0.192771        0.121166   0.081395   \n",
       "\n",
       "   free sulfur dioxide  total sulfur dioxide   density        pH  sulphates  \\\n",
       "0             0.152778              0.377880  0.267785  0.217054   0.129213   \n",
       "1             0.045139              0.290323  0.132832  0.449612   0.151685   \n",
       "2             0.100694              0.209677  0.154039  0.418605   0.123596   \n",
       "3             0.159722              0.414747  0.163678  0.364341   0.101124   \n",
       "4             0.159722              0.414747  0.163678  0.364341   0.101124   \n",
       "\n",
       "    alcohol  \n",
       "0  0.115942  \n",
       "1  0.217391  \n",
       "2  0.304348  \n",
       "3  0.275362  \n",
       "4  0.275362  "
      ]
     },
     "metadata": {},
     "output_type": "display_data"
    }
   ],
   "source": [
    "features = wine_data.drop(columns=['quality','type'])\n",
    "display(features.head())"
   ]
  },
  {
   "cell_type": "markdown",
   "metadata": {},
   "source": [
    "### Model without \"type\" and default parameter values"
   ]
  },
  {
   "cell_type": "code",
   "execution_count": 130,
   "metadata": {
    "scrolled": false
   },
   "outputs": [
    {
     "name": "stdout",
     "output_type": "stream",
     "text": [
      "Makro F1-Score Train Data:\n"
     ]
    },
    {
     "data": {
      "text/plain": [
       "1.0"
      ]
     },
     "metadata": {},
     "output_type": "display_data"
    },
    {
     "name": "stdout",
     "output_type": "stream",
     "text": [
      "Makro Precision Train Data:\n"
     ]
    },
    {
     "data": {
      "text/plain": [
       "1.0"
      ]
     },
     "metadata": {},
     "output_type": "display_data"
    },
    {
     "name": "stdout",
     "output_type": "stream",
     "text": [
      "Makro Recall Train Data:\n"
     ]
    },
    {
     "data": {
      "text/plain": [
       "1.0"
      ]
     },
     "metadata": {},
     "output_type": "display_data"
    },
    {
     "name": "stdout",
     "output_type": "stream",
     "text": [
      "Makro F1-Score Test Data:\n"
     ]
    },
    {
     "data": {
      "text/plain": [
       "0.5754580999549227"
      ]
     },
     "metadata": {},
     "output_type": "display_data"
    },
    {
     "name": "stdout",
     "output_type": "stream",
     "text": [
      "Makro Precision Test Data:\n"
     ]
    },
    {
     "data": {
      "text/plain": [
       "0.5764577563358051"
      ]
     },
     "metadata": {},
     "output_type": "display_data"
    },
    {
     "name": "stdout",
     "output_type": "stream",
     "text": [
      "Makro Recall Test Data:\n"
     ]
    },
    {
     "data": {
      "text/plain": [
       "0.5757895007089239"
      ]
     },
     "metadata": {},
     "output_type": "display_data"
    }
   ],
   "source": [
    "# Create an estimator\n",
    "decision_tree = DecisionTreeClassifier()\n",
    "\n",
    "data_train, data_test, target_train, target_test = train_test_split(\n",
    "    features, target,test_size=0.2, random_state=42, stratify=target)\n",
    "\n",
    "decision_tree.fit(data_train, target_train)\n",
    "predictions_train_dt = decision_tree.predict(data_train)\n",
    "predictions_test_dt = decision_tree.predict(data_test)\n",
    "\n",
    "get_scores_train(target_train, predictions_train_dt)\n",
    "get_scores_test(target_test, predictions_test_dt)"
   ]
  },
  {
   "cell_type": "markdown",
   "metadata": {},
   "source": [
    "#### Hyperparameter tuning with \"type\" dropped"
   ]
  },
  {
   "cell_type": "code",
   "execution_count": 131,
   "metadata": {
    "scrolled": false
   },
   "outputs": [
    {
     "name": "stdout",
     "output_type": "stream",
     "text": [
      "Fitting 10 folds for each of 288 candidates, totalling 2880 fits\n"
     ]
    },
    {
     "data": {
      "text/html": [
       "<div>\n",
       "<style scoped>\n",
       "    .dataframe tbody tr th:only-of-type {\n",
       "        vertical-align: middle;\n",
       "    }\n",
       "\n",
       "    .dataframe tbody tr th {\n",
       "        vertical-align: top;\n",
       "    }\n",
       "\n",
       "    .dataframe thead th {\n",
       "        text-align: right;\n",
       "    }\n",
       "</style>\n",
       "<table border=\"1\" class=\"dataframe\">\n",
       "  <thead>\n",
       "    <tr style=\"text-align: right;\">\n",
       "      <th></th>\n",
       "      <th>mean_fit_time</th>\n",
       "      <th>std_fit_time</th>\n",
       "      <th>mean_score_time</th>\n",
       "      <th>std_score_time</th>\n",
       "      <th>param_criterion</th>\n",
       "      <th>param_max_depth</th>\n",
       "      <th>param_min_samples_leaf</th>\n",
       "      <th>param_min_samples_split</th>\n",
       "      <th>param_splitter</th>\n",
       "      <th>params</th>\n",
       "      <th>...</th>\n",
       "      <th>split3_test_score</th>\n",
       "      <th>split4_test_score</th>\n",
       "      <th>split5_test_score</th>\n",
       "      <th>split6_test_score</th>\n",
       "      <th>split7_test_score</th>\n",
       "      <th>split8_test_score</th>\n",
       "      <th>split9_test_score</th>\n",
       "      <th>mean_test_score</th>\n",
       "      <th>std_test_score</th>\n",
       "      <th>rank_test_score</th>\n",
       "    </tr>\n",
       "  </thead>\n",
       "  <tbody>\n",
       "    <tr>\n",
       "      <th>0</th>\n",
       "      <td>0.006800</td>\n",
       "      <td>0.000510</td>\n",
       "      <td>0.002250</td>\n",
       "      <td>0.000462</td>\n",
       "      <td>gini</td>\n",
       "      <td>2</td>\n",
       "      <td>2</td>\n",
       "      <td>2</td>\n",
       "      <td>best</td>\n",
       "      <td>{'criterion': 'gini', 'max_depth': 2, 'min_sam...</td>\n",
       "      <td>...</td>\n",
       "      <td>0.425593</td>\n",
       "      <td>0.409927</td>\n",
       "      <td>0.429303</td>\n",
       "      <td>0.406101</td>\n",
       "      <td>0.289086</td>\n",
       "      <td>0.402668</td>\n",
       "      <td>0.354534</td>\n",
       "      <td>0.399458</td>\n",
       "      <td>0.047776</td>\n",
       "      <td>257</td>\n",
       "    </tr>\n",
       "    <tr>\n",
       "      <th>1</th>\n",
       "      <td>0.006998</td>\n",
       "      <td>0.000388</td>\n",
       "      <td>0.002202</td>\n",
       "      <td>0.000245</td>\n",
       "      <td>gini</td>\n",
       "      <td>2</td>\n",
       "      <td>2</td>\n",
       "      <td>3</td>\n",
       "      <td>best</td>\n",
       "      <td>{'criterion': 'gini', 'max_depth': 2, 'min_sam...</td>\n",
       "      <td>...</td>\n",
       "      <td>0.425593</td>\n",
       "      <td>0.409927</td>\n",
       "      <td>0.429303</td>\n",
       "      <td>0.406101</td>\n",
       "      <td>0.289086</td>\n",
       "      <td>0.402668</td>\n",
       "      <td>0.354534</td>\n",
       "      <td>0.399458</td>\n",
       "      <td>0.047776</td>\n",
       "      <td>257</td>\n",
       "    </tr>\n",
       "    <tr>\n",
       "      <th>2</th>\n",
       "      <td>0.007000</td>\n",
       "      <td>0.000447</td>\n",
       "      <td>0.002399</td>\n",
       "      <td>0.000300</td>\n",
       "      <td>gini</td>\n",
       "      <td>2</td>\n",
       "      <td>2</td>\n",
       "      <td>4</td>\n",
       "      <td>best</td>\n",
       "      <td>{'criterion': 'gini', 'max_depth': 2, 'min_sam...</td>\n",
       "      <td>...</td>\n",
       "      <td>0.425593</td>\n",
       "      <td>0.409927</td>\n",
       "      <td>0.429303</td>\n",
       "      <td>0.406101</td>\n",
       "      <td>0.289086</td>\n",
       "      <td>0.402668</td>\n",
       "      <td>0.354534</td>\n",
       "      <td>0.399458</td>\n",
       "      <td>0.047776</td>\n",
       "      <td>257</td>\n",
       "    </tr>\n",
       "    <tr>\n",
       "      <th>3</th>\n",
       "      <td>0.006850</td>\n",
       "      <td>0.000550</td>\n",
       "      <td>0.002351</td>\n",
       "      <td>0.000672</td>\n",
       "      <td>gini</td>\n",
       "      <td>2</td>\n",
       "      <td>2</td>\n",
       "      <td>5</td>\n",
       "      <td>best</td>\n",
       "      <td>{'criterion': 'gini', 'max_depth': 2, 'min_sam...</td>\n",
       "      <td>...</td>\n",
       "      <td>0.425593</td>\n",
       "      <td>0.409927</td>\n",
       "      <td>0.429303</td>\n",
       "      <td>0.406101</td>\n",
       "      <td>0.289086</td>\n",
       "      <td>0.402668</td>\n",
       "      <td>0.354534</td>\n",
       "      <td>0.399458</td>\n",
       "      <td>0.047776</td>\n",
       "      <td>257</td>\n",
       "    </tr>\n",
       "    <tr>\n",
       "      <th>4</th>\n",
       "      <td>0.007100</td>\n",
       "      <td>0.001019</td>\n",
       "      <td>0.002300</td>\n",
       "      <td>0.000601</td>\n",
       "      <td>gini</td>\n",
       "      <td>2</td>\n",
       "      <td>3</td>\n",
       "      <td>2</td>\n",
       "      <td>best</td>\n",
       "      <td>{'criterion': 'gini', 'max_depth': 2, 'min_sam...</td>\n",
       "      <td>...</td>\n",
       "      <td>0.425593</td>\n",
       "      <td>0.409927</td>\n",
       "      <td>0.429303</td>\n",
       "      <td>0.406101</td>\n",
       "      <td>0.289086</td>\n",
       "      <td>0.402668</td>\n",
       "      <td>0.354534</td>\n",
       "      <td>0.399458</td>\n",
       "      <td>0.047776</td>\n",
       "      <td>257</td>\n",
       "    </tr>\n",
       "    <tr>\n",
       "      <th>...</th>\n",
       "      <td>...</td>\n",
       "      <td>...</td>\n",
       "      <td>...</td>\n",
       "      <td>...</td>\n",
       "      <td>...</td>\n",
       "      <td>...</td>\n",
       "      <td>...</td>\n",
       "      <td>...</td>\n",
       "      <td>...</td>\n",
       "      <td>...</td>\n",
       "      <td>...</td>\n",
       "      <td>...</td>\n",
       "      <td>...</td>\n",
       "      <td>...</td>\n",
       "      <td>...</td>\n",
       "      <td>...</td>\n",
       "      <td>...</td>\n",
       "      <td>...</td>\n",
       "      <td>...</td>\n",
       "      <td>...</td>\n",
       "      <td>...</td>\n",
       "    </tr>\n",
       "    <tr>\n",
       "      <th>283</th>\n",
       "      <td>0.036351</td>\n",
       "      <td>0.002481</td>\n",
       "      <td>0.002600</td>\n",
       "      <td>0.000583</td>\n",
       "      <td>entropy</td>\n",
       "      <td>10</td>\n",
       "      <td>4</td>\n",
       "      <td>5</td>\n",
       "      <td>best</td>\n",
       "      <td>{'criterion': 'entropy', 'max_depth': 10, 'min...</td>\n",
       "      <td>...</td>\n",
       "      <td>0.541720</td>\n",
       "      <td>0.493817</td>\n",
       "      <td>0.514975</td>\n",
       "      <td>0.566115</td>\n",
       "      <td>0.514774</td>\n",
       "      <td>0.529042</td>\n",
       "      <td>0.469455</td>\n",
       "      <td>0.513262</td>\n",
       "      <td>0.033116</td>\n",
       "      <td>27</td>\n",
       "    </tr>\n",
       "    <tr>\n",
       "      <th>284</th>\n",
       "      <td>0.034700</td>\n",
       "      <td>0.001346</td>\n",
       "      <td>0.002550</td>\n",
       "      <td>0.000270</td>\n",
       "      <td>entropy</td>\n",
       "      <td>10</td>\n",
       "      <td>5</td>\n",
       "      <td>2</td>\n",
       "      <td>best</td>\n",
       "      <td>{'criterion': 'entropy', 'max_depth': 10, 'min...</td>\n",
       "      <td>...</td>\n",
       "      <td>0.551689</td>\n",
       "      <td>0.475448</td>\n",
       "      <td>0.518771</td>\n",
       "      <td>0.553287</td>\n",
       "      <td>0.517979</td>\n",
       "      <td>0.505482</td>\n",
       "      <td>0.460498</td>\n",
       "      <td>0.511364</td>\n",
       "      <td>0.029722</td>\n",
       "      <td>33</td>\n",
       "    </tr>\n",
       "    <tr>\n",
       "      <th>285</th>\n",
       "      <td>0.035199</td>\n",
       "      <td>0.001675</td>\n",
       "      <td>0.002350</td>\n",
       "      <td>0.000320</td>\n",
       "      <td>entropy</td>\n",
       "      <td>10</td>\n",
       "      <td>5</td>\n",
       "      <td>3</td>\n",
       "      <td>best</td>\n",
       "      <td>{'criterion': 'entropy', 'max_depth': 10, 'min...</td>\n",
       "      <td>...</td>\n",
       "      <td>0.532864</td>\n",
       "      <td>0.475448</td>\n",
       "      <td>0.541175</td>\n",
       "      <td>0.559350</td>\n",
       "      <td>0.519434</td>\n",
       "      <td>0.507261</td>\n",
       "      <td>0.463725</td>\n",
       "      <td>0.515768</td>\n",
       "      <td>0.027649</td>\n",
       "      <td>17</td>\n",
       "    </tr>\n",
       "    <tr>\n",
       "      <th>286</th>\n",
       "      <td>0.035100</td>\n",
       "      <td>0.001546</td>\n",
       "      <td>0.002400</td>\n",
       "      <td>0.000300</td>\n",
       "      <td>entropy</td>\n",
       "      <td>10</td>\n",
       "      <td>5</td>\n",
       "      <td>4</td>\n",
       "      <td>best</td>\n",
       "      <td>{'criterion': 'entropy', 'max_depth': 10, 'min...</td>\n",
       "      <td>...</td>\n",
       "      <td>0.537596</td>\n",
       "      <td>0.474510</td>\n",
       "      <td>0.518771</td>\n",
       "      <td>0.558758</td>\n",
       "      <td>0.517979</td>\n",
       "      <td>0.505482</td>\n",
       "      <td>0.468043</td>\n",
       "      <td>0.509306</td>\n",
       "      <td>0.026564</td>\n",
       "      <td>38</td>\n",
       "    </tr>\n",
       "    <tr>\n",
       "      <th>287</th>\n",
       "      <td>0.031600</td>\n",
       "      <td>0.002223</td>\n",
       "      <td>0.001850</td>\n",
       "      <td>0.000320</td>\n",
       "      <td>entropy</td>\n",
       "      <td>10</td>\n",
       "      <td>5</td>\n",
       "      <td>5</td>\n",
       "      <td>best</td>\n",
       "      <td>{'criterion': 'entropy', 'max_depth': 10, 'min...</td>\n",
       "      <td>...</td>\n",
       "      <td>0.553028</td>\n",
       "      <td>0.475448</td>\n",
       "      <td>0.541175</td>\n",
       "      <td>0.550373</td>\n",
       "      <td>0.521706</td>\n",
       "      <td>0.507261</td>\n",
       "      <td>0.460498</td>\n",
       "      <td>0.512103</td>\n",
       "      <td>0.029891</td>\n",
       "      <td>30</td>\n",
       "    </tr>\n",
       "  </tbody>\n",
       "</table>\n",
       "<p>288 rows × 23 columns</p>\n",
       "</div>"
      ],
      "text/plain": [
       "     mean_fit_time  std_fit_time  mean_score_time  std_score_time  \\\n",
       "0         0.006800      0.000510         0.002250        0.000462   \n",
       "1         0.006998      0.000388         0.002202        0.000245   \n",
       "2         0.007000      0.000447         0.002399        0.000300   \n",
       "3         0.006850      0.000550         0.002351        0.000672   \n",
       "4         0.007100      0.001019         0.002300        0.000601   \n",
       "..             ...           ...              ...             ...   \n",
       "283       0.036351      0.002481         0.002600        0.000583   \n",
       "284       0.034700      0.001346         0.002550        0.000270   \n",
       "285       0.035199      0.001675         0.002350        0.000320   \n",
       "286       0.035100      0.001546         0.002400        0.000300   \n",
       "287       0.031600      0.002223         0.001850        0.000320   \n",
       "\n",
       "    param_criterion param_max_depth param_min_samples_leaf  \\\n",
       "0              gini               2                      2   \n",
       "1              gini               2                      2   \n",
       "2              gini               2                      2   \n",
       "3              gini               2                      2   \n",
       "4              gini               2                      3   \n",
       "..              ...             ...                    ...   \n",
       "283         entropy              10                      4   \n",
       "284         entropy              10                      5   \n",
       "285         entropy              10                      5   \n",
       "286         entropy              10                      5   \n",
       "287         entropy              10                      5   \n",
       "\n",
       "    param_min_samples_split param_splitter  \\\n",
       "0                         2           best   \n",
       "1                         3           best   \n",
       "2                         4           best   \n",
       "3                         5           best   \n",
       "4                         2           best   \n",
       "..                      ...            ...   \n",
       "283                       5           best   \n",
       "284                       2           best   \n",
       "285                       3           best   \n",
       "286                       4           best   \n",
       "287                       5           best   \n",
       "\n",
       "                                                params  ...  \\\n",
       "0    {'criterion': 'gini', 'max_depth': 2, 'min_sam...  ...   \n",
       "1    {'criterion': 'gini', 'max_depth': 2, 'min_sam...  ...   \n",
       "2    {'criterion': 'gini', 'max_depth': 2, 'min_sam...  ...   \n",
       "3    {'criterion': 'gini', 'max_depth': 2, 'min_sam...  ...   \n",
       "4    {'criterion': 'gini', 'max_depth': 2, 'min_sam...  ...   \n",
       "..                                                 ...  ...   \n",
       "283  {'criterion': 'entropy', 'max_depth': 10, 'min...  ...   \n",
       "284  {'criterion': 'entropy', 'max_depth': 10, 'min...  ...   \n",
       "285  {'criterion': 'entropy', 'max_depth': 10, 'min...  ...   \n",
       "286  {'criterion': 'entropy', 'max_depth': 10, 'min...  ...   \n",
       "287  {'criterion': 'entropy', 'max_depth': 10, 'min...  ...   \n",
       "\n",
       "     split3_test_score  split4_test_score  split5_test_score  \\\n",
       "0             0.425593           0.409927           0.429303   \n",
       "1             0.425593           0.409927           0.429303   \n",
       "2             0.425593           0.409927           0.429303   \n",
       "3             0.425593           0.409927           0.429303   \n",
       "4             0.425593           0.409927           0.429303   \n",
       "..                 ...                ...                ...   \n",
       "283           0.541720           0.493817           0.514975   \n",
       "284           0.551689           0.475448           0.518771   \n",
       "285           0.532864           0.475448           0.541175   \n",
       "286           0.537596           0.474510           0.518771   \n",
       "287           0.553028           0.475448           0.541175   \n",
       "\n",
       "     split6_test_score  split7_test_score  split8_test_score  \\\n",
       "0             0.406101           0.289086           0.402668   \n",
       "1             0.406101           0.289086           0.402668   \n",
       "2             0.406101           0.289086           0.402668   \n",
       "3             0.406101           0.289086           0.402668   \n",
       "4             0.406101           0.289086           0.402668   \n",
       "..                 ...                ...                ...   \n",
       "283           0.566115           0.514774           0.529042   \n",
       "284           0.553287           0.517979           0.505482   \n",
       "285           0.559350           0.519434           0.507261   \n",
       "286           0.558758           0.517979           0.505482   \n",
       "287           0.550373           0.521706           0.507261   \n",
       "\n",
       "     split9_test_score  mean_test_score  std_test_score  rank_test_score  \n",
       "0             0.354534         0.399458        0.047776              257  \n",
       "1             0.354534         0.399458        0.047776              257  \n",
       "2             0.354534         0.399458        0.047776              257  \n",
       "3             0.354534         0.399458        0.047776              257  \n",
       "4             0.354534         0.399458        0.047776              257  \n",
       "..                 ...              ...             ...              ...  \n",
       "283           0.469455         0.513262        0.033116               27  \n",
       "284           0.460498         0.511364        0.029722               33  \n",
       "285           0.463725         0.515768        0.027649               17  \n",
       "286           0.468043         0.509306        0.026564               38  \n",
       "287           0.460498         0.512103        0.029891               30  \n",
       "\n",
       "[288 rows x 23 columns]"
      ]
     },
     "metadata": {},
     "output_type": "display_data"
    },
    {
     "name": "stdout",
     "output_type": "stream",
     "text": [
      "best score is 0.5328888804364326 with params {'criterion': 'entropy', 'max_depth': 10, 'min_samples_leaf': 2, 'min_samples_split': 3, 'splitter': 'best'}\n"
     ]
    }
   ],
   "source": [
    "parameters = {\n",
    "    'criterion':['gini', 'entropy'], \n",
    "    'splitter':['best'],\n",
    "    'max_depth':[ 2, 3, 4, 5, 6, 7, 8, 9, 10],\n",
    "    'min_samples_split' :[2,3,4,5],\n",
    "    'min_samples_leaf':[2,3,4,5]\n",
    "}\n",
    "\n",
    "\n",
    "# define the folds for the cross validation\n",
    "stratified_10_fold_cv = StratifiedKFold(n_splits=10, shuffle=True, random_state=42)\n",
    "\n",
    "# create the grid search estimator\n",
    "grid_search_estimator = GridSearchCV(decision_tree, parameters, scoring='f1_macro', cv=stratified_10_fold_cv, n_jobs = -1, verbose = 2, return_train_score=False)\n",
    "\n",
    "# Run the grid search\n",
    "grid_search_estimator.fit(data_train, target_train)\n",
    "\n",
    "# Print the results of all hyper-parameter combinations\n",
    "results = pd.DataFrame(grid_search_estimator.cv_results_)\n",
    "display(results)\n",
    "\n",
    "print(\"best score is {} with params {}\".format(grid_search_estimator.best_score_, grid_search_estimator.best_params_))"
   ]
  },
  {
   "cell_type": "markdown",
   "metadata": {},
   "source": [
    "### Tuned Model"
   ]
  },
  {
   "cell_type": "code",
   "execution_count": 132,
   "metadata": {
    "scrolled": false
   },
   "outputs": [
    {
     "name": "stdout",
     "output_type": "stream",
     "text": [
      "Makro F1-Score Train Data:\n"
     ]
    },
    {
     "data": {
      "text/plain": [
       "0.7604568853858514"
      ]
     },
     "metadata": {},
     "output_type": "display_data"
    },
    {
     "name": "stdout",
     "output_type": "stream",
     "text": [
      "Makro Precision Train Data:\n"
     ]
    },
    {
     "data": {
      "text/plain": [
       "0.8304537320635005"
      ]
     },
     "metadata": {},
     "output_type": "display_data"
    },
    {
     "name": "stdout",
     "output_type": "stream",
     "text": [
      "Makro Recall Train Data:\n"
     ]
    },
    {
     "data": {
      "text/plain": [
       "0.7141539032930453"
      ]
     },
     "metadata": {},
     "output_type": "display_data"
    },
    {
     "name": "stdout",
     "output_type": "stream",
     "text": [
      "Makro F1-Score Test Data:\n"
     ]
    },
    {
     "data": {
      "text/plain": [
       "0.5379959768837299"
      ]
     },
     "metadata": {},
     "output_type": "display_data"
    },
    {
     "name": "stdout",
     "output_type": "stream",
     "text": [
      "Makro Precision Test Data:\n"
     ]
    },
    {
     "data": {
      "text/plain": [
       "0.5648053286280383"
      ]
     },
     "metadata": {},
     "output_type": "display_data"
    },
    {
     "name": "stdout",
     "output_type": "stream",
     "text": [
      "Makro Recall Test Data:\n"
     ]
    },
    {
     "data": {
      "text/plain": [
       "0.5226233432708477"
      ]
     },
     "metadata": {},
     "output_type": "display_data"
    }
   ],
   "source": [
    "dt_tuned = DecisionTreeClassifier(criterion=\"entropy\", max_depth=10, min_samples_leaf=2, min_samples_split=4, splitter=\"best\")\n",
    "dt_tuned.fit(data_train, target_train)\n",
    "predictions_dt_tuned_train = dt_tuned.predict(data_train)\n",
    "predictions_dt_tuned_test = dt_tuned.predict(data_test)\n",
    "\n",
    "get_scores_train(target_train, predictions_dt_tuned_train)\n",
    "get_scores_test(target_test, predictions_dt_tuned_test)"
   ]
  },
  {
   "cell_type": "markdown",
   "metadata": {},
   "source": [
    "#### Oversampling without \"type\""
   ]
  },
  {
   "cell_type": "code",
   "execution_count": 133,
   "metadata": {
    "scrolled": true
   },
   "outputs": [
    {
     "name": "stdout",
     "output_type": "stream",
     "text": [
      "Original Train Dataset:\n",
      "Length of data_train:\n"
     ]
    },
    {
     "data": {
      "text/plain": [
       "5124"
      ]
     },
     "metadata": {},
     "output_type": "display_data"
    },
    {
     "name": "stdout",
     "output_type": "stream",
     "text": [
      "Length of target_train:\n"
     ]
    },
    {
     "data": {
      "text/plain": [
       "5124"
      ]
     },
     "metadata": {},
     "output_type": "display_data"
    },
    {
     "name": "stdout",
     "output_type": "stream",
     "text": [
      "Class Distribution: Counter({1: 3919, 2: 1015, 0: 190})\n",
      "\n",
      "Balanced Train Dataset:\n",
      "Length of data_train:\n"
     ]
    },
    {
     "data": {
      "text/plain": [
       "11757"
      ]
     },
     "metadata": {},
     "output_type": "display_data"
    },
    {
     "name": "stdout",
     "output_type": "stream",
     "text": [
      "Length of target_train:\n"
     ]
    },
    {
     "data": {
      "text/plain": [
       "11757"
      ]
     },
     "metadata": {},
     "output_type": "display_data"
    },
    {
     "name": "stdout",
     "output_type": "stream",
     "text": [
      "Class Distribution: Counter({1: 3919, 2: 3919, 0: 3919})\n"
     ]
    }
   ],
   "source": [
    "# Print the Class Distribution before SMOTE\n",
    "print('Original Train Dataset:')\n",
    "print('Length of data_train:')\n",
    "display(len(data_train.index))\n",
    "print('Length of target_train:')\n",
    "display(target_train.size)\n",
    "print('Class Distribution: %s' % Counter(target_train))\n",
    "\n",
    "data_train_smt = data_train.copy() \n",
    "target_train_smt = target_train.copy()\n",
    "\n",
    "smt = SMOTE(random_state=42)\n",
    "data_train_oversampled, target_train_oversampled = smt.fit_resample(data_train_smt, target_train_smt)\n",
    "\n",
    "# Print the new Class Distribution after SMOTE\n",
    "print('\\nBalanced Train Dataset:')\n",
    "print('Length of data_train:')\n",
    "display(len(data_train_oversampled.index))\n",
    "print('Length of target_train:')\n",
    "display(target_train_oversampled.size)\n",
    "print('Class Distribution: %s' % Counter(target_train_oversampled))"
   ]
  },
  {
   "cell_type": "markdown",
   "metadata": {},
   "source": [
    "#### Model with default parameters + oversampling"
   ]
  },
  {
   "cell_type": "code",
   "execution_count": 134,
   "metadata": {},
   "outputs": [
    {
     "name": "stdout",
     "output_type": "stream",
     "text": [
      "Makro F1-Score Train Data:\n"
     ]
    },
    {
     "data": {
      "text/plain": [
       "1.0"
      ]
     },
     "metadata": {},
     "output_type": "display_data"
    },
    {
     "name": "stdout",
     "output_type": "stream",
     "text": [
      "Makro Precision Train Data:\n"
     ]
    },
    {
     "data": {
      "text/plain": [
       "1.0"
      ]
     },
     "metadata": {},
     "output_type": "display_data"
    },
    {
     "name": "stdout",
     "output_type": "stream",
     "text": [
      "Makro Recall Train Data:\n"
     ]
    },
    {
     "data": {
      "text/plain": [
       "1.0"
      ]
     },
     "metadata": {},
     "output_type": "display_data"
    },
    {
     "name": "stdout",
     "output_type": "stream",
     "text": [
      "Makro F1-Score Test Data:\n"
     ]
    },
    {
     "data": {
      "text/plain": [
       "0.5611639127989537"
      ]
     },
     "metadata": {},
     "output_type": "display_data"
    },
    {
     "name": "stdout",
     "output_type": "stream",
     "text": [
      "Makro Precision Test Data:\n"
     ]
    },
    {
     "data": {
      "text/plain": [
       "0.5397892360972661"
      ]
     },
     "metadata": {},
     "output_type": "display_data"
    },
    {
     "name": "stdout",
     "output_type": "stream",
     "text": [
      "Makro Recall Test Data:\n"
     ]
    },
    {
     "data": {
      "text/plain": [
       "0.6154611716544086"
      ]
     },
     "metadata": {},
     "output_type": "display_data"
    }
   ],
   "source": [
    "decision_tree_oversampled = DecisionTreeClassifier()\n",
    "decision_tree_oversampled.fit(data_train_oversampled, target_train_oversampled)\n",
    "predictions_train_dt = decision_tree_oversampled.predict(data_train_oversampled)\n",
    "predictions_test_dt = decision_tree_oversampled.predict(data_test)\n",
    "\n",
    "get_scores_train(target_train_oversampled, predictions_train_dt)\n",
    "get_scores_test(target_test, predictions_test_dt)"
   ]
  },
  {
   "cell_type": "markdown",
   "metadata": {},
   "source": [
    "### Hyperparameter tuning + oversampled"
   ]
  },
  {
   "cell_type": "code",
   "execution_count": 135,
   "metadata": {
    "scrolled": false
   },
   "outputs": [
    {
     "name": "stdout",
     "output_type": "stream",
     "text": [
      "Fitting 10 folds for each of 288 candidates, totalling 2880 fits\n"
     ]
    },
    {
     "data": {
      "text/html": [
       "<div>\n",
       "<style scoped>\n",
       "    .dataframe tbody tr th:only-of-type {\n",
       "        vertical-align: middle;\n",
       "    }\n",
       "\n",
       "    .dataframe tbody tr th {\n",
       "        vertical-align: top;\n",
       "    }\n",
       "\n",
       "    .dataframe thead th {\n",
       "        text-align: right;\n",
       "    }\n",
       "</style>\n",
       "<table border=\"1\" class=\"dataframe\">\n",
       "  <thead>\n",
       "    <tr style=\"text-align: right;\">\n",
       "      <th></th>\n",
       "      <th>mean_fit_time</th>\n",
       "      <th>std_fit_time</th>\n",
       "      <th>mean_score_time</th>\n",
       "      <th>std_score_time</th>\n",
       "      <th>param_criterion</th>\n",
       "      <th>param_max_depth</th>\n",
       "      <th>param_min_samples_leaf</th>\n",
       "      <th>param_min_samples_split</th>\n",
       "      <th>param_splitter</th>\n",
       "      <th>params</th>\n",
       "      <th>...</th>\n",
       "      <th>split3_test_score</th>\n",
       "      <th>split4_test_score</th>\n",
       "      <th>split5_test_score</th>\n",
       "      <th>split6_test_score</th>\n",
       "      <th>split7_test_score</th>\n",
       "      <th>split8_test_score</th>\n",
       "      <th>split9_test_score</th>\n",
       "      <th>mean_test_score</th>\n",
       "      <th>std_test_score</th>\n",
       "      <th>rank_test_score</th>\n",
       "    </tr>\n",
       "  </thead>\n",
       "  <tbody>\n",
       "    <tr>\n",
       "      <th>0</th>\n",
       "      <td>0.021954</td>\n",
       "      <td>0.001177</td>\n",
       "      <td>0.002496</td>\n",
       "      <td>0.000224</td>\n",
       "      <td>gini</td>\n",
       "      <td>2</td>\n",
       "      <td>2</td>\n",
       "      <td>2</td>\n",
       "      <td>best</td>\n",
       "      <td>{'criterion': 'gini', 'max_depth': 2, 'min_sam...</td>\n",
       "      <td>...</td>\n",
       "      <td>0.526274</td>\n",
       "      <td>0.495025</td>\n",
       "      <td>0.524186</td>\n",
       "      <td>0.511274</td>\n",
       "      <td>0.528366</td>\n",
       "      <td>0.519004</td>\n",
       "      <td>0.542209</td>\n",
       "      <td>0.514048</td>\n",
       "      <td>0.030375</td>\n",
       "      <td>273</td>\n",
       "    </tr>\n",
       "    <tr>\n",
       "      <th>1</th>\n",
       "      <td>0.023100</td>\n",
       "      <td>0.000735</td>\n",
       "      <td>0.002649</td>\n",
       "      <td>0.000391</td>\n",
       "      <td>gini</td>\n",
       "      <td>2</td>\n",
       "      <td>2</td>\n",
       "      <td>3</td>\n",
       "      <td>best</td>\n",
       "      <td>{'criterion': 'gini', 'max_depth': 2, 'min_sam...</td>\n",
       "      <td>...</td>\n",
       "      <td>0.526274</td>\n",
       "      <td>0.495025</td>\n",
       "      <td>0.524186</td>\n",
       "      <td>0.511274</td>\n",
       "      <td>0.528366</td>\n",
       "      <td>0.519004</td>\n",
       "      <td>0.542209</td>\n",
       "      <td>0.514048</td>\n",
       "      <td>0.030375</td>\n",
       "      <td>273</td>\n",
       "    </tr>\n",
       "    <tr>\n",
       "      <th>2</th>\n",
       "      <td>0.023451</td>\n",
       "      <td>0.000471</td>\n",
       "      <td>0.002799</td>\n",
       "      <td>0.000510</td>\n",
       "      <td>gini</td>\n",
       "      <td>2</td>\n",
       "      <td>2</td>\n",
       "      <td>4</td>\n",
       "      <td>best</td>\n",
       "      <td>{'criterion': 'gini', 'max_depth': 2, 'min_sam...</td>\n",
       "      <td>...</td>\n",
       "      <td>0.526274</td>\n",
       "      <td>0.495025</td>\n",
       "      <td>0.524186</td>\n",
       "      <td>0.511274</td>\n",
       "      <td>0.528366</td>\n",
       "      <td>0.519004</td>\n",
       "      <td>0.542209</td>\n",
       "      <td>0.514048</td>\n",
       "      <td>0.030375</td>\n",
       "      <td>273</td>\n",
       "    </tr>\n",
       "    <tr>\n",
       "      <th>3</th>\n",
       "      <td>0.025398</td>\n",
       "      <td>0.002300</td>\n",
       "      <td>0.002801</td>\n",
       "      <td>0.000679</td>\n",
       "      <td>gini</td>\n",
       "      <td>2</td>\n",
       "      <td>2</td>\n",
       "      <td>5</td>\n",
       "      <td>best</td>\n",
       "      <td>{'criterion': 'gini', 'max_depth': 2, 'min_sam...</td>\n",
       "      <td>...</td>\n",
       "      <td>0.526274</td>\n",
       "      <td>0.495025</td>\n",
       "      <td>0.524186</td>\n",
       "      <td>0.511274</td>\n",
       "      <td>0.528366</td>\n",
       "      <td>0.519004</td>\n",
       "      <td>0.542209</td>\n",
       "      <td>0.514048</td>\n",
       "      <td>0.030375</td>\n",
       "      <td>273</td>\n",
       "    </tr>\n",
       "    <tr>\n",
       "      <th>4</th>\n",
       "      <td>0.023900</td>\n",
       "      <td>0.001655</td>\n",
       "      <td>0.002500</td>\n",
       "      <td>0.000387</td>\n",
       "      <td>gini</td>\n",
       "      <td>2</td>\n",
       "      <td>3</td>\n",
       "      <td>2</td>\n",
       "      <td>best</td>\n",
       "      <td>{'criterion': 'gini', 'max_depth': 2, 'min_sam...</td>\n",
       "      <td>...</td>\n",
       "      <td>0.526274</td>\n",
       "      <td>0.495025</td>\n",
       "      <td>0.524186</td>\n",
       "      <td>0.511274</td>\n",
       "      <td>0.528366</td>\n",
       "      <td>0.519004</td>\n",
       "      <td>0.542209</td>\n",
       "      <td>0.514048</td>\n",
       "      <td>0.030375</td>\n",
       "      <td>273</td>\n",
       "    </tr>\n",
       "    <tr>\n",
       "      <th>...</th>\n",
       "      <td>...</td>\n",
       "      <td>...</td>\n",
       "      <td>...</td>\n",
       "      <td>...</td>\n",
       "      <td>...</td>\n",
       "      <td>...</td>\n",
       "      <td>...</td>\n",
       "      <td>...</td>\n",
       "      <td>...</td>\n",
       "      <td>...</td>\n",
       "      <td>...</td>\n",
       "      <td>...</td>\n",
       "      <td>...</td>\n",
       "      <td>...</td>\n",
       "      <td>...</td>\n",
       "      <td>...</td>\n",
       "      <td>...</td>\n",
       "      <td>...</td>\n",
       "      <td>...</td>\n",
       "      <td>...</td>\n",
       "      <td>...</td>\n",
       "    </tr>\n",
       "    <tr>\n",
       "      <th>283</th>\n",
       "      <td>0.179949</td>\n",
       "      <td>0.009384</td>\n",
       "      <td>0.002650</td>\n",
       "      <td>0.000229</td>\n",
       "      <td>entropy</td>\n",
       "      <td>10</td>\n",
       "      <td>4</td>\n",
       "      <td>5</td>\n",
       "      <td>best</td>\n",
       "      <td>{'criterion': 'entropy', 'max_depth': 10, 'min...</td>\n",
       "      <td>...</td>\n",
       "      <td>0.789120</td>\n",
       "      <td>0.804168</td>\n",
       "      <td>0.796887</td>\n",
       "      <td>0.788192</td>\n",
       "      <td>0.801892</td>\n",
       "      <td>0.779529</td>\n",
       "      <td>0.775689</td>\n",
       "      <td>0.790443</td>\n",
       "      <td>0.008776</td>\n",
       "      <td>22</td>\n",
       "    </tr>\n",
       "    <tr>\n",
       "      <th>284</th>\n",
       "      <td>0.174350</td>\n",
       "      <td>0.005844</td>\n",
       "      <td>0.002950</td>\n",
       "      <td>0.001036</td>\n",
       "      <td>entropy</td>\n",
       "      <td>10</td>\n",
       "      <td>5</td>\n",
       "      <td>2</td>\n",
       "      <td>best</td>\n",
       "      <td>{'criterion': 'entropy', 'max_depth': 10, 'min...</td>\n",
       "      <td>...</td>\n",
       "      <td>0.783889</td>\n",
       "      <td>0.799008</td>\n",
       "      <td>0.796849</td>\n",
       "      <td>0.787824</td>\n",
       "      <td>0.796884</td>\n",
       "      <td>0.775364</td>\n",
       "      <td>0.777105</td>\n",
       "      <td>0.787023</td>\n",
       "      <td>0.007882</td>\n",
       "      <td>29</td>\n",
       "    </tr>\n",
       "    <tr>\n",
       "      <th>285</th>\n",
       "      <td>0.171649</td>\n",
       "      <td>0.006352</td>\n",
       "      <td>0.002700</td>\n",
       "      <td>0.000330</td>\n",
       "      <td>entropy</td>\n",
       "      <td>10</td>\n",
       "      <td>5</td>\n",
       "      <td>3</td>\n",
       "      <td>best</td>\n",
       "      <td>{'criterion': 'entropy', 'max_depth': 10, 'min...</td>\n",
       "      <td>...</td>\n",
       "      <td>0.783863</td>\n",
       "      <td>0.796323</td>\n",
       "      <td>0.795965</td>\n",
       "      <td>0.788822</td>\n",
       "      <td>0.795097</td>\n",
       "      <td>0.774365</td>\n",
       "      <td>0.776946</td>\n",
       "      <td>0.786275</td>\n",
       "      <td>0.007298</td>\n",
       "      <td>31</td>\n",
       "    </tr>\n",
       "    <tr>\n",
       "      <th>286</th>\n",
       "      <td>0.174149</td>\n",
       "      <td>0.004285</td>\n",
       "      <td>0.002850</td>\n",
       "      <td>0.000450</td>\n",
       "      <td>entropy</td>\n",
       "      <td>10</td>\n",
       "      <td>5</td>\n",
       "      <td>4</td>\n",
       "      <td>best</td>\n",
       "      <td>{'criterion': 'entropy', 'max_depth': 10, 'min...</td>\n",
       "      <td>...</td>\n",
       "      <td>0.782794</td>\n",
       "      <td>0.796323</td>\n",
       "      <td>0.795708</td>\n",
       "      <td>0.789783</td>\n",
       "      <td>0.797104</td>\n",
       "      <td>0.776010</td>\n",
       "      <td>0.775989</td>\n",
       "      <td>0.786944</td>\n",
       "      <td>0.007533</td>\n",
       "      <td>30</td>\n",
       "    </tr>\n",
       "    <tr>\n",
       "      <th>287</th>\n",
       "      <td>0.152550</td>\n",
       "      <td>0.011997</td>\n",
       "      <td>0.001950</td>\n",
       "      <td>0.000269</td>\n",
       "      <td>entropy</td>\n",
       "      <td>10</td>\n",
       "      <td>5</td>\n",
       "      <td>5</td>\n",
       "      <td>best</td>\n",
       "      <td>{'criterion': 'entropy', 'max_depth': 10, 'min...</td>\n",
       "      <td>...</td>\n",
       "      <td>0.786671</td>\n",
       "      <td>0.794774</td>\n",
       "      <td>0.794020</td>\n",
       "      <td>0.787875</td>\n",
       "      <td>0.796578</td>\n",
       "      <td>0.773347</td>\n",
       "      <td>0.775395</td>\n",
       "      <td>0.786243</td>\n",
       "      <td>0.007375</td>\n",
       "      <td>32</td>\n",
       "    </tr>\n",
       "  </tbody>\n",
       "</table>\n",
       "<p>288 rows × 23 columns</p>\n",
       "</div>"
      ],
      "text/plain": [
       "     mean_fit_time  std_fit_time  mean_score_time  std_score_time  \\\n",
       "0         0.021954      0.001177         0.002496        0.000224   \n",
       "1         0.023100      0.000735         0.002649        0.000391   \n",
       "2         0.023451      0.000471         0.002799        0.000510   \n",
       "3         0.025398      0.002300         0.002801        0.000679   \n",
       "4         0.023900      0.001655         0.002500        0.000387   \n",
       "..             ...           ...              ...             ...   \n",
       "283       0.179949      0.009384         0.002650        0.000229   \n",
       "284       0.174350      0.005844         0.002950        0.001036   \n",
       "285       0.171649      0.006352         0.002700        0.000330   \n",
       "286       0.174149      0.004285         0.002850        0.000450   \n",
       "287       0.152550      0.011997         0.001950        0.000269   \n",
       "\n",
       "    param_criterion param_max_depth param_min_samples_leaf  \\\n",
       "0              gini               2                      2   \n",
       "1              gini               2                      2   \n",
       "2              gini               2                      2   \n",
       "3              gini               2                      2   \n",
       "4              gini               2                      3   \n",
       "..              ...             ...                    ...   \n",
       "283         entropy              10                      4   \n",
       "284         entropy              10                      5   \n",
       "285         entropy              10                      5   \n",
       "286         entropy              10                      5   \n",
       "287         entropy              10                      5   \n",
       "\n",
       "    param_min_samples_split param_splitter  \\\n",
       "0                         2           best   \n",
       "1                         3           best   \n",
       "2                         4           best   \n",
       "3                         5           best   \n",
       "4                         2           best   \n",
       "..                      ...            ...   \n",
       "283                       5           best   \n",
       "284                       2           best   \n",
       "285                       3           best   \n",
       "286                       4           best   \n",
       "287                       5           best   \n",
       "\n",
       "                                                params  ...  \\\n",
       "0    {'criterion': 'gini', 'max_depth': 2, 'min_sam...  ...   \n",
       "1    {'criterion': 'gini', 'max_depth': 2, 'min_sam...  ...   \n",
       "2    {'criterion': 'gini', 'max_depth': 2, 'min_sam...  ...   \n",
       "3    {'criterion': 'gini', 'max_depth': 2, 'min_sam...  ...   \n",
       "4    {'criterion': 'gini', 'max_depth': 2, 'min_sam...  ...   \n",
       "..                                                 ...  ...   \n",
       "283  {'criterion': 'entropy', 'max_depth': 10, 'min...  ...   \n",
       "284  {'criterion': 'entropy', 'max_depth': 10, 'min...  ...   \n",
       "285  {'criterion': 'entropy', 'max_depth': 10, 'min...  ...   \n",
       "286  {'criterion': 'entropy', 'max_depth': 10, 'min...  ...   \n",
       "287  {'criterion': 'entropy', 'max_depth': 10, 'min...  ...   \n",
       "\n",
       "     split3_test_score  split4_test_score  split5_test_score  \\\n",
       "0             0.526274           0.495025           0.524186   \n",
       "1             0.526274           0.495025           0.524186   \n",
       "2             0.526274           0.495025           0.524186   \n",
       "3             0.526274           0.495025           0.524186   \n",
       "4             0.526274           0.495025           0.524186   \n",
       "..                 ...                ...                ...   \n",
       "283           0.789120           0.804168           0.796887   \n",
       "284           0.783889           0.799008           0.796849   \n",
       "285           0.783863           0.796323           0.795965   \n",
       "286           0.782794           0.796323           0.795708   \n",
       "287           0.786671           0.794774           0.794020   \n",
       "\n",
       "     split6_test_score  split7_test_score  split8_test_score  \\\n",
       "0             0.511274           0.528366           0.519004   \n",
       "1             0.511274           0.528366           0.519004   \n",
       "2             0.511274           0.528366           0.519004   \n",
       "3             0.511274           0.528366           0.519004   \n",
       "4             0.511274           0.528366           0.519004   \n",
       "..                 ...                ...                ...   \n",
       "283           0.788192           0.801892           0.779529   \n",
       "284           0.787824           0.796884           0.775364   \n",
       "285           0.788822           0.795097           0.774365   \n",
       "286           0.789783           0.797104           0.776010   \n",
       "287           0.787875           0.796578           0.773347   \n",
       "\n",
       "     split9_test_score  mean_test_score  std_test_score  rank_test_score  \n",
       "0             0.542209         0.514048        0.030375              273  \n",
       "1             0.542209         0.514048        0.030375              273  \n",
       "2             0.542209         0.514048        0.030375              273  \n",
       "3             0.542209         0.514048        0.030375              273  \n",
       "4             0.542209         0.514048        0.030375              273  \n",
       "..                 ...              ...             ...              ...  \n",
       "283           0.775689         0.790443        0.008776               22  \n",
       "284           0.777105         0.787023        0.007882               29  \n",
       "285           0.776946         0.786275        0.007298               31  \n",
       "286           0.775989         0.786944        0.007533               30  \n",
       "287           0.775395         0.786243        0.007375               32  \n",
       "\n",
       "[288 rows x 23 columns]"
      ]
     },
     "metadata": {},
     "output_type": "display_data"
    },
    {
     "name": "stdout",
     "output_type": "stream",
     "text": [
      "best score is 0.7979401392346589 with params {'criterion': 'gini', 'max_depth': 10, 'min_samples_leaf': 2, 'min_samples_split': 5, 'splitter': 'best'}\n"
     ]
    }
   ],
   "source": [
    "parameters = {\n",
    "    'criterion':['gini', 'entropy'], \n",
    "    'splitter':['best'],\n",
    "    'max_depth':[ 2, 3, 4, 5, 6, 7, 8, 9, 10],\n",
    "    'min_samples_split' :[2,3,4,5],\n",
    "    'min_samples_leaf':[2,3,4,5]\n",
    "}\n",
    "\n",
    "\n",
    "# define the folds for the cross validation\n",
    "stratified_10_fold_cv = StratifiedKFold(n_splits=10, shuffle=True, random_state=42)\n",
    "\n",
    "# create the grid search estimator\n",
    "grid_search_estimator = GridSearchCV(decision_tree_oversampled, parameters, scoring='f1_macro', cv=stratified_10_fold_cv, n_jobs = -1, verbose = 2, return_train_score=False)\n",
    "\n",
    "# Run the grid search\n",
    "grid_search_estimator.fit(data_train_oversampled, target_train_oversampled)\n",
    "\n",
    "# Print the results of all hyper-parameter combinations\n",
    "results = pd.DataFrame(grid_search_estimator.cv_results_)\n",
    "display(results)\n",
    "\n",
    "print(\"best score is {} with params {}\".format(grid_search_estimator.best_score_, grid_search_estimator.best_params_))"
   ]
  },
  {
   "cell_type": "markdown",
   "metadata": {},
   "source": [
    "#### Model with tuned parameters + oversampling"
   ]
  },
  {
   "cell_type": "code",
   "execution_count": 137,
   "metadata": {},
   "outputs": [
    {
     "name": "stdout",
     "output_type": "stream",
     "text": [
      "Makro F1-Score Train Data:\n"
     ]
    },
    {
     "data": {
      "text/plain": [
       "0.8587536998361825"
      ]
     },
     "metadata": {},
     "output_type": "display_data"
    },
    {
     "name": "stdout",
     "output_type": "stream",
     "text": [
      "Makro Precision Train Data:\n"
     ]
    },
    {
     "data": {
      "text/plain": [
       "0.8598474885628224"
      ]
     },
     "metadata": {},
     "output_type": "display_data"
    },
    {
     "name": "stdout",
     "output_type": "stream",
     "text": [
      "Makro Recall Train Data:\n"
     ]
    },
    {
     "data": {
      "text/plain": [
       "0.8605086331547164"
      ]
     },
     "metadata": {},
     "output_type": "display_data"
    },
    {
     "name": "stdout",
     "output_type": "stream",
     "text": [
      "Makro F1-Score Test Data:\n"
     ]
    },
    {
     "data": {
      "text/plain": [
       "0.5184209897466941"
      ]
     },
     "metadata": {},
     "output_type": "display_data"
    },
    {
     "name": "stdout",
     "output_type": "stream",
     "text": [
      "Makro Precision Test Data:\n"
     ]
    },
    {
     "data": {
      "text/plain": [
       "0.505750120816721"
      ]
     },
     "metadata": {},
     "output_type": "display_data"
    },
    {
     "name": "stdout",
     "output_type": "stream",
     "text": [
      "Makro Recall Test Data:\n"
     ]
    },
    {
     "data": {
      "text/plain": [
       "0.6401301389151458"
      ]
     },
     "metadata": {},
     "output_type": "display_data"
    }
   ],
   "source": [
    "dt_tuned_oversampled = DecisionTreeClassifier(criterion=\"gini\", max_depth=10, min_samples_leaf=2, min_samples_split=5, splitter=\"best\")\n",
    "dt_tuned_oversampled.fit(data_train_oversampled, target_train_oversampled)\n",
    "predictions_dt_tuned_train = dt_tuned_oversampled.predict(data_train_oversampled)\n",
    "predictions_dt_tuned_test = dt_tuned_oversampled.predict(data_test)\n",
    "\n",
    "get_scores_train(target_train_oversampled, predictions_dt_tuned_train)\n",
    "get_scores_test(target_test, predictions_dt_tuned_test)"
   ]
  },
  {
   "cell_type": "code",
   "execution_count": null,
   "metadata": {},
   "outputs": [],
   "source": []
  }
 ],
 "metadata": {
  "colab": {
   "name": "Wine_Quality_Prediction.ipynb",
   "provenance": []
  },
  "kernelspec": {
   "display_name": "Python 3",
   "language": "python",
   "name": "python3"
  },
  "language_info": {
   "codemirror_mode": {
    "name": "ipython",
    "version": 3
   },
   "file_extension": ".py",
   "mimetype": "text/x-python",
   "name": "python",
   "nbconvert_exporter": "python",
   "pygments_lexer": "ipython3",
   "version": "3.8.8"
  }
 },
 "nbformat": 4,
 "nbformat_minor": 1
}
