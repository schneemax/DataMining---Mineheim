{
 "cells": [
  {
   "cell_type": "markdown",
   "metadata": {
    "id": "GK7TLvAVjfUZ"
   },
   "source": [
    "# University of Mannheim\n",
    "## Data Mining I -- Group Project\n",
    "### Wine Quality Prediction\n",
    "#### Team members:\n",
    "* Anna-Lena Blinken\n",
    "* Max Darmstadt\n",
    "* Nicolas Hautschek\n",
    "* Erik Penther\n",
    "* Nicolas Fürhaupter"
   ]
  },
  {
   "cell_type": "markdown",
   "metadata": {
    "id": "1zQB_uITj-7f"
   },
   "source": [
    "## Importing Libraries and Data"
   ]
  },
  {
   "cell_type": "code",
   "execution_count": 25,
   "metadata": {
    "colab": {
     "base_uri": "https://localhost:8080/"
    },
    "id": "gsbH9QBLkHDX",
    "outputId": "d8c0d3a1-fec4-4a7a-cdaf-010429f18225"
   },
   "outputs": [],
   "source": [
    "#from google.colab import drive\n",
    "#drive.mount('/gdrive')\n",
    "#%cd /gdrive"
   ]
  },
  {
   "cell_type": "code",
   "execution_count": 26,
   "metadata": {
    "id": "hvggVH9Pj-PA"
   },
   "outputs": [],
   "source": [
    "# Import libraries\n",
    "\n",
    "import pandas as pd\n",
    "import numpy as np\n",
    "import matplotlib.pyplot as plt\n",
    "import seaborn as sns\n",
    "\n",
    "from sklearn.model_selection import train_test_split\n",
    "\n",
    "from sklearn.tree import DecisionTreeClassifier\n",
    "from sklearn.pipeline import Pipeline\n",
    "\n",
    "from sklearn.metrics import mean_squared_error, r2_score\n",
    "from sklearn.metrics import classification_report\n",
    "from math import sqrt\n",
    "from sklearn.model_selection import cross_val_score\n",
    "from sklearn.metrics import f1_score\n",
    "from sklearn.metrics import precision_score\n",
    "from sklearn.metrics import recall_score\n",
    "\n",
    "from sklearn.impute import SimpleImputer\n",
    "\n",
    "from sklearn.metrics import confusion_matrix\n",
    "import itertools\n",
    "\n",
    "# Imports\n",
    "from sklearn.metrics import make_scorer\n",
    "from sklearn.metrics import accuracy_score\n",
    "from sklearn.model_selection import StratifiedKFold\n",
    "from sklearn.model_selection import GridSearchCV\n",
    "from sklearn.model_selection import cross_val_predict\n",
    "\n",
    "from imblearn.over_sampling import SMOTE \n",
    "from collections import Counter"
   ]
  },
  {
   "cell_type": "code",
   "execution_count": 27,
   "metadata": {
    "colab": {
     "base_uri": "https://localhost:8080/",
     "height": 204
    },
    "id": "UJRTrgfzn6Km",
    "outputId": "88a8a855-6b22-4498-d107-4044d41ef2d7"
   },
   "outputs": [
    {
     "data": {
      "text/html": [
       "<div>\n",
       "<style scoped>\n",
       "    .dataframe tbody tr th:only-of-type {\n",
       "        vertical-align: middle;\n",
       "    }\n",
       "\n",
       "    .dataframe tbody tr th {\n",
       "        vertical-align: top;\n",
       "    }\n",
       "\n",
       "    .dataframe thead th {\n",
       "        text-align: right;\n",
       "    }\n",
       "</style>\n",
       "<table border=\"1\" class=\"dataframe\">\n",
       "  <thead>\n",
       "    <tr style=\"text-align: right;\">\n",
       "      <th></th>\n",
       "      <th>type</th>\n",
       "      <th>fixed acidity</th>\n",
       "      <th>volatile acidity</th>\n",
       "      <th>citric acid</th>\n",
       "      <th>residual sugar</th>\n",
       "      <th>chlorides</th>\n",
       "      <th>free sulfur dioxide</th>\n",
       "      <th>total sulfur dioxide</th>\n",
       "      <th>density</th>\n",
       "      <th>pH</th>\n",
       "      <th>sulphates</th>\n",
       "      <th>alcohol</th>\n",
       "      <th>quality</th>\n",
       "    </tr>\n",
       "  </thead>\n",
       "  <tbody>\n",
       "    <tr>\n",
       "      <th>0</th>\n",
       "      <td>white</td>\n",
       "      <td>7.0</td>\n",
       "      <td>0.27</td>\n",
       "      <td>0.36</td>\n",
       "      <td>20.7</td>\n",
       "      <td>0.045</td>\n",
       "      <td>45.0</td>\n",
       "      <td>170.0</td>\n",
       "      <td>1.0010</td>\n",
       "      <td>3.00</td>\n",
       "      <td>0.45</td>\n",
       "      <td>8.8</td>\n",
       "      <td>6</td>\n",
       "    </tr>\n",
       "    <tr>\n",
       "      <th>1</th>\n",
       "      <td>white</td>\n",
       "      <td>6.3</td>\n",
       "      <td>0.30</td>\n",
       "      <td>0.34</td>\n",
       "      <td>1.6</td>\n",
       "      <td>0.049</td>\n",
       "      <td>14.0</td>\n",
       "      <td>132.0</td>\n",
       "      <td>0.9940</td>\n",
       "      <td>3.30</td>\n",
       "      <td>0.49</td>\n",
       "      <td>9.5</td>\n",
       "      <td>6</td>\n",
       "    </tr>\n",
       "    <tr>\n",
       "      <th>2</th>\n",
       "      <td>white</td>\n",
       "      <td>8.1</td>\n",
       "      <td>0.28</td>\n",
       "      <td>0.40</td>\n",
       "      <td>6.9</td>\n",
       "      <td>0.050</td>\n",
       "      <td>30.0</td>\n",
       "      <td>97.0</td>\n",
       "      <td>0.9951</td>\n",
       "      <td>3.26</td>\n",
       "      <td>0.44</td>\n",
       "      <td>10.1</td>\n",
       "      <td>6</td>\n",
       "    </tr>\n",
       "    <tr>\n",
       "      <th>3</th>\n",
       "      <td>white</td>\n",
       "      <td>7.2</td>\n",
       "      <td>0.23</td>\n",
       "      <td>0.32</td>\n",
       "      <td>8.5</td>\n",
       "      <td>0.058</td>\n",
       "      <td>47.0</td>\n",
       "      <td>186.0</td>\n",
       "      <td>0.9956</td>\n",
       "      <td>3.19</td>\n",
       "      <td>0.40</td>\n",
       "      <td>9.9</td>\n",
       "      <td>6</td>\n",
       "    </tr>\n",
       "    <tr>\n",
       "      <th>4</th>\n",
       "      <td>white</td>\n",
       "      <td>7.2</td>\n",
       "      <td>0.23</td>\n",
       "      <td>0.32</td>\n",
       "      <td>8.5</td>\n",
       "      <td>0.058</td>\n",
       "      <td>47.0</td>\n",
       "      <td>186.0</td>\n",
       "      <td>0.9956</td>\n",
       "      <td>3.19</td>\n",
       "      <td>0.40</td>\n",
       "      <td>9.9</td>\n",
       "      <td>6</td>\n",
       "    </tr>\n",
       "  </tbody>\n",
       "</table>\n",
       "</div>"
      ],
      "text/plain": [
       "    type  fixed acidity  volatile acidity  citric acid  residual sugar  \\\n",
       "0  white            7.0              0.27         0.36            20.7   \n",
       "1  white            6.3              0.30         0.34             1.6   \n",
       "2  white            8.1              0.28         0.40             6.9   \n",
       "3  white            7.2              0.23         0.32             8.5   \n",
       "4  white            7.2              0.23         0.32             8.5   \n",
       "\n",
       "   chlorides  free sulfur dioxide  total sulfur dioxide  density    pH  \\\n",
       "0      0.045                 45.0                 170.0   1.0010  3.00   \n",
       "1      0.049                 14.0                 132.0   0.9940  3.30   \n",
       "2      0.050                 30.0                  97.0   0.9951  3.26   \n",
       "3      0.058                 47.0                 186.0   0.9956  3.19   \n",
       "4      0.058                 47.0                 186.0   0.9956  3.19   \n",
       "\n",
       "   sulphates  alcohol  quality  \n",
       "0       0.45      8.8        6  \n",
       "1       0.49      9.5        6  \n",
       "2       0.44     10.1        6  \n",
       "3       0.40      9.9        6  \n",
       "4       0.40      9.9        6  "
      ]
     },
     "execution_count": 27,
     "metadata": {},
     "output_type": "execute_result"
    }
   ],
   "source": [
    "# Import wine data\n",
    "\n",
    "wine_data = pd.read_csv('../winequalityN.csv')\n",
    "wine_data.head()"
   ]
  },
  {
   "cell_type": "code",
   "execution_count": 28,
   "metadata": {},
   "outputs": [],
   "source": [
    "def get_scores_train(target, predictions):\n",
    "    print(\"Makro F1-Score Train Data:\")\n",
    "    f1_score_train_knn = f1_score(target, predictions, average='macro')\n",
    "    display(f1_score_train_knn)\n",
    "    print(\"Makro Precision Train Data:\")\n",
    "    precision_train_knn = precision_score(target, predictions, average='macro', zero_division = 0)\n",
    "    display(precision_train_knn)\n",
    "    print(\"Makro Recall Train Data:\")\n",
    "    recall_train_knn = recall_score(target, predictions, average='macro')\n",
    "    display(recall_train_knn)\n",
    "\n",
    "def get_scores_test(target, predictions):\n",
    "    print(\"Makro F1-Score Test Data:\")\n",
    "    f1_score_test_knn = f1_score(target, predictions, average='macro')\n",
    "    display(f1_score_test_knn)\n",
    "    print(\"Makro Precision Test Data:\")\n",
    "    precision_test_knn = precision_score(target, predictions, average='macro', zero_division = 0)\n",
    "    display(precision_test_knn)\n",
    "    print(\"Makro Recall Test Data:\")\n",
    "    recall_test_knn = recall_score(target, predictions, average='macro')\n",
    "    display(recall_test_knn)\n",
    "    \n",
    "\n",
    "# Function to plot a confusion matrix\n",
    "def plot_confusion_matrix(cm, classes,\n",
    "                          normalize=False,\n",
    "                          title='Confusion matrix',\n",
    "                          cmap=plt.cm.Blues):\n",
    "    \"\"\"\n",
    "    This function prints and plots the confusion matrix.\n",
    "    Normalization can be applied by setting `normalize=True`.\n",
    "    \"\"\"\n",
    "    if normalize:\n",
    "        cm = cm.astype('float') / cm.sum(axis=1)[:, np.newaxis]\n",
    "\n",
    "    plt.imshow(cm, interpolation='nearest', cmap=cmap)\n",
    "    plt.title(title)\n",
    "    plt.colorbar()\n",
    "    tick_marks = np.arange(len(classes))\n",
    "    plt.xticks(tick_marks, classes, rotation=45)\n",
    "    plt.yticks(tick_marks, classes)\n",
    "\n",
    "    fmt = '.2f' if normalize else 'd'\n",
    "    thresh = cm.max() / 2.\n",
    "    for i, j in itertools.product(range(cm.shape[0]), range(cm.shape[1])):\n",
    "        plt.text(j, i, format(cm[i, j], fmt),\n",
    "                 horizontalalignment=\"center\",\n",
    "                 color=\"white\" if cm[i, j] > thresh else \"black\")\n",
    "\n",
    "    plt.ylabel('True label')\n",
    "    plt.xlabel('Predicted label')\n",
    "    plt.tight_layout()"
   ]
  },
  {
   "cell_type": "markdown",
   "metadata": {
    "id": "CuM5oEGmKSuW"
   },
   "source": [
    "## Visualize and Analyse Data"
   ]
  },
  {
   "cell_type": "code",
   "execution_count": 29,
   "metadata": {
    "colab": {
     "base_uri": "https://localhost:8080/"
    },
    "id": "nENObjUBjeya",
    "outputId": "121e0e52-176a-43a0-829b-dcb59454c21e",
    "scrolled": true
   },
   "outputs": [
    {
     "name": "stdout",
     "output_type": "stream",
     "text": [
      "<class 'pandas.core.frame.DataFrame'>\n",
      "RangeIndex: 6497 entries, 0 to 6496\n",
      "Data columns (total 13 columns):\n",
      " #   Column                Non-Null Count  Dtype  \n",
      "---  ------                --------------  -----  \n",
      " 0   type                  6497 non-null   object \n",
      " 1   fixed acidity         6487 non-null   float64\n",
      " 2   volatile acidity      6489 non-null   float64\n",
      " 3   citric acid           6494 non-null   float64\n",
      " 4   residual sugar        6495 non-null   float64\n",
      " 5   chlorides             6495 non-null   float64\n",
      " 6   free sulfur dioxide   6497 non-null   float64\n",
      " 7   total sulfur dioxide  6497 non-null   float64\n",
      " 8   density               6497 non-null   float64\n",
      " 9   pH                    6488 non-null   float64\n",
      " 10  sulphates             6493 non-null   float64\n",
      " 11  alcohol               6497 non-null   float64\n",
      " 12  quality               6497 non-null   int64  \n",
      "dtypes: float64(11), int64(1), object(1)\n",
      "memory usage: 660.0+ KB\n"
     ]
    }
   ],
   "source": [
    "# Print wine data info\n",
    "\n",
    "wine_data.info()"
   ]
  },
  {
   "cell_type": "code",
   "execution_count": 30,
   "metadata": {},
   "outputs": [
    {
     "data": {
      "text/html": [
       "<div>\n",
       "<style scoped>\n",
       "    .dataframe tbody tr th:only-of-type {\n",
       "        vertical-align: middle;\n",
       "    }\n",
       "\n",
       "    .dataframe tbody tr th {\n",
       "        vertical-align: top;\n",
       "    }\n",
       "\n",
       "    .dataframe thead th {\n",
       "        text-align: right;\n",
       "    }\n",
       "</style>\n",
       "<table border=\"1\" class=\"dataframe\">\n",
       "  <thead>\n",
       "    <tr style=\"text-align: right;\">\n",
       "      <th></th>\n",
       "      <th>fixed acidity</th>\n",
       "      <th>volatile acidity</th>\n",
       "      <th>citric acid</th>\n",
       "      <th>residual sugar</th>\n",
       "      <th>chlorides</th>\n",
       "      <th>free sulfur dioxide</th>\n",
       "      <th>total sulfur dioxide</th>\n",
       "      <th>density</th>\n",
       "      <th>pH</th>\n",
       "      <th>sulphates</th>\n",
       "      <th>alcohol</th>\n",
       "      <th>quality</th>\n",
       "    </tr>\n",
       "  </thead>\n",
       "  <tbody>\n",
       "    <tr>\n",
       "      <th>count</th>\n",
       "      <td>6487.000000</td>\n",
       "      <td>6489.000000</td>\n",
       "      <td>6494.000000</td>\n",
       "      <td>6495.000000</td>\n",
       "      <td>6495.000000</td>\n",
       "      <td>6497.000000</td>\n",
       "      <td>6497.000000</td>\n",
       "      <td>6497.000000</td>\n",
       "      <td>6488.000000</td>\n",
       "      <td>6493.000000</td>\n",
       "      <td>6497.000000</td>\n",
       "      <td>6497.000000</td>\n",
       "    </tr>\n",
       "    <tr>\n",
       "      <th>mean</th>\n",
       "      <td>7.216579</td>\n",
       "      <td>0.339691</td>\n",
       "      <td>0.318722</td>\n",
       "      <td>5.444326</td>\n",
       "      <td>0.056042</td>\n",
       "      <td>30.525319</td>\n",
       "      <td>115.744574</td>\n",
       "      <td>0.994697</td>\n",
       "      <td>3.218395</td>\n",
       "      <td>0.531215</td>\n",
       "      <td>10.491801</td>\n",
       "      <td>5.818378</td>\n",
       "    </tr>\n",
       "    <tr>\n",
       "      <th>std</th>\n",
       "      <td>1.296750</td>\n",
       "      <td>0.164649</td>\n",
       "      <td>0.145265</td>\n",
       "      <td>4.758125</td>\n",
       "      <td>0.035036</td>\n",
       "      <td>17.749400</td>\n",
       "      <td>56.521855</td>\n",
       "      <td>0.002999</td>\n",
       "      <td>0.160748</td>\n",
       "      <td>0.148814</td>\n",
       "      <td>1.192712</td>\n",
       "      <td>0.873255</td>\n",
       "    </tr>\n",
       "    <tr>\n",
       "      <th>min</th>\n",
       "      <td>3.800000</td>\n",
       "      <td>0.080000</td>\n",
       "      <td>0.000000</td>\n",
       "      <td>0.600000</td>\n",
       "      <td>0.009000</td>\n",
       "      <td>1.000000</td>\n",
       "      <td>6.000000</td>\n",
       "      <td>0.987110</td>\n",
       "      <td>2.720000</td>\n",
       "      <td>0.220000</td>\n",
       "      <td>8.000000</td>\n",
       "      <td>3.000000</td>\n",
       "    </tr>\n",
       "    <tr>\n",
       "      <th>25%</th>\n",
       "      <td>6.400000</td>\n",
       "      <td>0.230000</td>\n",
       "      <td>0.250000</td>\n",
       "      <td>1.800000</td>\n",
       "      <td>0.038000</td>\n",
       "      <td>17.000000</td>\n",
       "      <td>77.000000</td>\n",
       "      <td>0.992340</td>\n",
       "      <td>3.110000</td>\n",
       "      <td>0.430000</td>\n",
       "      <td>9.500000</td>\n",
       "      <td>5.000000</td>\n",
       "    </tr>\n",
       "    <tr>\n",
       "      <th>50%</th>\n",
       "      <td>7.000000</td>\n",
       "      <td>0.290000</td>\n",
       "      <td>0.310000</td>\n",
       "      <td>3.000000</td>\n",
       "      <td>0.047000</td>\n",
       "      <td>29.000000</td>\n",
       "      <td>118.000000</td>\n",
       "      <td>0.994890</td>\n",
       "      <td>3.210000</td>\n",
       "      <td>0.510000</td>\n",
       "      <td>10.300000</td>\n",
       "      <td>6.000000</td>\n",
       "    </tr>\n",
       "    <tr>\n",
       "      <th>75%</th>\n",
       "      <td>7.700000</td>\n",
       "      <td>0.400000</td>\n",
       "      <td>0.390000</td>\n",
       "      <td>8.100000</td>\n",
       "      <td>0.065000</td>\n",
       "      <td>41.000000</td>\n",
       "      <td>156.000000</td>\n",
       "      <td>0.996990</td>\n",
       "      <td>3.320000</td>\n",
       "      <td>0.600000</td>\n",
       "      <td>11.300000</td>\n",
       "      <td>6.000000</td>\n",
       "    </tr>\n",
       "    <tr>\n",
       "      <th>max</th>\n",
       "      <td>15.900000</td>\n",
       "      <td>1.580000</td>\n",
       "      <td>1.660000</td>\n",
       "      <td>65.800000</td>\n",
       "      <td>0.611000</td>\n",
       "      <td>289.000000</td>\n",
       "      <td>440.000000</td>\n",
       "      <td>1.038980</td>\n",
       "      <td>4.010000</td>\n",
       "      <td>2.000000</td>\n",
       "      <td>14.900000</td>\n",
       "      <td>9.000000</td>\n",
       "    </tr>\n",
       "  </tbody>\n",
       "</table>\n",
       "</div>"
      ],
      "text/plain": [
       "       fixed acidity  volatile acidity  citric acid  residual sugar  \\\n",
       "count    6487.000000       6489.000000  6494.000000     6495.000000   \n",
       "mean        7.216579          0.339691     0.318722        5.444326   \n",
       "std         1.296750          0.164649     0.145265        4.758125   \n",
       "min         3.800000          0.080000     0.000000        0.600000   \n",
       "25%         6.400000          0.230000     0.250000        1.800000   \n",
       "50%         7.000000          0.290000     0.310000        3.000000   \n",
       "75%         7.700000          0.400000     0.390000        8.100000   \n",
       "max        15.900000          1.580000     1.660000       65.800000   \n",
       "\n",
       "         chlorides  free sulfur dioxide  total sulfur dioxide      density  \\\n",
       "count  6495.000000          6497.000000           6497.000000  6497.000000   \n",
       "mean      0.056042            30.525319            115.744574     0.994697   \n",
       "std       0.035036            17.749400             56.521855     0.002999   \n",
       "min       0.009000             1.000000              6.000000     0.987110   \n",
       "25%       0.038000            17.000000             77.000000     0.992340   \n",
       "50%       0.047000            29.000000            118.000000     0.994890   \n",
       "75%       0.065000            41.000000            156.000000     0.996990   \n",
       "max       0.611000           289.000000            440.000000     1.038980   \n",
       "\n",
       "                pH    sulphates      alcohol      quality  \n",
       "count  6488.000000  6493.000000  6497.000000  6497.000000  \n",
       "mean      3.218395     0.531215    10.491801     5.818378  \n",
       "std       0.160748     0.148814     1.192712     0.873255  \n",
       "min       2.720000     0.220000     8.000000     3.000000  \n",
       "25%       3.110000     0.430000     9.500000     5.000000  \n",
       "50%       3.210000     0.510000    10.300000     6.000000  \n",
       "75%       3.320000     0.600000    11.300000     6.000000  \n",
       "max       4.010000     2.000000    14.900000     9.000000  "
      ]
     },
     "execution_count": 30,
     "metadata": {},
     "output_type": "execute_result"
    }
   ],
   "source": [
    "# Analyse the data by its mean etc.\n",
    "\n",
    "wine_data.describe()"
   ]
  },
  {
   "cell_type": "markdown",
   "metadata": {},
   "source": [
    "### Null Values"
   ]
  },
  {
   "cell_type": "code",
   "execution_count": 31,
   "metadata": {
    "colab": {
     "base_uri": "https://localhost:8080/"
    },
    "id": "gVKkVJqGnrWu",
    "outputId": "3243cfc6-695e-4f94-c5f4-9786f6f8a5f6"
   },
   "outputs": [
    {
     "data": {
      "text/plain": [
       "type                     0\n",
       "fixed acidity           10\n",
       "volatile acidity         8\n",
       "citric acid              3\n",
       "residual sugar           2\n",
       "chlorides                2\n",
       "free sulfur dioxide      0\n",
       "total sulfur dioxide     0\n",
       "density                  0\n",
       "pH                       9\n",
       "sulphates                4\n",
       "alcohol                  0\n",
       "quality                  0\n",
       "dtype: int64"
      ]
     },
     "execution_count": 31,
     "metadata": {},
     "output_type": "execute_result"
    }
   ],
   "source": [
    "# Check data for null values\n",
    "\n",
    "wine_data.isnull().sum()"
   ]
  },
  {
   "cell_type": "code",
   "execution_count": 32,
   "metadata": {
    "colab": {
     "base_uri": "https://localhost:8080/"
    },
    "id": "_iS0PBQmnxg0",
    "outputId": "0659d752-153b-4c14-be98-6aac6e65d4ef"
   },
   "outputs": [
    {
     "data": {
      "text/plain": [
       "6    2836\n",
       "5    2138\n",
       "7    1079\n",
       "4     216\n",
       "8     193\n",
       "3      30\n",
       "9       5\n",
       "Name: quality, dtype: int64"
      ]
     },
     "execution_count": 32,
     "metadata": {},
     "output_type": "execute_result"
    }
   ],
   "source": [
    "# Check class distribution\n",
    "\n",
    "wine_data.quality.value_counts()"
   ]
  },
  {
   "cell_type": "markdown",
   "metadata": {},
   "source": [
    "### Class Distribution"
   ]
  },
  {
   "cell_type": "code",
   "execution_count": 33,
   "metadata": {
    "colab": {
     "base_uri": "https://localhost:8080/",
     "height": 279
    },
    "id": "bbZypKLWoPDe",
    "outputId": "165db292-f479-4b0c-e6a8-d4d70fa8c178"
   },
   "outputs": [
    {
     "data": {
      "image/png": "[encoded data removed]",
      "text/plain": [
       "<Figure size 432x288 with 1 Axes>"
      ]
     },
     "metadata": {
      "needs_background": "light"
     },
     "output_type": "display_data"
    }
   ],
   "source": [
    "# Visualize class distribution\n",
    "\n",
    "sns.barplot(x=wine_data.quality.value_counts().index, y=wine_data.quality.value_counts())\n",
    "plt.ylabel('samples')\n",
    "plt.xlabel('quality')\n",
    "plt.show()"
   ]
  },
  {
   "cell_type": "code",
   "execution_count": 34,
   "metadata": {
    "id": "QTp4N3nao1u1"
   },
   "outputs": [],
   "source": [
    "# Turn 10 classes into 3 classes\n",
    "\n",
    "wine_data['quality'] = wine_data.quality.apply(lambda x: 2 if x>6 else (1 if x> 4 else 0))"
   ]
  },
  {
   "cell_type": "code",
   "execution_count": 35,
   "metadata": {
    "colab": {
     "base_uri": "https://localhost:8080/"
    },
    "id": "E4M2D7Yqr0ts",
    "outputId": "aeb671f0-97ad-466b-b0f6-ca92be0efc11"
   },
   "outputs": [
    {
     "data": {
      "text/plain": [
       "1    4974\n",
       "2    1277\n",
       "0     246\n",
       "Name: quality, dtype: int64"
      ]
     },
     "execution_count": 35,
     "metadata": {},
     "output_type": "execute_result"
    }
   ],
   "source": [
    "# Check class distribution\n",
    "\n",
    "wine_data.quality.value_counts()"
   ]
  },
  {
   "cell_type": "code",
   "execution_count": 36,
   "metadata": {
    "colab": {
     "base_uri": "https://localhost:8080/",
     "height": 279
    },
    "id": "Ytp1sF8mrGqV",
    "outputId": "ff5f2c11-ffde-4a77-c481-082c053fad81"
   },
   "outputs": [
    {
     "data": {
      "image/png": "[encoded data removed]",
      "text/plain": [
       "<Figure size 432x288 with 1 Axes>"
      ]
     },
     "metadata": {
      "needs_background": "light"
     },
     "output_type": "display_data"
    }
   ],
   "source": [
    "# Visualize class distribution\n",
    "\n",
    "sns.barplot(x=wine_data.quality.value_counts().index, y=wine_data.quality.value_counts())\n",
    "plt.ylabel('samples')\n",
    "plt.xlabel('quality')\n",
    "plt.show()"
   ]
  },
  {
   "cell_type": "code",
   "execution_count": 37,
   "metadata": {},
   "outputs": [],
   "source": [
    "# Turn 10 classes into 2 classes\n",
    "\n",
    "wine_data_2 = pd.read_csv('../winequalityN.csv')\n",
    "wine_data_2['quality'] = wine_data_2.quality.apply(lambda x: 2 if x>5 else 0)"
   ]
  },
  {
   "cell_type": "code",
   "execution_count": 38,
   "metadata": {},
   "outputs": [
    {
     "data": {
      "text/plain": [
       "2    4113\n",
       "0    2384\n",
       "Name: quality, dtype: int64"
      ]
     },
     "execution_count": 38,
     "metadata": {},
     "output_type": "execute_result"
    }
   ],
   "source": [
    "# Check class distribution\n",
    "\n",
    "wine_data_2.quality.value_counts()"
   ]
  },
  {
   "cell_type": "code",
   "execution_count": 39,
   "metadata": {},
   "outputs": [
    {
     "data": {
      "image/png": "[encoded data removed]",
      "text/plain": [
       "<Figure size 432x288 with 1 Axes>"
      ]
     },
     "metadata": {
      "needs_background": "light"
     },
     "output_type": "display_data"
    }
   ],
   "source": [
    "# Visualize class distribution\n",
    "\n",
    "sns.barplot(x=wine_data_2.quality.value_counts().index, y=wine_data_2.quality.value_counts())\n",
    "plt.ylabel('samples')\n",
    "plt.xlabel('quality')\n",
    "plt.show()"
   ]
  },
  {
   "cell_type": "markdown",
   "metadata": {},
   "source": [
    "### Check duplicates"
   ]
  },
  {
   "cell_type": "code",
   "execution_count": 40,
   "metadata": {},
   "outputs": [],
   "source": [
    "# Count duplicates and remove duplicates\n",
    "#display(len(wine_data.index))\n",
    "#wine_data.drop_duplicates()\n",
    "#display(len(wine_data.index))"
   ]
  },
  {
   "cell_type": "markdown",
   "metadata": {},
   "source": [
    "### Unique Values"
   ]
  },
  {
   "cell_type": "code",
   "execution_count": 41,
   "metadata": {},
   "outputs": [
    {
     "data": {
      "text/plain": [
       "type                      2\n",
       "fixed acidity           106\n",
       "volatile acidity        187\n",
       "citric acid              89\n",
       "residual sugar          316\n",
       "chlorides               214\n",
       "free sulfur dioxide     135\n",
       "total sulfur dioxide    276\n",
       "density                 998\n",
       "pH                      108\n",
       "sulphates               111\n",
       "alcohol                 111\n",
       "quality                   3\n",
       "dtype: int64"
      ]
     },
     "execution_count": 41,
     "metadata": {},
     "output_type": "execute_result"
    }
   ],
   "source": [
    "# Count uniques values of each column\n",
    "wine_data.nunique()"
   ]
  },
  {
   "cell_type": "markdown",
   "metadata": {},
   "source": [
    "### Distribution of Values"
   ]
  },
  {
   "cell_type": "code",
   "execution_count": 42,
   "metadata": {},
   "outputs": [
    {
     "data": {
      "text/plain": [
       "<AxesSubplot:>"
      ]
     },
     "execution_count": 42,
     "metadata": {},
     "output_type": "execute_result"
    },
    {
     "data": {
      "image/png": "[encoded data removed]",
      "text/plain": [
       "<Figure size 432x288 with 1 Axes>"
      ]
     },
     "metadata": {
      "needs_background": "light"
     },
     "output_type": "display_data"
    }
   ],
   "source": [
    "# Plot histogram for each categorical column\n",
    "\n",
    "wine_data['type'].value_counts().plot(kind='bar')"
   ]
  },
  {
   "cell_type": "code",
   "execution_count": 43,
   "metadata": {},
   "outputs": [
    {
     "data": {
      "text/plain": [
       "array([[<AxesSubplot:title={'center':'fixed acidity'}>,\n",
       "        <AxesSubplot:title={'center':'volatile acidity'}>,\n",
       "        <AxesSubplot:title={'center':'citric acid'}>],\n",
       "       [<AxesSubplot:title={'center':'residual sugar'}>,\n",
       "        <AxesSubplot:title={'center':'chlorides'}>,\n",
       "        <AxesSubplot:title={'center':'free sulfur dioxide'}>],\n",
       "       [<AxesSubplot:title={'center':'total sulfur dioxide'}>,\n",
       "        <AxesSubplot:title={'center':'density'}>,\n",
       "        <AxesSubplot:title={'center':'pH'}>],\n",
       "       [<AxesSubplot:title={'center':'sulphates'}>,\n",
       "        <AxesSubplot:title={'center':'alcohol'}>,\n",
       "        <AxesSubplot:title={'center':'quality'}>]], dtype=object)"
      ]
     },
     "execution_count": 43,
     "metadata": {},
     "output_type": "execute_result"
    },
    {
     "data": {
      "image/png": "[encoded data removed]",
      "text/plain": [
       "<Figure size 1080x720 with 12 Axes>"
      ]
     },
     "metadata": {
      "needs_background": "light"
     },
     "output_type": "display_data"
    }
   ],
   "source": [
    "# Plot histogram for each numerical column\n",
    "\n",
    "wine_data.hist(figsize=(15, 10))"
   ]
  },
  {
   "cell_type": "code",
   "execution_count": 44,
   "metadata": {
    "scrolled": false
   },
   "outputs": [
    {
     "data": {
      "image/png": "[encoded data removed]",
      "text/plain": [
       "<Figure size 1080x1080 with 144 Axes>"
      ]
     },
     "metadata": {
      "needs_background": "light"
     },
     "output_type": "display_data"
    }
   ],
   "source": [
    "# Scatterplots\n",
    "\n",
    "pd.plotting.scatter_matrix(wine_data, figsize=(15, 15), s=150);"
   ]
  },
  {
   "cell_type": "markdown",
   "metadata": {},
   "source": [
    "## Data Cleaning"
   ]
  },
  {
   "cell_type": "code",
   "execution_count": 45,
   "metadata": {},
   "outputs": [
    {
     "data": {
      "text/plain": [
       "6497"
      ]
     },
     "metadata": {},
     "output_type": "display_data"
    },
    {
     "data": {
      "text/plain": [
       "6497"
      ]
     },
     "metadata": {},
     "output_type": "display_data"
    }
   ],
   "source": [
    "# Count duplicates and remove duplicates\n",
    "\n",
    "display(len(wine_data.index))\n",
    "wine_data.drop_duplicates()\n",
    "display(len(wine_data.index))\n",
    "\n",
    "\n",
    "# Delete Null-Values \n",
    "\n",
    "#wine_data = wine_data.dropna(axis=0, how=\"any\", thresh=None, subset=None, inplace=False)\n",
    "#display(wine_data.isnull().sum())\n",
    "#display(len(wine_data.index))"
   ]
  },
  {
   "cell_type": "code",
   "execution_count": 46,
   "metadata": {},
   "outputs": [
    {
     "data": {
      "text/html": [
       "<div>\n",
       "<style scoped>\n",
       "    .dataframe tbody tr th:only-of-type {\n",
       "        vertical-align: middle;\n",
       "    }\n",
       "\n",
       "    .dataframe tbody tr th {\n",
       "        vertical-align: top;\n",
       "    }\n",
       "\n",
       "    .dataframe thead th {\n",
       "        text-align: right;\n",
       "    }\n",
       "</style>\n",
       "<table border=\"1\" class=\"dataframe\">\n",
       "  <thead>\n",
       "    <tr style=\"text-align: right;\">\n",
       "      <th></th>\n",
       "      <th>type</th>\n",
       "      <th>fixed acidity</th>\n",
       "      <th>volatile acidity</th>\n",
       "      <th>citric acid</th>\n",
       "      <th>residual sugar</th>\n",
       "      <th>chlorides</th>\n",
       "      <th>free sulfur dioxide</th>\n",
       "      <th>total sulfur dioxide</th>\n",
       "      <th>density</th>\n",
       "      <th>pH</th>\n",
       "      <th>sulphates</th>\n",
       "      <th>alcohol</th>\n",
       "      <th>quality</th>\n",
       "    </tr>\n",
       "  </thead>\n",
       "  <tbody>\n",
       "    <tr>\n",
       "      <th>0</th>\n",
       "      <td>white</td>\n",
       "      <td>7.0</td>\n",
       "      <td>0.27</td>\n",
       "      <td>0.36</td>\n",
       "      <td>20.7</td>\n",
       "      <td>0.045</td>\n",
       "      <td>45.0</td>\n",
       "      <td>170.0</td>\n",
       "      <td>1.0010</td>\n",
       "      <td>3.00</td>\n",
       "      <td>0.45</td>\n",
       "      <td>8.8</td>\n",
       "      <td>1</td>\n",
       "    </tr>\n",
       "    <tr>\n",
       "      <th>1</th>\n",
       "      <td>white</td>\n",
       "      <td>6.3</td>\n",
       "      <td>0.30</td>\n",
       "      <td>0.34</td>\n",
       "      <td>1.6</td>\n",
       "      <td>0.049</td>\n",
       "      <td>14.0</td>\n",
       "      <td>132.0</td>\n",
       "      <td>0.9940</td>\n",
       "      <td>3.30</td>\n",
       "      <td>0.49</td>\n",
       "      <td>9.5</td>\n",
       "      <td>1</td>\n",
       "    </tr>\n",
       "    <tr>\n",
       "      <th>2</th>\n",
       "      <td>white</td>\n",
       "      <td>8.1</td>\n",
       "      <td>0.28</td>\n",
       "      <td>0.40</td>\n",
       "      <td>6.9</td>\n",
       "      <td>0.050</td>\n",
       "      <td>30.0</td>\n",
       "      <td>97.0</td>\n",
       "      <td>0.9951</td>\n",
       "      <td>3.26</td>\n",
       "      <td>0.44</td>\n",
       "      <td>10.1</td>\n",
       "      <td>1</td>\n",
       "    </tr>\n",
       "    <tr>\n",
       "      <th>3</th>\n",
       "      <td>white</td>\n",
       "      <td>7.2</td>\n",
       "      <td>0.23</td>\n",
       "      <td>0.32</td>\n",
       "      <td>8.5</td>\n",
       "      <td>0.058</td>\n",
       "      <td>47.0</td>\n",
       "      <td>186.0</td>\n",
       "      <td>0.9956</td>\n",
       "      <td>3.19</td>\n",
       "      <td>0.40</td>\n",
       "      <td>9.9</td>\n",
       "      <td>1</td>\n",
       "    </tr>\n",
       "    <tr>\n",
       "      <th>4</th>\n",
       "      <td>white</td>\n",
       "      <td>7.2</td>\n",
       "      <td>0.23</td>\n",
       "      <td>0.32</td>\n",
       "      <td>8.5</td>\n",
       "      <td>0.058</td>\n",
       "      <td>47.0</td>\n",
       "      <td>186.0</td>\n",
       "      <td>0.9956</td>\n",
       "      <td>3.19</td>\n",
       "      <td>0.40</td>\n",
       "      <td>9.9</td>\n",
       "      <td>1</td>\n",
       "    </tr>\n",
       "  </tbody>\n",
       "</table>\n",
       "</div>"
      ],
      "text/plain": [
       "    type  fixed acidity  volatile acidity  citric acid  residual sugar  \\\n",
       "0  white            7.0              0.27         0.36            20.7   \n",
       "1  white            6.3              0.30         0.34             1.6   \n",
       "2  white            8.1              0.28         0.40             6.9   \n",
       "3  white            7.2              0.23         0.32             8.5   \n",
       "4  white            7.2              0.23         0.32             8.5   \n",
       "\n",
       "   chlorides  free sulfur dioxide  total sulfur dioxide  density    pH  \\\n",
       "0      0.045                 45.0                 170.0   1.0010  3.00   \n",
       "1      0.049                 14.0                 132.0   0.9940  3.30   \n",
       "2      0.050                 30.0                  97.0   0.9951  3.26   \n",
       "3      0.058                 47.0                 186.0   0.9956  3.19   \n",
       "4      0.058                 47.0                 186.0   0.9956  3.19   \n",
       "\n",
       "   sulphates  alcohol  quality  \n",
       "0       0.45      8.8        1  \n",
       "1       0.49      9.5        1  \n",
       "2       0.44     10.1        1  \n",
       "3       0.40      9.9        1  \n",
       "4       0.40      9.9        1  "
      ]
     },
     "metadata": {},
     "output_type": "display_data"
    },
    {
     "data": {
      "text/html": [
       "<div>\n",
       "<style scoped>\n",
       "    .dataframe tbody tr th:only-of-type {\n",
       "        vertical-align: middle;\n",
       "    }\n",
       "\n",
       "    .dataframe tbody tr th {\n",
       "        vertical-align: top;\n",
       "    }\n",
       "\n",
       "    .dataframe thead th {\n",
       "        text-align: right;\n",
       "    }\n",
       "</style>\n",
       "<table border=\"1\" class=\"dataframe\">\n",
       "  <thead>\n",
       "    <tr style=\"text-align: right;\">\n",
       "      <th></th>\n",
       "      <th>type</th>\n",
       "      <th>fixed acidity</th>\n",
       "      <th>volatile acidity</th>\n",
       "      <th>citric acid</th>\n",
       "      <th>residual sugar</th>\n",
       "      <th>chlorides</th>\n",
       "      <th>free sulfur dioxide</th>\n",
       "      <th>total sulfur dioxide</th>\n",
       "      <th>density</th>\n",
       "      <th>pH</th>\n",
       "      <th>sulphates</th>\n",
       "      <th>alcohol</th>\n",
       "      <th>quality</th>\n",
       "    </tr>\n",
       "  </thead>\n",
       "  <tbody>\n",
       "    <tr>\n",
       "      <th>0</th>\n",
       "      <td>1.0</td>\n",
       "      <td>7.0</td>\n",
       "      <td>0.27</td>\n",
       "      <td>0.36</td>\n",
       "      <td>20.7</td>\n",
       "      <td>0.045</td>\n",
       "      <td>45.0</td>\n",
       "      <td>170.0</td>\n",
       "      <td>1.0010</td>\n",
       "      <td>3.00</td>\n",
       "      <td>0.45</td>\n",
       "      <td>8.8</td>\n",
       "      <td>1</td>\n",
       "    </tr>\n",
       "    <tr>\n",
       "      <th>1</th>\n",
       "      <td>1.0</td>\n",
       "      <td>6.3</td>\n",
       "      <td>0.30</td>\n",
       "      <td>0.34</td>\n",
       "      <td>1.6</td>\n",
       "      <td>0.049</td>\n",
       "      <td>14.0</td>\n",
       "      <td>132.0</td>\n",
       "      <td>0.9940</td>\n",
       "      <td>3.30</td>\n",
       "      <td>0.49</td>\n",
       "      <td>9.5</td>\n",
       "      <td>1</td>\n",
       "    </tr>\n",
       "    <tr>\n",
       "      <th>2</th>\n",
       "      <td>1.0</td>\n",
       "      <td>8.1</td>\n",
       "      <td>0.28</td>\n",
       "      <td>0.40</td>\n",
       "      <td>6.9</td>\n",
       "      <td>0.050</td>\n",
       "      <td>30.0</td>\n",
       "      <td>97.0</td>\n",
       "      <td>0.9951</td>\n",
       "      <td>3.26</td>\n",
       "      <td>0.44</td>\n",
       "      <td>10.1</td>\n",
       "      <td>1</td>\n",
       "    </tr>\n",
       "    <tr>\n",
       "      <th>3</th>\n",
       "      <td>1.0</td>\n",
       "      <td>7.2</td>\n",
       "      <td>0.23</td>\n",
       "      <td>0.32</td>\n",
       "      <td>8.5</td>\n",
       "      <td>0.058</td>\n",
       "      <td>47.0</td>\n",
       "      <td>186.0</td>\n",
       "      <td>0.9956</td>\n",
       "      <td>3.19</td>\n",
       "      <td>0.40</td>\n",
       "      <td>9.9</td>\n",
       "      <td>1</td>\n",
       "    </tr>\n",
       "    <tr>\n",
       "      <th>4</th>\n",
       "      <td>1.0</td>\n",
       "      <td>7.2</td>\n",
       "      <td>0.23</td>\n",
       "      <td>0.32</td>\n",
       "      <td>8.5</td>\n",
       "      <td>0.058</td>\n",
       "      <td>47.0</td>\n",
       "      <td>186.0</td>\n",
       "      <td>0.9956</td>\n",
       "      <td>3.19</td>\n",
       "      <td>0.40</td>\n",
       "      <td>9.9</td>\n",
       "      <td>1</td>\n",
       "    </tr>\n",
       "  </tbody>\n",
       "</table>\n",
       "</div>"
      ],
      "text/plain": [
       "   type  fixed acidity  volatile acidity  citric acid  residual sugar  \\\n",
       "0   1.0            7.0              0.27         0.36            20.7   \n",
       "1   1.0            6.3              0.30         0.34             1.6   \n",
       "2   1.0            8.1              0.28         0.40             6.9   \n",
       "3   1.0            7.2              0.23         0.32             8.5   \n",
       "4   1.0            7.2              0.23         0.32             8.5   \n",
       "\n",
       "   chlorides  free sulfur dioxide  total sulfur dioxide  density    pH  \\\n",
       "0      0.045                 45.0                 170.0   1.0010  3.00   \n",
       "1      0.049                 14.0                 132.0   0.9940  3.30   \n",
       "2      0.050                 30.0                  97.0   0.9951  3.26   \n",
       "3      0.058                 47.0                 186.0   0.9956  3.19   \n",
       "4      0.058                 47.0                 186.0   0.9956  3.19   \n",
       "\n",
       "   sulphates  alcohol  quality  \n",
       "0       0.45      8.8        1  \n",
       "1       0.49      9.5        1  \n",
       "2       0.44     10.1        1  \n",
       "3       0.40      9.9        1  \n",
       "4       0.40      9.9        1  "
      ]
     },
     "execution_count": 46,
     "metadata": {},
     "output_type": "execute_result"
    }
   ],
   "source": [
    "# One Hot Encoder for the attribute type\n",
    "\n",
    "from sklearn import preprocessing\n",
    "\n",
    "# show data before preprocessing\n",
    "display(wine_data.head())\n",
    "\n",
    "# create the OrdinalEncoder\n",
    "ordinal_encoder = preprocessing.OrdinalEncoder()\n",
    "\n",
    "# preprocess the features Product and ZipCode\n",
    "wine_data = wine_data.copy()\n",
    "wine_data[['type']] = ordinal_encoder.fit_transform(wine_data[['type']])\n",
    "\n",
    "# show the results\n",
    "wine_data.head()"
   ]
  },
  {
   "cell_type": "code",
   "execution_count": 47,
   "metadata": {
    "scrolled": true
   },
   "outputs": [
    {
     "data": {
      "text/html": [
       "<div>\n",
       "<style scoped>\n",
       "    .dataframe tbody tr th:only-of-type {\n",
       "        vertical-align: middle;\n",
       "    }\n",
       "\n",
       "    .dataframe tbody tr th {\n",
       "        vertical-align: top;\n",
       "    }\n",
       "\n",
       "    .dataframe thead th {\n",
       "        text-align: right;\n",
       "    }\n",
       "</style>\n",
       "<table border=\"1\" class=\"dataframe\">\n",
       "  <thead>\n",
       "    <tr style=\"text-align: right;\">\n",
       "      <th></th>\n",
       "      <th>type</th>\n",
       "      <th>fixed acidity</th>\n",
       "      <th>volatile acidity</th>\n",
       "      <th>citric acid</th>\n",
       "      <th>residual sugar</th>\n",
       "      <th>chlorides</th>\n",
       "      <th>free sulfur dioxide</th>\n",
       "      <th>total sulfur dioxide</th>\n",
       "      <th>density</th>\n",
       "      <th>pH</th>\n",
       "      <th>sulphates</th>\n",
       "      <th>alcohol</th>\n",
       "      <th>quality</th>\n",
       "    </tr>\n",
       "  </thead>\n",
       "  <tbody>\n",
       "    <tr>\n",
       "      <th>0</th>\n",
       "      <td>1.0</td>\n",
       "      <td>7.0</td>\n",
       "      <td>0.27</td>\n",
       "      <td>0.36</td>\n",
       "      <td>20.7</td>\n",
       "      <td>0.045</td>\n",
       "      <td>45.0</td>\n",
       "      <td>170.0</td>\n",
       "      <td>1.0010</td>\n",
       "      <td>3.00</td>\n",
       "      <td>0.45</td>\n",
       "      <td>8.8</td>\n",
       "      <td>1</td>\n",
       "    </tr>\n",
       "    <tr>\n",
       "      <th>1</th>\n",
       "      <td>1.0</td>\n",
       "      <td>6.3</td>\n",
       "      <td>0.30</td>\n",
       "      <td>0.34</td>\n",
       "      <td>1.6</td>\n",
       "      <td>0.049</td>\n",
       "      <td>14.0</td>\n",
       "      <td>132.0</td>\n",
       "      <td>0.9940</td>\n",
       "      <td>3.30</td>\n",
       "      <td>0.49</td>\n",
       "      <td>9.5</td>\n",
       "      <td>1</td>\n",
       "    </tr>\n",
       "    <tr>\n",
       "      <th>2</th>\n",
       "      <td>1.0</td>\n",
       "      <td>8.1</td>\n",
       "      <td>0.28</td>\n",
       "      <td>0.40</td>\n",
       "      <td>6.9</td>\n",
       "      <td>0.050</td>\n",
       "      <td>30.0</td>\n",
       "      <td>97.0</td>\n",
       "      <td>0.9951</td>\n",
       "      <td>3.26</td>\n",
       "      <td>0.44</td>\n",
       "      <td>10.1</td>\n",
       "      <td>1</td>\n",
       "    </tr>\n",
       "    <tr>\n",
       "      <th>3</th>\n",
       "      <td>1.0</td>\n",
       "      <td>7.2</td>\n",
       "      <td>0.23</td>\n",
       "      <td>0.32</td>\n",
       "      <td>8.5</td>\n",
       "      <td>0.058</td>\n",
       "      <td>47.0</td>\n",
       "      <td>186.0</td>\n",
       "      <td>0.9956</td>\n",
       "      <td>3.19</td>\n",
       "      <td>0.40</td>\n",
       "      <td>9.9</td>\n",
       "      <td>1</td>\n",
       "    </tr>\n",
       "    <tr>\n",
       "      <th>4</th>\n",
       "      <td>1.0</td>\n",
       "      <td>7.2</td>\n",
       "      <td>0.23</td>\n",
       "      <td>0.32</td>\n",
       "      <td>8.5</td>\n",
       "      <td>0.058</td>\n",
       "      <td>47.0</td>\n",
       "      <td>186.0</td>\n",
       "      <td>0.9956</td>\n",
       "      <td>3.19</td>\n",
       "      <td>0.40</td>\n",
       "      <td>9.9</td>\n",
       "      <td>1</td>\n",
       "    </tr>\n",
       "  </tbody>\n",
       "</table>\n",
       "</div>"
      ],
      "text/plain": [
       "   type  fixed acidity  volatile acidity  citric acid  residual sugar  \\\n",
       "0   1.0            7.0              0.27         0.36            20.7   \n",
       "1   1.0            6.3              0.30         0.34             1.6   \n",
       "2   1.0            8.1              0.28         0.40             6.9   \n",
       "3   1.0            7.2              0.23         0.32             8.5   \n",
       "4   1.0            7.2              0.23         0.32             8.5   \n",
       "\n",
       "   chlorides  free sulfur dioxide  total sulfur dioxide  density    pH  \\\n",
       "0      0.045                 45.0                 170.0   1.0010  3.00   \n",
       "1      0.049                 14.0                 132.0   0.9940  3.30   \n",
       "2      0.050                 30.0                  97.0   0.9951  3.26   \n",
       "3      0.058                 47.0                 186.0   0.9956  3.19   \n",
       "4      0.058                 47.0                 186.0   0.9956  3.19   \n",
       "\n",
       "   sulphates  alcohol  quality  \n",
       "0       0.45      8.8        1  \n",
       "1       0.49      9.5        1  \n",
       "2       0.44     10.1        1  \n",
       "3       0.40      9.9        1  \n",
       "4       0.40      9.9        1  "
      ]
     },
     "metadata": {},
     "output_type": "display_data"
    },
    {
     "data": {
      "text/html": [
       "<div>\n",
       "<style scoped>\n",
       "    .dataframe tbody tr th:only-of-type {\n",
       "        vertical-align: middle;\n",
       "    }\n",
       "\n",
       "    .dataframe tbody tr th {\n",
       "        vertical-align: top;\n",
       "    }\n",
       "\n",
       "    .dataframe thead th {\n",
       "        text-align: right;\n",
       "    }\n",
       "</style>\n",
       "<table border=\"1\" class=\"dataframe\">\n",
       "  <thead>\n",
       "    <tr style=\"text-align: right;\">\n",
       "      <th></th>\n",
       "      <th>type</th>\n",
       "      <th>fixed acidity</th>\n",
       "      <th>volatile acidity</th>\n",
       "      <th>citric acid</th>\n",
       "      <th>residual sugar</th>\n",
       "      <th>chlorides</th>\n",
       "      <th>free sulfur dioxide</th>\n",
       "      <th>total sulfur dioxide</th>\n",
       "      <th>density</th>\n",
       "      <th>pH</th>\n",
       "      <th>sulphates</th>\n",
       "      <th>alcohol</th>\n",
       "      <th>quality</th>\n",
       "    </tr>\n",
       "  </thead>\n",
       "  <tbody>\n",
       "    <tr>\n",
       "      <th>0</th>\n",
       "      <td>1.0</td>\n",
       "      <td>0.264463</td>\n",
       "      <td>0.126667</td>\n",
       "      <td>0.216867</td>\n",
       "      <td>0.308282</td>\n",
       "      <td>0.059801</td>\n",
       "      <td>0.152778</td>\n",
       "      <td>0.377880</td>\n",
       "      <td>0.267785</td>\n",
       "      <td>0.217054</td>\n",
       "      <td>0.129213</td>\n",
       "      <td>0.115942</td>\n",
       "      <td>1</td>\n",
       "    </tr>\n",
       "    <tr>\n",
       "      <th>1</th>\n",
       "      <td>1.0</td>\n",
       "      <td>0.206612</td>\n",
       "      <td>0.146667</td>\n",
       "      <td>0.204819</td>\n",
       "      <td>0.015337</td>\n",
       "      <td>0.066445</td>\n",
       "      <td>0.045139</td>\n",
       "      <td>0.290323</td>\n",
       "      <td>0.132832</td>\n",
       "      <td>0.449612</td>\n",
       "      <td>0.151685</td>\n",
       "      <td>0.217391</td>\n",
       "      <td>1</td>\n",
       "    </tr>\n",
       "    <tr>\n",
       "      <th>2</th>\n",
       "      <td>1.0</td>\n",
       "      <td>0.355372</td>\n",
       "      <td>0.133333</td>\n",
       "      <td>0.240964</td>\n",
       "      <td>0.096626</td>\n",
       "      <td>0.068106</td>\n",
       "      <td>0.100694</td>\n",
       "      <td>0.209677</td>\n",
       "      <td>0.154039</td>\n",
       "      <td>0.418605</td>\n",
       "      <td>0.123596</td>\n",
       "      <td>0.304348</td>\n",
       "      <td>1</td>\n",
       "    </tr>\n",
       "    <tr>\n",
       "      <th>3</th>\n",
       "      <td>1.0</td>\n",
       "      <td>0.280992</td>\n",
       "      <td>0.100000</td>\n",
       "      <td>0.192771</td>\n",
       "      <td>0.121166</td>\n",
       "      <td>0.081395</td>\n",
       "      <td>0.159722</td>\n",
       "      <td>0.414747</td>\n",
       "      <td>0.163678</td>\n",
       "      <td>0.364341</td>\n",
       "      <td>0.101124</td>\n",
       "      <td>0.275362</td>\n",
       "      <td>1</td>\n",
       "    </tr>\n",
       "    <tr>\n",
       "      <th>4</th>\n",
       "      <td>1.0</td>\n",
       "      <td>0.280992</td>\n",
       "      <td>0.100000</td>\n",
       "      <td>0.192771</td>\n",
       "      <td>0.121166</td>\n",
       "      <td>0.081395</td>\n",
       "      <td>0.159722</td>\n",
       "      <td>0.414747</td>\n",
       "      <td>0.163678</td>\n",
       "      <td>0.364341</td>\n",
       "      <td>0.101124</td>\n",
       "      <td>0.275362</td>\n",
       "      <td>1</td>\n",
       "    </tr>\n",
       "  </tbody>\n",
       "</table>\n",
       "</div>"
      ],
      "text/plain": [
       "   type  fixed acidity  volatile acidity  citric acid  residual sugar  \\\n",
       "0   1.0       0.264463          0.126667     0.216867        0.308282   \n",
       "1   1.0       0.206612          0.146667     0.204819        0.015337   \n",
       "2   1.0       0.355372          0.133333     0.240964        0.096626   \n",
       "3   1.0       0.280992          0.100000     0.192771        0.121166   \n",
       "4   1.0       0.280992          0.100000     0.192771        0.121166   \n",
       "\n",
       "   chlorides  free sulfur dioxide  total sulfur dioxide   density        pH  \\\n",
       "0   0.059801             0.152778              0.377880  0.267785  0.217054   \n",
       "1   0.066445             0.045139              0.290323  0.132832  0.449612   \n",
       "2   0.068106             0.100694              0.209677  0.154039  0.418605   \n",
       "3   0.081395             0.159722              0.414747  0.163678  0.364341   \n",
       "4   0.081395             0.159722              0.414747  0.163678  0.364341   \n",
       "\n",
       "   sulphates   alcohol  quality  \n",
       "0   0.129213  0.115942        1  \n",
       "1   0.151685  0.217391        1  \n",
       "2   0.123596  0.304348        1  \n",
       "3   0.101124  0.275362        1  \n",
       "4   0.101124  0.275362        1  "
      ]
     },
     "metadata": {},
     "output_type": "display_data"
    }
   ],
   "source": [
    "# Normalisation of numerical values\n",
    "\n",
    "# show data before preprocessing\n",
    "display(wine_data.head())\n",
    "\n",
    "# create the normaliser\n",
    "scaler = preprocessing.MinMaxScaler()\n",
    "\n",
    "# preprocess the features ItemsBought and ItemsReturned\n",
    "wine_data = wine_data.copy()\n",
    "wine_data[['fixed acidity', 'volatile acidity', 'citric acid', 'residual sugar', 'chlorides', 'free sulfur dioxide', 'total sulfur dioxide', 'density', 'pH', 'sulphates', 'alcohol']] = scaler.fit_transform(wine_data[['fixed acidity', 'volatile acidity', 'citric acid', 'residual sugar', 'chlorides', 'free sulfur dioxide', 'total sulfur dioxide', 'density', 'pH', 'sulphates', 'alcohol']])\n",
    "\n",
    "# show the results\n",
    "display(wine_data.head())"
   ]
  },
  {
   "cell_type": "code",
   "execution_count": 48,
   "metadata": {},
   "outputs": [
    {
     "data": {
      "text/plain": [
       "type                     0\n",
       "fixed acidity           10\n",
       "volatile acidity         8\n",
       "citric acid              3\n",
       "residual sugar           2\n",
       "chlorides                2\n",
       "free sulfur dioxide      0\n",
       "total sulfur dioxide     0\n",
       "density                  0\n",
       "pH                       9\n",
       "sulphates                4\n",
       "alcohol                  0\n",
       "quality                  0\n",
       "dtype: int64"
      ]
     },
     "metadata": {},
     "output_type": "display_data"
    },
    {
     "data": {
      "text/plain": [
       "6497"
      ]
     },
     "metadata": {},
     "output_type": "display_data"
    },
    {
     "data": {
      "text/plain": [
       "type                    0\n",
       "fixed acidity           0\n",
       "volatile acidity        0\n",
       "citric acid             0\n",
       "residual sugar          0\n",
       "chlorides               0\n",
       "free sulfur dioxide     0\n",
       "total sulfur dioxide    0\n",
       "density                 0\n",
       "pH                      0\n",
       "sulphates               0\n",
       "alcohol                 0\n",
       "quality                 0\n",
       "dtype: int64"
      ]
     },
     "metadata": {},
     "output_type": "display_data"
    },
    {
     "data": {
      "text/plain": [
       "6497"
      ]
     },
     "metadata": {},
     "output_type": "display_data"
    }
   ],
   "source": [
    "# Deleting outliers\n",
    "'''\n",
    "# Defining columns for the outlier detection (type and quality are not included)\n",
    "wine_data_columns = ['fixed acidity',\n",
    " 'volatile acidity',\n",
    " 'citric acid',\n",
    " 'residual sugar',\n",
    " 'chlorides',\n",
    " 'free sulfur dioxide',\n",
    " 'total sulfur dioxide',\n",
    " 'density',\n",
    " 'pH',\n",
    " 'sulphates',\n",
    " 'alcohol']\n",
    "\n",
    "# Identify outliers\n",
    "for x in wine_data_columns:\n",
    "    for y in x:\n",
    "        q75,q25 = np.percentile(wine_data.loc[:,x],[95,5])\n",
    "        intr_qr = q75-q25\n",
    "\n",
    "        max = q75+(1.5*intr_qr)\n",
    "        min = q25-(1.5*intr_qr)\n",
    "\n",
    "        wine_data.loc[wine_data[x] < min,x] = np.nan\n",
    "        wine_data.loc[wine_data[x] > max,x] = np.nan\n",
    "display(wine_data.isnull().sum())\n",
    "\n",
    "# Drop outliers\n",
    "wine_data = wine_data.dropna(axis=0, how=\"any\", thresh=None, subset=None, inplace=False)\n",
    "display(wine_data.isnull().sum())\n",
    "display(len(wine_data.index))\n",
    "\n",
    "6497 - 6406 - 34\n",
    "'''\n",
    "# Replacing null-values \n",
    "\n",
    "# Get column names\n",
    "column_names = wine_data.columns\n",
    "\n",
    "# Count null-values\n",
    "display(wine_data.isnull().sum())\n",
    "display(len(wine_data.index))\n",
    "\n",
    "# Data imputation\n",
    "imp = SimpleImputer(strategy=\"mean\")\n",
    "wine_data = imp.fit_transform(wine_data)\n",
    "\n",
    "# Create dataframe from numpy array\n",
    "wine_data = pd.DataFrame(data=wine_data, columns=column_names)\n",
    "display(wine_data.isnull().sum())\n",
    "display(len(wine_data.index))"
   ]
  },
  {
   "cell_type": "markdown",
   "metadata": {},
   "source": [
    "## Separation of Features and Target Variable and Train/Test Split"
   ]
  },
  {
   "cell_type": "code",
   "execution_count": 49,
   "metadata": {},
   "outputs": [
    {
     "data": {
      "text/html": [
       "<div>\n",
       "<style scoped>\n",
       "    .dataframe tbody tr th:only-of-type {\n",
       "        vertical-align: middle;\n",
       "    }\n",
       "\n",
       "    .dataframe tbody tr th {\n",
       "        vertical-align: top;\n",
       "    }\n",
       "\n",
       "    .dataframe thead th {\n",
       "        text-align: right;\n",
       "    }\n",
       "</style>\n",
       "<table border=\"1\" class=\"dataframe\">\n",
       "  <thead>\n",
       "    <tr style=\"text-align: right;\">\n",
       "      <th></th>\n",
       "      <th>type</th>\n",
       "      <th>fixed acidity</th>\n",
       "      <th>volatile acidity</th>\n",
       "      <th>citric acid</th>\n",
       "      <th>residual sugar</th>\n",
       "      <th>chlorides</th>\n",
       "      <th>free sulfur dioxide</th>\n",
       "      <th>total sulfur dioxide</th>\n",
       "      <th>density</th>\n",
       "      <th>pH</th>\n",
       "      <th>sulphates</th>\n",
       "      <th>alcohol</th>\n",
       "    </tr>\n",
       "  </thead>\n",
       "  <tbody>\n",
       "    <tr>\n",
       "      <th>0</th>\n",
       "      <td>1.0</td>\n",
       "      <td>0.264463</td>\n",
       "      <td>0.126667</td>\n",
       "      <td>0.216867</td>\n",
       "      <td>0.308282</td>\n",
       "      <td>0.059801</td>\n",
       "      <td>0.152778</td>\n",
       "      <td>0.377880</td>\n",
       "      <td>0.267785</td>\n",
       "      <td>0.217054</td>\n",
       "      <td>0.129213</td>\n",
       "      <td>0.115942</td>\n",
       "    </tr>\n",
       "    <tr>\n",
       "      <th>1</th>\n",
       "      <td>1.0</td>\n",
       "      <td>0.206612</td>\n",
       "      <td>0.146667</td>\n",
       "      <td>0.204819</td>\n",
       "      <td>0.015337</td>\n",
       "      <td>0.066445</td>\n",
       "      <td>0.045139</td>\n",
       "      <td>0.290323</td>\n",
       "      <td>0.132832</td>\n",
       "      <td>0.449612</td>\n",
       "      <td>0.151685</td>\n",
       "      <td>0.217391</td>\n",
       "    </tr>\n",
       "    <tr>\n",
       "      <th>2</th>\n",
       "      <td>1.0</td>\n",
       "      <td>0.355372</td>\n",
       "      <td>0.133333</td>\n",
       "      <td>0.240964</td>\n",
       "      <td>0.096626</td>\n",
       "      <td>0.068106</td>\n",
       "      <td>0.100694</td>\n",
       "      <td>0.209677</td>\n",
       "      <td>0.154039</td>\n",
       "      <td>0.418605</td>\n",
       "      <td>0.123596</td>\n",
       "      <td>0.304348</td>\n",
       "    </tr>\n",
       "    <tr>\n",
       "      <th>3</th>\n",
       "      <td>1.0</td>\n",
       "      <td>0.280992</td>\n",
       "      <td>0.100000</td>\n",
       "      <td>0.192771</td>\n",
       "      <td>0.121166</td>\n",
       "      <td>0.081395</td>\n",
       "      <td>0.159722</td>\n",
       "      <td>0.414747</td>\n",
       "      <td>0.163678</td>\n",
       "      <td>0.364341</td>\n",
       "      <td>0.101124</td>\n",
       "      <td>0.275362</td>\n",
       "    </tr>\n",
       "    <tr>\n",
       "      <th>4</th>\n",
       "      <td>1.0</td>\n",
       "      <td>0.280992</td>\n",
       "      <td>0.100000</td>\n",
       "      <td>0.192771</td>\n",
       "      <td>0.121166</td>\n",
       "      <td>0.081395</td>\n",
       "      <td>0.159722</td>\n",
       "      <td>0.414747</td>\n",
       "      <td>0.163678</td>\n",
       "      <td>0.364341</td>\n",
       "      <td>0.101124</td>\n",
       "      <td>0.275362</td>\n",
       "    </tr>\n",
       "  </tbody>\n",
       "</table>\n",
       "</div>"
      ],
      "text/plain": [
       "   type  fixed acidity  volatile acidity  citric acid  residual sugar  \\\n",
       "0   1.0       0.264463          0.126667     0.216867        0.308282   \n",
       "1   1.0       0.206612          0.146667     0.204819        0.015337   \n",
       "2   1.0       0.355372          0.133333     0.240964        0.096626   \n",
       "3   1.0       0.280992          0.100000     0.192771        0.121166   \n",
       "4   1.0       0.280992          0.100000     0.192771        0.121166   \n",
       "\n",
       "   chlorides  free sulfur dioxide  total sulfur dioxide   density        pH  \\\n",
       "0   0.059801             0.152778              0.377880  0.267785  0.217054   \n",
       "1   0.066445             0.045139              0.290323  0.132832  0.449612   \n",
       "2   0.068106             0.100694              0.209677  0.154039  0.418605   \n",
       "3   0.081395             0.159722              0.414747  0.163678  0.364341   \n",
       "4   0.081395             0.159722              0.414747  0.163678  0.364341   \n",
       "\n",
       "   sulphates   alcohol  \n",
       "0   0.129213  0.115942  \n",
       "1   0.151685  0.217391  \n",
       "2   0.123596  0.304348  \n",
       "3   0.101124  0.275362  \n",
       "4   0.101124  0.275362  "
      ]
     },
     "metadata": {},
     "output_type": "display_data"
    }
   ],
   "source": [
    "# Seperation of features and the target variable in two different data frames\n",
    "'''\n",
    "features = wine_data.drop(columns=['quality'])\n",
    "display(features.head())\n",
    "\n",
    "target = wine_data.drop(columns=['type', 'fixed acidity', 'volatile acidity', 'citric acid', 'residual sugar', 'chlorides', 'free sulfur dioxide', 'total sulfur dioxide', 'density', 'pH', 'sulphates', 'alcohol'])\n",
    "display(target.head())\n",
    "target = target['quality'].ravel()\n",
    "'''\n",
    "wine_data = wine_data.copy()\n",
    "\n",
    "features = wine_data.drop(columns='quality')\n",
    "display(features.head())\n",
    "\n",
    "target = wine_data.drop(columns=['type', 'fixed acidity', 'volatile acidity', 'citric acid', 'residual sugar', 'chlorides', 'free sulfur dioxide', 'total sulfur dioxide', 'density', 'pH', 'sulphates', 'alcohol'])\n",
    "target = target['quality'].ravel()"
   ]
  },
  {
   "cell_type": "code",
   "execution_count": 50,
   "metadata": {},
   "outputs": [],
   "source": [
    "# Train test split\n",
    "data_train, data_test, target_train, target_test = train_test_split(\n",
    "    features, target,test_size=0.2, random_state=42, stratify=target)"
   ]
  },
  {
   "cell_type": "markdown",
   "metadata": {},
   "source": [
    "## Decision Tree (unbalanced)"
   ]
  },
  {
   "cell_type": "code",
   "execution_count": 51,
   "metadata": {},
   "outputs": [],
   "source": [
    "#Create estimator & pipeline\n",
    "dt = DecisionTreeClassifier() # with default settings\n",
    "pipeline_dt = Pipeline([('estimator', dt)])\n",
    "\n",
    "#Fit model and predict values for the train data\n",
    "pipeline_dt.fit(data_train, target_train)\n",
    "predictions_train_dt = pipeline_dt.predict(data_train)"
   ]
  },
  {
   "cell_type": "markdown",
   "metadata": {},
   "source": [
    "### Visualization"
   ]
  },
  {
   "cell_type": "code",
   "execution_count": 108,
   "metadata": {},
   "outputs": [],
   "source": [
    "#import matplotlib.pyplot as plt\n",
    "#from sklearn import tree\n",
    "#plt.figure(figsize=(15,10))\n",
    "#tree.plot_tree(dt)\n",
    "#plt.show()"
   ]
  },
  {
   "cell_type": "markdown",
   "metadata": {},
   "source": [
    "## Evaluation "
   ]
  },
  {
   "cell_type": "code",
   "execution_count": 52,
   "metadata": {},
   "outputs": [],
   "source": [
    "predictions_test_dt = pipeline_dt.predict(data_test)"
   ]
  },
  {
   "cell_type": "code",
   "execution_count": 110,
   "metadata": {
    "scrolled": true
   },
   "outputs": [],
   "source": [
    "#accuracy = cross_val_score(pipeline_dt, data_train, target_train, cv=10, scoring='accuracy')\n",
    "#print(\"Fitted a decision tree with {} nodes. Cross-validated accuracy is {}%\".format(dt.tree_.node_count, accuracy.mean() * 100))\n",
    "\n",
    "#target_names = ['low', 'medium', 'high']\n",
    "#print(\"Train Data:\")\n",
    "#print(classification_report(target_train, predictions_train_dt, target_names=target_names))\n",
    "#print(\"Test Data:\")\n",
    "#print(classification_report(target_test, predictions_test_dt, target_names=target_names))"
   ]
  },
  {
   "cell_type": "code",
   "execution_count": 53,
   "metadata": {},
   "outputs": [
    {
     "name": "stdout",
     "output_type": "stream",
     "text": [
      "Makro F1-Score Train Data:\n"
     ]
    },
    {
     "data": {
      "text/plain": [
       "1.0"
      ]
     },
     "metadata": {},
     "output_type": "display_data"
    },
    {
     "name": "stdout",
     "output_type": "stream",
     "text": [
      "Makro Precision Train Data:\n"
     ]
    },
    {
     "data": {
      "text/plain": [
       "1.0"
      ]
     },
     "metadata": {},
     "output_type": "display_data"
    },
    {
     "name": "stdout",
     "output_type": "stream",
     "text": [
      "Makro Recall Train Data:\n"
     ]
    },
    {
     "data": {
      "text/plain": [
       "1.0"
      ]
     },
     "metadata": {},
     "output_type": "display_data"
    },
    {
     "name": "stdout",
     "output_type": "stream",
     "text": [
      "Makro F1-Score Test Data:\n"
     ]
    },
    {
     "data": {
      "text/plain": [
       "0.5751095976732475"
      ]
     },
     "metadata": {},
     "output_type": "display_data"
    },
    {
     "name": "stdout",
     "output_type": "stream",
     "text": [
      "Makro Precision Test Data:\n"
     ]
    },
    {
     "data": {
      "text/plain": [
       "0.569843050114439"
      ]
     },
     "metadata": {},
     "output_type": "display_data"
    },
    {
     "name": "stdout",
     "output_type": "stream",
     "text": [
      "Makro Recall Test Data:\n"
     ]
    },
    {
     "data": {
      "text/plain": [
       "0.5818228846186716"
      ]
     },
     "metadata": {},
     "output_type": "display_data"
    }
   ],
   "source": [
    "get_scores_train(target_train, predictions_train_dt)\n",
    "get_scores_test(target_test, predictions_test_dt)"
   ]
  },
  {
   "cell_type": "markdown",
   "metadata": {},
   "source": [
    "### ROC Curve & ROC AUC"
   ]
  },
  {
   "cell_type": "code",
   "execution_count": 112,
   "metadata": {},
   "outputs": [
    {
     "data": {
      "text/plain": [
       "'\\nfrom sklearn.metrics import roc_curve, auc\\nfrom sklearn.metrics import roc_auc_score\\nfrom sklearn.preprocessing import label_binarize\\nfrom scipy import interp\\nfrom itertools import cycle\\n\\ny_target = label_binarize(target, classes=[0, 1, 2])\\nn_classes = y_target.shape[1]\\nX_train, X_test, y_train, y_test = train_test_split(features, y_target,test_size=0.2, random_state=42)\\n\\ndt_2 = DecisionTreeClassifier()\\n\\n# classifier score with test data\\ny_score = dt_2.fit(X_train, y_train).predict(X_test)\\n\\n# Compute ROC curve and ROC area for each class\\nfpr = dict()\\ntpr = dict()\\nroc_auc = dict()\\n\\nfor i in range(n_classes):\\n    fpr[i], tpr[i], _ = roc_curve(y_test[:, i], y_score[:, i])\\n    roc_auc[i] = auc(fpr[i], tpr[i])\\n\\n# Compute micro-average ROC curve and ROC area\\nfpr[\"micro\"], tpr[\"micro\"], _ = roc_curve(y_test.ravel(), y_score.ravel())\\nroc_auc[\"micro\"] = auc(fpr[\"micro\"], tpr[\"micro\"])\\n\\n# First aggregate all false positive rates\\nall_fpr = np.unique(np.concatenate([fpr[i] for i in range(n_classes)]))\\n\\n# Then interpolate all ROC curves at this points\\nmean_tpr = np.zeros_like(all_fpr)\\nfor i in range(n_classes):\\n    mean_tpr += interp(all_fpr, fpr[i], tpr[i])\\n\\n# Finally average it and compute AUC\\nmean_tpr /= n_classes\\n\\nlw = 2\\nfpr[\"macro\"] = all_fpr\\ntpr[\"macro\"] = mean_tpr\\nroc_auc[\"macro\"] = auc(fpr[\"macro\"], tpr[\"macro\"])\\n\\n# Plot all ROC curves\\nplt.figure()\\nplt.plot(\\n    fpr[\"micro\"],\\n    tpr[\"micro\"],\\n    label=\"micro-average ROC curve (area = {0:0.2f})\".format(roc_auc[\"micro\"]),\\n    color=\"deeppink\",\\n    linestyle=\":\",\\n    linewidth=4,\\n)\\n\\nplt.plot(\\n    fpr[\"macro\"],\\n    tpr[\"macro\"],\\n    label=\"macro-average ROC curve (area = {0:0.2f})\".format(roc_auc[\"macro\"]),\\n    color=\"navy\",\\n    linestyle=\":\",\\n    linewidth=4,\\n)\\n\\ncolors = cycle([\"aqua\", \"darkorange\", \"cornflowerblue\"])\\nfor i, color in zip(range(n_classes), colors):\\n    plt.plot(\\n        fpr[i],\\n        tpr[i],\\n        color=color,\\n        lw=lw,\\n        label=\"ROC curve of class {0} (area = {1:0.2f})\".format(i, roc_auc[i]),\\n    )\\n\\nplt.plot([0, 1], [0, 1], \"k--\", lw=lw)\\nplt.xlim([0.0, 1.0])\\nplt.ylim([0.0, 1.05])\\nplt.xlabel(\"False Positive Rate\")\\nplt.ylabel(\"True Positive Rate\")\\nplt.title(\"Some extension of Receiver operating characteristic to multiclass\")\\nplt.legend(loc=\"lower right\")\\nplt.show()\\n'"
      ]
     },
     "execution_count": 112,
     "metadata": {},
     "output_type": "execute_result"
    }
   ],
   "source": [
    "'''\n",
    "from sklearn.metrics import roc_curve, auc\n",
    "from sklearn.metrics import roc_auc_score\n",
    "from sklearn.preprocessing import label_binarize\n",
    "from scipy import interp\n",
    "from itertools import cycle\n",
    "\n",
    "y_target = label_binarize(target, classes=[0, 1, 2])\n",
    "n_classes = y_target.shape[1]\n",
    "X_train, X_test, y_train, y_test = train_test_split(features, y_target,test_size=0.2, random_state=42)\n",
    "\n",
    "dt_2 = DecisionTreeClassifier()\n",
    "\n",
    "# classifier score with test data\n",
    "y_score = dt_2.fit(X_train, y_train).predict(X_test)\n",
    "\n",
    "# Compute ROC curve and ROC area for each class\n",
    "fpr = dict()\n",
    "tpr = dict()\n",
    "roc_auc = dict()\n",
    "\n",
    "for i in range(n_classes):\n",
    "    fpr[i], tpr[i], _ = roc_curve(y_test[:, i], y_score[:, i])\n",
    "    roc_auc[i] = auc(fpr[i], tpr[i])\n",
    "\n",
    "# Compute micro-average ROC curve and ROC area\n",
    "fpr[\"micro\"], tpr[\"micro\"], _ = roc_curve(y_test.ravel(), y_score.ravel())\n",
    "roc_auc[\"micro\"] = auc(fpr[\"micro\"], tpr[\"micro\"])\n",
    "\n",
    "# First aggregate all false positive rates\n",
    "all_fpr = np.unique(np.concatenate([fpr[i] for i in range(n_classes)]))\n",
    "\n",
    "# Then interpolate all ROC curves at this points\n",
    "mean_tpr = np.zeros_like(all_fpr)\n",
    "for i in range(n_classes):\n",
    "    mean_tpr += interp(all_fpr, fpr[i], tpr[i])\n",
    "\n",
    "# Finally average it and compute AUC\n",
    "mean_tpr /= n_classes\n",
    "\n",
    "lw = 2\n",
    "fpr[\"macro\"] = all_fpr\n",
    "tpr[\"macro\"] = mean_tpr\n",
    "roc_auc[\"macro\"] = auc(fpr[\"macro\"], tpr[\"macro\"])\n",
    "\n",
    "# Plot all ROC curves\n",
    "plt.figure()\n",
    "plt.plot(\n",
    "    fpr[\"micro\"],\n",
    "    tpr[\"micro\"],\n",
    "    label=\"micro-average ROC curve (area = {0:0.2f})\".format(roc_auc[\"micro\"]),\n",
    "    color=\"deeppink\",\n",
    "    linestyle=\":\",\n",
    "    linewidth=4,\n",
    ")\n",
    "\n",
    "plt.plot(\n",
    "    fpr[\"macro\"],\n",
    "    tpr[\"macro\"],\n",
    "    label=\"macro-average ROC curve (area = {0:0.2f})\".format(roc_auc[\"macro\"]),\n",
    "    color=\"navy\",\n",
    "    linestyle=\":\",\n",
    "    linewidth=4,\n",
    ")\n",
    "\n",
    "colors = cycle([\"aqua\", \"darkorange\", \"cornflowerblue\"])\n",
    "for i, color in zip(range(n_classes), colors):\n",
    "    plt.plot(\n",
    "        fpr[i],\n",
    "        tpr[i],\n",
    "        color=color,\n",
    "        lw=lw,\n",
    "        label=\"ROC curve of class {0} (area = {1:0.2f})\".format(i, roc_auc[i]),\n",
    "    )\n",
    "\n",
    "plt.plot([0, 1], [0, 1], \"k--\", lw=lw)\n",
    "plt.xlim([0.0, 1.0])\n",
    "plt.ylim([0.0, 1.05])\n",
    "plt.xlabel(\"False Positive Rate\")\n",
    "plt.ylabel(\"True Positive Rate\")\n",
    "plt.title(\"Some extension of Receiver operating characteristic to multiclass\")\n",
    "plt.legend(loc=\"lower right\")\n",
    "plt.show()\n",
    "'''"
   ]
  },
  {
   "cell_type": "markdown",
   "metadata": {},
   "source": [
    "## Confusion Matrix"
   ]
  },
  {
   "cell_type": "code",
   "execution_count": 54,
   "metadata": {},
   "outputs": [
    {
     "name": "stdout",
     "output_type": "stream",
     "text": [
      "Confusion Matrix Train Data:\n"
     ]
    },
    {
     "data": {
      "image/png": "[encoded data removed]",
      "text/plain": [
       "<Figure size 432x288 with 2 Axes>"
      ]
     },
     "metadata": {
      "needs_background": "light"
     },
     "output_type": "display_data"
    }
   ],
   "source": [
    "# Confusion Matrix for the training data\n",
    "cnf_matrix_train_dt = confusion_matrix(target_train, predictions_train_dt)\n",
    "np.set_printoptions(precision=2)\n",
    "print(\"Confusion Matrix Train Data:\")\n",
    "plot_confusion_matrix(cnf_matrix_train_dt, classes=np.array([0,1,2]))"
   ]
  },
  {
   "cell_type": "code",
   "execution_count": 55,
   "metadata": {},
   "outputs": [
    {
     "name": "stdout",
     "output_type": "stream",
     "text": [
      "Confusion Matrix Test Data:\n"
     ]
    },
    {
     "data": {
      "text/plain": [
       "None"
      ]
     },
     "metadata": {},
     "output_type": "display_data"
    },
    {
     "data": {
      "image/png": "[encoded data removed]",
      "text/plain": [
       "<Figure size 432x288 with 2 Axes>"
      ]
     },
     "metadata": {
      "needs_background": "light"
     },
     "output_type": "display_data"
    }
   ],
   "source": [
    "# Confusion Matrix for the test data\n",
    "cnf_matrix_test_dt = confusion_matrix(target_test, predictions_test_dt)\n",
    "np.set_printoptions(precision=2)\n",
    "print(\"Confusion Matrix Test Data:\")\n",
    "display(plot_confusion_matrix(cnf_matrix_test_dt, classes=np.array([0,1,2])))"
   ]
  },
  {
   "cell_type": "markdown",
   "metadata": {},
   "source": [
    "## Adoption of the Mode \n",
    "1. First Hyperparameter Tuning\n",
    "2. Oversampling\n",
    "3. Feature Selection\n",
    "4. Second Hyperparameter Tuning\n",
    "\n",
    "In each step the best model, which was achieved until that stage, is utilized."
   ]
  },
  {
   "cell_type": "markdown",
   "metadata": {},
   "source": [
    "### First Hyperparameter Tuning"
   ]
  },
  {
   "cell_type": "code",
   "execution_count": 56,
   "metadata": {
    "scrolled": true
   },
   "outputs": [
    {
     "name": "stdout",
     "output_type": "stream",
     "text": [
      "Fitting 10 folds for each of 288 candidates, totalling 2880 fits\n"
     ]
    },
    {
     "data": {
      "text/html": [
       "<div>\n",
       "<style scoped>\n",
       "    .dataframe tbody tr th:only-of-type {\n",
       "        vertical-align: middle;\n",
       "    }\n",
       "\n",
       "    .dataframe tbody tr th {\n",
       "        vertical-align: top;\n",
       "    }\n",
       "\n",
       "    .dataframe thead th {\n",
       "        text-align: right;\n",
       "    }\n",
       "</style>\n",
       "<table border=\"1\" class=\"dataframe\">\n",
       "  <thead>\n",
       "    <tr style=\"text-align: right;\">\n",
       "      <th></th>\n",
       "      <th>mean_fit_time</th>\n",
       "      <th>std_fit_time</th>\n",
       "      <th>mean_score_time</th>\n",
       "      <th>std_score_time</th>\n",
       "      <th>param_criterion</th>\n",
       "      <th>param_max_depth</th>\n",
       "      <th>param_min_samples_leaf</th>\n",
       "      <th>param_min_samples_split</th>\n",
       "      <th>param_splitter</th>\n",
       "      <th>params</th>\n",
       "      <th>...</th>\n",
       "      <th>split3_test_score</th>\n",
       "      <th>split4_test_score</th>\n",
       "      <th>split5_test_score</th>\n",
       "      <th>split6_test_score</th>\n",
       "      <th>split7_test_score</th>\n",
       "      <th>split8_test_score</th>\n",
       "      <th>split9_test_score</th>\n",
       "      <th>mean_test_score</th>\n",
       "      <th>std_test_score</th>\n",
       "      <th>rank_test_score</th>\n",
       "    </tr>\n",
       "  </thead>\n",
       "  <tbody>\n",
       "    <tr>\n",
       "      <th>0</th>\n",
       "      <td>0.008500</td>\n",
       "      <td>0.000592</td>\n",
       "      <td>0.002900</td>\n",
       "      <td>0.000374</td>\n",
       "      <td>gini</td>\n",
       "      <td>2</td>\n",
       "      <td>2</td>\n",
       "      <td>2</td>\n",
       "      <td>best</td>\n",
       "      <td>{'criterion': 'gini', 'max_depth': 2, 'min_sam...</td>\n",
       "      <td>...</td>\n",
       "      <td>0.417237</td>\n",
       "      <td>0.373318</td>\n",
       "      <td>0.448524</td>\n",
       "      <td>0.366558</td>\n",
       "      <td>0.430033</td>\n",
       "      <td>0.356732</td>\n",
       "      <td>0.468901</td>\n",
       "      <td>0.406514</td>\n",
       "      <td>0.035288</td>\n",
       "      <td>241</td>\n",
       "    </tr>\n",
       "    <tr>\n",
       "      <th>1</th>\n",
       "      <td>0.008650</td>\n",
       "      <td>0.000923</td>\n",
       "      <td>0.003050</td>\n",
       "      <td>0.000269</td>\n",
       "      <td>gini</td>\n",
       "      <td>2</td>\n",
       "      <td>2</td>\n",
       "      <td>3</td>\n",
       "      <td>best</td>\n",
       "      <td>{'criterion': 'gini', 'max_depth': 2, 'min_sam...</td>\n",
       "      <td>...</td>\n",
       "      <td>0.417237</td>\n",
       "      <td>0.373318</td>\n",
       "      <td>0.448524</td>\n",
       "      <td>0.366558</td>\n",
       "      <td>0.430033</td>\n",
       "      <td>0.356732</td>\n",
       "      <td>0.468901</td>\n",
       "      <td>0.406514</td>\n",
       "      <td>0.035288</td>\n",
       "      <td>241</td>\n",
       "    </tr>\n",
       "    <tr>\n",
       "      <th>2</th>\n",
       "      <td>0.008450</td>\n",
       "      <td>0.000688</td>\n",
       "      <td>0.003250</td>\n",
       "      <td>0.000461</td>\n",
       "      <td>gini</td>\n",
       "      <td>2</td>\n",
       "      <td>2</td>\n",
       "      <td>4</td>\n",
       "      <td>best</td>\n",
       "      <td>{'criterion': 'gini', 'max_depth': 2, 'min_sam...</td>\n",
       "      <td>...</td>\n",
       "      <td>0.417237</td>\n",
       "      <td>0.373318</td>\n",
       "      <td>0.448524</td>\n",
       "      <td>0.366558</td>\n",
       "      <td>0.430033</td>\n",
       "      <td>0.356732</td>\n",
       "      <td>0.468901</td>\n",
       "      <td>0.406514</td>\n",
       "      <td>0.035288</td>\n",
       "      <td>241</td>\n",
       "    </tr>\n",
       "    <tr>\n",
       "      <th>3</th>\n",
       "      <td>0.008800</td>\n",
       "      <td>0.002432</td>\n",
       "      <td>0.003150</td>\n",
       "      <td>0.000390</td>\n",
       "      <td>gini</td>\n",
       "      <td>2</td>\n",
       "      <td>2</td>\n",
       "      <td>5</td>\n",
       "      <td>best</td>\n",
       "      <td>{'criterion': 'gini', 'max_depth': 2, 'min_sam...</td>\n",
       "      <td>...</td>\n",
       "      <td>0.417237</td>\n",
       "      <td>0.373318</td>\n",
       "      <td>0.448524</td>\n",
       "      <td>0.366558</td>\n",
       "      <td>0.430033</td>\n",
       "      <td>0.356732</td>\n",
       "      <td>0.468901</td>\n",
       "      <td>0.406514</td>\n",
       "      <td>0.035288</td>\n",
       "      <td>241</td>\n",
       "    </tr>\n",
       "    <tr>\n",
       "      <th>4</th>\n",
       "      <td>0.008001</td>\n",
       "      <td>0.000447</td>\n",
       "      <td>0.002849</td>\n",
       "      <td>0.000319</td>\n",
       "      <td>gini</td>\n",
       "      <td>2</td>\n",
       "      <td>3</td>\n",
       "      <td>2</td>\n",
       "      <td>best</td>\n",
       "      <td>{'criterion': 'gini', 'max_depth': 2, 'min_sam...</td>\n",
       "      <td>...</td>\n",
       "      <td>0.417237</td>\n",
       "      <td>0.373318</td>\n",
       "      <td>0.448524</td>\n",
       "      <td>0.366558</td>\n",
       "      <td>0.430033</td>\n",
       "      <td>0.356732</td>\n",
       "      <td>0.468901</td>\n",
       "      <td>0.406514</td>\n",
       "      <td>0.035288</td>\n",
       "      <td>241</td>\n",
       "    </tr>\n",
       "    <tr>\n",
       "      <th>...</th>\n",
       "      <td>...</td>\n",
       "      <td>...</td>\n",
       "      <td>...</td>\n",
       "      <td>...</td>\n",
       "      <td>...</td>\n",
       "      <td>...</td>\n",
       "      <td>...</td>\n",
       "      <td>...</td>\n",
       "      <td>...</td>\n",
       "      <td>...</td>\n",
       "      <td>...</td>\n",
       "      <td>...</td>\n",
       "      <td>...</td>\n",
       "      <td>...</td>\n",
       "      <td>...</td>\n",
       "      <td>...</td>\n",
       "      <td>...</td>\n",
       "      <td>...</td>\n",
       "      <td>...</td>\n",
       "      <td>...</td>\n",
       "      <td>...</td>\n",
       "    </tr>\n",
       "    <tr>\n",
       "      <th>283</th>\n",
       "      <td>0.034101</td>\n",
       "      <td>0.004212</td>\n",
       "      <td>0.002300</td>\n",
       "      <td>0.000459</td>\n",
       "      <td>entropy</td>\n",
       "      <td>10</td>\n",
       "      <td>4</td>\n",
       "      <td>5</td>\n",
       "      <td>best</td>\n",
       "      <td>{'criterion': 'entropy', 'max_depth': 10, 'min...</td>\n",
       "      <td>...</td>\n",
       "      <td>0.490568</td>\n",
       "      <td>0.527120</td>\n",
       "      <td>0.530943</td>\n",
       "      <td>0.519887</td>\n",
       "      <td>0.503423</td>\n",
       "      <td>0.516545</td>\n",
       "      <td>0.506249</td>\n",
       "      <td>0.523991</td>\n",
       "      <td>0.022038</td>\n",
       "      <td>5</td>\n",
       "    </tr>\n",
       "    <tr>\n",
       "      <th>284</th>\n",
       "      <td>0.028450</td>\n",
       "      <td>0.004541</td>\n",
       "      <td>0.001850</td>\n",
       "      <td>0.000391</td>\n",
       "      <td>entropy</td>\n",
       "      <td>10</td>\n",
       "      <td>5</td>\n",
       "      <td>2</td>\n",
       "      <td>best</td>\n",
       "      <td>{'criterion': 'entropy', 'max_depth': 10, 'min...</td>\n",
       "      <td>...</td>\n",
       "      <td>0.469390</td>\n",
       "      <td>0.542970</td>\n",
       "      <td>0.571039</td>\n",
       "      <td>0.498891</td>\n",
       "      <td>0.494432</td>\n",
       "      <td>0.507466</td>\n",
       "      <td>0.500206</td>\n",
       "      <td>0.512360</td>\n",
       "      <td>0.029777</td>\n",
       "      <td>25</td>\n",
       "    </tr>\n",
       "    <tr>\n",
       "      <th>285</th>\n",
       "      <td>0.035900</td>\n",
       "      <td>0.000890</td>\n",
       "      <td>0.002550</td>\n",
       "      <td>0.000269</td>\n",
       "      <td>entropy</td>\n",
       "      <td>10</td>\n",
       "      <td>5</td>\n",
       "      <td>3</td>\n",
       "      <td>best</td>\n",
       "      <td>{'criterion': 'entropy', 'max_depth': 10, 'min...</td>\n",
       "      <td>...</td>\n",
       "      <td>0.474262</td>\n",
       "      <td>0.558407</td>\n",
       "      <td>0.569635</td>\n",
       "      <td>0.477218</td>\n",
       "      <td>0.491006</td>\n",
       "      <td>0.497604</td>\n",
       "      <td>0.503533</td>\n",
       "      <td>0.510809</td>\n",
       "      <td>0.033437</td>\n",
       "      <td>32</td>\n",
       "    </tr>\n",
       "    <tr>\n",
       "      <th>286</th>\n",
       "      <td>0.036100</td>\n",
       "      <td>0.001091</td>\n",
       "      <td>0.002600</td>\n",
       "      <td>0.000436</td>\n",
       "      <td>entropy</td>\n",
       "      <td>10</td>\n",
       "      <td>5</td>\n",
       "      <td>4</td>\n",
       "      <td>best</td>\n",
       "      <td>{'criterion': 'entropy', 'max_depth': 10, 'min...</td>\n",
       "      <td>...</td>\n",
       "      <td>0.476051</td>\n",
       "      <td>0.561121</td>\n",
       "      <td>0.568236</td>\n",
       "      <td>0.482007</td>\n",
       "      <td>0.491006</td>\n",
       "      <td>0.512902</td>\n",
       "      <td>0.499236</td>\n",
       "      <td>0.510036</td>\n",
       "      <td>0.031348</td>\n",
       "      <td>35</td>\n",
       "    </tr>\n",
       "    <tr>\n",
       "      <th>287</th>\n",
       "      <td>0.035700</td>\n",
       "      <td>0.001691</td>\n",
       "      <td>0.002550</td>\n",
       "      <td>0.000269</td>\n",
       "      <td>entropy</td>\n",
       "      <td>10</td>\n",
       "      <td>5</td>\n",
       "      <td>5</td>\n",
       "      <td>best</td>\n",
       "      <td>{'criterion': 'entropy', 'max_depth': 10, 'min...</td>\n",
       "      <td>...</td>\n",
       "      <td>0.472798</td>\n",
       "      <td>0.532346</td>\n",
       "      <td>0.565464</td>\n",
       "      <td>0.480199</td>\n",
       "      <td>0.492321</td>\n",
       "      <td>0.496180</td>\n",
       "      <td>0.500206</td>\n",
       "      <td>0.503568</td>\n",
       "      <td>0.027621</td>\n",
       "      <td>61</td>\n",
       "    </tr>\n",
       "  </tbody>\n",
       "</table>\n",
       "<p>288 rows × 23 columns</p>\n",
       "</div>"
      ],
      "text/plain": [
       "     mean_fit_time  std_fit_time  mean_score_time  std_score_time  \\\n",
       "0         0.008500      0.000592         0.002900        0.000374   \n",
       "1         0.008650      0.000923         0.003050        0.000269   \n",
       "2         0.008450      0.000688         0.003250        0.000461   \n",
       "3         0.008800      0.002432         0.003150        0.000390   \n",
       "4         0.008001      0.000447         0.002849        0.000319   \n",
       "..             ...           ...              ...             ...   \n",
       "283       0.034101      0.004212         0.002300        0.000459   \n",
       "284       0.028450      0.004541         0.001850        0.000391   \n",
       "285       0.035900      0.000890         0.002550        0.000269   \n",
       "286       0.036100      0.001091         0.002600        0.000436   \n",
       "287       0.035700      0.001691         0.002550        0.000269   \n",
       "\n",
       "    param_criterion param_max_depth param_min_samples_leaf  \\\n",
       "0              gini               2                      2   \n",
       "1              gini               2                      2   \n",
       "2              gini               2                      2   \n",
       "3              gini               2                      2   \n",
       "4              gini               2                      3   \n",
       "..              ...             ...                    ...   \n",
       "283         entropy              10                      4   \n",
       "284         entropy              10                      5   \n",
       "285         entropy              10                      5   \n",
       "286         entropy              10                      5   \n",
       "287         entropy              10                      5   \n",
       "\n",
       "    param_min_samples_split param_splitter  \\\n",
       "0                         2           best   \n",
       "1                         3           best   \n",
       "2                         4           best   \n",
       "3                         5           best   \n",
       "4                         2           best   \n",
       "..                      ...            ...   \n",
       "283                       5           best   \n",
       "284                       2           best   \n",
       "285                       3           best   \n",
       "286                       4           best   \n",
       "287                       5           best   \n",
       "\n",
       "                                                params  ...  \\\n",
       "0    {'criterion': 'gini', 'max_depth': 2, 'min_sam...  ...   \n",
       "1    {'criterion': 'gini', 'max_depth': 2, 'min_sam...  ...   \n",
       "2    {'criterion': 'gini', 'max_depth': 2, 'min_sam...  ...   \n",
       "3    {'criterion': 'gini', 'max_depth': 2, 'min_sam...  ...   \n",
       "4    {'criterion': 'gini', 'max_depth': 2, 'min_sam...  ...   \n",
       "..                                                 ...  ...   \n",
       "283  {'criterion': 'entropy', 'max_depth': 10, 'min...  ...   \n",
       "284  {'criterion': 'entropy', 'max_depth': 10, 'min...  ...   \n",
       "285  {'criterion': 'entropy', 'max_depth': 10, 'min...  ...   \n",
       "286  {'criterion': 'entropy', 'max_depth': 10, 'min...  ...   \n",
       "287  {'criterion': 'entropy', 'max_depth': 10, 'min...  ...   \n",
       "\n",
       "     split3_test_score  split4_test_score  split5_test_score  \\\n",
       "0             0.417237           0.373318           0.448524   \n",
       "1             0.417237           0.373318           0.448524   \n",
       "2             0.417237           0.373318           0.448524   \n",
       "3             0.417237           0.373318           0.448524   \n",
       "4             0.417237           0.373318           0.448524   \n",
       "..                 ...                ...                ...   \n",
       "283           0.490568           0.527120           0.530943   \n",
       "284           0.469390           0.542970           0.571039   \n",
       "285           0.474262           0.558407           0.569635   \n",
       "286           0.476051           0.561121           0.568236   \n",
       "287           0.472798           0.532346           0.565464   \n",
       "\n",
       "     split6_test_score  split7_test_score  split8_test_score  \\\n",
       "0             0.366558           0.430033           0.356732   \n",
       "1             0.366558           0.430033           0.356732   \n",
       "2             0.366558           0.430033           0.356732   \n",
       "3             0.366558           0.430033           0.356732   \n",
       "4             0.366558           0.430033           0.356732   \n",
       "..                 ...                ...                ...   \n",
       "283           0.519887           0.503423           0.516545   \n",
       "284           0.498891           0.494432           0.507466   \n",
       "285           0.477218           0.491006           0.497604   \n",
       "286           0.482007           0.491006           0.512902   \n",
       "287           0.480199           0.492321           0.496180   \n",
       "\n",
       "     split9_test_score  mean_test_score  std_test_score  rank_test_score  \n",
       "0             0.468901         0.406514        0.035288              241  \n",
       "1             0.468901         0.406514        0.035288              241  \n",
       "2             0.468901         0.406514        0.035288              241  \n",
       "3             0.468901         0.406514        0.035288              241  \n",
       "4             0.468901         0.406514        0.035288              241  \n",
       "..                 ...              ...             ...              ...  \n",
       "283           0.506249         0.523991        0.022038                5  \n",
       "284           0.500206         0.512360        0.029777               25  \n",
       "285           0.503533         0.510809        0.033437               32  \n",
       "286           0.499236         0.510036        0.031348               35  \n",
       "287           0.500206         0.503568        0.027621               61  \n",
       "\n",
       "[288 rows x 23 columns]"
      ]
     },
     "metadata": {},
     "output_type": "display_data"
    },
    {
     "name": "stdout",
     "output_type": "stream",
     "text": [
      "best score is 0.5295282956669716 with params {'criterion': 'entropy', 'max_depth': 10, 'min_samples_leaf': 3, 'min_samples_split': 5, 'splitter': 'best'}\n"
     ]
    }
   ],
   "source": [
    "# Create an estimator\n",
    "decision_tree = DecisionTreeClassifier()\n",
    "\n",
    "# Specify the parameter grid\n",
    "\n",
    "parameters = {\n",
    "    'criterion':['gini', 'entropy'], \n",
    "    'splitter':['best'],\n",
    "    'max_depth':[ 2, 3, 4, 5, 6, 7, 8, 9, 10],\n",
    "    'min_samples_split' :[2,3,4,5],\n",
    "    'min_samples_leaf':[2,3,4,5]\n",
    "}\n",
    "\n",
    "\n",
    "# define the folds for the cross validation\n",
    "stratified_10_fold_cv = StratifiedKFold(n_splits=10, shuffle=True, random_state=42)\n",
    "\n",
    "# create the grid search estimator\n",
    "grid_search_estimator = GridSearchCV(decision_tree, parameters, scoring='f1_macro', cv=stratified_10_fold_cv, n_jobs = -1, verbose = 2, return_train_score=False)\n",
    "\n",
    "# Run the grid search\n",
    "grid_search_estimator.fit(data_train, target_train)\n",
    "\n",
    "# Print the results of all hyper-parameter combinations\n",
    "results = pd.DataFrame(grid_search_estimator.cv_results_)\n",
    "display(results)\n",
    "\n",
    "print(\"best score is {} with params {}\".format(grid_search_estimator.best_score_, grid_search_estimator.best_params_))\n"
   ]
  },
  {
   "cell_type": "markdown",
   "metadata": {},
   "source": [
    "## Decision Tree with tuned parameters"
   ]
  },
  {
   "cell_type": "code",
   "execution_count": 57,
   "metadata": {
    "scrolled": false
   },
   "outputs": [],
   "source": [
    "dt_tuned = DecisionTreeClassifier(criterion=\"entropy\", max_depth=10, min_samples_leaf=3, min_samples_split=5, splitter=\"best\")\n",
    "dt_tuned.fit(data_train, target_train)\n",
    "predictions_dt_tuned_train = dt_tuned.predict(data_train)\n",
    "predictions_dt_tuned_test = dt_tuned.predict(data_test)\n",
    "#print(\"Train Data:\")\n",
    "#print(classification_report(target_train, dt_tuned_train, target_names=target_names))\n",
    "#print(\"Test Data:\")\n",
    "#print(classification_report(target_test, dt_tuned_test, target_names=target_names))\n",
    "\n"
   ]
  },
  {
   "cell_type": "code",
   "execution_count": 58,
   "metadata": {},
   "outputs": [
    {
     "name": "stdout",
     "output_type": "stream",
     "text": [
      "Makro F1-Score Train Data:\n"
     ]
    },
    {
     "data": {
      "text/plain": [
       "0.7574160541494795"
      ]
     },
     "metadata": {},
     "output_type": "display_data"
    },
    {
     "name": "stdout",
     "output_type": "stream",
     "text": [
      "Makro Precision Train Data:\n"
     ]
    },
    {
     "data": {
      "text/plain": [
       "0.8218235161232174"
      ]
     },
     "metadata": {},
     "output_type": "display_data"
    },
    {
     "name": "stdout",
     "output_type": "stream",
     "text": [
      "Makro Recall Train Data:\n"
     ]
    },
    {
     "data": {
      "text/plain": [
       "0.7137339684228579"
      ]
     },
     "metadata": {},
     "output_type": "display_data"
    },
    {
     "name": "stdout",
     "output_type": "stream",
     "text": [
      "Makro F1-Score Test Data:\n"
     ]
    },
    {
     "data": {
      "text/plain": [
       "0.4689840864235429"
      ]
     },
     "metadata": {},
     "output_type": "display_data"
    },
    {
     "name": "stdout",
     "output_type": "stream",
     "text": [
      "Makro Precision Test Data:\n"
     ]
    },
    {
     "data": {
      "text/plain": [
       "0.48458591921442534"
      ]
     },
     "metadata": {},
     "output_type": "display_data"
    },
    {
     "name": "stdout",
     "output_type": "stream",
     "text": [
      "Makro Recall Test Data:\n"
     ]
    },
    {
     "data": {
      "text/plain": [
       "0.46045950415342024"
      ]
     },
     "metadata": {},
     "output_type": "display_data"
    }
   ],
   "source": [
    "get_scores_train(target_train, predictions_dt_tuned_train)\n",
    "get_scores_test(target_test, predictions_dt_tuned_test)"
   ]
  },
  {
   "cell_type": "code",
   "execution_count": 59,
   "metadata": {},
   "outputs": [
    {
     "name": "stdout",
     "output_type": "stream",
     "text": [
      "Confusion Matrix Train Data:\n"
     ]
    },
    {
     "data": {
      "image/png": "[encoded data removed]",
      "text/plain": [
       "<Figure size 432x288 with 2 Axes>"
      ]
     },
     "metadata": {
      "needs_background": "light"
     },
     "output_type": "display_data"
    }
   ],
   "source": [
    "# Confusion Matrix for the training data\n",
    "cnf_matrix_train_dt = confusion_matrix(target_train, predictions_dt_tuned_train)\n",
    "np.set_printoptions(precision=2)\n",
    "print(\"Confusion Matrix Train Data:\")\n",
    "plot_confusion_matrix(cnf_matrix_train_dt, classes=np.array([0,1,2]))"
   ]
  },
  {
   "cell_type": "code",
   "execution_count": 60,
   "metadata": {
    "scrolled": true
   },
   "outputs": [
    {
     "name": "stdout",
     "output_type": "stream",
     "text": [
      "Confusion Matrix Test Data:\n"
     ]
    },
    {
     "data": {
      "text/plain": [
       "None"
      ]
     },
     "metadata": {},
     "output_type": "display_data"
    },
    {
     "data": {
      "image/png": "[encoded data removed]",
      "text/plain": [
       "<Figure size 432x288 with 2 Axes>"
      ]
     },
     "metadata": {
      "needs_background": "light"
     },
     "output_type": "display_data"
    }
   ],
   "source": [
    "# Confusion Matrix for the test data\n",
    "cnf_matrix_test_dt = confusion_matrix(target_test, predictions_dt_tuned_test)\n",
    "np.set_printoptions(precision=2)\n",
    "print(\"Confusion Matrix Test Data:\")\n",
    "display(plot_confusion_matrix(cnf_matrix_test_dt, classes=np.array([0,1,2])))"
   ]
  },
  {
   "cell_type": "markdown",
   "metadata": {},
   "source": [
    "### Oversampling\n",
    "On the basis of the model with the hypertuning of the parameters."
   ]
  },
  {
   "cell_type": "code",
   "execution_count": 61,
   "metadata": {
    "scrolled": true
   },
   "outputs": [
    {
     "name": "stdout",
     "output_type": "stream",
     "text": [
      "Original Train Dataset:\n",
      "Length of data_train:\n"
     ]
    },
    {
     "data": {
      "text/plain": [
       "5197"
      ]
     },
     "metadata": {},
     "output_type": "display_data"
    },
    {
     "name": "stdout",
     "output_type": "stream",
     "text": [
      "Length of target_train:\n"
     ]
    },
    {
     "data": {
      "text/plain": [
       "5197"
      ]
     },
     "metadata": {},
     "output_type": "display_data"
    },
    {
     "name": "stdout",
     "output_type": "stream",
     "text": [
      "Class Distribution: Counter({1.0: 3979, 2.0: 1021, 0.0: 197})\n",
      "\n",
      "Balanced Train Dataset:\n",
      "Length of data_train:\n"
     ]
    },
    {
     "data": {
      "text/plain": [
       "11937"
      ]
     },
     "metadata": {},
     "output_type": "display_data"
    },
    {
     "name": "stdout",
     "output_type": "stream",
     "text": [
      "Length of target_train:\n"
     ]
    },
    {
     "data": {
      "text/plain": [
       "11937"
      ]
     },
     "metadata": {},
     "output_type": "display_data"
    },
    {
     "name": "stdout",
     "output_type": "stream",
     "text": [
      "Class Distribution: Counter({1.0: 3979, 2.0: 3979, 0.0: 3979})\n"
     ]
    }
   ],
   "source": [
    "# Oversampling the minority class by duplicating examples --> doesn't add new information to the model --> not used\n",
    "# Therefore, we use SMOTE to synthesize new examples in the minority class of the train data from the existing examples \n",
    "\n",
    "\n",
    "\n",
    "# Print the Class Distribution before SMOTE\n",
    "print('Original Train Dataset:')\n",
    "print('Length of data_train:')\n",
    "display(len(data_train.index))\n",
    "print('Length of target_train:')\n",
    "display(target_train.size)\n",
    "print('Class Distribution: %s' % Counter(target_train))\n",
    "\n",
    "data_train_smt = data_train.copy() \n",
    "target_train_smt = target_train.copy()\n",
    "\n",
    "smt = SMOTE(random_state=42)\n",
    "data_train_oversampled, target_train_oversampled = smt.fit_resample(data_train_smt, target_train_smt)\n",
    "\n",
    "# Print the new Class Distribution after SMOTE\n",
    "print('\\nBalanced Train Dataset:')\n",
    "print('Length of data_train:')\n",
    "display(len(data_train_oversampled.index))\n",
    "print('Length of target_train:')\n",
    "display(target_train_oversampled.size)\n",
    "print('Class Distribution: %s' % Counter(target_train_oversampled))"
   ]
  },
  {
   "cell_type": "markdown",
   "metadata": {},
   "source": [
    "#### Decision tree with default parameters"
   ]
  },
  {
   "cell_type": "code",
   "execution_count": 62,
   "metadata": {
    "scrolled": false
   },
   "outputs": [
    {
     "name": "stdout",
     "output_type": "stream",
     "text": [
      "Makro F1-Score Train Data:\n"
     ]
    },
    {
     "data": {
      "text/plain": [
       "1.0"
      ]
     },
     "metadata": {},
     "output_type": "display_data"
    },
    {
     "name": "stdout",
     "output_type": "stream",
     "text": [
      "Makro Precision Train Data:\n"
     ]
    },
    {
     "data": {
      "text/plain": [
       "1.0"
      ]
     },
     "metadata": {},
     "output_type": "display_data"
    },
    {
     "name": "stdout",
     "output_type": "stream",
     "text": [
      "Makro Recall Train Data:\n"
     ]
    },
    {
     "data": {
      "text/plain": [
       "1.0"
      ]
     },
     "metadata": {},
     "output_type": "display_data"
    },
    {
     "name": "stdout",
     "output_type": "stream",
     "text": [
      "Makro F1-Score Test Data:\n"
     ]
    },
    {
     "data": {
      "text/plain": [
       "0.5587953844239327"
      ]
     },
     "metadata": {},
     "output_type": "display_data"
    },
    {
     "name": "stdout",
     "output_type": "stream",
     "text": [
      "Makro Precision Test Data:\n"
     ]
    },
    {
     "data": {
      "text/plain": [
       "0.5397721026170318"
      ]
     },
     "metadata": {},
     "output_type": "display_data"
    },
    {
     "name": "stdout",
     "output_type": "stream",
     "text": [
      "Makro Recall Test Data:\n"
     ]
    },
    {
     "data": {
      "text/plain": [
       "0.6100541504290158"
      ]
     },
     "metadata": {},
     "output_type": "display_data"
    }
   ],
   "source": [
    "dt_oversampled = DecisionTreeClassifier()\n",
    "dt_oversampled.fit(data_train_oversampled, target_train_oversampled)\n",
    "predictions_dt_oversampled_train = dt_oversampled.predict(data_train_oversampled)\n",
    "predictions_dt_oversampled_test = dt_oversampled.predict(data_test)\n",
    "\n",
    "get_scores_train(target_train_oversampled, predictions_dt_oversampled_train)\n",
    "get_scores_test(target_test, predictions_dt_oversampled_test)"
   ]
  },
  {
   "cell_type": "code",
   "execution_count": 63,
   "metadata": {},
   "outputs": [
    {
     "name": "stdout",
     "output_type": "stream",
     "text": [
      "Confusion Matrix Train Data:\n"
     ]
    },
    {
     "data": {
      "image/png": "[encoded data removed]",
      "text/plain": [
       "<Figure size 432x288 with 2 Axes>"
      ]
     },
     "metadata": {
      "needs_background": "light"
     },
     "output_type": "display_data"
    }
   ],
   "source": [
    "# Confusion Matrix for the training data\n",
    "cnf_matrix_train_dt = confusion_matrix(target_train_oversampled, predictions_dt_oversampled_train)\n",
    "np.set_printoptions(precision=2)\n",
    "print(\"Confusion Matrix Train Data:\")\n",
    "plot_confusion_matrix(cnf_matrix_train_dt, classes=np.array([0,1,2]))"
   ]
  },
  {
   "cell_type": "code",
   "execution_count": 64,
   "metadata": {},
   "outputs": [
    {
     "name": "stdout",
     "output_type": "stream",
     "text": [
      "Confusion Matrix Test Data:\n"
     ]
    },
    {
     "data": {
      "text/plain": [
       "None"
      ]
     },
     "metadata": {},
     "output_type": "display_data"
    },
    {
     "data": {
      "image/png": "[encoded data removed]",
      "text/plain": [
       "<Figure size 432x288 with 2 Axes>"
      ]
     },
     "metadata": {
      "needs_background": "light"
     },
     "output_type": "display_data"
    }
   ],
   "source": [
    "# Confusion Matrix for the test data\n",
    "cnf_matrix_test_dt = confusion_matrix(target_test, predictions_dt_oversampled_test)\n",
    "np.set_printoptions(precision=2)\n",
    "print(\"Confusion Matrix Test Data:\")\n",
    "display(plot_confusion_matrix(cnf_matrix_test_dt, classes=np.array([0,1,2])))"
   ]
  },
  {
   "cell_type": "markdown",
   "metadata": {},
   "source": [
    "#### Decision tree with tuned parameters"
   ]
  },
  {
   "cell_type": "code",
   "execution_count": 65,
   "metadata": {},
   "outputs": [
    {
     "name": "stdout",
     "output_type": "stream",
     "text": [
      "Makro F1-Score Train Data:\n"
     ]
    },
    {
     "data": {
      "text/plain": [
       "0.8414239763353116"
      ]
     },
     "metadata": {},
     "output_type": "display_data"
    },
    {
     "name": "stdout",
     "output_type": "stream",
     "text": [
      "Makro Precision Train Data:\n"
     ]
    },
    {
     "data": {
      "text/plain": [
       "0.8420693562316437"
      ]
     },
     "metadata": {},
     "output_type": "display_data"
    },
    {
     "name": "stdout",
     "output_type": "stream",
     "text": [
      "Makro Recall Train Data:\n"
     ]
    },
    {
     "data": {
      "text/plain": [
       "0.8435117701264975"
      ]
     },
     "metadata": {},
     "output_type": "display_data"
    },
    {
     "name": "stdout",
     "output_type": "stream",
     "text": [
      "Makro F1-Score Test Data:\n"
     ]
    },
    {
     "data": {
      "text/plain": [
       "0.49079709706822666"
      ]
     },
     "metadata": {},
     "output_type": "display_data"
    },
    {
     "name": "stdout",
     "output_type": "stream",
     "text": [
      "Makro Precision Test Data:\n"
     ]
    },
    {
     "data": {
      "text/plain": [
       "0.48698643208150294"
      ]
     },
     "metadata": {},
     "output_type": "display_data"
    },
    {
     "name": "stdout",
     "output_type": "stream",
     "text": [
      "Makro Recall Test Data:\n"
     ]
    },
    {
     "data": {
      "text/plain": [
       "0.6107986787679897"
      ]
     },
     "metadata": {},
     "output_type": "display_data"
    }
   ],
   "source": [
    "dt_oversampled_tuned = DecisionTreeClassifier(criterion=\"entropy\", max_depth=10, min_samples_leaf=2, min_samples_split=2, splitter=\"best\")\n",
    "dt_oversampled_tuned.fit(data_train_oversampled, target_train_oversampled)\n",
    "predictions_dt_tuned_oversampled_train = dt_oversampled_tuned.predict(data_train_oversampled)\n",
    "predictions_dt_tuned_oversampled_test = dt_oversampled_tuned.predict(data_test)\n",
    "\n",
    "get_scores_train(target_train_oversampled, predictions_dt_tuned_oversampled_train)\n",
    "get_scores_test(target_test, predictions_dt_tuned_oversampled_test)"
   ]
  },
  {
   "cell_type": "code",
   "execution_count": 66,
   "metadata": {},
   "outputs": [
    {
     "name": "stdout",
     "output_type": "stream",
     "text": [
      "Confusion Matrix Train Data:\n"
     ]
    },
    {
     "data": {
      "image/png": "[encoded data removed]",
      "text/plain": [
       "<Figure size 432x288 with 2 Axes>"
      ]
     },
     "metadata": {
      "needs_background": "light"
     },
     "output_type": "display_data"
    }
   ],
   "source": [
    "# Confusion Matrix for the training data\n",
    "cnf_matrix_train_dt = confusion_matrix(target_train_oversampled, predictions_dt_tuned_oversampled_train)\n",
    "np.set_printoptions(precision=2)\n",
    "print(\"Confusion Matrix Train Data:\")\n",
    "plot_confusion_matrix(cnf_matrix_train_dt, classes=np.array([0,1,2]))"
   ]
  },
  {
   "cell_type": "code",
   "execution_count": 67,
   "metadata": {},
   "outputs": [
    {
     "name": "stdout",
     "output_type": "stream",
     "text": [
      "Confusion Matrix Test Data:\n"
     ]
    },
    {
     "data": {
      "text/plain": [
       "None"
      ]
     },
     "metadata": {},
     "output_type": "display_data"
    },
    {
     "data": {
      "image/png": "[encoded data removed]",
      "text/plain": [
       "<Figure size 432x288 with 2 Axes>"
      ]
     },
     "metadata": {
      "needs_background": "light"
     },
     "output_type": "display_data"
    }
   ],
   "source": [
    "# Confusion Matrix for the test data\n",
    "cnf_matrix_test_dt = confusion_matrix(target_test, predictions_dt_tuned_oversampled_test)\n",
    "np.set_printoptions(precision=2)\n",
    "print(\"Confusion Matrix Test Data:\")\n",
    "display(plot_confusion_matrix(cnf_matrix_test_dt, classes=np.array([0,1,2])))"
   ]
  },
  {
   "cell_type": "markdown",
   "metadata": {},
   "source": [
    "### Feature Selection\n",
    "On the basis of the model with the hypertuning of the parameters and the oversampling."
   ]
  },
  {
   "cell_type": "code",
   "execution_count": 68,
   "metadata": {
    "scrolled": false
   },
   "outputs": [
    {
     "name": "stdout",
     "output_type": "stream",
     "text": [
      "Feature: 0, Score: 0.00874\n",
      "Feature: 1, Score: 0.08140\n",
      "Feature: 2, Score: 0.09622\n",
      "Feature: 3, Score: 0.05440\n",
      "Feature: 4, Score: 0.06602\n",
      "Feature: 5, Score: 0.07750\n",
      "Feature: 6, Score: 0.14313\n",
      "Feature: 7, Score: 0.07078\n",
      "Feature: 8, Score: 0.05919\n",
      "Feature: 9, Score: 0.05875\n",
      "Feature: 10, Score: 0.11455\n",
      "Feature: 11, Score: 0.16932\n"
     ]
    },
    {
     "data": {
      "text/plain": [
       "<BarContainer object of 12 artists>"
      ]
     },
     "execution_count": 68,
     "metadata": {},
     "output_type": "execute_result"
    },
    {
     "data": {
      "image/png": "[encoded data removed]",
      "text/plain": [
       "<Figure size 432x288 with 1 Axes>"
      ]
     },
     "metadata": {
      "needs_background": "light"
     },
     "output_type": "display_data"
    }
   ],
   "source": [
    "# get importance\n",
    "importance = dt_oversampled.feature_importances_\n",
    "# summarize feature importance\n",
    "for i,v in enumerate(importance):\n",
    "    print('Feature: %0d, Score: %.5f' % (i,v))\n",
    "# plot feature importance\n",
    "\n",
    "feature_list = list(features)\n",
    "plt.barh(feature_list, importance)"
   ]
  },
  {
   "cell_type": "code",
   "execution_count": 69,
   "metadata": {},
   "outputs": [
    {
     "data": {
      "text/plain": [
       "Text(0.5, 0, 'Permutation Importance')"
      ]
     },
     "execution_count": 69,
     "metadata": {},
     "output_type": "execute_result"
    },
    {
     "data": {
      "image/png": "[encoded data removed]",
      "text/plain": [
       "<Figure size 432x288 with 1 Axes>"
      ]
     },
     "metadata": {
      "needs_background": "light"
     },
     "output_type": "display_data"
    }
   ],
   "source": [
    "# Permutation Importance\n",
    "from sklearn.inspection import permutation_importance\n",
    "perm_importance = permutation_importance(dt_oversampled, data_test, target_test)\n",
    "feature_list = list(features)\n",
    "plt.barh(feature_list, perm_importance.importances_mean)\n",
    "plt.xlabel(\"Permutation Importance\")"
   ]
  },
  {
   "cell_type": "markdown",
   "metadata": {},
   "source": [
    "### Drop \"type\" feature"
   ]
  },
  {
   "cell_type": "code",
   "execution_count": 70,
   "metadata": {
    "scrolled": true
   },
   "outputs": [
    {
     "data": {
      "text/html": [
       "<div>\n",
       "<style scoped>\n",
       "    .dataframe tbody tr th:only-of-type {\n",
       "        vertical-align: middle;\n",
       "    }\n",
       "\n",
       "    .dataframe tbody tr th {\n",
       "        vertical-align: top;\n",
       "    }\n",
       "\n",
       "    .dataframe thead th {\n",
       "        text-align: right;\n",
       "    }\n",
       "</style>\n",
       "<table border=\"1\" class=\"dataframe\">\n",
       "  <thead>\n",
       "    <tr style=\"text-align: right;\">\n",
       "      <th></th>\n",
       "      <th>fixed acidity</th>\n",
       "      <th>volatile acidity</th>\n",
       "      <th>citric acid</th>\n",
       "      <th>residual sugar</th>\n",
       "      <th>chlorides</th>\n",
       "      <th>free sulfur dioxide</th>\n",
       "      <th>total sulfur dioxide</th>\n",
       "      <th>density</th>\n",
       "      <th>pH</th>\n",
       "      <th>sulphates</th>\n",
       "      <th>alcohol</th>\n",
       "    </tr>\n",
       "  </thead>\n",
       "  <tbody>\n",
       "    <tr>\n",
       "      <th>0</th>\n",
       "      <td>0.264463</td>\n",
       "      <td>0.126667</td>\n",
       "      <td>0.216867</td>\n",
       "      <td>0.308282</td>\n",
       "      <td>0.059801</td>\n",
       "      <td>0.152778</td>\n",
       "      <td>0.377880</td>\n",
       "      <td>0.267785</td>\n",
       "      <td>0.217054</td>\n",
       "      <td>0.129213</td>\n",
       "      <td>0.115942</td>\n",
       "    </tr>\n",
       "    <tr>\n",
       "      <th>1</th>\n",
       "      <td>0.206612</td>\n",
       "      <td>0.146667</td>\n",
       "      <td>0.204819</td>\n",
       "      <td>0.015337</td>\n",
       "      <td>0.066445</td>\n",
       "      <td>0.045139</td>\n",
       "      <td>0.290323</td>\n",
       "      <td>0.132832</td>\n",
       "      <td>0.449612</td>\n",
       "      <td>0.151685</td>\n",
       "      <td>0.217391</td>\n",
       "    </tr>\n",
       "    <tr>\n",
       "      <th>2</th>\n",
       "      <td>0.355372</td>\n",
       "      <td>0.133333</td>\n",
       "      <td>0.240964</td>\n",
       "      <td>0.096626</td>\n",
       "      <td>0.068106</td>\n",
       "      <td>0.100694</td>\n",
       "      <td>0.209677</td>\n",
       "      <td>0.154039</td>\n",
       "      <td>0.418605</td>\n",
       "      <td>0.123596</td>\n",
       "      <td>0.304348</td>\n",
       "    </tr>\n",
       "    <tr>\n",
       "      <th>3</th>\n",
       "      <td>0.280992</td>\n",
       "      <td>0.100000</td>\n",
       "      <td>0.192771</td>\n",
       "      <td>0.121166</td>\n",
       "      <td>0.081395</td>\n",
       "      <td>0.159722</td>\n",
       "      <td>0.414747</td>\n",
       "      <td>0.163678</td>\n",
       "      <td>0.364341</td>\n",
       "      <td>0.101124</td>\n",
       "      <td>0.275362</td>\n",
       "    </tr>\n",
       "    <tr>\n",
       "      <th>4</th>\n",
       "      <td>0.280992</td>\n",
       "      <td>0.100000</td>\n",
       "      <td>0.192771</td>\n",
       "      <td>0.121166</td>\n",
       "      <td>0.081395</td>\n",
       "      <td>0.159722</td>\n",
       "      <td>0.414747</td>\n",
       "      <td>0.163678</td>\n",
       "      <td>0.364341</td>\n",
       "      <td>0.101124</td>\n",
       "      <td>0.275362</td>\n",
       "    </tr>\n",
       "  </tbody>\n",
       "</table>\n",
       "</div>"
      ],
      "text/plain": [
       "   fixed acidity  volatile acidity  citric acid  residual sugar  chlorides  \\\n",
       "0       0.264463          0.126667     0.216867        0.308282   0.059801   \n",
       "1       0.206612          0.146667     0.204819        0.015337   0.066445   \n",
       "2       0.355372          0.133333     0.240964        0.096626   0.068106   \n",
       "3       0.280992          0.100000     0.192771        0.121166   0.081395   \n",
       "4       0.280992          0.100000     0.192771        0.121166   0.081395   \n",
       "\n",
       "   free sulfur dioxide  total sulfur dioxide   density        pH  sulphates  \\\n",
       "0             0.152778              0.377880  0.267785  0.217054   0.129213   \n",
       "1             0.045139              0.290323  0.132832  0.449612   0.151685   \n",
       "2             0.100694              0.209677  0.154039  0.418605   0.123596   \n",
       "3             0.159722              0.414747  0.163678  0.364341   0.101124   \n",
       "4             0.159722              0.414747  0.163678  0.364341   0.101124   \n",
       "\n",
       "    alcohol  \n",
       "0  0.115942  \n",
       "1  0.217391  \n",
       "2  0.304348  \n",
       "3  0.275362  \n",
       "4  0.275362  "
      ]
     },
     "metadata": {},
     "output_type": "display_data"
    }
   ],
   "source": [
    "features = wine_data.drop(columns=['quality','type'])\n",
    "display(features.head())"
   ]
  },
  {
   "cell_type": "markdown",
   "metadata": {},
   "source": [
    "### Model without \"type\" and default parameter values"
   ]
  },
  {
   "cell_type": "code",
   "execution_count": 71,
   "metadata": {
    "scrolled": true
   },
   "outputs": [
    {
     "name": "stdout",
     "output_type": "stream",
     "text": [
      "Makro F1-Score Train Data:\n"
     ]
    },
    {
     "data": {
      "text/plain": [
       "1.0"
      ]
     },
     "metadata": {},
     "output_type": "display_data"
    },
    {
     "name": "stdout",
     "output_type": "stream",
     "text": [
      "Makro Precision Train Data:\n"
     ]
    },
    {
     "data": {
      "text/plain": [
       "1.0"
      ]
     },
     "metadata": {},
     "output_type": "display_data"
    },
    {
     "name": "stdout",
     "output_type": "stream",
     "text": [
      "Makro Recall Train Data:\n"
     ]
    },
    {
     "data": {
      "text/plain": [
       "1.0"
      ]
     },
     "metadata": {},
     "output_type": "display_data"
    },
    {
     "name": "stdout",
     "output_type": "stream",
     "text": [
      "Makro F1-Score Test Data:\n"
     ]
    },
    {
     "data": {
      "text/plain": [
       "0.582975630810692"
      ]
     },
     "metadata": {},
     "output_type": "display_data"
    },
    {
     "name": "stdout",
     "output_type": "stream",
     "text": [
      "Makro Precision Test Data:\n"
     ]
    },
    {
     "data": {
      "text/plain": [
       "0.5761374255898565"
      ]
     },
     "metadata": {},
     "output_type": "display_data"
    },
    {
     "name": "stdout",
     "output_type": "stream",
     "text": [
      "Makro Recall Test Data:\n"
     ]
    },
    {
     "data": {
      "text/plain": [
       "0.5906356559583633"
      ]
     },
     "metadata": {},
     "output_type": "display_data"
    }
   ],
   "source": [
    "# Create an estimator\n",
    "decision_tree = DecisionTreeClassifier()\n",
    "\n",
    "data_train, data_test, target_train, target_test = train_test_split(\n",
    "    features, target,test_size=0.2, random_state=42, stratify=target)\n",
    "\n",
    "decision_tree.fit(data_train, target_train)\n",
    "predictions_train_dt = decision_tree.predict(data_train)\n",
    "predictions_test_dt = decision_tree.predict(data_test)\n",
    "\n",
    "get_scores_train(target_train, predictions_train_dt)\n",
    "get_scores_test(target_test, predictions_test_dt)"
   ]
  },
  {
   "cell_type": "markdown",
   "metadata": {},
   "source": [
    "#### Hyperparameter tuning with \"type\" dropped"
   ]
  },
  {
   "cell_type": "code",
   "execution_count": 72,
   "metadata": {
    "scrolled": false
   },
   "outputs": [
    {
     "name": "stdout",
     "output_type": "stream",
     "text": [
      "Fitting 10 folds for each of 288 candidates, totalling 2880 fits\n"
     ]
    },
    {
     "data": {
      "text/html": [
       "<div>\n",
       "<style scoped>\n",
       "    .dataframe tbody tr th:only-of-type {\n",
       "        vertical-align: middle;\n",
       "    }\n",
       "\n",
       "    .dataframe tbody tr th {\n",
       "        vertical-align: top;\n",
       "    }\n",
       "\n",
       "    .dataframe thead th {\n",
       "        text-align: right;\n",
       "    }\n",
       "</style>\n",
       "<table border=\"1\" class=\"dataframe\">\n",
       "  <thead>\n",
       "    <tr style=\"text-align: right;\">\n",
       "      <th></th>\n",
       "      <th>mean_fit_time</th>\n",
       "      <th>std_fit_time</th>\n",
       "      <th>mean_score_time</th>\n",
       "      <th>std_score_time</th>\n",
       "      <th>param_criterion</th>\n",
       "      <th>param_max_depth</th>\n",
       "      <th>param_min_samples_leaf</th>\n",
       "      <th>param_min_samples_split</th>\n",
       "      <th>param_splitter</th>\n",
       "      <th>params</th>\n",
       "      <th>...</th>\n",
       "      <th>split3_test_score</th>\n",
       "      <th>split4_test_score</th>\n",
       "      <th>split5_test_score</th>\n",
       "      <th>split6_test_score</th>\n",
       "      <th>split7_test_score</th>\n",
       "      <th>split8_test_score</th>\n",
       "      <th>split9_test_score</th>\n",
       "      <th>mean_test_score</th>\n",
       "      <th>std_test_score</th>\n",
       "      <th>rank_test_score</th>\n",
       "    </tr>\n",
       "  </thead>\n",
       "  <tbody>\n",
       "    <tr>\n",
       "      <th>0</th>\n",
       "      <td>0.006901</td>\n",
       "      <td>0.000700</td>\n",
       "      <td>0.002550</td>\n",
       "      <td>0.000270</td>\n",
       "      <td>gini</td>\n",
       "      <td>2</td>\n",
       "      <td>2</td>\n",
       "      <td>2</td>\n",
       "      <td>best</td>\n",
       "      <td>{'criterion': 'gini', 'max_depth': 2, 'min_sam...</td>\n",
       "      <td>...</td>\n",
       "      <td>0.417237</td>\n",
       "      <td>0.373318</td>\n",
       "      <td>0.448524</td>\n",
       "      <td>0.366558</td>\n",
       "      <td>0.430033</td>\n",
       "      <td>0.356732</td>\n",
       "      <td>0.468901</td>\n",
       "      <td>0.406514</td>\n",
       "      <td>0.035288</td>\n",
       "      <td>241</td>\n",
       "    </tr>\n",
       "    <tr>\n",
       "      <th>1</th>\n",
       "      <td>0.007050</td>\n",
       "      <td>0.000472</td>\n",
       "      <td>0.002350</td>\n",
       "      <td>0.000320</td>\n",
       "      <td>gini</td>\n",
       "      <td>2</td>\n",
       "      <td>2</td>\n",
       "      <td>3</td>\n",
       "      <td>best</td>\n",
       "      <td>{'criterion': 'gini', 'max_depth': 2, 'min_sam...</td>\n",
       "      <td>...</td>\n",
       "      <td>0.417237</td>\n",
       "      <td>0.373318</td>\n",
       "      <td>0.448524</td>\n",
       "      <td>0.366558</td>\n",
       "      <td>0.430033</td>\n",
       "      <td>0.356732</td>\n",
       "      <td>0.468901</td>\n",
       "      <td>0.406514</td>\n",
       "      <td>0.035288</td>\n",
       "      <td>241</td>\n",
       "    </tr>\n",
       "    <tr>\n",
       "      <th>2</th>\n",
       "      <td>0.007350</td>\n",
       "      <td>0.000503</td>\n",
       "      <td>0.002300</td>\n",
       "      <td>0.000333</td>\n",
       "      <td>gini</td>\n",
       "      <td>2</td>\n",
       "      <td>2</td>\n",
       "      <td>4</td>\n",
       "      <td>best</td>\n",
       "      <td>{'criterion': 'gini', 'max_depth': 2, 'min_sam...</td>\n",
       "      <td>...</td>\n",
       "      <td>0.417237</td>\n",
       "      <td>0.373318</td>\n",
       "      <td>0.448524</td>\n",
       "      <td>0.366558</td>\n",
       "      <td>0.430033</td>\n",
       "      <td>0.356732</td>\n",
       "      <td>0.468901</td>\n",
       "      <td>0.406514</td>\n",
       "      <td>0.035288</td>\n",
       "      <td>241</td>\n",
       "    </tr>\n",
       "    <tr>\n",
       "      <th>3</th>\n",
       "      <td>0.007149</td>\n",
       "      <td>0.000503</td>\n",
       "      <td>0.002600</td>\n",
       "      <td>0.000373</td>\n",
       "      <td>gini</td>\n",
       "      <td>2</td>\n",
       "      <td>2</td>\n",
       "      <td>5</td>\n",
       "      <td>best</td>\n",
       "      <td>{'criterion': 'gini', 'max_depth': 2, 'min_sam...</td>\n",
       "      <td>...</td>\n",
       "      <td>0.417237</td>\n",
       "      <td>0.373318</td>\n",
       "      <td>0.448524</td>\n",
       "      <td>0.366558</td>\n",
       "      <td>0.430033</td>\n",
       "      <td>0.356732</td>\n",
       "      <td>0.468901</td>\n",
       "      <td>0.406514</td>\n",
       "      <td>0.035288</td>\n",
       "      <td>241</td>\n",
       "    </tr>\n",
       "    <tr>\n",
       "      <th>4</th>\n",
       "      <td>0.007600</td>\n",
       "      <td>0.000830</td>\n",
       "      <td>0.002750</td>\n",
       "      <td>0.000642</td>\n",
       "      <td>gini</td>\n",
       "      <td>2</td>\n",
       "      <td>3</td>\n",
       "      <td>2</td>\n",
       "      <td>best</td>\n",
       "      <td>{'criterion': 'gini', 'max_depth': 2, 'min_sam...</td>\n",
       "      <td>...</td>\n",
       "      <td>0.417237</td>\n",
       "      <td>0.373318</td>\n",
       "      <td>0.448524</td>\n",
       "      <td>0.366558</td>\n",
       "      <td>0.430033</td>\n",
       "      <td>0.356732</td>\n",
       "      <td>0.468901</td>\n",
       "      <td>0.406514</td>\n",
       "      <td>0.035288</td>\n",
       "      <td>241</td>\n",
       "    </tr>\n",
       "    <tr>\n",
       "      <th>...</th>\n",
       "      <td>...</td>\n",
       "      <td>...</td>\n",
       "      <td>...</td>\n",
       "      <td>...</td>\n",
       "      <td>...</td>\n",
       "      <td>...</td>\n",
       "      <td>...</td>\n",
       "      <td>...</td>\n",
       "      <td>...</td>\n",
       "      <td>...</td>\n",
       "      <td>...</td>\n",
       "      <td>...</td>\n",
       "      <td>...</td>\n",
       "      <td>...</td>\n",
       "      <td>...</td>\n",
       "      <td>...</td>\n",
       "      <td>...</td>\n",
       "      <td>...</td>\n",
       "      <td>...</td>\n",
       "      <td>...</td>\n",
       "      <td>...</td>\n",
       "    </tr>\n",
       "    <tr>\n",
       "      <th>283</th>\n",
       "      <td>0.036900</td>\n",
       "      <td>0.001640</td>\n",
       "      <td>0.002551</td>\n",
       "      <td>0.000149</td>\n",
       "      <td>entropy</td>\n",
       "      <td>10</td>\n",
       "      <td>4</td>\n",
       "      <td>5</td>\n",
       "      <td>best</td>\n",
       "      <td>{'criterion': 'entropy', 'max_depth': 10, 'min...</td>\n",
       "      <td>...</td>\n",
       "      <td>0.480550</td>\n",
       "      <td>0.499503</td>\n",
       "      <td>0.503682</td>\n",
       "      <td>0.477054</td>\n",
       "      <td>0.493764</td>\n",
       "      <td>0.512650</td>\n",
       "      <td>0.495401</td>\n",
       "      <td>0.503073</td>\n",
       "      <td>0.018639</td>\n",
       "      <td>40</td>\n",
       "    </tr>\n",
       "    <tr>\n",
       "      <th>284</th>\n",
       "      <td>0.035900</td>\n",
       "      <td>0.002212</td>\n",
       "      <td>0.002650</td>\n",
       "      <td>0.000320</td>\n",
       "      <td>entropy</td>\n",
       "      <td>10</td>\n",
       "      <td>5</td>\n",
       "      <td>2</td>\n",
       "      <td>best</td>\n",
       "      <td>{'criterion': 'entropy', 'max_depth': 10, 'min...</td>\n",
       "      <td>...</td>\n",
       "      <td>0.475929</td>\n",
       "      <td>0.533403</td>\n",
       "      <td>0.512605</td>\n",
       "      <td>0.463237</td>\n",
       "      <td>0.474067</td>\n",
       "      <td>0.519547</td>\n",
       "      <td>0.496993</td>\n",
       "      <td>0.497578</td>\n",
       "      <td>0.027781</td>\n",
       "      <td>60</td>\n",
       "    </tr>\n",
       "    <tr>\n",
       "      <th>285</th>\n",
       "      <td>0.035650</td>\n",
       "      <td>0.002169</td>\n",
       "      <td>0.002651</td>\n",
       "      <td>0.000229</td>\n",
       "      <td>entropy</td>\n",
       "      <td>10</td>\n",
       "      <td>5</td>\n",
       "      <td>3</td>\n",
       "      <td>best</td>\n",
       "      <td>{'criterion': 'entropy', 'max_depth': 10, 'min...</td>\n",
       "      <td>...</td>\n",
       "      <td>0.475948</td>\n",
       "      <td>0.527267</td>\n",
       "      <td>0.512605</td>\n",
       "      <td>0.455879</td>\n",
       "      <td>0.474333</td>\n",
       "      <td>0.510079</td>\n",
       "      <td>0.503550</td>\n",
       "      <td>0.493314</td>\n",
       "      <td>0.023596</td>\n",
       "      <td>79</td>\n",
       "    </tr>\n",
       "    <tr>\n",
       "      <th>286</th>\n",
       "      <td>0.035599</td>\n",
       "      <td>0.000943</td>\n",
       "      <td>0.002551</td>\n",
       "      <td>0.000269</td>\n",
       "      <td>entropy</td>\n",
       "      <td>10</td>\n",
       "      <td>5</td>\n",
       "      <td>4</td>\n",
       "      <td>best</td>\n",
       "      <td>{'criterion': 'entropy', 'max_depth': 10, 'min...</td>\n",
       "      <td>...</td>\n",
       "      <td>0.476051</td>\n",
       "      <td>0.536009</td>\n",
       "      <td>0.509836</td>\n",
       "      <td>0.460989</td>\n",
       "      <td>0.475644</td>\n",
       "      <td>0.502443</td>\n",
       "      <td>0.504005</td>\n",
       "      <td>0.495961</td>\n",
       "      <td>0.027481</td>\n",
       "      <td>63</td>\n",
       "    </tr>\n",
       "    <tr>\n",
       "      <th>287</th>\n",
       "      <td>0.033349</td>\n",
       "      <td>0.001719</td>\n",
       "      <td>0.002200</td>\n",
       "      <td>0.000332</td>\n",
       "      <td>entropy</td>\n",
       "      <td>10</td>\n",
       "      <td>5</td>\n",
       "      <td>5</td>\n",
       "      <td>best</td>\n",
       "      <td>{'criterion': 'entropy', 'max_depth': 10, 'min...</td>\n",
       "      <td>...</td>\n",
       "      <td>0.475929</td>\n",
       "      <td>0.534404</td>\n",
       "      <td>0.512605</td>\n",
       "      <td>0.460032</td>\n",
       "      <td>0.474067</td>\n",
       "      <td>0.524410</td>\n",
       "      <td>0.501339</td>\n",
       "      <td>0.498711</td>\n",
       "      <td>0.028714</td>\n",
       "      <td>55</td>\n",
       "    </tr>\n",
       "  </tbody>\n",
       "</table>\n",
       "<p>288 rows × 23 columns</p>\n",
       "</div>"
      ],
      "text/plain": [
       "     mean_fit_time  std_fit_time  mean_score_time  std_score_time  \\\n",
       "0         0.006901      0.000700         0.002550        0.000270   \n",
       "1         0.007050      0.000472         0.002350        0.000320   \n",
       "2         0.007350      0.000503         0.002300        0.000333   \n",
       "3         0.007149      0.000503         0.002600        0.000373   \n",
       "4         0.007600      0.000830         0.002750        0.000642   \n",
       "..             ...           ...              ...             ...   \n",
       "283       0.036900      0.001640         0.002551        0.000149   \n",
       "284       0.035900      0.002212         0.002650        0.000320   \n",
       "285       0.035650      0.002169         0.002651        0.000229   \n",
       "286       0.035599      0.000943         0.002551        0.000269   \n",
       "287       0.033349      0.001719         0.002200        0.000332   \n",
       "\n",
       "    param_criterion param_max_depth param_min_samples_leaf  \\\n",
       "0              gini               2                      2   \n",
       "1              gini               2                      2   \n",
       "2              gini               2                      2   \n",
       "3              gini               2                      2   \n",
       "4              gini               2                      3   \n",
       "..              ...             ...                    ...   \n",
       "283         entropy              10                      4   \n",
       "284         entropy              10                      5   \n",
       "285         entropy              10                      5   \n",
       "286         entropy              10                      5   \n",
       "287         entropy              10                      5   \n",
       "\n",
       "    param_min_samples_split param_splitter  \\\n",
       "0                         2           best   \n",
       "1                         3           best   \n",
       "2                         4           best   \n",
       "3                         5           best   \n",
       "4                         2           best   \n",
       "..                      ...            ...   \n",
       "283                       5           best   \n",
       "284                       2           best   \n",
       "285                       3           best   \n",
       "286                       4           best   \n",
       "287                       5           best   \n",
       "\n",
       "                                                params  ...  \\\n",
       "0    {'criterion': 'gini', 'max_depth': 2, 'min_sam...  ...   \n",
       "1    {'criterion': 'gini', 'max_depth': 2, 'min_sam...  ...   \n",
       "2    {'criterion': 'gini', 'max_depth': 2, 'min_sam...  ...   \n",
       "3    {'criterion': 'gini', 'max_depth': 2, 'min_sam...  ...   \n",
       "4    {'criterion': 'gini', 'max_depth': 2, 'min_sam...  ...   \n",
       "..                                                 ...  ...   \n",
       "283  {'criterion': 'entropy', 'max_depth': 10, 'min...  ...   \n",
       "284  {'criterion': 'entropy', 'max_depth': 10, 'min...  ...   \n",
       "285  {'criterion': 'entropy', 'max_depth': 10, 'min...  ...   \n",
       "286  {'criterion': 'entropy', 'max_depth': 10, 'min...  ...   \n",
       "287  {'criterion': 'entropy', 'max_depth': 10, 'min...  ...   \n",
       "\n",
       "     split3_test_score  split4_test_score  split5_test_score  \\\n",
       "0             0.417237           0.373318           0.448524   \n",
       "1             0.417237           0.373318           0.448524   \n",
       "2             0.417237           0.373318           0.448524   \n",
       "3             0.417237           0.373318           0.448524   \n",
       "4             0.417237           0.373318           0.448524   \n",
       "..                 ...                ...                ...   \n",
       "283           0.480550           0.499503           0.503682   \n",
       "284           0.475929           0.533403           0.512605   \n",
       "285           0.475948           0.527267           0.512605   \n",
       "286           0.476051           0.536009           0.509836   \n",
       "287           0.475929           0.534404           0.512605   \n",
       "\n",
       "     split6_test_score  split7_test_score  split8_test_score  \\\n",
       "0             0.366558           0.430033           0.356732   \n",
       "1             0.366558           0.430033           0.356732   \n",
       "2             0.366558           0.430033           0.356732   \n",
       "3             0.366558           0.430033           0.356732   \n",
       "4             0.366558           0.430033           0.356732   \n",
       "..                 ...                ...                ...   \n",
       "283           0.477054           0.493764           0.512650   \n",
       "284           0.463237           0.474067           0.519547   \n",
       "285           0.455879           0.474333           0.510079   \n",
       "286           0.460989           0.475644           0.502443   \n",
       "287           0.460032           0.474067           0.524410   \n",
       "\n",
       "     split9_test_score  mean_test_score  std_test_score  rank_test_score  \n",
       "0             0.468901         0.406514        0.035288              241  \n",
       "1             0.468901         0.406514        0.035288              241  \n",
       "2             0.468901         0.406514        0.035288              241  \n",
       "3             0.468901         0.406514        0.035288              241  \n",
       "4             0.468901         0.406514        0.035288              241  \n",
       "..                 ...              ...             ...              ...  \n",
       "283           0.495401         0.503073        0.018639               40  \n",
       "284           0.496993         0.497578        0.027781               60  \n",
       "285           0.503550         0.493314        0.023596               79  \n",
       "286           0.504005         0.495961        0.027481               63  \n",
       "287           0.501339         0.498711        0.028714               55  \n",
       "\n",
       "[288 rows x 23 columns]"
      ]
     },
     "metadata": {},
     "output_type": "display_data"
    },
    {
     "name": "stdout",
     "output_type": "stream",
     "text": [
      "best score is 0.5147227122418985 with params {'criterion': 'gini', 'max_depth': 10, 'min_samples_leaf': 2, 'min_samples_split': 3, 'splitter': 'best'}\n"
     ]
    }
   ],
   "source": [
    "parameters = {\n",
    "    'criterion':['gini', 'entropy'], \n",
    "    'splitter':['best'],\n",
    "    'max_depth':[ 2, 3, 4, 5, 6, 7, 8, 9, 10],\n",
    "    'min_samples_split' :[2,3,4,5],\n",
    "    'min_samples_leaf':[2,3,4,5]\n",
    "}\n",
    "\n",
    "\n",
    "# define the folds for the cross validation\n",
    "stratified_10_fold_cv = StratifiedKFold(n_splits=10, shuffle=True, random_state=42)\n",
    "\n",
    "# create the grid search estimator\n",
    "grid_search_estimator = GridSearchCV(decision_tree, parameters, scoring='f1_macro', cv=stratified_10_fold_cv, n_jobs = -1, verbose = 2, return_train_score=False)\n",
    "\n",
    "# Run the grid search\n",
    "grid_search_estimator.fit(data_train, target_train)\n",
    "\n",
    "# Print the results of all hyper-parameter combinations\n",
    "results = pd.DataFrame(grid_search_estimator.cv_results_)\n",
    "display(results)\n",
    "\n",
    "print(\"best score is {} with params {}\".format(grid_search_estimator.best_score_, grid_search_estimator.best_params_))"
   ]
  },
  {
   "cell_type": "markdown",
   "metadata": {},
   "source": [
    "### Tuned Model"
   ]
  },
  {
   "cell_type": "code",
   "execution_count": 73,
   "metadata": {
    "scrolled": false
   },
   "outputs": [
    {
     "name": "stdout",
     "output_type": "stream",
     "text": [
      "Makro F1-Score Train Data:\n"
     ]
    },
    {
     "data": {
      "text/plain": [
       "0.7155107678253078"
      ]
     },
     "metadata": {},
     "output_type": "display_data"
    },
    {
     "name": "stdout",
     "output_type": "stream",
     "text": [
      "Makro Precision Train Data:\n"
     ]
    },
    {
     "data": {
      "text/plain": [
       "0.8136472169094661"
      ]
     },
     "metadata": {},
     "output_type": "display_data"
    },
    {
     "name": "stdout",
     "output_type": "stream",
     "text": [
      "Makro Recall Train Data:\n"
     ]
    },
    {
     "data": {
      "text/plain": [
       "0.6678765885456136"
      ]
     },
     "metadata": {},
     "output_type": "display_data"
    },
    {
     "name": "stdout",
     "output_type": "stream",
     "text": [
      "Makro F1-Score Test Data:\n"
     ]
    },
    {
     "data": {
      "text/plain": [
       "0.5576395883262112"
      ]
     },
     "metadata": {},
     "output_type": "display_data"
    },
    {
     "name": "stdout",
     "output_type": "stream",
     "text": [
      "Makro Precision Test Data:\n"
     ]
    },
    {
     "data": {
      "text/plain": [
       "0.5885210950918084"
      ]
     },
     "metadata": {},
     "output_type": "display_data"
    },
    {
     "name": "stdout",
     "output_type": "stream",
     "text": [
      "Makro Recall Test Data:\n"
     ]
    },
    {
     "data": {
      "text/plain": [
       "0.5399985685228865"
      ]
     },
     "metadata": {},
     "output_type": "display_data"
    }
   ],
   "source": [
    "dt_tuned = DecisionTreeClassifier(criterion=\"gini\", max_depth=10, min_samples_leaf=2, min_samples_split=3, splitter=\"best\")\n",
    "dt_tuned.fit(data_train, target_train)\n",
    "predictions_dt_tuned_train = dt_tuned.predict(data_train)\n",
    "predictions_dt_tuned_test = dt_tuned.predict(data_test)\n",
    "\n",
    "get_scores_train(target_train, predictions_dt_tuned_train)\n",
    "get_scores_test(target_test, predictions_dt_tuned_test)"
   ]
  },
  {
   "cell_type": "markdown",
   "metadata": {},
   "source": [
    "#### Oversampling without \"type\""
   ]
  },
  {
   "cell_type": "code",
   "execution_count": 74,
   "metadata": {
    "scrolled": true
   },
   "outputs": [
    {
     "name": "stdout",
     "output_type": "stream",
     "text": [
      "Original Train Dataset:\n",
      "Length of data_train:\n"
     ]
    },
    {
     "data": {
      "text/plain": [
       "5197"
      ]
     },
     "metadata": {},
     "output_type": "display_data"
    },
    {
     "name": "stdout",
     "output_type": "stream",
     "text": [
      "Length of target_train:\n"
     ]
    },
    {
     "data": {
      "text/plain": [
       "5197"
      ]
     },
     "metadata": {},
     "output_type": "display_data"
    },
    {
     "name": "stdout",
     "output_type": "stream",
     "text": [
      "Class Distribution: Counter({1.0: 3979, 2.0: 1021, 0.0: 197})\n",
      "\n",
      "Balanced Train Dataset:\n",
      "Length of data_train:\n"
     ]
    },
    {
     "data": {
      "text/plain": [
       "11937"
      ]
     },
     "metadata": {},
     "output_type": "display_data"
    },
    {
     "name": "stdout",
     "output_type": "stream",
     "text": [
      "Length of target_train:\n"
     ]
    },
    {
     "data": {
      "text/plain": [
       "11937"
      ]
     },
     "metadata": {},
     "output_type": "display_data"
    },
    {
     "name": "stdout",
     "output_type": "stream",
     "text": [
      "Class Distribution: Counter({1.0: 3979, 2.0: 3979, 0.0: 3979})\n"
     ]
    }
   ],
   "source": [
    "# Print the Class Distribution before SMOTE\n",
    "print('Original Train Dataset:')\n",
    "print('Length of data_train:')\n",
    "display(len(data_train.index))\n",
    "print('Length of target_train:')\n",
    "display(target_train.size)\n",
    "print('Class Distribution: %s' % Counter(target_train))\n",
    "\n",
    "data_train_smt = data_train.copy() \n",
    "target_train_smt = target_train.copy()\n",
    "\n",
    "smt = SMOTE(random_state=42)\n",
    "data_train_oversampled, target_train_oversampled = smt.fit_resample(data_train_smt, target_train_smt)\n",
    "\n",
    "# Print the new Class Distribution after SMOTE\n",
    "print('\\nBalanced Train Dataset:')\n",
    "print('Length of data_train:')\n",
    "display(len(data_train_oversampled.index))\n",
    "print('Length of target_train:')\n",
    "display(target_train_oversampled.size)\n",
    "print('Class Distribution: %s' % Counter(target_train_oversampled))"
   ]
  },
  {
   "cell_type": "markdown",
   "metadata": {},
   "source": [
    "#### Model with default parameters + oversampling"
   ]
  },
  {
   "cell_type": "code",
   "execution_count": 75,
   "metadata": {},
   "outputs": [
    {
     "name": "stdout",
     "output_type": "stream",
     "text": [
      "Makro F1-Score Train Data:\n"
     ]
    },
    {
     "data": {
      "text/plain": [
       "1.0"
      ]
     },
     "metadata": {},
     "output_type": "display_data"
    },
    {
     "name": "stdout",
     "output_type": "stream",
     "text": [
      "Makro Precision Train Data:\n"
     ]
    },
    {
     "data": {
      "text/plain": [
       "1.0"
      ]
     },
     "metadata": {},
     "output_type": "display_data"
    },
    {
     "name": "stdout",
     "output_type": "stream",
     "text": [
      "Makro Recall Train Data:\n"
     ]
    },
    {
     "data": {
      "text/plain": [
       "1.0"
      ]
     },
     "metadata": {},
     "output_type": "display_data"
    },
    {
     "name": "stdout",
     "output_type": "stream",
     "text": [
      "Makro F1-Score Test Data:\n"
     ]
    },
    {
     "data": {
      "text/plain": [
       "0.5603331598653211"
      ]
     },
     "metadata": {},
     "output_type": "display_data"
    },
    {
     "name": "stdout",
     "output_type": "stream",
     "text": [
      "Makro Precision Test Data:\n"
     ]
    },
    {
     "data": {
      "text/plain": [
       "0.5399565599184616"
      ]
     },
     "metadata": {},
     "output_type": "display_data"
    },
    {
     "name": "stdout",
     "output_type": "stream",
     "text": [
      "Makro Recall Test Data:\n"
     ]
    },
    {
     "data": {
      "text/plain": [
       "0.6193471876816053"
      ]
     },
     "metadata": {},
     "output_type": "display_data"
    }
   ],
   "source": [
    "decision_tree_oversampled = DecisionTreeClassifier()\n",
    "decision_tree_oversampled.fit(data_train_oversampled, target_train_oversampled)\n",
    "predictions_train_dt = decision_tree_oversampled.predict(data_train_oversampled)\n",
    "predictions_test_dt = decision_tree_oversampled.predict(data_test)\n",
    "\n",
    "get_scores_train(target_train_oversampled, predictions_train_dt)\n",
    "get_scores_test(target_test, predictions_test_dt)"
   ]
  },
  {
   "cell_type": "markdown",
   "metadata": {},
   "source": [
    "### Hyperparameter tuning + oversampled"
   ]
  },
  {
   "cell_type": "code",
   "execution_count": 76,
   "metadata": {
    "scrolled": false
   },
   "outputs": [
    {
     "name": "stdout",
     "output_type": "stream",
     "text": [
      "Fitting 10 folds for each of 288 candidates, totalling 2880 fits\n"
     ]
    },
    {
     "data": {
      "text/html": [
       "<div>\n",
       "<style scoped>\n",
       "    .dataframe tbody tr th:only-of-type {\n",
       "        vertical-align: middle;\n",
       "    }\n",
       "\n",
       "    .dataframe tbody tr th {\n",
       "        vertical-align: top;\n",
       "    }\n",
       "\n",
       "    .dataframe thead th {\n",
       "        text-align: right;\n",
       "    }\n",
       "</style>\n",
       "<table border=\"1\" class=\"dataframe\">\n",
       "  <thead>\n",
       "    <tr style=\"text-align: right;\">\n",
       "      <th></th>\n",
       "      <th>mean_fit_time</th>\n",
       "      <th>std_fit_time</th>\n",
       "      <th>mean_score_time</th>\n",
       "      <th>std_score_time</th>\n",
       "      <th>param_criterion</th>\n",
       "      <th>param_max_depth</th>\n",
       "      <th>param_min_samples_leaf</th>\n",
       "      <th>param_min_samples_split</th>\n",
       "      <th>param_splitter</th>\n",
       "      <th>params</th>\n",
       "      <th>...</th>\n",
       "      <th>split3_test_score</th>\n",
       "      <th>split4_test_score</th>\n",
       "      <th>split5_test_score</th>\n",
       "      <th>split6_test_score</th>\n",
       "      <th>split7_test_score</th>\n",
       "      <th>split8_test_score</th>\n",
       "      <th>split9_test_score</th>\n",
       "      <th>mean_test_score</th>\n",
       "      <th>std_test_score</th>\n",
       "      <th>rank_test_score</th>\n",
       "    </tr>\n",
       "  </thead>\n",
       "  <tbody>\n",
       "    <tr>\n",
       "      <th>0</th>\n",
       "      <td>0.023599</td>\n",
       "      <td>0.000800</td>\n",
       "      <td>0.002550</td>\n",
       "      <td>0.000150</td>\n",
       "      <td>gini</td>\n",
       "      <td>2</td>\n",
       "      <td>2</td>\n",
       "      <td>2</td>\n",
       "      <td>best</td>\n",
       "      <td>{'criterion': 'gini', 'max_depth': 2, 'min_sam...</td>\n",
       "      <td>...</td>\n",
       "      <td>0.573806</td>\n",
       "      <td>0.554625</td>\n",
       "      <td>0.586319</td>\n",
       "      <td>0.573368</td>\n",
       "      <td>0.569696</td>\n",
       "      <td>0.557953</td>\n",
       "      <td>0.565024</td>\n",
       "      <td>0.571363</td>\n",
       "      <td>0.010220</td>\n",
       "      <td>257</td>\n",
       "    </tr>\n",
       "    <tr>\n",
       "      <th>1</th>\n",
       "      <td>0.023199</td>\n",
       "      <td>0.001189</td>\n",
       "      <td>0.002400</td>\n",
       "      <td>0.000436</td>\n",
       "      <td>gini</td>\n",
       "      <td>2</td>\n",
       "      <td>2</td>\n",
       "      <td>3</td>\n",
       "      <td>best</td>\n",
       "      <td>{'criterion': 'gini', 'max_depth': 2, 'min_sam...</td>\n",
       "      <td>...</td>\n",
       "      <td>0.573806</td>\n",
       "      <td>0.554625</td>\n",
       "      <td>0.586319</td>\n",
       "      <td>0.573368</td>\n",
       "      <td>0.569696</td>\n",
       "      <td>0.557953</td>\n",
       "      <td>0.565024</td>\n",
       "      <td>0.571363</td>\n",
       "      <td>0.010220</td>\n",
       "      <td>257</td>\n",
       "    </tr>\n",
       "    <tr>\n",
       "      <th>2</th>\n",
       "      <td>0.024749</td>\n",
       "      <td>0.000981</td>\n",
       "      <td>0.002700</td>\n",
       "      <td>0.000245</td>\n",
       "      <td>gini</td>\n",
       "      <td>2</td>\n",
       "      <td>2</td>\n",
       "      <td>4</td>\n",
       "      <td>best</td>\n",
       "      <td>{'criterion': 'gini', 'max_depth': 2, 'min_sam...</td>\n",
       "      <td>...</td>\n",
       "      <td>0.573806</td>\n",
       "      <td>0.554625</td>\n",
       "      <td>0.586319</td>\n",
       "      <td>0.573368</td>\n",
       "      <td>0.569696</td>\n",
       "      <td>0.557953</td>\n",
       "      <td>0.565024</td>\n",
       "      <td>0.571363</td>\n",
       "      <td>0.010220</td>\n",
       "      <td>257</td>\n",
       "    </tr>\n",
       "    <tr>\n",
       "      <th>3</th>\n",
       "      <td>0.025999</td>\n",
       "      <td>0.002291</td>\n",
       "      <td>0.002900</td>\n",
       "      <td>0.000436</td>\n",
       "      <td>gini</td>\n",
       "      <td>2</td>\n",
       "      <td>2</td>\n",
       "      <td>5</td>\n",
       "      <td>best</td>\n",
       "      <td>{'criterion': 'gini', 'max_depth': 2, 'min_sam...</td>\n",
       "      <td>...</td>\n",
       "      <td>0.573806</td>\n",
       "      <td>0.554625</td>\n",
       "      <td>0.586319</td>\n",
       "      <td>0.573368</td>\n",
       "      <td>0.569696</td>\n",
       "      <td>0.557953</td>\n",
       "      <td>0.565024</td>\n",
       "      <td>0.571363</td>\n",
       "      <td>0.010220</td>\n",
       "      <td>257</td>\n",
       "    </tr>\n",
       "    <tr>\n",
       "      <th>4</th>\n",
       "      <td>0.026849</td>\n",
       "      <td>0.002874</td>\n",
       "      <td>0.002850</td>\n",
       "      <td>0.000390</td>\n",
       "      <td>gini</td>\n",
       "      <td>2</td>\n",
       "      <td>3</td>\n",
       "      <td>2</td>\n",
       "      <td>best</td>\n",
       "      <td>{'criterion': 'gini', 'max_depth': 2, 'min_sam...</td>\n",
       "      <td>...</td>\n",
       "      <td>0.573806</td>\n",
       "      <td>0.554625</td>\n",
       "      <td>0.586319</td>\n",
       "      <td>0.573368</td>\n",
       "      <td>0.569696</td>\n",
       "      <td>0.557953</td>\n",
       "      <td>0.565024</td>\n",
       "      <td>0.571363</td>\n",
       "      <td>0.010220</td>\n",
       "      <td>257</td>\n",
       "    </tr>\n",
       "    <tr>\n",
       "      <th>...</th>\n",
       "      <td>...</td>\n",
       "      <td>...</td>\n",
       "      <td>...</td>\n",
       "      <td>...</td>\n",
       "      <td>...</td>\n",
       "      <td>...</td>\n",
       "      <td>...</td>\n",
       "      <td>...</td>\n",
       "      <td>...</td>\n",
       "      <td>...</td>\n",
       "      <td>...</td>\n",
       "      <td>...</td>\n",
       "      <td>...</td>\n",
       "      <td>...</td>\n",
       "      <td>...</td>\n",
       "      <td>...</td>\n",
       "      <td>...</td>\n",
       "      <td>...</td>\n",
       "      <td>...</td>\n",
       "      <td>...</td>\n",
       "      <td>...</td>\n",
       "    </tr>\n",
       "    <tr>\n",
       "      <th>283</th>\n",
       "      <td>0.195250</td>\n",
       "      <td>0.012925</td>\n",
       "      <td>0.002800</td>\n",
       "      <td>0.000332</td>\n",
       "      <td>entropy</td>\n",
       "      <td>10</td>\n",
       "      <td>4</td>\n",
       "      <td>5</td>\n",
       "      <td>best</td>\n",
       "      <td>{'criterion': 'entropy', 'max_depth': 10, 'min...</td>\n",
       "      <td>...</td>\n",
       "      <td>0.769228</td>\n",
       "      <td>0.764750</td>\n",
       "      <td>0.801862</td>\n",
       "      <td>0.783104</td>\n",
       "      <td>0.747408</td>\n",
       "      <td>0.763772</td>\n",
       "      <td>0.786882</td>\n",
       "      <td>0.776809</td>\n",
       "      <td>0.015303</td>\n",
       "      <td>37</td>\n",
       "    </tr>\n",
       "    <tr>\n",
       "      <th>284</th>\n",
       "      <td>0.193850</td>\n",
       "      <td>0.019919</td>\n",
       "      <td>0.002900</td>\n",
       "      <td>0.000299</td>\n",
       "      <td>entropy</td>\n",
       "      <td>10</td>\n",
       "      <td>5</td>\n",
       "      <td>2</td>\n",
       "      <td>best</td>\n",
       "      <td>{'criterion': 'entropy', 'max_depth': 10, 'min...</td>\n",
       "      <td>...</td>\n",
       "      <td>0.758031</td>\n",
       "      <td>0.770329</td>\n",
       "      <td>0.797469</td>\n",
       "      <td>0.785922</td>\n",
       "      <td>0.751359</td>\n",
       "      <td>0.763485</td>\n",
       "      <td>0.790067</td>\n",
       "      <td>0.776393</td>\n",
       "      <td>0.015127</td>\n",
       "      <td>42</td>\n",
       "    </tr>\n",
       "    <tr>\n",
       "      <th>285</th>\n",
       "      <td>0.186199</td>\n",
       "      <td>0.012392</td>\n",
       "      <td>0.002800</td>\n",
       "      <td>0.000246</td>\n",
       "      <td>entropy</td>\n",
       "      <td>10</td>\n",
       "      <td>5</td>\n",
       "      <td>3</td>\n",
       "      <td>best</td>\n",
       "      <td>{'criterion': 'entropy', 'max_depth': 10, 'min...</td>\n",
       "      <td>...</td>\n",
       "      <td>0.759301</td>\n",
       "      <td>0.766606</td>\n",
       "      <td>0.795495</td>\n",
       "      <td>0.784964</td>\n",
       "      <td>0.753293</td>\n",
       "      <td>0.765095</td>\n",
       "      <td>0.789158</td>\n",
       "      <td>0.776476</td>\n",
       "      <td>0.014704</td>\n",
       "      <td>41</td>\n",
       "    </tr>\n",
       "    <tr>\n",
       "      <th>286</th>\n",
       "      <td>0.177200</td>\n",
       "      <td>0.005644</td>\n",
       "      <td>0.002850</td>\n",
       "      <td>0.000229</td>\n",
       "      <td>entropy</td>\n",
       "      <td>10</td>\n",
       "      <td>5</td>\n",
       "      <td>4</td>\n",
       "      <td>best</td>\n",
       "      <td>{'criterion': 'entropy', 'max_depth': 10, 'min...</td>\n",
       "      <td>...</td>\n",
       "      <td>0.762057</td>\n",
       "      <td>0.768805</td>\n",
       "      <td>0.797323</td>\n",
       "      <td>0.786092</td>\n",
       "      <td>0.753053</td>\n",
       "      <td>0.760233</td>\n",
       "      <td>0.790067</td>\n",
       "      <td>0.776756</td>\n",
       "      <td>0.014942</td>\n",
       "      <td>38</td>\n",
       "    </tr>\n",
       "    <tr>\n",
       "      <th>287</th>\n",
       "      <td>0.157050</td>\n",
       "      <td>0.015110</td>\n",
       "      <td>0.002101</td>\n",
       "      <td>0.000200</td>\n",
       "      <td>entropy</td>\n",
       "      <td>10</td>\n",
       "      <td>5</td>\n",
       "      <td>5</td>\n",
       "      <td>best</td>\n",
       "      <td>{'criterion': 'entropy', 'max_depth': 10, 'min...</td>\n",
       "      <td>...</td>\n",
       "      <td>0.758082</td>\n",
       "      <td>0.769160</td>\n",
       "      <td>0.793648</td>\n",
       "      <td>0.786894</td>\n",
       "      <td>0.752358</td>\n",
       "      <td>0.762734</td>\n",
       "      <td>0.789158</td>\n",
       "      <td>0.776268</td>\n",
       "      <td>0.014932</td>\n",
       "      <td>43</td>\n",
       "    </tr>\n",
       "  </tbody>\n",
       "</table>\n",
       "<p>288 rows × 23 columns</p>\n",
       "</div>"
      ],
      "text/plain": [
       "     mean_fit_time  std_fit_time  mean_score_time  std_score_time  \\\n",
       "0         0.023599      0.000800         0.002550        0.000150   \n",
       "1         0.023199      0.001189         0.002400        0.000436   \n",
       "2         0.024749      0.000981         0.002700        0.000245   \n",
       "3         0.025999      0.002291         0.002900        0.000436   \n",
       "4         0.026849      0.002874         0.002850        0.000390   \n",
       "..             ...           ...              ...             ...   \n",
       "283       0.195250      0.012925         0.002800        0.000332   \n",
       "284       0.193850      0.019919         0.002900        0.000299   \n",
       "285       0.186199      0.012392         0.002800        0.000246   \n",
       "286       0.177200      0.005644         0.002850        0.000229   \n",
       "287       0.157050      0.015110         0.002101        0.000200   \n",
       "\n",
       "    param_criterion param_max_depth param_min_samples_leaf  \\\n",
       "0              gini               2                      2   \n",
       "1              gini               2                      2   \n",
       "2              gini               2                      2   \n",
       "3              gini               2                      2   \n",
       "4              gini               2                      3   \n",
       "..              ...             ...                    ...   \n",
       "283         entropy              10                      4   \n",
       "284         entropy              10                      5   \n",
       "285         entropy              10                      5   \n",
       "286         entropy              10                      5   \n",
       "287         entropy              10                      5   \n",
       "\n",
       "    param_min_samples_split param_splitter  \\\n",
       "0                         2           best   \n",
       "1                         3           best   \n",
       "2                         4           best   \n",
       "3                         5           best   \n",
       "4                         2           best   \n",
       "..                      ...            ...   \n",
       "283                       5           best   \n",
       "284                       2           best   \n",
       "285                       3           best   \n",
       "286                       4           best   \n",
       "287                       5           best   \n",
       "\n",
       "                                                params  ...  \\\n",
       "0    {'criterion': 'gini', 'max_depth': 2, 'min_sam...  ...   \n",
       "1    {'criterion': 'gini', 'max_depth': 2, 'min_sam...  ...   \n",
       "2    {'criterion': 'gini', 'max_depth': 2, 'min_sam...  ...   \n",
       "3    {'criterion': 'gini', 'max_depth': 2, 'min_sam...  ...   \n",
       "4    {'criterion': 'gini', 'max_depth': 2, 'min_sam...  ...   \n",
       "..                                                 ...  ...   \n",
       "283  {'criterion': 'entropy', 'max_depth': 10, 'min...  ...   \n",
       "284  {'criterion': 'entropy', 'max_depth': 10, 'min...  ...   \n",
       "285  {'criterion': 'entropy', 'max_depth': 10, 'min...  ...   \n",
       "286  {'criterion': 'entropy', 'max_depth': 10, 'min...  ...   \n",
       "287  {'criterion': 'entropy', 'max_depth': 10, 'min...  ...   \n",
       "\n",
       "     split3_test_score  split4_test_score  split5_test_score  \\\n",
       "0             0.573806           0.554625           0.586319   \n",
       "1             0.573806           0.554625           0.586319   \n",
       "2             0.573806           0.554625           0.586319   \n",
       "3             0.573806           0.554625           0.586319   \n",
       "4             0.573806           0.554625           0.586319   \n",
       "..                 ...                ...                ...   \n",
       "283           0.769228           0.764750           0.801862   \n",
       "284           0.758031           0.770329           0.797469   \n",
       "285           0.759301           0.766606           0.795495   \n",
       "286           0.762057           0.768805           0.797323   \n",
       "287           0.758082           0.769160           0.793648   \n",
       "\n",
       "     split6_test_score  split7_test_score  split8_test_score  \\\n",
       "0             0.573368           0.569696           0.557953   \n",
       "1             0.573368           0.569696           0.557953   \n",
       "2             0.573368           0.569696           0.557953   \n",
       "3             0.573368           0.569696           0.557953   \n",
       "4             0.573368           0.569696           0.557953   \n",
       "..                 ...                ...                ...   \n",
       "283           0.783104           0.747408           0.763772   \n",
       "284           0.785922           0.751359           0.763485   \n",
       "285           0.784964           0.753293           0.765095   \n",
       "286           0.786092           0.753053           0.760233   \n",
       "287           0.786894           0.752358           0.762734   \n",
       "\n",
       "     split9_test_score  mean_test_score  std_test_score  rank_test_score  \n",
       "0             0.565024         0.571363        0.010220              257  \n",
       "1             0.565024         0.571363        0.010220              257  \n",
       "2             0.565024         0.571363        0.010220              257  \n",
       "3             0.565024         0.571363        0.010220              257  \n",
       "4             0.565024         0.571363        0.010220              257  \n",
       "..                 ...              ...             ...              ...  \n",
       "283           0.786882         0.776809        0.015303               37  \n",
       "284           0.790067         0.776393        0.015127               42  \n",
       "285           0.789158         0.776476        0.014704               41  \n",
       "286           0.790067         0.776756        0.014942               38  \n",
       "287           0.789158         0.776268        0.014932               43  \n",
       "\n",
       "[288 rows x 23 columns]"
      ]
     },
     "metadata": {},
     "output_type": "display_data"
    },
    {
     "name": "stdout",
     "output_type": "stream",
     "text": [
      "best score is 0.8021990175357606 with params {'criterion': 'gini', 'max_depth': 10, 'min_samples_leaf': 2, 'min_samples_split': 5, 'splitter': 'best'}\n"
     ]
    }
   ],
   "source": [
    "parameters = {\n",
    "    'criterion':['gini', 'entropy'], \n",
    "    'splitter':['best'],\n",
    "    'max_depth':[ 2, 3, 4, 5, 6, 7, 8, 9, 10],\n",
    "    'min_samples_split' :[2,3,4,5],\n",
    "    'min_samples_leaf':[2,3,4,5]\n",
    "}\n",
    "\n",
    "\n",
    "# define the folds for the cross validation\n",
    "stratified_10_fold_cv = StratifiedKFold(n_splits=10, shuffle=True, random_state=42)\n",
    "\n",
    "# create the grid search estimator\n",
    "grid_search_estimator = GridSearchCV(decision_tree_oversampled, parameters, scoring='f1_macro', cv=stratified_10_fold_cv, n_jobs = -1, verbose = 2, return_train_score=False)\n",
    "\n",
    "# Run the grid search\n",
    "grid_search_estimator.fit(data_train_oversampled, target_train_oversampled)\n",
    "\n",
    "# Print the results of all hyper-parameter combinations\n",
    "results = pd.DataFrame(grid_search_estimator.cv_results_)\n",
    "display(results)\n",
    "\n",
    "print(\"best score is {} with params {}\".format(grid_search_estimator.best_score_, grid_search_estimator.best_params_))"
   ]
  },
  {
   "cell_type": "markdown",
   "metadata": {},
   "source": [
    "#### Model with tuned parameters + oversampling"
   ]
  },
  {
   "cell_type": "code",
   "execution_count": 77,
   "metadata": {},
   "outputs": [
    {
     "name": "stdout",
     "output_type": "stream",
     "text": [
      "Makro F1-Score Train Data:\n"
     ]
    },
    {
     "data": {
      "text/plain": [
       "0.8629090875508969"
      ]
     },
     "metadata": {},
     "output_type": "display_data"
    },
    {
     "name": "stdout",
     "output_type": "stream",
     "text": [
      "Makro Precision Train Data:\n"
     ]
    },
    {
     "data": {
      "text/plain": [
       "0.8692646542271154"
      ]
     },
     "metadata": {},
     "output_type": "display_data"
    },
    {
     "name": "stdout",
     "output_type": "stream",
     "text": [
      "Makro Recall Train Data:\n"
     ]
    },
    {
     "data": {
      "text/plain": [
       "0.866130518555751"
      ]
     },
     "metadata": {},
     "output_type": "display_data"
    },
    {
     "name": "stdout",
     "output_type": "stream",
     "text": [
      "Makro F1-Score Test Data:\n"
     ]
    },
    {
     "data": {
      "text/plain": [
       "0.48554620871069537"
      ]
     },
     "metadata": {},
     "output_type": "display_data"
    },
    {
     "name": "stdout",
     "output_type": "stream",
     "text": [
      "Makro Precision Test Data:\n"
     ]
    },
    {
     "data": {
      "text/plain": [
       "0.48571087751767617"
      ]
     },
     "metadata": {},
     "output_type": "display_data"
    },
    {
     "name": "stdout",
     "output_type": "stream",
     "text": [
      "Makro Recall Test Data:\n"
     ]
    },
    {
     "data": {
      "text/plain": [
       "0.605821010879226"
      ]
     },
     "metadata": {},
     "output_type": "display_data"
    }
   ],
   "source": [
    "dt_tuned_oversampled = DecisionTreeClassifier(criterion=\"gini\", max_depth=10, min_samples_leaf=2, min_samples_split=5, splitter=\"best\")\n",
    "dt_tuned_oversampled.fit(data_train_oversampled, target_train_oversampled)\n",
    "predictions_dt_tuned_train = dt_tuned_oversampled.predict(data_train_oversampled)\n",
    "predictions_dt_tuned_test = dt_tuned_oversampled.predict(data_test)\n",
    "\n",
    "get_scores_train(target_train_oversampled, predictions_dt_tuned_train)\n",
    "get_scores_test(target_test, predictions_dt_tuned_test)"
   ]
  },
  {
   "cell_type": "code",
   "execution_count": null,
   "metadata": {},
   "outputs": [],
   "source": []
  }
 ],
 "metadata": {
  "colab": {
   "name": "Wine_Quality_Prediction.ipynb",
   "provenance": []
  },
  "kernelspec": {
   "display_name": "Python 3",
   "language": "python",
   "name": "python3"
  },
  "language_info": {
   "codemirror_mode": {
    "name": "ipython",
    "version": 3
   },
   "file_extension": ".py",
   "mimetype": "text/x-python",
   "name": "python",
   "nbconvert_exporter": "python",
   "pygments_lexer": "ipython3",
   "version": "3.8.8"
  }
 },
 "nbformat": 4,
 "nbformat_minor": 1
}
